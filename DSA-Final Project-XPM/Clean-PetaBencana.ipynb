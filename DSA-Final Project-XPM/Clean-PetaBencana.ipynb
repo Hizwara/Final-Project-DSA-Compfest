{
 "cells": [
  {
   "cell_type": "code",
   "metadata": {
    "cell_id": "605af01a43fa4da484df18dfaef7ac32",
    "tags": [],
    "deepnote_to_be_reexecuted": false,
    "source_hash": "b54c3e75",
    "execution_start": 1661007837486,
    "execution_millis": 5624,
    "deepnote_cell_type": "code",
    "deepnote_cell_height": 414.765625
   },
   "source": "!pip install wordcloud==1.8.2.2",
   "execution_count": null,
   "outputs": [
    {
     "name": "stdout",
     "text": "Requirement already satisfied: wordcloud==1.8.2.2 in /root/venv/lib/python3.7/site-packages (1.8.2.2)\nRequirement already satisfied: numpy>=1.6.1 in /shared-libs/python3.7/py/lib/python3.7/site-packages (from wordcloud==1.8.2.2) (1.21.6)\nRequirement already satisfied: matplotlib in /shared-libs/python3.7/py/lib/python3.7/site-packages (from wordcloud==1.8.2.2) (3.5.2)\nRequirement already satisfied: pillow in /shared-libs/python3.7/py/lib/python3.7/site-packages (from wordcloud==1.8.2.2) (9.2.0)\nRequirement already satisfied: python-dateutil>=2.7 in /shared-libs/python3.7/py-core/lib/python3.7/site-packages (from matplotlib->wordcloud==1.8.2.2) (2.8.2)\nRequirement already satisfied: cycler>=0.10 in /shared-libs/python3.7/py/lib/python3.7/site-packages (from matplotlib->wordcloud==1.8.2.2) (0.11.0)\nRequirement already satisfied: pyparsing>=2.2.1 in /shared-libs/python3.7/py-core/lib/python3.7/site-packages (from matplotlib->wordcloud==1.8.2.2) (3.0.9)\nRequirement already satisfied: kiwisolver>=1.0.1 in /shared-libs/python3.7/py/lib/python3.7/site-packages (from matplotlib->wordcloud==1.8.2.2) (1.4.4)\nRequirement already satisfied: fonttools>=4.22.0 in /shared-libs/python3.7/py/lib/python3.7/site-packages (from matplotlib->wordcloud==1.8.2.2) (4.34.4)\nRequirement already satisfied: packaging>=20.0 in /shared-libs/python3.7/py-core/lib/python3.7/site-packages (from matplotlib->wordcloud==1.8.2.2) (21.3)\nRequirement already satisfied: typing-extensions in /shared-libs/python3.7/py-core/lib/python3.7/site-packages (from kiwisolver>=1.0.1->matplotlib->wordcloud==1.8.2.2) (4.3.0)\nRequirement already satisfied: six>=1.5 in /shared-libs/python3.7/py-core/lib/python3.7/site-packages (from python-dateutil>=2.7->matplotlib->wordcloud==1.8.2.2) (1.16.0)\n\u001b[33mWARNING: You are using pip version 22.0.4; however, version 22.2.2 is available.\nYou should consider upgrading via the '/root/venv/bin/python -m pip install --upgrade pip' command.\u001b[0m\u001b[33m\n\u001b[0m",
     "output_type": "stream"
    }
   ]
  },
  {
   "cell_type": "markdown",
   "source": "# Tahap Cleaning",
   "metadata": {
    "formattedRanges": [],
    "is_collapsed": false,
    "cell_id": "404c9551c5bf496594450cad8a7182a9",
    "tags": [],
    "deepnote_cell_type": "text-cell-h1"
   }
  },
  {
   "cell_type": "code",
   "metadata": {
    "id": "R8p2sgpFMgVi",
    "cell_id": "00002-fd212143-3566-4916-bd38-3bfa03e03a6a",
    "deepnote_to_be_reexecuted": false,
    "source_hash": "f7f4858d",
    "execution_start": 1661007842812,
    "execution_millis": 2184,
    "deepnote_cell_type": "code",
    "deepnote_cell_height": 238
   },
   "source": "# library needed \nimport sys\nimport pandas as pd\nimport seaborn as sns\nimport numpy as np\nimport datetime\nfrom scipy.integrate import odeint\nimport matplotlib.pyplot as plt\nfrom wordcloud import WordCloud\nfrom pandas.io.json import json_normalize",
   "execution_count": null,
   "outputs": []
  },
  {
   "cell_type": "code",
   "metadata": {
    "id": "hDE5F1HwMshr",
    "cell_id": "00004-ba0fddde-74de-42f9-a53e-c2846d32d832",
    "deepnote_to_be_reexecuted": false,
    "source_hash": "b9bc300b",
    "execution_start": 1661007844997,
    "execution_millis": 85,
    "deepnote_cell_type": "code",
    "deepnote_cell_height": 112
   },
   "source": "# Load the raw dataset\ndf  = pd.read_csv('PetaBencana_Dataset.csv')\nb= pd.read_csv(\"rekap-banjir-2020.csv\")",
   "execution_count": null,
   "outputs": []
  },
  {
   "cell_type": "code",
   "metadata": {
    "colab": {
     "base_uri": "https://localhost:8080/",
     "height": 577
    },
    "id": "kyvLL7RRMxUL",
    "executionInfo": {
     "status": "ok",
     "timestamp": 1660402244020,
     "user_tz": -420,
     "elapsed": 13,
     "user": {
      "displayName": "Hilmi G Hidayatullah",
      "userId": "16962578157773311425"
     }
    },
    "outputId": "2a2f6bad-881e-4540-f057-351b9dc7847a",
    "cell_id": "00005-6a07d4a5-82a1-44ed-82d4-82c627b79b4a",
    "deepnote_to_be_reexecuted": false,
    "source_hash": "c085b6ba",
    "execution_start": 1661007845212,
    "execution_millis": 785,
    "deepnote_cell_type": "code",
    "deepnote_cell_height": 406.65625
   },
   "source": "df.head()",
   "execution_count": null,
   "outputs": [
    {
     "output_type": "execute_result",
     "execution_count": 4,
     "data": {
      "application/vnd.deepnote.dataframe.v3+json": {
       "column_count": 22,
       "row_count": 5,
       "columns": [
        {
         "name": "pkey",
         "dtype": "int64",
         "stats": {
          "unique_count": 5,
          "nan_count": 0,
          "min": "94941",
          "max": "95064",
          "histogram": [
           {
            "bin_start": 94941,
            "bin_end": 94953.3,
            "count": 1
           },
           {
            "bin_start": 94953.3,
            "bin_end": 94965.6,
            "count": 0
           },
           {
            "bin_start": 94965.6,
            "bin_end": 94977.9,
            "count": 0
           },
           {
            "bin_start": 94977.9,
            "bin_end": 94990.2,
            "count": 0
           },
           {
            "bin_start": 94990.2,
            "bin_end": 95002.5,
            "count": 0
           },
           {
            "bin_start": 95002.5,
            "bin_end": 95014.8,
            "count": 0
           },
           {
            "bin_start": 95014.8,
            "bin_end": 95027.1,
            "count": 0
           },
           {
            "bin_start": 95027.1,
            "bin_end": 95039.4,
            "count": 0
           },
           {
            "bin_start": 95039.4,
            "bin_end": 95051.7,
            "count": 0
           },
           {
            "bin_start": 95051.7,
            "bin_end": 95064,
            "count": 4
           }
          ]
         }
        },
        {
         "name": "date",
         "dtype": "object",
         "stats": {
          "unique_count": 1,
          "nan_count": 0,
          "categories": [
           {
            "name": "01/01/2020",
            "count": 5
           }
          ]
         }
        },
        {
         "name": "time",
         "dtype": "object",
         "stats": {
          "unique_count": 5,
          "nan_count": 0,
          "categories": [
           {
            "name": "00:03:02",
            "count": 1
           },
           {
            "name": "00:43:02",
            "count": 1
           },
           {
            "name": "3 others",
            "count": 3
           }
          ]
         }
        },
        {
         "name": "source",
         "dtype": "object",
         "stats": {
          "unique_count": 1,
          "nan_count": 0,
          "categories": [
           {
            "name": "grasp",
            "count": 5
           }
          ]
         }
        },
        {
         "name": "status",
         "dtype": "object",
         "stats": {
          "unique_count": 1,
          "nan_count": 0,
          "categories": [
           {
            "name": "confirmed",
            "count": 5
           }
          ]
         }
        },
        {
         "name": "url",
         "dtype": "object",
         "stats": {
          "unique_count": 5,
          "nan_count": 0,
          "categories": [
           {
            "name": "2042596d-b551-4ef2-803d-1ee964cf2278",
            "count": 1
           },
           {
            "name": "5a0ad45f-7020-43b7-882f-672487ebc6d8",
            "count": 1
           },
           {
            "name": "3 others",
            "count": 3
           }
          ]
         }
        },
        {
         "name": "image_url",
         "dtype": "object",
         "stats": {
          "unique_count": 4,
          "nan_count": 1,
          "categories": [
           {
            "name": "https://images.petabencana.id/2042596d-b551-4ef2-803d-1ee964cf2278.jpg",
            "count": 1
           },
           {
            "name": "3 others",
            "count": 3
           },
           {
            "name": "Missing",
            "count": 1
           }
          ]
         }
        },
        {
         "name": "disaster_type",
         "dtype": "object",
         "stats": {
          "unique_count": 1,
          "nan_count": 0,
          "categories": [
           {
            "name": "flood",
            "count": 5
           }
          ]
         }
        },
        {
         "name": "report_dat",
         "dtype": "object",
         "stats": {
          "unique_count": 5,
          "nan_count": 0,
          "categories": [
           {
            "name": "{ \"report_type\": \"flood\", \"flood_depth\": 30 }",
            "count": 1
           },
           {
            "name": "{ \"points\": 1, \"flood_depth\": 80, \"report_type\": \"flood\" }",
            "count": 1
           },
           {
            "name": "3 others",
            "count": 3
           }
          ]
         }
        },
        {
         "name": "tags",
         "dtype": "object",
         "stats": {
          "unique_count": 4,
          "nan_count": 0,
          "categories": [
           {
            "name": "{ \"district_id\": null, \"local_area_id\": null, \"instance_region_code\": \"ID-JK\" }",
            "count": 2
           },
           {
            "name": "{ \"district_id\": \"3174\", \"local_area_id\": \"125\", \"instance_region_code\": \"ID-JK\" }",
            "count": 1
           },
           {
            "name": "2 others",
            "count": 2
           }
          ]
         }
        },
        {
         "name": "title",
         "dtype": "object",
         "stats": {
          "unique_count": 0,
          "nan_count": 5,
          "categories": [
           {
            "name": "Missing",
            "count": 5
           }
          ]
         }
        },
        {
         "name": "text",
         "dtype": "object",
         "stats": {
          "unique_count": 4,
          "nan_count": 1,
          "categories": [
           {
            "name": "Banjir di daerah taman ratu dan sekitarnya. Paling parah dari tahun2 sebelumnya",
            "count": 1
           },
           {
            "name": "3 others",
            "count": 3
           },
           {
            "name": "Missing",
            "count": 1
           }
          ]
         }
        },
        {
         "name": "ID_Desa",
         "dtype": "float64",
         "stats": {
          "unique_count": 5,
          "nan_count": 0,
          "min": "3172060004.0",
          "max": "3275061004.0",
          "histogram": [
           {
            "bin_start": 3172060004,
            "bin_end": 3182360104,
            "count": 3
           },
           {
            "bin_start": 3182360104,
            "bin_end": 3192660204,
            "count": 0
           },
           {
            "bin_start": 3192660204,
            "bin_end": 3202960304,
            "count": 0
           },
           {
            "bin_start": 3202960304,
            "bin_end": 3213260404,
            "count": 0
           },
           {
            "bin_start": 3213260404,
            "bin_end": 3223560504,
            "count": 1
           },
           {
            "bin_start": 3223560504,
            "bin_end": 3233860604,
            "count": 0
           },
           {
            "bin_start": 3233860604,
            "bin_end": 3244160704,
            "count": 0
           },
           {
            "bin_start": 3244160704,
            "bin_end": 3254460804,
            "count": 0
           },
           {
            "bin_start": 3254460804,
            "bin_end": 3264760904,
            "count": 0
           },
           {
            "bin_start": 3264760904,
            "bin_end": 3275061004,
            "count": 1
           }
          ]
         }
        },
        {
         "name": "ID_Kec",
         "dtype": "float64",
         "stats": {
          "unique_count": 5,
          "nan_count": 0,
          "min": "3172060.0",
          "max": "3275061.0",
          "histogram": [
           {
            "bin_start": 3172060,
            "bin_end": 3182360.1,
            "count": 3
           },
           {
            "bin_start": 3182360.1,
            "bin_end": 3192660.2,
            "count": 0
           },
           {
            "bin_start": 3192660.2,
            "bin_end": 3202960.3,
            "count": 0
           },
           {
            "bin_start": 3202960.3,
            "bin_end": 3213260.4,
            "count": 0
           },
           {
            "bin_start": 3213260.4,
            "bin_end": 3223560.5,
            "count": 1
           },
           {
            "bin_start": 3223560.5,
            "bin_end": 3233860.6,
            "count": 0
           },
           {
            "bin_start": 3233860.6,
            "bin_end": 3244160.7,
            "count": 0
           },
           {
            "bin_start": 3244160.7,
            "bin_end": 3254460.8,
            "count": 0
           },
           {
            "bin_start": 3254460.8,
            "bin_end": 3264760.9,
            "count": 0
           },
           {
            "bin_start": 3264760.9,
            "bin_end": 3275061,
            "count": 1
           }
          ]
         }
        },
        {
         "name": "ID_Kab",
         "dtype": "float64",
         "stats": {
          "unique_count": 5,
          "nan_count": 0,
          "min": "3172.0",
          "max": "3275.0",
          "histogram": [
           {
            "bin_start": 3172,
            "bin_end": 3182.3,
            "count": 3
           },
           {
            "bin_start": 3182.3,
            "bin_end": 3192.6,
            "count": 0
           },
           {
            "bin_start": 3192.6,
            "bin_end": 3202.9,
            "count": 0
           },
           {
            "bin_start": 3202.9,
            "bin_end": 3213.2,
            "count": 0
           },
           {
            "bin_start": 3213.2,
            "bin_end": 3223.5,
            "count": 1
           },
           {
            "bin_start": 3223.5,
            "bin_end": 3233.8,
            "count": 0
           },
           {
            "bin_start": 3233.8,
            "bin_end": 3244.1,
            "count": 0
           },
           {
            "bin_start": 3244.1,
            "bin_end": 3254.4,
            "count": 0
           },
           {
            "bin_start": 3254.4,
            "bin_end": 3264.7,
            "count": 0
           },
           {
            "bin_start": 3264.7,
            "bin_end": 3275,
            "count": 1
           }
          ]
         }
        },
        {
         "name": "ID_Prov",
         "dtype": "float64",
         "stats": {
          "unique_count": 2,
          "nan_count": 0,
          "min": "31.0",
          "max": "32.0",
          "histogram": [
           {
            "bin_start": 31,
            "bin_end": 31.1,
            "count": 3
           },
           {
            "bin_start": 31.1,
            "bin_end": 31.2,
            "count": 0
           },
           {
            "bin_start": 31.2,
            "bin_end": 31.3,
            "count": 0
           },
           {
            "bin_start": 31.3,
            "bin_end": 31.4,
            "count": 0
           },
           {
            "bin_start": 31.4,
            "bin_end": 31.5,
            "count": 0
           },
           {
            "bin_start": 31.5,
            "bin_end": 31.6,
            "count": 0
           },
           {
            "bin_start": 31.6,
            "bin_end": 31.7,
            "count": 0
           },
           {
            "bin_start": 31.7,
            "bin_end": 31.8,
            "count": 0
           },
           {
            "bin_start": 31.8,
            "bin_end": 31.9,
            "count": 0
           },
           {
            "bin_start": 31.9,
            "bin_end": 32,
            "count": 2
           }
          ]
         }
        },
        {
         "name": "Desa",
         "dtype": "object",
         "stats": {
          "unique_count": 5,
          "nan_count": 0,
          "categories": [
           {
            "name": "Duri Kepa",
            "count": 1
           },
           {
            "name": "Pejuang",
            "count": 1
           },
           {
            "name": "3 others",
            "count": 3
           }
          ]
         }
        },
        {
         "name": "Kecamatan",
         "dtype": "object",
         "stats": {
          "unique_count": 5,
          "nan_count": 0,
          "categories": [
           {
            "name": "Kebon Jeruk",
            "count": 1
           },
           {
            "name": "Medan Satria",
            "count": 1
           },
           {
            "name": "3 others",
            "count": 3
           }
          ]
         }
        },
        {
         "name": "Kabupaten",
         "dtype": "object",
         "stats": {
          "unique_count": 4,
          "nan_count": 0,
          "categories": [
           {
            "name": "Bekasi",
            "count": 2
           },
           {
            "name": "Jakarta Barat",
            "count": 1
           },
           {
            "name": "2 others",
            "count": 2
           }
          ]
         }
        },
        {
         "name": "Provinsi",
         "dtype": "object",
         "stats": {
          "unique_count": 2,
          "nan_count": 0,
          "categories": [
           {
            "name": "Daerah Khusus Ibukota Jakarta",
            "count": 3
           },
           {
            "name": "Jawa Barat",
            "count": 2
           }
          ]
         }
        },
        {
         "name": "long",
         "dtype": "float64",
         "stats": {
          "unique_count": 5,
          "nan_count": 0,
          "min": "106.76866",
          "max": "107.16189",
          "histogram": [
           {
            "bin_start": 106.76866,
            "bin_end": 106.807983,
            "count": 1
           },
           {
            "bin_start": 106.807983,
            "bin_end": 106.847306,
            "count": 0
           },
           {
            "bin_start": 106.847306,
            "bin_end": 106.886629,
            "count": 1
           },
           {
            "bin_start": 106.886629,
            "bin_end": 106.925952,
            "count": 1
           },
           {
            "bin_start": 106.925952,
            "bin_end": 106.96527499999999,
            "count": 0
           },
           {
            "bin_start": 106.96527499999999,
            "bin_end": 107.004598,
            "count": 1
           },
           {
            "bin_start": 107.004598,
            "bin_end": 107.043921,
            "count": 0
           },
           {
            "bin_start": 107.043921,
            "bin_end": 107.083244,
            "count": 0
           },
           {
            "bin_start": 107.083244,
            "bin_end": 107.122567,
            "count": 0
           },
           {
            "bin_start": 107.122567,
            "bin_end": 107.16189,
            "count": 1
           }
          ]
         }
        },
        {
         "name": "lat",
         "dtype": "float64",
         "stats": {
          "unique_count": 5,
          "nan_count": 0,
          "min": "-6.3017",
          "max": "-6.16859",
          "histogram": [
           {
            "bin_start": -6.3017,
            "bin_end": -6.2883890000000005,
            "count": 1
           },
           {
            "bin_start": -6.2883890000000005,
            "bin_end": -6.275078000000001,
            "count": 0
           },
           {
            "bin_start": -6.275078000000001,
            "bin_end": -6.261767,
            "count": 0
           },
           {
            "bin_start": -6.261767,
            "bin_end": -6.248456,
            "count": 0
           },
           {
            "bin_start": -6.248456,
            "bin_end": -6.235145,
            "count": 0
           },
           {
            "bin_start": -6.235145,
            "bin_end": -6.221834,
            "count": 1
           },
           {
            "bin_start": -6.221834,
            "bin_end": -6.2085230000000005,
            "count": 0
           },
           {
            "bin_start": -6.2085230000000005,
            "bin_end": -6.195212,
            "count": 0
           },
           {
            "bin_start": -6.195212,
            "bin_end": -6.181901,
            "count": 0
           },
           {
            "bin_start": -6.181901,
            "bin_end": -6.16859,
            "count": 3
           }
          ]
         }
        },
        {
         "name": "_deepnote_index_column",
         "dtype": "int64"
        }
       ],
       "rows": [
        {
         "pkey": 94941,
         "date": "01/01/2020",
         "time": "00:03:02",
         "source": "grasp",
         "status": "confirmed",
         "url": "2042596d-b551-4ef2-803d-1ee964cf2278",
         "image_url": "https://images.petabencana.id/2042596d-b551-4ef2-803d-1ee964cf2278.jpg",
         "disaster_type": "flood",
         "report_dat": "{ \"report_type\": \"flood\", \"flood_depth\": 30 }",
         "tags": "{ \"district_id\": \"3174\", \"local_area_id\": \"125\", \"instance_region_code\": \"ID-JK\" }",
         "title": "nan",
         "text": "Banjir di daerah taman ratu dan sekitarnya. Paling parah dari tahun2 sebelumnya",
         "ID_Desa": 3174020005,
         "ID_Kec": 3174020,
         "ID_Kab": 3174,
         "ID_Prov": 31,
         "Desa": "Duri Kepa",
         "Kecamatan": "Kebon Jeruk",
         "Kabupaten": "Jakarta Barat",
         "Provinsi": "Daerah Khusus Ibukota Jakarta",
         "long": 106.76866,
         "lat": -6.16978,
         "_deepnote_index_column": 0
        },
        {
         "pkey": 95061,
         "date": "01/01/2020",
         "time": "00:43:02",
         "source": "grasp",
         "status": "confirmed",
         "url": "5a0ad45f-7020-43b7-882f-672487ebc6d8",
         "image_url": "https://images.petabencana.id/5a0ad45f-7020-43b7-882f-672487ebc6d8.jpg",
         "disaster_type": "flood",
         "report_dat": "{ \"points\": 1, \"flood_depth\": 80, \"report_type\": \"flood\" }",
         "tags": "{ \"district_id\": null, \"local_area_id\": null, \"instance_region_code\": \"ID-JK\" }",
         "title": "nan",
         "text": "Jl. Kemuning Indah\nKota Harapan Indah.\nBekasi",
         "ID_Desa": 3275061004,
         "ID_Kec": 3275061,
         "ID_Kab": 3275,
         "ID_Prov": 32,
         "Desa": "Pejuang",
         "Kecamatan": "Medan Satria",
         "Kabupaten": "Bekasi",
         "Provinsi": "Jawa Barat",
         "long": 106.9787,
         "lat": -6.17944,
         "_deepnote_index_column": 1
        },
        {
         "pkey": 95062,
         "date": "01/01/2020",
         "time": "01:14:53",
         "source": "grasp",
         "status": "confirmed",
         "url": "e065b40d-2084-48d6-b42f-1f98cb33e4cc",
         "image_url": "nan",
         "disaster_type": "flood",
         "report_dat": "{ \"points\": 1, \"flood_depth\": 51, \"report_type\": \"flood\" }",
         "tags": "{ \"district_id\": \"3172\", \"local_area_id\": \"1789\", \"instance_region_code\": \"ID-JK\" }",
         "title": "nan",
         "text": "Banjir selutut orang dewasa di jalan ros merah 2 cipinang indah",
         "ID_Desa": 3172060004,
         "ID_Kec": 3172060,
         "ID_Kab": 3172,
         "ID_Prov": 31,
         "Desa": "Cipinang Muara",
         "Kecamatan": "Jatinegara",
         "Kabupaten": "Jakarta Timur",
         "Provinsi": "Daerah Khusus Ibukota Jakarta",
         "long": 106.891,
         "lat": -6.23449,
         "_deepnote_index_column": 2
        },
        {
         "pkey": 95063,
         "date": "01/01/2020",
         "time": "01:15:08",
         "source": "grasp",
         "status": "confirmed",
         "url": "7cb26903-b1c8-4be7-8b81-7014c8a83fbd",
         "image_url": "https://images.petabencana.id/7cb26903-b1c8-4be7-8b81-7014c8a83fbd.jpg",
         "disaster_type": "flood",
         "report_dat": "{ \"points\": 2, \"flood_depth\": 100, \"report_type\": \"flood\" }",
         "tags": "{ \"district_id\": null, \"local_area_id\": null, \"instance_region_code\": \"ID-JK\" }",
         "title": "nan",
         "text": "Banjir di daerah kedasih dan sekitarnya, karena hujan dari semalam belum berhenti, sudah memasuki rumah dari jam 7 pagi tadi",
         "ID_Desa": 3216061004,
         "ID_Kec": 3216061,
         "ID_Kab": 3216,
         "ID_Prov": 32,
         "Desa": "Mekarmukti",
         "Kecamatan": "Cikarang Utara",
         "Kabupaten": "Bekasi",
         "Provinsi": "Jawa Barat",
         "long": 107.16189,
         "lat": -6.3017,
         "_deepnote_index_column": 3
        },
        {
         "pkey": 95064,
         "date": "01/01/2020",
         "time": "01:18:03",
         "source": "grasp",
         "status": "confirmed",
         "url": "570d2cb8-d5b6-404f-86ef-8a2a0d27f391",
         "image_url": "https://images.petabencana.id/570d2cb8-d5b6-404f-86ef-8a2a0d27f391.jpg",
         "disaster_type": "flood",
         "report_dat": "{ \"points\": 1, \"flood_depth\": 15, \"report_type\": \"flood\" }",
         "tags": "{ \"district_id\": \"3173\", \"local_area_id\": \"193\", \"instance_region_code\": \"ID-JK\" }",
         "title": "nan",
         "text": "nan",
         "ID_Desa": 3173060002,
         "ID_Kec": 3173060,
         "ID_Kab": 3173,
         "ID_Prov": 31,
         "Desa": "Cempaka Baru",
         "Kecamatan": "Kemayoran",
         "Kabupaten": "Jakarta Pusat",
         "Provinsi": "Daerah Khusus Ibukota Jakarta",
         "long": 106.86092,
         "lat": -6.16859,
         "_deepnote_index_column": 4
        }
       ]
      },
      "text/plain": "    pkey        date      time source     status  \\\n0  94941  01/01/2020  00:03:02  grasp  confirmed   \n1  95061  01/01/2020  00:43:02  grasp  confirmed   \n2  95062  01/01/2020  01:14:53  grasp  confirmed   \n3  95063  01/01/2020  01:15:08  grasp  confirmed   \n4  95064  01/01/2020  01:18:03  grasp  confirmed   \n\n                                    url  \\\n0  2042596d-b551-4ef2-803d-1ee964cf2278   \n1  5a0ad45f-7020-43b7-882f-672487ebc6d8   \n2  e065b40d-2084-48d6-b42f-1f98cb33e4cc   \n3  7cb26903-b1c8-4be7-8b81-7014c8a83fbd   \n4  570d2cb8-d5b6-404f-86ef-8a2a0d27f391   \n\n                                           image_url disaster_type  \\\n0  https://images.petabencana.id/2042596d-b551-4e...         flood   \n1  https://images.petabencana.id/5a0ad45f-7020-43...         flood   \n2                                                NaN         flood   \n3  https://images.petabencana.id/7cb26903-b1c8-4b...         flood   \n4  https://images.petabencana.id/570d2cb8-d5b6-40...         flood   \n\n                                          report_dat  \\\n0      { \"report_type\": \"flood\", \"flood_depth\": 30 }   \n1  { \"points\": 1, \"flood_depth\": 80, \"report_type...   \n2  { \"points\": 1, \"flood_depth\": 51, \"report_type...   \n3  { \"points\": 2, \"flood_depth\": 100, \"report_typ...   \n4  { \"points\": 1, \"flood_depth\": 15, \"report_type...   \n\n                                                tags  ...       ID_Desa  \\\n0  { \"district_id\": \"3174\", \"local_area_id\": \"125...  ...  3.174020e+09   \n1  { \"district_id\": null, \"local_area_id\": null, ...  ...  3.275061e+09   \n2  { \"district_id\": \"3172\", \"local_area_id\": \"178...  ...  3.172060e+09   \n3  { \"district_id\": null, \"local_area_id\": null, ...  ...  3.216061e+09   \n4  { \"district_id\": \"3173\", \"local_area_id\": \"193...  ...  3.173060e+09   \n\n      ID_Kec  ID_Kab  ID_Prov            Desa       Kecamatan      Kabupaten  \\\n0  3174020.0  3174.0     31.0       Duri Kepa     Kebon Jeruk  Jakarta Barat   \n1  3275061.0  3275.0     32.0         Pejuang    Medan Satria         Bekasi   \n2  3172060.0  3172.0     31.0  Cipinang Muara      Jatinegara  Jakarta Timur   \n3  3216061.0  3216.0     32.0      Mekarmukti  Cikarang Utara         Bekasi   \n4  3173060.0  3173.0     31.0    Cempaka Baru       Kemayoran  Jakarta Pusat   \n\n                        Provinsi       long      lat  \n0  Daerah Khusus Ibukota Jakarta  106.76866 -6.16978  \n1                     Jawa Barat  106.97870 -6.17944  \n2  Daerah Khusus Ibukota Jakarta  106.89100 -6.23449  \n3                     Jawa Barat  107.16189 -6.30170  \n4  Daerah Khusus Ibukota Jakarta  106.86092 -6.16859  \n\n[5 rows x 22 columns]",
      "text/html": "<div>\n<style scoped>\n    .dataframe tbody tr th:only-of-type {\n        vertical-align: middle;\n    }\n\n    .dataframe tbody tr th {\n        vertical-align: top;\n    }\n\n    .dataframe thead th {\n        text-align: right;\n    }\n</style>\n<table border=\"1\" class=\"dataframe\">\n  <thead>\n    <tr style=\"text-align: right;\">\n      <th></th>\n      <th>pkey</th>\n      <th>date</th>\n      <th>time</th>\n      <th>source</th>\n      <th>status</th>\n      <th>url</th>\n      <th>image_url</th>\n      <th>disaster_type</th>\n      <th>report_dat</th>\n      <th>tags</th>\n      <th>...</th>\n      <th>ID_Desa</th>\n      <th>ID_Kec</th>\n      <th>ID_Kab</th>\n      <th>ID_Prov</th>\n      <th>Desa</th>\n      <th>Kecamatan</th>\n      <th>Kabupaten</th>\n      <th>Provinsi</th>\n      <th>long</th>\n      <th>lat</th>\n    </tr>\n  </thead>\n  <tbody>\n    <tr>\n      <th>0</th>\n      <td>94941</td>\n      <td>01/01/2020</td>\n      <td>00:03:02</td>\n      <td>grasp</td>\n      <td>confirmed</td>\n      <td>2042596d-b551-4ef2-803d-1ee964cf2278</td>\n      <td>https://images.petabencana.id/2042596d-b551-4e...</td>\n      <td>flood</td>\n      <td>{ \"report_type\": \"flood\", \"flood_depth\": 30 }</td>\n      <td>{ \"district_id\": \"3174\", \"local_area_id\": \"125...</td>\n      <td>...</td>\n      <td>3.174020e+09</td>\n      <td>3174020.0</td>\n      <td>3174.0</td>\n      <td>31.0</td>\n      <td>Duri Kepa</td>\n      <td>Kebon Jeruk</td>\n      <td>Jakarta Barat</td>\n      <td>Daerah Khusus Ibukota Jakarta</td>\n      <td>106.76866</td>\n      <td>-6.16978</td>\n    </tr>\n    <tr>\n      <th>1</th>\n      <td>95061</td>\n      <td>01/01/2020</td>\n      <td>00:43:02</td>\n      <td>grasp</td>\n      <td>confirmed</td>\n      <td>5a0ad45f-7020-43b7-882f-672487ebc6d8</td>\n      <td>https://images.petabencana.id/5a0ad45f-7020-43...</td>\n      <td>flood</td>\n      <td>{ \"points\": 1, \"flood_depth\": 80, \"report_type...</td>\n      <td>{ \"district_id\": null, \"local_area_id\": null, ...</td>\n      <td>...</td>\n      <td>3.275061e+09</td>\n      <td>3275061.0</td>\n      <td>3275.0</td>\n      <td>32.0</td>\n      <td>Pejuang</td>\n      <td>Medan Satria</td>\n      <td>Bekasi</td>\n      <td>Jawa Barat</td>\n      <td>106.97870</td>\n      <td>-6.17944</td>\n    </tr>\n    <tr>\n      <th>2</th>\n      <td>95062</td>\n      <td>01/01/2020</td>\n      <td>01:14:53</td>\n      <td>grasp</td>\n      <td>confirmed</td>\n      <td>e065b40d-2084-48d6-b42f-1f98cb33e4cc</td>\n      <td>NaN</td>\n      <td>flood</td>\n      <td>{ \"points\": 1, \"flood_depth\": 51, \"report_type...</td>\n      <td>{ \"district_id\": \"3172\", \"local_area_id\": \"178...</td>\n      <td>...</td>\n      <td>3.172060e+09</td>\n      <td>3172060.0</td>\n      <td>3172.0</td>\n      <td>31.0</td>\n      <td>Cipinang Muara</td>\n      <td>Jatinegara</td>\n      <td>Jakarta Timur</td>\n      <td>Daerah Khusus Ibukota Jakarta</td>\n      <td>106.89100</td>\n      <td>-6.23449</td>\n    </tr>\n    <tr>\n      <th>3</th>\n      <td>95063</td>\n      <td>01/01/2020</td>\n      <td>01:15:08</td>\n      <td>grasp</td>\n      <td>confirmed</td>\n      <td>7cb26903-b1c8-4be7-8b81-7014c8a83fbd</td>\n      <td>https://images.petabencana.id/7cb26903-b1c8-4b...</td>\n      <td>flood</td>\n      <td>{ \"points\": 2, \"flood_depth\": 100, \"report_typ...</td>\n      <td>{ \"district_id\": null, \"local_area_id\": null, ...</td>\n      <td>...</td>\n      <td>3.216061e+09</td>\n      <td>3216061.0</td>\n      <td>3216.0</td>\n      <td>32.0</td>\n      <td>Mekarmukti</td>\n      <td>Cikarang Utara</td>\n      <td>Bekasi</td>\n      <td>Jawa Barat</td>\n      <td>107.16189</td>\n      <td>-6.30170</td>\n    </tr>\n    <tr>\n      <th>4</th>\n      <td>95064</td>\n      <td>01/01/2020</td>\n      <td>01:18:03</td>\n      <td>grasp</td>\n      <td>confirmed</td>\n      <td>570d2cb8-d5b6-404f-86ef-8a2a0d27f391</td>\n      <td>https://images.petabencana.id/570d2cb8-d5b6-40...</td>\n      <td>flood</td>\n      <td>{ \"points\": 1, \"flood_depth\": 15, \"report_type...</td>\n      <td>{ \"district_id\": \"3173\", \"local_area_id\": \"193...</td>\n      <td>...</td>\n      <td>3.173060e+09</td>\n      <td>3173060.0</td>\n      <td>3173.0</td>\n      <td>31.0</td>\n      <td>Cempaka Baru</td>\n      <td>Kemayoran</td>\n      <td>Jakarta Pusat</td>\n      <td>Daerah Khusus Ibukota Jakarta</td>\n      <td>106.86092</td>\n      <td>-6.16859</td>\n    </tr>\n  </tbody>\n</table>\n<p>5 rows × 22 columns</p>\n</div>"
     },
     "metadata": {}
    }
   ]
  },
  {
   "cell_type": "code",
   "metadata": {
    "colab": {
     "base_uri": "https://localhost:8080/"
    },
    "id": "XAcSBjnscDiu",
    "executionInfo": {
     "status": "ok",
     "timestamp": 1660402244914,
     "user_tz": -420,
     "elapsed": 58,
     "user": {
      "displayName": "Hilmi G Hidayatullah",
      "userId": "16962578157773311425"
     }
    },
    "outputId": "2c3222a7-765d-47d3-c4e9-2ee8cce19ef3",
    "cell_id": "00015-f28bdd78-7893-4c89-8b13-bae3c7b5f610",
    "deepnote_to_be_reexecuted": false,
    "source_hash": "1358b2bb",
    "execution_start": 1661007845352,
    "execution_millis": 646,
    "deepnote_cell_type": "code",
    "deepnote_cell_height": 131.1875
   },
   "source": "# ukuran dataset\ndf.shape",
   "execution_count": null,
   "outputs": [
    {
     "output_type": "execute_result",
     "execution_count": 5,
     "data": {
      "text/plain": "(4235, 22)"
     },
     "metadata": {}
    }
   ]
  },
  {
   "cell_type": "code",
   "metadata": {
    "colab": {
     "base_uri": "https://localhost:8080/"
    },
    "id": "OJz76SEkMykk",
    "executionInfo": {
     "status": "ok",
     "timestamp": 1660402244020,
     "user_tz": -420,
     "elapsed": 11,
     "user": {
      "displayName": "Hilmi G Hidayatullah",
      "userId": "16962578157773311425"
     }
    },
    "outputId": "02b86939-dc37-4d35-ed1b-3f97f3f5947a",
    "cell_id": "00006-47319817-6fff-4771-8b7a-b071d03e87c6",
    "deepnote_to_be_reexecuted": false,
    "source_hash": "7f41eec4",
    "execution_start": 1661007845423,
    "execution_millis": 576,
    "deepnote_cell_type": "code",
    "deepnote_cell_height": 553.53125
   },
   "source": "# cek tiap kolom apakah ada yang kosong \ndf.isna().any()",
   "execution_count": null,
   "outputs": [
    {
     "output_type": "execute_result",
     "execution_count": 6,
     "data": {
      "text/plain": "pkey             False\ndate             False\ntime             False\nsource           False\nstatus           False\nurl               True\nimage_url         True\ndisaster_type    False\nreport_dat        True\ntags             False\ntitle             True\ntext              True\nID_Desa           True\nID_Kec            True\nID_Kab            True\nID_Prov           True\nDesa              True\nKecamatan         True\nKabupaten         True\nProvinsi          True\nlong             False\nlat              False\ndtype: bool"
     },
     "metadata": {}
    }
   ]
  },
  {
   "cell_type": "code",
   "metadata": {
    "colab": {
     "base_uri": "https://localhost:8080/"
    },
    "id": "DewAhxcIND8z",
    "executionInfo": {
     "status": "ok",
     "timestamp": 1660402244020,
     "user_tz": -420,
     "elapsed": 8,
     "user": {
      "displayName": "Hilmi G Hidayatullah",
      "userId": "16962578157773311425"
     }
    },
    "outputId": "04844edb-709a-47e9-f8f9-c96d5e3fce45",
    "cell_id": "00007-f3478abd-a98a-450f-aaf2-fcd051013b2c",
    "deepnote_to_be_reexecuted": false,
    "source_hash": "a5a74f03",
    "execution_start": 1661007845424,
    "execution_millis": 583,
    "deepnote_cell_type": "code",
    "deepnote_cell_height": 378.375
   },
   "source": "# Terdapat missing dan broken data di 'text'\n# 'Mengisi 'text' kosong dengan '-'\ndf['text'].fillna(value=\"-\")\ndf.loc[:,'text']",
   "execution_count": null,
   "outputs": [
    {
     "output_type": "execute_result",
     "execution_count": 7,
     "data": {
      "text/plain": "0       Banjir di daerah taman ratu dan sekitarnya. Pa...\n1         Jl. Kemuning Indah\\nKota Harapan Indah.\\nBekasi\n2       Banjir selutut orang dewasa di jalan ros merah...\n3       Banjir di daerah kedasih dan sekitarnya, karen...\n4                                                     NaN\n                              ...                        \n4230    Luapan air sungai Karangan masuk ke pemukiman ...\n4231                                  banjir lah pokoknya\n4232    saluran irigasi yg di kelola desa dengan buruk...\n4233    Terdapat genangan air di Jalan Arteri Jorr Jat...\n4234    banjir akibat hujan dan banyak nya sampah memb...\nName: text, Length: 4235, dtype: object"
     },
     "metadata": {}
    }
   ]
  },
  {
   "cell_type": "markdown",
   "source": "- Yang mempunyai data kosong: url, image_url, report_dat, title, text, Id_Desa_, Id_Kec_, Id_ Kab, Id_ prov_ Desa, \n",
   "metadata": {
    "formattedRanges": [],
    "is_collapsed": false,
    "cell_id": "2fde02e4955844e0adca9b45d84400e6",
    "tags": [],
    "deepnote_cell_type": "text-cell-bullet"
   }
  },
  {
   "cell_type": "markdown",
   "source": "-  Kecamatan, Kabupaten, Provinsi",
   "metadata": {
    "formattedRanges": [],
    "is_collapsed": false,
    "cell_id": "64e921cf-40e1-465a-aa15-dc976a799168",
    "tags": [],
    "deepnote_cell_type": "text-cell-bullet"
   }
  },
  {
   "cell_type": "code",
   "metadata": {
    "colab": {
     "base_uri": "https://localhost:8080/",
     "height": 810
    },
    "id": "WD0f3TnyKbPR",
    "executionInfo": {
     "status": "ok",
     "timestamp": 1660402244911,
     "user_tz": -420,
     "elapsed": 70,
     "user": {
      "displayName": "Hilmi G Hidayatullah",
      "userId": "16962578157773311425"
     }
    },
    "outputId": "df2ab9df-0324-4d0a-9702-cc14ac65a589",
    "cell_id": "00009-0aad04c1-185f-4b93-b27d-c014d52f6239",
    "deepnote_to_be_reexecuted": false,
    "source_hash": "6a9907d1",
    "execution_start": 1661007845471,
    "execution_millis": 538,
    "deepnote_cell_type": "code",
    "deepnote_cell_height": 547.65625
   },
   "source": "# Mencari data 'ID_Desa' yang tidak sesuai datanya/rusak\ndf.loc[df['ID_Desa'].isnull()]",
   "execution_count": null,
   "outputs": [
    {
     "output_type": "execute_result",
     "execution_count": 8,
     "data": {
      "application/vnd.deepnote.dataframe.v3+json": {
       "column_count": 22,
       "row_count": 8,
       "columns": [
        {
         "name": "pkey",
         "dtype": "int64",
         "stats": {
          "unique_count": 8,
          "nan_count": 0,
          "min": "285338",
          "max": "299717",
          "histogram": [
           {
            "bin_start": 285338,
            "bin_end": 286775.9,
            "count": 4
           },
           {
            "bin_start": 286775.9,
            "bin_end": 288213.8,
            "count": 0
           },
           {
            "bin_start": 288213.8,
            "bin_end": 289651.7,
            "count": 0
           },
           {
            "bin_start": 289651.7,
            "bin_end": 291089.6,
            "count": 0
           },
           {
            "bin_start": 291089.6,
            "bin_end": 292527.5,
            "count": 0
           },
           {
            "bin_start": 292527.5,
            "bin_end": 293965.4,
            "count": 0
           },
           {
            "bin_start": 293965.4,
            "bin_end": 295403.3,
            "count": 0
           },
           {
            "bin_start": 295403.3,
            "bin_end": 296841.2,
            "count": 1
           },
           {
            "bin_start": 296841.2,
            "bin_end": 298279.1,
            "count": 0
           },
           {
            "bin_start": 298279.1,
            "bin_end": 299717,
            "count": 3
           }
          ]
         }
        },
        {
         "name": "date",
         "dtype": "object",
         "stats": {
          "unique_count": 7,
          "nan_count": 0,
          "categories": [
           {
            "name": "13/03/2021",
            "count": 2
           },
           {
            "name": "04/04/2021",
            "count": 1
           },
           {
            "name": "5 others",
            "count": 5
           }
          ]
         }
        },
        {
         "name": "time",
         "dtype": "object",
         "stats": {
          "unique_count": 8,
          "nan_count": 0,
          "categories": [
           {
            "name": "04:09:13",
            "count": 1
           },
           {
            "name": "04:13:15",
            "count": 1
           },
           {
            "name": "6 others",
            "count": 6
           }
          ]
         }
        },
        {
         "name": "source",
         "dtype": "object",
         "stats": {
          "unique_count": 1,
          "nan_count": 0,
          "categories": [
           {
            "name": "grasp",
            "count": 8
           }
          ]
         }
        },
        {
         "name": "status",
         "dtype": "object",
         "stats": {
          "unique_count": 1,
          "nan_count": 0,
          "categories": [
           {
            "name": "confirmed",
            "count": 8
           }
          ]
         }
        },
        {
         "name": "url",
         "dtype": "object",
         "stats": {
          "unique_count": 8,
          "nan_count": 0,
          "categories": [
           {
            "name": "8c2d2379-874c-4155-a5e1-2b3311335aec",
            "count": 1
           },
           {
            "name": "809c92d9-2bf9-4476-89b0-8028827a34c6",
            "count": 1
           },
           {
            "name": "6 others",
            "count": 6
           }
          ]
         }
        },
        {
         "name": "image_url",
         "dtype": "object",
         "stats": {
          "unique_count": 5,
          "nan_count": 3,
          "categories": [
           {
            "name": "https://images.petabencana.id/8c2d2379-874c-4155-a5e1-2b3311335aec.jpg",
            "count": 1
           },
           {
            "name": "4 others",
            "count": 4
           },
           {
            "name": "Missing",
            "count": 3
           }
          ]
         }
        },
        {
         "name": "disaster_type",
         "dtype": "object",
         "stats": {
          "unique_count": 3,
          "nan_count": 0,
          "categories": [
           {
            "name": "flood",
            "count": 4
           },
           {
            "name": "earthquake",
            "count": 3
           },
           {
            "name": "wind",
            "count": 1
           }
          ]
         }
        },
        {
         "name": "report_dat",
         "dtype": "object",
         "stats": {
          "unique_count": 7,
          "nan_count": 0,
          "categories": [
           {
            "name": "{ \"report_type\": \"structure\", \"structureFailure\": 0 }",
            "count": 2
           },
           {
            "name": "{ \"report_type\": \"flood\", \"flood_depth\": 133 }",
            "count": 1
           },
           {
            "name": "5 others",
            "count": 5
           }
          ]
         }
        },
        {
         "name": "tags",
         "dtype": "object",
         "stats": {
          "unique_count": 1,
          "nan_count": 0,
          "categories": [
           {
            "name": "{ \"district_id\": null, \"local_area_id\": null, \"instance_region_code\": null }",
            "count": 8
           }
          ]
         }
        },
        {
         "name": "title",
         "dtype": "object",
         "stats": {
          "unique_count": 0,
          "nan_count": 8,
          "categories": [
           {
            "name": "Missing",
            "count": 8
           }
          ]
         }
        },
        {
         "name": "text",
         "dtype": "object",
         "stats": {
          "unique_count": 7,
          "nan_count": 1,
          "categories": [
           {
            "name": "the most flooded area in San Fernando Pampanga",
            "count": 1
           },
           {
            "name": "6 others",
            "count": 6
           },
           {
            "name": "Missing",
            "count": 1
           }
          ]
         }
        },
        {
         "name": "ID_Desa",
         "dtype": "float64",
         "stats": {
          "unique_count": 0,
          "nan_count": 8,
          "min": null,
          "max": null,
          "histogram": [
           {
            "bin_start": 0,
            "bin_end": 0.1,
            "count": 0
           },
           {
            "bin_start": 0.1,
            "bin_end": 0.2,
            "count": 0
           },
           {
            "bin_start": 0.2,
            "bin_end": 0.30000000000000004,
            "count": 0
           },
           {
            "bin_start": 0.30000000000000004,
            "bin_end": 0.4,
            "count": 0
           },
           {
            "bin_start": 0.4,
            "bin_end": 0.5,
            "count": 0
           },
           {
            "bin_start": 0.5,
            "bin_end": 0.6000000000000001,
            "count": 0
           },
           {
            "bin_start": 0.6000000000000001,
            "bin_end": 0.7000000000000001,
            "count": 0
           },
           {
            "bin_start": 0.7000000000000001,
            "bin_end": 0.8,
            "count": 0
           },
           {
            "bin_start": 0.8,
            "bin_end": 0.9,
            "count": 0
           },
           {
            "bin_start": 0.9,
            "bin_end": 1,
            "count": 0
           }
          ]
         }
        },
        {
         "name": "ID_Kec",
         "dtype": "float64",
         "stats": {
          "unique_count": 0,
          "nan_count": 8,
          "min": null,
          "max": null,
          "histogram": [
           {
            "bin_start": 0,
            "bin_end": 0.1,
            "count": 0
           },
           {
            "bin_start": 0.1,
            "bin_end": 0.2,
            "count": 0
           },
           {
            "bin_start": 0.2,
            "bin_end": 0.30000000000000004,
            "count": 0
           },
           {
            "bin_start": 0.30000000000000004,
            "bin_end": 0.4,
            "count": 0
           },
           {
            "bin_start": 0.4,
            "bin_end": 0.5,
            "count": 0
           },
           {
            "bin_start": 0.5,
            "bin_end": 0.6000000000000001,
            "count": 0
           },
           {
            "bin_start": 0.6000000000000001,
            "bin_end": 0.7000000000000001,
            "count": 0
           },
           {
            "bin_start": 0.7000000000000001,
            "bin_end": 0.8,
            "count": 0
           },
           {
            "bin_start": 0.8,
            "bin_end": 0.9,
            "count": 0
           },
           {
            "bin_start": 0.9,
            "bin_end": 1,
            "count": 0
           }
          ]
         }
        },
        {
         "name": "ID_Kab",
         "dtype": "float64",
         "stats": {
          "unique_count": 0,
          "nan_count": 8,
          "min": null,
          "max": null,
          "histogram": [
           {
            "bin_start": 0,
            "bin_end": 0.1,
            "count": 0
           },
           {
            "bin_start": 0.1,
            "bin_end": 0.2,
            "count": 0
           },
           {
            "bin_start": 0.2,
            "bin_end": 0.30000000000000004,
            "count": 0
           },
           {
            "bin_start": 0.30000000000000004,
            "bin_end": 0.4,
            "count": 0
           },
           {
            "bin_start": 0.4,
            "bin_end": 0.5,
            "count": 0
           },
           {
            "bin_start": 0.5,
            "bin_end": 0.6000000000000001,
            "count": 0
           },
           {
            "bin_start": 0.6000000000000001,
            "bin_end": 0.7000000000000001,
            "count": 0
           },
           {
            "bin_start": 0.7000000000000001,
            "bin_end": 0.8,
            "count": 0
           },
           {
            "bin_start": 0.8,
            "bin_end": 0.9,
            "count": 0
           },
           {
            "bin_start": 0.9,
            "bin_end": 1,
            "count": 0
           }
          ]
         }
        },
        {
         "name": "ID_Prov",
         "dtype": "float64",
         "stats": {
          "unique_count": 0,
          "nan_count": 8,
          "min": null,
          "max": null,
          "histogram": [
           {
            "bin_start": 0,
            "bin_end": 0.1,
            "count": 0
           },
           {
            "bin_start": 0.1,
            "bin_end": 0.2,
            "count": 0
           },
           {
            "bin_start": 0.2,
            "bin_end": 0.30000000000000004,
            "count": 0
           },
           {
            "bin_start": 0.30000000000000004,
            "bin_end": 0.4,
            "count": 0
           },
           {
            "bin_start": 0.4,
            "bin_end": 0.5,
            "count": 0
           },
           {
            "bin_start": 0.5,
            "bin_end": 0.6000000000000001,
            "count": 0
           },
           {
            "bin_start": 0.6000000000000001,
            "bin_end": 0.7000000000000001,
            "count": 0
           },
           {
            "bin_start": 0.7000000000000001,
            "bin_end": 0.8,
            "count": 0
           },
           {
            "bin_start": 0.8,
            "bin_end": 0.9,
            "count": 0
           },
           {
            "bin_start": 0.9,
            "bin_end": 1,
            "count": 0
           }
          ]
         }
        },
        {
         "name": "Desa",
         "dtype": "object",
         "stats": {
          "unique_count": 0,
          "nan_count": 8,
          "categories": [
           {
            "name": "Missing",
            "count": 8
           }
          ]
         }
        },
        {
         "name": "Kecamatan",
         "dtype": "object",
         "stats": {
          "unique_count": 0,
          "nan_count": 8,
          "categories": [
           {
            "name": "Missing",
            "count": 8
           }
          ]
         }
        },
        {
         "name": "Kabupaten",
         "dtype": "object",
         "stats": {
          "unique_count": 1,
          "nan_count": 7,
          "categories": [
           {
            "name": "Banyuwangi",
            "count": 1
           },
           {
            "name": "Missing",
            "count": 7
           }
          ]
         }
        },
        {
         "name": "Provinsi",
         "dtype": "object",
         "stats": {
          "unique_count": 1,
          "nan_count": 7,
          "categories": [
           {
            "name": "Jawa Timur",
            "count": 1
           },
           {
            "name": "Missing",
            "count": 7
           }
          ]
         }
        },
        {
         "name": "long",
         "dtype": "float64",
         "stats": {
          "unique_count": 8,
          "nan_count": 0,
          "min": "2.3514605",
          "max": "126.0186768",
          "histogram": [
           {
            "bin_start": 2.3514605,
            "bin_end": 14.718182129999999,
            "count": 1
           },
           {
            "bin_start": 14.718182129999999,
            "bin_end": 27.084903759999996,
            "count": 0
           },
           {
            "bin_start": 27.084903759999996,
            "bin_end": 39.45162539,
            "count": 0
           },
           {
            "bin_start": 39.45162539,
            "bin_end": 51.81834702,
            "count": 0
           },
           {
            "bin_start": 51.81834702,
            "bin_end": 64.18506864999999,
            "count": 0
           },
           {
            "bin_start": 64.18506864999999,
            "bin_end": 76.55179027999999,
            "count": 1
           },
           {
            "bin_start": 76.55179027999999,
            "bin_end": 88.91851190999999,
            "count": 0
           },
           {
            "bin_start": 88.91851190999999,
            "bin_end": 101.28523354,
            "count": 0
           },
           {
            "bin_start": 101.28523354,
            "bin_end": 113.65195517,
            "count": 1
           },
           {
            "bin_start": 113.65195517,
            "bin_end": 126.0186768,
            "count": 5
           }
          ]
         }
        },
        {
         "name": "lat",
         "dtype": "float64",
         "stats": {
          "unique_count": 8,
          "nan_count": 0,
          "min": "-9.0",
          "max": "48.8566964",
          "histogram": [
           {
            "bin_start": -9,
            "bin_end": -3.21433036,
            "count": 3
           },
           {
            "bin_start": -3.21433036,
            "bin_end": 2.57133928,
            "count": 1
           },
           {
            "bin_start": 2.57133928,
            "bin_end": 8.357008919999998,
            "count": 0
           },
           {
            "bin_start": 8.357008919999998,
            "bin_end": 14.14267856,
            "count": 0
           },
           {
            "bin_start": 14.14267856,
            "bin_end": 19.928348200000002,
            "count": 3
           },
           {
            "bin_start": 19.928348200000002,
            "bin_end": 25.714017839999997,
            "count": 0
           },
           {
            "bin_start": 25.714017839999997,
            "bin_end": 31.49968748,
            "count": 0
           },
           {
            "bin_start": 31.49968748,
            "bin_end": 37.28535712,
            "count": 0
           },
           {
            "bin_start": 37.28535712,
            "bin_end": 43.07102676,
            "count": 0
           },
           {
            "bin_start": 43.07102676,
            "bin_end": 48.8566964,
            "count": 1
           }
          ]
         }
        },
        {
         "name": "_deepnote_index_column",
         "dtype": "int64"
        }
       ],
       "rows": [
        {
         "pkey": 285338,
         "date": "13/03/2021",
         "time": "04:09:13",
         "source": "grasp",
         "status": "confirmed",
         "url": "8c2d2379-874c-4155-a5e1-2b3311335aec",
         "image_url": "https://images.petabencana.id/8c2d2379-874c-4155-a5e1-2b3311335aec.jpg",
         "disaster_type": "flood",
         "report_dat": "{ \"report_type\": \"flood\", \"flood_depth\": 133 }",
         "tags": "{ \"district_id\": null, \"local_area_id\": null, \"instance_region_code\": null }",
         "title": "nan",
         "text": "the most flooded area in San Fernando Pampanga",
         "ID_Desa": "nan",
         "ID_Kec": "nan",
         "ID_Kab": "nan",
         "ID_Prov": "nan",
         "Desa": "nan",
         "Kecamatan": "nan",
         "Kabupaten": "nan",
         "Provinsi": "nan",
         "long": 120.69256,
         "lat": 15.03192,
         "_deepnote_index_column": 3662
        },
        {
         "pkey": 285339,
         "date": "13/03/2021",
         "time": "04:13:15",
         "source": "grasp",
         "status": "confirmed",
         "url": "809c92d9-2bf9-4476-89b0-8028827a34c6",
         "image_url": "https://images.petabencana.id/809c92d9-2bf9-4476-89b0-8028827a34c6.jpg",
         "disaster_type": "flood",
         "report_dat": "{ \"report_type\": \"flood\", \"flood_depth\": 105 }",
         "tags": "{ \"district_id\": null, \"local_area_id\": null, \"instance_region_code\": null }",
         "title": "nan",
         "text": "nan",
         "ID_Desa": "nan",
         "ID_Kec": "nan",
         "ID_Kab": "nan",
         "ID_Prov": "nan",
         "Desa": "nan",
         "Kecamatan": "nan",
         "Kabupaten": "nan",
         "Provinsi": "nan",
         "long": 120.73606,
         "lat": 15.06887,
         "_deepnote_index_column": 3663
        },
        {
         "pkey": 285520,
         "date": "04/04/2021",
         "time": "09:26:52",
         "source": "grasp",
         "status": "confirmed",
         "url": "1c5d7a18-7737-4319-aaef-9ad2187d283d",
         "image_url": "https://images.petabencana.id/1c5d7a18-7737-4319-aaef-9ad2187d283d.jpg",
         "disaster_type": "flood",
         "report_dat": "{ \"report_type\": \"flood\", \"flood_depth\": 88 }",
         "tags": "{ \"district_id\": null, \"local_area_id\": null, \"instance_region_code\": null }",
         "title": "nan",
         "text": "Banjir bandang meliputi seluruh NTT,banyak Rumah hanyut akibat hujan deras, tanah longsor. Dan sudah banyak merengut korban jiwa",
         "ID_Desa": "nan",
         "ID_Kec": "nan",
         "ID_Kab": "nan",
         "ID_Prov": "nan",
         "Desa": "nan",
         "Kecamatan": "nan",
         "Kabupaten": "nan",
         "Provinsi": "nan",
         "long": 120,
         "lat": -9,
         "_deepnote_index_column": 3692
        },
        {
         "pkey": 285675,
         "date": "10/04/2021",
         "time": "10:46:28",
         "source": "grasp",
         "status": "confirmed",
         "url": "f49d31ae-53d2-4fcb-850b-259a3c47ac21",
         "image_url": "https://images.petabencana.id/f49d31ae-53d2-4fcb-850b-259a3c47ac21.jpg",
         "disaster_type": "earthquake",
         "report_dat": "{ \"report_type\": \"road\", \"accessabilityFailure\": 0, \"condition\": 2 }",
         "tags": "{ \"district_id\": null, \"local_area_id\": null, \"instance_region_code\": null }",
         "title": "nan",
         "text": "gimana cara jalannya orang saya di luar jawa",
         "ID_Desa": "nan",
         "ID_Kec": "nan",
         "ID_Kab": "nan",
         "ID_Prov": "nan",
         "Desa": "nan",
         "Kecamatan": "nan",
         "Kabupaten": "nan",
         "Provinsi": "nan",
         "long": 107.40234,
         "lat": -4.08345,
         "_deepnote_index_column": 3725
        },
        {
         "pkey": 296168,
         "date": "16/06/2021",
         "time": "10:37:58",
         "source": "grasp",
         "status": "confirmed",
         "url": "904bcd24-db65-4cc4-a9d0-cf0d39944d20",
         "image_url": "https://images.petabencana.id/904bcd24-db65-4cc4-a9d0-cf0d39944d20.jpg",
         "disaster_type": "wind",
         "report_dat": "{ \"report_type\": \"wind\", \"impact\": 0 }",
         "tags": "{ \"district_id\": null, \"local_area_id\": null, \"instance_region_code\": null }",
         "title": "nan",
         "text": "Pusaran angin berpindah ke darat",
         "ID_Desa": "nan",
         "ID_Kec": "nan",
         "ID_Kab": "nan",
         "ID_Prov": "nan",
         "Desa": "nan",
         "Kecamatan": "nan",
         "Kabupaten": "Banyuwangi",
         "Provinsi": "Jawa Timur",
         "long": 114.3857,
         "lat": -8.20503,
         "_deepnote_index_column": 3811
        },
        {
         "pkey": 298498,
         "date": "11/10/2021",
         "time": "13:24:48",
         "source": "grasp",
         "status": "confirmed",
         "url": "961dd021-a82a-4706-a2ab-f440f01aefe4",
         "image_url": "nan",
         "disaster_type": "earthquake",
         "report_dat": "{ \"report_type\": \"structure\", \"structureFailure\": 0 }",
         "tags": "{ \"district_id\": null, \"local_area_id\": null, \"instance_region_code\": null }",
         "title": "nan",
         "text": "ada gempa di manado",
         "ID_Desa": "nan",
         "ID_Kec": "nan",
         "ID_Kab": "nan",
         "ID_Prov": "nan",
         "Desa": "nan",
         "Kecamatan": "nan",
         "Kabupaten": "nan",
         "Provinsi": "nan",
         "long": 126.0186768,
         "lat": 0.7742196,
         "_deepnote_index_column": 3942
        },
        {
         "pkey": 298554,
         "date": "19/10/2021",
         "time": "07:00:28",
         "source": "grasp",
         "status": "confirmed",
         "url": "5acfdc0f-8764-4d6f-b5a0-0bbc3d777d1a",
         "image_url": "nan",
         "disaster_type": "earthquake",
         "report_dat": "{ \"report_type\": \"structure\", \"structureFailure\": 0 }",
         "tags": "{ \"district_id\": null, \"local_area_id\": null, \"instance_region_code\": null }",
         "title": "nan",
         "text": "Beberapa hari lalu telah terjadi gempa di kabupaten Karangasem, banyak bangunan yang roboh akibat gempa ini semoga ada bantuan dari pemerint",
         "ID_Desa": "nan",
         "ID_Kec": "nan",
         "ID_Kab": "nan",
         "ID_Prov": "nan",
         "Desa": "nan",
         "Kecamatan": "nan",
         "Kabupaten": "nan",
         "Provinsi": "nan",
         "long": 2.3514605,
         "lat": 48.8566964,
         "_deepnote_index_column": 3956
        },
        {
         "pkey": 299717,
         "date": "27/12/2021",
         "time": "08:41:24",
         "source": "grasp",
         "status": "confirmed",
         "url": "c27e71ae-22c2-48bc-ac97-7aa4217ce651",
         "image_url": "nan",
         "disaster_type": "flood",
         "report_dat": "{ \"report_type\": \"flood\", \"flood_depth\": 63 }",
         "tags": "{ \"district_id\": null, \"local_area_id\": null, \"instance_region_code\": null }",
         "title": "nan",
         "text": "Water Water",
         "ID_Desa": "nan",
         "ID_Kec": "nan",
         "ID_Kab": "nan",
         "ID_Prov": "nan",
         "Desa": "nan",
         "Kecamatan": "nan",
         "Kabupaten": "nan",
         "Provinsi": "nan",
         "long": 72.8132629,
         "lat": 18.9036881,
         "_deepnote_index_column": 4227
        }
       ]
      },
      "text/plain": "        pkey        date      time source     status  \\\n3662  285338  13/03/2021  04:09:13  grasp  confirmed   \n3663  285339  13/03/2021  04:13:15  grasp  confirmed   \n3692  285520  04/04/2021  09:26:52  grasp  confirmed   \n3725  285675  10/04/2021  10:46:28  grasp  confirmed   \n3811  296168  16/06/2021  10:37:58  grasp  confirmed   \n3942  298498  11/10/2021  13:24:48  grasp  confirmed   \n3956  298554  19/10/2021  07:00:28  grasp  confirmed   \n4227  299717  27/12/2021  08:41:24  grasp  confirmed   \n\n                                       url  \\\n3662  8c2d2379-874c-4155-a5e1-2b3311335aec   \n3663  809c92d9-2bf9-4476-89b0-8028827a34c6   \n3692  1c5d7a18-7737-4319-aaef-9ad2187d283d   \n3725  f49d31ae-53d2-4fcb-850b-259a3c47ac21   \n3811  904bcd24-db65-4cc4-a9d0-cf0d39944d20   \n3942  961dd021-a82a-4706-a2ab-f440f01aefe4   \n3956  5acfdc0f-8764-4d6f-b5a0-0bbc3d777d1a   \n4227  c27e71ae-22c2-48bc-ac97-7aa4217ce651   \n\n                                              image_url disaster_type  \\\n3662  https://images.petabencana.id/8c2d2379-874c-41...         flood   \n3663  https://images.petabencana.id/809c92d9-2bf9-44...         flood   \n3692  https://images.petabencana.id/1c5d7a18-7737-43...         flood   \n3725  https://images.petabencana.id/f49d31ae-53d2-4f...    earthquake   \n3811  https://images.petabencana.id/904bcd24-db65-4c...          wind   \n3942                                                NaN    earthquake   \n3956                                                NaN    earthquake   \n4227                                                NaN         flood   \n\n                                             report_dat  \\\n3662     { \"report_type\": \"flood\", \"flood_depth\": 133 }   \n3663     { \"report_type\": \"flood\", \"flood_depth\": 105 }   \n3692      { \"report_type\": \"flood\", \"flood_depth\": 88 }   \n3725  { \"report_type\": \"road\", \"accessabilityFailure...   \n3811             { \"report_type\": \"wind\", \"impact\": 0 }   \n3942  { \"report_type\": \"structure\", \"structureFailur...   \n3956  { \"report_type\": \"structure\", \"structureFailur...   \n4227      { \"report_type\": \"flood\", \"flood_depth\": 63 }   \n\n                                                   tags  ... ID_Desa ID_Kec  \\\n3662  { \"district_id\": null, \"local_area_id\": null, ...  ...     NaN    NaN   \n3663  { \"district_id\": null, \"local_area_id\": null, ...  ...     NaN    NaN   \n3692  { \"district_id\": null, \"local_area_id\": null, ...  ...     NaN    NaN   \n3725  { \"district_id\": null, \"local_area_id\": null, ...  ...     NaN    NaN   \n3811  { \"district_id\": null, \"local_area_id\": null, ...  ...     NaN    NaN   \n3942  { \"district_id\": null, \"local_area_id\": null, ...  ...     NaN    NaN   \n3956  { \"district_id\": null, \"local_area_id\": null, ...  ...     NaN    NaN   \n4227  { \"district_id\": null, \"local_area_id\": null, ...  ...     NaN    NaN   \n\n      ID_Kab  ID_Prov  Desa  Kecamatan   Kabupaten    Provinsi        long  \\\n3662     NaN      NaN   NaN        NaN         NaN         NaN  120.692560   \n3663     NaN      NaN   NaN        NaN         NaN         NaN  120.736060   \n3692     NaN      NaN   NaN        NaN         NaN         NaN  120.000000   \n3725     NaN      NaN   NaN        NaN         NaN         NaN  107.402340   \n3811     NaN      NaN   NaN        NaN  Banyuwangi  Jawa Timur  114.385700   \n3942     NaN      NaN   NaN        NaN         NaN         NaN  126.018677   \n3956     NaN      NaN   NaN        NaN         NaN         NaN    2.351460   \n4227     NaN      NaN   NaN        NaN         NaN         NaN   72.813263   \n\n            lat  \n3662  15.031920  \n3663  15.068870  \n3692  -9.000000  \n3725  -4.083450  \n3811  -8.205030  \n3942   0.774220  \n3956  48.856696  \n4227  18.903688  \n\n[8 rows x 22 columns]",
      "text/html": "<div>\n<style scoped>\n    .dataframe tbody tr th:only-of-type {\n        vertical-align: middle;\n    }\n\n    .dataframe tbody tr th {\n        vertical-align: top;\n    }\n\n    .dataframe thead th {\n        text-align: right;\n    }\n</style>\n<table border=\"1\" class=\"dataframe\">\n  <thead>\n    <tr style=\"text-align: right;\">\n      <th></th>\n      <th>pkey</th>\n      <th>date</th>\n      <th>time</th>\n      <th>source</th>\n      <th>status</th>\n      <th>url</th>\n      <th>image_url</th>\n      <th>disaster_type</th>\n      <th>report_dat</th>\n      <th>tags</th>\n      <th>...</th>\n      <th>ID_Desa</th>\n      <th>ID_Kec</th>\n      <th>ID_Kab</th>\n      <th>ID_Prov</th>\n      <th>Desa</th>\n      <th>Kecamatan</th>\n      <th>Kabupaten</th>\n      <th>Provinsi</th>\n      <th>long</th>\n      <th>lat</th>\n    </tr>\n  </thead>\n  <tbody>\n    <tr>\n      <th>3662</th>\n      <td>285338</td>\n      <td>13/03/2021</td>\n      <td>04:09:13</td>\n      <td>grasp</td>\n      <td>confirmed</td>\n      <td>8c2d2379-874c-4155-a5e1-2b3311335aec</td>\n      <td>https://images.petabencana.id/8c2d2379-874c-41...</td>\n      <td>flood</td>\n      <td>{ \"report_type\": \"flood\", \"flood_depth\": 133 }</td>\n      <td>{ \"district_id\": null, \"local_area_id\": null, ...</td>\n      <td>...</td>\n      <td>NaN</td>\n      <td>NaN</td>\n      <td>NaN</td>\n      <td>NaN</td>\n      <td>NaN</td>\n      <td>NaN</td>\n      <td>NaN</td>\n      <td>NaN</td>\n      <td>120.692560</td>\n      <td>15.031920</td>\n    </tr>\n    <tr>\n      <th>3663</th>\n      <td>285339</td>\n      <td>13/03/2021</td>\n      <td>04:13:15</td>\n      <td>grasp</td>\n      <td>confirmed</td>\n      <td>809c92d9-2bf9-4476-89b0-8028827a34c6</td>\n      <td>https://images.petabencana.id/809c92d9-2bf9-44...</td>\n      <td>flood</td>\n      <td>{ \"report_type\": \"flood\", \"flood_depth\": 105 }</td>\n      <td>{ \"district_id\": null, \"local_area_id\": null, ...</td>\n      <td>...</td>\n      <td>NaN</td>\n      <td>NaN</td>\n      <td>NaN</td>\n      <td>NaN</td>\n      <td>NaN</td>\n      <td>NaN</td>\n      <td>NaN</td>\n      <td>NaN</td>\n      <td>120.736060</td>\n      <td>15.068870</td>\n    </tr>\n    <tr>\n      <th>3692</th>\n      <td>285520</td>\n      <td>04/04/2021</td>\n      <td>09:26:52</td>\n      <td>grasp</td>\n      <td>confirmed</td>\n      <td>1c5d7a18-7737-4319-aaef-9ad2187d283d</td>\n      <td>https://images.petabencana.id/1c5d7a18-7737-43...</td>\n      <td>flood</td>\n      <td>{ \"report_type\": \"flood\", \"flood_depth\": 88 }</td>\n      <td>{ \"district_id\": null, \"local_area_id\": null, ...</td>\n      <td>...</td>\n      <td>NaN</td>\n      <td>NaN</td>\n      <td>NaN</td>\n      <td>NaN</td>\n      <td>NaN</td>\n      <td>NaN</td>\n      <td>NaN</td>\n      <td>NaN</td>\n      <td>120.000000</td>\n      <td>-9.000000</td>\n    </tr>\n    <tr>\n      <th>3725</th>\n      <td>285675</td>\n      <td>10/04/2021</td>\n      <td>10:46:28</td>\n      <td>grasp</td>\n      <td>confirmed</td>\n      <td>f49d31ae-53d2-4fcb-850b-259a3c47ac21</td>\n      <td>https://images.petabencana.id/f49d31ae-53d2-4f...</td>\n      <td>earthquake</td>\n      <td>{ \"report_type\": \"road\", \"accessabilityFailure...</td>\n      <td>{ \"district_id\": null, \"local_area_id\": null, ...</td>\n      <td>...</td>\n      <td>NaN</td>\n      <td>NaN</td>\n      <td>NaN</td>\n      <td>NaN</td>\n      <td>NaN</td>\n      <td>NaN</td>\n      <td>NaN</td>\n      <td>NaN</td>\n      <td>107.402340</td>\n      <td>-4.083450</td>\n    </tr>\n    <tr>\n      <th>3811</th>\n      <td>296168</td>\n      <td>16/06/2021</td>\n      <td>10:37:58</td>\n      <td>grasp</td>\n      <td>confirmed</td>\n      <td>904bcd24-db65-4cc4-a9d0-cf0d39944d20</td>\n      <td>https://images.petabencana.id/904bcd24-db65-4c...</td>\n      <td>wind</td>\n      <td>{ \"report_type\": \"wind\", \"impact\": 0 }</td>\n      <td>{ \"district_id\": null, \"local_area_id\": null, ...</td>\n      <td>...</td>\n      <td>NaN</td>\n      <td>NaN</td>\n      <td>NaN</td>\n      <td>NaN</td>\n      <td>NaN</td>\n      <td>NaN</td>\n      <td>Banyuwangi</td>\n      <td>Jawa Timur</td>\n      <td>114.385700</td>\n      <td>-8.205030</td>\n    </tr>\n    <tr>\n      <th>3942</th>\n      <td>298498</td>\n      <td>11/10/2021</td>\n      <td>13:24:48</td>\n      <td>grasp</td>\n      <td>confirmed</td>\n      <td>961dd021-a82a-4706-a2ab-f440f01aefe4</td>\n      <td>NaN</td>\n      <td>earthquake</td>\n      <td>{ \"report_type\": \"structure\", \"structureFailur...</td>\n      <td>{ \"district_id\": null, \"local_area_id\": null, ...</td>\n      <td>...</td>\n      <td>NaN</td>\n      <td>NaN</td>\n      <td>NaN</td>\n      <td>NaN</td>\n      <td>NaN</td>\n      <td>NaN</td>\n      <td>NaN</td>\n      <td>NaN</td>\n      <td>126.018677</td>\n      <td>0.774220</td>\n    </tr>\n    <tr>\n      <th>3956</th>\n      <td>298554</td>\n      <td>19/10/2021</td>\n      <td>07:00:28</td>\n      <td>grasp</td>\n      <td>confirmed</td>\n      <td>5acfdc0f-8764-4d6f-b5a0-0bbc3d777d1a</td>\n      <td>NaN</td>\n      <td>earthquake</td>\n      <td>{ \"report_type\": \"structure\", \"structureFailur...</td>\n      <td>{ \"district_id\": null, \"local_area_id\": null, ...</td>\n      <td>...</td>\n      <td>NaN</td>\n      <td>NaN</td>\n      <td>NaN</td>\n      <td>NaN</td>\n      <td>NaN</td>\n      <td>NaN</td>\n      <td>NaN</td>\n      <td>NaN</td>\n      <td>2.351460</td>\n      <td>48.856696</td>\n    </tr>\n    <tr>\n      <th>4227</th>\n      <td>299717</td>\n      <td>27/12/2021</td>\n      <td>08:41:24</td>\n      <td>grasp</td>\n      <td>confirmed</td>\n      <td>c27e71ae-22c2-48bc-ac97-7aa4217ce651</td>\n      <td>NaN</td>\n      <td>flood</td>\n      <td>{ \"report_type\": \"flood\", \"flood_depth\": 63 }</td>\n      <td>{ \"district_id\": null, \"local_area_id\": null, ...</td>\n      <td>...</td>\n      <td>NaN</td>\n      <td>NaN</td>\n      <td>NaN</td>\n      <td>NaN</td>\n      <td>NaN</td>\n      <td>NaN</td>\n      <td>NaN</td>\n      <td>NaN</td>\n      <td>72.813263</td>\n      <td>18.903688</td>\n    </tr>\n  </tbody>\n</table>\n<p>8 rows × 22 columns</p>\n</div>"
     },
     "metadata": {}
    }
   ]
  },
  {
   "cell_type": "markdown",
   "source": "- pkey tidak diperlukan\n",
   "metadata": {
    "formattedRanges": [],
    "is_collapsed": false,
    "cell_id": "23bfb1deb98a4e9e9db3071c869aaede",
    "tags": [],
    "deepnote_cell_type": "text-cell-bullet"
   }
  },
  {
   "cell_type": "markdown",
   "source": "- 'ID desa', 'ID kec', 'ID kab', 'ID prov' tidak diperlukan karena telah diwakili oleh kolomnya yang tanpa id\n",
   "metadata": {
    "formattedRanges": [],
    "is_collapsed": false,
    "cell_id": "c7aba3c1-696b-4395-96ca-3a4723564fcb",
    "tags": [],
    "deepnote_cell_type": "text-cell-bullet"
   }
  },
  {
   "cell_type": "markdown",
   "source": "- 'url' & 'image url' tidak diperlukan karena sudah diwakilkan di column 'Source'\n",
   "metadata": {
    "formattedRanges": [],
    "is_collapsed": false,
    "cell_id": "01a03ac6-4792-4539-b2cf-494b8ce54a37",
    "tags": [],
    "deepnote_cell_type": "text-cell-bullet"
   }
  },
  {
   "cell_type": "markdown",
   "source": "- 'title' banyak yang datanya kosong. Selain itu, semua yang ada di 'title' merupakan rangkuman dari 'teks'\n",
   "metadata": {
    "formattedRanges": [],
    "is_collapsed": false,
    "cell_id": "09756969-056e-4238-87dc-5e30a2290bf3",
    "tags": [],
    "deepnote_cell_type": "text-cell-bullet"
   }
  },
  {
   "cell_type": "markdown",
   "source": "- report dat' dan 'tags' dapat dihapus jika digunakan dalam membuat graph",
   "metadata": {
    "formattedRanges": [],
    "is_collapsed": false,
    "cell_id": "c4b290f8-90ea-4143-aa9c-2079a086222e",
    "tags": [],
    "deepnote_cell_type": "text-cell-bullet"
   }
  },
  {
   "cell_type": "code",
   "metadata": {
    "colab": {
     "base_uri": "https://localhost:8080/",
     "height": 565
    },
    "id": "CTfO5ZX-NCq7",
    "executionInfo": {
     "status": "ok",
     "timestamp": 1660402244912,
     "user_tz": -420,
     "elapsed": 68,
     "user": {
      "displayName": "Hilmi G Hidayatullah",
      "userId": "16962578157773311425"
     }
    },
    "outputId": "68278af5-41a0-4930-d392-3244684f90c1",
    "cell_id": "00011-8596f3e8-e163-427d-91fb-04a44220f223",
    "deepnote_to_be_reexecuted": false,
    "source_hash": "e1dacab3",
    "execution_start": 1661007845617,
    "execution_millis": 86,
    "deepnote_cell_type": "code",
    "deepnote_cell_height": 478.65625
   },
   "source": "# menghapus 'pkey', 'ID_Desa', 'ID_Kec', 'ID_Kab', 'ID_Prov'\n# Dataframe ini dapat digunakan untuk mencari info yang diperlukan\ndf = df.drop(columns=['pkey','ID_Desa', 'ID_Kec', 'ID_Kab', 'ID_Prov']);\n# data ID dihapus karena unique\ndf.head()",
   "execution_count": null,
   "outputs": [
    {
     "output_type": "execute_result",
     "execution_count": 9,
     "data": {
      "application/vnd.deepnote.dataframe.v3+json": {
       "column_count": 17,
       "row_count": 5,
       "columns": [
        {
         "name": "date",
         "dtype": "object",
         "stats": {
          "unique_count": 1,
          "nan_count": 0,
          "categories": [
           {
            "name": "01/01/2020",
            "count": 5
           }
          ]
         }
        },
        {
         "name": "time",
         "dtype": "object",
         "stats": {
          "unique_count": 5,
          "nan_count": 0,
          "categories": [
           {
            "name": "00:03:02",
            "count": 1
           },
           {
            "name": "00:43:02",
            "count": 1
           },
           {
            "name": "3 others",
            "count": 3
           }
          ]
         }
        },
        {
         "name": "source",
         "dtype": "object",
         "stats": {
          "unique_count": 1,
          "nan_count": 0,
          "categories": [
           {
            "name": "grasp",
            "count": 5
           }
          ]
         }
        },
        {
         "name": "status",
         "dtype": "object",
         "stats": {
          "unique_count": 1,
          "nan_count": 0,
          "categories": [
           {
            "name": "confirmed",
            "count": 5
           }
          ]
         }
        },
        {
         "name": "url",
         "dtype": "object",
         "stats": {
          "unique_count": 5,
          "nan_count": 0,
          "categories": [
           {
            "name": "2042596d-b551-4ef2-803d-1ee964cf2278",
            "count": 1
           },
           {
            "name": "5a0ad45f-7020-43b7-882f-672487ebc6d8",
            "count": 1
           },
           {
            "name": "3 others",
            "count": 3
           }
          ]
         }
        },
        {
         "name": "image_url",
         "dtype": "object",
         "stats": {
          "unique_count": 4,
          "nan_count": 1,
          "categories": [
           {
            "name": "https://images.petabencana.id/2042596d-b551-4ef2-803d-1ee964cf2278.jpg",
            "count": 1
           },
           {
            "name": "3 others",
            "count": 3
           },
           {
            "name": "Missing",
            "count": 1
           }
          ]
         }
        },
        {
         "name": "disaster_type",
         "dtype": "object",
         "stats": {
          "unique_count": 1,
          "nan_count": 0,
          "categories": [
           {
            "name": "flood",
            "count": 5
           }
          ]
         }
        },
        {
         "name": "report_dat",
         "dtype": "object",
         "stats": {
          "unique_count": 5,
          "nan_count": 0,
          "categories": [
           {
            "name": "{ \"report_type\": \"flood\", \"flood_depth\": 30 }",
            "count": 1
           },
           {
            "name": "{ \"points\": 1, \"flood_depth\": 80, \"report_type\": \"flood\" }",
            "count": 1
           },
           {
            "name": "3 others",
            "count": 3
           }
          ]
         }
        },
        {
         "name": "tags",
         "dtype": "object",
         "stats": {
          "unique_count": 4,
          "nan_count": 0,
          "categories": [
           {
            "name": "{ \"district_id\": null, \"local_area_id\": null, \"instance_region_code\": \"ID-JK\" }",
            "count": 2
           },
           {
            "name": "{ \"district_id\": \"3174\", \"local_area_id\": \"125\", \"instance_region_code\": \"ID-JK\" }",
            "count": 1
           },
           {
            "name": "2 others",
            "count": 2
           }
          ]
         }
        },
        {
         "name": "title",
         "dtype": "object",
         "stats": {
          "unique_count": 0,
          "nan_count": 5,
          "categories": [
           {
            "name": "Missing",
            "count": 5
           }
          ]
         }
        },
        {
         "name": "text",
         "dtype": "object",
         "stats": {
          "unique_count": 4,
          "nan_count": 1,
          "categories": [
           {
            "name": "Banjir di daerah taman ratu dan sekitarnya. Paling parah dari tahun2 sebelumnya",
            "count": 1
           },
           {
            "name": "3 others",
            "count": 3
           },
           {
            "name": "Missing",
            "count": 1
           }
          ]
         }
        },
        {
         "name": "Desa",
         "dtype": "object",
         "stats": {
          "unique_count": 5,
          "nan_count": 0,
          "categories": [
           {
            "name": "Duri Kepa",
            "count": 1
           },
           {
            "name": "Pejuang",
            "count": 1
           },
           {
            "name": "3 others",
            "count": 3
           }
          ]
         }
        },
        {
         "name": "Kecamatan",
         "dtype": "object",
         "stats": {
          "unique_count": 5,
          "nan_count": 0,
          "categories": [
           {
            "name": "Kebon Jeruk",
            "count": 1
           },
           {
            "name": "Medan Satria",
            "count": 1
           },
           {
            "name": "3 others",
            "count": 3
           }
          ]
         }
        },
        {
         "name": "Kabupaten",
         "dtype": "object",
         "stats": {
          "unique_count": 4,
          "nan_count": 0,
          "categories": [
           {
            "name": "Bekasi",
            "count": 2
           },
           {
            "name": "Jakarta Barat",
            "count": 1
           },
           {
            "name": "2 others",
            "count": 2
           }
          ]
         }
        },
        {
         "name": "Provinsi",
         "dtype": "object",
         "stats": {
          "unique_count": 2,
          "nan_count": 0,
          "categories": [
           {
            "name": "Daerah Khusus Ibukota Jakarta",
            "count": 3
           },
           {
            "name": "Jawa Barat",
            "count": 2
           }
          ]
         }
        },
        {
         "name": "long",
         "dtype": "float64",
         "stats": {
          "unique_count": 5,
          "nan_count": 0,
          "min": "106.76866",
          "max": "107.16189",
          "histogram": [
           {
            "bin_start": 106.76866,
            "bin_end": 106.807983,
            "count": 1
           },
           {
            "bin_start": 106.807983,
            "bin_end": 106.847306,
            "count": 0
           },
           {
            "bin_start": 106.847306,
            "bin_end": 106.886629,
            "count": 1
           },
           {
            "bin_start": 106.886629,
            "bin_end": 106.925952,
            "count": 1
           },
           {
            "bin_start": 106.925952,
            "bin_end": 106.96527499999999,
            "count": 0
           },
           {
            "bin_start": 106.96527499999999,
            "bin_end": 107.004598,
            "count": 1
           },
           {
            "bin_start": 107.004598,
            "bin_end": 107.043921,
            "count": 0
           },
           {
            "bin_start": 107.043921,
            "bin_end": 107.083244,
            "count": 0
           },
           {
            "bin_start": 107.083244,
            "bin_end": 107.122567,
            "count": 0
           },
           {
            "bin_start": 107.122567,
            "bin_end": 107.16189,
            "count": 1
           }
          ]
         }
        },
        {
         "name": "lat",
         "dtype": "float64",
         "stats": {
          "unique_count": 5,
          "nan_count": 0,
          "min": "-6.3017",
          "max": "-6.16859",
          "histogram": [
           {
            "bin_start": -6.3017,
            "bin_end": -6.2883890000000005,
            "count": 1
           },
           {
            "bin_start": -6.2883890000000005,
            "bin_end": -6.275078000000001,
            "count": 0
           },
           {
            "bin_start": -6.275078000000001,
            "bin_end": -6.261767,
            "count": 0
           },
           {
            "bin_start": -6.261767,
            "bin_end": -6.248456,
            "count": 0
           },
           {
            "bin_start": -6.248456,
            "bin_end": -6.235145,
            "count": 0
           },
           {
            "bin_start": -6.235145,
            "bin_end": -6.221834,
            "count": 1
           },
           {
            "bin_start": -6.221834,
            "bin_end": -6.2085230000000005,
            "count": 0
           },
           {
            "bin_start": -6.2085230000000005,
            "bin_end": -6.195212,
            "count": 0
           },
           {
            "bin_start": -6.195212,
            "bin_end": -6.181901,
            "count": 0
           },
           {
            "bin_start": -6.181901,
            "bin_end": -6.16859,
            "count": 3
           }
          ]
         }
        },
        {
         "name": "_deepnote_index_column",
         "dtype": "int64"
        }
       ],
       "rows": [
        {
         "date": "01/01/2020",
         "time": "00:03:02",
         "source": "grasp",
         "status": "confirmed",
         "url": "2042596d-b551-4ef2-803d-1ee964cf2278",
         "image_url": "https://images.petabencana.id/2042596d-b551-4ef2-803d-1ee964cf2278.jpg",
         "disaster_type": "flood",
         "report_dat": "{ \"report_type\": \"flood\", \"flood_depth\": 30 }",
         "tags": "{ \"district_id\": \"3174\", \"local_area_id\": \"125\", \"instance_region_code\": \"ID-JK\" }",
         "title": "nan",
         "text": "Banjir di daerah taman ratu dan sekitarnya. Paling parah dari tahun2 sebelumnya",
         "Desa": "Duri Kepa",
         "Kecamatan": "Kebon Jeruk",
         "Kabupaten": "Jakarta Barat",
         "Provinsi": "Daerah Khusus Ibukota Jakarta",
         "long": 106.76866,
         "lat": -6.16978,
         "_deepnote_index_column": 0
        },
        {
         "date": "01/01/2020",
         "time": "00:43:02",
         "source": "grasp",
         "status": "confirmed",
         "url": "5a0ad45f-7020-43b7-882f-672487ebc6d8",
         "image_url": "https://images.petabencana.id/5a0ad45f-7020-43b7-882f-672487ebc6d8.jpg",
         "disaster_type": "flood",
         "report_dat": "{ \"points\": 1, \"flood_depth\": 80, \"report_type\": \"flood\" }",
         "tags": "{ \"district_id\": null, \"local_area_id\": null, \"instance_region_code\": \"ID-JK\" }",
         "title": "nan",
         "text": "Jl. Kemuning Indah\nKota Harapan Indah.\nBekasi",
         "Desa": "Pejuang",
         "Kecamatan": "Medan Satria",
         "Kabupaten": "Bekasi",
         "Provinsi": "Jawa Barat",
         "long": 106.9787,
         "lat": -6.17944,
         "_deepnote_index_column": 1
        },
        {
         "date": "01/01/2020",
         "time": "01:14:53",
         "source": "grasp",
         "status": "confirmed",
         "url": "e065b40d-2084-48d6-b42f-1f98cb33e4cc",
         "image_url": "nan",
         "disaster_type": "flood",
         "report_dat": "{ \"points\": 1, \"flood_depth\": 51, \"report_type\": \"flood\" }",
         "tags": "{ \"district_id\": \"3172\", \"local_area_id\": \"1789\", \"instance_region_code\": \"ID-JK\" }",
         "title": "nan",
         "text": "Banjir selutut orang dewasa di jalan ros merah 2 cipinang indah",
         "Desa": "Cipinang Muara",
         "Kecamatan": "Jatinegara",
         "Kabupaten": "Jakarta Timur",
         "Provinsi": "Daerah Khusus Ibukota Jakarta",
         "long": 106.891,
         "lat": -6.23449,
         "_deepnote_index_column": 2
        },
        {
         "date": "01/01/2020",
         "time": "01:15:08",
         "source": "grasp",
         "status": "confirmed",
         "url": "7cb26903-b1c8-4be7-8b81-7014c8a83fbd",
         "image_url": "https://images.petabencana.id/7cb26903-b1c8-4be7-8b81-7014c8a83fbd.jpg",
         "disaster_type": "flood",
         "report_dat": "{ \"points\": 2, \"flood_depth\": 100, \"report_type\": \"flood\" }",
         "tags": "{ \"district_id\": null, \"local_area_id\": null, \"instance_region_code\": \"ID-JK\" }",
         "title": "nan",
         "text": "Banjir di daerah kedasih dan sekitarnya, karena hujan dari semalam belum berhenti, sudah memasuki rumah dari jam 7 pagi tadi",
         "Desa": "Mekarmukti",
         "Kecamatan": "Cikarang Utara",
         "Kabupaten": "Bekasi",
         "Provinsi": "Jawa Barat",
         "long": 107.16189,
         "lat": -6.3017,
         "_deepnote_index_column": 3
        },
        {
         "date": "01/01/2020",
         "time": "01:18:03",
         "source": "grasp",
         "status": "confirmed",
         "url": "570d2cb8-d5b6-404f-86ef-8a2a0d27f391",
         "image_url": "https://images.petabencana.id/570d2cb8-d5b6-404f-86ef-8a2a0d27f391.jpg",
         "disaster_type": "flood",
         "report_dat": "{ \"points\": 1, \"flood_depth\": 15, \"report_type\": \"flood\" }",
         "tags": "{ \"district_id\": \"3173\", \"local_area_id\": \"193\", \"instance_region_code\": \"ID-JK\" }",
         "title": "nan",
         "text": "nan",
         "Desa": "Cempaka Baru",
         "Kecamatan": "Kemayoran",
         "Kabupaten": "Jakarta Pusat",
         "Provinsi": "Daerah Khusus Ibukota Jakarta",
         "long": 106.86092,
         "lat": -6.16859,
         "_deepnote_index_column": 4
        }
       ]
      },
      "text/plain": "         date      time source     status  \\\n0  01/01/2020  00:03:02  grasp  confirmed   \n1  01/01/2020  00:43:02  grasp  confirmed   \n2  01/01/2020  01:14:53  grasp  confirmed   \n3  01/01/2020  01:15:08  grasp  confirmed   \n4  01/01/2020  01:18:03  grasp  confirmed   \n\n                                    url  \\\n0  2042596d-b551-4ef2-803d-1ee964cf2278   \n1  5a0ad45f-7020-43b7-882f-672487ebc6d8   \n2  e065b40d-2084-48d6-b42f-1f98cb33e4cc   \n3  7cb26903-b1c8-4be7-8b81-7014c8a83fbd   \n4  570d2cb8-d5b6-404f-86ef-8a2a0d27f391   \n\n                                           image_url disaster_type  \\\n0  https://images.petabencana.id/2042596d-b551-4e...         flood   \n1  https://images.petabencana.id/5a0ad45f-7020-43...         flood   \n2                                                NaN         flood   \n3  https://images.petabencana.id/7cb26903-b1c8-4b...         flood   \n4  https://images.petabencana.id/570d2cb8-d5b6-40...         flood   \n\n                                          report_dat  \\\n0      { \"report_type\": \"flood\", \"flood_depth\": 30 }   \n1  { \"points\": 1, \"flood_depth\": 80, \"report_type...   \n2  { \"points\": 1, \"flood_depth\": 51, \"report_type...   \n3  { \"points\": 2, \"flood_depth\": 100, \"report_typ...   \n4  { \"points\": 1, \"flood_depth\": 15, \"report_type...   \n\n                                                tags title  \\\n0  { \"district_id\": \"3174\", \"local_area_id\": \"125...   NaN   \n1  { \"district_id\": null, \"local_area_id\": null, ...   NaN   \n2  { \"district_id\": \"3172\", \"local_area_id\": \"178...   NaN   \n3  { \"district_id\": null, \"local_area_id\": null, ...   NaN   \n4  { \"district_id\": \"3173\", \"local_area_id\": \"193...   NaN   \n\n                                                text            Desa  \\\n0  Banjir di daerah taman ratu dan sekitarnya. Pa...       Duri Kepa   \n1    Jl. Kemuning Indah\\nKota Harapan Indah.\\nBekasi         Pejuang   \n2  Banjir selutut orang dewasa di jalan ros merah...  Cipinang Muara   \n3  Banjir di daerah kedasih dan sekitarnya, karen...      Mekarmukti   \n4                                                NaN    Cempaka Baru   \n\n        Kecamatan      Kabupaten                       Provinsi       long  \\\n0     Kebon Jeruk  Jakarta Barat  Daerah Khusus Ibukota Jakarta  106.76866   \n1    Medan Satria         Bekasi                     Jawa Barat  106.97870   \n2      Jatinegara  Jakarta Timur  Daerah Khusus Ibukota Jakarta  106.89100   \n3  Cikarang Utara         Bekasi                     Jawa Barat  107.16189   \n4       Kemayoran  Jakarta Pusat  Daerah Khusus Ibukota Jakarta  106.86092   \n\n       lat  \n0 -6.16978  \n1 -6.17944  \n2 -6.23449  \n3 -6.30170  \n4 -6.16859  ",
      "text/html": "<div>\n<style scoped>\n    .dataframe tbody tr th:only-of-type {\n        vertical-align: middle;\n    }\n\n    .dataframe tbody tr th {\n        vertical-align: top;\n    }\n\n    .dataframe thead th {\n        text-align: right;\n    }\n</style>\n<table border=\"1\" class=\"dataframe\">\n  <thead>\n    <tr style=\"text-align: right;\">\n      <th></th>\n      <th>date</th>\n      <th>time</th>\n      <th>source</th>\n      <th>status</th>\n      <th>url</th>\n      <th>image_url</th>\n      <th>disaster_type</th>\n      <th>report_dat</th>\n      <th>tags</th>\n      <th>title</th>\n      <th>text</th>\n      <th>Desa</th>\n      <th>Kecamatan</th>\n      <th>Kabupaten</th>\n      <th>Provinsi</th>\n      <th>long</th>\n      <th>lat</th>\n    </tr>\n  </thead>\n  <tbody>\n    <tr>\n      <th>0</th>\n      <td>01/01/2020</td>\n      <td>00:03:02</td>\n      <td>grasp</td>\n      <td>confirmed</td>\n      <td>2042596d-b551-4ef2-803d-1ee964cf2278</td>\n      <td>https://images.petabencana.id/2042596d-b551-4e...</td>\n      <td>flood</td>\n      <td>{ \"report_type\": \"flood\", \"flood_depth\": 30 }</td>\n      <td>{ \"district_id\": \"3174\", \"local_area_id\": \"125...</td>\n      <td>NaN</td>\n      <td>Banjir di daerah taman ratu dan sekitarnya. Pa...</td>\n      <td>Duri Kepa</td>\n      <td>Kebon Jeruk</td>\n      <td>Jakarta Barat</td>\n      <td>Daerah Khusus Ibukota Jakarta</td>\n      <td>106.76866</td>\n      <td>-6.16978</td>\n    </tr>\n    <tr>\n      <th>1</th>\n      <td>01/01/2020</td>\n      <td>00:43:02</td>\n      <td>grasp</td>\n      <td>confirmed</td>\n      <td>5a0ad45f-7020-43b7-882f-672487ebc6d8</td>\n      <td>https://images.petabencana.id/5a0ad45f-7020-43...</td>\n      <td>flood</td>\n      <td>{ \"points\": 1, \"flood_depth\": 80, \"report_type...</td>\n      <td>{ \"district_id\": null, \"local_area_id\": null, ...</td>\n      <td>NaN</td>\n      <td>Jl. Kemuning Indah\\nKota Harapan Indah.\\nBekasi</td>\n      <td>Pejuang</td>\n      <td>Medan Satria</td>\n      <td>Bekasi</td>\n      <td>Jawa Barat</td>\n      <td>106.97870</td>\n      <td>-6.17944</td>\n    </tr>\n    <tr>\n      <th>2</th>\n      <td>01/01/2020</td>\n      <td>01:14:53</td>\n      <td>grasp</td>\n      <td>confirmed</td>\n      <td>e065b40d-2084-48d6-b42f-1f98cb33e4cc</td>\n      <td>NaN</td>\n      <td>flood</td>\n      <td>{ \"points\": 1, \"flood_depth\": 51, \"report_type...</td>\n      <td>{ \"district_id\": \"3172\", \"local_area_id\": \"178...</td>\n      <td>NaN</td>\n      <td>Banjir selutut orang dewasa di jalan ros merah...</td>\n      <td>Cipinang Muara</td>\n      <td>Jatinegara</td>\n      <td>Jakarta Timur</td>\n      <td>Daerah Khusus Ibukota Jakarta</td>\n      <td>106.89100</td>\n      <td>-6.23449</td>\n    </tr>\n    <tr>\n      <th>3</th>\n      <td>01/01/2020</td>\n      <td>01:15:08</td>\n      <td>grasp</td>\n      <td>confirmed</td>\n      <td>7cb26903-b1c8-4be7-8b81-7014c8a83fbd</td>\n      <td>https://images.petabencana.id/7cb26903-b1c8-4b...</td>\n      <td>flood</td>\n      <td>{ \"points\": 2, \"flood_depth\": 100, \"report_typ...</td>\n      <td>{ \"district_id\": null, \"local_area_id\": null, ...</td>\n      <td>NaN</td>\n      <td>Banjir di daerah kedasih dan sekitarnya, karen...</td>\n      <td>Mekarmukti</td>\n      <td>Cikarang Utara</td>\n      <td>Bekasi</td>\n      <td>Jawa Barat</td>\n      <td>107.16189</td>\n      <td>-6.30170</td>\n    </tr>\n    <tr>\n      <th>4</th>\n      <td>01/01/2020</td>\n      <td>01:18:03</td>\n      <td>grasp</td>\n      <td>confirmed</td>\n      <td>570d2cb8-d5b6-404f-86ef-8a2a0d27f391</td>\n      <td>https://images.petabencana.id/570d2cb8-d5b6-40...</td>\n      <td>flood</td>\n      <td>{ \"points\": 1, \"flood_depth\": 15, \"report_type...</td>\n      <td>{ \"district_id\": \"3173\", \"local_area_id\": \"193...</td>\n      <td>NaN</td>\n      <td>NaN</td>\n      <td>Cempaka Baru</td>\n      <td>Kemayoran</td>\n      <td>Jakarta Pusat</td>\n      <td>Daerah Khusus Ibukota Jakarta</td>\n      <td>106.86092</td>\n      <td>-6.16859</td>\n    </tr>\n  </tbody>\n</table>\n</div>"
     },
     "metadata": {}
    }
   ]
  },
  {
   "cell_type": "code",
   "metadata": {
    "colab": {
     "base_uri": "https://localhost:8080/"
    },
    "id": "X6Fi-0AbWN8h",
    "executionInfo": {
     "status": "ok",
     "timestamp": 1660402244912,
     "user_tz": -420,
     "elapsed": 66,
     "user": {
      "displayName": "Hilmi G Hidayatullah",
      "userId": "16962578157773311425"
     }
    },
    "outputId": "6345bf7f-91a8-407d-cc2b-c859b9b476f4",
    "cell_id": "00012-5cfe4bf7-3f27-4db8-8733-c6e1d7a6c033",
    "deepnote_to_be_reexecuted": false,
    "source_hash": "3ba3a669",
    "execution_start": 1661007845711,
    "execution_millis": 112608,
    "deepnote_cell_type": "code",
    "deepnote_cell_height": 438.5625,
    "deepnote_output_heights": [
     346.5625
    ]
   },
   "source": "df.isna().any()",
   "execution_count": null,
   "outputs": [
    {
     "output_type": "execute_result",
     "execution_count": 10,
     "data": {
      "text/plain": "date             False\ntime             False\nsource           False\nstatus           False\nurl               True\nimage_url         True\ndisaster_type    False\nreport_dat        True\ntags             False\ntitle             True\ntext              True\nDesa              True\nKecamatan         True\nKabupaten         True\nProvinsi          True\nlong             False\nlat              False\ndtype: bool"
     },
     "metadata": {}
    }
   ]
  },
  {
   "cell_type": "code",
   "metadata": {
    "colab": {
     "base_uri": "https://localhost:8080/"
    },
    "id": "U2nU7yFCGYwC",
    "executionInfo": {
     "status": "ok",
     "timestamp": 1660402244913,
     "user_tz": -420,
     "elapsed": 62,
     "user": {
      "displayName": "Hilmi G Hidayatullah",
      "userId": "16962578157773311425"
     }
    },
    "outputId": "a7bae04b-9672-4718-dea9-11caae26e239",
    "cell_id": "00013-e3d75ea8-67fc-4954-b918-5b1bdc86d6f8",
    "deepnote_to_be_reexecuted": false,
    "source_hash": "5581e11d",
    "execution_start": 1661007845757,
    "execution_millis": 253,
    "deepnote_cell_type": "code",
    "deepnote_cell_height": 148.1875,
    "deepnote_output_heights": [
     20.1875
    ]
   },
   "source": "# Mencari data 'time' yang tidak sesuai datanya/rusak\ntest2 = df.query(\"time.str.len() != 8\", engine=\"python\")\ntest2.shape",
   "execution_count": null,
   "outputs": [
    {
     "output_type": "execute_result",
     "execution_count": 11,
     "data": {
      "text/plain": "(1679, 17)"
     },
     "metadata": {}
    }
   ]
  },
  {
   "cell_type": "code",
   "metadata": {
    "id": "NWRSD7J51twX",
    "cell_id": "00014-9230c1f9-a057-43bc-825f-39c9350a65b7",
    "deepnote_to_be_reexecuted": false,
    "source_hash": "12413cb3",
    "execution_start": 1661007845760,
    "execution_millis": 112614,
    "deepnote_cell_type": "code",
    "deepnote_cell_height": 112
   },
   "source": "# TESTING\n#df['time'].unique()\n#.replace()",
   "execution_count": null,
   "outputs": []
  },
  {
   "cell_type": "code",
   "metadata": {
    "colab": {
     "base_uri": "https://localhost:8080/"
    },
    "id": "zAPBSptuTg1y",
    "executionInfo": {
     "status": "ok",
     "timestamp": 1660402244915,
     "user_tz": -420,
     "elapsed": 56,
     "user": {
      "displayName": "Hilmi G Hidayatullah",
      "userId": "16962578157773311425"
     }
    },
    "outputId": "5f1052c0-00fa-4381-b206-b0c5887ec1ff",
    "cell_id": "00016-f56138ca-adf3-4d41-bd5a-e6796692547b",
    "deepnote_to_be_reexecuted": false,
    "source_hash": "dd62f9f5",
    "execution_start": 1661007845808,
    "execution_millis": 203,
    "deepnote_cell_type": "code",
    "deepnote_cell_height": 223.59375
   },
   "source": "# menghitung jumlah baris data yang tidak bernilai NaN pada dataframe.\nprint(\"url : \"+ str(df[\"url\"].count()) + \", image url : \" + str(df[\"image_url\"].count()) + \", report dat : \" + str(df[\"report_dat\"].count()))\nprint(\"title : \" + str(df[\"title\"].count())+\", text : \" + str(df[\"text\"].count())+\", Desa : \" + str(df[\"Desa\"].count()))\nprint(\"Kecamatan : \" + str(df[\"Kecamatan\"].count())+\", Kabupaten : \" + str(df[\"Kabupaten\"].count())+\", Provinsi : \" + str(df[\"Provinsi\"].count()))\n",
   "execution_count": null,
   "outputs": [
    {
     "name": "stdout",
     "text": "url : 3570, image url : 3334, report dat : 3455\ntitle : 188, text : 3830, Desa : 4227\nKecamatan : 4227, Kabupaten : 4228, Provinsi : 4228\n",
     "output_type": "stream"
    }
   ]
  },
  {
   "cell_type": "code",
   "metadata": {
    "colab": {
     "base_uri": "https://localhost:8080/"
    },
    "id": "gpcPXFqCc8iF",
    "executionInfo": {
     "status": "ok",
     "timestamp": 1660402244915,
     "user_tz": -420,
     "elapsed": 53,
     "user": {
      "displayName": "Hilmi G Hidayatullah",
      "userId": "16962578157773311425"
     }
    },
    "outputId": "6aa9c075-30de-4613-98fd-3314ac91671f",
    "cell_id": "00017-f6e62c44-6ac7-4c56-a0ca-7413018bcb8b",
    "deepnote_to_be_reexecuted": false,
    "source_hash": "c2e93862",
    "execution_start": 1661007845809,
    "execution_millis": 203,
    "deepnote_cell_type": "code",
    "deepnote_cell_height": 470.640625
   },
   "source": "# Analisis berapa persen missing value lihat berapa persen\nprint(\"==== Persen Variable yang mengalami missing value (>= 30% hilang bisa disarankan di drop) ====\")\nprint (\"Nilai url:  \"+str(100-((3570/4235) *100)))\nprint (\"Nilai image url:  \"+str(100-((3334/4235) *100)))\nprint (\"Nilai report dat:  \"+str(100-((3455/4235) *100)))\nprint (\"Nilai title: \"+str(100-((188/4235) *100)))\nprint (\"Nilai text: \"+str(100-((3830/4235) *100)))\nprint (\"Nilai Desa: \"+str(100-((4227/4235) *100)))\nprint (\"Nilai Kecamatan: \"+str(100-((4227/4235) *100)))\nprint (\"Nilai Kabupaten: \"+str(100-((4228/4235) *100)))\nprint (\"Nilai Provinsi: \"+str(100-((4228/4235) *100)))",
   "execution_count": null,
   "outputs": [
    {
     "name": "stdout",
     "text": "==== Persen Variable yang mengalami missing value (>= 30% hilang bisa disarankan di drop) ====\nNilai url:  15.702479338842977\nNilai image url:  21.275088547815827\nNilai report dat:  18.417945690672965\nNilai title: 95.5608028335301\nNilai text: 9.56316410861865\nNilai Desa: 0.18890200708382565\nNilai Kecamatan: 0.18890200708382565\nNilai Kabupaten: 0.16528925619834922\nNilai Provinsi: 0.16528925619834922\n",
     "output_type": "stream"
    }
   ]
  },
  {
   "cell_type": "code",
   "metadata": {
    "colab": {
     "base_uri": "https://localhost:8080/",
     "height": 565
    },
    "id": "41zd4B2COnYa",
    "executionInfo": {
     "status": "ok",
     "timestamp": 1660402244918,
     "user_tz": -420,
     "elapsed": 39,
     "user": {
      "displayName": "Hilmi G Hidayatullah",
      "userId": "16962578157773311425"
     }
    },
    "outputId": "370ef424-9523-49bb-ea00-7d4fb97a1a75",
    "cell_id": "00024-e4ed6717-d68c-48d2-882b-1f8180bff145",
    "deepnote_to_be_reexecuted": false,
    "source_hash": "96d7e5ad",
    "execution_start": 1661007845810,
    "execution_millis": 202,
    "deepnote_cell_type": "code",
    "deepnote_cell_height": 478.65625
   },
   "source": "# menghapus 'url', 'image_url', 'title', dan 'tags'\n# Dataframe ini dapat digunakan untuk membuat visualisasi\n# drop kolom title karena terlalu banyak missing value\ndf = df.drop(columns=['url','image_url', 'title','tags']);\ndf.head()",
   "execution_count": null,
   "outputs": [
    {
     "output_type": "execute_result",
     "execution_count": 15,
     "data": {
      "application/vnd.deepnote.dataframe.v3+json": {
       "column_count": 13,
       "row_count": 5,
       "columns": [
        {
         "name": "date",
         "dtype": "object",
         "stats": {
          "unique_count": 1,
          "nan_count": 0,
          "categories": [
           {
            "name": "01/01/2020",
            "count": 5
           }
          ]
         }
        },
        {
         "name": "time",
         "dtype": "object",
         "stats": {
          "unique_count": 5,
          "nan_count": 0,
          "categories": [
           {
            "name": "00:03:02",
            "count": 1
           },
           {
            "name": "00:43:02",
            "count": 1
           },
           {
            "name": "3 others",
            "count": 3
           }
          ]
         }
        },
        {
         "name": "source",
         "dtype": "object",
         "stats": {
          "unique_count": 1,
          "nan_count": 0,
          "categories": [
           {
            "name": "grasp",
            "count": 5
           }
          ]
         }
        },
        {
         "name": "status",
         "dtype": "object",
         "stats": {
          "unique_count": 1,
          "nan_count": 0,
          "categories": [
           {
            "name": "confirmed",
            "count": 5
           }
          ]
         }
        },
        {
         "name": "disaster_type",
         "dtype": "object",
         "stats": {
          "unique_count": 1,
          "nan_count": 0,
          "categories": [
           {
            "name": "flood",
            "count": 5
           }
          ]
         }
        },
        {
         "name": "report_dat",
         "dtype": "object",
         "stats": {
          "unique_count": 5,
          "nan_count": 0,
          "categories": [
           {
            "name": "{ \"report_type\": \"flood\", \"flood_depth\": 30 }",
            "count": 1
           },
           {
            "name": "{ \"points\": 1, \"flood_depth\": 80, \"report_type\": \"flood\" }",
            "count": 1
           },
           {
            "name": "3 others",
            "count": 3
           }
          ]
         }
        },
        {
         "name": "text",
         "dtype": "object",
         "stats": {
          "unique_count": 4,
          "nan_count": 1,
          "categories": [
           {
            "name": "Banjir di daerah taman ratu dan sekitarnya. Paling parah dari tahun2 sebelumnya",
            "count": 1
           },
           {
            "name": "3 others",
            "count": 3
           },
           {
            "name": "Missing",
            "count": 1
           }
          ]
         }
        },
        {
         "name": "Desa",
         "dtype": "object",
         "stats": {
          "unique_count": 5,
          "nan_count": 0,
          "categories": [
           {
            "name": "Duri Kepa",
            "count": 1
           },
           {
            "name": "Pejuang",
            "count": 1
           },
           {
            "name": "3 others",
            "count": 3
           }
          ]
         }
        },
        {
         "name": "Kecamatan",
         "dtype": "object",
         "stats": {
          "unique_count": 5,
          "nan_count": 0,
          "categories": [
           {
            "name": "Kebon Jeruk",
            "count": 1
           },
           {
            "name": "Medan Satria",
            "count": 1
           },
           {
            "name": "3 others",
            "count": 3
           }
          ]
         }
        },
        {
         "name": "Kabupaten",
         "dtype": "object",
         "stats": {
          "unique_count": 4,
          "nan_count": 0,
          "categories": [
           {
            "name": "Bekasi",
            "count": 2
           },
           {
            "name": "Jakarta Barat",
            "count": 1
           },
           {
            "name": "2 others",
            "count": 2
           }
          ]
         }
        },
        {
         "name": "Provinsi",
         "dtype": "object",
         "stats": {
          "unique_count": 2,
          "nan_count": 0,
          "categories": [
           {
            "name": "Daerah Khusus Ibukota Jakarta",
            "count": 3
           },
           {
            "name": "Jawa Barat",
            "count": 2
           }
          ]
         }
        },
        {
         "name": "long",
         "dtype": "float64",
         "stats": {
          "unique_count": 5,
          "nan_count": 0,
          "min": "106.76866",
          "max": "107.16189",
          "histogram": [
           {
            "bin_start": 106.76866,
            "bin_end": 106.807983,
            "count": 1
           },
           {
            "bin_start": 106.807983,
            "bin_end": 106.847306,
            "count": 0
           },
           {
            "bin_start": 106.847306,
            "bin_end": 106.886629,
            "count": 1
           },
           {
            "bin_start": 106.886629,
            "bin_end": 106.925952,
            "count": 1
           },
           {
            "bin_start": 106.925952,
            "bin_end": 106.96527499999999,
            "count": 0
           },
           {
            "bin_start": 106.96527499999999,
            "bin_end": 107.004598,
            "count": 1
           },
           {
            "bin_start": 107.004598,
            "bin_end": 107.043921,
            "count": 0
           },
           {
            "bin_start": 107.043921,
            "bin_end": 107.083244,
            "count": 0
           },
           {
            "bin_start": 107.083244,
            "bin_end": 107.122567,
            "count": 0
           },
           {
            "bin_start": 107.122567,
            "bin_end": 107.16189,
            "count": 1
           }
          ]
         }
        },
        {
         "name": "lat",
         "dtype": "float64",
         "stats": {
          "unique_count": 5,
          "nan_count": 0,
          "min": "-6.3017",
          "max": "-6.16859",
          "histogram": [
           {
            "bin_start": -6.3017,
            "bin_end": -6.2883890000000005,
            "count": 1
           },
           {
            "bin_start": -6.2883890000000005,
            "bin_end": -6.275078000000001,
            "count": 0
           },
           {
            "bin_start": -6.275078000000001,
            "bin_end": -6.261767,
            "count": 0
           },
           {
            "bin_start": -6.261767,
            "bin_end": -6.248456,
            "count": 0
           },
           {
            "bin_start": -6.248456,
            "bin_end": -6.235145,
            "count": 0
           },
           {
            "bin_start": -6.235145,
            "bin_end": -6.221834,
            "count": 1
           },
           {
            "bin_start": -6.221834,
            "bin_end": -6.2085230000000005,
            "count": 0
           },
           {
            "bin_start": -6.2085230000000005,
            "bin_end": -6.195212,
            "count": 0
           },
           {
            "bin_start": -6.195212,
            "bin_end": -6.181901,
            "count": 0
           },
           {
            "bin_start": -6.181901,
            "bin_end": -6.16859,
            "count": 3
           }
          ]
         }
        },
        {
         "name": "_deepnote_index_column",
         "dtype": "int64"
        }
       ],
       "rows": [
        {
         "date": "01/01/2020",
         "time": "00:03:02",
         "source": "grasp",
         "status": "confirmed",
         "disaster_type": "flood",
         "report_dat": "{ \"report_type\": \"flood\", \"flood_depth\": 30 }",
         "text": "Banjir di daerah taman ratu dan sekitarnya. Paling parah dari tahun2 sebelumnya",
         "Desa": "Duri Kepa",
         "Kecamatan": "Kebon Jeruk",
         "Kabupaten": "Jakarta Barat",
         "Provinsi": "Daerah Khusus Ibukota Jakarta",
         "long": 106.76866,
         "lat": -6.16978,
         "_deepnote_index_column": 0
        },
        {
         "date": "01/01/2020",
         "time": "00:43:02",
         "source": "grasp",
         "status": "confirmed",
         "disaster_type": "flood",
         "report_dat": "{ \"points\": 1, \"flood_depth\": 80, \"report_type\": \"flood\" }",
         "text": "Jl. Kemuning Indah\nKota Harapan Indah.\nBekasi",
         "Desa": "Pejuang",
         "Kecamatan": "Medan Satria",
         "Kabupaten": "Bekasi",
         "Provinsi": "Jawa Barat",
         "long": 106.9787,
         "lat": -6.17944,
         "_deepnote_index_column": 1
        },
        {
         "date": "01/01/2020",
         "time": "01:14:53",
         "source": "grasp",
         "status": "confirmed",
         "disaster_type": "flood",
         "report_dat": "{ \"points\": 1, \"flood_depth\": 51, \"report_type\": \"flood\" }",
         "text": "Banjir selutut orang dewasa di jalan ros merah 2 cipinang indah",
         "Desa": "Cipinang Muara",
         "Kecamatan": "Jatinegara",
         "Kabupaten": "Jakarta Timur",
         "Provinsi": "Daerah Khusus Ibukota Jakarta",
         "long": 106.891,
         "lat": -6.23449,
         "_deepnote_index_column": 2
        },
        {
         "date": "01/01/2020",
         "time": "01:15:08",
         "source": "grasp",
         "status": "confirmed",
         "disaster_type": "flood",
         "report_dat": "{ \"points\": 2, \"flood_depth\": 100, \"report_type\": \"flood\" }",
         "text": "Banjir di daerah kedasih dan sekitarnya, karena hujan dari semalam belum berhenti, sudah memasuki rumah dari jam 7 pagi tadi",
         "Desa": "Mekarmukti",
         "Kecamatan": "Cikarang Utara",
         "Kabupaten": "Bekasi",
         "Provinsi": "Jawa Barat",
         "long": 107.16189,
         "lat": -6.3017,
         "_deepnote_index_column": 3
        },
        {
         "date": "01/01/2020",
         "time": "01:18:03",
         "source": "grasp",
         "status": "confirmed",
         "disaster_type": "flood",
         "report_dat": "{ \"points\": 1, \"flood_depth\": 15, \"report_type\": \"flood\" }",
         "text": "nan",
         "Desa": "Cempaka Baru",
         "Kecamatan": "Kemayoran",
         "Kabupaten": "Jakarta Pusat",
         "Provinsi": "Daerah Khusus Ibukota Jakarta",
         "long": 106.86092,
         "lat": -6.16859,
         "_deepnote_index_column": 4
        }
       ]
      },
      "text/plain": "         date      time source     status disaster_type  \\\n0  01/01/2020  00:03:02  grasp  confirmed         flood   \n1  01/01/2020  00:43:02  grasp  confirmed         flood   \n2  01/01/2020  01:14:53  grasp  confirmed         flood   \n3  01/01/2020  01:15:08  grasp  confirmed         flood   \n4  01/01/2020  01:18:03  grasp  confirmed         flood   \n\n                                          report_dat  \\\n0      { \"report_type\": \"flood\", \"flood_depth\": 30 }   \n1  { \"points\": 1, \"flood_depth\": 80, \"report_type...   \n2  { \"points\": 1, \"flood_depth\": 51, \"report_type...   \n3  { \"points\": 2, \"flood_depth\": 100, \"report_typ...   \n4  { \"points\": 1, \"flood_depth\": 15, \"report_type...   \n\n                                                text            Desa  \\\n0  Banjir di daerah taman ratu dan sekitarnya. Pa...       Duri Kepa   \n1    Jl. Kemuning Indah\\nKota Harapan Indah.\\nBekasi         Pejuang   \n2  Banjir selutut orang dewasa di jalan ros merah...  Cipinang Muara   \n3  Banjir di daerah kedasih dan sekitarnya, karen...      Mekarmukti   \n4                                                NaN    Cempaka Baru   \n\n        Kecamatan      Kabupaten                       Provinsi       long  \\\n0     Kebon Jeruk  Jakarta Barat  Daerah Khusus Ibukota Jakarta  106.76866   \n1    Medan Satria         Bekasi                     Jawa Barat  106.97870   \n2      Jatinegara  Jakarta Timur  Daerah Khusus Ibukota Jakarta  106.89100   \n3  Cikarang Utara         Bekasi                     Jawa Barat  107.16189   \n4       Kemayoran  Jakarta Pusat  Daerah Khusus Ibukota Jakarta  106.86092   \n\n       lat  \n0 -6.16978  \n1 -6.17944  \n2 -6.23449  \n3 -6.30170  \n4 -6.16859  ",
      "text/html": "<div>\n<style scoped>\n    .dataframe tbody tr th:only-of-type {\n        vertical-align: middle;\n    }\n\n    .dataframe tbody tr th {\n        vertical-align: top;\n    }\n\n    .dataframe thead th {\n        text-align: right;\n    }\n</style>\n<table border=\"1\" class=\"dataframe\">\n  <thead>\n    <tr style=\"text-align: right;\">\n      <th></th>\n      <th>date</th>\n      <th>time</th>\n      <th>source</th>\n      <th>status</th>\n      <th>disaster_type</th>\n      <th>report_dat</th>\n      <th>text</th>\n      <th>Desa</th>\n      <th>Kecamatan</th>\n      <th>Kabupaten</th>\n      <th>Provinsi</th>\n      <th>long</th>\n      <th>lat</th>\n    </tr>\n  </thead>\n  <tbody>\n    <tr>\n      <th>0</th>\n      <td>01/01/2020</td>\n      <td>00:03:02</td>\n      <td>grasp</td>\n      <td>confirmed</td>\n      <td>flood</td>\n      <td>{ \"report_type\": \"flood\", \"flood_depth\": 30 }</td>\n      <td>Banjir di daerah taman ratu dan sekitarnya. Pa...</td>\n      <td>Duri Kepa</td>\n      <td>Kebon Jeruk</td>\n      <td>Jakarta Barat</td>\n      <td>Daerah Khusus Ibukota Jakarta</td>\n      <td>106.76866</td>\n      <td>-6.16978</td>\n    </tr>\n    <tr>\n      <th>1</th>\n      <td>01/01/2020</td>\n      <td>00:43:02</td>\n      <td>grasp</td>\n      <td>confirmed</td>\n      <td>flood</td>\n      <td>{ \"points\": 1, \"flood_depth\": 80, \"report_type...</td>\n      <td>Jl. Kemuning Indah\\nKota Harapan Indah.\\nBekasi</td>\n      <td>Pejuang</td>\n      <td>Medan Satria</td>\n      <td>Bekasi</td>\n      <td>Jawa Barat</td>\n      <td>106.97870</td>\n      <td>-6.17944</td>\n    </tr>\n    <tr>\n      <th>2</th>\n      <td>01/01/2020</td>\n      <td>01:14:53</td>\n      <td>grasp</td>\n      <td>confirmed</td>\n      <td>flood</td>\n      <td>{ \"points\": 1, \"flood_depth\": 51, \"report_type...</td>\n      <td>Banjir selutut orang dewasa di jalan ros merah...</td>\n      <td>Cipinang Muara</td>\n      <td>Jatinegara</td>\n      <td>Jakarta Timur</td>\n      <td>Daerah Khusus Ibukota Jakarta</td>\n      <td>106.89100</td>\n      <td>-6.23449</td>\n    </tr>\n    <tr>\n      <th>3</th>\n      <td>01/01/2020</td>\n      <td>01:15:08</td>\n      <td>grasp</td>\n      <td>confirmed</td>\n      <td>flood</td>\n      <td>{ \"points\": 2, \"flood_depth\": 100, \"report_typ...</td>\n      <td>Banjir di daerah kedasih dan sekitarnya, karen...</td>\n      <td>Mekarmukti</td>\n      <td>Cikarang Utara</td>\n      <td>Bekasi</td>\n      <td>Jawa Barat</td>\n      <td>107.16189</td>\n      <td>-6.30170</td>\n    </tr>\n    <tr>\n      <th>4</th>\n      <td>01/01/2020</td>\n      <td>01:18:03</td>\n      <td>grasp</td>\n      <td>confirmed</td>\n      <td>flood</td>\n      <td>{ \"points\": 1, \"flood_depth\": 15, \"report_type...</td>\n      <td>NaN</td>\n      <td>Cempaka Baru</td>\n      <td>Kemayoran</td>\n      <td>Jakarta Pusat</td>\n      <td>Daerah Khusus Ibukota Jakarta</td>\n      <td>106.86092</td>\n      <td>-6.16859</td>\n    </tr>\n  </tbody>\n</table>\n</div>"
     },
     "metadata": {}
    }
   ]
  },
  {
   "cell_type": "markdown",
   "source": "Terdapat kolom title yang besar baris kosong mencapai 95% sehingga perlu didrop",
   "metadata": {
    "id": "wX0hRNVCkyST",
    "cell_id": "00018-b3e66b15-88c2-4ee8-99a0-a4b011764480",
    "deepnote_cell_type": "markdown",
    "deepnote_cell_height": 52.390625
   }
  },
  {
   "cell_type": "code",
   "metadata": {
    "colab": {
     "base_uri": "https://localhost:8080/"
    },
    "id": "Zm9DA-AJmHsd",
    "executionInfo": {
     "status": "ok",
     "timestamp": 1660402244916,
     "user_tz": -420,
     "elapsed": 50,
     "user": {
      "displayName": "Hilmi G Hidayatullah",
      "userId": "16962578157773311425"
     }
    },
    "outputId": "d54ae252-2691-44c2-b40e-2c09a41ba35a",
    "cell_id": "00019-3e264b6c-d630-4bc2-9e74-95a4f588f376",
    "deepnote_to_be_reexecuted": false,
    "source_hash": "3ba3a669",
    "execution_start": 1661007845884,
    "execution_millis": 129,
    "deepnote_cell_type": "code",
    "deepnote_cell_height": 361.75,
    "deepnote_output_heights": [
     269.765625
    ]
   },
   "source": "df.isna().any()",
   "execution_count": null,
   "outputs": [
    {
     "output_type": "execute_result",
     "execution_count": 16,
     "data": {
      "text/plain": "date             False\ntime             False\nsource           False\nstatus           False\ndisaster_type    False\nreport_dat        True\ntext              True\nDesa              True\nKecamatan         True\nKabupaten         True\nProvinsi          True\nlong             False\nlat              False\ndtype: bool"
     },
     "metadata": {}
    }
   ]
  },
  {
   "cell_type": "code",
   "metadata": {
    "colab": {
     "base_uri": "https://localhost:8080/"
    },
    "id": "aJDR7rCylAdm",
    "executionInfo": {
     "status": "ok",
     "timestamp": 1660402244916,
     "user_tz": -420,
     "elapsed": 46,
     "user": {
      "displayName": "Hilmi G Hidayatullah",
      "userId": "16962578157773311425"
     }
    },
    "outputId": "1a7c440b-0bde-49d8-d708-fcb9a20a6df8",
    "cell_id": "00020-c400e661-878c-45d3-b275-bbdabaa162f5",
    "deepnote_to_be_reexecuted": false,
    "source_hash": "de1e323c",
    "execution_start": 1661007845917,
    "execution_millis": 96,
    "deepnote_cell_type": "code",
    "deepnote_cell_height": 484.28125
   },
   "source": "df.info()",
   "execution_count": null,
   "outputs": [
    {
     "name": "stdout",
     "text": "<class 'pandas.core.frame.DataFrame'>\nRangeIndex: 4235 entries, 0 to 4234\nData columns (total 13 columns):\n #   Column         Non-Null Count  Dtype  \n---  ------         --------------  -----  \n 0   date           4235 non-null   object \n 1   time           4235 non-null   object \n 2   source         4235 non-null   object \n 3   status         4235 non-null   object \n 4   disaster_type  4235 non-null   object \n 5   report_dat     3455 non-null   object \n 6   text           3830 non-null   object \n 7   Desa           4227 non-null   object \n 8   Kecamatan      4227 non-null   object \n 9   Kabupaten      4228 non-null   object \n 10  Provinsi       4228 non-null   object \n 11  long           4235 non-null   float64\n 12  lat            4235 non-null   float64\ndtypes: float64(2), object(11)\nmemory usage: 430.2+ KB\n",
     "output_type": "stream"
    }
   ]
  },
  {
   "cell_type": "code",
   "metadata": {
    "colab": {
     "base_uri": "https://localhost:8080/"
    },
    "id": "Wy3Vdli1subk",
    "executionInfo": {
     "status": "ok",
     "timestamp": 1660402244917,
     "user_tz": -420,
     "elapsed": 44,
     "user": {
      "displayName": "Hilmi G Hidayatullah",
      "userId": "16962578157773311425"
     }
    },
    "outputId": "07f4f6d8-1efa-4d97-d54f-a38eb73da07f",
    "cell_id": "00021-e5a1c4fa-2b32-423c-a414-8fd30ab0eb28",
    "deepnote_to_be_reexecuted": false,
    "source_hash": "6d5614dd",
    "execution_start": 1661007845944,
    "execution_millis": 76,
    "deepnote_cell_type": "code",
    "deepnote_cell_height": 150.375
   },
   "source": "# \ndf[\"disaster_type\"].mode()",
   "execution_count": null,
   "outputs": [
    {
     "output_type": "execute_result",
     "execution_count": 18,
     "data": {
      "text/plain": "0    flood\ndtype: object"
     },
     "metadata": {}
    }
   ]
  },
  {
   "cell_type": "markdown",
   "source": "Karena disaster type terbanyak itu adalah banjir kami akan memfokuskan scope project ini pada banjir terutama di wilayah DKI Jakarta",
   "metadata": {
    "formattedRanges": [],
    "is_collapsed": false,
    "cell_id": "2b2e0646e3f042fc94b0c57729a02c60",
    "tags": [],
    "deepnote_cell_type": "text-cell-p"
   }
  },
  {
   "cell_type": "code",
   "metadata": {
    "colab": {
     "base_uri": "https://localhost:8080/"
    },
    "id": "t9C2B-L9WDDY",
    "executionInfo": {
     "status": "ok",
     "timestamp": 1660402244917,
     "user_tz": -420,
     "elapsed": 41,
     "user": {
      "displayName": "Hilmi G Hidayatullah",
      "userId": "16962578157773311425"
     }
    },
    "outputId": "836706a6-2100-4efd-da65-95694b5367c8",
    "cell_id": "00023-21046db8-dc9b-4bae-9f76-5c3064f4876c",
    "deepnote_to_be_reexecuted": false,
    "source_hash": "a6eb6ea5",
    "execution_start": 1661007845980,
    "execution_millis": 49,
    "deepnote_cell_type": "code",
    "deepnote_cell_height": 398.75
   },
   "source": "# Membuat dataframe Info yang bersih\ndf = df.dropna()\ndf.isna().any()",
   "execution_count": null,
   "outputs": [
    {
     "output_type": "execute_result",
     "execution_count": 19,
     "data": {
      "text/plain": "date             False\ntime             False\nsource           False\nstatus           False\ndisaster_type    False\nreport_dat       False\ntext             False\nDesa             False\nKecamatan        False\nKabupaten        False\nProvinsi         False\nlong             False\nlat              False\ndtype: bool"
     },
     "metadata": {}
    }
   ]
  },
  {
   "cell_type": "code",
   "metadata": {
    "cell_id": "fb4e1b3e5fd045caa1f6422579c0876a",
    "tags": [],
    "deepnote_to_be_reexecuted": false,
    "source_hash": "5ec1d3f5",
    "execution_start": 1661007846031,
    "execution_millis": 56,
    "deepnote_cell_type": "code",
    "deepnote_cell_height": 202
   },
   "source": "import json\nresult = []\nlst_data = list(df['report_dat'])\nfor i in lst_data:\n  conv = str(i)\n  proses = json.loads(conv)\n  result.append(proses)\n",
   "execution_count": null,
   "outputs": []
  },
  {
   "cell_type": "code",
   "metadata": {
    "cell_id": "3e74fc3758874bbf99f263a92c4a0378",
    "tags": [],
    "deepnote_to_be_reexecuted": false,
    "source_hash": "bae0e1b5",
    "execution_start": 1661007846087,
    "execution_millis": 110,
    "deepnote_cell_type": "code",
    "deepnote_cell_height": 702,
    "deepnote_output_heights": [
     610
    ]
   },
   "source": "result",
   "execution_count": null,
   "outputs": [
    {
     "output_type": "execute_result",
     "execution_count": 21,
     "data": {
      "text/plain": "[{'report_type': 'flood', 'flood_depth': 30},\n {'points': 1, 'flood_depth': 80, 'report_type': 'flood'},\n {'points': 1, 'flood_depth': 51, 'report_type': 'flood'},\n {'points': 2, 'flood_depth': 100, 'report_type': 'flood'},\n {'report_type': 'flood', 'flood_depth': 60},\n {'report_type': 'flood', 'flood_depth': 39},\n {'report_type': 'flood', 'flood_depth': 79},\n {'report_type': 'flood', 'flood_depth': 116},\n {'report_type': 'flood', 'flood_depth': 60},\n {'points': 1},\n {'report_type': 'flood', 'flood_depth': 81},\n {'report_type': 'flood', 'flood_depth': 69},\n {'points': 1, 'flood_depth': 195, 'report_type': 'flood'},\n {'points': 1, 'flood_depth': 100, 'report_type': 'flood'},\n {'report_type': 'flood', 'flood_depth': 44},\n {'points': 1, 'flood_depth': 93, 'report_type': 'flood'},\n {'points': -1, 'flood_depth': 101, 'report_type': 'flood'},\n {'report_type': 'flood', 'flood_depth': 190},\n {'report_type': 'flood', 'flood_depth': 50},\n {'report_type': 'flood', 'flood_depth': 50},\n {'report_type': 'flood', 'flood_depth': 38},\n {'report_type': 'flood', 'flood_depth': 100},\n {'report_type': 'flood', 'flood_depth': 70},\n {'report_type': 'flood', 'flood_depth': 30},\n {'report_type': 'flood', 'flood_depth': 30},\n {'report_type': 'flood', 'flood_depth': 50},\n {'report_type': 'flood', 'flood_depth': 100},\n {'points': 0, 'flood_depth': 56, 'report_type': 'flood'},\n {'points': 0, 'flood_depth': 50, 'report_type': 'flood'},\n {'report_type': 'flood', 'flood_depth': 111},\n {'report_type': 'flood', 'flood_depth': 50},\n {'report_type': 'flood', 'flood_depth': 55},\n {'report_type': 'flood', 'flood_depth': 150},\n {'report_type': 'flood', 'flood_depth': 131},\n {'points': 1, 'flood_depth': 50, 'report_type': 'flood'},\n {'report_type': 'flood', 'flood_depth': 30},\n {'points': 1},\n {'report_type': 'flood', 'flood_depth': 93},\n {'report_type': 'flood', 'flood_depth': 150},\n {'points': 1, 'flood_depth': 36, 'report_type': 'flood'},\n {'points': 1, 'flood_depth': 41, 'report_type': 'flood'},\n {'report_type': 'flood', 'flood_depth': 100},\n {'report_type': 'flood', 'flood_depth': 57},\n {'report_type': 'flood', 'flood_depth': 112},\n {'report_type': 'flood', 'flood_depth': 54},\n {'report_type': 'flood', 'flood_depth': 65},\n {'report_type': 'flood', 'flood_depth': 100},\n {'report_type': 'flood', 'flood_depth': 65},\n {'points': 1, 'flood_depth': 74, 'report_type': 'flood'},\n {'report_type': 'flood', 'flood_depth': 171},\n {'points': 1, 'flood_depth': 124, 'report_type': 'flood'},\n {'report_type': 'flood', 'flood_depth': 94},\n {'report_type': 'flood', 'flood_depth': 92},\n {'points': -1, 'flood_depth': 50, 'report_type': 'flood'},\n {'report_type': 'flood', 'flood_depth': 114},\n {'report_type': 'flood', 'flood_depth': 76},\n {'points': 1, 'flood_depth': 50, 'report_type': 'flood'},\n {'points': 1, 'flood_depth': 122, 'report_type': 'flood'},\n {'report_type': 'flood', 'flood_depth': 72},\n {'report_type': 'flood', 'flood_depth': 50},\n {'report_type': 'flood', 'flood_depth': 78},\n {'points': 1, 'flood_depth': 74, 'report_type': 'flood'},\n {'report_type': 'flood', 'flood_depth': 125},\n {'points': 1, 'flood_depth': 48, 'report_type': 'flood'},\n {'points': 1, 'flood_depth': 195, 'report_type': 'flood'},\n {'report_type': 'flood', 'flood_depth': 94},\n {'report_type': 'flood', 'flood_depth': 24},\n {'report_type': 'flood', 'flood_depth': 45},\n {'report_type': 'flood', 'flood_depth': 47},\n {'points': 2, 'flood_depth': 99, 'report_type': 'flood'},\n {'report_type': 'flood', 'flood_depth': 122},\n {'report_type': 'flood', 'flood_depth': 50},\n {'points': 1, 'flood_depth': 56, 'report_type': 'flood'},\n {'points': 4, 'flood_depth': 20, 'report_type': 'flood'},\n {'report_type': 'flood', 'flood_depth': 48},\n {'points': 1, 'flood_depth': 50, 'report_type': 'flood'},\n {'points': -2, 'flood_depth': 45, 'report_type': 'flood'},\n {'report_type': 'flood', 'flood_depth': 50},\n {'points': 0, 'flood_depth': 90, 'report_type': 'flood'},\n {'points': 0, 'flood_depth': 50, 'report_type': 'flood'},\n {'report_type': 'flood', 'flood_depth': 70},\n {'points': 2, 'flood_depth': 60, 'report_type': 'flood'},\n {'report_type': 'flood', 'flood_depth': 33},\n {'points': 8, 'flood_depth': 150, 'report_type': 'flood'},\n {'points': 1},\n {'points': -1},\n {'points': 2, 'flood_depth': 91, 'report_type': 'flood'},\n {'points': 0, 'flood_depth': 90, 'report_type': 'flood'},\n {'points': 1, 'flood_depth': 39, 'report_type': 'flood'},\n {'report_type': 'flood', 'flood_depth': 80},\n {'points': 1, 'flood_depth': 100, 'report_type': 'flood'},\n {'points': 5, 'flood_depth': 63, 'report_type': 'flood'},\n {'points': 2, 'flood_depth': 41, 'report_type': 'flood'},\n {'points': 1, 'flood_depth': 143, 'report_type': 'flood'},\n {'points': 2, 'flood_depth': 104, 'report_type': 'flood'},\n {'report_type': 'flood', 'flood_depth': 50},\n {'points': 1, 'flood_depth': 149, 'report_type': 'flood'},\n {'points': 1, 'flood_depth': 89, 'report_type': 'flood'},\n {'report_type': 'flood', 'flood_depth': 80},\n {'report_type': 'flood', 'flood_depth': 90},\n {'points': 1, 'flood_depth': 75, 'report_type': 'flood'},\n {'report_type': 'flood', 'flood_depth': 50},\n {'points': 1},\n {'points': 1, 'flood_depth': 93, 'report_type': 'flood'},\n {'points': -1, 'flood_depth': 48, 'report_type': 'flood'},\n {'points': 2},\n {'points': 1, 'flood_depth': 95, 'report_type': 'flood'},\n {'points': 1, 'flood_depth': 50, 'report_type': 'flood'},\n {'points': 1, 'flood_depth': 70, 'report_type': 'flood'},\n {'points': 5, 'flood_depth': 100, 'report_type': 'flood'},\n {'points': 1, 'flood_depth': 58, 'report_type': 'flood'},\n {'points': 0, 'flood_depth': 53, 'report_type': 'flood'},\n {'points': 0, 'flood_depth': 94, 'report_type': 'flood'},\n {'report_type': 'flood', 'flood_depth': 70},\n {'points': 1, 'flood_depth': 60, 'report_type': 'flood'},\n {'points': 1},\n {'points': -1, 'flood_depth': 40, 'report_type': 'flood'},\n {'points': 1, 'flood_depth': 90, 'report_type': 'flood'},\n {'points': 1},\n {'report_type': 'flood', 'flood_depth': 80},\n {'report_type': 'flood', 'flood_depth': 195},\n {'report_type': 'flood', 'flood_depth': 73},\n {'points': 1, 'flood_depth': 125, 'report_type': 'flood'},\n {'points': -1},\n {'report_type': 'flood', 'flood_depth': 150},\n {'points': 1, 'flood_depth': 77, 'report_type': 'flood'},\n {'points': 1},\n {'points': 1, 'flood_depth': 71, 'report_type': 'flood'},\n {'points': 0, 'flood_depth': 94, 'report_type': 'flood'},\n {'points': -2, 'flood_depth': 96, 'report_type': 'flood'},\n {'report_type': 'flood', 'flood_depth': 105},\n {'points': 1, 'flood_depth': 69, 'report_type': 'flood'},\n {'report_type': 'flood', 'flood_depth': 98},\n {'points': 0, 'flood_depth': 65, 'report_type': 'flood'},\n {'points': 1, 'flood_depth': 39, 'report_type': 'flood'},\n {'points': 2},\n {'report_type': 'flood', 'flood_depth': 126},\n {'report_type': 'flood', 'flood_depth': 74},\n {'report_type': 'flood', 'flood_depth': 93},\n {'report_type': 'flood', 'flood_depth': 38},\n {'report_type': 'flood', 'flood_depth': 127},\n {'report_type': 'flood', 'flood_depth': 35},\n {'report_type': 'flood', 'flood_depth': 56},\n {'report_type': 'flood', 'flood_depth': 52},\n {'report_type': 'flood', 'flood_depth': 119},\n {'report_type': 'flood', 'flood_depth': 50},\n {'points': 1, 'flood_depth': 82, 'report_type': 'flood'},\n {'report_type': 'flood', 'flood_depth': 67},\n {'report_type': 'flood', 'flood_depth': 30},\n {'points': -1, 'flood_depth': 64, 'report_type': 'flood'},\n {'points': 0, 'flood_depth': 67, 'report_type': 'flood'},\n {'points': 1, 'flood_depth': 46, 'report_type': 'flood'},\n {'points': 3, 'flood_depth': 146, 'report_type': 'flood'},\n {'report_type': 'flood', 'flood_depth': 35},\n {'points': 1, 'flood_depth': 133, 'report_type': 'flood'},\n {'points': 1, 'flood_depth': 45, 'report_type': 'flood'},\n {'points': 1, 'flood_depth': 95, 'report_type': 'flood'},\n {'points': 2, 'flood_depth': 123, 'report_type': 'flood'},\n {'report_type': 'flood', 'flood_depth': 50},\n {'report_type': 'flood', 'flood_depth': 87},\n {'report_type': 'flood', 'flood_depth': 130},\n {'points': 2, 'flood_depth': 32, 'report_type': 'flood'},\n {'report_type': 'flood', 'flood_depth': 40},\n {'points': 2, 'flood_depth': 180, 'report_type': 'flood'},\n {'report_type': 'flood', 'flood_depth': 57},\n {'points': 2},\n {'points': 2, 'flood_depth': 106, 'report_type': 'flood'},\n {'points': 2, 'flood_depth': 43, 'report_type': 'flood'},\n {'report_type': 'flood', 'flood_depth': 89},\n {'report_type': 'flood', 'flood_depth': 32},\n {'points': 1},\n {'points': 1, 'flood_depth': 120, 'report_type': 'flood'},\n {'report_type': 'flood', 'flood_depth': 80},\n {'points': 2, 'flood_depth': 40, 'report_type': 'flood'},\n {'points': 1, 'flood_depth': 38, 'report_type': 'flood'},\n {'report_type': 'flood', 'flood_depth': 46},\n {'points': 1, 'flood_depth': 34, 'report_type': 'flood'},\n {'points': 1, 'flood_depth': 44, 'report_type': 'flood'},\n {'points': 0},\n {'points': 2, 'flood_depth': 40, 'report_type': 'flood'},\n {'points': 1, 'flood_depth': 191, 'report_type': 'flood'},\n {'points': 1, 'flood_depth': 100, 'report_type': 'flood'},\n {'report_type': 'flood', 'flood_depth': 63},\n {'report_type': 'flood', 'flood_depth': 195},\n {'report_type': 'flood', 'flood_depth': 45},\n {'report_type': 'flood', 'flood_depth': 60},\n {'report_type': 'flood', 'flood_depth': 106},\n {'points': 3, 'flood_depth': 195, 'report_type': 'flood'},\n {'report_type': 'flood', 'flood_depth': 31},\n {'points': 1, 'flood_depth': 153, 'report_type': 'flood'},\n {'points': 1, 'flood_depth': 110, 'report_type': 'flood'},\n {'report_type': 'flood', 'flood_depth': 125},\n {'report_type': 'flood', 'flood_depth': 135},\n {'points': 1, 'flood_depth': 150, 'report_type': 'flood'},\n {'points': 2, 'flood_depth': 70, 'report_type': 'flood'},\n {'report_type': 'flood', 'flood_depth': 60},\n {'points': 1},\n {'points': 1, 'flood_depth': 1, 'report_type': 'flood'},\n {'points': 1, 'flood_depth': 25, 'report_type': 'flood'},\n {'points': 2, 'flood_depth': 142, 'report_type': 'flood'},\n {'points': -3, 'flood_depth': 150, 'report_type': 'flood'},\n {'points': 2, 'flood_depth': 141, 'report_type': 'flood'},\n {'points': 2, 'flood_depth': 150, 'report_type': 'flood'},\n {'points': 2, 'flood_depth': 119, 'report_type': 'flood'},\n {'points': 0, 'flood_depth': 22, 'report_type': 'flood'},\n {'points': 4, 'flood_depth': 99, 'report_type': 'flood'},\n {'report_type': 'flood', 'flood_depth': 23},\n {'points': 1, 'flood_depth': 30, 'report_type': 'flood'},\n {'report_type': 'flood', 'flood_depth': 23},\n {'points': 0, 'flood_depth': 66, 'report_type': 'flood'},\n {'points': 2, 'flood_depth': 150, 'report_type': 'flood'},\n {'points': 3, 'flood_depth': 104, 'report_type': 'flood'},\n {'points': 2, 'flood_depth': 119, 'report_type': 'flood'},\n {'report_type': 'flood', 'flood_depth': 195},\n {'points': 1, 'flood_depth': 44, 'report_type': 'flood'},\n {'report_type': 'flood', 'flood_depth': 101},\n {'report_type': 'flood', 'flood_depth': 9},\n {'report_type': 'flood', 'flood_depth': 48},\n {'points': 1},\n {'points': 1, 'flood_depth': 49, 'report_type': 'flood'},\n {'report_type': 'flood', 'flood_depth': 1},\n {'points': 1, 'flood_depth': 70, 'report_type': 'flood'},\n {'points': 1, 'flood_depth': 24, 'report_type': 'flood'},\n {'points': -3, 'flood_depth': 1, 'report_type': 'flood'},\n {'report_type': 'flood', 'flood_depth': 50},\n {'report_type': 'flood', 'flood_depth': 23},\n {'report_type': 'flood', 'flood_depth': 195},\n {'points': 1, 'flood_depth': 27, 'report_type': 'flood'},\n {'report_type': 'flood', 'flood_depth': 161},\n {'report_type': 'flood', 'flood_depth': 32},\n {'report_type': 'flood', 'flood_depth': 80},\n {'report_type': 'flood', 'flood_depth': 1},\n {'report_type': 'flood', 'flood_depth': 100},\n {'report_type': 'flood', 'flood_depth': 93},\n {'points': 0, 'flood_depth': 51, 'report_type': 'flood'},\n {'report_type': 'flood', 'flood_depth': 165},\n {'report_type': 'flood', 'flood_depth': 85},\n {'points': -2, 'flood_depth': 63, 'report_type': 'flood'},\n {'points': 1, 'flood_depth': 164, 'report_type': 'flood'},\n {'report_type': 'flood', 'flood_depth': 80},\n {'report_type': 'flood', 'flood_depth': 71},\n {'points': 2, 'flood_depth': 1, 'report_type': 'flood'},\n {'report_type': 'flood', 'flood_depth': 45},\n {'report_type': 'flood', 'flood_depth': 78},\n {'report_type': 'flood', 'flood_depth': 23},\n {'report_type': 'flood', 'flood_depth': 45},\n {'report_type': 'flood', 'flood_depth': 143},\n {'report_type': 'flood', 'flood_depth': 144},\n {'points': 1, 'flood_depth': 39, 'report_type': 'flood'},\n {'report_type': 'flood', 'flood_depth': 22},\n {'report_type': 'flood', 'flood_depth': 45},\n {'report_type': 'flood', 'flood_depth': 93},\n {'report_type': 'flood', 'flood_depth': 25},\n {'points': 1, 'flood_depth': 23, 'report_type': 'flood'},\n {'report_type': 'flood', 'flood_depth': 23},\n {'points': 1, 'flood_depth': 28, 'report_type': 'flood'},\n {'report_type': 'flood', 'flood_depth': 36},\n {'report_type': 'flood', 'flood_depth': 133},\n {'points': 1, 'flood_depth': 33, 'report_type': 'flood'},\n {'report_type': 'flood', 'flood_depth': 23},\n {'points': 1, 'flood_depth': 20, 'report_type': 'flood'},\n {'points': 1, 'flood_depth': 50, 'report_type': 'flood'},\n {'points': 3, 'flood_depth': 15, 'report_type': 'flood'},\n {'points': 1, 'flood_depth': 32, 'report_type': 'flood'},\n {'points': 1, 'flood_depth': 10, 'report_type': 'flood'},\n {'report_type': 'flood', 'flood_depth': 195},\n {'report_type': 'flood', 'flood_depth': 21},\n {'report_type': 'flood', 'flood_depth': 27},\n {'report_type': 'flood', 'flood_depth': 80},\n {'report_type': 'flood', 'flood_depth': 46},\n {'points': -1, 'flood_depth': 6, 'report_type': 'flood'},\n {'report_type': 'flood', 'flood_depth': 10},\n {'report_type': 'flood', 'flood_depth': 50},\n {'points': 2, 'flood_depth': 18, 'report_type': 'flood'},\n {'points': 0, 'flood_depth': 65, 'report_type': 'flood'},\n {'points': 2, 'flood_depth': 18, 'report_type': 'flood'},\n {'points': 0, 'flood_depth': 10, 'report_type': 'flood'},\n {'report_type': 'flood', 'flood_depth': 69},\n {'points': 2, 'flood_depth': 30, 'report_type': 'flood'},\n {'points': 1, 'flood_depth': 28, 'report_type': 'flood'},\n {'report_type': 'flood', 'flood_depth': 5},\n {'points': -3, 'flood_depth': 49, 'report_type': 'flood'},\n {'report_type': 'flood', 'flood_depth': 45},\n {'report_type': 'flood', 'flood_depth': 16},\n {'report_type': 'flood', 'flood_depth': 30},\n {'report_type': 'flood', 'flood_depth': 20},\n {'points': 3, 'flood_depth': 70, 'report_type': 'flood'},\n {'report_type': 'flood', 'flood_depth': 87},\n {'points': 2, 'flood_depth': 47, 'report_type': 'flood'},\n {'report_type': 'flood', 'flood_depth': 43},\n {'points': 0},\n {'points': -1, 'flood_depth': 23, 'report_type': 'flood'},\n {'points': -1, 'flood_depth': 15, 'report_type': 'flood'},\n {'points': 1, 'flood_depth': 31, 'report_type': 'flood'},\n {'report_type': 'flood', 'flood_depth': 47},\n {'report_type': 'flood', 'flood_depth': 20},\n {'points': 1, 'flood_depth': 15, 'report_type': 'flood'},\n {'report_type': 'flood', 'flood_depth': 28},\n {'points': 1, 'flood_depth': 40, 'report_type': 'flood'},\n {'report_type': 'flood', 'flood_depth': 50},\n {'report_type': 'flood', 'flood_depth': 20},\n {'points': 1, 'flood_depth': 25, 'report_type': 'flood'},\n {'points': 1, 'flood_depth': 61, 'report_type': 'flood'},\n {'report_type': 'flood', 'flood_depth': 37},\n {'report_type': 'flood', 'flood_depth': 36},\n {'report_type': 'flood', 'flood_depth': 40},\n {'report_type': 'flood', 'flood_depth': 50},\n {'points': 1, 'flood_depth': 52, 'report_type': 'flood'},\n {'points': 2, 'flood_depth': 65, 'report_type': 'flood'},\n {'report_type': 'flood', 'flood_depth': 83},\n {'report_type': 'flood', 'flood_depth': 47},\n {'report_type': 'flood', 'flood_depth': 195},\n {'report_type': 'flood', 'flood_depth': 195},\n {'report_type': 'flood', 'flood_depth': 59},\n {'report_type': 'flood', 'flood_depth': 40},\n {'points': 1, 'flood_depth': 20, 'report_type': 'flood'},\n {'points': 1, 'flood_depth': 41, 'report_type': 'flood'},\n {'report_type': 'flood', 'flood_depth': 24},\n {'report_type': 'flood', 'flood_depth': 39},\n {'report_type': 'flood', 'flood_depth': 48},\n {'report_type': 'flood', 'flood_depth': 63},\n {'report_type': 'flood', 'flood_depth': 90},\n {'report_type': 'flood', 'flood_depth': 75},\n {'report_type': 'flood', 'flood_depth': 23},\n {'report_type': 'flood', 'flood_depth': 10},\n {'points': -1, 'flood_depth': 60, 'report_type': 'flood'},\n {'report_type': 'flood', 'flood_depth': 79},\n {'report_type': 'flood', 'flood_depth': 89},\n {'report_type': 'flood', 'flood_depth': 78},\n {'report_type': 'flood', 'flood_depth': 44},\n {'report_type': 'flood', 'flood_depth': 32},\n {'points': 1, 'flood_depth': 66, 'report_type': 'flood'},\n {'report_type': 'flood', 'flood_depth': 87},\n {'report_type': 'flood', 'flood_depth': 13},\n {'report_type': 'flood', 'flood_depth': 23},\n {'report_type': 'flood', 'flood_depth': 106},\n {'report_type': 'flood', 'flood_depth': 33},\n {'points': 1, 'flood_depth': 40, 'report_type': 'flood'},\n {'report_type': 'flood', 'flood_depth': 14},\n {'report_type': 'flood', 'flood_depth': 26},\n {'report_type': 'flood', 'flood_depth': 39},\n {'report_type': 'flood', 'flood_depth': 15},\n {'report_type': 'flood', 'flood_depth': 35},\n {'report_type': 'flood', 'flood_depth': 45},\n {'report_type': 'flood', 'flood_depth': 26},\n {'report_type': 'flood', 'flood_depth': 50},\n {'report_type': 'flood', 'flood_depth': 10},\n {'report_type': 'flood', 'flood_depth': 23},\n {'report_type': 'flood', 'flood_depth': 21},\n {'report_type': 'flood', 'flood_depth': 39},\n {'report_type': 'flood', 'flood_depth': 21},\n {'report_type': 'flood', 'flood_depth': 43},\n {'report_type': 'flood', 'flood_depth': 53},\n {'report_type': 'flood', 'flood_depth': 44},\n {'report_type': 'flood', 'flood_depth': 26},\n {'report_type': 'flood', 'flood_depth': 40},\n {'report_type': 'flood', 'flood_depth': 24},\n {'report_type': 'flood', 'flood_depth': 58},\n {'report_type': 'flood', 'flood_depth': 55},\n {'report_type': 'flood', 'flood_depth': 25},\n {'report_type': 'flood', 'flood_depth': 18},\n {'report_type': 'flood', 'flood_depth': 21},\n {'report_type': 'flood', 'flood_depth': 21},\n {'report_type': 'flood', 'flood_depth': 62},\n {'report_type': 'flood', 'flood_depth': 42},\n {'report_type': 'flood', 'flood_depth': 17},\n {'report_type': 'flood', 'flood_depth': 23},\n {'report_type': 'flood', 'flood_depth': 45},\n {'report_type': 'flood', 'flood_depth': 35},\n {'report_type': 'flood', 'flood_depth': 42},\n {'report_type': 'flood', 'flood_depth': 39},\n {'report_type': 'flood', 'flood_depth': 32},\n {'report_type': 'flood', 'flood_depth': 13},\n {'report_type': 'flood', 'flood_depth': 30},\n {'report_type': 'flood', 'flood_depth': 25},\n {'report_type': 'flood', 'flood_depth': 77},\n {'points': -1, 'flood_depth': 1, 'report_type': 'flood'},\n {'report_type': 'flood', 'flood_depth': 56},\n {'report_type': 'flood', 'flood_depth': 47},\n {'report_type': 'flood', 'flood_depth': 50},\n {'report_type': 'flood', 'flood_depth': 60},\n {'report_type': 'flood', 'flood_depth': 25},\n {'points': -1, 'flood_depth': 47, 'report_type': 'flood'},\n {'points': -1, 'flood_depth': 45, 'report_type': 'flood'},\n {'points': -2, 'flood_depth': 106, 'report_type': 'flood'},\n {'report_type': 'flood', 'flood_depth': 47},\n {'report_type': 'flood', 'flood_depth': 144},\n {'report_type': 'flood', 'flood_depth': 84},\n {'report_type': 'flood', 'flood_depth': 29},\n {'report_type': 'flood', 'flood_depth': 18},\n {'report_type': 'flood', 'flood_depth': 50},\n {'report_type': 'flood', 'flood_depth': 50},\n {'report_type': 'flood', 'flood_depth': 51},\n {'report_type': 'flood', 'flood_depth': 45},\n {'report_type': 'flood', 'flood_depth': 50},\n {'points': 2, 'flood_depth': 81, 'report_type': 'flood'},\n {'report_type': 'flood', 'flood_depth': 20},\n {'report_type': 'flood', 'flood_depth': 29},\n {'report_type': 'flood', 'flood_depth': 180},\n {'report_type': 'flood', 'flood_depth': 34},\n {'report_type': 'flood', 'flood_depth': 20},\n {'report_type': 'flood', 'flood_depth': 23},\n {'report_type': 'flood', 'flood_depth': 1},\n {'report_type': 'flood', 'flood_depth': 10},\n {'report_type': 'flood', 'flood_depth': 80},\n {'report_type': 'flood', 'flood_depth': 100},\n {'report_type': 'flood', 'flood_depth': 16},\n {'report_type': 'flood', 'flood_depth': 21},\n {'report_type': 'flood', 'flood_depth': 114},\n {'report_type': 'flood', 'flood_depth': 29},\n {'report_type': 'flood', 'flood_depth': 24},\n {'report_type': 'flood', 'flood_depth': 10},\n {'report_type': 'flood', 'flood_depth': 48},\n {'points': 1, 'flood_depth': 62, 'report_type': 'flood'},\n {'report_type': 'flood', 'flood_depth': 40},\n {'report_type': 'flood', 'flood_depth': 47},\n {'report_type': 'flood', 'flood_depth': 53},\n {'report_type': 'flood', 'flood_depth': 25},\n {'report_type': 'flood', 'flood_depth': 20},\n {'report_type': 'flood', 'flood_depth': 16},\n {'report_type': 'flood', 'flood_depth': 45},\n {'report_type': 'flood', 'flood_depth': 28},\n {'report_type': 'flood', 'flood_depth': 20},\n {'report_type': 'flood', 'flood_depth': 30},\n {'report_type': 'flood', 'flood_depth': 61},\n {'report_type': 'flood', 'flood_depth': 195},\n {'report_type': 'flood', 'flood_depth': 146},\n {'report_type': 'flood', 'flood_depth': 25},\n {'points': 1, 'flood_depth': 46, 'report_type': 'flood'},\n {'report_type': 'flood', 'flood_depth': 45},\n {'report_type': 'flood', 'flood_depth': 45},\n {'report_type': 'flood', 'flood_depth': 20},\n {'report_type': 'flood', 'flood_depth': 44},\n {'report_type': 'flood', 'flood_depth': 50},\n {'report_type': 'flood', 'flood_depth': 78},\n {'report_type': 'flood', 'flood_depth': 30},\n {'report_type': 'flood', 'flood_depth': 27},\n {'report_type': 'flood', 'flood_depth': 10},\n {'report_type': 'flood', 'flood_depth': 37},\n {'report_type': 'flood', 'flood_depth': 50},\n {'report_type': 'flood', 'flood_depth': 40},\n {'report_type': 'flood', 'flood_depth': 25},\n {'report_type': 'flood', 'flood_depth': 23},\n {'report_type': 'flood', 'flood_depth': 29},\n {'report_type': 'flood', 'flood_depth': 30},\n {'report_type': 'flood', 'flood_depth': 55},\n {'points': 1, 'flood_depth': 30, 'report_type': 'flood'},\n {'report_type': 'flood', 'flood_depth': 50},\n {'report_type': 'flood', 'flood_depth': 30},\n {'points': 1, 'flood_depth': 101, 'report_type': 'flood'},\n {'report_type': 'flood', 'flood_depth': 32},\n {'report_type': 'flood', 'flood_depth': 60},\n {'report_type': 'flood', 'flood_depth': 46},\n {'report_type': 'flood', 'flood_depth': 34},\n {'report_type': 'flood', 'flood_depth': 40},\n {'report_type': 'flood', 'flood_depth': 40},\n {'report_type': 'flood', 'flood_depth': 42},\n {'report_type': 'flood', 'flood_depth': 40},\n {'report_type': 'flood', 'flood_depth': 40},\n {'report_type': 'flood', 'flood_depth': 60},\n {'report_type': 'flood', 'flood_depth': 40},\n {'points': 1, 'flood_depth': 19, 'report_type': 'flood'},\n {'report_type': 'flood', 'flood_depth': 52},\n {'report_type': 'flood', 'flood_depth': 40},\n {'report_type': 'flood', 'flood_depth': 51},\n {'report_type': 'flood', 'flood_depth': 40},\n {'report_type': 'flood', 'flood_depth': 40},\n {'report_type': 'flood', 'flood_depth': 65},\n {'report_type': 'flood', 'flood_depth': 40},\n {'report_type': 'flood', 'flood_depth': 50},\n {'points': 0, 'flood_depth': 35, 'report_type': 'flood'},\n {'report_type': 'flood', 'flood_depth': 35},\n {'report_type': 'flood', 'flood_depth': 66},\n {'points': 1, 'flood_depth': 40, 'report_type': 'flood'},\n {'report_type': 'flood', 'flood_depth': 35},\n {'report_type': 'flood', 'flood_depth': 40},\n {'report_type': 'flood', 'flood_depth': 20},\n {'report_type': 'flood', 'flood_depth': 40},\n {'report_type': 'flood', 'flood_depth': 56},\n {'report_type': 'flood', 'flood_depth': 60},\n {'report_type': 'flood', 'flood_depth': 144},\n {'report_type': 'flood', 'flood_depth': 23},\n {'report_type': 'flood', 'flood_depth': 31},\n {'report_type': 'flood', 'flood_depth': 45},\n {'report_type': 'flood', 'flood_depth': 25},\n {'report_type': 'flood', 'flood_depth': 22},\n {'report_type': 'flood', 'flood_depth': 26},\n {'report_type': 'flood', 'flood_depth': 70},\n {'report_type': 'flood', 'flood_depth': 36},\n {'points': -1, 'flood_depth': 43, 'report_type': 'flood'},\n {'report_type': 'flood', 'flood_depth': 61},\n {'report_type': 'flood', 'flood_depth': 30},\n {'report_type': 'flood', 'flood_depth': 20},\n {'points': 1, 'flood_depth': 76, 'report_type': 'flood'},\n {'report_type': 'flood', 'flood_depth': 46},\n {'report_type': 'flood', 'flood_depth': 60},\n {'report_type': 'flood', 'flood_depth': 35},\n {'points': 1, 'flood_depth': 58, 'report_type': 'flood'},\n {'points': 1, 'flood_depth': 49, 'report_type': 'flood'},\n {'report_type': 'flood', 'flood_depth': 20},\n {'report_type': 'flood', 'flood_depth': 60},\n {'report_type': 'flood', 'flood_depth': 1},\n {'points': 1, 'flood_depth': 18, 'report_type': 'flood'},\n {'report_type': 'flood', 'flood_depth': 17},\n {'report_type': 'flood', 'flood_depth': 52},\n {'report_type': 'flood', 'flood_depth': 30},\n {'report_type': 'flood', 'flood_depth': 27},\n {'report_type': 'flood', 'flood_depth': 1},\n {'report_type': 'flood', 'flood_depth': 60},\n {'report_type': 'flood', 'flood_depth': 15},\n {'report_type': 'flood', 'flood_depth': 10},\n {'report_type': 'flood', 'flood_depth': 50},\n {'report_type': 'flood', 'flood_depth': 40},\n {'report_type': 'flood', 'flood_depth': 49},\n {'report_type': 'flood', 'flood_depth': 3},\n {'report_type': 'flood', 'flood_depth': 5},\n {'report_type': 'flood', 'flood_depth': 28},\n {'report_type': 'flood', 'flood_depth': 28},\n {'report_type': 'flood', 'flood_depth': 35},\n {'report_type': 'flood', 'flood_depth': 35},\n {'report_type': 'flood', 'flood_depth': 75},\n {'report_type': 'flood', 'flood_depth': 75},\n {'report_type': 'flood', 'flood_depth': 20},\n {'report_type': 'flood', 'flood_depth': 66},\n {'report_type': 'flood', 'flood_depth': 10},\n {'report_type': 'flood', 'flood_depth': 33},\n {'report_type': 'flood', 'flood_depth': 30},\n {'report_type': 'flood', 'flood_depth': 34},\n {'report_type': 'flood', 'flood_depth': 105},\n {'report_type': 'flood', 'flood_depth': 16},\n {'report_type': 'flood', 'flood_depth': 12},\n {'report_type': 'flood', 'flood_depth': 48},\n {'report_type': 'flood', 'flood_depth': 68},\n {'report_type': 'flood', 'flood_depth': 42},\n {'points': 1, 'flood_depth': 56, 'report_type': 'flood'},\n {'report_type': 'flood', 'flood_depth': 25},\n {'report_type': 'flood', 'flood_depth': 11},\n {'report_type': 'flood', 'flood_depth': 68},\n {'report_type': 'flood', 'flood_depth': 79},\n {'report_type': 'flood', 'flood_depth': 50},\n {'report_type': 'flood', 'flood_depth': 91},\n {'report_type': 'flood', 'flood_depth': 5},\n {'report_type': 'flood', 'flood_depth': 4},\n {'report_type': 'flood', 'flood_depth': 20},\n {'report_type': 'flood', 'flood_depth': 80},\n {'report_type': 'flood', 'flood_depth': 50},\n {'report_type': 'flood', 'flood_depth': 30},\n {'report_type': 'flood', 'flood_depth': 50},\n {'report_type': 'flood', 'flood_depth': 49},\n {'report_type': 'flood', 'flood_depth': 40},\n {'points': 1, 'flood_depth': 63, 'report_type': 'flood'},\n {'report_type': 'flood', 'flood_depth': 37},\n {'report_type': 'flood', 'flood_depth': 80},\n {'report_type': 'flood', 'flood_depth': 100},\n {'points': 1, 'flood_depth': 77, 'report_type': 'flood'},\n {'report_type': 'flood', 'flood_depth': 67},\n {'report_type': 'flood', 'flood_depth': 11},\n {'report_type': 'flood', 'flood_depth': 39},\n {'report_type': 'flood', 'flood_depth': 55},\n {'report_type': 'flood', 'flood_depth': 27},\n {'report_type': 'flood', 'flood_depth': 51},\n {'report_type': 'flood', 'flood_depth': 50},\n {'report_type': 'flood', 'flood_depth': 39},\n {'report_type': 'flood', 'flood_depth': 49},\n {'report_type': 'flood', 'flood_depth': 102},\n {'report_type': 'flood', 'flood_depth': 45},\n {'report_type': 'flood', 'flood_depth': 45},\n {'report_type': 'flood', 'flood_depth': 55},\n {'report_type': 'flood', 'flood_depth': 36},\n {'report_type': 'flood', 'flood_depth': 119},\n {'points': 1, 'flood_depth': 30, 'report_type': 'flood'},\n {'report_type': 'flood', 'flood_depth': 55},\n {'report_type': 'flood', 'flood_depth': 40},\n {'report_type': 'flood', 'flood_depth': 25},\n {'report_type': 'flood', 'flood_depth': 70},\n {'report_type': 'flood', 'flood_depth': 22},\n {'report_type': 'flood', 'flood_depth': 70},\n {'report_type': 'flood', 'flood_depth': 86},\n {'report_type': 'flood', 'flood_depth': 44},\n {'report_type': 'flood', 'flood_depth': 50},\n {'report_type': 'flood', 'flood_depth': 15},\n {'report_type': 'flood', 'flood_depth': 25},\n {'report_type': 'flood', 'flood_depth': 10},\n {'report_type': 'flood', 'flood_depth': 44},\n {'report_type': 'flood', 'flood_depth': 132},\n {'report_type': 'flood', 'flood_depth': 30},\n {'report_type': 'flood', 'flood_depth': 35},\n {'report_type': 'flood', 'flood_depth': 75},\n {'report_type': 'flood', 'flood_depth': 53},\n {'report_type': 'flood', 'flood_depth': 75},\n {'report_type': 'flood', 'flood_depth': 81},\n {'report_type': 'flood', 'flood_depth': 15},\n {'report_type': 'flood', 'flood_depth': 87},\n {'report_type': 'flood', 'flood_depth': 41},\n {'report_type': 'flood', 'flood_depth': 195},\n {'report_type': 'flood', 'flood_depth': 24},\n {'report_type': 'flood', 'flood_depth': 43},\n {'report_type': 'flood', 'flood_depth': 40},\n {'report_type': 'flood', 'flood_depth': 50},\n {'report_type': 'flood', 'flood_depth': 25},\n {'report_type': 'flood', 'flood_depth': 60},\n {'report_type': 'flood', 'flood_depth': 40},\n {'report_type': 'flood', 'flood_depth': 53},\n {'report_type': 'flood', 'flood_depth': 50},\n {'report_type': 'flood', 'flood_depth': 45},\n {'points': 1, 'flood_depth': 40, 'report_type': 'flood'},\n {'report_type': 'flood', 'flood_depth': 42},\n {'report_type': 'flood', 'flood_depth': 98},\n {'report_type': 'flood', 'flood_depth': 20},\n {'report_type': 'flood', 'flood_depth': 67},\n {'report_type': 'flood', 'flood_depth': 23},\n {'report_type': 'flood', 'flood_depth': 53},\n {'report_type': 'flood', 'flood_depth': 51},\n {'report_type': 'flood', 'flood_depth': 29},\n {'report_type': 'flood', 'flood_depth': 47},\n {'report_type': 'flood', 'flood_depth': 49},\n {'report_type': 'flood', 'flood_depth': 21},\n {'report_type': 'flood', 'flood_depth': 36},\n {'report_type': 'flood', 'flood_depth': 48},\n {'report_type': 'flood', 'flood_depth': 66},\n {'report_type': 'flood', 'flood_depth': 36},\n {'points': 1, 'flood_depth': 10, 'report_type': 'flood'},\n {'report_type': 'flood', 'flood_depth': 66},\n {'report_type': 'flood', 'flood_depth': 35},\n {'report_type': 'flood', 'flood_depth': 26},\n {'report_type': 'flood', 'flood_depth': 70},\n {'report_type': 'flood', 'flood_depth': 50},\n {'report_type': 'flood', 'flood_depth': 30},\n {'report_type': 'flood', 'flood_depth': 44},\n {'points': 1, 'flood_depth': 59, 'report_type': 'flood'},\n {'report_type': 'flood', 'flood_depth': 65},\n {'report_type': 'flood', 'flood_depth': 46},\n {'report_type': 'flood', 'flood_depth': 40},\n {'report_type': 'flood', 'flood_depth': 91},\n {'report_type': 'flood', 'flood_depth': 50},\n {'report_type': 'flood', 'flood_depth': 33},\n {'points': 1, 'flood_depth': 10, 'report_type': 'flood'},\n {'report_type': 'flood', 'flood_depth': 72},\n {'report_type': 'flood', 'flood_depth': 30},\n {'report_type': 'flood', 'flood_depth': 51},\n {'report_type': 'flood', 'flood_depth': 55},\n {'report_type': 'flood', 'flood_depth': 54},\n {'points': 1, 'flood_depth': 30, 'report_type': 'flood'},\n {'report_type': 'flood', 'flood_depth': 60},\n {'report_type': 'flood', 'flood_depth': 56},\n {'report_type': 'flood', 'flood_depth': 32},\n {'report_type': 'flood', 'flood_depth': 25},\n {'report_type': 'flood', 'flood_depth': 25},\n {'report_type': 'flood', 'flood_depth': 25},\n {'report_type': 'flood', 'flood_depth': 30},\n {'report_type': 'flood', 'flood_depth': 30},\n {'report_type': 'flood', 'flood_depth': 68},\n {'report_type': 'flood', 'flood_depth': 64},\n {'points': 1, 'flood_depth': 60, 'report_type': 'flood'},\n {'report_type': 'flood', 'flood_depth': 59},\n {'report_type': 'flood', 'flood_depth': 41},\n {'points': -2, 'flood_depth': 51, 'report_type': 'flood'},\n {'report_type': 'flood', 'flood_depth': 63},\n {'report_type': 'flood', 'flood_depth': 35},\n {'report_type': 'flood', 'flood_depth': 40},\n {'report_type': 'flood', 'flood_depth': 60},\n {'report_type': 'flood', 'flood_depth': 64},\n {'report_type': 'flood', 'flood_depth': 50},\n {'report_type': 'flood', 'flood_depth': 70},\n {'points': 1, 'flood_depth': 44, 'report_type': 'flood'},\n {'report_type': 'flood', 'flood_depth': 81},\n {'report_type': 'flood', 'flood_depth': 52},\n {'report_type': 'flood', 'flood_depth': 25},\n {'report_type': 'flood', 'flood_depth': 65},\n {'report_type': 'flood', 'flood_depth': 30},\n {'report_type': 'flood', 'flood_depth': 40},\n {'report_type': 'flood', 'flood_depth': 34},\n {'points': 1, 'flood_depth': 69, 'report_type': 'flood'},\n {'report_type': 'flood', 'flood_depth': 20},\n {'report_type': 'flood', 'flood_depth': 22},\n {'report_type': 'flood', 'flood_depth': 43},\n {'points': -1, 'flood_depth': 60, 'report_type': 'flood'},\n {'report_type': 'flood', 'flood_depth': 49},\n {'report_type': 'flood', 'flood_depth': 55},\n {'report_type': 'flood', 'flood_depth': 39},\n {'points': 1, 'flood_depth': 50, 'report_type': 'flood'},\n {'report_type': 'flood', 'flood_depth': 96},\n {'report_type': 'flood', 'flood_depth': 96},\n {'report_type': 'flood', 'flood_depth': 15},\n {'report_type': 'flood', 'flood_depth': 46},\n {'report_type': 'flood', 'flood_depth': 60},\n {'points': 1, 'flood_depth': 60, 'report_type': 'flood'},\n {'report_type': 'flood', 'flood_depth': 50},\n {'report_type': 'flood', 'flood_depth': 32},\n {'report_type': 'flood', 'flood_depth': 19},\n {'report_type': 'flood', 'flood_depth': 40},\n {'report_type': 'flood', 'flood_depth': 59},\n {'report_type': 'flood', 'flood_depth': 47},\n {'report_type': 'flood', 'flood_depth': 118},\n {'points': 1, 'flood_depth': 100, 'report_type': 'flood'},\n {'report_type': 'flood', 'flood_depth': 26},\n {'report_type': 'flood', 'flood_depth': 44},\n {'points': 1, 'flood_depth': 89, 'report_type': 'flood'},\n {'points': 1, 'flood_depth': 30, 'report_type': 'flood'},\n {'report_type': 'flood', 'flood_depth': 24},\n {'points': 1, 'flood_depth': 16, 'report_type': 'flood'},\n {'report_type': 'flood', 'flood_depth': 13},\n {'report_type': 'flood', 'flood_depth': 21},\n {'report_type': 'flood', 'flood_depth': 49},\n {'points': 1, 'flood_depth': 60, 'report_type': 'flood'},\n {'report_type': 'flood', 'flood_depth': 34},\n {'points': 1, 'flood_depth': 30, 'report_type': 'flood'},\n {'report_type': 'flood', 'flood_depth': 35},\n {'report_type': 'flood', 'flood_depth': 50},\n {'points': 1, 'flood_depth': 83, 'report_type': 'flood'},\n {'report_type': 'flood', 'flood_depth': 51},\n {'report_type': 'flood', 'flood_depth': 134},\n {'report_type': 'flood', 'flood_depth': 150},\n {'report_type': 'flood', 'flood_depth': 107},\n {'report_type': 'flood', 'flood_depth': 59},\n {'report_type': 'flood', 'flood_depth': 50},\n {'report_type': 'flood', 'flood_depth': 88},\n {'report_type': 'flood', 'flood_depth': 81},\n {'points': 1, 'flood_depth': 57, 'report_type': 'flood'},\n {'report_type': 'flood', 'flood_depth': 50},\n {'report_type': 'flood', 'flood_depth': 43},\n {'report_type': 'flood', 'flood_depth': 47},\n {'report_type': 'flood', 'flood_depth': 34},\n {'report_type': 'flood', 'flood_depth': 50},\n {'report_type': 'flood', 'flood_depth': 21},\n {'report_type': 'flood', 'flood_depth': 18},\n {'report_type': 'flood', 'flood_depth': 54},\n {'points': -1, 'flood_depth': 50, 'report_type': 'flood'},\n {'report_type': 'flood', 'flood_depth': 30},\n {'report_type': 'flood', 'flood_depth': 47},\n {'points': 1},\n {'points': 1, 'flood_depth': 49, 'report_type': 'flood'},\n {'report_type': 'flood', 'flood_depth': 70},\n {'report_type': 'flood', 'flood_depth': 70},\n {'points': 1},\n {'report_type': 'flood', 'flood_depth': 70},\n {'report_type': 'flood', 'flood_depth': 50},\n {'report_type': 'flood', 'flood_depth': 38},\n {'points': 1, 'flood_depth': 125, 'report_type': 'flood'},\n {'report_type': 'flood', 'flood_depth': 30},\n {'report_type': 'flood', 'flood_depth': 25},\n {'report_type': 'flood', 'flood_depth': 25},\n {'report_type': 'flood', 'flood_depth': 20},\n {'report_type': 'flood', 'flood_depth': 51},\n {'report_type': 'flood', 'flood_depth': 55},\n {'report_type': 'flood', 'flood_depth': 80},\n {'report_type': 'flood', 'flood_depth': 71},\n {'report_type': 'flood', 'flood_depth': 40},\n {'report_type': 'flood', 'flood_depth': 56},\n {'report_type': 'flood', 'flood_depth': 98},\n {'points': 1, 'flood_depth': 40, 'report_type': 'flood'},\n {'points': 1, 'flood_depth': 46, 'report_type': 'flood'},\n {'report_type': 'flood', 'flood_depth': 177},\n {'report_type': 'flood', 'flood_depth': 50},\n {'points': -1, 'flood_depth': 60, 'report_type': 'flood'},\n {'report_type': 'flood', 'flood_depth': 54},\n {'report_type': 'flood', 'flood_depth': 88},\n {'report_type': 'flood', 'flood_depth': 46},\n {'points': 0, 'flood_depth': 100, 'report_type': 'flood'},\n {'report_type': 'flood', 'flood_depth': 58},\n {'report_type': 'flood', 'flood_depth': 70},\n {'report_type': 'flood', 'flood_depth': 54},\n {'report_type': 'flood', 'flood_depth': 54},\n {'report_type': 'flood', 'flood_depth': 71},\n {'report_type': 'flood', 'flood_depth': 35},\n {'report_type': 'flood', 'flood_depth': 50},\n {'report_type': 'flood', 'flood_depth': 24},\n {'points': -1, 'flood_depth': 41, 'report_type': 'flood'},\n {'report_type': 'flood', 'flood_depth': 55},\n {'report_type': 'flood', 'flood_depth': 80},\n {'report_type': 'flood', 'flood_depth': 55},\n {'report_type': 'flood', 'flood_depth': 60},\n {'report_type': 'flood', 'flood_depth': 41},\n {'report_type': 'flood', 'flood_depth': 50},\n {'report_type': 'flood', 'flood_depth': 74},\n {'report_type': 'flood', 'flood_depth': 195},\n {'points': 1, 'flood_depth': 29, 'report_type': 'flood'},\n {'report_type': 'flood', 'flood_depth': 28},\n {'report_type': 'flood', 'flood_depth': 70},\n {'points': 1, 'flood_depth': 48, 'report_type': 'flood'},\n {'report_type': 'flood', 'flood_depth': 20},\n {'points': 1, 'flood_depth': 47, 'report_type': 'flood'},\n {'report_type': 'flood', 'flood_depth': 40},\n {'report_type': 'flood', 'flood_depth': 44},\n {'report_type': 'flood', 'flood_depth': 65},\n {'report_type': 'flood', 'flood_depth': 57},\n {'report_type': 'flood', 'flood_depth': 50},\n {'report_type': 'flood', 'flood_depth': 64},\n {'report_type': 'flood', 'flood_depth': 195},\n {'report_type': 'flood', 'flood_depth': 36},\n {'report_type': 'flood', 'flood_depth': 191},\n {'report_type': 'flood', 'flood_depth': 45},\n {'report_type': 'flood', 'flood_depth': 1},\n {'report_type': 'flood', 'flood_depth': 76},\n {'report_type': 'flood', 'flood_depth': 100},\n {'report_type': 'flood', 'flood_depth': 48},\n {'points': 1, 'flood_depth': 45, 'report_type': 'flood'},\n {'report_type': 'flood', 'flood_depth': 43},\n {'report_type': 'flood', 'flood_depth': 15},\n {'report_type': 'flood', 'flood_depth': 49},\n {'report_type': 'flood', 'flood_depth': 20},\n {'report_type': 'flood', 'flood_depth': 36},\n {'report_type': 'flood', 'flood_depth': 74},\n {'points': 1, 'flood_depth': 49, 'report_type': 'flood'},\n {'report_type': 'flood', 'flood_depth': 18},\n {'report_type': 'flood', 'flood_depth': 73},\n {'report_type': 'flood', 'flood_depth': 35},\n {'report_type': 'flood', 'flood_depth': 43},\n {'report_type': 'flood', 'flood_depth': 88},\n {'report_type': 'flood', 'flood_depth': 28},\n {'report_type': 'flood', 'flood_depth': 75},\n {'report_type': 'flood', 'flood_depth': 60},\n {'report_type': 'flood', 'flood_depth': 30},\n {'report_type': 'flood', 'flood_depth': 51},\n {'report_type': 'flood', 'flood_depth': 40},\n {'report_type': 'flood', 'flood_depth': 25},\n {'report_type': 'flood', 'flood_depth': 80},\n {'report_type': 'flood', 'flood_depth': 83},\n {'points': 1, 'flood_depth': 76, 'report_type': 'flood'},\n {'report_type': 'flood', 'flood_depth': 95},\n {'report_type': 'flood', 'flood_depth': 72},\n {'points': 1, 'flood_depth': 42, 'report_type': 'flood'},\n {'report_type': 'flood', 'flood_depth': 33},\n {'points': 0, 'flood_depth': 46, 'report_type': 'flood'},\n {'report_type': 'flood', 'flood_depth': 58},\n {'points': 0, 'flood_depth': 72, 'report_type': 'flood'},\n {'report_type': 'flood', 'flood_depth': 55},\n {'report_type': 'flood', 'flood_depth': 26},\n {'report_type': 'flood', 'flood_depth': 36},\n {'report_type': 'flood', 'flood_depth': 101},\n {'points': -1, 'flood_depth': 30, 'report_type': 'flood'},\n {'report_type': 'flood', 'flood_depth': 54},\n {'report_type': 'flood', 'flood_depth': 58},\n {'report_type': 'flood', 'flood_depth': 75},\n {'report_type': 'flood', 'flood_depth': 34},\n {'report_type': 'flood', 'flood_depth': 75},\n {'report_type': 'flood', 'flood_depth': 50},\n {'points': -1, 'flood_depth': 70, 'report_type': 'flood'},\n {'report_type': 'flood', 'flood_depth': 48},\n {'report_type': 'flood', 'flood_depth': 76},\n {'points': 1, 'flood_depth': 37, 'report_type': 'flood'},\n {'report_type': 'flood', 'flood_depth': 95},\n {'report_type': 'flood', 'flood_depth': 42},\n {'report_type': 'flood', 'flood_depth': 50},\n {'points': 1, 'flood_depth': 70, 'report_type': 'flood'},\n {'report_type': 'flood', 'flood_depth': 48},\n {'report_type': 'flood', 'flood_depth': 30},\n {'report_type': 'flood', 'flood_depth': 48},\n {'report_type': 'flood', 'flood_depth': 144},\n {'points': 0, 'flood_depth': 67, 'report_type': 'flood'},\n {'report_type': 'flood', 'flood_depth': 55},\n {'report_type': 'flood', 'flood_depth': 16},\n {'report_type': 'flood', 'flood_depth': 40},\n {'report_type': 'flood', 'flood_depth': 50},\n {'report_type': 'flood', 'flood_depth': 49},\n {'report_type': 'flood', 'flood_depth': 40},\n {'points': 1, 'flood_depth': 127, 'report_type': 'flood'},\n {'report_type': 'flood', 'flood_depth': 56},\n {'report_type': 'flood', 'flood_depth': 50},\n {'report_type': 'flood', 'flood_depth': 60},\n {'report_type': 'flood', 'flood_depth': 23},\n {'report_type': 'flood', 'flood_depth': 49},\n {'report_type': 'flood', 'flood_depth': 44},\n {'report_type': 'flood', 'flood_depth': 30},\n {'points': 1, 'flood_depth': 83, 'report_type': 'flood'},\n {'report_type': 'flood', 'flood_depth': 42},\n {'report_type': 'flood', 'flood_depth': 103},\n {'points': 1, 'flood_depth': 41, 'report_type': 'flood'},\n {'report_type': 'flood', 'flood_depth': 50},\n {'points': 1, 'flood_depth': 58, 'report_type': 'flood'},\n {'report_type': 'flood', 'flood_depth': 41},\n {'report_type': 'flood', 'flood_depth': 50},\n {'report_type': 'flood', 'flood_depth': 26},\n {'report_type': 'flood', 'flood_depth': 35},\n {'report_type': 'flood', 'flood_depth': 36},\n {'report_type': 'flood', 'flood_depth': 69},\n {'report_type': 'flood', 'flood_depth': 50},\n {'report_type': 'flood', 'flood_depth': 54},\n {'report_type': 'flood', 'flood_depth': 99},\n {'report_type': 'flood', 'flood_depth': 50},\n {'points': -1, 'flood_depth': 25, 'report_type': 'flood'},\n {'points': 1, 'flood_depth': 24, 'report_type': 'flood'},\n {'report_type': 'flood', 'flood_depth': 90},\n {'report_type': 'flood', 'flood_depth': 49},\n {'report_type': 'flood', 'flood_depth': 60},\n {'report_type': 'flood', 'flood_depth': 19},\n {'report_type': 'flood', 'flood_depth': 63},\n {'report_type': 'flood', 'flood_depth': 34},\n {'report_type': 'flood', 'flood_depth': 41},\n {'report_type': 'flood', 'flood_depth': 50},\n {'report_type': 'flood', 'flood_depth': 40},\n {'points': 1, 'flood_depth': 63, 'report_type': 'flood'},\n {'points': 1, 'flood_depth': 20, 'report_type': 'flood'},\n {'report_type': 'flood', 'flood_depth': 50},\n {'report_type': 'flood', 'flood_depth': 60},\n {'report_type': 'flood', 'flood_depth': 53},\n {'report_type': 'flood', 'flood_depth': 60},\n {'report_type': 'flood', 'flood_depth': 58},\n {'points': 3, 'flood_depth': 21, 'report_type': 'flood'},\n {'points': 1, 'flood_depth': 20, 'report_type': 'flood'},\n {'points': 2, 'flood_depth': 63, 'report_type': 'flood'},\n {'report_type': 'flood', 'flood_depth': 20},\n {'report_type': 'flood', 'flood_depth': 35},\n {'points': 1, 'flood_depth': 54, 'report_type': 'flood'},\n {'report_type': 'flood', 'flood_depth': 20},\n {'points': 1, 'flood_depth': 47, 'report_type': 'flood'},\n {'points': 1, 'flood_depth': 61, 'report_type': 'flood'},\n {'points': 2, 'flood_depth': 50, 'report_type': 'flood'},\n {'points': 1, 'flood_depth': 71, 'report_type': 'flood'},\n {'points': 1, 'flood_depth': 60, 'report_type': 'flood'},\n {'points': 1, 'flood_depth': 61, 'report_type': 'flood'},\n {'points': 1, 'flood_depth': 49, 'report_type': 'flood'},\n {'report_type': 'flood', 'flood_depth': 50},\n {'points': -1, 'flood_depth': 80, 'report_type': 'flood'},\n {'points': 2, 'flood_depth': 112, 'report_type': 'flood'},\n {'points': 1, 'flood_depth': 28, 'report_type': 'flood'},\n {'report_type': 'flood', 'flood_depth': 73},\n {'points': 1, 'flood_depth': 39, 'report_type': 'flood'},\n {'points': 1, 'flood_depth': 30, 'report_type': 'flood'},\n {'points': 1, 'flood_depth': 24, 'report_type': 'flood'},\n {'report_type': 'flood', 'flood_depth': 80},\n {'report_type': 'flood', 'flood_depth': 29},\n {'points': 4, 'flood_depth': 107, 'report_type': 'flood'},\n {'points': 1, 'flood_depth': 30, 'report_type': 'flood'},\n {'report_type': 'flood', 'flood_depth': 50},\n {'points': 1, 'flood_depth': 87, 'report_type': 'flood'},\n {'points': 0, 'flood_depth': 39, 'report_type': 'flood'},\n {'points': 1, 'flood_depth': 84, 'report_type': 'flood'},\n {'points': 1, 'flood_depth': 55, 'report_type': 'flood'},\n {'points': 1, 'flood_depth': 20, 'report_type': 'flood'},\n {'points': 1, 'flood_depth': 48, 'report_type': 'flood'},\n {'points': 1, 'flood_depth': 37, 'report_type': 'flood'},\n {'points': 1, 'flood_depth': 28, 'report_type': 'flood'},\n {'points': 1, 'flood_depth': 60, 'report_type': 'flood'},\n {'points': 1, 'flood_depth': 50, 'report_type': 'flood'},\n {'report_type': 'flood', 'flood_depth': 18},\n {'report_type': 'flood', 'flood_depth': 23},\n {'points': 1, 'flood_depth': 14, 'report_type': 'flood'},\n {'points': 1, 'flood_depth': 61, 'report_type': 'flood'},\n {'points': 1, 'flood_depth': 49, 'report_type': 'flood'},\n {'points': 0, 'flood_depth': 112, 'report_type': 'flood'},\n {'report_type': 'flood', 'flood_depth': 62},\n {'points': 1, 'flood_depth': 50, 'report_type': 'flood'},\n {'report_type': 'flood', 'flood_depth': 35},\n {'report_type': 'flood', 'flood_depth': 76},\n {'points': 1, 'flood_depth': 49, 'report_type': 'flood'},\n {'report_type': 'flood', 'flood_depth': 10},\n {'points': 1, 'flood_depth': 33, 'report_type': 'flood'},\n {'points': 0, 'flood_depth': 48, 'report_type': 'flood'},\n {'points': 5, 'flood_depth': 75, 'report_type': 'flood'},\n {'points': 1, 'flood_depth': 65, 'report_type': 'flood'},\n {'points': 1, 'flood_depth': 34, 'report_type': 'flood'},\n {'points': 1, 'flood_depth': 42, 'report_type': 'flood'},\n {'points': 1, 'flood_depth': 45, 'report_type': 'flood'},\n {'points': 1, 'flood_depth': 44, 'report_type': 'flood'},\n {'report_type': 'flood', 'flood_depth': 70},\n {'points': 1, 'flood_depth': 50, 'report_type': 'flood'},\n {'points': 4, 'flood_depth': 49, 'report_type': 'flood'},\n {'points': -2, 'flood_depth': 47, 'report_type': 'flood'},\n {'report_type': 'flood', 'flood_depth': 16},\n {'points': 1, 'flood_depth': 20, 'report_type': 'flood'},\n {'points': 1, 'flood_depth': 40, 'report_type': 'flood'},\n {'points': 1, 'flood_depth': 60, 'report_type': 'flood'},\n {'points': 1, 'flood_depth': 50, 'report_type': 'flood'},\n {'report_type': 'flood', 'flood_depth': 78},\n {'points': 1, 'flood_depth': 95, 'report_type': 'flood'},\n {'report_type': 'flood', 'flood_depth': 100},\n {'report_type': 'flood', 'flood_depth': 45},\n {'points': 1, 'flood_depth': 51, 'report_type': 'flood'},\n {'points': 1, 'flood_depth': 128, 'report_type': 'flood'},\n {'points': 0, 'flood_depth': 30, 'report_type': 'flood'},\n {'points': 1, 'flood_depth': 44, 'report_type': 'flood'},\n {'points': 1, 'flood_depth': 57, 'report_type': 'flood'},\n {'report_type': 'flood', 'flood_depth': 34},\n {'points': 1, 'flood_depth': 30, 'report_type': 'flood'},\n {'report_type': 'flood', 'flood_depth': 45},\n {'report_type': 'flood', 'flood_depth': 60},\n {'points': 1, 'flood_depth': 59, 'report_type': 'flood'},\n {'points': 2, 'flood_depth': 30, 'report_type': 'flood'},\n {'points': 1, 'flood_depth': 40, 'report_type': 'flood'},\n {'report_type': 'flood', 'flood_depth': 20},\n {'report_type': 'flood', 'flood_depth': 72},\n {'report_type': 'flood', 'flood_depth': 49},\n {'points': 1, 'flood_depth': 76, 'report_type': 'flood'},\n {'points': 1, 'flood_depth': 48, 'report_type': 'flood'},\n {'points': 1, 'flood_depth': 70, 'report_type': 'flood'},\n {'report_type': 'flood', 'flood_depth': 29},\n {'report_type': 'flood', 'flood_depth': 54},\n {'report_type': 'flood', 'flood_depth': 125},\n {'report_type': 'flood', 'flood_depth': 148},\n {'report_type': 'flood', 'flood_depth': 24},\n {'report_type': 'flood', 'flood_depth': 121},\n {'report_type': 'flood', 'flood_depth': 50},\n {'points': 1},\n {'points': 1, 'flood_depth': 16, 'report_type': 'flood'},\n {'report_type': 'flood', 'flood_depth': 77},\n {'report_type': 'flood', 'flood_depth': 29},\n {'report_type': 'flood', 'flood_depth': 39},\n {'report_type': 'flood', 'flood_depth': 100},\n {'points': 0, 'flood_depth': 30, 'report_type': 'flood'},\n ...]"
     },
     "metadata": {}
    }
   ]
  },
  {
   "cell_type": "code",
   "metadata": {
    "cell_id": "d337478b11b649beb489e352899f8cd8",
    "tags": [],
    "deepnote_to_be_reexecuted": false,
    "source_hash": "374ae344",
    "execution_start": 1661007846211,
    "execution_millis": 15,
    "deepnote_cell_type": "code",
    "deepnote_cell_height": 76
   },
   "source": "y = pd.DataFrame(result)",
   "execution_count": null,
   "outputs": []
  },
  {
   "cell_type": "code",
   "metadata": {
    "cell_id": "52574cc102f24af2a8939878b522658c",
    "tags": [],
    "deepnote_to_be_reexecuted": false,
    "source_hash": "2913bdf4",
    "execution_start": 1661007846286,
    "execution_millis": 4,
    "deepnote_cell_type": "code",
    "deepnote_cell_height": 543.875
   },
   "source": "y.info()",
   "execution_count": null,
   "outputs": [
    {
     "name": "stdout",
     "text": "<class 'pandas.core.frame.DataFrame'>\nRangeIndex: 3043 entries, 0 to 3042\nData columns (total 16 columns):\n #   Column                Non-Null Count  Dtype  \n---  ------                --------------  -----  \n 0   report_type           2970 non-null   object \n 1   flood_depth           2774 non-null   float64\n 2   points                723 non-null    float64\n 3   structureFailure      65 non-null     float64\n 4   accessabilityFailure  44 non-null     float64\n 5   condition             44 non-null     float64\n 6   impact                56 non-null     float64\n 7   fireDistance          12 non-null     float64\n 8   fireLocation          12 non-null     object \n 9   personLocation        12 non-null     object \n 10  fireRadius            12 non-null     object \n 11  volcanicSigns         17 non-null     object \n 12  evacuationNumber      17 non-null     float64\n 13  evacuationArea        17 non-null     object \n 14  visibility            2 non-null      float64\n 15  airQuality            2 non-null      float64\ndtypes: float64(10), object(6)\nmemory usage: 380.5+ KB\n",
     "output_type": "stream"
    }
   ]
  },
  {
   "cell_type": "code",
   "metadata": {
    "cell_id": "1961c68739c642828c3914854c9d4fc9",
    "tags": [],
    "deepnote_to_be_reexecuted": false,
    "source_hash": "a2a2a4ce",
    "execution_start": 1661007846288,
    "execution_millis": 46,
    "deepnote_cell_type": "code",
    "deepnote_cell_height": 413
   },
   "source": "y = y.drop(columns=['points','structureFailure', 'accessabilityFailure','condition','impact','fireDistance','fireLocation','personLocation','fireRadius','volcanicSigns','evacuationNumber','evacuationNumber','visibility','airQuality','evacuationArea']);\ny.head()",
   "execution_count": null,
   "outputs": [
    {
     "output_type": "execute_result",
     "execution_count": 24,
     "data": {
      "application/vnd.deepnote.dataframe.v3+json": {
       "column_count": 2,
       "row_count": 5,
       "columns": [
        {
         "name": "report_type",
         "dtype": "object",
         "stats": {
          "unique_count": 1,
          "nan_count": 0,
          "categories": [
           {
            "name": "flood",
            "count": 5
           }
          ]
         }
        },
        {
         "name": "flood_depth",
         "dtype": "float64",
         "stats": {
          "unique_count": 5,
          "nan_count": 0,
          "min": "30.0",
          "max": "100.0",
          "histogram": [
           {
            "bin_start": 30,
            "bin_end": 37,
            "count": 1
           },
           {
            "bin_start": 37,
            "bin_end": 44,
            "count": 0
           },
           {
            "bin_start": 44,
            "bin_end": 51,
            "count": 0
           },
           {
            "bin_start": 51,
            "bin_end": 58,
            "count": 1
           },
           {
            "bin_start": 58,
            "bin_end": 65,
            "count": 1
           },
           {
            "bin_start": 65,
            "bin_end": 72,
            "count": 0
           },
           {
            "bin_start": 72,
            "bin_end": 79,
            "count": 0
           },
           {
            "bin_start": 79,
            "bin_end": 86,
            "count": 1
           },
           {
            "bin_start": 86,
            "bin_end": 93,
            "count": 0
           },
           {
            "bin_start": 93,
            "bin_end": 100,
            "count": 1
           }
          ]
         }
        },
        {
         "name": "_deepnote_index_column",
         "dtype": "int64"
        }
       ],
       "rows": [
        {
         "report_type": "flood",
         "flood_depth": 30,
         "_deepnote_index_column": 0
        },
        {
         "report_type": "flood",
         "flood_depth": 80,
         "_deepnote_index_column": 1
        },
        {
         "report_type": "flood",
         "flood_depth": 51,
         "_deepnote_index_column": 2
        },
        {
         "report_type": "flood",
         "flood_depth": 100,
         "_deepnote_index_column": 3
        },
        {
         "report_type": "flood",
         "flood_depth": 60,
         "_deepnote_index_column": 4
        }
       ]
      },
      "text/plain": "  report_type  flood_depth\n0       flood         30.0\n1       flood         80.0\n2       flood         51.0\n3       flood        100.0\n4       flood         60.0",
      "text/html": "<div>\n<style scoped>\n    .dataframe tbody tr th:only-of-type {\n        vertical-align: middle;\n    }\n\n    .dataframe tbody tr th {\n        vertical-align: top;\n    }\n\n    .dataframe thead th {\n        text-align: right;\n    }\n</style>\n<table border=\"1\" class=\"dataframe\">\n  <thead>\n    <tr style=\"text-align: right;\">\n      <th></th>\n      <th>report_type</th>\n      <th>flood_depth</th>\n    </tr>\n  </thead>\n  <tbody>\n    <tr>\n      <th>0</th>\n      <td>flood</td>\n      <td>30.0</td>\n    </tr>\n    <tr>\n      <th>1</th>\n      <td>flood</td>\n      <td>80.0</td>\n    </tr>\n    <tr>\n      <th>2</th>\n      <td>flood</td>\n      <td>51.0</td>\n    </tr>\n    <tr>\n      <th>3</th>\n      <td>flood</td>\n      <td>100.0</td>\n    </tr>\n    <tr>\n      <th>4</th>\n      <td>flood</td>\n      <td>60.0</td>\n    </tr>\n  </tbody>\n</table>\n</div>"
     },
     "metadata": {}
    }
   ]
  },
  {
   "cell_type": "code",
   "metadata": {
    "cell_id": "cf9facddbb5b46358a7a2aea39af018b",
    "tags": [],
    "deepnote_to_be_reexecuted": false,
    "source_hash": "57b8ea20",
    "execution_start": 1661007846335,
    "execution_millis": 112641,
    "deepnote_cell_type": "code",
    "deepnote_cell_height": 112.1875,
    "deepnote_output_heights": [
     20.1875
    ]
   },
   "source": "y.shape",
   "execution_count": null,
   "outputs": [
    {
     "output_type": "execute_result",
     "execution_count": 25,
     "data": {
      "text/plain": "(3043, 2)"
     },
     "metadata": {}
    }
   ]
  },
  {
   "cell_type": "code",
   "metadata": {
    "cell_id": "063e14167ead4e5c8557a53cdab47647",
    "tags": [],
    "deepnote_to_be_reexecuted": false,
    "source_hash": "14f60b8f",
    "execution_start": 1661007846376,
    "execution_millis": 112647,
    "deepnote_cell_type": "code",
    "deepnote_cell_height": 112.1875,
    "deepnote_output_heights": [
     20.1875
    ]
   },
   "source": "df.shape",
   "execution_count": null,
   "outputs": [
    {
     "output_type": "execute_result",
     "execution_count": 26,
     "data": {
      "text/plain": "(3043, 13)"
     },
     "metadata": {}
    }
   ]
  },
  {
   "cell_type": "code",
   "metadata": {
    "cell_id": "85420309951f409982044ce14eff2744",
    "tags": [],
    "deepnote_to_be_reexecuted": false,
    "source_hash": "e6b70fb5",
    "execution_start": 1661007846438,
    "execution_millis": 112653,
    "deepnote_cell_type": "code",
    "deepnote_cell_height": 94
   },
   "source": "df = df.reset_index()\ny = y.reset_index()",
   "execution_count": null,
   "outputs": []
  },
  {
   "cell_type": "code",
   "metadata": {
    "cell_id": "1248d691a67e4b5b92d3478208857bf2",
    "tags": [],
    "deepnote_to_be_reexecuted": false,
    "source_hash": "a6b04815",
    "execution_start": 1661007846439,
    "execution_millis": 112608,
    "deepnote_cell_type": "code",
    "deepnote_cell_height": 94
   },
   "source": "frames = [df, y] \nresult = pd.concat(frames, axis=1)",
   "execution_count": null,
   "outputs": []
  },
  {
   "cell_type": "code",
   "metadata": {
    "cell_id": "f8664e1333864aaea2ff756b4187d120",
    "tags": [],
    "deepnote_to_be_reexecuted": false,
    "source_hash": "a95128ea",
    "execution_start": 1661007846440,
    "execution_millis": 112619,
    "deepnote_cell_type": "code",
    "deepnote_cell_height": 76
   },
   "source": "df = result",
   "execution_count": null,
   "outputs": []
  },
  {
   "cell_type": "code",
   "metadata": {
    "cell_id": "15c9b396c4d547f2a9db96ebe2025cdc",
    "tags": [],
    "deepnote_to_be_reexecuted": false,
    "source_hash": "f804c160",
    "execution_start": 1661007846488,
    "execution_millis": 105,
    "deepnote_cell_type": "code",
    "deepnote_cell_height": 611.65625
   },
   "source": "df",
   "execution_count": null,
   "outputs": [
    {
     "output_type": "execute_result",
     "execution_count": 30,
     "data": {
      "application/vnd.deepnote.dataframe.v3+json": {
       "column_count": 17,
       "row_count": 3043,
       "columns": [
        {
         "name": "index",
         "dtype": "int64",
         "stats": {
          "unique_count": 3043,
          "nan_count": 0,
          "min": "0",
          "max": "4234",
          "histogram": [
           {
            "bin_start": 0,
            "bin_end": 423.4,
            "count": 345
           },
           {
            "bin_start": 423.4,
            "bin_end": 846.8,
            "count": 260
           },
           {
            "bin_start": 846.8,
            "bin_end": 1270.1999999999998,
            "count": 371
           },
           {
            "bin_start": 1270.1999999999998,
            "bin_end": 1693.6,
            "count": 307
           },
           {
            "bin_start": 1693.6,
            "bin_end": 2117,
            "count": 235
           },
           {
            "bin_start": 2117,
            "bin_end": 2540.3999999999996,
            "count": 245
           },
           {
            "bin_start": 2540.3999999999996,
            "bin_end": 2963.7999999999997,
            "count": 316
           },
           {
            "bin_start": 2963.7999999999997,
            "bin_end": 3387.2,
            "count": 317
           },
           {
            "bin_start": 3387.2,
            "bin_end": 3810.6,
            "count": 300
           },
           {
            "bin_start": 3810.6,
            "bin_end": 4234,
            "count": 347
           }
          ]
         }
        },
        {
         "name": "date",
         "dtype": "object",
         "stats": {
          "unique_count": 377,
          "nan_count": 0,
          "categories": [
           {
            "name": "25/02/2020",
            "count": 319
           },
           {
            "name": "24/02/2020",
            "count": 292
           },
           {
            "name": "375 others",
            "count": 2432
           }
          ]
         }
        },
        {
         "name": "time",
         "dtype": "object",
         "stats": {
          "unique_count": 1867,
          "nan_count": 0,
          "categories": [
           {
            "name": "1",
            "count": 566
           },
           {
            "name": "0",
            "count": 556
           },
           {
            "name": "1865 others",
            "count": 1921
           }
          ]
         }
        },
        {
         "name": "source",
         "dtype": "object",
         "stats": {
          "unique_count": 3,
          "nan_count": 0,
          "categories": [
           {
            "name": "grasp",
            "count": 2970
           },
           {
            "name": "qlue",
            "count": 43
           },
           {
            "name": "detik",
            "count": 30
           }
          ]
         }
        },
        {
         "name": "status",
         "dtype": "object",
         "stats": {
          "unique_count": 1,
          "nan_count": 0,
          "categories": [
           {
            "name": "confirmed",
            "count": 3043
           }
          ]
         }
        },
        {
         "name": "disaster_type",
         "dtype": "object",
         "stats": {
          "unique_count": 6,
          "nan_count": 0,
          "categories": [
           {
            "name": "flood",
            "count": 2847
           },
           {
            "name": "earthquake",
            "count": 109
           },
           {
            "name": "4 others",
            "count": 87
           }
          ]
         }
        },
        {
         "name": "report_dat",
         "dtype": "object",
         "stats": {
          "unique_count": 539,
          "nan_count": 0,
          "categories": [
           {
            "name": "{ \"report_type\": \"flood\", \"flood_depth\": 44 }",
            "count": 171
           },
           {
            "name": "{ \"report_type\": \"flood\", \"flood_depth\": 50 }",
            "count": 116
           },
           {
            "name": "537 others",
            "count": 2756
           }
          ]
         }
        },
        {
         "name": "text",
         "dtype": "object",
         "stats": {
          "unique_count": 2918,
          "nan_count": 0,
          "categories": [
           {
            "name": "Banjir",
            "count": 55
           },
           {
            "name": "banjir",
            "count": 14
           },
           {
            "name": "2916 others",
            "count": 2974
           }
          ]
         }
        },
        {
         "name": "Desa",
         "dtype": "object",
         "stats": {
          "unique_count": 1090,
          "nan_count": 0,
          "categories": [
           {
            "name": "Duri Kepa",
            "count": 56
           },
           {
            "name": "Rawa Buaya",
            "count": 46
           },
           {
            "name": "1088 others",
            "count": 2941
           }
          ]
         }
        },
        {
         "name": "Kecamatan",
         "dtype": "object",
         "stats": {
          "unique_count": 608,
          "nan_count": 0,
          "categories": [
           {
            "name": "Kelapa Gading",
            "count": 108
           },
           {
            "name": "Cakung",
            "count": 93
           },
           {
            "name": "606 others",
            "count": 2842
           }
          ]
         }
        },
        {
         "name": "Kabupaten",
         "dtype": "object",
         "stats": {
          "unique_count": 205,
          "nan_count": 0,
          "categories": [
           {
            "name": "Jakarta Timur",
            "count": 404
           },
           {
            "name": "Bekasi",
            "count": 382
           },
           {
            "name": "203 others",
            "count": 2257
           }
          ]
         }
        },
        {
         "name": "Provinsi",
         "dtype": "object",
         "stats": {
          "unique_count": 34,
          "nan_count": 0,
          "categories": [
           {
            "name": "Daerah Khusus Ibukota Jakarta",
            "count": 1457
           },
           {
            "name": "Jawa Barat",
            "count": 584
           },
           {
            "name": "32 others",
            "count": 1002
           }
          ]
         }
        },
        {
         "name": "long",
         "dtype": "float64",
         "stats": {
          "unique_count": 2881,
          "nan_count": 0,
          "min": "95.31473",
          "max": "136.37668",
          "histogram": [
           {
            "bin_start": 95.31473,
            "bin_end": 99.420925,
            "count": 38
           },
           {
            "bin_start": 99.420925,
            "bin_end": 103.52712,
            "count": 28
           },
           {
            "bin_start": 103.52712,
            "bin_end": 107.633315,
            "count": 2164
           },
           {
            "bin_start": 107.633315,
            "bin_end": 111.73951,
            "count": 263
           },
           {
            "bin_start": 111.73951,
            "bin_end": 115.845705,
            "count": 367
           },
           {
            "bin_start": 115.845705,
            "bin_end": 119.9519,
            "count": 111
           },
           {
            "bin_start": 119.9519,
            "bin_end": 124.058095,
            "count": 52
           },
           {
            "bin_start": 124.058095,
            "bin_end": 128.16429,
            "count": 9
           },
           {
            "bin_start": 128.16429,
            "bin_end": 132.270485,
            "count": 6
           },
           {
            "bin_start": 132.270485,
            "bin_end": 136.37668,
            "count": 5
           }
          ]
         }
        },
        {
         "name": "lat",
         "dtype": "float64",
         "stats": {
          "unique_count": 2838,
          "nan_count": 0,
          "min": "-10.20517",
          "max": "5.883711",
          "histogram": [
           {
            "bin_start": -10.20517,
            "bin_end": -8.596281900000001,
            "count": 24
           },
           {
            "bin_start": -8.596281900000001,
            "bin_end": -6.9873938,
            "count": 304
           },
           {
            "bin_start": -6.9873938,
            "bin_end": -5.3785057,
            "count": 2285
           },
           {
            "bin_start": -5.3785057,
            "bin_end": -3.7696176,
            "count": 34
           },
           {
            "bin_start": -3.7696176,
            "bin_end": -2.1607295000000004,
            "count": 186
           },
           {
            "bin_start": -2.1607295000000004,
            "bin_end": -0.5518413999999989,
            "count": 55
           },
           {
            "bin_start": -0.5518413999999989,
            "bin_end": 1.0570467000000008,
            "count": 96
           },
           {
            "bin_start": 1.0570467000000008,
            "bin_end": 2.6659348000000005,
            "count": 23
           },
           {
            "bin_start": 2.6659348000000005,
            "bin_end": 4.2748229,
            "count": 20
           },
           {
            "bin_start": 4.2748229,
            "bin_end": 5.883711,
            "count": 16
           }
          ]
         }
        },
        {
         "name": "index.1",
         "dtype": "int64",
         "stats": {
          "unique_count": 3043,
          "nan_count": 0,
          "min": "0",
          "max": "3042",
          "histogram": [
           {
            "bin_start": 0,
            "bin_end": 304.2,
            "count": 305
           },
           {
            "bin_start": 304.2,
            "bin_end": 608.4,
            "count": 304
           },
           {
            "bin_start": 608.4,
            "bin_end": 912.5999999999999,
            "count": 304
           },
           {
            "bin_start": 912.5999999999999,
            "bin_end": 1216.8,
            "count": 304
           },
           {
            "bin_start": 1216.8,
            "bin_end": 1521,
            "count": 304
           },
           {
            "bin_start": 1521,
            "bin_end": 1825.1999999999998,
            "count": 305
           },
           {
            "bin_start": 1825.1999999999998,
            "bin_end": 2129.4,
            "count": 304
           },
           {
            "bin_start": 2129.4,
            "bin_end": 2433.6,
            "count": 304
           },
           {
            "bin_start": 2433.6,
            "bin_end": 2737.7999999999997,
            "count": 304
           },
           {
            "bin_start": 2737.7999999999997,
            "bin_end": 3042,
            "count": 305
           }
          ]
         }
        },
        {
         "name": "report_type",
         "dtype": "object",
         "stats": {
          "unique_count": 7,
          "nan_count": 73,
          "categories": [
           {
            "name": "flood",
            "count": 2774
           },
           {
            "name": "6 others",
            "count": 196
           },
           {
            "name": "Missing",
            "count": 73
           }
          ]
         }
        },
        {
         "name": "flood_depth",
         "dtype": "float64",
         "stats": {
          "unique_count": 185,
          "nan_count": 269,
          "min": "0.0",
          "max": "200.0",
          "histogram": [
           {
            "bin_start": 0,
            "bin_end": 20,
            "count": 176
           },
           {
            "bin_start": 20,
            "bin_end": 40,
            "count": 645
           },
           {
            "bin_start": 40,
            "bin_end": 60,
            "count": 917
           },
           {
            "bin_start": 60,
            "bin_end": 80,
            "count": 390
           },
           {
            "bin_start": 80,
            "bin_end": 100,
            "count": 255
           },
           {
            "bin_start": 100,
            "bin_end": 120,
            "count": 146
           },
           {
            "bin_start": 120,
            "bin_end": 140,
            "count": 92
           },
           {
            "bin_start": 140,
            "bin_end": 160,
            "count": 59
           },
           {
            "bin_start": 160,
            "bin_end": 180,
            "count": 20
           },
           {
            "bin_start": 180,
            "bin_end": 200,
            "count": 74
           }
          ]
         }
        },
        {
         "name": "_deepnote_index_column",
         "dtype": "int64"
        }
       ],
       "rows": [
        {
         "index": 0,
         "date": "01/01/2020",
         "time": "00:03:02",
         "source": "grasp",
         "status": "confirmed",
         "disaster_type": "flood",
         "report_dat": "{ \"report_type\": \"flood\", \"flood_depth\": 30 }",
         "text": "Banjir di daerah taman ratu dan sekitarnya. Paling parah dari tahun2 sebelumnya",
         "Desa": "Duri Kepa",
         "Kecamatan": "Kebon Jeruk",
         "Kabupaten": "Jakarta Barat",
         "Provinsi": "Daerah Khusus Ibukota Jakarta",
         "long": 106.76866,
         "lat": -6.16978,
         "index.1": 0,
         "report_type": "flood",
         "flood_depth": 30,
         "_deepnote_index_column": 0
        },
        {
         "index": 1,
         "date": "01/01/2020",
         "time": "00:43:02",
         "source": "grasp",
         "status": "confirmed",
         "disaster_type": "flood",
         "report_dat": "{ \"points\": 1, \"flood_depth\": 80, \"report_type\": \"flood\" }",
         "text": "Jl. Kemuning Indah\nKota Harapan Indah.\nBekasi",
         "Desa": "Pejuang",
         "Kecamatan": "Medan Satria",
         "Kabupaten": "Bekasi",
         "Provinsi": "Jawa Barat",
         "long": 106.9787,
         "lat": -6.17944,
         "index.1": 1,
         "report_type": "flood",
         "flood_depth": 80,
         "_deepnote_index_column": 1
        },
        {
         "index": 2,
         "date": "01/01/2020",
         "time": "01:14:53",
         "source": "grasp",
         "status": "confirmed",
         "disaster_type": "flood",
         "report_dat": "{ \"points\": 1, \"flood_depth\": 51, \"report_type\": \"flood\" }",
         "text": "Banjir selutut orang dewasa di jalan ros merah 2 cipinang indah",
         "Desa": "Cipinang Muara",
         "Kecamatan": "Jatinegara",
         "Kabupaten": "Jakarta Timur",
         "Provinsi": "Daerah Khusus Ibukota Jakarta",
         "long": 106.891,
         "lat": -6.23449,
         "index.1": 2,
         "report_type": "flood",
         "flood_depth": 51,
         "_deepnote_index_column": 2
        },
        {
         "index": 3,
         "date": "01/01/2020",
         "time": "01:15:08",
         "source": "grasp",
         "status": "confirmed",
         "disaster_type": "flood",
         "report_dat": "{ \"points\": 2, \"flood_depth\": 100, \"report_type\": \"flood\" }",
         "text": "Banjir di daerah kedasih dan sekitarnya, karena hujan dari semalam belum berhenti, sudah memasuki rumah dari jam 7 pagi tadi",
         "Desa": "Mekarmukti",
         "Kecamatan": "Cikarang Utara",
         "Kabupaten": "Bekasi",
         "Provinsi": "Jawa Barat",
         "long": 107.16189,
         "lat": -6.3017,
         "index.1": 3,
         "report_type": "flood",
         "flood_depth": 100,
         "_deepnote_index_column": 3
        },
        {
         "index": 5,
         "date": "01/01/2020",
         "time": "01:25:02",
         "source": "grasp",
         "status": "confirmed",
         "disaster_type": "flood",
         "report_dat": "{ \"report_type\": \"flood\", \"flood_depth\": 60 }",
         "text": "Banjir area komplek Meruya Ilir sejak jam 5 naik terus. Listri hingga kini belum dipadamkan.",
         "Desa": "Meruya Utara",
         "Kecamatan": "Kembangan",
         "Kabupaten": "Jakarta Barat",
         "Provinsi": "Daerah Khusus Ibukota Jakarta",
         "long": 106.73835,
         "lat": -6.19933,
         "index.1": 4,
         "report_type": "flood",
         "flood_depth": 60,
         "_deepnote_index_column": 4
        },
        {
         "index": 6,
         "date": "01/01/2020",
         "time": "01:33:59",
         "source": "grasp",
         "status": "confirmed",
         "disaster_type": "flood",
         "report_dat": "{ \"report_type\": \"flood\", \"flood_depth\": 39 }",
         "text": "Di perumahan boulevard hijau jalan raya setinggi 40-60 cm\nPerumahan 20-40 cm",
         "Desa": "Pejuang",
         "Kecamatan": "Medan Satria",
         "Kabupaten": "Bekasi",
         "Provinsi": "Jawa Barat",
         "long": 106.98668,
         "lat": -6.18996,
         "index.1": 5,
         "report_type": "flood",
         "flood_depth": 39,
         "_deepnote_index_column": 5
        },
        {
         "index": 8,
         "date": "01/01/2020",
         "time": "02:05:36",
         "source": "grasp",
         "status": "confirmed",
         "disaster_type": "flood",
         "report_dat": "{ \"report_type\": \"flood\", \"flood_depth\": 79 }",
         "text": "Tinggi Genangan Air 60 ~ 70 Cm",
         "Desa": "Duri Kosambi",
         "Kecamatan": "Cengkareng",
         "Kabupaten": "Jakarta Barat",
         "Provinsi": "Daerah Khusus Ibukota Jakarta",
         "long": 106.72181,
         "lat": -6.16777,
         "index.1": 6,
         "report_type": "flood",
         "flood_depth": 79,
         "_deepnote_index_column": 6
        },
        {
         "index": 10,
         "date": "01/01/2020",
         "time": "02:11:42",
         "source": "grasp",
         "status": "confirmed",
         "disaster_type": "flood",
         "report_dat": "{ \"report_type\": \"flood\", \"flood_depth\": 116 }",
         "text": "Kondisi saat ini di jalan pesing koneng RW 08 seluruh RT",
         "Desa": "Kedoya Utara",
         "Kecamatan": "Kebon Jeruk",
         "Kabupaten": "Jakarta Barat",
         "Provinsi": "Daerah Khusus Ibukota Jakarta",
         "long": 106.76476,
         "lat": -6.16204,
         "index.1": 7,
         "report_type": "flood",
         "flood_depth": 116,
         "_deepnote_index_column": 7
        },
        {
         "index": 11,
         "date": "01/01/2020",
         "time": "02:20:56",
         "source": "grasp",
         "status": "confirmed",
         "disaster_type": "flood",
         "report_dat": "{ \"report_type\": \"flood\", \"flood_depth\": 60 }",
         "text": "Banjir, om. What should I say more?",
         "Desa": "Duren Jaya",
         "Kecamatan": "Bekasi Timur",
         "Kabupaten": "Bekasi",
         "Provinsi": "Jawa Barat",
         "long": 107.02225,
         "lat": -6.23895,
         "index.1": 8,
         "report_type": "flood",
         "flood_depth": 60,
         "_deepnote_index_column": 8
        },
        {
         "index": 12,
         "date": "01/01/2020",
         "time": "02:13:40",
         "source": "detik",
         "status": "confirmed",
         "disaster_type": "flood",
         "report_dat": "{ \"points\": 1 }",
         "text": "Begini kondisi Jl.HR Rasuna Said Depan Halte Transjakarta Setia Budi Selatan,akses jalan tak dapat dilalui oleh kendaraan pkl 09:15",
         "Desa": "Setia Budi",
         "Kecamatan": "Setia Budi",
         "Kabupaten": "Jakarta Selatan",
         "Provinsi": "Daerah Khusus Ibukota Jakarta",
         "long": 106.82927,
         "lat": -6.2084,
         "index.1": 9,
         "report_type": "nan",
         "flood_depth": "nan",
         "_deepnote_index_column": 9
        }
       ]
      },
      "text/plain": "      index        date      time source     status disaster_type  \\\n0         0  01/01/2020  00:03:02  grasp  confirmed         flood   \n1         1  01/01/2020  00:43:02  grasp  confirmed         flood   \n2         2  01/01/2020  01:14:53  grasp  confirmed         flood   \n3         3  01/01/2020  01:15:08  grasp  confirmed         flood   \n4         5  01/01/2020  01:25:02  grasp  confirmed         flood   \n...     ...         ...       ...    ...        ...           ...   \n3038   4229  28/12/2021  00:18:56  grasp  confirmed         flood   \n3039   4230  28/12/2021  01:23:43  grasp  confirmed         flood   \n3040   4231  28/12/2021  08:00:14  grasp  confirmed         flood   \n3041   4232  28/12/2021  10:49:49  grasp  confirmed         flood   \n3042   4234  30/12/2021  09:32:42  grasp  confirmed         flood   \n\n                                             report_dat  \\\n0         { \"report_type\": \"flood\", \"flood_depth\": 30 }   \n1     { \"points\": 1, \"flood_depth\": 80, \"report_type...   \n2     { \"points\": 1, \"flood_depth\": 51, \"report_type...   \n3     { \"points\": 2, \"flood_depth\": 100, \"report_typ...   \n4         { \"report_type\": \"flood\", \"flood_depth\": 60 }   \n...                                                 ...   \n3038  { \"points\": 1, \"flood_depth\": 68, \"report_type...   \n3039     { \"report_type\": \"flood\", \"flood_depth\": 103 }   \n3040      { \"report_type\": \"flood\", \"flood_depth\": 54 }   \n3041      { \"report_type\": \"flood\", \"flood_depth\": 19 }   \n3042      { \"report_type\": \"flood\", \"flood_depth\": 22 }   \n\n                                                   text            Desa  \\\n0     Banjir di daerah taman ratu dan sekitarnya. Pa...       Duri Kepa   \n1       Jl. Kemuning Indah\\nKota Harapan Indah.\\nBekasi         Pejuang   \n2     Banjir selutut orang dewasa di jalan ros merah...  Cipinang Muara   \n3     Banjir di daerah kedasih dan sekitarnya, karen...      Mekarmukti   \n4     Banjir area komplek Meruya Ilir sejak jam 5 na...    Meruya Utara   \n...                                                 ...             ...   \n3038  Laporan awal. Air sungai meluap akibat curah h...  Karangan Hilir   \n3039  Luapan air sungai Karangan masuk ke pemukiman ...  Karangan Hilir   \n3040                                banjir lah pokoknya    Karang Anyar   \n3041  saluran irigasi yg di kelola desa dengan buruk...       Purwajaya   \n3042  banjir akibat hujan dan banyak nya sampah memb...    Banjar Anyar   \n\n           Kecamatan      Kabupaten                       Provinsi  \\\n0        Kebon Jeruk  Jakarta Barat  Daerah Khusus Ibukota Jakarta   \n1       Medan Satria         Bekasi                     Jawa Barat   \n2         Jatinegara  Jakarta Timur  Daerah Khusus Ibukota Jakarta   \n3     Cikarang Utara         Bekasi                     Jawa Barat   \n4          Kembangan  Jakarta Barat  Daerah Khusus Ibukota Jakarta   \n...              ...            ...                            ...   \n3038        Karangan    Kutai Timur               Kalimantan Timur   \n3039        Karangan    Kutai Timur               Kalimantan Timur   \n3040     Sawah Besar  Jakarta Pusat  Daerah Khusus Ibukota Jakarta   \n3041       Purwadadi         Ciamis                     Jawa Barat   \n3042          Kediri        Tabanan                           Bali   \n\n            long       lat  index report_type  flood_depth  \n0     106.768660 -6.169780      0       flood         30.0  \n1     106.978700 -6.179440      1       flood         80.0  \n2     106.891000 -6.234490      2       flood         51.0  \n3     107.161890 -6.301700      3       flood        100.0  \n4     106.738350 -6.199330      4       flood         60.0  \n...          ...       ...    ...         ...          ...  \n3038  117.655871  1.343771   3038       flood         68.0  \n3039  117.665504  1.351043   3039       flood        103.0  \n3040  106.827622 -6.157398   3040       flood         54.0  \n3041  108.695570 -7.460077   3041       flood         19.0  \n3042  115.142300 -8.554095   3042       flood         22.0  \n\n[3043 rows x 17 columns]",
      "text/html": "<div>\n<style scoped>\n    .dataframe tbody tr th:only-of-type {\n        vertical-align: middle;\n    }\n\n    .dataframe tbody tr th {\n        vertical-align: top;\n    }\n\n    .dataframe thead th {\n        text-align: right;\n    }\n</style>\n<table border=\"1\" class=\"dataframe\">\n  <thead>\n    <tr style=\"text-align: right;\">\n      <th></th>\n      <th>index</th>\n      <th>date</th>\n      <th>time</th>\n      <th>source</th>\n      <th>status</th>\n      <th>disaster_type</th>\n      <th>report_dat</th>\n      <th>text</th>\n      <th>Desa</th>\n      <th>Kecamatan</th>\n      <th>Kabupaten</th>\n      <th>Provinsi</th>\n      <th>long</th>\n      <th>lat</th>\n      <th>index</th>\n      <th>report_type</th>\n      <th>flood_depth</th>\n    </tr>\n  </thead>\n  <tbody>\n    <tr>\n      <th>0</th>\n      <td>0</td>\n      <td>01/01/2020</td>\n      <td>00:03:02</td>\n      <td>grasp</td>\n      <td>confirmed</td>\n      <td>flood</td>\n      <td>{ \"report_type\": \"flood\", \"flood_depth\": 30 }</td>\n      <td>Banjir di daerah taman ratu dan sekitarnya. Pa...</td>\n      <td>Duri Kepa</td>\n      <td>Kebon Jeruk</td>\n      <td>Jakarta Barat</td>\n      <td>Daerah Khusus Ibukota Jakarta</td>\n      <td>106.768660</td>\n      <td>-6.169780</td>\n      <td>0</td>\n      <td>flood</td>\n      <td>30.0</td>\n    </tr>\n    <tr>\n      <th>1</th>\n      <td>1</td>\n      <td>01/01/2020</td>\n      <td>00:43:02</td>\n      <td>grasp</td>\n      <td>confirmed</td>\n      <td>flood</td>\n      <td>{ \"points\": 1, \"flood_depth\": 80, \"report_type...</td>\n      <td>Jl. Kemuning Indah\\nKota Harapan Indah.\\nBekasi</td>\n      <td>Pejuang</td>\n      <td>Medan Satria</td>\n      <td>Bekasi</td>\n      <td>Jawa Barat</td>\n      <td>106.978700</td>\n      <td>-6.179440</td>\n      <td>1</td>\n      <td>flood</td>\n      <td>80.0</td>\n    </tr>\n    <tr>\n      <th>2</th>\n      <td>2</td>\n      <td>01/01/2020</td>\n      <td>01:14:53</td>\n      <td>grasp</td>\n      <td>confirmed</td>\n      <td>flood</td>\n      <td>{ \"points\": 1, \"flood_depth\": 51, \"report_type...</td>\n      <td>Banjir selutut orang dewasa di jalan ros merah...</td>\n      <td>Cipinang Muara</td>\n      <td>Jatinegara</td>\n      <td>Jakarta Timur</td>\n      <td>Daerah Khusus Ibukota Jakarta</td>\n      <td>106.891000</td>\n      <td>-6.234490</td>\n      <td>2</td>\n      <td>flood</td>\n      <td>51.0</td>\n    </tr>\n    <tr>\n      <th>3</th>\n      <td>3</td>\n      <td>01/01/2020</td>\n      <td>01:15:08</td>\n      <td>grasp</td>\n      <td>confirmed</td>\n      <td>flood</td>\n      <td>{ \"points\": 2, \"flood_depth\": 100, \"report_typ...</td>\n      <td>Banjir di daerah kedasih dan sekitarnya, karen...</td>\n      <td>Mekarmukti</td>\n      <td>Cikarang Utara</td>\n      <td>Bekasi</td>\n      <td>Jawa Barat</td>\n      <td>107.161890</td>\n      <td>-6.301700</td>\n      <td>3</td>\n      <td>flood</td>\n      <td>100.0</td>\n    </tr>\n    <tr>\n      <th>4</th>\n      <td>5</td>\n      <td>01/01/2020</td>\n      <td>01:25:02</td>\n      <td>grasp</td>\n      <td>confirmed</td>\n      <td>flood</td>\n      <td>{ \"report_type\": \"flood\", \"flood_depth\": 60 }</td>\n      <td>Banjir area komplek Meruya Ilir sejak jam 5 na...</td>\n      <td>Meruya Utara</td>\n      <td>Kembangan</td>\n      <td>Jakarta Barat</td>\n      <td>Daerah Khusus Ibukota Jakarta</td>\n      <td>106.738350</td>\n      <td>-6.199330</td>\n      <td>4</td>\n      <td>flood</td>\n      <td>60.0</td>\n    </tr>\n    <tr>\n      <th>...</th>\n      <td>...</td>\n      <td>...</td>\n      <td>...</td>\n      <td>...</td>\n      <td>...</td>\n      <td>...</td>\n      <td>...</td>\n      <td>...</td>\n      <td>...</td>\n      <td>...</td>\n      <td>...</td>\n      <td>...</td>\n      <td>...</td>\n      <td>...</td>\n      <td>...</td>\n      <td>...</td>\n      <td>...</td>\n    </tr>\n    <tr>\n      <th>3038</th>\n      <td>4229</td>\n      <td>28/12/2021</td>\n      <td>00:18:56</td>\n      <td>grasp</td>\n      <td>confirmed</td>\n      <td>flood</td>\n      <td>{ \"points\": 1, \"flood_depth\": 68, \"report_type...</td>\n      <td>Laporan awal. Air sungai meluap akibat curah h...</td>\n      <td>Karangan Hilir</td>\n      <td>Karangan</td>\n      <td>Kutai Timur</td>\n      <td>Kalimantan Timur</td>\n      <td>117.655871</td>\n      <td>1.343771</td>\n      <td>3038</td>\n      <td>flood</td>\n      <td>68.0</td>\n    </tr>\n    <tr>\n      <th>3039</th>\n      <td>4230</td>\n      <td>28/12/2021</td>\n      <td>01:23:43</td>\n      <td>grasp</td>\n      <td>confirmed</td>\n      <td>flood</td>\n      <td>{ \"report_type\": \"flood\", \"flood_depth\": 103 }</td>\n      <td>Luapan air sungai Karangan masuk ke pemukiman ...</td>\n      <td>Karangan Hilir</td>\n      <td>Karangan</td>\n      <td>Kutai Timur</td>\n      <td>Kalimantan Timur</td>\n      <td>117.665504</td>\n      <td>1.351043</td>\n      <td>3039</td>\n      <td>flood</td>\n      <td>103.0</td>\n    </tr>\n    <tr>\n      <th>3040</th>\n      <td>4231</td>\n      <td>28/12/2021</td>\n      <td>08:00:14</td>\n      <td>grasp</td>\n      <td>confirmed</td>\n      <td>flood</td>\n      <td>{ \"report_type\": \"flood\", \"flood_depth\": 54 }</td>\n      <td>banjir lah pokoknya</td>\n      <td>Karang Anyar</td>\n      <td>Sawah Besar</td>\n      <td>Jakarta Pusat</td>\n      <td>Daerah Khusus Ibukota Jakarta</td>\n      <td>106.827622</td>\n      <td>-6.157398</td>\n      <td>3040</td>\n      <td>flood</td>\n      <td>54.0</td>\n    </tr>\n    <tr>\n      <th>3041</th>\n      <td>4232</td>\n      <td>28/12/2021</td>\n      <td>10:49:49</td>\n      <td>grasp</td>\n      <td>confirmed</td>\n      <td>flood</td>\n      <td>{ \"report_type\": \"flood\", \"flood_depth\": 19 }</td>\n      <td>saluran irigasi yg di kelola desa dengan buruk...</td>\n      <td>Purwajaya</td>\n      <td>Purwadadi</td>\n      <td>Ciamis</td>\n      <td>Jawa Barat</td>\n      <td>108.695570</td>\n      <td>-7.460077</td>\n      <td>3041</td>\n      <td>flood</td>\n      <td>19.0</td>\n    </tr>\n    <tr>\n      <th>3042</th>\n      <td>4234</td>\n      <td>30/12/2021</td>\n      <td>09:32:42</td>\n      <td>grasp</td>\n      <td>confirmed</td>\n      <td>flood</td>\n      <td>{ \"report_type\": \"flood\", \"flood_depth\": 22 }</td>\n      <td>banjir akibat hujan dan banyak nya sampah memb...</td>\n      <td>Banjar Anyar</td>\n      <td>Kediri</td>\n      <td>Tabanan</td>\n      <td>Bali</td>\n      <td>115.142300</td>\n      <td>-8.554095</td>\n      <td>3042</td>\n      <td>flood</td>\n      <td>22.0</td>\n    </tr>\n  </tbody>\n</table>\n<p>3043 rows × 17 columns</p>\n</div>"
     },
     "metadata": {}
    }
   ]
  },
  {
   "cell_type": "code",
   "metadata": {
    "cell_id": "6ea7adf78b9f4345931bc6616f1c623a",
    "tags": [],
    "deepnote_to_be_reexecuted": false,
    "source_hash": "7de0a961",
    "execution_start": 1661007846593,
    "execution_millis": 130,
    "deepnote_cell_type": "code",
    "deepnote_cell_height": 629.65625
   },
   "source": "# filter disaster type = flood\ndf[df[\"disaster_type\"]==\"flood\"]",
   "execution_count": null,
   "outputs": [
    {
     "output_type": "execute_result",
     "execution_count": 31,
     "data": {
      "application/vnd.deepnote.dataframe.v3+json": {
       "column_count": 17,
       "row_count": 2847,
       "columns": [
        {
         "name": "index",
         "dtype": "int64",
         "stats": {
          "unique_count": 2847,
          "nan_count": 0,
          "min": "0",
          "max": "4234",
          "histogram": [
           {
            "bin_start": 0,
            "bin_end": 423.4,
            "count": 345
           },
           {
            "bin_start": 423.4,
            "bin_end": 846.8,
            "count": 260
           },
           {
            "bin_start": 846.8,
            "bin_end": 1270.1999999999998,
            "count": 371
           },
           {
            "bin_start": 1270.1999999999998,
            "bin_end": 1693.6,
            "count": 307
           },
           {
            "bin_start": 1693.6,
            "bin_end": 2117,
            "count": 235
           },
           {
            "bin_start": 2117,
            "bin_end": 2540.3999999999996,
            "count": 227
           },
           {
            "bin_start": 2540.3999999999996,
            "bin_end": 2963.7999999999997,
            "count": 279
           },
           {
            "bin_start": 2963.7999999999997,
            "bin_end": 3387.2,
            "count": 309
           },
           {
            "bin_start": 3387.2,
            "bin_end": 3810.6,
            "count": 256
           },
           {
            "bin_start": 3810.6,
            "bin_end": 4234,
            "count": 258
           }
          ]
         }
        },
        {
         "name": "date",
         "dtype": "object",
         "stats": {
          "unique_count": 342,
          "nan_count": 0,
          "categories": [
           {
            "name": "25/02/2020",
            "count": 319
           },
           {
            "name": "24/02/2020",
            "count": 292
           },
           {
            "name": "340 others",
            "count": 2236
           }
          ]
         }
        },
        {
         "name": "time",
         "dtype": "object",
         "stats": {
          "unique_count": 1672,
          "nan_count": 0,
          "categories": [
           {
            "name": "1",
            "count": 566
           },
           {
            "name": "0",
            "count": 556
           },
           {
            "name": "1670 others",
            "count": 1725
           }
          ]
         }
        },
        {
         "name": "source",
         "dtype": "object",
         "stats": {
          "unique_count": 3,
          "nan_count": 0,
          "categories": [
           {
            "name": "grasp",
            "count": 2774
           },
           {
            "name": "qlue",
            "count": 43
           },
           {
            "name": "detik",
            "count": 30
           }
          ]
         }
        },
        {
         "name": "status",
         "dtype": "object",
         "stats": {
          "unique_count": 1,
          "nan_count": 0,
          "categories": [
           {
            "name": "confirmed",
            "count": 2847
           }
          ]
         }
        },
        {
         "name": "disaster_type",
         "dtype": "object",
         "stats": {
          "unique_count": 1,
          "nan_count": 0,
          "categories": [
           {
            "name": "flood",
            "count": 2847
           }
          ]
         }
        },
        {
         "name": "report_dat",
         "dtype": "object",
         "stats": {
          "unique_count": 476,
          "nan_count": 0,
          "categories": [
           {
            "name": "{ \"report_type\": \"flood\", \"flood_depth\": 44 }",
            "count": 171
           },
           {
            "name": "{ \"report_type\": \"flood\", \"flood_depth\": 50 }",
            "count": 116
           },
           {
            "name": "474 others",
            "count": 2560
           }
          ]
         }
        },
        {
         "name": "text",
         "dtype": "object",
         "stats": {
          "unique_count": 2729,
          "nan_count": 0,
          "categories": [
           {
            "name": "Banjir",
            "count": 55
           },
           {
            "name": "banjir",
            "count": 14
           },
           {
            "name": "2727 others",
            "count": 2778
           }
          ]
         }
        },
        {
         "name": "Desa",
         "dtype": "object",
         "stats": {
          "unique_count": 975,
          "nan_count": 0,
          "categories": [
           {
            "name": "Duri Kepa",
            "count": 56
           },
           {
            "name": "Rawa Buaya",
            "count": 46
           },
           {
            "name": "973 others",
            "count": 2745
           }
          ]
         }
        },
        {
         "name": "Kecamatan",
         "dtype": "object",
         "stats": {
          "unique_count": 519,
          "nan_count": 0,
          "categories": [
           {
            "name": "Kelapa Gading",
            "count": 108
           },
           {
            "name": "Cengkareng",
            "count": 92
           },
           {
            "name": "517 others",
            "count": 2647
           }
          ]
         }
        },
        {
         "name": "Kabupaten",
         "dtype": "object",
         "stats": {
          "unique_count": 179,
          "nan_count": 0,
          "categories": [
           {
            "name": "Jakarta Timur",
            "count": 402
           },
           {
            "name": "Bekasi",
            "count": 380
           },
           {
            "name": "177 others",
            "count": 2065
           }
          ]
         }
        },
        {
         "name": "Provinsi",
         "dtype": "object",
         "stats": {
          "unique_count": 34,
          "nan_count": 0,
          "categories": [
           {
            "name": "Daerah Khusus Ibukota Jakarta",
            "count": 1439
           },
           {
            "name": "Jawa Barat",
            "count": 549
           },
           {
            "name": "32 others",
            "count": 859
           }
          ]
         }
        },
        {
         "name": "long",
         "dtype": "float64",
         "stats": {
          "unique_count": 2691,
          "nan_count": 0,
          "min": "95.31473",
          "max": "136.37668",
          "histogram": [
           {
            "bin_start": 95.31473,
            "bin_end": 99.420925,
            "count": 31
           },
           {
            "bin_start": 99.420925,
            "bin_end": 103.52712,
            "count": 23
           },
           {
            "bin_start": 103.52712,
            "bin_end": 107.633315,
            "count": 2110
           },
           {
            "bin_start": 107.633315,
            "bin_end": 111.73951,
            "count": 225
           },
           {
            "bin_start": 111.73951,
            "bin_end": 115.845705,
            "count": 296
           },
           {
            "bin_start": 115.845705,
            "bin_end": 119.9519,
            "count": 103
           },
           {
            "bin_start": 119.9519,
            "bin_end": 124.058095,
            "count": 41
           },
           {
            "bin_start": 124.058095,
            "bin_end": 128.16429,
            "count": 9
           },
           {
            "bin_start": 128.16429,
            "bin_end": 132.270485,
            "count": 4
           },
           {
            "bin_start": 132.270485,
            "bin_end": 136.37668,
            "count": 5
           }
          ]
         }
        },
        {
         "name": "lat",
         "dtype": "float64",
         "stats": {
          "unique_count": 2649,
          "nan_count": 0,
          "min": "-10.20107",
          "max": "5.883711",
          "histogram": [
           {
            "bin_start": -10.20107,
            "bin_end": -8.5925919,
            "count": 17
           },
           {
            "bin_start": -8.5925919,
            "bin_end": -6.984113799999999,
            "count": 201
           },
           {
            "bin_start": -6.984113799999999,
            "bin_end": -5.3756357,
            "count": 2228
           },
           {
            "bin_start": -5.3756357,
            "bin_end": -3.7671576,
            "count": 31
           },
           {
            "bin_start": -3.7671576,
            "bin_end": -2.1586795,
            "count": 179
           },
           {
            "bin_start": -2.1586795,
            "bin_end": -0.5502014000000006,
            "count": 51
           },
           {
            "bin_start": -0.5502014000000006,
            "bin_end": 1.0582767000000004,
            "count": 89
           },
           {
            "bin_start": 1.0582767000000004,
            "bin_end": 2.6667547999999996,
            "count": 19
           },
           {
            "bin_start": 2.6667547999999996,
            "bin_end": 4.275232899999999,
            "count": 17
           },
           {
            "bin_start": 4.275232899999999,
            "bin_end": 5.883711,
            "count": 15
           }
          ]
         }
        },
        {
         "name": "index.1",
         "dtype": "int64",
         "stats": {
          "unique_count": 2847,
          "nan_count": 0,
          "min": "0",
          "max": "3042",
          "histogram": [
           {
            "bin_start": 0,
            "bin_end": 304.2,
            "count": 305
           },
           {
            "bin_start": 304.2,
            "bin_end": 608.4,
            "count": 304
           },
           {
            "bin_start": 608.4,
            "bin_end": 912.5999999999999,
            "count": 304
           },
           {
            "bin_start": 912.5999999999999,
            "bin_end": 1216.8,
            "count": 304
           },
           {
            "bin_start": 1216.8,
            "bin_end": 1521,
            "count": 304
           },
           {
            "bin_start": 1521,
            "bin_end": 1825.1999999999998,
            "count": 282
           },
           {
            "bin_start": 1825.1999999999998,
            "bin_end": 2129.4,
            "count": 270
           },
           {
            "bin_start": 2129.4,
            "bin_end": 2433.6,
            "count": 298
           },
           {
            "bin_start": 2433.6,
            "bin_end": 2737.7999999999997,
            "count": 255
           },
           {
            "bin_start": 2737.7999999999997,
            "bin_end": 3042,
            "count": 221
           }
          ]
         }
        },
        {
         "name": "report_type",
         "dtype": "object",
         "stats": {
          "unique_count": 1,
          "nan_count": 73,
          "categories": [
           {
            "name": "flood",
            "count": 2774
           },
           {
            "name": "Missing",
            "count": 73
           }
          ]
         }
        },
        {
         "name": "flood_depth",
         "dtype": "float64",
         "stats": {
          "unique_count": 185,
          "nan_count": 73,
          "min": "0.0",
          "max": "200.0",
          "histogram": [
           {
            "bin_start": 0,
            "bin_end": 20,
            "count": 176
           },
           {
            "bin_start": 20,
            "bin_end": 40,
            "count": 645
           },
           {
            "bin_start": 40,
            "bin_end": 60,
            "count": 917
           },
           {
            "bin_start": 60,
            "bin_end": 80,
            "count": 390
           },
           {
            "bin_start": 80,
            "bin_end": 100,
            "count": 255
           },
           {
            "bin_start": 100,
            "bin_end": 120,
            "count": 146
           },
           {
            "bin_start": 120,
            "bin_end": 140,
            "count": 92
           },
           {
            "bin_start": 140,
            "bin_end": 160,
            "count": 59
           },
           {
            "bin_start": 160,
            "bin_end": 180,
            "count": 20
           },
           {
            "bin_start": 180,
            "bin_end": 200,
            "count": 74
           }
          ]
         }
        },
        {
         "name": "_deepnote_index_column",
         "dtype": "int64"
        }
       ],
       "rows": [
        {
         "index": 0,
         "date": "01/01/2020",
         "time": "00:03:02",
         "source": "grasp",
         "status": "confirmed",
         "disaster_type": "flood",
         "report_dat": "{ \"report_type\": \"flood\", \"flood_depth\": 30 }",
         "text": "Banjir di daerah taman ratu dan sekitarnya. Paling parah dari tahun2 sebelumnya",
         "Desa": "Duri Kepa",
         "Kecamatan": "Kebon Jeruk",
         "Kabupaten": "Jakarta Barat",
         "Provinsi": "Daerah Khusus Ibukota Jakarta",
         "long": 106.76866,
         "lat": -6.16978,
         "index.1": 0,
         "report_type": "flood",
         "flood_depth": 30,
         "_deepnote_index_column": 0
        },
        {
         "index": 1,
         "date": "01/01/2020",
         "time": "00:43:02",
         "source": "grasp",
         "status": "confirmed",
         "disaster_type": "flood",
         "report_dat": "{ \"points\": 1, \"flood_depth\": 80, \"report_type\": \"flood\" }",
         "text": "Jl. Kemuning Indah\nKota Harapan Indah.\nBekasi",
         "Desa": "Pejuang",
         "Kecamatan": "Medan Satria",
         "Kabupaten": "Bekasi",
         "Provinsi": "Jawa Barat",
         "long": 106.9787,
         "lat": -6.17944,
         "index.1": 1,
         "report_type": "flood",
         "flood_depth": 80,
         "_deepnote_index_column": 1
        },
        {
         "index": 2,
         "date": "01/01/2020",
         "time": "01:14:53",
         "source": "grasp",
         "status": "confirmed",
         "disaster_type": "flood",
         "report_dat": "{ \"points\": 1, \"flood_depth\": 51, \"report_type\": \"flood\" }",
         "text": "Banjir selutut orang dewasa di jalan ros merah 2 cipinang indah",
         "Desa": "Cipinang Muara",
         "Kecamatan": "Jatinegara",
         "Kabupaten": "Jakarta Timur",
         "Provinsi": "Daerah Khusus Ibukota Jakarta",
         "long": 106.891,
         "lat": -6.23449,
         "index.1": 2,
         "report_type": "flood",
         "flood_depth": 51,
         "_deepnote_index_column": 2
        },
        {
         "index": 3,
         "date": "01/01/2020",
         "time": "01:15:08",
         "source": "grasp",
         "status": "confirmed",
         "disaster_type": "flood",
         "report_dat": "{ \"points\": 2, \"flood_depth\": 100, \"report_type\": \"flood\" }",
         "text": "Banjir di daerah kedasih dan sekitarnya, karena hujan dari semalam belum berhenti, sudah memasuki rumah dari jam 7 pagi tadi",
         "Desa": "Mekarmukti",
         "Kecamatan": "Cikarang Utara",
         "Kabupaten": "Bekasi",
         "Provinsi": "Jawa Barat",
         "long": 107.16189,
         "lat": -6.3017,
         "index.1": 3,
         "report_type": "flood",
         "flood_depth": 100,
         "_deepnote_index_column": 3
        },
        {
         "index": 5,
         "date": "01/01/2020",
         "time": "01:25:02",
         "source": "grasp",
         "status": "confirmed",
         "disaster_type": "flood",
         "report_dat": "{ \"report_type\": \"flood\", \"flood_depth\": 60 }",
         "text": "Banjir area komplek Meruya Ilir sejak jam 5 naik terus. Listri hingga kini belum dipadamkan.",
         "Desa": "Meruya Utara",
         "Kecamatan": "Kembangan",
         "Kabupaten": "Jakarta Barat",
         "Provinsi": "Daerah Khusus Ibukota Jakarta",
         "long": 106.73835,
         "lat": -6.19933,
         "index.1": 4,
         "report_type": "flood",
         "flood_depth": 60,
         "_deepnote_index_column": 4
        },
        {
         "index": 6,
         "date": "01/01/2020",
         "time": "01:33:59",
         "source": "grasp",
         "status": "confirmed",
         "disaster_type": "flood",
         "report_dat": "{ \"report_type\": \"flood\", \"flood_depth\": 39 }",
         "text": "Di perumahan boulevard hijau jalan raya setinggi 40-60 cm\nPerumahan 20-40 cm",
         "Desa": "Pejuang",
         "Kecamatan": "Medan Satria",
         "Kabupaten": "Bekasi",
         "Provinsi": "Jawa Barat",
         "long": 106.98668,
         "lat": -6.18996,
         "index.1": 5,
         "report_type": "flood",
         "flood_depth": 39,
         "_deepnote_index_column": 5
        },
        {
         "index": 8,
         "date": "01/01/2020",
         "time": "02:05:36",
         "source": "grasp",
         "status": "confirmed",
         "disaster_type": "flood",
         "report_dat": "{ \"report_type\": \"flood\", \"flood_depth\": 79 }",
         "text": "Tinggi Genangan Air 60 ~ 70 Cm",
         "Desa": "Duri Kosambi",
         "Kecamatan": "Cengkareng",
         "Kabupaten": "Jakarta Barat",
         "Provinsi": "Daerah Khusus Ibukota Jakarta",
         "long": 106.72181,
         "lat": -6.16777,
         "index.1": 6,
         "report_type": "flood",
         "flood_depth": 79,
         "_deepnote_index_column": 6
        },
        {
         "index": 10,
         "date": "01/01/2020",
         "time": "02:11:42",
         "source": "grasp",
         "status": "confirmed",
         "disaster_type": "flood",
         "report_dat": "{ \"report_type\": \"flood\", \"flood_depth\": 116 }",
         "text": "Kondisi saat ini di jalan pesing koneng RW 08 seluruh RT",
         "Desa": "Kedoya Utara",
         "Kecamatan": "Kebon Jeruk",
         "Kabupaten": "Jakarta Barat",
         "Provinsi": "Daerah Khusus Ibukota Jakarta",
         "long": 106.76476,
         "lat": -6.16204,
         "index.1": 7,
         "report_type": "flood",
         "flood_depth": 116,
         "_deepnote_index_column": 7
        },
        {
         "index": 11,
         "date": "01/01/2020",
         "time": "02:20:56",
         "source": "grasp",
         "status": "confirmed",
         "disaster_type": "flood",
         "report_dat": "{ \"report_type\": \"flood\", \"flood_depth\": 60 }",
         "text": "Banjir, om. What should I say more?",
         "Desa": "Duren Jaya",
         "Kecamatan": "Bekasi Timur",
         "Kabupaten": "Bekasi",
         "Provinsi": "Jawa Barat",
         "long": 107.02225,
         "lat": -6.23895,
         "index.1": 8,
         "report_type": "flood",
         "flood_depth": 60,
         "_deepnote_index_column": 8
        },
        {
         "index": 12,
         "date": "01/01/2020",
         "time": "02:13:40",
         "source": "detik",
         "status": "confirmed",
         "disaster_type": "flood",
         "report_dat": "{ \"points\": 1 }",
         "text": "Begini kondisi Jl.HR Rasuna Said Depan Halte Transjakarta Setia Budi Selatan,akses jalan tak dapat dilalui oleh kendaraan pkl 09:15",
         "Desa": "Setia Budi",
         "Kecamatan": "Setia Budi",
         "Kabupaten": "Jakarta Selatan",
         "Provinsi": "Daerah Khusus Ibukota Jakarta",
         "long": 106.82927,
         "lat": -6.2084,
         "index.1": 9,
         "report_type": "nan",
         "flood_depth": "nan",
         "_deepnote_index_column": 9
        }
       ]
      },
      "text/plain": "      index        date      time source     status disaster_type  \\\n0         0  01/01/2020  00:03:02  grasp  confirmed         flood   \n1         1  01/01/2020  00:43:02  grasp  confirmed         flood   \n2         2  01/01/2020  01:14:53  grasp  confirmed         flood   \n3         3  01/01/2020  01:15:08  grasp  confirmed         flood   \n4         5  01/01/2020  01:25:02  grasp  confirmed         flood   \n...     ...         ...       ...    ...        ...           ...   \n3038   4229  28/12/2021  00:18:56  grasp  confirmed         flood   \n3039   4230  28/12/2021  01:23:43  grasp  confirmed         flood   \n3040   4231  28/12/2021  08:00:14  grasp  confirmed         flood   \n3041   4232  28/12/2021  10:49:49  grasp  confirmed         flood   \n3042   4234  30/12/2021  09:32:42  grasp  confirmed         flood   \n\n                                             report_dat  \\\n0         { \"report_type\": \"flood\", \"flood_depth\": 30 }   \n1     { \"points\": 1, \"flood_depth\": 80, \"report_type...   \n2     { \"points\": 1, \"flood_depth\": 51, \"report_type...   \n3     { \"points\": 2, \"flood_depth\": 100, \"report_typ...   \n4         { \"report_type\": \"flood\", \"flood_depth\": 60 }   \n...                                                 ...   \n3038  { \"points\": 1, \"flood_depth\": 68, \"report_type...   \n3039     { \"report_type\": \"flood\", \"flood_depth\": 103 }   \n3040      { \"report_type\": \"flood\", \"flood_depth\": 54 }   \n3041      { \"report_type\": \"flood\", \"flood_depth\": 19 }   \n3042      { \"report_type\": \"flood\", \"flood_depth\": 22 }   \n\n                                                   text            Desa  \\\n0     Banjir di daerah taman ratu dan sekitarnya. Pa...       Duri Kepa   \n1       Jl. Kemuning Indah\\nKota Harapan Indah.\\nBekasi         Pejuang   \n2     Banjir selutut orang dewasa di jalan ros merah...  Cipinang Muara   \n3     Banjir di daerah kedasih dan sekitarnya, karen...      Mekarmukti   \n4     Banjir area komplek Meruya Ilir sejak jam 5 na...    Meruya Utara   \n...                                                 ...             ...   \n3038  Laporan awal. Air sungai meluap akibat curah h...  Karangan Hilir   \n3039  Luapan air sungai Karangan masuk ke pemukiman ...  Karangan Hilir   \n3040                                banjir lah pokoknya    Karang Anyar   \n3041  saluran irigasi yg di kelola desa dengan buruk...       Purwajaya   \n3042  banjir akibat hujan dan banyak nya sampah memb...    Banjar Anyar   \n\n           Kecamatan      Kabupaten                       Provinsi  \\\n0        Kebon Jeruk  Jakarta Barat  Daerah Khusus Ibukota Jakarta   \n1       Medan Satria         Bekasi                     Jawa Barat   \n2         Jatinegara  Jakarta Timur  Daerah Khusus Ibukota Jakarta   \n3     Cikarang Utara         Bekasi                     Jawa Barat   \n4          Kembangan  Jakarta Barat  Daerah Khusus Ibukota Jakarta   \n...              ...            ...                            ...   \n3038        Karangan    Kutai Timur               Kalimantan Timur   \n3039        Karangan    Kutai Timur               Kalimantan Timur   \n3040     Sawah Besar  Jakarta Pusat  Daerah Khusus Ibukota Jakarta   \n3041       Purwadadi         Ciamis                     Jawa Barat   \n3042          Kediri        Tabanan                           Bali   \n\n            long       lat  index report_type  flood_depth  \n0     106.768660 -6.169780      0       flood         30.0  \n1     106.978700 -6.179440      1       flood         80.0  \n2     106.891000 -6.234490      2       flood         51.0  \n3     107.161890 -6.301700      3       flood        100.0  \n4     106.738350 -6.199330      4       flood         60.0  \n...          ...       ...    ...         ...          ...  \n3038  117.655871  1.343771   3038       flood         68.0  \n3039  117.665504  1.351043   3039       flood        103.0  \n3040  106.827622 -6.157398   3040       flood         54.0  \n3041  108.695570 -7.460077   3041       flood         19.0  \n3042  115.142300 -8.554095   3042       flood         22.0  \n\n[2847 rows x 17 columns]",
      "text/html": "<div>\n<style scoped>\n    .dataframe tbody tr th:only-of-type {\n        vertical-align: middle;\n    }\n\n    .dataframe tbody tr th {\n        vertical-align: top;\n    }\n\n    .dataframe thead th {\n        text-align: right;\n    }\n</style>\n<table border=\"1\" class=\"dataframe\">\n  <thead>\n    <tr style=\"text-align: right;\">\n      <th></th>\n      <th>index</th>\n      <th>date</th>\n      <th>time</th>\n      <th>source</th>\n      <th>status</th>\n      <th>disaster_type</th>\n      <th>report_dat</th>\n      <th>text</th>\n      <th>Desa</th>\n      <th>Kecamatan</th>\n      <th>Kabupaten</th>\n      <th>Provinsi</th>\n      <th>long</th>\n      <th>lat</th>\n      <th>index</th>\n      <th>report_type</th>\n      <th>flood_depth</th>\n    </tr>\n  </thead>\n  <tbody>\n    <tr>\n      <th>0</th>\n      <td>0</td>\n      <td>01/01/2020</td>\n      <td>00:03:02</td>\n      <td>grasp</td>\n      <td>confirmed</td>\n      <td>flood</td>\n      <td>{ \"report_type\": \"flood\", \"flood_depth\": 30 }</td>\n      <td>Banjir di daerah taman ratu dan sekitarnya. Pa...</td>\n      <td>Duri Kepa</td>\n      <td>Kebon Jeruk</td>\n      <td>Jakarta Barat</td>\n      <td>Daerah Khusus Ibukota Jakarta</td>\n      <td>106.768660</td>\n      <td>-6.169780</td>\n      <td>0</td>\n      <td>flood</td>\n      <td>30.0</td>\n    </tr>\n    <tr>\n      <th>1</th>\n      <td>1</td>\n      <td>01/01/2020</td>\n      <td>00:43:02</td>\n      <td>grasp</td>\n      <td>confirmed</td>\n      <td>flood</td>\n      <td>{ \"points\": 1, \"flood_depth\": 80, \"report_type...</td>\n      <td>Jl. Kemuning Indah\\nKota Harapan Indah.\\nBekasi</td>\n      <td>Pejuang</td>\n      <td>Medan Satria</td>\n      <td>Bekasi</td>\n      <td>Jawa Barat</td>\n      <td>106.978700</td>\n      <td>-6.179440</td>\n      <td>1</td>\n      <td>flood</td>\n      <td>80.0</td>\n    </tr>\n    <tr>\n      <th>2</th>\n      <td>2</td>\n      <td>01/01/2020</td>\n      <td>01:14:53</td>\n      <td>grasp</td>\n      <td>confirmed</td>\n      <td>flood</td>\n      <td>{ \"points\": 1, \"flood_depth\": 51, \"report_type...</td>\n      <td>Banjir selutut orang dewasa di jalan ros merah...</td>\n      <td>Cipinang Muara</td>\n      <td>Jatinegara</td>\n      <td>Jakarta Timur</td>\n      <td>Daerah Khusus Ibukota Jakarta</td>\n      <td>106.891000</td>\n      <td>-6.234490</td>\n      <td>2</td>\n      <td>flood</td>\n      <td>51.0</td>\n    </tr>\n    <tr>\n      <th>3</th>\n      <td>3</td>\n      <td>01/01/2020</td>\n      <td>01:15:08</td>\n      <td>grasp</td>\n      <td>confirmed</td>\n      <td>flood</td>\n      <td>{ \"points\": 2, \"flood_depth\": 100, \"report_typ...</td>\n      <td>Banjir di daerah kedasih dan sekitarnya, karen...</td>\n      <td>Mekarmukti</td>\n      <td>Cikarang Utara</td>\n      <td>Bekasi</td>\n      <td>Jawa Barat</td>\n      <td>107.161890</td>\n      <td>-6.301700</td>\n      <td>3</td>\n      <td>flood</td>\n      <td>100.0</td>\n    </tr>\n    <tr>\n      <th>4</th>\n      <td>5</td>\n      <td>01/01/2020</td>\n      <td>01:25:02</td>\n      <td>grasp</td>\n      <td>confirmed</td>\n      <td>flood</td>\n      <td>{ \"report_type\": \"flood\", \"flood_depth\": 60 }</td>\n      <td>Banjir area komplek Meruya Ilir sejak jam 5 na...</td>\n      <td>Meruya Utara</td>\n      <td>Kembangan</td>\n      <td>Jakarta Barat</td>\n      <td>Daerah Khusus Ibukota Jakarta</td>\n      <td>106.738350</td>\n      <td>-6.199330</td>\n      <td>4</td>\n      <td>flood</td>\n      <td>60.0</td>\n    </tr>\n    <tr>\n      <th>...</th>\n      <td>...</td>\n      <td>...</td>\n      <td>...</td>\n      <td>...</td>\n      <td>...</td>\n      <td>...</td>\n      <td>...</td>\n      <td>...</td>\n      <td>...</td>\n      <td>...</td>\n      <td>...</td>\n      <td>...</td>\n      <td>...</td>\n      <td>...</td>\n      <td>...</td>\n      <td>...</td>\n      <td>...</td>\n    </tr>\n    <tr>\n      <th>3038</th>\n      <td>4229</td>\n      <td>28/12/2021</td>\n      <td>00:18:56</td>\n      <td>grasp</td>\n      <td>confirmed</td>\n      <td>flood</td>\n      <td>{ \"points\": 1, \"flood_depth\": 68, \"report_type...</td>\n      <td>Laporan awal. Air sungai meluap akibat curah h...</td>\n      <td>Karangan Hilir</td>\n      <td>Karangan</td>\n      <td>Kutai Timur</td>\n      <td>Kalimantan Timur</td>\n      <td>117.655871</td>\n      <td>1.343771</td>\n      <td>3038</td>\n      <td>flood</td>\n      <td>68.0</td>\n    </tr>\n    <tr>\n      <th>3039</th>\n      <td>4230</td>\n      <td>28/12/2021</td>\n      <td>01:23:43</td>\n      <td>grasp</td>\n      <td>confirmed</td>\n      <td>flood</td>\n      <td>{ \"report_type\": \"flood\", \"flood_depth\": 103 }</td>\n      <td>Luapan air sungai Karangan masuk ke pemukiman ...</td>\n      <td>Karangan Hilir</td>\n      <td>Karangan</td>\n      <td>Kutai Timur</td>\n      <td>Kalimantan Timur</td>\n      <td>117.665504</td>\n      <td>1.351043</td>\n      <td>3039</td>\n      <td>flood</td>\n      <td>103.0</td>\n    </tr>\n    <tr>\n      <th>3040</th>\n      <td>4231</td>\n      <td>28/12/2021</td>\n      <td>08:00:14</td>\n      <td>grasp</td>\n      <td>confirmed</td>\n      <td>flood</td>\n      <td>{ \"report_type\": \"flood\", \"flood_depth\": 54 }</td>\n      <td>banjir lah pokoknya</td>\n      <td>Karang Anyar</td>\n      <td>Sawah Besar</td>\n      <td>Jakarta Pusat</td>\n      <td>Daerah Khusus Ibukota Jakarta</td>\n      <td>106.827622</td>\n      <td>-6.157398</td>\n      <td>3040</td>\n      <td>flood</td>\n      <td>54.0</td>\n    </tr>\n    <tr>\n      <th>3041</th>\n      <td>4232</td>\n      <td>28/12/2021</td>\n      <td>10:49:49</td>\n      <td>grasp</td>\n      <td>confirmed</td>\n      <td>flood</td>\n      <td>{ \"report_type\": \"flood\", \"flood_depth\": 19 }</td>\n      <td>saluran irigasi yg di kelola desa dengan buruk...</td>\n      <td>Purwajaya</td>\n      <td>Purwadadi</td>\n      <td>Ciamis</td>\n      <td>Jawa Barat</td>\n      <td>108.695570</td>\n      <td>-7.460077</td>\n      <td>3041</td>\n      <td>flood</td>\n      <td>19.0</td>\n    </tr>\n    <tr>\n      <th>3042</th>\n      <td>4234</td>\n      <td>30/12/2021</td>\n      <td>09:32:42</td>\n      <td>grasp</td>\n      <td>confirmed</td>\n      <td>flood</td>\n      <td>{ \"report_type\": \"flood\", \"flood_depth\": 22 }</td>\n      <td>banjir akibat hujan dan banyak nya sampah memb...</td>\n      <td>Banjar Anyar</td>\n      <td>Kediri</td>\n      <td>Tabanan</td>\n      <td>Bali</td>\n      <td>115.142300</td>\n      <td>-8.554095</td>\n      <td>3042</td>\n      <td>flood</td>\n      <td>22.0</td>\n    </tr>\n  </tbody>\n</table>\n<p>2847 rows × 17 columns</p>\n</div>"
     },
     "metadata": {}
    }
   ]
  },
  {
   "cell_type": "code",
   "metadata": {
    "cell_id": "3f8fc934efce49aabccaa17c4c5e6645",
    "tags": [],
    "deepnote_to_be_reexecuted": false,
    "source_hash": "9d535309",
    "execution_start": 1661007846741,
    "execution_millis": 23,
    "deepnote_cell_type": "code",
    "deepnote_cell_height": 76
   },
   "source": "df[\"report_type\"] = df[\"report_type\"].fillna(\"flood\")",
   "execution_count": null,
   "outputs": []
  },
  {
   "cell_type": "code",
   "metadata": {
    "cell_id": "7290bc0a072b4548b620e9091b0cea71",
    "tags": [],
    "deepnote_to_be_reexecuted": false,
    "source_hash": "f804c160",
    "execution_start": 1661007846766,
    "execution_millis": 149,
    "deepnote_cell_type": "code",
    "deepnote_cell_height": 611.65625
   },
   "source": "df",
   "execution_count": null,
   "outputs": [
    {
     "output_type": "execute_result",
     "execution_count": 33,
     "data": {
      "application/vnd.deepnote.dataframe.v3+json": {
       "column_count": 17,
       "row_count": 3043,
       "columns": [
        {
         "name": "index",
         "dtype": "int64",
         "stats": {
          "unique_count": 3043,
          "nan_count": 0,
          "min": "0",
          "max": "4234",
          "histogram": [
           {
            "bin_start": 0,
            "bin_end": 423.4,
            "count": 345
           },
           {
            "bin_start": 423.4,
            "bin_end": 846.8,
            "count": 260
           },
           {
            "bin_start": 846.8,
            "bin_end": 1270.1999999999998,
            "count": 371
           },
           {
            "bin_start": 1270.1999999999998,
            "bin_end": 1693.6,
            "count": 307
           },
           {
            "bin_start": 1693.6,
            "bin_end": 2117,
            "count": 235
           },
           {
            "bin_start": 2117,
            "bin_end": 2540.3999999999996,
            "count": 245
           },
           {
            "bin_start": 2540.3999999999996,
            "bin_end": 2963.7999999999997,
            "count": 316
           },
           {
            "bin_start": 2963.7999999999997,
            "bin_end": 3387.2,
            "count": 317
           },
           {
            "bin_start": 3387.2,
            "bin_end": 3810.6,
            "count": 300
           },
           {
            "bin_start": 3810.6,
            "bin_end": 4234,
            "count": 347
           }
          ]
         }
        },
        {
         "name": "date",
         "dtype": "object",
         "stats": {
          "unique_count": 377,
          "nan_count": 0,
          "categories": [
           {
            "name": "25/02/2020",
            "count": 319
           },
           {
            "name": "24/02/2020",
            "count": 292
           },
           {
            "name": "375 others",
            "count": 2432
           }
          ]
         }
        },
        {
         "name": "time",
         "dtype": "object",
         "stats": {
          "unique_count": 1867,
          "nan_count": 0,
          "categories": [
           {
            "name": "1",
            "count": 566
           },
           {
            "name": "0",
            "count": 556
           },
           {
            "name": "1865 others",
            "count": 1921
           }
          ]
         }
        },
        {
         "name": "source",
         "dtype": "object",
         "stats": {
          "unique_count": 3,
          "nan_count": 0,
          "categories": [
           {
            "name": "grasp",
            "count": 2970
           },
           {
            "name": "qlue",
            "count": 43
           },
           {
            "name": "detik",
            "count": 30
           }
          ]
         }
        },
        {
         "name": "status",
         "dtype": "object",
         "stats": {
          "unique_count": 1,
          "nan_count": 0,
          "categories": [
           {
            "name": "confirmed",
            "count": 3043
           }
          ]
         }
        },
        {
         "name": "disaster_type",
         "dtype": "object",
         "stats": {
          "unique_count": 6,
          "nan_count": 0,
          "categories": [
           {
            "name": "flood",
            "count": 2847
           },
           {
            "name": "earthquake",
            "count": 109
           },
           {
            "name": "4 others",
            "count": 87
           }
          ]
         }
        },
        {
         "name": "report_dat",
         "dtype": "object",
         "stats": {
          "unique_count": 539,
          "nan_count": 0,
          "categories": [
           {
            "name": "{ \"report_type\": \"flood\", \"flood_depth\": 44 }",
            "count": 171
           },
           {
            "name": "{ \"report_type\": \"flood\", \"flood_depth\": 50 }",
            "count": 116
           },
           {
            "name": "537 others",
            "count": 2756
           }
          ]
         }
        },
        {
         "name": "text",
         "dtype": "object",
         "stats": {
          "unique_count": 2918,
          "nan_count": 0,
          "categories": [
           {
            "name": "Banjir",
            "count": 55
           },
           {
            "name": "banjir",
            "count": 14
           },
           {
            "name": "2916 others",
            "count": 2974
           }
          ]
         }
        },
        {
         "name": "Desa",
         "dtype": "object",
         "stats": {
          "unique_count": 1090,
          "nan_count": 0,
          "categories": [
           {
            "name": "Duri Kepa",
            "count": 56
           },
           {
            "name": "Rawa Buaya",
            "count": 46
           },
           {
            "name": "1088 others",
            "count": 2941
           }
          ]
         }
        },
        {
         "name": "Kecamatan",
         "dtype": "object",
         "stats": {
          "unique_count": 608,
          "nan_count": 0,
          "categories": [
           {
            "name": "Kelapa Gading",
            "count": 108
           },
           {
            "name": "Cakung",
            "count": 93
           },
           {
            "name": "606 others",
            "count": 2842
           }
          ]
         }
        },
        {
         "name": "Kabupaten",
         "dtype": "object",
         "stats": {
          "unique_count": 205,
          "nan_count": 0,
          "categories": [
           {
            "name": "Jakarta Timur",
            "count": 404
           },
           {
            "name": "Bekasi",
            "count": 382
           },
           {
            "name": "203 others",
            "count": 2257
           }
          ]
         }
        },
        {
         "name": "Provinsi",
         "dtype": "object",
         "stats": {
          "unique_count": 34,
          "nan_count": 0,
          "categories": [
           {
            "name": "Daerah Khusus Ibukota Jakarta",
            "count": 1457
           },
           {
            "name": "Jawa Barat",
            "count": 584
           },
           {
            "name": "32 others",
            "count": 1002
           }
          ]
         }
        },
        {
         "name": "long",
         "dtype": "float64",
         "stats": {
          "unique_count": 2881,
          "nan_count": 0,
          "min": "95.31473",
          "max": "136.37668",
          "histogram": [
           {
            "bin_start": 95.31473,
            "bin_end": 99.420925,
            "count": 38
           },
           {
            "bin_start": 99.420925,
            "bin_end": 103.52712,
            "count": 28
           },
           {
            "bin_start": 103.52712,
            "bin_end": 107.633315,
            "count": 2164
           },
           {
            "bin_start": 107.633315,
            "bin_end": 111.73951,
            "count": 263
           },
           {
            "bin_start": 111.73951,
            "bin_end": 115.845705,
            "count": 367
           },
           {
            "bin_start": 115.845705,
            "bin_end": 119.9519,
            "count": 111
           },
           {
            "bin_start": 119.9519,
            "bin_end": 124.058095,
            "count": 52
           },
           {
            "bin_start": 124.058095,
            "bin_end": 128.16429,
            "count": 9
           },
           {
            "bin_start": 128.16429,
            "bin_end": 132.270485,
            "count": 6
           },
           {
            "bin_start": 132.270485,
            "bin_end": 136.37668,
            "count": 5
           }
          ]
         }
        },
        {
         "name": "lat",
         "dtype": "float64",
         "stats": {
          "unique_count": 2838,
          "nan_count": 0,
          "min": "-10.20517",
          "max": "5.883711",
          "histogram": [
           {
            "bin_start": -10.20517,
            "bin_end": -8.596281900000001,
            "count": 24
           },
           {
            "bin_start": -8.596281900000001,
            "bin_end": -6.9873938,
            "count": 304
           },
           {
            "bin_start": -6.9873938,
            "bin_end": -5.3785057,
            "count": 2285
           },
           {
            "bin_start": -5.3785057,
            "bin_end": -3.7696176,
            "count": 34
           },
           {
            "bin_start": -3.7696176,
            "bin_end": -2.1607295000000004,
            "count": 186
           },
           {
            "bin_start": -2.1607295000000004,
            "bin_end": -0.5518413999999989,
            "count": 55
           },
           {
            "bin_start": -0.5518413999999989,
            "bin_end": 1.0570467000000008,
            "count": 96
           },
           {
            "bin_start": 1.0570467000000008,
            "bin_end": 2.6659348000000005,
            "count": 23
           },
           {
            "bin_start": 2.6659348000000005,
            "bin_end": 4.2748229,
            "count": 20
           },
           {
            "bin_start": 4.2748229,
            "bin_end": 5.883711,
            "count": 16
           }
          ]
         }
        },
        {
         "name": "index.1",
         "dtype": "int64",
         "stats": {
          "unique_count": 3043,
          "nan_count": 0,
          "min": "0",
          "max": "3042",
          "histogram": [
           {
            "bin_start": 0,
            "bin_end": 304.2,
            "count": 305
           },
           {
            "bin_start": 304.2,
            "bin_end": 608.4,
            "count": 304
           },
           {
            "bin_start": 608.4,
            "bin_end": 912.5999999999999,
            "count": 304
           },
           {
            "bin_start": 912.5999999999999,
            "bin_end": 1216.8,
            "count": 304
           },
           {
            "bin_start": 1216.8,
            "bin_end": 1521,
            "count": 304
           },
           {
            "bin_start": 1521,
            "bin_end": 1825.1999999999998,
            "count": 305
           },
           {
            "bin_start": 1825.1999999999998,
            "bin_end": 2129.4,
            "count": 304
           },
           {
            "bin_start": 2129.4,
            "bin_end": 2433.6,
            "count": 304
           },
           {
            "bin_start": 2433.6,
            "bin_end": 2737.7999999999997,
            "count": 304
           },
           {
            "bin_start": 2737.7999999999997,
            "bin_end": 3042,
            "count": 305
           }
          ]
         }
        },
        {
         "name": "report_type",
         "dtype": "object",
         "stats": {
          "unique_count": 7,
          "nan_count": 0,
          "categories": [
           {
            "name": "flood",
            "count": 2847
           },
           {
            "name": "structure",
            "count": 65
           },
           {
            "name": "5 others",
            "count": 131
           }
          ]
         }
        },
        {
         "name": "flood_depth",
         "dtype": "float64",
         "stats": {
          "unique_count": 185,
          "nan_count": 269,
          "min": "0.0",
          "max": "200.0",
          "histogram": [
           {
            "bin_start": 0,
            "bin_end": 20,
            "count": 176
           },
           {
            "bin_start": 20,
            "bin_end": 40,
            "count": 645
           },
           {
            "bin_start": 40,
            "bin_end": 60,
            "count": 917
           },
           {
            "bin_start": 60,
            "bin_end": 80,
            "count": 390
           },
           {
            "bin_start": 80,
            "bin_end": 100,
            "count": 255
           },
           {
            "bin_start": 100,
            "bin_end": 120,
            "count": 146
           },
           {
            "bin_start": 120,
            "bin_end": 140,
            "count": 92
           },
           {
            "bin_start": 140,
            "bin_end": 160,
            "count": 59
           },
           {
            "bin_start": 160,
            "bin_end": 180,
            "count": 20
           },
           {
            "bin_start": 180,
            "bin_end": 200,
            "count": 74
           }
          ]
         }
        },
        {
         "name": "_deepnote_index_column",
         "dtype": "int64"
        }
       ],
       "rows": [
        {
         "index": 0,
         "date": "01/01/2020",
         "time": "00:03:02",
         "source": "grasp",
         "status": "confirmed",
         "disaster_type": "flood",
         "report_dat": "{ \"report_type\": \"flood\", \"flood_depth\": 30 }",
         "text": "Banjir di daerah taman ratu dan sekitarnya. Paling parah dari tahun2 sebelumnya",
         "Desa": "Duri Kepa",
         "Kecamatan": "Kebon Jeruk",
         "Kabupaten": "Jakarta Barat",
         "Provinsi": "Daerah Khusus Ibukota Jakarta",
         "long": 106.76866,
         "lat": -6.16978,
         "index.1": 0,
         "report_type": "flood",
         "flood_depth": 30,
         "_deepnote_index_column": 0
        },
        {
         "index": 1,
         "date": "01/01/2020",
         "time": "00:43:02",
         "source": "grasp",
         "status": "confirmed",
         "disaster_type": "flood",
         "report_dat": "{ \"points\": 1, \"flood_depth\": 80, \"report_type\": \"flood\" }",
         "text": "Jl. Kemuning Indah\nKota Harapan Indah.\nBekasi",
         "Desa": "Pejuang",
         "Kecamatan": "Medan Satria",
         "Kabupaten": "Bekasi",
         "Provinsi": "Jawa Barat",
         "long": 106.9787,
         "lat": -6.17944,
         "index.1": 1,
         "report_type": "flood",
         "flood_depth": 80,
         "_deepnote_index_column": 1
        },
        {
         "index": 2,
         "date": "01/01/2020",
         "time": "01:14:53",
         "source": "grasp",
         "status": "confirmed",
         "disaster_type": "flood",
         "report_dat": "{ \"points\": 1, \"flood_depth\": 51, \"report_type\": \"flood\" }",
         "text": "Banjir selutut orang dewasa di jalan ros merah 2 cipinang indah",
         "Desa": "Cipinang Muara",
         "Kecamatan": "Jatinegara",
         "Kabupaten": "Jakarta Timur",
         "Provinsi": "Daerah Khusus Ibukota Jakarta",
         "long": 106.891,
         "lat": -6.23449,
         "index.1": 2,
         "report_type": "flood",
         "flood_depth": 51,
         "_deepnote_index_column": 2
        },
        {
         "index": 3,
         "date": "01/01/2020",
         "time": "01:15:08",
         "source": "grasp",
         "status": "confirmed",
         "disaster_type": "flood",
         "report_dat": "{ \"points\": 2, \"flood_depth\": 100, \"report_type\": \"flood\" }",
         "text": "Banjir di daerah kedasih dan sekitarnya, karena hujan dari semalam belum berhenti, sudah memasuki rumah dari jam 7 pagi tadi",
         "Desa": "Mekarmukti",
         "Kecamatan": "Cikarang Utara",
         "Kabupaten": "Bekasi",
         "Provinsi": "Jawa Barat",
         "long": 107.16189,
         "lat": -6.3017,
         "index.1": 3,
         "report_type": "flood",
         "flood_depth": 100,
         "_deepnote_index_column": 3
        },
        {
         "index": 5,
         "date": "01/01/2020",
         "time": "01:25:02",
         "source": "grasp",
         "status": "confirmed",
         "disaster_type": "flood",
         "report_dat": "{ \"report_type\": \"flood\", \"flood_depth\": 60 }",
         "text": "Banjir area komplek Meruya Ilir sejak jam 5 naik terus. Listri hingga kini belum dipadamkan.",
         "Desa": "Meruya Utara",
         "Kecamatan": "Kembangan",
         "Kabupaten": "Jakarta Barat",
         "Provinsi": "Daerah Khusus Ibukota Jakarta",
         "long": 106.73835,
         "lat": -6.19933,
         "index.1": 4,
         "report_type": "flood",
         "flood_depth": 60,
         "_deepnote_index_column": 4
        },
        {
         "index": 6,
         "date": "01/01/2020",
         "time": "01:33:59",
         "source": "grasp",
         "status": "confirmed",
         "disaster_type": "flood",
         "report_dat": "{ \"report_type\": \"flood\", \"flood_depth\": 39 }",
         "text": "Di perumahan boulevard hijau jalan raya setinggi 40-60 cm\nPerumahan 20-40 cm",
         "Desa": "Pejuang",
         "Kecamatan": "Medan Satria",
         "Kabupaten": "Bekasi",
         "Provinsi": "Jawa Barat",
         "long": 106.98668,
         "lat": -6.18996,
         "index.1": 5,
         "report_type": "flood",
         "flood_depth": 39,
         "_deepnote_index_column": 5
        },
        {
         "index": 8,
         "date": "01/01/2020",
         "time": "02:05:36",
         "source": "grasp",
         "status": "confirmed",
         "disaster_type": "flood",
         "report_dat": "{ \"report_type\": \"flood\", \"flood_depth\": 79 }",
         "text": "Tinggi Genangan Air 60 ~ 70 Cm",
         "Desa": "Duri Kosambi",
         "Kecamatan": "Cengkareng",
         "Kabupaten": "Jakarta Barat",
         "Provinsi": "Daerah Khusus Ibukota Jakarta",
         "long": 106.72181,
         "lat": -6.16777,
         "index.1": 6,
         "report_type": "flood",
         "flood_depth": 79,
         "_deepnote_index_column": 6
        },
        {
         "index": 10,
         "date": "01/01/2020",
         "time": "02:11:42",
         "source": "grasp",
         "status": "confirmed",
         "disaster_type": "flood",
         "report_dat": "{ \"report_type\": \"flood\", \"flood_depth\": 116 }",
         "text": "Kondisi saat ini di jalan pesing koneng RW 08 seluruh RT",
         "Desa": "Kedoya Utara",
         "Kecamatan": "Kebon Jeruk",
         "Kabupaten": "Jakarta Barat",
         "Provinsi": "Daerah Khusus Ibukota Jakarta",
         "long": 106.76476,
         "lat": -6.16204,
         "index.1": 7,
         "report_type": "flood",
         "flood_depth": 116,
         "_deepnote_index_column": 7
        },
        {
         "index": 11,
         "date": "01/01/2020",
         "time": "02:20:56",
         "source": "grasp",
         "status": "confirmed",
         "disaster_type": "flood",
         "report_dat": "{ \"report_type\": \"flood\", \"flood_depth\": 60 }",
         "text": "Banjir, om. What should I say more?",
         "Desa": "Duren Jaya",
         "Kecamatan": "Bekasi Timur",
         "Kabupaten": "Bekasi",
         "Provinsi": "Jawa Barat",
         "long": 107.02225,
         "lat": -6.23895,
         "index.1": 8,
         "report_type": "flood",
         "flood_depth": 60,
         "_deepnote_index_column": 8
        },
        {
         "index": 12,
         "date": "01/01/2020",
         "time": "02:13:40",
         "source": "detik",
         "status": "confirmed",
         "disaster_type": "flood",
         "report_dat": "{ \"points\": 1 }",
         "text": "Begini kondisi Jl.HR Rasuna Said Depan Halte Transjakarta Setia Budi Selatan,akses jalan tak dapat dilalui oleh kendaraan pkl 09:15",
         "Desa": "Setia Budi",
         "Kecamatan": "Setia Budi",
         "Kabupaten": "Jakarta Selatan",
         "Provinsi": "Daerah Khusus Ibukota Jakarta",
         "long": 106.82927,
         "lat": -6.2084,
         "index.1": 9,
         "report_type": "flood",
         "flood_depth": "nan",
         "_deepnote_index_column": 9
        }
       ]
      },
      "text/plain": "      index        date      time source     status disaster_type  \\\n0         0  01/01/2020  00:03:02  grasp  confirmed         flood   \n1         1  01/01/2020  00:43:02  grasp  confirmed         flood   \n2         2  01/01/2020  01:14:53  grasp  confirmed         flood   \n3         3  01/01/2020  01:15:08  grasp  confirmed         flood   \n4         5  01/01/2020  01:25:02  grasp  confirmed         flood   \n...     ...         ...       ...    ...        ...           ...   \n3038   4229  28/12/2021  00:18:56  grasp  confirmed         flood   \n3039   4230  28/12/2021  01:23:43  grasp  confirmed         flood   \n3040   4231  28/12/2021  08:00:14  grasp  confirmed         flood   \n3041   4232  28/12/2021  10:49:49  grasp  confirmed         flood   \n3042   4234  30/12/2021  09:32:42  grasp  confirmed         flood   \n\n                                             report_dat  \\\n0         { \"report_type\": \"flood\", \"flood_depth\": 30 }   \n1     { \"points\": 1, \"flood_depth\": 80, \"report_type...   \n2     { \"points\": 1, \"flood_depth\": 51, \"report_type...   \n3     { \"points\": 2, \"flood_depth\": 100, \"report_typ...   \n4         { \"report_type\": \"flood\", \"flood_depth\": 60 }   \n...                                                 ...   \n3038  { \"points\": 1, \"flood_depth\": 68, \"report_type...   \n3039     { \"report_type\": \"flood\", \"flood_depth\": 103 }   \n3040      { \"report_type\": \"flood\", \"flood_depth\": 54 }   \n3041      { \"report_type\": \"flood\", \"flood_depth\": 19 }   \n3042      { \"report_type\": \"flood\", \"flood_depth\": 22 }   \n\n                                                   text            Desa  \\\n0     Banjir di daerah taman ratu dan sekitarnya. Pa...       Duri Kepa   \n1       Jl. Kemuning Indah\\nKota Harapan Indah.\\nBekasi         Pejuang   \n2     Banjir selutut orang dewasa di jalan ros merah...  Cipinang Muara   \n3     Banjir di daerah kedasih dan sekitarnya, karen...      Mekarmukti   \n4     Banjir area komplek Meruya Ilir sejak jam 5 na...    Meruya Utara   \n...                                                 ...             ...   \n3038  Laporan awal. Air sungai meluap akibat curah h...  Karangan Hilir   \n3039  Luapan air sungai Karangan masuk ke pemukiman ...  Karangan Hilir   \n3040                                banjir lah pokoknya    Karang Anyar   \n3041  saluran irigasi yg di kelola desa dengan buruk...       Purwajaya   \n3042  banjir akibat hujan dan banyak nya sampah memb...    Banjar Anyar   \n\n           Kecamatan      Kabupaten                       Provinsi  \\\n0        Kebon Jeruk  Jakarta Barat  Daerah Khusus Ibukota Jakarta   \n1       Medan Satria         Bekasi                     Jawa Barat   \n2         Jatinegara  Jakarta Timur  Daerah Khusus Ibukota Jakarta   \n3     Cikarang Utara         Bekasi                     Jawa Barat   \n4          Kembangan  Jakarta Barat  Daerah Khusus Ibukota Jakarta   \n...              ...            ...                            ...   \n3038        Karangan    Kutai Timur               Kalimantan Timur   \n3039        Karangan    Kutai Timur               Kalimantan Timur   \n3040     Sawah Besar  Jakarta Pusat  Daerah Khusus Ibukota Jakarta   \n3041       Purwadadi         Ciamis                     Jawa Barat   \n3042          Kediri        Tabanan                           Bali   \n\n            long       lat  index report_type  flood_depth  \n0     106.768660 -6.169780      0       flood         30.0  \n1     106.978700 -6.179440      1       flood         80.0  \n2     106.891000 -6.234490      2       flood         51.0  \n3     107.161890 -6.301700      3       flood        100.0  \n4     106.738350 -6.199330      4       flood         60.0  \n...          ...       ...    ...         ...          ...  \n3038  117.655871  1.343771   3038       flood         68.0  \n3039  117.665504  1.351043   3039       flood        103.0  \n3040  106.827622 -6.157398   3040       flood         54.0  \n3041  108.695570 -7.460077   3041       flood         19.0  \n3042  115.142300 -8.554095   3042       flood         22.0  \n\n[3043 rows x 17 columns]",
      "text/html": "<div>\n<style scoped>\n    .dataframe tbody tr th:only-of-type {\n        vertical-align: middle;\n    }\n\n    .dataframe tbody tr th {\n        vertical-align: top;\n    }\n\n    .dataframe thead th {\n        text-align: right;\n    }\n</style>\n<table border=\"1\" class=\"dataframe\">\n  <thead>\n    <tr style=\"text-align: right;\">\n      <th></th>\n      <th>index</th>\n      <th>date</th>\n      <th>time</th>\n      <th>source</th>\n      <th>status</th>\n      <th>disaster_type</th>\n      <th>report_dat</th>\n      <th>text</th>\n      <th>Desa</th>\n      <th>Kecamatan</th>\n      <th>Kabupaten</th>\n      <th>Provinsi</th>\n      <th>long</th>\n      <th>lat</th>\n      <th>index</th>\n      <th>report_type</th>\n      <th>flood_depth</th>\n    </tr>\n  </thead>\n  <tbody>\n    <tr>\n      <th>0</th>\n      <td>0</td>\n      <td>01/01/2020</td>\n      <td>00:03:02</td>\n      <td>grasp</td>\n      <td>confirmed</td>\n      <td>flood</td>\n      <td>{ \"report_type\": \"flood\", \"flood_depth\": 30 }</td>\n      <td>Banjir di daerah taman ratu dan sekitarnya. Pa...</td>\n      <td>Duri Kepa</td>\n      <td>Kebon Jeruk</td>\n      <td>Jakarta Barat</td>\n      <td>Daerah Khusus Ibukota Jakarta</td>\n      <td>106.768660</td>\n      <td>-6.169780</td>\n      <td>0</td>\n      <td>flood</td>\n      <td>30.0</td>\n    </tr>\n    <tr>\n      <th>1</th>\n      <td>1</td>\n      <td>01/01/2020</td>\n      <td>00:43:02</td>\n      <td>grasp</td>\n      <td>confirmed</td>\n      <td>flood</td>\n      <td>{ \"points\": 1, \"flood_depth\": 80, \"report_type...</td>\n      <td>Jl. Kemuning Indah\\nKota Harapan Indah.\\nBekasi</td>\n      <td>Pejuang</td>\n      <td>Medan Satria</td>\n      <td>Bekasi</td>\n      <td>Jawa Barat</td>\n      <td>106.978700</td>\n      <td>-6.179440</td>\n      <td>1</td>\n      <td>flood</td>\n      <td>80.0</td>\n    </tr>\n    <tr>\n      <th>2</th>\n      <td>2</td>\n      <td>01/01/2020</td>\n      <td>01:14:53</td>\n      <td>grasp</td>\n      <td>confirmed</td>\n      <td>flood</td>\n      <td>{ \"points\": 1, \"flood_depth\": 51, \"report_type...</td>\n      <td>Banjir selutut orang dewasa di jalan ros merah...</td>\n      <td>Cipinang Muara</td>\n      <td>Jatinegara</td>\n      <td>Jakarta Timur</td>\n      <td>Daerah Khusus Ibukota Jakarta</td>\n      <td>106.891000</td>\n      <td>-6.234490</td>\n      <td>2</td>\n      <td>flood</td>\n      <td>51.0</td>\n    </tr>\n    <tr>\n      <th>3</th>\n      <td>3</td>\n      <td>01/01/2020</td>\n      <td>01:15:08</td>\n      <td>grasp</td>\n      <td>confirmed</td>\n      <td>flood</td>\n      <td>{ \"points\": 2, \"flood_depth\": 100, \"report_typ...</td>\n      <td>Banjir di daerah kedasih dan sekitarnya, karen...</td>\n      <td>Mekarmukti</td>\n      <td>Cikarang Utara</td>\n      <td>Bekasi</td>\n      <td>Jawa Barat</td>\n      <td>107.161890</td>\n      <td>-6.301700</td>\n      <td>3</td>\n      <td>flood</td>\n      <td>100.0</td>\n    </tr>\n    <tr>\n      <th>4</th>\n      <td>5</td>\n      <td>01/01/2020</td>\n      <td>01:25:02</td>\n      <td>grasp</td>\n      <td>confirmed</td>\n      <td>flood</td>\n      <td>{ \"report_type\": \"flood\", \"flood_depth\": 60 }</td>\n      <td>Banjir area komplek Meruya Ilir sejak jam 5 na...</td>\n      <td>Meruya Utara</td>\n      <td>Kembangan</td>\n      <td>Jakarta Barat</td>\n      <td>Daerah Khusus Ibukota Jakarta</td>\n      <td>106.738350</td>\n      <td>-6.199330</td>\n      <td>4</td>\n      <td>flood</td>\n      <td>60.0</td>\n    </tr>\n    <tr>\n      <th>...</th>\n      <td>...</td>\n      <td>...</td>\n      <td>...</td>\n      <td>...</td>\n      <td>...</td>\n      <td>...</td>\n      <td>...</td>\n      <td>...</td>\n      <td>...</td>\n      <td>...</td>\n      <td>...</td>\n      <td>...</td>\n      <td>...</td>\n      <td>...</td>\n      <td>...</td>\n      <td>...</td>\n      <td>...</td>\n    </tr>\n    <tr>\n      <th>3038</th>\n      <td>4229</td>\n      <td>28/12/2021</td>\n      <td>00:18:56</td>\n      <td>grasp</td>\n      <td>confirmed</td>\n      <td>flood</td>\n      <td>{ \"points\": 1, \"flood_depth\": 68, \"report_type...</td>\n      <td>Laporan awal. Air sungai meluap akibat curah h...</td>\n      <td>Karangan Hilir</td>\n      <td>Karangan</td>\n      <td>Kutai Timur</td>\n      <td>Kalimantan Timur</td>\n      <td>117.655871</td>\n      <td>1.343771</td>\n      <td>3038</td>\n      <td>flood</td>\n      <td>68.0</td>\n    </tr>\n    <tr>\n      <th>3039</th>\n      <td>4230</td>\n      <td>28/12/2021</td>\n      <td>01:23:43</td>\n      <td>grasp</td>\n      <td>confirmed</td>\n      <td>flood</td>\n      <td>{ \"report_type\": \"flood\", \"flood_depth\": 103 }</td>\n      <td>Luapan air sungai Karangan masuk ke pemukiman ...</td>\n      <td>Karangan Hilir</td>\n      <td>Karangan</td>\n      <td>Kutai Timur</td>\n      <td>Kalimantan Timur</td>\n      <td>117.665504</td>\n      <td>1.351043</td>\n      <td>3039</td>\n      <td>flood</td>\n      <td>103.0</td>\n    </tr>\n    <tr>\n      <th>3040</th>\n      <td>4231</td>\n      <td>28/12/2021</td>\n      <td>08:00:14</td>\n      <td>grasp</td>\n      <td>confirmed</td>\n      <td>flood</td>\n      <td>{ \"report_type\": \"flood\", \"flood_depth\": 54 }</td>\n      <td>banjir lah pokoknya</td>\n      <td>Karang Anyar</td>\n      <td>Sawah Besar</td>\n      <td>Jakarta Pusat</td>\n      <td>Daerah Khusus Ibukota Jakarta</td>\n      <td>106.827622</td>\n      <td>-6.157398</td>\n      <td>3040</td>\n      <td>flood</td>\n      <td>54.0</td>\n    </tr>\n    <tr>\n      <th>3041</th>\n      <td>4232</td>\n      <td>28/12/2021</td>\n      <td>10:49:49</td>\n      <td>grasp</td>\n      <td>confirmed</td>\n      <td>flood</td>\n      <td>{ \"report_type\": \"flood\", \"flood_depth\": 19 }</td>\n      <td>saluran irigasi yg di kelola desa dengan buruk...</td>\n      <td>Purwajaya</td>\n      <td>Purwadadi</td>\n      <td>Ciamis</td>\n      <td>Jawa Barat</td>\n      <td>108.695570</td>\n      <td>-7.460077</td>\n      <td>3041</td>\n      <td>flood</td>\n      <td>19.0</td>\n    </tr>\n    <tr>\n      <th>3042</th>\n      <td>4234</td>\n      <td>30/12/2021</td>\n      <td>09:32:42</td>\n      <td>grasp</td>\n      <td>confirmed</td>\n      <td>flood</td>\n      <td>{ \"report_type\": \"flood\", \"flood_depth\": 22 }</td>\n      <td>banjir akibat hujan dan banyak nya sampah memb...</td>\n      <td>Banjar Anyar</td>\n      <td>Kediri</td>\n      <td>Tabanan</td>\n      <td>Bali</td>\n      <td>115.142300</td>\n      <td>-8.554095</td>\n      <td>3042</td>\n      <td>flood</td>\n      <td>22.0</td>\n    </tr>\n  </tbody>\n</table>\n<p>3043 rows × 17 columns</p>\n</div>"
     },
     "metadata": {}
    }
   ]
  },
  {
   "cell_type": "code",
   "metadata": {
    "cell_id": "8c89f0503632437fb9a2046aed6d29e4",
    "tags": [],
    "deepnote_to_be_reexecuted": false,
    "source_hash": "ee849744",
    "execution_start": 1661007846916,
    "execution_millis": 308,
    "deepnote_cell_type": "code",
    "deepnote_cell_height": 356,
    "deepnote_output_heights": [
     264
    ]
   },
   "source": "sns.boxplot(x='flood_depth', data=df);",
   "execution_count": null,
   "outputs": [
    {
     "data": {
      "text/plain": "<Figure size 432x288 with 1 Axes>",
      "image/png": "[encoded data removed]"
     },
     "metadata": {
      "needs_background": "light",
      "image/png": {
       "width": 352,
       "height": 263
      }
     },
     "output_type": "display_data"
    }
   ]
  },
  {
   "cell_type": "markdown",
   "source": "Ditemukan adanya outlier di data flood depth sehingga missing valunya diisi dengan median",
   "metadata": {
    "formattedRanges": [],
    "is_collapsed": false,
    "cell_id": "b1b020e8a6b04036a6d6f13dae20618c",
    "tags": [],
    "deepnote_cell_type": "text-cell-p"
   }
  },
  {
   "cell_type": "code",
   "metadata": {
    "cell_id": "dee3e6c22ed34e2dacf5141f5bc9c1ba",
    "tags": [],
    "deepnote_to_be_reexecuted": false,
    "source_hash": "2eae96f7",
    "execution_start": 1661007847230,
    "execution_millis": 12,
    "deepnote_cell_type": "code",
    "deepnote_cell_height": 76
   },
   "source": "df[\"flood_depth\"] = df[\"flood_depth\"].fillna(df[\"flood_depth\"].median())",
   "execution_count": null,
   "outputs": []
  },
  {
   "cell_type": "code",
   "metadata": {
    "cell_id": "2691d2d60df84c839fee929171a4dde8",
    "tags": [],
    "deepnote_to_be_reexecuted": false,
    "source_hash": "f804c160",
    "execution_start": 1661007847246,
    "execution_millis": 179,
    "deepnote_cell_type": "code",
    "deepnote_cell_height": 611.65625
   },
   "source": "df",
   "execution_count": null,
   "outputs": [
    {
     "output_type": "execute_result",
     "execution_count": 36,
     "data": {
      "application/vnd.deepnote.dataframe.v3+json": {
       "column_count": 17,
       "row_count": 3043,
       "columns": [
        {
         "name": "index",
         "dtype": "int64",
         "stats": {
          "unique_count": 3043,
          "nan_count": 0,
          "min": "0",
          "max": "4234",
          "histogram": [
           {
            "bin_start": 0,
            "bin_end": 423.4,
            "count": 345
           },
           {
            "bin_start": 423.4,
            "bin_end": 846.8,
            "count": 260
           },
           {
            "bin_start": 846.8,
            "bin_end": 1270.1999999999998,
            "count": 371
           },
           {
            "bin_start": 1270.1999999999998,
            "bin_end": 1693.6,
            "count": 307
           },
           {
            "bin_start": 1693.6,
            "bin_end": 2117,
            "count": 235
           },
           {
            "bin_start": 2117,
            "bin_end": 2540.3999999999996,
            "count": 245
           },
           {
            "bin_start": 2540.3999999999996,
            "bin_end": 2963.7999999999997,
            "count": 316
           },
           {
            "bin_start": 2963.7999999999997,
            "bin_end": 3387.2,
            "count": 317
           },
           {
            "bin_start": 3387.2,
            "bin_end": 3810.6,
            "count": 300
           },
           {
            "bin_start": 3810.6,
            "bin_end": 4234,
            "count": 347
           }
          ]
         }
        },
        {
         "name": "date",
         "dtype": "object",
         "stats": {
          "unique_count": 377,
          "nan_count": 0,
          "categories": [
           {
            "name": "25/02/2020",
            "count": 319
           },
           {
            "name": "24/02/2020",
            "count": 292
           },
           {
            "name": "375 others",
            "count": 2432
           }
          ]
         }
        },
        {
         "name": "time",
         "dtype": "object",
         "stats": {
          "unique_count": 1867,
          "nan_count": 0,
          "categories": [
           {
            "name": "1",
            "count": 566
           },
           {
            "name": "0",
            "count": 556
           },
           {
            "name": "1865 others",
            "count": 1921
           }
          ]
         }
        },
        {
         "name": "source",
         "dtype": "object",
         "stats": {
          "unique_count": 3,
          "nan_count": 0,
          "categories": [
           {
            "name": "grasp",
            "count": 2970
           },
           {
            "name": "qlue",
            "count": 43
           },
           {
            "name": "detik",
            "count": 30
           }
          ]
         }
        },
        {
         "name": "status",
         "dtype": "object",
         "stats": {
          "unique_count": 1,
          "nan_count": 0,
          "categories": [
           {
            "name": "confirmed",
            "count": 3043
           }
          ]
         }
        },
        {
         "name": "disaster_type",
         "dtype": "object",
         "stats": {
          "unique_count": 6,
          "nan_count": 0,
          "categories": [
           {
            "name": "flood",
            "count": 2847
           },
           {
            "name": "earthquake",
            "count": 109
           },
           {
            "name": "4 others",
            "count": 87
           }
          ]
         }
        },
        {
         "name": "report_dat",
         "dtype": "object",
         "stats": {
          "unique_count": 539,
          "nan_count": 0,
          "categories": [
           {
            "name": "{ \"report_type\": \"flood\", \"flood_depth\": 44 }",
            "count": 171
           },
           {
            "name": "{ \"report_type\": \"flood\", \"flood_depth\": 50 }",
            "count": 116
           },
           {
            "name": "537 others",
            "count": 2756
           }
          ]
         }
        },
        {
         "name": "text",
         "dtype": "object",
         "stats": {
          "unique_count": 2918,
          "nan_count": 0,
          "categories": [
           {
            "name": "Banjir",
            "count": 55
           },
           {
            "name": "banjir",
            "count": 14
           },
           {
            "name": "2916 others",
            "count": 2974
           }
          ]
         }
        },
        {
         "name": "Desa",
         "dtype": "object",
         "stats": {
          "unique_count": 1090,
          "nan_count": 0,
          "categories": [
           {
            "name": "Duri Kepa",
            "count": 56
           },
           {
            "name": "Rawa Buaya",
            "count": 46
           },
           {
            "name": "1088 others",
            "count": 2941
           }
          ]
         }
        },
        {
         "name": "Kecamatan",
         "dtype": "object",
         "stats": {
          "unique_count": 608,
          "nan_count": 0,
          "categories": [
           {
            "name": "Kelapa Gading",
            "count": 108
           },
           {
            "name": "Cakung",
            "count": 93
           },
           {
            "name": "606 others",
            "count": 2842
           }
          ]
         }
        },
        {
         "name": "Kabupaten",
         "dtype": "object",
         "stats": {
          "unique_count": 205,
          "nan_count": 0,
          "categories": [
           {
            "name": "Jakarta Timur",
            "count": 404
           },
           {
            "name": "Bekasi",
            "count": 382
           },
           {
            "name": "203 others",
            "count": 2257
           }
          ]
         }
        },
        {
         "name": "Provinsi",
         "dtype": "object",
         "stats": {
          "unique_count": 34,
          "nan_count": 0,
          "categories": [
           {
            "name": "Daerah Khusus Ibukota Jakarta",
            "count": 1457
           },
           {
            "name": "Jawa Barat",
            "count": 584
           },
           {
            "name": "32 others",
            "count": 1002
           }
          ]
         }
        },
        {
         "name": "long",
         "dtype": "float64",
         "stats": {
          "unique_count": 2881,
          "nan_count": 0,
          "min": "95.31473",
          "max": "136.37668",
          "histogram": [
           {
            "bin_start": 95.31473,
            "bin_end": 99.420925,
            "count": 38
           },
           {
            "bin_start": 99.420925,
            "bin_end": 103.52712,
            "count": 28
           },
           {
            "bin_start": 103.52712,
            "bin_end": 107.633315,
            "count": 2164
           },
           {
            "bin_start": 107.633315,
            "bin_end": 111.73951,
            "count": 263
           },
           {
            "bin_start": 111.73951,
            "bin_end": 115.845705,
            "count": 367
           },
           {
            "bin_start": 115.845705,
            "bin_end": 119.9519,
            "count": 111
           },
           {
            "bin_start": 119.9519,
            "bin_end": 124.058095,
            "count": 52
           },
           {
            "bin_start": 124.058095,
            "bin_end": 128.16429,
            "count": 9
           },
           {
            "bin_start": 128.16429,
            "bin_end": 132.270485,
            "count": 6
           },
           {
            "bin_start": 132.270485,
            "bin_end": 136.37668,
            "count": 5
           }
          ]
         }
        },
        {
         "name": "lat",
         "dtype": "float64",
         "stats": {
          "unique_count": 2838,
          "nan_count": 0,
          "min": "-10.20517",
          "max": "5.883711",
          "histogram": [
           {
            "bin_start": -10.20517,
            "bin_end": -8.596281900000001,
            "count": 24
           },
           {
            "bin_start": -8.596281900000001,
            "bin_end": -6.9873938,
            "count": 304
           },
           {
            "bin_start": -6.9873938,
            "bin_end": -5.3785057,
            "count": 2285
           },
           {
            "bin_start": -5.3785057,
            "bin_end": -3.7696176,
            "count": 34
           },
           {
            "bin_start": -3.7696176,
            "bin_end": -2.1607295000000004,
            "count": 186
           },
           {
            "bin_start": -2.1607295000000004,
            "bin_end": -0.5518413999999989,
            "count": 55
           },
           {
            "bin_start": -0.5518413999999989,
            "bin_end": 1.0570467000000008,
            "count": 96
           },
           {
            "bin_start": 1.0570467000000008,
            "bin_end": 2.6659348000000005,
            "count": 23
           },
           {
            "bin_start": 2.6659348000000005,
            "bin_end": 4.2748229,
            "count": 20
           },
           {
            "bin_start": 4.2748229,
            "bin_end": 5.883711,
            "count": 16
           }
          ]
         }
        },
        {
         "name": "index.1",
         "dtype": "int64",
         "stats": {
          "unique_count": 3043,
          "nan_count": 0,
          "min": "0",
          "max": "3042",
          "histogram": [
           {
            "bin_start": 0,
            "bin_end": 304.2,
            "count": 305
           },
           {
            "bin_start": 304.2,
            "bin_end": 608.4,
            "count": 304
           },
           {
            "bin_start": 608.4,
            "bin_end": 912.5999999999999,
            "count": 304
           },
           {
            "bin_start": 912.5999999999999,
            "bin_end": 1216.8,
            "count": 304
           },
           {
            "bin_start": 1216.8,
            "bin_end": 1521,
            "count": 304
           },
           {
            "bin_start": 1521,
            "bin_end": 1825.1999999999998,
            "count": 305
           },
           {
            "bin_start": 1825.1999999999998,
            "bin_end": 2129.4,
            "count": 304
           },
           {
            "bin_start": 2129.4,
            "bin_end": 2433.6,
            "count": 304
           },
           {
            "bin_start": 2433.6,
            "bin_end": 2737.7999999999997,
            "count": 304
           },
           {
            "bin_start": 2737.7999999999997,
            "bin_end": 3042,
            "count": 305
           }
          ]
         }
        },
        {
         "name": "report_type",
         "dtype": "object",
         "stats": {
          "unique_count": 7,
          "nan_count": 0,
          "categories": [
           {
            "name": "flood",
            "count": 2847
           },
           {
            "name": "structure",
            "count": 65
           },
           {
            "name": "5 others",
            "count": 131
           }
          ]
         }
        },
        {
         "name": "flood_depth",
         "dtype": "float64",
         "stats": {
          "unique_count": 185,
          "nan_count": 0,
          "min": "0.0",
          "max": "200.0",
          "histogram": [
           {
            "bin_start": 0,
            "bin_end": 20,
            "count": 176
           },
           {
            "bin_start": 20,
            "bin_end": 40,
            "count": 645
           },
           {
            "bin_start": 40,
            "bin_end": 60,
            "count": 1186
           },
           {
            "bin_start": 60,
            "bin_end": 80,
            "count": 390
           },
           {
            "bin_start": 80,
            "bin_end": 100,
            "count": 255
           },
           {
            "bin_start": 100,
            "bin_end": 120,
            "count": 146
           },
           {
            "bin_start": 120,
            "bin_end": 140,
            "count": 92
           },
           {
            "bin_start": 140,
            "bin_end": 160,
            "count": 59
           },
           {
            "bin_start": 160,
            "bin_end": 180,
            "count": 20
           },
           {
            "bin_start": 180,
            "bin_end": 200,
            "count": 74
           }
          ]
         }
        },
        {
         "name": "_deepnote_index_column",
         "dtype": "int64"
        }
       ],
       "rows": [
        {
         "index": 0,
         "date": "01/01/2020",
         "time": "00:03:02",
         "source": "grasp",
         "status": "confirmed",
         "disaster_type": "flood",
         "report_dat": "{ \"report_type\": \"flood\", \"flood_depth\": 30 }",
         "text": "Banjir di daerah taman ratu dan sekitarnya. Paling parah dari tahun2 sebelumnya",
         "Desa": "Duri Kepa",
         "Kecamatan": "Kebon Jeruk",
         "Kabupaten": "Jakarta Barat",
         "Provinsi": "Daerah Khusus Ibukota Jakarta",
         "long": 106.76866,
         "lat": -6.16978,
         "index.1": 0,
         "report_type": "flood",
         "flood_depth": 30,
         "_deepnote_index_column": 0
        },
        {
         "index": 1,
         "date": "01/01/2020",
         "time": "00:43:02",
         "source": "grasp",
         "status": "confirmed",
         "disaster_type": "flood",
         "report_dat": "{ \"points\": 1, \"flood_depth\": 80, \"report_type\": \"flood\" }",
         "text": "Jl. Kemuning Indah\nKota Harapan Indah.\nBekasi",
         "Desa": "Pejuang",
         "Kecamatan": "Medan Satria",
         "Kabupaten": "Bekasi",
         "Provinsi": "Jawa Barat",
         "long": 106.9787,
         "lat": -6.17944,
         "index.1": 1,
         "report_type": "flood",
         "flood_depth": 80,
         "_deepnote_index_column": 1
        },
        {
         "index": 2,
         "date": "01/01/2020",
         "time": "01:14:53",
         "source": "grasp",
         "status": "confirmed",
         "disaster_type": "flood",
         "report_dat": "{ \"points\": 1, \"flood_depth\": 51, \"report_type\": \"flood\" }",
         "text": "Banjir selutut orang dewasa di jalan ros merah 2 cipinang indah",
         "Desa": "Cipinang Muara",
         "Kecamatan": "Jatinegara",
         "Kabupaten": "Jakarta Timur",
         "Provinsi": "Daerah Khusus Ibukota Jakarta",
         "long": 106.891,
         "lat": -6.23449,
         "index.1": 2,
         "report_type": "flood",
         "flood_depth": 51,
         "_deepnote_index_column": 2
        },
        {
         "index": 3,
         "date": "01/01/2020",
         "time": "01:15:08",
         "source": "grasp",
         "status": "confirmed",
         "disaster_type": "flood",
         "report_dat": "{ \"points\": 2, \"flood_depth\": 100, \"report_type\": \"flood\" }",
         "text": "Banjir di daerah kedasih dan sekitarnya, karena hujan dari semalam belum berhenti, sudah memasuki rumah dari jam 7 pagi tadi",
         "Desa": "Mekarmukti",
         "Kecamatan": "Cikarang Utara",
         "Kabupaten": "Bekasi",
         "Provinsi": "Jawa Barat",
         "long": 107.16189,
         "lat": -6.3017,
         "index.1": 3,
         "report_type": "flood",
         "flood_depth": 100,
         "_deepnote_index_column": 3
        },
        {
         "index": 5,
         "date": "01/01/2020",
         "time": "01:25:02",
         "source": "grasp",
         "status": "confirmed",
         "disaster_type": "flood",
         "report_dat": "{ \"report_type\": \"flood\", \"flood_depth\": 60 }",
         "text": "Banjir area komplek Meruya Ilir sejak jam 5 naik terus. Listri hingga kini belum dipadamkan.",
         "Desa": "Meruya Utara",
         "Kecamatan": "Kembangan",
         "Kabupaten": "Jakarta Barat",
         "Provinsi": "Daerah Khusus Ibukota Jakarta",
         "long": 106.73835,
         "lat": -6.19933,
         "index.1": 4,
         "report_type": "flood",
         "flood_depth": 60,
         "_deepnote_index_column": 4
        },
        {
         "index": 6,
         "date": "01/01/2020",
         "time": "01:33:59",
         "source": "grasp",
         "status": "confirmed",
         "disaster_type": "flood",
         "report_dat": "{ \"report_type\": \"flood\", \"flood_depth\": 39 }",
         "text": "Di perumahan boulevard hijau jalan raya setinggi 40-60 cm\nPerumahan 20-40 cm",
         "Desa": "Pejuang",
         "Kecamatan": "Medan Satria",
         "Kabupaten": "Bekasi",
         "Provinsi": "Jawa Barat",
         "long": 106.98668,
         "lat": -6.18996,
         "index.1": 5,
         "report_type": "flood",
         "flood_depth": 39,
         "_deepnote_index_column": 5
        },
        {
         "index": 8,
         "date": "01/01/2020",
         "time": "02:05:36",
         "source": "grasp",
         "status": "confirmed",
         "disaster_type": "flood",
         "report_dat": "{ \"report_type\": \"flood\", \"flood_depth\": 79 }",
         "text": "Tinggi Genangan Air 60 ~ 70 Cm",
         "Desa": "Duri Kosambi",
         "Kecamatan": "Cengkareng",
         "Kabupaten": "Jakarta Barat",
         "Provinsi": "Daerah Khusus Ibukota Jakarta",
         "long": 106.72181,
         "lat": -6.16777,
         "index.1": 6,
         "report_type": "flood",
         "flood_depth": 79,
         "_deepnote_index_column": 6
        },
        {
         "index": 10,
         "date": "01/01/2020",
         "time": "02:11:42",
         "source": "grasp",
         "status": "confirmed",
         "disaster_type": "flood",
         "report_dat": "{ \"report_type\": \"flood\", \"flood_depth\": 116 }",
         "text": "Kondisi saat ini di jalan pesing koneng RW 08 seluruh RT",
         "Desa": "Kedoya Utara",
         "Kecamatan": "Kebon Jeruk",
         "Kabupaten": "Jakarta Barat",
         "Provinsi": "Daerah Khusus Ibukota Jakarta",
         "long": 106.76476,
         "lat": -6.16204,
         "index.1": 7,
         "report_type": "flood",
         "flood_depth": 116,
         "_deepnote_index_column": 7
        },
        {
         "index": 11,
         "date": "01/01/2020",
         "time": "02:20:56",
         "source": "grasp",
         "status": "confirmed",
         "disaster_type": "flood",
         "report_dat": "{ \"report_type\": \"flood\", \"flood_depth\": 60 }",
         "text": "Banjir, om. What should I say more?",
         "Desa": "Duren Jaya",
         "Kecamatan": "Bekasi Timur",
         "Kabupaten": "Bekasi",
         "Provinsi": "Jawa Barat",
         "long": 107.02225,
         "lat": -6.23895,
         "index.1": 8,
         "report_type": "flood",
         "flood_depth": 60,
         "_deepnote_index_column": 8
        },
        {
         "index": 12,
         "date": "01/01/2020",
         "time": "02:13:40",
         "source": "detik",
         "status": "confirmed",
         "disaster_type": "flood",
         "report_dat": "{ \"points\": 1 }",
         "text": "Begini kondisi Jl.HR Rasuna Said Depan Halte Transjakarta Setia Budi Selatan,akses jalan tak dapat dilalui oleh kendaraan pkl 09:15",
         "Desa": "Setia Budi",
         "Kecamatan": "Setia Budi",
         "Kabupaten": "Jakarta Selatan",
         "Provinsi": "Daerah Khusus Ibukota Jakarta",
         "long": 106.82927,
         "lat": -6.2084,
         "index.1": 9,
         "report_type": "flood",
         "flood_depth": 50,
         "_deepnote_index_column": 9
        }
       ]
      },
      "text/plain": "      index        date      time source     status disaster_type  \\\n0         0  01/01/2020  00:03:02  grasp  confirmed         flood   \n1         1  01/01/2020  00:43:02  grasp  confirmed         flood   \n2         2  01/01/2020  01:14:53  grasp  confirmed         flood   \n3         3  01/01/2020  01:15:08  grasp  confirmed         flood   \n4         5  01/01/2020  01:25:02  grasp  confirmed         flood   \n...     ...         ...       ...    ...        ...           ...   \n3038   4229  28/12/2021  00:18:56  grasp  confirmed         flood   \n3039   4230  28/12/2021  01:23:43  grasp  confirmed         flood   \n3040   4231  28/12/2021  08:00:14  grasp  confirmed         flood   \n3041   4232  28/12/2021  10:49:49  grasp  confirmed         flood   \n3042   4234  30/12/2021  09:32:42  grasp  confirmed         flood   \n\n                                             report_dat  \\\n0         { \"report_type\": \"flood\", \"flood_depth\": 30 }   \n1     { \"points\": 1, \"flood_depth\": 80, \"report_type...   \n2     { \"points\": 1, \"flood_depth\": 51, \"report_type...   \n3     { \"points\": 2, \"flood_depth\": 100, \"report_typ...   \n4         { \"report_type\": \"flood\", \"flood_depth\": 60 }   \n...                                                 ...   \n3038  { \"points\": 1, \"flood_depth\": 68, \"report_type...   \n3039     { \"report_type\": \"flood\", \"flood_depth\": 103 }   \n3040      { \"report_type\": \"flood\", \"flood_depth\": 54 }   \n3041      { \"report_type\": \"flood\", \"flood_depth\": 19 }   \n3042      { \"report_type\": \"flood\", \"flood_depth\": 22 }   \n\n                                                   text            Desa  \\\n0     Banjir di daerah taman ratu dan sekitarnya. Pa...       Duri Kepa   \n1       Jl. Kemuning Indah\\nKota Harapan Indah.\\nBekasi         Pejuang   \n2     Banjir selutut orang dewasa di jalan ros merah...  Cipinang Muara   \n3     Banjir di daerah kedasih dan sekitarnya, karen...      Mekarmukti   \n4     Banjir area komplek Meruya Ilir sejak jam 5 na...    Meruya Utara   \n...                                                 ...             ...   \n3038  Laporan awal. Air sungai meluap akibat curah h...  Karangan Hilir   \n3039  Luapan air sungai Karangan masuk ke pemukiman ...  Karangan Hilir   \n3040                                banjir lah pokoknya    Karang Anyar   \n3041  saluran irigasi yg di kelola desa dengan buruk...       Purwajaya   \n3042  banjir akibat hujan dan banyak nya sampah memb...    Banjar Anyar   \n\n           Kecamatan      Kabupaten                       Provinsi  \\\n0        Kebon Jeruk  Jakarta Barat  Daerah Khusus Ibukota Jakarta   \n1       Medan Satria         Bekasi                     Jawa Barat   \n2         Jatinegara  Jakarta Timur  Daerah Khusus Ibukota Jakarta   \n3     Cikarang Utara         Bekasi                     Jawa Barat   \n4          Kembangan  Jakarta Barat  Daerah Khusus Ibukota Jakarta   \n...              ...            ...                            ...   \n3038        Karangan    Kutai Timur               Kalimantan Timur   \n3039        Karangan    Kutai Timur               Kalimantan Timur   \n3040     Sawah Besar  Jakarta Pusat  Daerah Khusus Ibukota Jakarta   \n3041       Purwadadi         Ciamis                     Jawa Barat   \n3042          Kediri        Tabanan                           Bali   \n\n            long       lat  index report_type  flood_depth  \n0     106.768660 -6.169780      0       flood         30.0  \n1     106.978700 -6.179440      1       flood         80.0  \n2     106.891000 -6.234490      2       flood         51.0  \n3     107.161890 -6.301700      3       flood        100.0  \n4     106.738350 -6.199330      4       flood         60.0  \n...          ...       ...    ...         ...          ...  \n3038  117.655871  1.343771   3038       flood         68.0  \n3039  117.665504  1.351043   3039       flood        103.0  \n3040  106.827622 -6.157398   3040       flood         54.0  \n3041  108.695570 -7.460077   3041       flood         19.0  \n3042  115.142300 -8.554095   3042       flood         22.0  \n\n[3043 rows x 17 columns]",
      "text/html": "<div>\n<style scoped>\n    .dataframe tbody tr th:only-of-type {\n        vertical-align: middle;\n    }\n\n    .dataframe tbody tr th {\n        vertical-align: top;\n    }\n\n    .dataframe thead th {\n        text-align: right;\n    }\n</style>\n<table border=\"1\" class=\"dataframe\">\n  <thead>\n    <tr style=\"text-align: right;\">\n      <th></th>\n      <th>index</th>\n      <th>date</th>\n      <th>time</th>\n      <th>source</th>\n      <th>status</th>\n      <th>disaster_type</th>\n      <th>report_dat</th>\n      <th>text</th>\n      <th>Desa</th>\n      <th>Kecamatan</th>\n      <th>Kabupaten</th>\n      <th>Provinsi</th>\n      <th>long</th>\n      <th>lat</th>\n      <th>index</th>\n      <th>report_type</th>\n      <th>flood_depth</th>\n    </tr>\n  </thead>\n  <tbody>\n    <tr>\n      <th>0</th>\n      <td>0</td>\n      <td>01/01/2020</td>\n      <td>00:03:02</td>\n      <td>grasp</td>\n      <td>confirmed</td>\n      <td>flood</td>\n      <td>{ \"report_type\": \"flood\", \"flood_depth\": 30 }</td>\n      <td>Banjir di daerah taman ratu dan sekitarnya. Pa...</td>\n      <td>Duri Kepa</td>\n      <td>Kebon Jeruk</td>\n      <td>Jakarta Barat</td>\n      <td>Daerah Khusus Ibukota Jakarta</td>\n      <td>106.768660</td>\n      <td>-6.169780</td>\n      <td>0</td>\n      <td>flood</td>\n      <td>30.0</td>\n    </tr>\n    <tr>\n      <th>1</th>\n      <td>1</td>\n      <td>01/01/2020</td>\n      <td>00:43:02</td>\n      <td>grasp</td>\n      <td>confirmed</td>\n      <td>flood</td>\n      <td>{ \"points\": 1, \"flood_depth\": 80, \"report_type...</td>\n      <td>Jl. Kemuning Indah\\nKota Harapan Indah.\\nBekasi</td>\n      <td>Pejuang</td>\n      <td>Medan Satria</td>\n      <td>Bekasi</td>\n      <td>Jawa Barat</td>\n      <td>106.978700</td>\n      <td>-6.179440</td>\n      <td>1</td>\n      <td>flood</td>\n      <td>80.0</td>\n    </tr>\n    <tr>\n      <th>2</th>\n      <td>2</td>\n      <td>01/01/2020</td>\n      <td>01:14:53</td>\n      <td>grasp</td>\n      <td>confirmed</td>\n      <td>flood</td>\n      <td>{ \"points\": 1, \"flood_depth\": 51, \"report_type...</td>\n      <td>Banjir selutut orang dewasa di jalan ros merah...</td>\n      <td>Cipinang Muara</td>\n      <td>Jatinegara</td>\n      <td>Jakarta Timur</td>\n      <td>Daerah Khusus Ibukota Jakarta</td>\n      <td>106.891000</td>\n      <td>-6.234490</td>\n      <td>2</td>\n      <td>flood</td>\n      <td>51.0</td>\n    </tr>\n    <tr>\n      <th>3</th>\n      <td>3</td>\n      <td>01/01/2020</td>\n      <td>01:15:08</td>\n      <td>grasp</td>\n      <td>confirmed</td>\n      <td>flood</td>\n      <td>{ \"points\": 2, \"flood_depth\": 100, \"report_typ...</td>\n      <td>Banjir di daerah kedasih dan sekitarnya, karen...</td>\n      <td>Mekarmukti</td>\n      <td>Cikarang Utara</td>\n      <td>Bekasi</td>\n      <td>Jawa Barat</td>\n      <td>107.161890</td>\n      <td>-6.301700</td>\n      <td>3</td>\n      <td>flood</td>\n      <td>100.0</td>\n    </tr>\n    <tr>\n      <th>4</th>\n      <td>5</td>\n      <td>01/01/2020</td>\n      <td>01:25:02</td>\n      <td>grasp</td>\n      <td>confirmed</td>\n      <td>flood</td>\n      <td>{ \"report_type\": \"flood\", \"flood_depth\": 60 }</td>\n      <td>Banjir area komplek Meruya Ilir sejak jam 5 na...</td>\n      <td>Meruya Utara</td>\n      <td>Kembangan</td>\n      <td>Jakarta Barat</td>\n      <td>Daerah Khusus Ibukota Jakarta</td>\n      <td>106.738350</td>\n      <td>-6.199330</td>\n      <td>4</td>\n      <td>flood</td>\n      <td>60.0</td>\n    </tr>\n    <tr>\n      <th>...</th>\n      <td>...</td>\n      <td>...</td>\n      <td>...</td>\n      <td>...</td>\n      <td>...</td>\n      <td>...</td>\n      <td>...</td>\n      <td>...</td>\n      <td>...</td>\n      <td>...</td>\n      <td>...</td>\n      <td>...</td>\n      <td>...</td>\n      <td>...</td>\n      <td>...</td>\n      <td>...</td>\n      <td>...</td>\n    </tr>\n    <tr>\n      <th>3038</th>\n      <td>4229</td>\n      <td>28/12/2021</td>\n      <td>00:18:56</td>\n      <td>grasp</td>\n      <td>confirmed</td>\n      <td>flood</td>\n      <td>{ \"points\": 1, \"flood_depth\": 68, \"report_type...</td>\n      <td>Laporan awal. Air sungai meluap akibat curah h...</td>\n      <td>Karangan Hilir</td>\n      <td>Karangan</td>\n      <td>Kutai Timur</td>\n      <td>Kalimantan Timur</td>\n      <td>117.655871</td>\n      <td>1.343771</td>\n      <td>3038</td>\n      <td>flood</td>\n      <td>68.0</td>\n    </tr>\n    <tr>\n      <th>3039</th>\n      <td>4230</td>\n      <td>28/12/2021</td>\n      <td>01:23:43</td>\n      <td>grasp</td>\n      <td>confirmed</td>\n      <td>flood</td>\n      <td>{ \"report_type\": \"flood\", \"flood_depth\": 103 }</td>\n      <td>Luapan air sungai Karangan masuk ke pemukiman ...</td>\n      <td>Karangan Hilir</td>\n      <td>Karangan</td>\n      <td>Kutai Timur</td>\n      <td>Kalimantan Timur</td>\n      <td>117.665504</td>\n      <td>1.351043</td>\n      <td>3039</td>\n      <td>flood</td>\n      <td>103.0</td>\n    </tr>\n    <tr>\n      <th>3040</th>\n      <td>4231</td>\n      <td>28/12/2021</td>\n      <td>08:00:14</td>\n      <td>grasp</td>\n      <td>confirmed</td>\n      <td>flood</td>\n      <td>{ \"report_type\": \"flood\", \"flood_depth\": 54 }</td>\n      <td>banjir lah pokoknya</td>\n      <td>Karang Anyar</td>\n      <td>Sawah Besar</td>\n      <td>Jakarta Pusat</td>\n      <td>Daerah Khusus Ibukota Jakarta</td>\n      <td>106.827622</td>\n      <td>-6.157398</td>\n      <td>3040</td>\n      <td>flood</td>\n      <td>54.0</td>\n    </tr>\n    <tr>\n      <th>3041</th>\n      <td>4232</td>\n      <td>28/12/2021</td>\n      <td>10:49:49</td>\n      <td>grasp</td>\n      <td>confirmed</td>\n      <td>flood</td>\n      <td>{ \"report_type\": \"flood\", \"flood_depth\": 19 }</td>\n      <td>saluran irigasi yg di kelola desa dengan buruk...</td>\n      <td>Purwajaya</td>\n      <td>Purwadadi</td>\n      <td>Ciamis</td>\n      <td>Jawa Barat</td>\n      <td>108.695570</td>\n      <td>-7.460077</td>\n      <td>3041</td>\n      <td>flood</td>\n      <td>19.0</td>\n    </tr>\n    <tr>\n      <th>3042</th>\n      <td>4234</td>\n      <td>30/12/2021</td>\n      <td>09:32:42</td>\n      <td>grasp</td>\n      <td>confirmed</td>\n      <td>flood</td>\n      <td>{ \"report_type\": \"flood\", \"flood_depth\": 22 }</td>\n      <td>banjir akibat hujan dan banyak nya sampah memb...</td>\n      <td>Banjar Anyar</td>\n      <td>Kediri</td>\n      <td>Tabanan</td>\n      <td>Bali</td>\n      <td>115.142300</td>\n      <td>-8.554095</td>\n      <td>3042</td>\n      <td>flood</td>\n      <td>22.0</td>\n    </tr>\n  </tbody>\n</table>\n<p>3043 rows × 17 columns</p>\n</div>"
     },
     "metadata": {}
    }
   ]
  },
  {
   "cell_type": "code",
   "metadata": {
    "cell_id": "ef6c1c66795a41699625cfd8409626a2",
    "tags": [],
    "deepnote_to_be_reexecuted": false,
    "source_hash": "a3b31c3b",
    "execution_start": 1661007847426,
    "execution_millis": 119,
    "deepnote_cell_type": "code",
    "deepnote_cell_height": 442.65625
   },
   "source": "# hapus report_dat karena file jsonnya sudah diekstrak menjadi kolom baru\ndf = df.drop(columns=['report_dat']);\ndf.head()",
   "execution_count": null,
   "outputs": [
    {
     "output_type": "execute_result",
     "execution_count": 37,
     "data": {
      "application/vnd.deepnote.dataframe.v3+json": {
       "column_count": 16,
       "row_count": 5,
       "columns": [
        {
         "name": "index",
         "dtype": "int64",
         "stats": {
          "unique_count": 5,
          "nan_count": 0,
          "min": "0",
          "max": "5",
          "histogram": [
           {
            "bin_start": 0,
            "bin_end": 0.5,
            "count": 1
           },
           {
            "bin_start": 0.5,
            "bin_end": 1,
            "count": 0
           },
           {
            "bin_start": 1,
            "bin_end": 1.5,
            "count": 1
           },
           {
            "bin_start": 1.5,
            "bin_end": 2,
            "count": 0
           },
           {
            "bin_start": 2,
            "bin_end": 2.5,
            "count": 1
           },
           {
            "bin_start": 2.5,
            "bin_end": 3,
            "count": 0
           },
           {
            "bin_start": 3,
            "bin_end": 3.5,
            "count": 1
           },
           {
            "bin_start": 3.5,
            "bin_end": 4,
            "count": 0
           },
           {
            "bin_start": 4,
            "bin_end": 4.5,
            "count": 0
           },
           {
            "bin_start": 4.5,
            "bin_end": 5,
            "count": 1
           }
          ]
         }
        },
        {
         "name": "date",
         "dtype": "object",
         "stats": {
          "unique_count": 1,
          "nan_count": 0,
          "categories": [
           {
            "name": "01/01/2020",
            "count": 5
           }
          ]
         }
        },
        {
         "name": "time",
         "dtype": "object",
         "stats": {
          "unique_count": 5,
          "nan_count": 0,
          "categories": [
           {
            "name": "00:03:02",
            "count": 1
           },
           {
            "name": "00:43:02",
            "count": 1
           },
           {
            "name": "3 others",
            "count": 3
           }
          ]
         }
        },
        {
         "name": "source",
         "dtype": "object",
         "stats": {
          "unique_count": 1,
          "nan_count": 0,
          "categories": [
           {
            "name": "grasp",
            "count": 5
           }
          ]
         }
        },
        {
         "name": "status",
         "dtype": "object",
         "stats": {
          "unique_count": 1,
          "nan_count": 0,
          "categories": [
           {
            "name": "confirmed",
            "count": 5
           }
          ]
         }
        },
        {
         "name": "disaster_type",
         "dtype": "object",
         "stats": {
          "unique_count": 1,
          "nan_count": 0,
          "categories": [
           {
            "name": "flood",
            "count": 5
           }
          ]
         }
        },
        {
         "name": "text",
         "dtype": "object",
         "stats": {
          "unique_count": 5,
          "nan_count": 0,
          "categories": [
           {
            "name": "Banjir di daerah taman ratu dan sekitarnya. Paling parah dari tahun2 sebelumnya",
            "count": 1
           },
           {
            "name": "Jl. Kemuning Indah\nKota Harapan Indah.\nBekasi",
            "count": 1
           },
           {
            "name": "3 others",
            "count": 3
           }
          ]
         }
        },
        {
         "name": "Desa",
         "dtype": "object",
         "stats": {
          "unique_count": 5,
          "nan_count": 0,
          "categories": [
           {
            "name": "Duri Kepa",
            "count": 1
           },
           {
            "name": "Pejuang",
            "count": 1
           },
           {
            "name": "3 others",
            "count": 3
           }
          ]
         }
        },
        {
         "name": "Kecamatan",
         "dtype": "object",
         "stats": {
          "unique_count": 5,
          "nan_count": 0,
          "categories": [
           {
            "name": "Kebon Jeruk",
            "count": 1
           },
           {
            "name": "Medan Satria",
            "count": 1
           },
           {
            "name": "3 others",
            "count": 3
           }
          ]
         }
        },
        {
         "name": "Kabupaten",
         "dtype": "object",
         "stats": {
          "unique_count": 3,
          "nan_count": 0,
          "categories": [
           {
            "name": "Jakarta Barat",
            "count": 2
           },
           {
            "name": "Bekasi",
            "count": 2
           },
           {
            "name": "Jakarta Timur",
            "count": 1
           }
          ]
         }
        },
        {
         "name": "Provinsi",
         "dtype": "object",
         "stats": {
          "unique_count": 2,
          "nan_count": 0,
          "categories": [
           {
            "name": "Daerah Khusus Ibukota Jakarta",
            "count": 3
           },
           {
            "name": "Jawa Barat",
            "count": 2
           }
          ]
         }
        },
        {
         "name": "long",
         "dtype": "float64",
         "stats": {
          "unique_count": 5,
          "nan_count": 0,
          "min": "106.73835",
          "max": "107.16189",
          "histogram": [
           {
            "bin_start": 106.73835,
            "bin_end": 106.780704,
            "count": 2
           },
           {
            "bin_start": 106.780704,
            "bin_end": 106.823058,
            "count": 0
           },
           {
            "bin_start": 106.823058,
            "bin_end": 106.86541199999999,
            "count": 0
           },
           {
            "bin_start": 106.86541199999999,
            "bin_end": 106.907766,
            "count": 1
           },
           {
            "bin_start": 106.907766,
            "bin_end": 106.95012,
            "count": 0
           },
           {
            "bin_start": 106.95012,
            "bin_end": 106.992474,
            "count": 1
           },
           {
            "bin_start": 106.992474,
            "bin_end": 107.034828,
            "count": 0
           },
           {
            "bin_start": 107.034828,
            "bin_end": 107.077182,
            "count": 0
           },
           {
            "bin_start": 107.077182,
            "bin_end": 107.119536,
            "count": 0
           },
           {
            "bin_start": 107.119536,
            "bin_end": 107.16189,
            "count": 1
           }
          ]
         }
        },
        {
         "name": "lat",
         "dtype": "float64",
         "stats": {
          "unique_count": 5,
          "nan_count": 0,
          "min": "-6.3017",
          "max": "-6.16978",
          "histogram": [
           {
            "bin_start": -6.3017,
            "bin_end": -6.288508,
            "count": 1
           },
           {
            "bin_start": -6.288508,
            "bin_end": -6.275316,
            "count": 0
           },
           {
            "bin_start": -6.275316,
            "bin_end": -6.262124,
            "count": 0
           },
           {
            "bin_start": -6.262124,
            "bin_end": -6.248932,
            "count": 0
           },
           {
            "bin_start": -6.248932,
            "bin_end": -6.23574,
            "count": 0
           },
           {
            "bin_start": -6.23574,
            "bin_end": -6.222548000000001,
            "count": 1
           },
           {
            "bin_start": -6.222548000000001,
            "bin_end": -6.2093560000000005,
            "count": 0
           },
           {
            "bin_start": -6.2093560000000005,
            "bin_end": -6.1961640000000004,
            "count": 1
           },
           {
            "bin_start": -6.1961640000000004,
            "bin_end": -6.182972,
            "count": 0
           },
           {
            "bin_start": -6.182972,
            "bin_end": -6.16978,
            "count": 2
           }
          ]
         }
        },
        {
         "name": "index.1",
         "dtype": "int64",
         "stats": {
          "unique_count": 5,
          "nan_count": 0,
          "min": "0",
          "max": "4",
          "histogram": [
           {
            "bin_start": 0,
            "bin_end": 0.4,
            "count": 1
           },
           {
            "bin_start": 0.4,
            "bin_end": 0.8,
            "count": 0
           },
           {
            "bin_start": 0.8,
            "bin_end": 1.2000000000000002,
            "count": 1
           },
           {
            "bin_start": 1.2000000000000002,
            "bin_end": 1.6,
            "count": 0
           },
           {
            "bin_start": 1.6,
            "bin_end": 2,
            "count": 0
           },
           {
            "bin_start": 2,
            "bin_end": 2.4000000000000004,
            "count": 1
           },
           {
            "bin_start": 2.4000000000000004,
            "bin_end": 2.8000000000000003,
            "count": 0
           },
           {
            "bin_start": 2.8000000000000003,
            "bin_end": 3.2,
            "count": 1
           },
           {
            "bin_start": 3.2,
            "bin_end": 3.6,
            "count": 0
           },
           {
            "bin_start": 3.6,
            "bin_end": 4,
            "count": 1
           }
          ]
         }
        },
        {
         "name": "report_type",
         "dtype": "object",
         "stats": {
          "unique_count": 1,
          "nan_count": 0,
          "categories": [
           {
            "name": "flood",
            "count": 5
           }
          ]
         }
        },
        {
         "name": "flood_depth",
         "dtype": "float64",
         "stats": {
          "unique_count": 5,
          "nan_count": 0,
          "min": "30.0",
          "max": "100.0",
          "histogram": [
           {
            "bin_start": 30,
            "bin_end": 37,
            "count": 1
           },
           {
            "bin_start": 37,
            "bin_end": 44,
            "count": 0
           },
           {
            "bin_start": 44,
            "bin_end": 51,
            "count": 0
           },
           {
            "bin_start": 51,
            "bin_end": 58,
            "count": 1
           },
           {
            "bin_start": 58,
            "bin_end": 65,
            "count": 1
           },
           {
            "bin_start": 65,
            "bin_end": 72,
            "count": 0
           },
           {
            "bin_start": 72,
            "bin_end": 79,
            "count": 0
           },
           {
            "bin_start": 79,
            "bin_end": 86,
            "count": 1
           },
           {
            "bin_start": 86,
            "bin_end": 93,
            "count": 0
           },
           {
            "bin_start": 93,
            "bin_end": 100,
            "count": 1
           }
          ]
         }
        },
        {
         "name": "_deepnote_index_column",
         "dtype": "int64"
        }
       ],
       "rows": [
        {
         "index": 0,
         "date": "01/01/2020",
         "time": "00:03:02",
         "source": "grasp",
         "status": "confirmed",
         "disaster_type": "flood",
         "text": "Banjir di daerah taman ratu dan sekitarnya. Paling parah dari tahun2 sebelumnya",
         "Desa": "Duri Kepa",
         "Kecamatan": "Kebon Jeruk",
         "Kabupaten": "Jakarta Barat",
         "Provinsi": "Daerah Khusus Ibukota Jakarta",
         "long": 106.76866,
         "lat": -6.16978,
         "index.1": 0,
         "report_type": "flood",
         "flood_depth": 30,
         "_deepnote_index_column": 0
        },
        {
         "index": 1,
         "date": "01/01/2020",
         "time": "00:43:02",
         "source": "grasp",
         "status": "confirmed",
         "disaster_type": "flood",
         "text": "Jl. Kemuning Indah\nKota Harapan Indah.\nBekasi",
         "Desa": "Pejuang",
         "Kecamatan": "Medan Satria",
         "Kabupaten": "Bekasi",
         "Provinsi": "Jawa Barat",
         "long": 106.9787,
         "lat": -6.17944,
         "index.1": 1,
         "report_type": "flood",
         "flood_depth": 80,
         "_deepnote_index_column": 1
        },
        {
         "index": 2,
         "date": "01/01/2020",
         "time": "01:14:53",
         "source": "grasp",
         "status": "confirmed",
         "disaster_type": "flood",
         "text": "Banjir selutut orang dewasa di jalan ros merah 2 cipinang indah",
         "Desa": "Cipinang Muara",
         "Kecamatan": "Jatinegara",
         "Kabupaten": "Jakarta Timur",
         "Provinsi": "Daerah Khusus Ibukota Jakarta",
         "long": 106.891,
         "lat": -6.23449,
         "index.1": 2,
         "report_type": "flood",
         "flood_depth": 51,
         "_deepnote_index_column": 2
        },
        {
         "index": 3,
         "date": "01/01/2020",
         "time": "01:15:08",
         "source": "grasp",
         "status": "confirmed",
         "disaster_type": "flood",
         "text": "Banjir di daerah kedasih dan sekitarnya, karena hujan dari semalam belum berhenti, sudah memasuki rumah dari jam 7 pagi tadi",
         "Desa": "Mekarmukti",
         "Kecamatan": "Cikarang Utara",
         "Kabupaten": "Bekasi",
         "Provinsi": "Jawa Barat",
         "long": 107.16189,
         "lat": -6.3017,
         "index.1": 3,
         "report_type": "flood",
         "flood_depth": 100,
         "_deepnote_index_column": 3
        },
        {
         "index": 5,
         "date": "01/01/2020",
         "time": "01:25:02",
         "source": "grasp",
         "status": "confirmed",
         "disaster_type": "flood",
         "text": "Banjir area komplek Meruya Ilir sejak jam 5 naik terus. Listri hingga kini belum dipadamkan.",
         "Desa": "Meruya Utara",
         "Kecamatan": "Kembangan",
         "Kabupaten": "Jakarta Barat",
         "Provinsi": "Daerah Khusus Ibukota Jakarta",
         "long": 106.73835,
         "lat": -6.19933,
         "index.1": 4,
         "report_type": "flood",
         "flood_depth": 60,
         "_deepnote_index_column": 4
        }
       ]
      },
      "text/plain": "   index        date      time source     status disaster_type  \\\n0      0  01/01/2020  00:03:02  grasp  confirmed         flood   \n1      1  01/01/2020  00:43:02  grasp  confirmed         flood   \n2      2  01/01/2020  01:14:53  grasp  confirmed         flood   \n3      3  01/01/2020  01:15:08  grasp  confirmed         flood   \n4      5  01/01/2020  01:25:02  grasp  confirmed         flood   \n\n                                                text            Desa  \\\n0  Banjir di daerah taman ratu dan sekitarnya. Pa...       Duri Kepa   \n1    Jl. Kemuning Indah\\nKota Harapan Indah.\\nBekasi         Pejuang   \n2  Banjir selutut orang dewasa di jalan ros merah...  Cipinang Muara   \n3  Banjir di daerah kedasih dan sekitarnya, karen...      Mekarmukti   \n4  Banjir area komplek Meruya Ilir sejak jam 5 na...    Meruya Utara   \n\n        Kecamatan      Kabupaten                       Provinsi       long  \\\n0     Kebon Jeruk  Jakarta Barat  Daerah Khusus Ibukota Jakarta  106.76866   \n1    Medan Satria         Bekasi                     Jawa Barat  106.97870   \n2      Jatinegara  Jakarta Timur  Daerah Khusus Ibukota Jakarta  106.89100   \n3  Cikarang Utara         Bekasi                     Jawa Barat  107.16189   \n4       Kembangan  Jakarta Barat  Daerah Khusus Ibukota Jakarta  106.73835   \n\n       lat  index report_type  flood_depth  \n0 -6.16978      0       flood         30.0  \n1 -6.17944      1       flood         80.0  \n2 -6.23449      2       flood         51.0  \n3 -6.30170      3       flood        100.0  \n4 -6.19933      4       flood         60.0  ",
      "text/html": "<div>\n<style scoped>\n    .dataframe tbody tr th:only-of-type {\n        vertical-align: middle;\n    }\n\n    .dataframe tbody tr th {\n        vertical-align: top;\n    }\n\n    .dataframe thead th {\n        text-align: right;\n    }\n</style>\n<table border=\"1\" class=\"dataframe\">\n  <thead>\n    <tr style=\"text-align: right;\">\n      <th></th>\n      <th>index</th>\n      <th>date</th>\n      <th>time</th>\n      <th>source</th>\n      <th>status</th>\n      <th>disaster_type</th>\n      <th>text</th>\n      <th>Desa</th>\n      <th>Kecamatan</th>\n      <th>Kabupaten</th>\n      <th>Provinsi</th>\n      <th>long</th>\n      <th>lat</th>\n      <th>index</th>\n      <th>report_type</th>\n      <th>flood_depth</th>\n    </tr>\n  </thead>\n  <tbody>\n    <tr>\n      <th>0</th>\n      <td>0</td>\n      <td>01/01/2020</td>\n      <td>00:03:02</td>\n      <td>grasp</td>\n      <td>confirmed</td>\n      <td>flood</td>\n      <td>Banjir di daerah taman ratu dan sekitarnya. Pa...</td>\n      <td>Duri Kepa</td>\n      <td>Kebon Jeruk</td>\n      <td>Jakarta Barat</td>\n      <td>Daerah Khusus Ibukota Jakarta</td>\n      <td>106.76866</td>\n      <td>-6.16978</td>\n      <td>0</td>\n      <td>flood</td>\n      <td>30.0</td>\n    </tr>\n    <tr>\n      <th>1</th>\n      <td>1</td>\n      <td>01/01/2020</td>\n      <td>00:43:02</td>\n      <td>grasp</td>\n      <td>confirmed</td>\n      <td>flood</td>\n      <td>Jl. Kemuning Indah\\nKota Harapan Indah.\\nBekasi</td>\n      <td>Pejuang</td>\n      <td>Medan Satria</td>\n      <td>Bekasi</td>\n      <td>Jawa Barat</td>\n      <td>106.97870</td>\n      <td>-6.17944</td>\n      <td>1</td>\n      <td>flood</td>\n      <td>80.0</td>\n    </tr>\n    <tr>\n      <th>2</th>\n      <td>2</td>\n      <td>01/01/2020</td>\n      <td>01:14:53</td>\n      <td>grasp</td>\n      <td>confirmed</td>\n      <td>flood</td>\n      <td>Banjir selutut orang dewasa di jalan ros merah...</td>\n      <td>Cipinang Muara</td>\n      <td>Jatinegara</td>\n      <td>Jakarta Timur</td>\n      <td>Daerah Khusus Ibukota Jakarta</td>\n      <td>106.89100</td>\n      <td>-6.23449</td>\n      <td>2</td>\n      <td>flood</td>\n      <td>51.0</td>\n    </tr>\n    <tr>\n      <th>3</th>\n      <td>3</td>\n      <td>01/01/2020</td>\n      <td>01:15:08</td>\n      <td>grasp</td>\n      <td>confirmed</td>\n      <td>flood</td>\n      <td>Banjir di daerah kedasih dan sekitarnya, karen...</td>\n      <td>Mekarmukti</td>\n      <td>Cikarang Utara</td>\n      <td>Bekasi</td>\n      <td>Jawa Barat</td>\n      <td>107.16189</td>\n      <td>-6.30170</td>\n      <td>3</td>\n      <td>flood</td>\n      <td>100.0</td>\n    </tr>\n    <tr>\n      <th>4</th>\n      <td>5</td>\n      <td>01/01/2020</td>\n      <td>01:25:02</td>\n      <td>grasp</td>\n      <td>confirmed</td>\n      <td>flood</td>\n      <td>Banjir area komplek Meruya Ilir sejak jam 5 na...</td>\n      <td>Meruya Utara</td>\n      <td>Kembangan</td>\n      <td>Jakarta Barat</td>\n      <td>Daerah Khusus Ibukota Jakarta</td>\n      <td>106.73835</td>\n      <td>-6.19933</td>\n      <td>4</td>\n      <td>flood</td>\n      <td>60.0</td>\n    </tr>\n  </tbody>\n</table>\n</div>"
     },
     "metadata": {}
    }
   ]
  },
  {
   "cell_type": "code",
   "metadata": {
    "cell_id": "8dd0d55493544ea3be9f248597083158",
    "tags": [],
    "deepnote_to_be_reexecuted": false,
    "source_hash": "14f60b8f",
    "execution_start": 1661007847551,
    "execution_millis": 60,
    "deepnote_cell_type": "code",
    "deepnote_cell_height": 113.1875
   },
   "source": "df.shape",
   "execution_count": null,
   "outputs": [
    {
     "output_type": "execute_result",
     "execution_count": 38,
     "data": {
      "text/plain": "(3043, 16)"
     },
     "metadata": {}
    }
   ]
  },
  {
   "cell_type": "code",
   "metadata": {
    "cell_id": "39693177331a4eba9bc7154cac30c5c6",
    "tags": [],
    "deepnote_to_be_reexecuted": false,
    "source_hash": "de1e323c",
    "execution_start": 1661007847610,
    "execution_millis": 2,
    "deepnote_cell_type": "code",
    "deepnote_cell_height": 543.875
   },
   "source": "df.info()",
   "execution_count": null,
   "outputs": [
    {
     "name": "stdout",
     "text": "<class 'pandas.core.frame.DataFrame'>\nRangeIndex: 3043 entries, 0 to 3042\nData columns (total 16 columns):\n #   Column         Non-Null Count  Dtype  \n---  ------         --------------  -----  \n 0   index          3043 non-null   int64  \n 1   date           3043 non-null   object \n 2   time           3043 non-null   object \n 3   source         3043 non-null   object \n 4   status         3043 non-null   object \n 5   disaster_type  3043 non-null   object \n 6   text           3043 non-null   object \n 7   Desa           3043 non-null   object \n 8   Kecamatan      3043 non-null   object \n 9   Kabupaten      3043 non-null   object \n 10  Provinsi       3043 non-null   object \n 11  long           3043 non-null   float64\n 12  lat            3043 non-null   float64\n 13  index          3043 non-null   int64  \n 14  report_type    3043 non-null   object \n 15  flood_depth    3043 non-null   float64\ndtypes: float64(3), int64(2), object(11)\nmemory usage: 380.5+ KB\n",
     "output_type": "stream"
    }
   ]
  },
  {
   "cell_type": "code",
   "metadata": {
    "cell_id": "a8d0d2a036f041cd837649d484d6be14",
    "tags": [],
    "deepnote_to_be_reexecuted": false,
    "source_hash": "5e800cb2",
    "execution_start": 1661008449436,
    "execution_millis": 5636,
    "deepnote_cell_type": "code",
    "deepnote_cell_height": 472,
    "deepnote_output_heights": [
     182
    ]
   },
   "source": "# TESTING\n\n# Start with one review:\ntext = df['text']\n\n# Create and generate a word cloud image:\n\nwordcloud = WordCloud(stopwords = ['di','yang','dan','ke'],collocations=False,width=1600, height=800).generate(' '.join(df['text'].str.lower()))\n# Display the generated image:\nplt.figure( figsize=(20,15))\nplt.imshow(wordcloud, interpolation='bilinear')\nplt.axis(\"off\")\nplt.show()\n#sizenya besarkan\n#cleaning particle words (di, dan, yang)\n#presentasi mengkaitkan dari words-words yang ada",
   "execution_count": null,
   "outputs": [
    {
     "data": {
      "text/plain": "<Figure size 1440x1080 with 1 Axes>",
      "image/png": "[encoded data removed]"
     },
     "metadata": {
      "needs_background": "light",
      "image/png": {
       "width": 1130,
       "height": 572
      }
     },
     "output_type": "display_data"
    }
   ]
  },
  {
   "cell_type": "code",
   "metadata": {
    "cell_id": "a6ecd1bc483e46dbb46f2179b5ab92f5",
    "tags": [],
    "deepnote_to_be_reexecuted": false,
    "source_hash": "ad4eb3c2",
    "execution_start": 1661007855087,
    "execution_millis": 115655,
    "deepnote_cell_type": "code",
    "deepnote_cell_height": 193.1875
   },
   "source": "#df_time = pd.to_datetime(df['date'],format='%d/%m/%y')\n#df_time.head()\n#df.groupby(by=[b.index.month, b.index.year])\n#df.head()",
   "execution_count": null,
   "outputs": []
  },
  {
   "cell_type": "code",
   "metadata": {
    "colab": {
     "base_uri": "https://localhost:8080/",
     "height": 424
    },
    "id": "8qmPZxs7Jf5x",
    "executionInfo": {
     "status": "ok",
     "timestamp": 1660402920742,
     "user_tz": -420,
     "elapsed": 391,
     "user": {
      "displayName": "Hilmi G Hidayatullah",
      "userId": "16962578157773311425"
     }
    },
    "outputId": "44761421-b056-4503-e72f-32d52721caa5",
    "cell_id": "00027-a1f5e06f-a271-4636-b35a-54623d046fb7",
    "deepnote_to_be_reexecuted": false,
    "source_hash": "1c60f0a5",
    "execution_start": 1661007855088,
    "execution_millis": 15,
    "deepnote_cell_type": "code",
    "deepnote_cell_height": 649
   },
   "source": "# TESTING\n# untuk plotting disaster type berdasarkan tahun dan banyak terjadinya\ndf_time_type = df[['date', 'disaster_type']]\ndf_time_type",
   "execution_count": null,
   "outputs": [
    {
     "output_type": "execute_result",
     "execution_count": 42,
     "data": {
      "application/vnd.deepnote.dataframe.v3+json": {
       "column_count": 2,
       "row_count": 3043,
       "columns": [
        {
         "name": "date",
         "dtype": "object",
         "stats": {
          "unique_count": 377,
          "nan_count": 0,
          "categories": [
           {
            "name": "25/02/2020",
            "count": 319
           },
           {
            "name": "24/02/2020",
            "count": 292
           },
           {
            "name": "375 others",
            "count": 2432
           }
          ]
         }
        },
        {
         "name": "disaster_type",
         "dtype": "object",
         "stats": {
          "unique_count": 6,
          "nan_count": 0,
          "categories": [
           {
            "name": "flood",
            "count": 2847
           },
           {
            "name": "earthquake",
            "count": 109
           },
           {
            "name": "4 others",
            "count": 87
           }
          ]
         }
        },
        {
         "name": "_deepnote_index_column",
         "dtype": "int64"
        }
       ],
       "rows": [
        {
         "date": "01/01/2020",
         "disaster_type": "flood",
         "_deepnote_index_column": 0
        },
        {
         "date": "01/01/2020",
         "disaster_type": "flood",
         "_deepnote_index_column": 1
        },
        {
         "date": "01/01/2020",
         "disaster_type": "flood",
         "_deepnote_index_column": 2
        },
        {
         "date": "01/01/2020",
         "disaster_type": "flood",
         "_deepnote_index_column": 3
        },
        {
         "date": "01/01/2020",
         "disaster_type": "flood",
         "_deepnote_index_column": 4
        },
        {
         "date": "01/01/2020",
         "disaster_type": "flood",
         "_deepnote_index_column": 5
        },
        {
         "date": "01/01/2020",
         "disaster_type": "flood",
         "_deepnote_index_column": 6
        },
        {
         "date": "01/01/2020",
         "disaster_type": "flood",
         "_deepnote_index_column": 7
        },
        {
         "date": "01/01/2020",
         "disaster_type": "flood",
         "_deepnote_index_column": 8
        },
        {
         "date": "01/01/2020",
         "disaster_type": "flood",
         "_deepnote_index_column": 9
        }
       ]
      },
      "text/plain": "            date disaster_type\n0     01/01/2020         flood\n1     01/01/2020         flood\n2     01/01/2020         flood\n3     01/01/2020         flood\n4     01/01/2020         flood\n...          ...           ...\n3038  28/12/2021         flood\n3039  28/12/2021         flood\n3040  28/12/2021         flood\n3041  28/12/2021         flood\n3042  30/12/2021         flood\n\n[3043 rows x 2 columns]",
      "text/html": "<div>\n<style scoped>\n    .dataframe tbody tr th:only-of-type {\n        vertical-align: middle;\n    }\n\n    .dataframe tbody tr th {\n        vertical-align: top;\n    }\n\n    .dataframe thead th {\n        text-align: right;\n    }\n</style>\n<table border=\"1\" class=\"dataframe\">\n  <thead>\n    <tr style=\"text-align: right;\">\n      <th></th>\n      <th>date</th>\n      <th>disaster_type</th>\n    </tr>\n  </thead>\n  <tbody>\n    <tr>\n      <th>0</th>\n      <td>01/01/2020</td>\n      <td>flood</td>\n    </tr>\n    <tr>\n      <th>1</th>\n      <td>01/01/2020</td>\n      <td>flood</td>\n    </tr>\n    <tr>\n      <th>2</th>\n      <td>01/01/2020</td>\n      <td>flood</td>\n    </tr>\n    <tr>\n      <th>3</th>\n      <td>01/01/2020</td>\n      <td>flood</td>\n    </tr>\n    <tr>\n      <th>4</th>\n      <td>01/01/2020</td>\n      <td>flood</td>\n    </tr>\n    <tr>\n      <th>...</th>\n      <td>...</td>\n      <td>...</td>\n    </tr>\n    <tr>\n      <th>3038</th>\n      <td>28/12/2021</td>\n      <td>flood</td>\n    </tr>\n    <tr>\n      <th>3039</th>\n      <td>28/12/2021</td>\n      <td>flood</td>\n    </tr>\n    <tr>\n      <th>3040</th>\n      <td>28/12/2021</td>\n      <td>flood</td>\n    </tr>\n    <tr>\n      <th>3041</th>\n      <td>28/12/2021</td>\n      <td>flood</td>\n    </tr>\n    <tr>\n      <th>3042</th>\n      <td>30/12/2021</td>\n      <td>flood</td>\n    </tr>\n  </tbody>\n</table>\n<p>3043 rows × 2 columns</p>\n</div>"
     },
     "metadata": {}
    }
   ]
  },
  {
   "cell_type": "code",
   "metadata": {
    "colab": {
     "base_uri": "https://localhost:8080/",
     "height": 661
    },
    "id": "vCdYho1fk8zb",
    "executionInfo": {
     "status": "ok",
     "timestamp": 1660403285754,
     "user_tz": -420,
     "elapsed": 374,
     "user": {
      "displayName": "Hilmi G Hidayatullah",
      "userId": "16962578157773311425"
     }
    },
    "outputId": "b4da1bf1-afae-4289-8c5a-9c7f3a924285",
    "cell_id": "00028-2443a071-d1f1-4ab9-9301-b78f29034018",
    "deepnote_to_be_reexecuted": false,
    "source_hash": "99bbf051",
    "execution_start": 1661007855115,
    "execution_millis": 102,
    "deepnote_cell_type": "code",
    "deepnote_cell_height": 905.03125
   },
   "source": "df_time_type['date'] = pd.to_datetime(df_time_type['date'])\ndf_time_type['year'], df_time_type['month'] = df_time_type['date'].dt.year, df_time_type['date'].dt.month\ndf_time_type",
   "execution_count": null,
   "outputs": [
    {
     "name": "stderr",
     "text": "/shared-libs/python3.7/py-core/lib/python3.7/site-packages/ipykernel_launcher.py:1: SettingWithCopyWarning: \nA value is trying to be set on a copy of a slice from a DataFrame.\nTry using .loc[row_indexer,col_indexer] = value instead\n\nSee the caveats in the documentation: https://pandas.pydata.org/pandas-docs/stable/user_guide/indexing.html#returning-a-view-versus-a-copy\n  \"\"\"Entry point for launching an IPython kernel.\n/shared-libs/python3.7/py-core/lib/python3.7/site-packages/ipykernel_launcher.py:2: SettingWithCopyWarning: \nA value is trying to be set on a copy of a slice from a DataFrame.\nTry using .loc[row_indexer,col_indexer] = value instead\n\nSee the caveats in the documentation: https://pandas.pydata.org/pandas-docs/stable/user_guide/indexing.html#returning-a-view-versus-a-copy\n  \n",
     "output_type": "stream"
    },
    {
     "output_type": "execute_result",
     "execution_count": 43,
     "data": {
      "application/vnd.deepnote.dataframe.v3+json": {
       "column_count": 4,
       "row_count": 3043,
       "columns": [
        {
         "name": "date",
         "dtype": "datetime64[ns]",
         "stats": {
          "unique_count": 377,
          "nan_count": 0,
          "min": "2020-01-01 00:00:00",
          "max": "2021-12-30 00:00:00",
          "histogram": [
           {
            "bin_start": 1577836800000000000,
            "bin_end": 1584135360000000000,
            "count": 1333
           },
           {
            "bin_start": 1584135360000000000,
            "bin_end": 1590433920000000000,
            "count": 102
           },
           {
            "bin_start": 1590433920000000000,
            "bin_end": 1596732480000000000,
            "count": 212
           },
           {
            "bin_start": 1596732480000000000,
            "bin_end": 1603031040000000000,
            "count": 83
           },
           {
            "bin_start": 1603031040000000000,
            "bin_end": 1609329600000000000,
            "count": 61
           },
           {
            "bin_start": 1609329600000000000,
            "bin_end": 1615628160000000000,
            "count": 709
           },
           {
            "bin_start": 1615628160000000000,
            "bin_end": 1621926720000000000,
            "count": 100
           },
           {
            "bin_start": 1621926720000000000,
            "bin_end": 1628225280000000000,
            "count": 152
           },
           {
            "bin_start": 1628225280000000000,
            "bin_end": 1634523840000000000,
            "count": 130
           },
           {
            "bin_start": 1634523840000000000,
            "bin_end": 1640822400000000000,
            "count": 161
           }
          ]
         }
        },
        {
         "name": "disaster_type",
         "dtype": "object",
         "stats": {
          "unique_count": 6,
          "nan_count": 0,
          "categories": [
           {
            "name": "flood",
            "count": 2847
           },
           {
            "name": "earthquake",
            "count": 109
           },
           {
            "name": "4 others",
            "count": 87
           }
          ]
         }
        },
        {
         "name": "year",
         "dtype": "int64",
         "stats": {
          "unique_count": 2,
          "nan_count": 0,
          "min": "2020",
          "max": "2021",
          "histogram": [
           {
            "bin_start": 2020,
            "bin_end": 2020.1,
            "count": 1791
           },
           {
            "bin_start": 2020.1,
            "bin_end": 2020.2,
            "count": 0
           },
           {
            "bin_start": 2020.2,
            "bin_end": 2020.3,
            "count": 0
           },
           {
            "bin_start": 2020.3,
            "bin_end": 2020.4,
            "count": 0
           },
           {
            "bin_start": 2020.4,
            "bin_end": 2020.5,
            "count": 0
           },
           {
            "bin_start": 2020.5,
            "bin_end": 2020.6,
            "count": 0
           },
           {
            "bin_start": 2020.6,
            "bin_end": 2020.7,
            "count": 0
           },
           {
            "bin_start": 2020.7,
            "bin_end": 2020.8,
            "count": 0
           },
           {
            "bin_start": 2020.8,
            "bin_end": 2020.9,
            "count": 0
           },
           {
            "bin_start": 2020.9,
            "bin_end": 2021,
            "count": 1252
           }
          ]
         }
        },
        {
         "name": "month",
         "dtype": "int64",
         "stats": {
          "unique_count": 12,
          "nan_count": 0,
          "min": "1",
          "max": "12",
          "histogram": [
           {
            "bin_start": 1,
            "bin_end": 2.1,
            "count": 1995
           },
           {
            "bin_start": 2.1,
            "bin_end": 3.2,
            "count": 82
           },
           {
            "bin_start": 3.2,
            "bin_end": 4.300000000000001,
            "count": 95
           },
           {
            "bin_start": 4.300000000000001,
            "bin_end": 5.4,
            "count": 94
           },
           {
            "bin_start": 5.4,
            "bin_end": 6.5,
            "count": 89
           },
           {
            "bin_start": 6.5,
            "bin_end": 7.6000000000000005,
            "count": 149
           },
           {
            "bin_start": 7.6000000000000005,
            "bin_end": 8.700000000000001,
            "count": 135
           },
           {
            "bin_start": 8.700000000000001,
            "bin_end": 9.8,
            "count": 117
           },
           {
            "bin_start": 9.8,
            "bin_end": 10.9,
            "count": 131
           },
           {
            "bin_start": 10.9,
            "bin_end": 12,
            "count": 156
           }
          ]
         }
        },
        {
         "name": "_deepnote_index_column",
         "dtype": "int64"
        }
       ],
       "rows": [
        {
         "date": "2020-01-01T00:00:00Z",
         "disaster_type": "flood",
         "year": 2020,
         "month": 1,
         "_deepnote_index_column": 0
        },
        {
         "date": "2020-01-01T00:00:00Z",
         "disaster_type": "flood",
         "year": 2020,
         "month": 1,
         "_deepnote_index_column": 1
        },
        {
         "date": "2020-01-01T00:00:00Z",
         "disaster_type": "flood",
         "year": 2020,
         "month": 1,
         "_deepnote_index_column": 2
        },
        {
         "date": "2020-01-01T00:00:00Z",
         "disaster_type": "flood",
         "year": 2020,
         "month": 1,
         "_deepnote_index_column": 3
        },
        {
         "date": "2020-01-01T00:00:00Z",
         "disaster_type": "flood",
         "year": 2020,
         "month": 1,
         "_deepnote_index_column": 4
        },
        {
         "date": "2020-01-01T00:00:00Z",
         "disaster_type": "flood",
         "year": 2020,
         "month": 1,
         "_deepnote_index_column": 5
        },
        {
         "date": "2020-01-01T00:00:00Z",
         "disaster_type": "flood",
         "year": 2020,
         "month": 1,
         "_deepnote_index_column": 6
        },
        {
         "date": "2020-01-01T00:00:00Z",
         "disaster_type": "flood",
         "year": 2020,
         "month": 1,
         "_deepnote_index_column": 7
        },
        {
         "date": "2020-01-01T00:00:00Z",
         "disaster_type": "flood",
         "year": 2020,
         "month": 1,
         "_deepnote_index_column": 8
        },
        {
         "date": "2020-01-01T00:00:00Z",
         "disaster_type": "flood",
         "year": 2020,
         "month": 1,
         "_deepnote_index_column": 9
        }
       ]
      },
      "text/plain": "           date disaster_type  year  month\n0    2020-01-01         flood  2020      1\n1    2020-01-01         flood  2020      1\n2    2020-01-01         flood  2020      1\n3    2020-01-01         flood  2020      1\n4    2020-01-01         flood  2020      1\n...         ...           ...   ...    ...\n3038 2021-12-28         flood  2021     12\n3039 2021-12-28         flood  2021     12\n3040 2021-12-28         flood  2021     12\n3041 2021-12-28         flood  2021     12\n3042 2021-12-30         flood  2021     12\n\n[3043 rows x 4 columns]",
      "text/html": "<div>\n<style scoped>\n    .dataframe tbody tr th:only-of-type {\n        vertical-align: middle;\n    }\n\n    .dataframe tbody tr th {\n        vertical-align: top;\n    }\n\n    .dataframe thead th {\n        text-align: right;\n    }\n</style>\n<table border=\"1\" class=\"dataframe\">\n  <thead>\n    <tr style=\"text-align: right;\">\n      <th></th>\n      <th>date</th>\n      <th>disaster_type</th>\n      <th>year</th>\n      <th>month</th>\n    </tr>\n  </thead>\n  <tbody>\n    <tr>\n      <th>0</th>\n      <td>2020-01-01</td>\n      <td>flood</td>\n      <td>2020</td>\n      <td>1</td>\n    </tr>\n    <tr>\n      <th>1</th>\n      <td>2020-01-01</td>\n      <td>flood</td>\n      <td>2020</td>\n      <td>1</td>\n    </tr>\n    <tr>\n      <th>2</th>\n      <td>2020-01-01</td>\n      <td>flood</td>\n      <td>2020</td>\n      <td>1</td>\n    </tr>\n    <tr>\n      <th>3</th>\n      <td>2020-01-01</td>\n      <td>flood</td>\n      <td>2020</td>\n      <td>1</td>\n    </tr>\n    <tr>\n      <th>4</th>\n      <td>2020-01-01</td>\n      <td>flood</td>\n      <td>2020</td>\n      <td>1</td>\n    </tr>\n    <tr>\n      <th>...</th>\n      <td>...</td>\n      <td>...</td>\n      <td>...</td>\n      <td>...</td>\n    </tr>\n    <tr>\n      <th>3038</th>\n      <td>2021-12-28</td>\n      <td>flood</td>\n      <td>2021</td>\n      <td>12</td>\n    </tr>\n    <tr>\n      <th>3039</th>\n      <td>2021-12-28</td>\n      <td>flood</td>\n      <td>2021</td>\n      <td>12</td>\n    </tr>\n    <tr>\n      <th>3040</th>\n      <td>2021-12-28</td>\n      <td>flood</td>\n      <td>2021</td>\n      <td>12</td>\n    </tr>\n    <tr>\n      <th>3041</th>\n      <td>2021-12-28</td>\n      <td>flood</td>\n      <td>2021</td>\n      <td>12</td>\n    </tr>\n    <tr>\n      <th>3042</th>\n      <td>2021-12-30</td>\n      <td>flood</td>\n      <td>2021</td>\n      <td>12</td>\n    </tr>\n  </tbody>\n</table>\n<p>3043 rows × 4 columns</p>\n</div>"
     },
     "metadata": {}
    }
   ]
  },
  {
   "cell_type": "code",
   "source": "_deepnote_run_altair(df_flood_2020, \"\"\"{\"$schema\":\"https://vega.github.io/schema/vega-lite/v4.json\",\"mark\":{\"type\":\"bar\",\"tooltip\":true},\"height\":220,\"autosize\":{\"type\":\"fit\"},\"data\":{\"name\":\"placeholder\"},\"encoding\":{\"x\":{\"field\":\"date\",\"type\":\"temporal\",\"sort\":null,\"scale\":{\"type\":\"linear\",\"zero\":false}},\"y\":{\"field\":\"COUNT(*)\",\"type\":\"quantitative\",\"sort\":null,\"aggregate\":\"count\",\"scale\":{\"type\":\"linear\",\"zero\":true}},\"color\":{\"field\":\"\",\"type\":\"nominal\",\"sort\":null,\"scale\":{\"type\":\"linear\",\"zero\":false}}}}\"\"\")",
   "metadata": {
    "cell_id": "6a81a30d6490473b8c4fb1956ced71e9",
    "deepnote_variable_name": "df_flood_2020",
    "deepnote_visualization_spec": {
     "$schema": "https://vega.github.io/schema/vega-lite/v4.json",
     "mark": {
      "type": "bar",
      "tooltip": true
     },
     "height": 220,
     "autosize": {
      "type": "fit"
     },
     "data": {
      "name": "placeholder"
     },
     "encoding": {
      "x": {
       "field": "date",
       "type": "temporal",
       "sort": null,
       "scale": {
        "type": "linear",
        "zero": false
       }
      },
      "y": {
       "field": "COUNT(*)",
       "type": "quantitative",
       "sort": null,
       "aggregate": "count",
       "scale": {
        "type": "linear",
        "zero": true
       }
      },
      "color": {
       "field": "",
       "type": "nominal",
       "sort": null,
       "scale": {
        "type": "linear",
        "zero": false
       }
      }
     }
    },
    "deepnote_to_be_reexecuted": false,
    "source_hash": "8212b569",
    "execution_start": 1661007855232,
    "execution_millis": 552,
    "deepnote_cell_type": "visualization"
   },
   "execution_count": null,
   "outputs": [
    {
     "output_type": "error",
     "ename": "NameError",
     "evalue": "name 'df_flood_2020' is not defined",
     "traceback": [
      "\u001b[0;31m---------------------------------------------------------------------------\u001b[0m",
      "\u001b[0;31mNameError\u001b[0m                                 Traceback (most recent call last)",
      "\u001b[0;32m/tmp/ipykernel_214/3619049322.py\u001b[0m in \u001b[0;36m<module>\u001b[0;34m\u001b[0m\n\u001b[0;32m----> 1\u001b[0;31m \u001b[0m_deepnote_run_altair\u001b[0m\u001b[0;34m(\u001b[0m\u001b[0mdf_flood_2020\u001b[0m\u001b[0;34m,\u001b[0m \u001b[0;34m\"\"\"{\"$schema\":\"https://vega.github.io/schema/vega-lite/v4.json\",\"mark\":{\"type\":\"bar\",\"tooltip\":true},\"height\":220,\"autosize\":{\"type\":\"fit\"},\"data\":{\"name\":\"placeholder\"},\"encoding\":{\"x\":{\"field\":\"date\",\"type\":\"temporal\",\"sort\":null,\"scale\":{\"type\":\"linear\",\"zero\":false}},\"y\":{\"field\":\"COUNT(*)\",\"type\":\"quantitative\",\"sort\":null,\"aggregate\":\"count\",\"scale\":{\"type\":\"linear\",\"zero\":true}},\"color\":{\"field\":\"\",\"type\":\"nominal\",\"sort\":null,\"scale\":{\"type\":\"linear\",\"zero\":false}}}}\"\"\"\u001b[0m\u001b[0;34m)\u001b[0m\u001b[0;34m\u001b[0m\u001b[0;34m\u001b[0m\u001b[0m\n\u001b[0m",
      "\u001b[0;31mNameError\u001b[0m: name 'df_flood_2020' is not defined"
     ]
    }
   ]
  },
  {
   "cell_type": "code",
   "metadata": {
    "colab": {
     "base_uri": "https://localhost:8080/"
    },
    "id": "Bfy-e5GBL0LY",
    "executionInfo": {
     "status": "ok",
     "timestamp": 1660402244922,
     "user_tz": -420,
     "elapsed": 26,
     "user": {
      "displayName": "Hilmi G Hidayatullah",
      "userId": "16962578157773311425"
     }
    },
    "outputId": "3a474502-91bf-45dd-a6b6-d4113ff876b0",
    "cell_id": "00029-e6494e09-8549-4571-8baf-6dcac70c4758",
    "deepnote_to_be_reexecuted": false,
    "source_hash": "6474832f",
    "execution_start": 1661007965566,
    "execution_millis": 612,
    "deepnote_cell_type": "code",
    "deepnote_cell_height": 186.59375,
    "deepnote_output_heights": [
     58.59375
    ]
   },
   "source": "# TESTING\ncounts = np.unique(df_time_type['disaster_type'], return_counts=True)\ncounts",
   "execution_count": null,
   "outputs": [
    {
     "output_type": "execute_result",
     "execution_count": 46,
     "data": {
      "text/plain": "(array(['earthquake', 'fire', 'flood', 'haze', 'volcano', 'wind'],\n       dtype=object),\n array([ 109,   12, 2847,    2,   17,   56]))"
     },
     "metadata": {}
    }
   ]
  },
  {
   "cell_type": "code",
   "metadata": {
    "id": "saqV5XtmlHWT",
    "cell_id": "00030-01328069-ec73-484b-acf6-44ed4ff5c1ce",
    "deepnote_to_be_reexecuted": false,
    "source_hash": "16aa8db8",
    "execution_start": 1661007970972,
    "execution_millis": 62,
    "deepnote_cell_type": "code",
    "deepnote_cell_height": 423
   },
   "source": "# TESTING\n# earthquake', 'fire', 'flood', 'haze', 'volcano', 'wind\ndf_flood_2020 = df_time_type.loc[(df_time_type['disaster_type'].str.contains(\"flood\")) & (df_time_type['year'] == 2020)]\n#df_flood_2020.count\ndf_flood_2021 = df_time_type.loc[(df_time_type['disaster_type'].str.contains(\"flood\")) & (df_time_type['year'] == 2021)]\n\ndf_earthquake_2020 = df_time_type.loc[(df_time_type['disaster_type'].str.contains(\"earthquake\")) & (df_time_type['year'] == 2020)]\ndf_earthquake_2021 = df_time_type.loc[(df_time_type['disaster_type'].str.contains(\"earthquake\")) & (df_time_type['year'] == 2021)]\n\ndf_fire_2020 = df_time_type.loc[(df_time_type['disaster_type'].str.contains(\"fire\")) & (df_time_type['year'] == 2020)]\ndf_fire_2021 = df_time_type.loc[(df_time_type['disaster_type'].str.contains(\"fire\")) & (df_time_type['year'] == 2021)]\n\ndf_haze_2020 = df_time_type.loc[(df_time_type['disaster_type'].str.contains(\"haze\")) & (df_time_type['year'] == 2020)]\ndf_haze_2021 = df_time_type.loc[(df_time_type['disaster_type'].str.contains(\"haze\")) & (df_time_type['year'] == 2021)]\n\ndf_volcano_2020 = df_time_type.loc[(df_time_type['disaster_type'].str.contains(\"volcano\")) & (df_time_type['year'] == 2020)]\ndf_volcano_2021 = df_time_type.loc[(df_time_type['disaster_type'].str.contains(\"volcano\")) & (df_time_type['year'] == 2021)]\n\ndf_wind_2020 = df_time_type.loc[(df_time_type['disaster_type'].str.contains(\"wind\")) & (df_time_type['year'] == 2020)]\ndf_wind_2021 = df_time_type.loc[(df_time_type['disaster_type'].str.contains(\"wind\")) & (df_time_type['year'] == 2021)]",
   "execution_count": null,
   "outputs": []
  },
  {
   "cell_type": "code",
   "metadata": {
    "colab": {
     "base_uri": "https://localhost:8080/"
    },
    "id": "DRj6ltImpmwd",
    "executionInfo": {
     "status": "ok",
     "timestamp": 1660403302266,
     "user_tz": -420,
     "elapsed": 543,
     "user": {
      "displayName": "Hilmi G Hidayatullah",
      "userId": "16962578157773311425"
     }
    },
    "outputId": "e74a9d26-7e3e-45df-e0b4-bcea8ec11a13",
    "cell_id": "00031-c87b9eee-5d26-4c88-a75d-e1fdcfe9148b",
    "deepnote_to_be_reexecuted": false,
    "source_hash": "268c0e67",
    "execution_start": 1661007974442,
    "execution_millis": 322,
    "deepnote_cell_type": "code",
    "deepnote_cell_height": 189.1875,
    "deepnote_output_heights": [
     20.1875
    ]
   },
   "source": "# TESTING\n\nDisaster_Data_2020 = [len(df_earthquake_2020.index), len(df_fire_2020.index), len(df_flood_2020.index), len(df_haze_2020.index), len(df_volcano_2020.index), len(df_wind_2020.index)]\nDisaster_Data_2021 = [len(df_earthquake_2021.index), len(df_fire_2021.index), len(df_flood_2021.index), len(df_haze_2021.index), len(df_volcano_2021.index), len(df_wind_2021.index)]\nDisaster_Data_2021",
   "execution_count": null,
   "outputs": [
    {
     "output_type": "execute_result",
     "execution_count": 48,
     "data": {
      "text/plain": "[94, 11, 1078, 2, 17, 50]"
     },
     "metadata": {}
    }
   ]
  },
  {
   "cell_type": "code",
   "metadata": {
    "colab": {
     "base_uri": "https://localhost:8080/",
     "height": 283
    },
    "id": "0ofOf7OFKxxI",
    "executionInfo": {
     "status": "ok",
     "timestamp": 1660402245756,
     "user_tz": -420,
     "elapsed": 857,
     "user": {
      "displayName": "Hilmi G Hidayatullah",
      "userId": "16962578157773311425"
     }
    },
    "outputId": "93e3a341-48e0-4034-9415-fc812d20c067",
    "cell_id": "00032-9e8a1bbf-fe08-435e-9617-e27169904cb4",
    "deepnote_to_be_reexecuted": false,
    "source_hash": "8569cb87",
    "execution_start": 1661007976853,
    "execution_millis": 927,
    "deepnote_cell_type": "code",
    "deepnote_cell_height": 446.1875,
    "deepnote_output_heights": [
     249,
     20.1875
    ]
   },
   "source": "# TESTING\nplt.bar(counts[0], counts[1])\nplt.figure(figsize=(9, 30))\nplt.show()",
   "execution_count": null,
   "outputs": [
    {
     "data": {
      "text/plain": "<Figure size 432x288 with 1 Axes>",
      "image/png": "[encoded data removed]"
     },
     "metadata": {
      "needs_background": "light",
      "image/png": {
       "width": 381,
       "height": 248
      }
     },
     "output_type": "display_data"
    },
    {
     "data": {
      "text/plain": "<Figure size 648x2160 with 0 Axes>"
     },
     "metadata": {},
     "output_type": "display_data"
    }
   ]
  },
  {
   "cell_type": "code",
   "metadata": {
    "colab": {
     "base_uri": "https://localhost:8080/",
     "height": 350
    },
    "id": "cSNtQ23Fs5c2",
    "executionInfo": {
     "status": "ok",
     "timestamp": 1660403333392,
     "user_tz": -420,
     "elapsed": 452,
     "user": {
      "displayName": "Hilmi G Hidayatullah",
      "userId": "16962578157773311425"
     }
    },
    "outputId": "cb35b2bc-0c32-4ff7-e8f6-3aa96b596a07",
    "cell_id": "00034-e6ff184b-b380-44a2-8431-6a309f091a8f",
    "deepnote_to_be_reexecuted": false,
    "source_hash": "e0d15b06",
    "execution_start": 1661007984855,
    "execution_millis": 357,
    "deepnote_cell_type": "code",
    "deepnote_cell_height": 948,
    "deepnote_output_heights": [
     334
    ]
   },
   "source": "# TESTING\n\n# Data on X-axis\n\n# Position of bars on x-axis\nind = np.arange(len(counts[0]))\n\n# Figure size\nplt.figure(figsize=(10,5))\n\n# Width of a bar \nwidth = 0.3       \n\n# Plotting\nplt.bar(ind, Disaster_Data_2020 , width, label='2020')\nplt.bar(ind + width, Disaster_Data_2021, width, label='2021')\n\nplt.xlabel('Kejadiannya berdasarkan tahun')\nplt.ylabel('Jumlah kejadiannya')\nplt.title('Data Frekuensi Bencana Alam Berdasarkan Tahun')\n\n# xticks()\n# First argument - A list of positions at which ticks should be placed\n# Second argument -  A list of labels to place at the given locations\n#plt.xticks(ind + width / 2, ('Xtick1', 'Xtick3', 'Xtick3'))\nplt.xticks(ind + width / 2, (counts[0]))\n\n# Finding the best position for legends and putting it\nplt.legend(loc='best')\nplt.show()",
   "execution_count": null,
   "outputs": [
    {
     "data": {
      "text/plain": "<Figure size 720x360 with 1 Axes>",
      "image/png": "[encoded data removed]"
     },
     "metadata": {
      "needs_background": "light",
      "image/png": {
       "width": 618,
       "height": 333
      }
     },
     "output_type": "display_data"
    }
   ]
  },
  {
   "cell_type": "code",
   "metadata": {
    "id": "xTXFTr0oORLZ",
    "cell_id": "00037-f8ed7dc2-ae99-40ff-9261-8d87d1004f26",
    "deepnote_to_be_reexecuted": true,
    "source_hash": "999eeaae",
    "deepnote_cell_type": "code",
    "deepnote_cell_height": 531
   },
   "source": "# Summary\n\n# Yang mempunyai data kosong: url, image_url, report_dat, title, text, Id_Desa_, Id_Kec_, Id_ Kab, Id_ prov_ Desa, \n# Kecamatan, Kabupaten, Provinsi\n\n# ID dan lokasinya terkadang ada yang benar-benar kosong, tetapi mempunyai long dan lat\n# Hal ini dapat menjadi problematik, tetapi dapat diatasi dengan menggunakan long dan lat\n\n# # pkey tidak diperlukan\n# 'ID desa', 'ID kec', 'ID kab', 'ID prov' tidak diperlukan karena telah diwakili oleh kolomnya yang tanpa id\n# 'url' & 'image url' tidak diperlukan karena sudah diwakilkan di column 'Source'\n# 'title' banyak yang datanya kosong. Selain itu, semua yang ada di 'title' merupakan rangkuman dari 'teks'\n# report dat' dan 'tags' dapat dihapus jika digunakan dalam membuat graph\n\n# time ada yg broken karena salah format atau 0\n\n# List Dataframe:\n# df = dataframe dengan data yang raw \n\n# df_Info telah menghapus 'pkey', 'ID_Desa', 'ID_Kec', 'ID_Kab', 'ID_Prov'\n# df_Info = dataframe yang dapat digunakan untuk mencari data \n# df_Info_Clean = df_Info yang telah di drop values yang missingnya\n\n# df_Visual telah menghapus 'url', 'image_url', 'title',  'report_dat', dan 'tags'\n# df_Visual = dataframe yang dapat digunakan untuk membuat visualisasi \n# df_Visual_Clean = df_Visual yang telah di drop values yang missingnya",
   "execution_count": null,
   "outputs": []
  },
  {
   "cell_type": "code",
   "metadata": {
    "id": "hGICrt1W-4Aq",
    "cell_id": "00038-582d988d-df34-47ad-b689-8929b737f6e8",
    "deepnote_to_be_reexecuted": true,
    "source_hash": "3b70fa7b",
    "deepnote_cell_type": "code",
    "deepnote_cell_height": 94
   },
   "source": "# TESTING\n# .value_counts()",
   "execution_count": null,
   "outputs": []
  },
  {
   "cell_type": "code",
   "metadata": {
    "cell_id": "793f3e086d884f4f97999028f0d7fdd3",
    "tags": [],
    "deepnote_to_be_reexecuted": true,
    "source_hash": "951c01c3",
    "execution_start": 1660730169998,
    "execution_millis": 9,
    "deepnote_cell_type": "code",
    "deepnote_cell_height": 76
   },
   "source": "df.to_csv(\"clean-peta-bencana.csv\", index=False)",
   "execution_count": null,
   "outputs": []
  },
  {
   "cell_type": "markdown",
   "source": "<a style='text-decoration:none;line-height:16px;display:flex;color:#5B5B62;padding:10px;justify-content:end;' href='https://deepnote.com?utm_source=created-in-deepnote-cell&projectId=af0dd343-a785-437d-ad83-6c6c673c2161' target=\"_blank\">\n<img alt='Created in deepnote.com' style='display:inline;max-height:16px;margin:0px;margin-right:7.5px;' src='data:image/svg+xml;base64,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' > </img>\nCreated in <span style='font-weight:600;margin-left:4px;'>Deepnote</span></a>",
   "metadata": {
    "tags": [],
    "created_in_deepnote_cell": true,
    "deepnote_cell_type": "markdown"
   }
  }
 ],
 "nbformat": 4,
 "nbformat_minor": 0,
 "metadata": {
  "colab": {
   "name": "Copy of Final_Project_DSA.ipynb",
   "provenance": [
    {
     "file_id": "1J8WugT0C9Y29ZwkQJdgt688a0aKCvE8x",
     "timestamp": 1660535826590
    }
   ],
   "collapsed_sections": []
  },
  "kernelspec": {
   "name": "python3",
   "display_name": "Python 3"
  },
  "language_info": {
   "name": "python"
  },
  "deepnote_notebook_id": "9ec71832-c9db-4292-9bf2-43319ffadf99",
  "deepnote": {},
  "deepnote_execution_queue": []
 }
}