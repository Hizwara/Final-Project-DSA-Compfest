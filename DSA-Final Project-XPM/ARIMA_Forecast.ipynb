{
 "cells": [
  {
   "cell_type": "markdown",
   "source": "# Using ARIMA Model",
   "metadata": {
    "formattedRanges": [],
    "is_collapsed": false,
    "cell_id": "5b6e3ee41e2645f1a4e8e96d7d9564c1",
    "tags": [],
    "deepnote_cell_type": "text-cell-h1"
   }
  },
  {
   "cell_type": "code",
   "metadata": {
    "tags": [],
    "cell_id": "35404973-0759-4521-ab0d-705df2357c84",
    "deepnote_to_be_reexecuted": false,
    "source_hash": "7ba7e576",
    "execution_start": 1661016401189,
    "execution_millis": 12914,
    "deepnote_cell_type": "code",
    "deepnote_cell_height": 616
   },
   "source": "pip install pmdarima",
   "execution_count": 1,
   "outputs": [
    {
     "name": "stdout",
     "text": "Collecting pmdarima\n  Downloading pmdarima-2.0.0-cp39-cp39-manylinux_2_17_x86_64.manylinux2014_x86_64.manylinux_2_28_x86_64.whl (1.9 MB)\n\u001b[2K     \u001b[90m━━━━━━━━━━━━━━━━━━━━━━━━━━━━━━━━━━━━━━━━\u001b[0m \u001b[32m1.9/1.9 MB\u001b[0m \u001b[31m68.8 MB/s\u001b[0m eta \u001b[36m0:00:00\u001b[0m\n\u001b[?25hRequirement already satisfied: scikit-learn>=0.22 in /shared-libs/python3.9/py/lib/python3.9/site-packages (from pmdarima) (1.1.1)\nCollecting Cython!=0.29.18,!=0.29.31,>=0.29\n  Downloading Cython-0.29.32-cp39-cp39-manylinux_2_17_x86_64.manylinux2014_x86_64.manylinux_2_24_x86_64.whl (2.0 MB)\n\u001b[2K     \u001b[90m━━━━━━━━━━━━━━━━━━━━━━━━━━━━━━━━━━━━━━━━\u001b[0m \u001b[32m2.0/2.0 MB\u001b[0m \u001b[31m40.5 MB/s\u001b[0m eta \u001b[36m0:00:00\u001b[0m\n\u001b[?25hRequirement already satisfied: numpy>=1.21 in /shared-libs/python3.9/py/lib/python3.9/site-packages (from pmdarima) (1.23.1)\nRequirement already satisfied: urllib3 in /shared-libs/python3.9/py/lib/python3.9/site-packages (from pmdarima) (1.26.11)\nRequirement already satisfied: setuptools!=50.0.0,>=38.6.0 in /root/venv/lib/python3.9/site-packages (from pmdarima) (58.1.0)\nRequirement already satisfied: joblib>=0.11 in /shared-libs/python3.9/py/lib/python3.9/site-packages (from pmdarima) (1.1.0)\nRequirement already satisfied: pandas>=0.19 in /shared-libs/python3.9/py/lib/python3.9/site-packages (from pmdarima) (1.2.5)\nRequirement already satisfied: scipy>=1.3.2 in /shared-libs/python3.9/py/lib/python3.9/site-packages (from pmdarima) (1.9.0)\nCollecting statsmodels>=0.13.2\n  Downloading statsmodels-0.13.2-cp39-cp39-manylinux_2_17_x86_64.manylinux2014_x86_64.whl (9.9 MB)\n\u001b[2K     \u001b[90m━━━━━━━━━━━━━━━━━━━━━━━━━━━━━━━━━━━━━━━━\u001b[0m \u001b[32m9.9/9.9 MB\u001b[0m \u001b[31m64.3 MB/s\u001b[0m eta \u001b[36m0:00:00\u001b[0m\n\u001b[?25hRequirement already satisfied: python-dateutil>=2.7.3 in /shared-libs/python3.9/py-core/lib/python3.9/site-packages (from pandas>=0.19->pmdarima) (2.8.2)\nRequirement already satisfied: pytz>=2017.3 in /shared-libs/python3.9/py/lib/python3.9/site-packages (from pandas>=0.19->pmdarima) (2022.1)\nRequirement already satisfied: threadpoolctl>=2.0.0 in /shared-libs/python3.9/py/lib/python3.9/site-packages (from scikit-learn>=0.22->pmdarima) (3.1.0)\nRequirement already satisfied: packaging>=21.3 in /shared-libs/python3.9/py-core/lib/python3.9/site-packages (from statsmodels>=0.13.2->pmdarima) (21.3)\nCollecting patsy>=0.5.2\n  Downloading patsy-0.5.2-py2.py3-none-any.whl (233 kB)\n\u001b[2K     \u001b[90m━━━━━━━━━━━━━━━━━━━━━━━━━━━━━━━━━━━━━━━\u001b[0m \u001b[32m233.7/233.7 KB\u001b[0m \u001b[31m5.8 MB/s\u001b[0m eta \u001b[36m0:00:00\u001b[0m\n\u001b[?25hRequirement already satisfied: pyparsing!=3.0.5,>=2.0.2 in /shared-libs/python3.9/py-core/lib/python3.9/site-packages (from packaging>=21.3->statsmodels>=0.13.2->pmdarima) (3.0.9)\nRequirement already satisfied: six in /shared-libs/python3.9/py-core/lib/python3.9/site-packages (from patsy>=0.5.2->statsmodels>=0.13.2->pmdarima) (1.16.0)\nInstalling collected packages: patsy, Cython, statsmodels, pmdarima\nSuccessfully installed Cython-0.29.32 patsy-0.5.2 pmdarima-2.0.0 statsmodels-0.13.2\n\u001b[33mWARNING: Running pip as the 'root' user can result in broken permissions and conflicting behaviour with the system package manager. It is recommended to use a virtual environment instead: https://pip.pypa.io/warnings/venv\u001b[0m\u001b[33m\n\u001b[0m\u001b[33mWARNING: You are using pip version 22.0.4; however, version 22.2.2 is available.\nYou should consider upgrading via the '/usr/local/bin/python -m pip install --upgrade pip' command.\u001b[0m\u001b[33m\n\u001b[0mNote: you may need to restart the kernel to use updated packages.\n",
     "output_type": "stream"
    }
   ]
  },
  {
   "cell_type": "code",
   "metadata": {
    "cell_id": "fc2438ef6621438fa9565b70bc34c187",
    "tags": [],
    "deepnote_to_be_reexecuted": false,
    "source_hash": "c76c7c51",
    "execution_start": 1661016414104,
    "execution_millis": 4,
    "deepnote_cell_type": "code",
    "deepnote_cell_height": 94
   },
   "source": "import pandas as pd\nimport numpy as np",
   "execution_count": 2,
   "outputs": []
  },
  {
   "cell_type": "code",
   "metadata": {
    "cell_id": "85367feaedc9444996cb77694976e56a",
    "tags": [],
    "deepnote_to_be_reexecuted": false,
    "source_hash": "61167798",
    "execution_start": 1661016414153,
    "execution_millis": 43,
    "deepnote_cell_type": "code",
    "deepnote_cell_height": 425
   },
   "source": "df = pd.read_csv(\"banjir-clean.csv\")\ndf.head()",
   "execution_count": 3,
   "outputs": [
    {
     "output_type": "execute_result",
     "execution_count": 3,
     "data": {
      "application/vnd.deepnote.dataframe.v3+json": {
       "column_count": 14,
       "row_count": 5,
       "columns": [
        {
         "name": "date",
         "dtype": "object",
         "stats": {
          "unique_count": 1,
          "nan_count": 0,
          "categories": [
           {
            "name": "01/01/2020",
            "count": 5
           }
          ]
         }
        },
        {
         "name": "time",
         "dtype": "object",
         "stats": {
          "unique_count": 5,
          "nan_count": 0,
          "categories": [
           {
            "name": "00:03:02",
            "count": 1
           },
           {
            "name": "00:43:02",
            "count": 1
           },
           {
            "name": "3 others",
            "count": 3
           }
          ]
         }
        },
        {
         "name": "source",
         "dtype": "object",
         "stats": {
          "unique_count": 1,
          "nan_count": 0,
          "categories": [
           {
            "name": "grasp",
            "count": 5
           }
          ]
         }
        },
        {
         "name": "status",
         "dtype": "object",
         "stats": {
          "unique_count": 1,
          "nan_count": 0,
          "categories": [
           {
            "name": "confirmed",
            "count": 5
           }
          ]
         }
        },
        {
         "name": "disaster_type",
         "dtype": "object",
         "stats": {
          "unique_count": 1,
          "nan_count": 0,
          "categories": [
           {
            "name": "flood",
            "count": 5
           }
          ]
         }
        },
        {
         "name": "report_dat",
         "dtype": "object",
         "stats": {
          "unique_count": 5,
          "nan_count": 0,
          "categories": [
           {
            "name": "{ \"report_type\": \"flood\", \"flood_depth\": 30 }",
            "count": 1
           },
           {
            "name": "{ \"points\": 1, \"flood_depth\": 80, \"report_type\": \"flood\" }",
            "count": 1
           },
           {
            "name": "3 others",
            "count": 3
           }
          ]
         }
        },
        {
         "name": "tags",
         "dtype": "object",
         "stats": {
          "unique_count": 4,
          "nan_count": 0,
          "categories": [
           {
            "name": "{ \"district_id\": null, \"local_area_id\": null, \"instance_region_code\": \"ID-JK\" }",
            "count": 2
           },
           {
            "name": "{ \"district_id\": \"3174\", \"local_area_id\": \"125\", \"instance_region_code\": \"ID-JK\" }",
            "count": 1
           },
           {
            "name": "2 others",
            "count": 2
           }
          ]
         }
        },
        {
         "name": "text",
         "dtype": "object",
         "stats": {
          "unique_count": 5,
          "nan_count": 0,
          "categories": [
           {
            "name": "Banjir di daerah taman ratu dan sekitarnya. Paling parah dari tahun2 sebelumnya",
            "count": 1
           },
           {
            "name": "Jl. Kemuning Indah\nKota Harapan Indah.\nBekasi",
            "count": 1
           },
           {
            "name": "3 others",
            "count": 3
           }
          ]
         }
        },
        {
         "name": "Desa",
         "dtype": "object",
         "stats": {
          "unique_count": 5,
          "nan_count": 0,
          "categories": [
           {
            "name": "Duri Kepa",
            "count": 1
           },
           {
            "name": "Pejuang",
            "count": 1
           },
           {
            "name": "3 others",
            "count": 3
           }
          ]
         }
        },
        {
         "name": "Kecamatan",
         "dtype": "object",
         "stats": {
          "unique_count": 5,
          "nan_count": 0,
          "categories": [
           {
            "name": "Kebon Jeruk",
            "count": 1
           },
           {
            "name": "Medan Satria",
            "count": 1
           },
           {
            "name": "3 others",
            "count": 3
           }
          ]
         }
        },
        {
         "name": "Kabupaten",
         "dtype": "object",
         "stats": {
          "unique_count": 3,
          "nan_count": 0,
          "categories": [
           {
            "name": "Jakarta Barat",
            "count": 2
           },
           {
            "name": "Bekasi",
            "count": 2
           },
           {
            "name": "Jakarta Timur",
            "count": 1
           }
          ]
         }
        },
        {
         "name": "Provinsi",
         "dtype": "object",
         "stats": {
          "unique_count": 2,
          "nan_count": 0,
          "categories": [
           {
            "name": "Daerah Khusus Ibukota Jakarta",
            "count": 3
           },
           {
            "name": "Jawa Barat",
            "count": 2
           }
          ]
         }
        },
        {
         "name": "long",
         "dtype": "float64",
         "stats": {
          "unique_count": 5,
          "nan_count": 0,
          "min": "106.73835",
          "max": "107.16189",
          "histogram": [
           {
            "bin_start": 106.73835,
            "bin_end": 106.780704,
            "count": 2
           },
           {
            "bin_start": 106.780704,
            "bin_end": 106.823058,
            "count": 0
           },
           {
            "bin_start": 106.823058,
            "bin_end": 106.86541199999999,
            "count": 0
           },
           {
            "bin_start": 106.86541199999999,
            "bin_end": 106.907766,
            "count": 1
           },
           {
            "bin_start": 106.907766,
            "bin_end": 106.95012,
            "count": 0
           },
           {
            "bin_start": 106.95012,
            "bin_end": 106.992474,
            "count": 1
           },
           {
            "bin_start": 106.992474,
            "bin_end": 107.034828,
            "count": 0
           },
           {
            "bin_start": 107.034828,
            "bin_end": 107.077182,
            "count": 0
           },
           {
            "bin_start": 107.077182,
            "bin_end": 107.119536,
            "count": 0
           },
           {
            "bin_start": 107.119536,
            "bin_end": 107.16189,
            "count": 1
           }
          ]
         }
        },
        {
         "name": "lat",
         "dtype": "float64",
         "stats": {
          "unique_count": 5,
          "nan_count": 0,
          "min": "-6.3017",
          "max": "-6.16978",
          "histogram": [
           {
            "bin_start": -6.3017,
            "bin_end": -6.288508,
            "count": 1
           },
           {
            "bin_start": -6.288508,
            "bin_end": -6.275316,
            "count": 0
           },
           {
            "bin_start": -6.275316,
            "bin_end": -6.262124,
            "count": 0
           },
           {
            "bin_start": -6.262124,
            "bin_end": -6.248932,
            "count": 0
           },
           {
            "bin_start": -6.248932,
            "bin_end": -6.23574,
            "count": 0
           },
           {
            "bin_start": -6.23574,
            "bin_end": -6.222548000000001,
            "count": 1
           },
           {
            "bin_start": -6.222548000000001,
            "bin_end": -6.2093560000000005,
            "count": 0
           },
           {
            "bin_start": -6.2093560000000005,
            "bin_end": -6.1961640000000004,
            "count": 1
           },
           {
            "bin_start": -6.1961640000000004,
            "bin_end": -6.182972,
            "count": 0
           },
           {
            "bin_start": -6.182972,
            "bin_end": -6.16978,
            "count": 2
           }
          ]
         }
        },
        {
         "name": "_deepnote_index_column",
         "dtype": "int64"
        }
       ],
       "rows": [
        {
         "date": "01/01/2020",
         "time": "00:03:02",
         "source": "grasp",
         "status": "confirmed",
         "disaster_type": "flood",
         "report_dat": "{ \"report_type\": \"flood\", \"flood_depth\": 30 }",
         "tags": "{ \"district_id\": \"3174\", \"local_area_id\": \"125\", \"instance_region_code\": \"ID-JK\" }",
         "text": "Banjir di daerah taman ratu dan sekitarnya. Paling parah dari tahun2 sebelumnya",
         "Desa": "Duri Kepa",
         "Kecamatan": "Kebon Jeruk",
         "Kabupaten": "Jakarta Barat",
         "Provinsi": "Daerah Khusus Ibukota Jakarta",
         "long": 106.76866,
         "lat": -6.16978,
         "_deepnote_index_column": 0
        },
        {
         "date": "01/01/2020",
         "time": "00:43:02",
         "source": "grasp",
         "status": "confirmed",
         "disaster_type": "flood",
         "report_dat": "{ \"points\": 1, \"flood_depth\": 80, \"report_type\": \"flood\" }",
         "tags": "{ \"district_id\": null, \"local_area_id\": null, \"instance_region_code\": \"ID-JK\" }",
         "text": "Jl. Kemuning Indah\nKota Harapan Indah.\nBekasi",
         "Desa": "Pejuang",
         "Kecamatan": "Medan Satria",
         "Kabupaten": "Bekasi",
         "Provinsi": "Jawa Barat",
         "long": 106.9787,
         "lat": -6.17944,
         "_deepnote_index_column": 1
        },
        {
         "date": "01/01/2020",
         "time": "01:14:53",
         "source": "grasp",
         "status": "confirmed",
         "disaster_type": "flood",
         "report_dat": "{ \"points\": 1, \"flood_depth\": 51, \"report_type\": \"flood\" }",
         "tags": "{ \"district_id\": \"3172\", \"local_area_id\": \"1789\", \"instance_region_code\": \"ID-JK\" }",
         "text": "Banjir selutut orang dewasa di jalan ros merah 2 cipinang indah",
         "Desa": "Cipinang Muara",
         "Kecamatan": "Jatinegara",
         "Kabupaten": "Jakarta Timur",
         "Provinsi": "Daerah Khusus Ibukota Jakarta",
         "long": 106.891,
         "lat": -6.23449,
         "_deepnote_index_column": 2
        },
        {
         "date": "01/01/2020",
         "time": "01:15:08",
         "source": "grasp",
         "status": "confirmed",
         "disaster_type": "flood",
         "report_dat": "{ \"points\": 2, \"flood_depth\": 100, \"report_type\": \"flood\" }",
         "tags": "{ \"district_id\": null, \"local_area_id\": null, \"instance_region_code\": \"ID-JK\" }",
         "text": "Banjir di daerah kedasih dan sekitarnya, karena hujan dari semalam belum berhenti, sudah memasuki rumah dari jam 7 pagi tadi",
         "Desa": "Mekarmukti",
         "Kecamatan": "Cikarang Utara",
         "Kabupaten": "Bekasi",
         "Provinsi": "Jawa Barat",
         "long": 107.16189,
         "lat": -6.3017,
         "_deepnote_index_column": 3
        },
        {
         "date": "01/01/2020",
         "time": "01:25:02",
         "source": "grasp",
         "status": "confirmed",
         "disaster_type": "flood",
         "report_dat": "{ \"report_type\": \"flood\", \"flood_depth\": 60 }",
         "tags": "{ \"district_id\": \"3174\", \"local_area_id\": \"220\", \"instance_region_code\": \"ID-JK\" }",
         "text": "Banjir area komplek Meruya Ilir sejak jam 5 naik terus. Listri hingga kini belum dipadamkan.",
         "Desa": "Meruya Utara",
         "Kecamatan": "Kembangan",
         "Kabupaten": "Jakarta Barat",
         "Provinsi": "Daerah Khusus Ibukota Jakarta",
         "long": 106.73835,
         "lat": -6.19933,
         "_deepnote_index_column": 4
        }
       ]
      },
      "text/plain": "         date      time source     status disaster_type  \\\n0  01/01/2020  00:03:02  grasp  confirmed         flood   \n1  01/01/2020  00:43:02  grasp  confirmed         flood   \n2  01/01/2020  01:14:53  grasp  confirmed         flood   \n3  01/01/2020  01:15:08  grasp  confirmed         flood   \n4  01/01/2020  01:25:02  grasp  confirmed         flood   \n\n                                          report_dat  \\\n0      { \"report_type\": \"flood\", \"flood_depth\": 30 }   \n1  { \"points\": 1, \"flood_depth\": 80, \"report_type...   \n2  { \"points\": 1, \"flood_depth\": 51, \"report_type...   \n3  { \"points\": 2, \"flood_depth\": 100, \"report_typ...   \n4      { \"report_type\": \"flood\", \"flood_depth\": 60 }   \n\n                                                tags  \\\n0  { \"district_id\": \"3174\", \"local_area_id\": \"125...   \n1  { \"district_id\": null, \"local_area_id\": null, ...   \n2  { \"district_id\": \"3172\", \"local_area_id\": \"178...   \n3  { \"district_id\": null, \"local_area_id\": null, ...   \n4  { \"district_id\": \"3174\", \"local_area_id\": \"220...   \n\n                                                text            Desa  \\\n0  Banjir di daerah taman ratu dan sekitarnya. Pa...       Duri Kepa   \n1    Jl. Kemuning Indah\\nKota Harapan Indah.\\nBekasi         Pejuang   \n2  Banjir selutut orang dewasa di jalan ros merah...  Cipinang Muara   \n3  Banjir di daerah kedasih dan sekitarnya, karen...      Mekarmukti   \n4  Banjir area komplek Meruya Ilir sejak jam 5 na...    Meruya Utara   \n\n        Kecamatan      Kabupaten                       Provinsi       long  \\\n0     Kebon Jeruk  Jakarta Barat  Daerah Khusus Ibukota Jakarta  106.76866   \n1    Medan Satria         Bekasi                     Jawa Barat  106.97870   \n2      Jatinegara  Jakarta Timur  Daerah Khusus Ibukota Jakarta  106.89100   \n3  Cikarang Utara         Bekasi                     Jawa Barat  107.16189   \n4       Kembangan  Jakarta Barat  Daerah Khusus Ibukota Jakarta  106.73835   \n\n       lat  \n0 -6.16978  \n1 -6.17944  \n2 -6.23449  \n3 -6.30170  \n4 -6.19933  ",
      "text/html": "<div>\n<style scoped>\n    .dataframe tbody tr th:only-of-type {\n        vertical-align: middle;\n    }\n\n    .dataframe tbody tr th {\n        vertical-align: top;\n    }\n\n    .dataframe thead th {\n        text-align: right;\n    }\n</style>\n<table border=\"1\" class=\"dataframe\">\n  <thead>\n    <tr style=\"text-align: right;\">\n      <th></th>\n      <th>date</th>\n      <th>time</th>\n      <th>source</th>\n      <th>status</th>\n      <th>disaster_type</th>\n      <th>report_dat</th>\n      <th>tags</th>\n      <th>text</th>\n      <th>Desa</th>\n      <th>Kecamatan</th>\n      <th>Kabupaten</th>\n      <th>Provinsi</th>\n      <th>long</th>\n      <th>lat</th>\n    </tr>\n  </thead>\n  <tbody>\n    <tr>\n      <th>0</th>\n      <td>01/01/2020</td>\n      <td>00:03:02</td>\n      <td>grasp</td>\n      <td>confirmed</td>\n      <td>flood</td>\n      <td>{ \"report_type\": \"flood\", \"flood_depth\": 30 }</td>\n      <td>{ \"district_id\": \"3174\", \"local_area_id\": \"125...</td>\n      <td>Banjir di daerah taman ratu dan sekitarnya. Pa...</td>\n      <td>Duri Kepa</td>\n      <td>Kebon Jeruk</td>\n      <td>Jakarta Barat</td>\n      <td>Daerah Khusus Ibukota Jakarta</td>\n      <td>106.76866</td>\n      <td>-6.16978</td>\n    </tr>\n    <tr>\n      <th>1</th>\n      <td>01/01/2020</td>\n      <td>00:43:02</td>\n      <td>grasp</td>\n      <td>confirmed</td>\n      <td>flood</td>\n      <td>{ \"points\": 1, \"flood_depth\": 80, \"report_type...</td>\n      <td>{ \"district_id\": null, \"local_area_id\": null, ...</td>\n      <td>Jl. Kemuning Indah\\nKota Harapan Indah.\\nBekasi</td>\n      <td>Pejuang</td>\n      <td>Medan Satria</td>\n      <td>Bekasi</td>\n      <td>Jawa Barat</td>\n      <td>106.97870</td>\n      <td>-6.17944</td>\n    </tr>\n    <tr>\n      <th>2</th>\n      <td>01/01/2020</td>\n      <td>01:14:53</td>\n      <td>grasp</td>\n      <td>confirmed</td>\n      <td>flood</td>\n      <td>{ \"points\": 1, \"flood_depth\": 51, \"report_type...</td>\n      <td>{ \"district_id\": \"3172\", \"local_area_id\": \"178...</td>\n      <td>Banjir selutut orang dewasa di jalan ros merah...</td>\n      <td>Cipinang Muara</td>\n      <td>Jatinegara</td>\n      <td>Jakarta Timur</td>\n      <td>Daerah Khusus Ibukota Jakarta</td>\n      <td>106.89100</td>\n      <td>-6.23449</td>\n    </tr>\n    <tr>\n      <th>3</th>\n      <td>01/01/2020</td>\n      <td>01:15:08</td>\n      <td>grasp</td>\n      <td>confirmed</td>\n      <td>flood</td>\n      <td>{ \"points\": 2, \"flood_depth\": 100, \"report_typ...</td>\n      <td>{ \"district_id\": null, \"local_area_id\": null, ...</td>\n      <td>Banjir di daerah kedasih dan sekitarnya, karen...</td>\n      <td>Mekarmukti</td>\n      <td>Cikarang Utara</td>\n      <td>Bekasi</td>\n      <td>Jawa Barat</td>\n      <td>107.16189</td>\n      <td>-6.30170</td>\n    </tr>\n    <tr>\n      <th>4</th>\n      <td>01/01/2020</td>\n      <td>01:25:02</td>\n      <td>grasp</td>\n      <td>confirmed</td>\n      <td>flood</td>\n      <td>{ \"report_type\": \"flood\", \"flood_depth\": 60 }</td>\n      <td>{ \"district_id\": \"3174\", \"local_area_id\": \"220...</td>\n      <td>Banjir area komplek Meruya Ilir sejak jam 5 na...</td>\n      <td>Meruya Utara</td>\n      <td>Kembangan</td>\n      <td>Jakarta Barat</td>\n      <td>Daerah Khusus Ibukota Jakarta</td>\n      <td>106.73835</td>\n      <td>-6.19933</td>\n    </tr>\n  </tbody>\n</table>\n</div>"
     },
     "metadata": {}
    }
   ]
  },
  {
   "cell_type": "code",
   "metadata": {
    "cell_id": "fe91c66918fd4a31ab10ba92c64f9ce1",
    "tags": [],
    "deepnote_to_be_reexecuted": false,
    "source_hash": "6adc2a0b",
    "execution_start": 1661016414210,
    "execution_millis": 7,
    "deepnote_cell_type": "code",
    "deepnote_cell_height": 184
   },
   "source": "import json\nresult = []\nlst_data = list(df['report_dat'])\nfor i in lst_data:\n  conv = str(i)\n  proses = json.loads(conv)\n  result.append(proses)",
   "execution_count": 4,
   "outputs": []
  },
  {
   "cell_type": "code",
   "metadata": {
    "cell_id": "ac0b2f36fc044719a0b727affe1658f0",
    "tags": [],
    "deepnote_to_be_reexecuted": false,
    "source_hash": "bae0e1b5",
    "execution_start": 1661016414242,
    "execution_millis": 190,
    "deepnote_cell_type": "code",
    "deepnote_cell_height": 702,
    "deepnote_output_heights": [
     610
    ]
   },
   "source": "result",
   "execution_count": 5,
   "outputs": [
    {
     "output_type": "execute_result",
     "execution_count": 5,
     "data": {
      "text/plain": "[{'report_type': 'flood', 'flood_depth': 30},\n {'points': 1, 'flood_depth': 80, 'report_type': 'flood'},\n {'points': 1, 'flood_depth': 51, 'report_type': 'flood'},\n {'points': 2, 'flood_depth': 100, 'report_type': 'flood'},\n {'report_type': 'flood', 'flood_depth': 60},\n {'report_type': 'flood', 'flood_depth': 39},\n {'report_type': 'flood', 'flood_depth': 79},\n {'report_type': 'flood', 'flood_depth': 116},\n {'report_type': 'flood', 'flood_depth': 60},\n {'points': 1},\n {'report_type': 'flood', 'flood_depth': 81},\n {'report_type': 'flood', 'flood_depth': 69},\n {'points': 1, 'flood_depth': 195, 'report_type': 'flood'},\n {'points': 1, 'flood_depth': 100, 'report_type': 'flood'},\n {'report_type': 'flood', 'flood_depth': 44},\n {'points': 1, 'flood_depth': 93, 'report_type': 'flood'},\n {'points': -1, 'flood_depth': 101, 'report_type': 'flood'},\n {'report_type': 'flood', 'flood_depth': 190},\n {'report_type': 'flood', 'flood_depth': 50},\n {'report_type': 'flood', 'flood_depth': 50},\n {'report_type': 'flood', 'flood_depth': 38},\n {'report_type': 'flood', 'flood_depth': 100},\n {'report_type': 'flood', 'flood_depth': 70},\n {'report_type': 'flood', 'flood_depth': 30},\n {'report_type': 'flood', 'flood_depth': 30},\n {'report_type': 'flood', 'flood_depth': 50},\n {'report_type': 'flood', 'flood_depth': 100},\n {'points': 0, 'flood_depth': 56, 'report_type': 'flood'},\n {'points': 0, 'flood_depth': 50, 'report_type': 'flood'},\n {'report_type': 'flood', 'flood_depth': 111},\n {'report_type': 'flood', 'flood_depth': 50},\n {'report_type': 'flood', 'flood_depth': 55},\n {'report_type': 'flood', 'flood_depth': 150},\n {'report_type': 'flood', 'flood_depth': 131},\n {'points': 1, 'flood_depth': 50, 'report_type': 'flood'},\n {'report_type': 'flood', 'flood_depth': 30},\n {'points': 1},\n {'report_type': 'flood', 'flood_depth': 93},\n {'report_type': 'flood', 'flood_depth': 150},\n {'points': 1, 'flood_depth': 36, 'report_type': 'flood'},\n {'points': 1, 'flood_depth': 41, 'report_type': 'flood'},\n {'report_type': 'flood', 'flood_depth': 100},\n {'report_type': 'flood', 'flood_depth': 57},\n {'report_type': 'flood', 'flood_depth': 112},\n {'report_type': 'flood', 'flood_depth': 54},\n {'report_type': 'flood', 'flood_depth': 65},\n {'report_type': 'flood', 'flood_depth': 100},\n {'report_type': 'flood', 'flood_depth': 65},\n {'points': 1, 'flood_depth': 74, 'report_type': 'flood'},\n {'report_type': 'flood', 'flood_depth': 171},\n {'points': 1, 'flood_depth': 124, 'report_type': 'flood'},\n {'report_type': 'flood', 'flood_depth': 94},\n {'report_type': 'flood', 'flood_depth': 92},\n {'points': -1, 'flood_depth': 50, 'report_type': 'flood'},\n {'report_type': 'flood', 'flood_depth': 114},\n {'report_type': 'flood', 'flood_depth': 76},\n {'points': 1, 'flood_depth': 50, 'report_type': 'flood'},\n {'points': 1, 'flood_depth': 122, 'report_type': 'flood'},\n {'report_type': 'flood', 'flood_depth': 72},\n {'report_type': 'flood', 'flood_depth': 50},\n {'report_type': 'flood', 'flood_depth': 78},\n {'points': 1, 'flood_depth': 74, 'report_type': 'flood'},\n {'report_type': 'flood', 'flood_depth': 125},\n {'points': 1, 'flood_depth': 48, 'report_type': 'flood'},\n {'points': 1, 'flood_depth': 195, 'report_type': 'flood'},\n {'report_type': 'flood', 'flood_depth': 94},\n {'report_type': 'flood', 'flood_depth': 24},\n {'report_type': 'flood', 'flood_depth': 45},\n {'report_type': 'flood', 'flood_depth': 47},\n {'points': 2, 'flood_depth': 99, 'report_type': 'flood'},\n {'report_type': 'flood', 'flood_depth': 122},\n {'report_type': 'flood', 'flood_depth': 50},\n {'points': 1, 'flood_depth': 56, 'report_type': 'flood'},\n {'points': 4, 'flood_depth': 20, 'report_type': 'flood'},\n {'report_type': 'flood', 'flood_depth': 48},\n {'points': 1, 'flood_depth': 50, 'report_type': 'flood'},\n {'points': -2, 'flood_depth': 45, 'report_type': 'flood'},\n {'report_type': 'flood', 'flood_depth': 50},\n {'points': 0, 'flood_depth': 90, 'report_type': 'flood'},\n {'points': 0, 'flood_depth': 50, 'report_type': 'flood'},\n {'report_type': 'flood', 'flood_depth': 70},\n {'points': 2, 'flood_depth': 60, 'report_type': 'flood'},\n {'report_type': 'flood', 'flood_depth': 33},\n {'points': 8, 'flood_depth': 150, 'report_type': 'flood'},\n {'points': 1},\n {'points': -1},\n {'points': 2, 'flood_depth': 91, 'report_type': 'flood'},\n {'points': 0, 'flood_depth': 90, 'report_type': 'flood'},\n {'points': 1, 'flood_depth': 39, 'report_type': 'flood'},\n {'report_type': 'flood', 'flood_depth': 80},\n {'points': 1, 'flood_depth': 100, 'report_type': 'flood'},\n {'points': 5, 'flood_depth': 63, 'report_type': 'flood'},\n {'points': 2, 'flood_depth': 41, 'report_type': 'flood'},\n {'points': 1, 'flood_depth': 143, 'report_type': 'flood'},\n {'points': 2, 'flood_depth': 104, 'report_type': 'flood'},\n {'report_type': 'flood', 'flood_depth': 50},\n {'points': 1, 'flood_depth': 149, 'report_type': 'flood'},\n {'points': 1, 'flood_depth': 89, 'report_type': 'flood'},\n {'report_type': 'flood', 'flood_depth': 80},\n {'report_type': 'flood', 'flood_depth': 90},\n {'points': 1, 'flood_depth': 75, 'report_type': 'flood'},\n {'report_type': 'flood', 'flood_depth': 50},\n {'points': 1},\n {'points': 1, 'flood_depth': 93, 'report_type': 'flood'},\n {'points': -1, 'flood_depth': 48, 'report_type': 'flood'},\n {'points': 2},\n {'points': 1, 'flood_depth': 95, 'report_type': 'flood'},\n {'points': 1, 'flood_depth': 50, 'report_type': 'flood'},\n {'points': 1, 'flood_depth': 70, 'report_type': 'flood'},\n {'points': 5, 'flood_depth': 100, 'report_type': 'flood'},\n {'points': 1, 'flood_depth': 58, 'report_type': 'flood'},\n {'points': 0, 'flood_depth': 53, 'report_type': 'flood'},\n {'points': 0, 'flood_depth': 94, 'report_type': 'flood'},\n {'report_type': 'flood', 'flood_depth': 70},\n {'points': 1, 'flood_depth': 60, 'report_type': 'flood'},\n {'points': 1},\n {'points': -1, 'flood_depth': 40, 'report_type': 'flood'},\n {'points': 1, 'flood_depth': 90, 'report_type': 'flood'},\n {'points': 1},\n {'report_type': 'flood', 'flood_depth': 80},\n {'report_type': 'flood', 'flood_depth': 195},\n {'report_type': 'flood', 'flood_depth': 73},\n {'points': 1, 'flood_depth': 125, 'report_type': 'flood'},\n {'points': -1},\n {'report_type': 'flood', 'flood_depth': 150},\n {'points': 1, 'flood_depth': 77, 'report_type': 'flood'},\n {'points': 1},\n {'points': 1, 'flood_depth': 71, 'report_type': 'flood'},\n {'points': 0, 'flood_depth': 94, 'report_type': 'flood'},\n {'points': -2, 'flood_depth': 96, 'report_type': 'flood'},\n {'report_type': 'flood', 'flood_depth': 105},\n {'points': 1, 'flood_depth': 69, 'report_type': 'flood'},\n {'report_type': 'flood', 'flood_depth': 98},\n {'points': 0, 'flood_depth': 65, 'report_type': 'flood'},\n {'points': 1, 'flood_depth': 39, 'report_type': 'flood'},\n {'points': 2},\n {'report_type': 'flood', 'flood_depth': 126},\n {'report_type': 'flood', 'flood_depth': 74},\n {'report_type': 'flood', 'flood_depth': 93},\n {'report_type': 'flood', 'flood_depth': 38},\n {'report_type': 'flood', 'flood_depth': 127},\n {'report_type': 'flood', 'flood_depth': 35},\n {'report_type': 'flood', 'flood_depth': 56},\n {'report_type': 'flood', 'flood_depth': 52},\n {'report_type': 'flood', 'flood_depth': 119},\n {'report_type': 'flood', 'flood_depth': 50},\n {'points': 1, 'flood_depth': 82, 'report_type': 'flood'},\n {'report_type': 'flood', 'flood_depth': 67},\n {'report_type': 'flood', 'flood_depth': 30},\n {'points': -1, 'flood_depth': 64, 'report_type': 'flood'},\n {'points': 0, 'flood_depth': 67, 'report_type': 'flood'},\n {'points': 1, 'flood_depth': 46, 'report_type': 'flood'},\n {'points': 3, 'flood_depth': 146, 'report_type': 'flood'},\n {'report_type': 'flood', 'flood_depth': 35},\n {'points': 1, 'flood_depth': 133, 'report_type': 'flood'},\n {'points': 1, 'flood_depth': 45, 'report_type': 'flood'},\n {'points': 1, 'flood_depth': 95, 'report_type': 'flood'},\n {'points': 2, 'flood_depth': 123, 'report_type': 'flood'},\n {'report_type': 'flood', 'flood_depth': 50},\n {'report_type': 'flood', 'flood_depth': 87},\n {'report_type': 'flood', 'flood_depth': 130},\n {'points': 2, 'flood_depth': 32, 'report_type': 'flood'},\n {'report_type': 'flood', 'flood_depth': 40},\n {'points': 2, 'flood_depth': 180, 'report_type': 'flood'},\n {'report_type': 'flood', 'flood_depth': 57},\n {'points': 2},\n {'points': 2, 'flood_depth': 106, 'report_type': 'flood'},\n {'points': 2, 'flood_depth': 43, 'report_type': 'flood'},\n {'report_type': 'flood', 'flood_depth': 89},\n {'report_type': 'flood', 'flood_depth': 32},\n {'points': 1},\n {'points': 1, 'flood_depth': 120, 'report_type': 'flood'},\n {'report_type': 'flood', 'flood_depth': 80},\n {'points': 2, 'flood_depth': 40, 'report_type': 'flood'},\n {'points': 1, 'flood_depth': 38, 'report_type': 'flood'},\n {'report_type': 'flood', 'flood_depth': 46},\n {'points': 1, 'flood_depth': 34, 'report_type': 'flood'},\n {'points': 1, 'flood_depth': 44, 'report_type': 'flood'},\n {'points': 0},\n {'points': 2, 'flood_depth': 40, 'report_type': 'flood'},\n {'points': 1, 'flood_depth': 191, 'report_type': 'flood'},\n {'points': 1, 'flood_depth': 100, 'report_type': 'flood'},\n {'report_type': 'flood', 'flood_depth': 63},\n {'report_type': 'flood', 'flood_depth': 195},\n {'report_type': 'flood', 'flood_depth': 45},\n {'report_type': 'flood', 'flood_depth': 60},\n {'report_type': 'flood', 'flood_depth': 106},\n {'points': 3, 'flood_depth': 195, 'report_type': 'flood'},\n {'report_type': 'flood', 'flood_depth': 31},\n {'points': 1, 'flood_depth': 153, 'report_type': 'flood'},\n {'points': 1, 'flood_depth': 110, 'report_type': 'flood'},\n {'report_type': 'flood', 'flood_depth': 125},\n {'report_type': 'flood', 'flood_depth': 135},\n {'points': 1, 'flood_depth': 150, 'report_type': 'flood'},\n {'points': 2, 'flood_depth': 70, 'report_type': 'flood'},\n {'report_type': 'flood', 'flood_depth': 60},\n {'points': 1},\n {'points': 1, 'flood_depth': 1, 'report_type': 'flood'},\n {'points': 1, 'flood_depth': 25, 'report_type': 'flood'},\n {'points': 2, 'flood_depth': 142, 'report_type': 'flood'},\n {'points': -3, 'flood_depth': 150, 'report_type': 'flood'},\n {'points': 2, 'flood_depth': 141, 'report_type': 'flood'},\n {'points': 2, 'flood_depth': 150, 'report_type': 'flood'},\n {'points': 2, 'flood_depth': 119, 'report_type': 'flood'},\n {'points': 0, 'flood_depth': 22, 'report_type': 'flood'},\n {'points': 4, 'flood_depth': 99, 'report_type': 'flood'},\n {'report_type': 'flood', 'flood_depth': 23},\n {'points': 1, 'flood_depth': 30, 'report_type': 'flood'},\n {'report_type': 'flood', 'flood_depth': 23},\n {'points': 0, 'flood_depth': 66, 'report_type': 'flood'},\n {'points': 2, 'flood_depth': 150, 'report_type': 'flood'},\n {'points': 3, 'flood_depth': 104, 'report_type': 'flood'},\n {'points': 2, 'flood_depth': 119, 'report_type': 'flood'},\n {'report_type': 'flood', 'flood_depth': 195},\n {'points': 1, 'flood_depth': 44, 'report_type': 'flood'},\n {'report_type': 'flood', 'flood_depth': 101},\n {'report_type': 'flood', 'flood_depth': 9},\n {'report_type': 'flood', 'flood_depth': 48},\n {'points': 1},\n {'points': 1, 'flood_depth': 49, 'report_type': 'flood'},\n {'report_type': 'flood', 'flood_depth': 1},\n {'points': 1, 'flood_depth': 70, 'report_type': 'flood'},\n {'points': 1, 'flood_depth': 24, 'report_type': 'flood'},\n {'points': -3, 'flood_depth': 1, 'report_type': 'flood'},\n {'report_type': 'flood', 'flood_depth': 50},\n {'report_type': 'flood', 'flood_depth': 23},\n {'report_type': 'flood', 'flood_depth': 195},\n {'points': 1, 'flood_depth': 27, 'report_type': 'flood'},\n {'report_type': 'flood', 'flood_depth': 161},\n {'report_type': 'flood', 'flood_depth': 32},\n {'report_type': 'flood', 'flood_depth': 80},\n {'report_type': 'flood', 'flood_depth': 1},\n {'report_type': 'flood', 'flood_depth': 100},\n {'report_type': 'flood', 'flood_depth': 93},\n {'points': 0, 'flood_depth': 51, 'report_type': 'flood'},\n {'report_type': 'flood', 'flood_depth': 165},\n {'report_type': 'flood', 'flood_depth': 85},\n {'points': -2, 'flood_depth': 63, 'report_type': 'flood'},\n {'points': 1, 'flood_depth': 164, 'report_type': 'flood'},\n {'report_type': 'flood', 'flood_depth': 80},\n {'report_type': 'flood', 'flood_depth': 71},\n {'points': 2, 'flood_depth': 1, 'report_type': 'flood'},\n {'report_type': 'flood', 'flood_depth': 45},\n {'report_type': 'flood', 'flood_depth': 78},\n {'report_type': 'flood', 'flood_depth': 23},\n {'report_type': 'flood', 'flood_depth': 45},\n {'report_type': 'flood', 'flood_depth': 143},\n {'report_type': 'flood', 'flood_depth': 144},\n {'points': 1, 'flood_depth': 39, 'report_type': 'flood'},\n {'report_type': 'flood', 'flood_depth': 22},\n {'report_type': 'flood', 'flood_depth': 45},\n {'report_type': 'flood', 'flood_depth': 93},\n {'report_type': 'flood', 'flood_depth': 25},\n {'points': 1, 'flood_depth': 23, 'report_type': 'flood'},\n {'report_type': 'flood', 'flood_depth': 23},\n {'points': 1, 'flood_depth': 28, 'report_type': 'flood'},\n {'report_type': 'flood', 'flood_depth': 36},\n {'report_type': 'flood', 'flood_depth': 133},\n {'points': 1, 'flood_depth': 33, 'report_type': 'flood'},\n {'report_type': 'flood', 'flood_depth': 23},\n {'points': 1, 'flood_depth': 20, 'report_type': 'flood'},\n {'points': 1, 'flood_depth': 50, 'report_type': 'flood'},\n {'points': 3, 'flood_depth': 15, 'report_type': 'flood'},\n {'points': 1, 'flood_depth': 32, 'report_type': 'flood'},\n {'points': 1, 'flood_depth': 10, 'report_type': 'flood'},\n {'report_type': 'flood', 'flood_depth': 195},\n {'report_type': 'flood', 'flood_depth': 21},\n {'report_type': 'flood', 'flood_depth': 27},\n {'report_type': 'flood', 'flood_depth': 80},\n {'report_type': 'flood', 'flood_depth': 46},\n {'points': -1, 'flood_depth': 6, 'report_type': 'flood'},\n {'report_type': 'flood', 'flood_depth': 10},\n {'report_type': 'flood', 'flood_depth': 50},\n {'points': 2, 'flood_depth': 18, 'report_type': 'flood'},\n {'points': 0, 'flood_depth': 65, 'report_type': 'flood'},\n {'points': 2, 'flood_depth': 18, 'report_type': 'flood'},\n {'points': 0, 'flood_depth': 10, 'report_type': 'flood'},\n {'report_type': 'flood', 'flood_depth': 69},\n {'points': 2, 'flood_depth': 30, 'report_type': 'flood'},\n {'points': 1, 'flood_depth': 28, 'report_type': 'flood'},\n {'report_type': 'flood', 'flood_depth': 5},\n {'points': -3, 'flood_depth': 49, 'report_type': 'flood'},\n {'report_type': 'flood', 'flood_depth': 45},\n {'report_type': 'flood', 'flood_depth': 16},\n {'report_type': 'flood', 'flood_depth': 30},\n {'report_type': 'flood', 'flood_depth': 20},\n {'points': 3, 'flood_depth': 70, 'report_type': 'flood'},\n {'report_type': 'flood', 'flood_depth': 87},\n {'points': 2, 'flood_depth': 47, 'report_type': 'flood'},\n {'report_type': 'flood', 'flood_depth': 43},\n {'points': 0},\n {'points': -1, 'flood_depth': 23, 'report_type': 'flood'},\n {'points': -1, 'flood_depth': 15, 'report_type': 'flood'},\n {'points': 1, 'flood_depth': 31, 'report_type': 'flood'},\n {'report_type': 'flood', 'flood_depth': 47},\n {'report_type': 'flood', 'flood_depth': 20},\n {'points': 1, 'flood_depth': 15, 'report_type': 'flood'},\n {'report_type': 'flood', 'flood_depth': 28},\n {'points': 1, 'flood_depth': 40, 'report_type': 'flood'},\n {'report_type': 'flood', 'flood_depth': 50},\n {'report_type': 'flood', 'flood_depth': 20},\n {'points': 1, 'flood_depth': 25, 'report_type': 'flood'},\n {'points': 1, 'flood_depth': 61, 'report_type': 'flood'},\n {'report_type': 'flood', 'flood_depth': 37},\n {'report_type': 'flood', 'flood_depth': 36},\n {'report_type': 'flood', 'flood_depth': 40},\n {'report_type': 'flood', 'flood_depth': 50},\n {'points': 1, 'flood_depth': 52, 'report_type': 'flood'},\n {'points': 2, 'flood_depth': 65, 'report_type': 'flood'},\n {'report_type': 'flood', 'flood_depth': 83},\n {'report_type': 'flood', 'flood_depth': 47},\n {'report_type': 'flood', 'flood_depth': 195},\n {'report_type': 'flood', 'flood_depth': 195},\n {'report_type': 'flood', 'flood_depth': 59},\n {'report_type': 'flood', 'flood_depth': 40},\n {'points': 1, 'flood_depth': 20, 'report_type': 'flood'},\n {'points': 1, 'flood_depth': 41, 'report_type': 'flood'},\n {'report_type': 'flood', 'flood_depth': 24},\n {'report_type': 'flood', 'flood_depth': 39},\n {'report_type': 'flood', 'flood_depth': 48},\n {'report_type': 'flood', 'flood_depth': 63},\n {'report_type': 'flood', 'flood_depth': 90},\n {'report_type': 'flood', 'flood_depth': 75},\n {'report_type': 'flood', 'flood_depth': 23},\n {'report_type': 'flood', 'flood_depth': 10},\n {'points': -1, 'flood_depth': 60, 'report_type': 'flood'},\n {'report_type': 'flood', 'flood_depth': 79},\n {'report_type': 'flood', 'flood_depth': 89},\n {'report_type': 'flood', 'flood_depth': 78},\n {'report_type': 'flood', 'flood_depth': 44},\n {'report_type': 'flood', 'flood_depth': 32},\n {'points': 1, 'flood_depth': 66, 'report_type': 'flood'},\n {'report_type': 'flood', 'flood_depth': 87},\n {'report_type': 'flood', 'flood_depth': 13},\n {'report_type': 'flood', 'flood_depth': 23},\n {'report_type': 'flood', 'flood_depth': 106},\n {'report_type': 'flood', 'flood_depth': 33},\n {'points': 1, 'flood_depth': 40, 'report_type': 'flood'},\n {'report_type': 'flood', 'flood_depth': 14},\n {'report_type': 'flood', 'flood_depth': 26},\n {'report_type': 'flood', 'flood_depth': 39},\n {'report_type': 'flood', 'flood_depth': 15},\n {'report_type': 'flood', 'flood_depth': 35},\n {'report_type': 'flood', 'flood_depth': 45},\n {'report_type': 'flood', 'flood_depth': 26},\n {'report_type': 'flood', 'flood_depth': 50},\n {'report_type': 'flood', 'flood_depth': 10},\n {'report_type': 'flood', 'flood_depth': 23},\n {'report_type': 'flood', 'flood_depth': 21},\n {'report_type': 'flood', 'flood_depth': 39},\n {'report_type': 'flood', 'flood_depth': 21},\n {'report_type': 'flood', 'flood_depth': 43},\n {'report_type': 'flood', 'flood_depth': 53},\n {'report_type': 'flood', 'flood_depth': 44},\n {'report_type': 'flood', 'flood_depth': 26},\n {'report_type': 'flood', 'flood_depth': 40},\n {'report_type': 'flood', 'flood_depth': 24},\n {'report_type': 'flood', 'flood_depth': 58},\n {'report_type': 'flood', 'flood_depth': 55},\n {'report_type': 'flood', 'flood_depth': 25},\n {'report_type': 'flood', 'flood_depth': 18},\n {'report_type': 'flood', 'flood_depth': 21},\n {'report_type': 'flood', 'flood_depth': 21},\n {'report_type': 'flood', 'flood_depth': 62},\n {'report_type': 'flood', 'flood_depth': 42},\n {'report_type': 'flood', 'flood_depth': 17},\n {'report_type': 'flood', 'flood_depth': 23},\n {'report_type': 'flood', 'flood_depth': 45},\n {'report_type': 'flood', 'flood_depth': 35},\n {'report_type': 'flood', 'flood_depth': 42},\n {'report_type': 'flood', 'flood_depth': 39},\n {'report_type': 'flood', 'flood_depth': 32},\n {'report_type': 'flood', 'flood_depth': 13},\n {'report_type': 'flood', 'flood_depth': 30},\n {'report_type': 'flood', 'flood_depth': 25},\n {'report_type': 'flood', 'flood_depth': 77},\n {'points': -1, 'flood_depth': 1, 'report_type': 'flood'},\n {'report_type': 'flood', 'flood_depth': 56},\n {'report_type': 'flood', 'flood_depth': 47},\n {'report_type': 'flood', 'flood_depth': 50},\n {'report_type': 'flood', 'flood_depth': 60},\n {'report_type': 'flood', 'flood_depth': 25},\n {'points': -1, 'flood_depth': 47, 'report_type': 'flood'},\n {'points': -1, 'flood_depth': 45, 'report_type': 'flood'},\n {'points': -2, 'flood_depth': 106, 'report_type': 'flood'},\n {'report_type': 'flood', 'flood_depth': 47},\n {'report_type': 'flood', 'flood_depth': 144},\n {'report_type': 'flood', 'flood_depth': 84},\n {'report_type': 'flood', 'flood_depth': 29},\n {'report_type': 'flood', 'flood_depth': 18},\n {'report_type': 'flood', 'flood_depth': 50},\n {'report_type': 'flood', 'flood_depth': 50},\n {'report_type': 'flood', 'flood_depth': 51},\n {'report_type': 'flood', 'flood_depth': 45},\n {'report_type': 'flood', 'flood_depth': 50},\n {'points': 2, 'flood_depth': 81, 'report_type': 'flood'},\n {'report_type': 'flood', 'flood_depth': 20},\n {'report_type': 'flood', 'flood_depth': 29},\n {'report_type': 'flood', 'flood_depth': 180},\n {'report_type': 'flood', 'flood_depth': 34},\n {'report_type': 'flood', 'flood_depth': 20},\n {'report_type': 'flood', 'flood_depth': 23},\n {'report_type': 'flood', 'flood_depth': 1},\n {'report_type': 'flood', 'flood_depth': 10},\n {'report_type': 'flood', 'flood_depth': 80},\n {'report_type': 'flood', 'flood_depth': 100},\n {'report_type': 'flood', 'flood_depth': 16},\n {'report_type': 'flood', 'flood_depth': 21},\n {'report_type': 'flood', 'flood_depth': 114},\n {'report_type': 'flood', 'flood_depth': 29},\n {'report_type': 'flood', 'flood_depth': 24},\n {'report_type': 'flood', 'flood_depth': 10},\n {'report_type': 'flood', 'flood_depth': 48},\n {'points': 1, 'flood_depth': 62, 'report_type': 'flood'},\n {'report_type': 'flood', 'flood_depth': 40},\n {'report_type': 'flood', 'flood_depth': 47},\n {'report_type': 'flood', 'flood_depth': 53},\n {'report_type': 'flood', 'flood_depth': 25},\n {'report_type': 'flood', 'flood_depth': 20},\n {'report_type': 'flood', 'flood_depth': 16},\n {'report_type': 'flood', 'flood_depth': 45},\n {'report_type': 'flood', 'flood_depth': 28},\n {'report_type': 'flood', 'flood_depth': 20},\n {'report_type': 'flood', 'flood_depth': 30},\n {'report_type': 'flood', 'flood_depth': 61},\n {'report_type': 'flood', 'flood_depth': 195},\n {'report_type': 'flood', 'flood_depth': 146},\n {'report_type': 'flood', 'flood_depth': 25},\n {'points': 1, 'flood_depth': 46, 'report_type': 'flood'},\n {'report_type': 'flood', 'flood_depth': 45},\n {'report_type': 'flood', 'flood_depth': 45},\n {'report_type': 'flood', 'flood_depth': 20},\n {'report_type': 'flood', 'flood_depth': 44},\n {'report_type': 'flood', 'flood_depth': 50},\n {'report_type': 'flood', 'flood_depth': 78},\n {'report_type': 'flood', 'flood_depth': 30},\n {'report_type': 'flood', 'flood_depth': 27},\n {'report_type': 'flood', 'flood_depth': 10},\n {'report_type': 'flood', 'flood_depth': 37},\n {'report_type': 'flood', 'flood_depth': 50},\n {'report_type': 'flood', 'flood_depth': 40},\n {'report_type': 'flood', 'flood_depth': 25},\n {'report_type': 'flood', 'flood_depth': 23},\n {'report_type': 'flood', 'flood_depth': 29},\n {'report_type': 'flood', 'flood_depth': 30},\n {'report_type': 'flood', 'flood_depth': 55},\n {'points': 1, 'flood_depth': 30, 'report_type': 'flood'},\n {'report_type': 'flood', 'flood_depth': 50},\n {'report_type': 'flood', 'flood_depth': 30},\n {'points': 1, 'flood_depth': 101, 'report_type': 'flood'},\n {'report_type': 'flood', 'flood_depth': 32},\n {'report_type': 'flood', 'flood_depth': 60},\n {'report_type': 'flood', 'flood_depth': 46},\n {'report_type': 'flood', 'flood_depth': 34},\n {'report_type': 'flood', 'flood_depth': 40},\n {'report_type': 'flood', 'flood_depth': 40},\n {'report_type': 'flood', 'flood_depth': 42},\n {'report_type': 'flood', 'flood_depth': 40},\n {'report_type': 'flood', 'flood_depth': 40},\n {'report_type': 'flood', 'flood_depth': 60},\n {'report_type': 'flood', 'flood_depth': 40},\n {'points': 1, 'flood_depth': 19, 'report_type': 'flood'},\n {'report_type': 'flood', 'flood_depth': 52},\n {'report_type': 'flood', 'flood_depth': 40},\n {'report_type': 'flood', 'flood_depth': 51},\n {'report_type': 'flood', 'flood_depth': 40},\n {'report_type': 'flood', 'flood_depth': 40},\n {'report_type': 'flood', 'flood_depth': 65},\n {'report_type': 'flood', 'flood_depth': 40},\n {'report_type': 'flood', 'flood_depth': 50},\n {'points': 0, 'flood_depth': 35, 'report_type': 'flood'},\n {'report_type': 'flood', 'flood_depth': 35},\n {'report_type': 'flood', 'flood_depth': 66},\n {'points': 1, 'flood_depth': 40, 'report_type': 'flood'},\n {'report_type': 'flood', 'flood_depth': 35},\n {'report_type': 'flood', 'flood_depth': 40},\n {'report_type': 'flood', 'flood_depth': 20},\n {'report_type': 'flood', 'flood_depth': 40},\n {'report_type': 'flood', 'flood_depth': 56},\n {'report_type': 'flood', 'flood_depth': 60},\n {'report_type': 'flood', 'flood_depth': 144},\n {'report_type': 'flood', 'flood_depth': 23},\n {'report_type': 'flood', 'flood_depth': 31},\n {'report_type': 'flood', 'flood_depth': 45},\n {'report_type': 'flood', 'flood_depth': 25},\n {'report_type': 'flood', 'flood_depth': 22},\n {'report_type': 'flood', 'flood_depth': 26},\n {'report_type': 'flood', 'flood_depth': 70},\n {'report_type': 'flood', 'flood_depth': 36},\n {'points': -1, 'flood_depth': 43, 'report_type': 'flood'},\n {'report_type': 'flood', 'flood_depth': 61},\n {'report_type': 'flood', 'flood_depth': 30},\n {'report_type': 'flood', 'flood_depth': 20},\n {'points': 1, 'flood_depth': 76, 'report_type': 'flood'},\n {'report_type': 'flood', 'flood_depth': 46},\n {'report_type': 'flood', 'flood_depth': 60},\n {'report_type': 'flood', 'flood_depth': 35},\n {'points': 1, 'flood_depth': 58, 'report_type': 'flood'},\n {'points': 1, 'flood_depth': 49, 'report_type': 'flood'},\n {'report_type': 'flood', 'flood_depth': 20},\n {'report_type': 'flood', 'flood_depth': 60},\n {'report_type': 'flood', 'flood_depth': 1},\n {'points': 1, 'flood_depth': 18, 'report_type': 'flood'},\n {'report_type': 'flood', 'flood_depth': 17},\n {'report_type': 'flood', 'flood_depth': 52},\n {'report_type': 'flood', 'flood_depth': 30},\n {'report_type': 'flood', 'flood_depth': 27},\n {'report_type': 'flood', 'flood_depth': 1},\n {'report_type': 'flood', 'flood_depth': 60},\n {'report_type': 'flood', 'flood_depth': 15},\n {'report_type': 'flood', 'flood_depth': 10},\n {'report_type': 'flood', 'flood_depth': 50},\n {'report_type': 'flood', 'flood_depth': 40},\n {'report_type': 'flood', 'flood_depth': 49},\n {'report_type': 'flood', 'flood_depth': 3},\n {'report_type': 'flood', 'flood_depth': 5},\n {'report_type': 'flood', 'flood_depth': 28},\n {'report_type': 'flood', 'flood_depth': 28},\n {'report_type': 'flood', 'flood_depth': 35},\n {'report_type': 'flood', 'flood_depth': 35},\n {'report_type': 'flood', 'flood_depth': 75},\n {'report_type': 'flood', 'flood_depth': 75},\n {'report_type': 'flood', 'flood_depth': 20},\n {'report_type': 'flood', 'flood_depth': 66},\n {'report_type': 'flood', 'flood_depth': 10},\n {'report_type': 'flood', 'flood_depth': 33},\n {'report_type': 'flood', 'flood_depth': 30},\n {'report_type': 'flood', 'flood_depth': 34},\n {'report_type': 'flood', 'flood_depth': 105},\n {'report_type': 'flood', 'flood_depth': 16},\n {'report_type': 'flood', 'flood_depth': 12},\n {'report_type': 'flood', 'flood_depth': 48},\n {'report_type': 'flood', 'flood_depth': 68},\n {'report_type': 'flood', 'flood_depth': 42},\n {'points': 1, 'flood_depth': 56, 'report_type': 'flood'},\n {'report_type': 'flood', 'flood_depth': 25},\n {'report_type': 'flood', 'flood_depth': 11},\n {'report_type': 'flood', 'flood_depth': 68},\n {'report_type': 'flood', 'flood_depth': 79},\n {'report_type': 'flood', 'flood_depth': 50},\n {'report_type': 'flood', 'flood_depth': 91},\n {'report_type': 'flood', 'flood_depth': 5},\n {'report_type': 'flood', 'flood_depth': 4},\n {'report_type': 'flood', 'flood_depth': 20},\n {'report_type': 'flood', 'flood_depth': 80},\n {'report_type': 'flood', 'flood_depth': 50},\n {'report_type': 'flood', 'flood_depth': 30},\n {'report_type': 'flood', 'flood_depth': 50},\n {'report_type': 'flood', 'flood_depth': 49},\n {'report_type': 'flood', 'flood_depth': 40},\n {'points': 1, 'flood_depth': 63, 'report_type': 'flood'},\n {'report_type': 'flood', 'flood_depth': 37},\n {'report_type': 'flood', 'flood_depth': 80},\n {'report_type': 'flood', 'flood_depth': 100},\n {'points': 1, 'flood_depth': 77, 'report_type': 'flood'},\n {'report_type': 'flood', 'flood_depth': 67},\n {'report_type': 'flood', 'flood_depth': 11},\n {'report_type': 'flood', 'flood_depth': 39},\n {'report_type': 'flood', 'flood_depth': 55},\n {'report_type': 'flood', 'flood_depth': 27},\n {'report_type': 'flood', 'flood_depth': 51},\n {'report_type': 'flood', 'flood_depth': 50},\n {'report_type': 'flood', 'flood_depth': 39},\n {'report_type': 'flood', 'flood_depth': 49},\n {'report_type': 'flood', 'flood_depth': 102},\n {'report_type': 'flood', 'flood_depth': 45},\n {'report_type': 'flood', 'flood_depth': 45},\n {'report_type': 'flood', 'flood_depth': 55},\n {'report_type': 'flood', 'flood_depth': 36},\n {'report_type': 'flood', 'flood_depth': 119},\n {'points': 1, 'flood_depth': 30, 'report_type': 'flood'},\n {'report_type': 'flood', 'flood_depth': 55},\n {'report_type': 'flood', 'flood_depth': 40},\n {'report_type': 'flood', 'flood_depth': 25},\n {'report_type': 'flood', 'flood_depth': 70},\n {'report_type': 'flood', 'flood_depth': 22},\n {'report_type': 'flood', 'flood_depth': 70},\n {'report_type': 'flood', 'flood_depth': 86},\n {'report_type': 'flood', 'flood_depth': 44},\n {'report_type': 'flood', 'flood_depth': 50},\n {'report_type': 'flood', 'flood_depth': 15},\n {'report_type': 'flood', 'flood_depth': 25},\n {'report_type': 'flood', 'flood_depth': 10},\n {'report_type': 'flood', 'flood_depth': 44},\n {'report_type': 'flood', 'flood_depth': 132},\n {'report_type': 'flood', 'flood_depth': 30},\n {'report_type': 'flood', 'flood_depth': 35},\n {'report_type': 'flood', 'flood_depth': 75},\n {'report_type': 'flood', 'flood_depth': 53},\n {'report_type': 'flood', 'flood_depth': 75},\n {'report_type': 'flood', 'flood_depth': 81},\n {'report_type': 'flood', 'flood_depth': 15},\n {'report_type': 'flood', 'flood_depth': 87},\n {'report_type': 'flood', 'flood_depth': 41},\n {'report_type': 'flood', 'flood_depth': 195},\n {'report_type': 'flood', 'flood_depth': 24},\n {'report_type': 'flood', 'flood_depth': 43},\n {'report_type': 'flood', 'flood_depth': 40},\n {'report_type': 'flood', 'flood_depth': 50},\n {'report_type': 'flood', 'flood_depth': 25},\n {'report_type': 'flood', 'flood_depth': 60},\n {'report_type': 'flood', 'flood_depth': 40},\n {'report_type': 'flood', 'flood_depth': 53},\n {'report_type': 'flood', 'flood_depth': 50},\n {'report_type': 'flood', 'flood_depth': 45},\n {'points': 1, 'flood_depth': 40, 'report_type': 'flood'},\n {'report_type': 'flood', 'flood_depth': 42},\n {'report_type': 'flood', 'flood_depth': 98},\n {'report_type': 'flood', 'flood_depth': 20},\n {'report_type': 'flood', 'flood_depth': 67},\n {'report_type': 'flood', 'flood_depth': 23},\n {'report_type': 'flood', 'flood_depth': 53},\n {'report_type': 'flood', 'flood_depth': 51},\n {'report_type': 'flood', 'flood_depth': 29},\n {'report_type': 'flood', 'flood_depth': 47},\n {'report_type': 'flood', 'flood_depth': 49},\n {'report_type': 'flood', 'flood_depth': 21},\n {'report_type': 'flood', 'flood_depth': 36},\n {'report_type': 'flood', 'flood_depth': 48},\n {'report_type': 'flood', 'flood_depth': 66},\n {'report_type': 'flood', 'flood_depth': 36},\n {'points': 1, 'flood_depth': 10, 'report_type': 'flood'},\n {'report_type': 'flood', 'flood_depth': 66},\n {'report_type': 'flood', 'flood_depth': 35},\n {'report_type': 'flood', 'flood_depth': 26},\n {'report_type': 'flood', 'flood_depth': 70},\n {'report_type': 'flood', 'flood_depth': 50},\n {'report_type': 'flood', 'flood_depth': 30},\n {'report_type': 'flood', 'flood_depth': 44},\n {'points': 1, 'flood_depth': 59, 'report_type': 'flood'},\n {'report_type': 'flood', 'flood_depth': 65},\n {'report_type': 'flood', 'flood_depth': 46},\n {'report_type': 'flood', 'flood_depth': 40},\n {'report_type': 'flood', 'flood_depth': 91},\n {'report_type': 'flood', 'flood_depth': 50},\n {'report_type': 'flood', 'flood_depth': 33},\n {'points': 1, 'flood_depth': 10, 'report_type': 'flood'},\n {'report_type': 'flood', 'flood_depth': 72},\n {'report_type': 'flood', 'flood_depth': 30},\n {'report_type': 'flood', 'flood_depth': 51},\n {'report_type': 'flood', 'flood_depth': 55},\n {'report_type': 'flood', 'flood_depth': 54},\n {'points': 1, 'flood_depth': 30, 'report_type': 'flood'},\n {'report_type': 'flood', 'flood_depth': 60},\n {'report_type': 'flood', 'flood_depth': 56},\n {'report_type': 'flood', 'flood_depth': 32},\n {'report_type': 'flood', 'flood_depth': 25},\n {'report_type': 'flood', 'flood_depth': 25},\n {'report_type': 'flood', 'flood_depth': 25},\n {'report_type': 'flood', 'flood_depth': 30},\n {'report_type': 'flood', 'flood_depth': 30},\n {'report_type': 'flood', 'flood_depth': 68},\n {'report_type': 'flood', 'flood_depth': 64},\n {'points': 1, 'flood_depth': 60, 'report_type': 'flood'},\n {'report_type': 'flood', 'flood_depth': 59},\n {'report_type': 'flood', 'flood_depth': 41},\n {'points': -2, 'flood_depth': 51, 'report_type': 'flood'},\n {'report_type': 'flood', 'flood_depth': 63},\n {'report_type': 'flood', 'flood_depth': 35},\n {'report_type': 'flood', 'flood_depth': 40},\n {'report_type': 'flood', 'flood_depth': 60},\n {'report_type': 'flood', 'flood_depth': 64},\n {'report_type': 'flood', 'flood_depth': 50},\n {'report_type': 'flood', 'flood_depth': 70},\n {'points': 1, 'flood_depth': 44, 'report_type': 'flood'},\n {'report_type': 'flood', 'flood_depth': 81},\n {'report_type': 'flood', 'flood_depth': 52},\n {'report_type': 'flood', 'flood_depth': 25},\n {'report_type': 'flood', 'flood_depth': 65},\n {'report_type': 'flood', 'flood_depth': 30},\n {'report_type': 'flood', 'flood_depth': 40},\n {'report_type': 'flood', 'flood_depth': 34},\n {'points': 1, 'flood_depth': 69, 'report_type': 'flood'},\n {'report_type': 'flood', 'flood_depth': 20},\n {'report_type': 'flood', 'flood_depth': 22},\n {'report_type': 'flood', 'flood_depth': 43},\n {'points': -1, 'flood_depth': 60, 'report_type': 'flood'},\n {'report_type': 'flood', 'flood_depth': 49},\n {'report_type': 'flood', 'flood_depth': 55},\n {'report_type': 'flood', 'flood_depth': 39},\n {'points': 1, 'flood_depth': 50, 'report_type': 'flood'},\n {'report_type': 'flood', 'flood_depth': 96},\n {'report_type': 'flood', 'flood_depth': 96},\n {'report_type': 'flood', 'flood_depth': 15},\n {'report_type': 'flood', 'flood_depth': 46},\n {'report_type': 'flood', 'flood_depth': 60},\n {'points': 1, 'flood_depth': 60, 'report_type': 'flood'},\n {'report_type': 'flood', 'flood_depth': 50},\n {'report_type': 'flood', 'flood_depth': 32},\n {'report_type': 'flood', 'flood_depth': 19},\n {'report_type': 'flood', 'flood_depth': 40},\n {'report_type': 'flood', 'flood_depth': 59},\n {'report_type': 'flood', 'flood_depth': 47},\n {'report_type': 'flood', 'flood_depth': 118},\n {'points': 1, 'flood_depth': 100, 'report_type': 'flood'},\n {'report_type': 'flood', 'flood_depth': 26},\n {'report_type': 'flood', 'flood_depth': 44},\n {'points': 1, 'flood_depth': 89, 'report_type': 'flood'},\n {'points': 1, 'flood_depth': 30, 'report_type': 'flood'},\n {'report_type': 'flood', 'flood_depth': 24},\n {'points': 1, 'flood_depth': 16, 'report_type': 'flood'},\n {'report_type': 'flood', 'flood_depth': 13},\n {'report_type': 'flood', 'flood_depth': 21},\n {'report_type': 'flood', 'flood_depth': 49},\n {'points': 1, 'flood_depth': 60, 'report_type': 'flood'},\n {'report_type': 'flood', 'flood_depth': 34},\n {'points': 1, 'flood_depth': 30, 'report_type': 'flood'},\n {'report_type': 'flood', 'flood_depth': 35},\n {'report_type': 'flood', 'flood_depth': 50},\n {'points': 1, 'flood_depth': 83, 'report_type': 'flood'},\n {'report_type': 'flood', 'flood_depth': 51},\n {'report_type': 'flood', 'flood_depth': 134},\n {'report_type': 'flood', 'flood_depth': 150},\n {'report_type': 'flood', 'flood_depth': 107},\n {'report_type': 'flood', 'flood_depth': 59},\n {'report_type': 'flood', 'flood_depth': 50},\n {'report_type': 'flood', 'flood_depth': 88},\n {'report_type': 'flood', 'flood_depth': 81},\n {'points': 1, 'flood_depth': 57, 'report_type': 'flood'},\n {'report_type': 'flood', 'flood_depth': 50},\n {'report_type': 'flood', 'flood_depth': 43},\n {'report_type': 'flood', 'flood_depth': 47},\n {'report_type': 'flood', 'flood_depth': 34},\n {'report_type': 'flood', 'flood_depth': 50},\n {'report_type': 'flood', 'flood_depth': 21},\n {'report_type': 'flood', 'flood_depth': 18},\n {'report_type': 'flood', 'flood_depth': 54},\n {'points': -1, 'flood_depth': 50, 'report_type': 'flood'},\n {'report_type': 'flood', 'flood_depth': 30},\n {'report_type': 'flood', 'flood_depth': 47},\n {'points': 1},\n {'points': 1, 'flood_depth': 49, 'report_type': 'flood'},\n {'report_type': 'flood', 'flood_depth': 70},\n {'report_type': 'flood', 'flood_depth': 70},\n {'points': 1},\n {'report_type': 'flood', 'flood_depth': 70},\n {'report_type': 'flood', 'flood_depth': 50},\n {'report_type': 'flood', 'flood_depth': 38},\n {'points': 1, 'flood_depth': 125, 'report_type': 'flood'},\n {'report_type': 'flood', 'flood_depth': 30},\n {'report_type': 'flood', 'flood_depth': 25},\n {'report_type': 'flood', 'flood_depth': 25},\n {'report_type': 'flood', 'flood_depth': 20},\n {'report_type': 'flood', 'flood_depth': 51},\n {'report_type': 'flood', 'flood_depth': 55},\n {'report_type': 'flood', 'flood_depth': 80},\n {'report_type': 'flood', 'flood_depth': 71},\n {'report_type': 'flood', 'flood_depth': 40},\n {'report_type': 'flood', 'flood_depth': 56},\n {'report_type': 'flood', 'flood_depth': 98},\n {'points': 1, 'flood_depth': 40, 'report_type': 'flood'},\n {'points': 1, 'flood_depth': 46, 'report_type': 'flood'},\n {'report_type': 'flood', 'flood_depth': 177},\n {'report_type': 'flood', 'flood_depth': 50},\n {'points': -1, 'flood_depth': 60, 'report_type': 'flood'},\n {'report_type': 'flood', 'flood_depth': 54},\n {'report_type': 'flood', 'flood_depth': 88},\n {'report_type': 'flood', 'flood_depth': 46},\n {'points': 0, 'flood_depth': 100, 'report_type': 'flood'},\n {'report_type': 'flood', 'flood_depth': 58},\n {'report_type': 'flood', 'flood_depth': 70},\n {'report_type': 'flood', 'flood_depth': 54},\n {'report_type': 'flood', 'flood_depth': 54},\n {'report_type': 'flood', 'flood_depth': 71},\n {'report_type': 'flood', 'flood_depth': 35},\n {'report_type': 'flood', 'flood_depth': 50},\n {'report_type': 'flood', 'flood_depth': 24},\n {'points': -1, 'flood_depth': 41, 'report_type': 'flood'},\n {'report_type': 'flood', 'flood_depth': 55},\n {'report_type': 'flood', 'flood_depth': 80},\n {'report_type': 'flood', 'flood_depth': 55},\n {'report_type': 'flood', 'flood_depth': 60},\n {'report_type': 'flood', 'flood_depth': 41},\n {'report_type': 'flood', 'flood_depth': 50},\n {'report_type': 'flood', 'flood_depth': 74},\n {'report_type': 'flood', 'flood_depth': 195},\n {'points': 1, 'flood_depth': 29, 'report_type': 'flood'},\n {'report_type': 'flood', 'flood_depth': 28},\n {'report_type': 'flood', 'flood_depth': 70},\n {'points': 1, 'flood_depth': 48, 'report_type': 'flood'},\n {'report_type': 'flood', 'flood_depth': 20},\n {'points': 1, 'flood_depth': 47, 'report_type': 'flood'},\n {'report_type': 'flood', 'flood_depth': 40},\n {'report_type': 'flood', 'flood_depth': 44},\n {'report_type': 'flood', 'flood_depth': 65},\n {'report_type': 'flood', 'flood_depth': 57},\n {'report_type': 'flood', 'flood_depth': 50},\n {'report_type': 'flood', 'flood_depth': 64},\n {'report_type': 'flood', 'flood_depth': 195},\n {'report_type': 'flood', 'flood_depth': 36},\n {'report_type': 'flood', 'flood_depth': 191},\n {'report_type': 'flood', 'flood_depth': 45},\n {'report_type': 'flood', 'flood_depth': 1},\n {'report_type': 'flood', 'flood_depth': 76},\n {'report_type': 'flood', 'flood_depth': 100},\n {'report_type': 'flood', 'flood_depth': 48},\n {'points': 1, 'flood_depth': 45, 'report_type': 'flood'},\n {'report_type': 'flood', 'flood_depth': 43},\n {'report_type': 'flood', 'flood_depth': 15},\n {'report_type': 'flood', 'flood_depth': 49},\n {'report_type': 'flood', 'flood_depth': 20},\n {'report_type': 'flood', 'flood_depth': 36},\n {'report_type': 'flood', 'flood_depth': 74},\n {'points': 1, 'flood_depth': 49, 'report_type': 'flood'},\n {'report_type': 'flood', 'flood_depth': 18},\n {'report_type': 'flood', 'flood_depth': 73},\n {'report_type': 'flood', 'flood_depth': 35},\n {'report_type': 'flood', 'flood_depth': 43},\n {'report_type': 'flood', 'flood_depth': 88},\n {'report_type': 'flood', 'flood_depth': 28},\n {'report_type': 'flood', 'flood_depth': 75},\n {'report_type': 'flood', 'flood_depth': 60},\n {'report_type': 'flood', 'flood_depth': 30},\n {'report_type': 'flood', 'flood_depth': 51},\n {'report_type': 'flood', 'flood_depth': 40},\n {'report_type': 'flood', 'flood_depth': 25},\n {'report_type': 'flood', 'flood_depth': 80},\n {'report_type': 'flood', 'flood_depth': 83},\n {'points': 1, 'flood_depth': 76, 'report_type': 'flood'},\n {'report_type': 'flood', 'flood_depth': 95},\n {'report_type': 'flood', 'flood_depth': 72},\n {'points': 1, 'flood_depth': 42, 'report_type': 'flood'},\n {'report_type': 'flood', 'flood_depth': 33},\n {'points': 0, 'flood_depth': 46, 'report_type': 'flood'},\n {'report_type': 'flood', 'flood_depth': 58},\n {'points': 0, 'flood_depth': 72, 'report_type': 'flood'},\n {'report_type': 'flood', 'flood_depth': 55},\n {'report_type': 'flood', 'flood_depth': 26},\n {'report_type': 'flood', 'flood_depth': 36},\n {'report_type': 'flood', 'flood_depth': 101},\n {'points': -1, 'flood_depth': 30, 'report_type': 'flood'},\n {'report_type': 'flood', 'flood_depth': 54},\n {'report_type': 'flood', 'flood_depth': 58},\n {'report_type': 'flood', 'flood_depth': 75},\n {'report_type': 'flood', 'flood_depth': 34},\n {'report_type': 'flood', 'flood_depth': 75},\n {'report_type': 'flood', 'flood_depth': 50},\n {'points': -1, 'flood_depth': 70, 'report_type': 'flood'},\n {'report_type': 'flood', 'flood_depth': 48},\n {'report_type': 'flood', 'flood_depth': 76},\n {'points': 1, 'flood_depth': 37, 'report_type': 'flood'},\n {'report_type': 'flood', 'flood_depth': 95},\n {'report_type': 'flood', 'flood_depth': 42},\n {'report_type': 'flood', 'flood_depth': 50},\n {'points': 1, 'flood_depth': 70, 'report_type': 'flood'},\n {'report_type': 'flood', 'flood_depth': 48},\n {'report_type': 'flood', 'flood_depth': 30},\n {'report_type': 'flood', 'flood_depth': 48},\n {'report_type': 'flood', 'flood_depth': 144},\n {'points': 0, 'flood_depth': 67, 'report_type': 'flood'},\n {'report_type': 'flood', 'flood_depth': 55},\n {'report_type': 'flood', 'flood_depth': 16},\n {'report_type': 'flood', 'flood_depth': 40},\n {'report_type': 'flood', 'flood_depth': 50},\n {'report_type': 'flood', 'flood_depth': 49},\n {'report_type': 'flood', 'flood_depth': 40},\n {'points': 1, 'flood_depth': 127, 'report_type': 'flood'},\n {'report_type': 'flood', 'flood_depth': 56},\n {'report_type': 'flood', 'flood_depth': 50},\n {'report_type': 'flood', 'flood_depth': 60},\n {'report_type': 'flood', 'flood_depth': 23},\n {'report_type': 'flood', 'flood_depth': 49},\n {'report_type': 'flood', 'flood_depth': 44},\n {'report_type': 'flood', 'flood_depth': 30},\n {'points': 1, 'flood_depth': 83, 'report_type': 'flood'},\n {'report_type': 'flood', 'flood_depth': 42},\n {'report_type': 'flood', 'flood_depth': 103},\n {'points': 1, 'flood_depth': 41, 'report_type': 'flood'},\n {'report_type': 'flood', 'flood_depth': 50},\n {'points': 1, 'flood_depth': 58, 'report_type': 'flood'},\n {'report_type': 'flood', 'flood_depth': 41},\n {'report_type': 'flood', 'flood_depth': 50},\n {'report_type': 'flood', 'flood_depth': 26},\n {'report_type': 'flood', 'flood_depth': 35},\n {'report_type': 'flood', 'flood_depth': 36},\n {'report_type': 'flood', 'flood_depth': 69},\n {'report_type': 'flood', 'flood_depth': 50},\n {'report_type': 'flood', 'flood_depth': 54},\n {'report_type': 'flood', 'flood_depth': 99},\n {'report_type': 'flood', 'flood_depth': 50},\n {'points': -1, 'flood_depth': 25, 'report_type': 'flood'},\n {'points': 1, 'flood_depth': 24, 'report_type': 'flood'},\n {'report_type': 'flood', 'flood_depth': 90},\n {'report_type': 'flood', 'flood_depth': 49},\n {'report_type': 'flood', 'flood_depth': 60},\n {'report_type': 'flood', 'flood_depth': 19},\n {'report_type': 'flood', 'flood_depth': 63},\n {'report_type': 'flood', 'flood_depth': 34},\n {'report_type': 'flood', 'flood_depth': 41},\n {'report_type': 'flood', 'flood_depth': 50},\n {'report_type': 'flood', 'flood_depth': 40},\n {'points': 1, 'flood_depth': 63, 'report_type': 'flood'},\n {'points': 1, 'flood_depth': 20, 'report_type': 'flood'},\n {'report_type': 'flood', 'flood_depth': 50},\n {'report_type': 'flood', 'flood_depth': 60},\n {'report_type': 'flood', 'flood_depth': 53},\n {'report_type': 'flood', 'flood_depth': 60},\n {'report_type': 'flood', 'flood_depth': 58},\n {'points': 3, 'flood_depth': 21, 'report_type': 'flood'},\n {'points': 1, 'flood_depth': 20, 'report_type': 'flood'},\n {'points': 2, 'flood_depth': 63, 'report_type': 'flood'},\n {'report_type': 'flood', 'flood_depth': 20},\n {'report_type': 'flood', 'flood_depth': 35},\n {'points': 1, 'flood_depth': 54, 'report_type': 'flood'},\n {'report_type': 'flood', 'flood_depth': 20},\n {'points': 1, 'flood_depth': 47, 'report_type': 'flood'},\n {'points': 1, 'flood_depth': 61, 'report_type': 'flood'},\n {'points': 2, 'flood_depth': 50, 'report_type': 'flood'},\n {'points': 1, 'flood_depth': 71, 'report_type': 'flood'},\n {'points': 1, 'flood_depth': 60, 'report_type': 'flood'},\n {'points': 1, 'flood_depth': 61, 'report_type': 'flood'},\n {'points': 1, 'flood_depth': 49, 'report_type': 'flood'},\n {'report_type': 'flood', 'flood_depth': 50},\n {'points': -1, 'flood_depth': 80, 'report_type': 'flood'},\n {'points': 2, 'flood_depth': 112, 'report_type': 'flood'},\n {'points': 1, 'flood_depth': 28, 'report_type': 'flood'},\n {'report_type': 'flood', 'flood_depth': 73},\n {'points': 1, 'flood_depth': 39, 'report_type': 'flood'},\n {'points': 1, 'flood_depth': 30, 'report_type': 'flood'},\n {'points': 1, 'flood_depth': 24, 'report_type': 'flood'},\n {'report_type': 'flood', 'flood_depth': 80},\n {'report_type': 'flood', 'flood_depth': 29},\n {'points': 4, 'flood_depth': 107, 'report_type': 'flood'},\n {'points': 1, 'flood_depth': 30, 'report_type': 'flood'},\n {'report_type': 'flood', 'flood_depth': 50},\n {'points': 1, 'flood_depth': 87, 'report_type': 'flood'},\n {'points': 0, 'flood_depth': 39, 'report_type': 'flood'},\n {'points': 1, 'flood_depth': 84, 'report_type': 'flood'},\n {'points': 1, 'flood_depth': 55, 'report_type': 'flood'},\n {'points': 1, 'flood_depth': 20, 'report_type': 'flood'},\n {'points': 1, 'flood_depth': 48, 'report_type': 'flood'},\n {'points': 1, 'flood_depth': 37, 'report_type': 'flood'},\n {'points': 1, 'flood_depth': 28, 'report_type': 'flood'},\n {'points': 1, 'flood_depth': 60, 'report_type': 'flood'},\n {'points': 1, 'flood_depth': 50, 'report_type': 'flood'},\n {'report_type': 'flood', 'flood_depth': 18},\n {'report_type': 'flood', 'flood_depth': 23},\n {'points': 1, 'flood_depth': 14, 'report_type': 'flood'},\n {'points': 1, 'flood_depth': 61, 'report_type': 'flood'},\n {'points': 1, 'flood_depth': 49, 'report_type': 'flood'},\n {'points': 0, 'flood_depth': 112, 'report_type': 'flood'},\n {'report_type': 'flood', 'flood_depth': 62},\n {'points': 1, 'flood_depth': 50, 'report_type': 'flood'},\n {'report_type': 'flood', 'flood_depth': 35},\n {'report_type': 'flood', 'flood_depth': 76},\n {'points': 1, 'flood_depth': 49, 'report_type': 'flood'},\n {'report_type': 'flood', 'flood_depth': 10},\n {'points': 1, 'flood_depth': 33, 'report_type': 'flood'},\n {'points': 0, 'flood_depth': 48, 'report_type': 'flood'},\n {'points': 5, 'flood_depth': 75, 'report_type': 'flood'},\n {'points': 1, 'flood_depth': 65, 'report_type': 'flood'},\n {'points': 1, 'flood_depth': 34, 'report_type': 'flood'},\n {'points': 1, 'flood_depth': 42, 'report_type': 'flood'},\n {'points': 1, 'flood_depth': 45, 'report_type': 'flood'},\n {'points': 1, 'flood_depth': 44, 'report_type': 'flood'},\n {'report_type': 'flood', 'flood_depth': 70},\n {'points': 1, 'flood_depth': 50, 'report_type': 'flood'},\n {'points': 4, 'flood_depth': 49, 'report_type': 'flood'},\n {'points': -2, 'flood_depth': 47, 'report_type': 'flood'},\n {'report_type': 'flood', 'flood_depth': 16},\n {'points': 1, 'flood_depth': 20, 'report_type': 'flood'},\n {'points': 1, 'flood_depth': 40, 'report_type': 'flood'},\n {'points': 1, 'flood_depth': 60, 'report_type': 'flood'},\n {'points': 1, 'flood_depth': 50, 'report_type': 'flood'},\n {'report_type': 'flood', 'flood_depth': 78},\n {'points': 1, 'flood_depth': 95, 'report_type': 'flood'},\n {'report_type': 'flood', 'flood_depth': 100},\n {'report_type': 'flood', 'flood_depth': 45},\n {'points': 1, 'flood_depth': 51, 'report_type': 'flood'},\n {'points': 1, 'flood_depth': 128, 'report_type': 'flood'},\n {'points': 0, 'flood_depth': 30, 'report_type': 'flood'},\n {'points': 1, 'flood_depth': 44, 'report_type': 'flood'},\n {'points': 1, 'flood_depth': 57, 'report_type': 'flood'},\n {'report_type': 'flood', 'flood_depth': 34},\n {'points': 1, 'flood_depth': 30, 'report_type': 'flood'},\n {'report_type': 'flood', 'flood_depth': 45},\n {'report_type': 'flood', 'flood_depth': 60},\n {'points': 1, 'flood_depth': 59, 'report_type': 'flood'},\n {'points': 2, 'flood_depth': 30, 'report_type': 'flood'},\n {'points': 1, 'flood_depth': 40, 'report_type': 'flood'},\n {'report_type': 'flood', 'flood_depth': 20},\n {'report_type': 'flood', 'flood_depth': 72},\n {'report_type': 'flood', 'flood_depth': 49},\n {'points': 1, 'flood_depth': 76, 'report_type': 'flood'},\n {'points': 1, 'flood_depth': 48, 'report_type': 'flood'},\n {'points': 1, 'flood_depth': 70, 'report_type': 'flood'},\n {'report_type': 'flood', 'flood_depth': 29},\n {'report_type': 'flood', 'flood_depth': 54},\n {'report_type': 'flood', 'flood_depth': 125},\n {'report_type': 'flood', 'flood_depth': 148},\n {'report_type': 'flood', 'flood_depth': 24},\n {'report_type': 'flood', 'flood_depth': 121},\n {'report_type': 'flood', 'flood_depth': 50},\n {'points': 1},\n {'points': 1, 'flood_depth': 16, 'report_type': 'flood'},\n {'report_type': 'flood', 'flood_depth': 77},\n {'report_type': 'flood', 'flood_depth': 29},\n {'report_type': 'flood', 'flood_depth': 39},\n {'report_type': 'flood', 'flood_depth': 100},\n {'points': 0, 'flood_depth': 30, 'report_type': 'flood'},\n ...]"
     },
     "metadata": {}
    }
   ]
  },
  {
   "cell_type": "code",
   "metadata": {
    "cell_id": "24c99ab2cb2346b59f21553aa3b611a4",
    "tags": [],
    "deepnote_to_be_reexecuted": false,
    "source_hash": "cf9c6495",
    "execution_start": 1661016414381,
    "execution_millis": 53,
    "deepnote_cell_type": "code",
    "deepnote_cell_height": 630
   },
   "source": "y = pd.DataFrame(result)\ny",
   "execution_count": 6,
   "outputs": [
    {
     "output_type": "execute_result",
     "execution_count": 6,
     "data": {
      "application/vnd.deepnote.dataframe.v3+json": {
       "column_count": 16,
       "row_count": 3043,
       "columns": [
        {
         "name": "report_type",
         "dtype": "object",
         "stats": {
          "unique_count": 7,
          "nan_count": 73,
          "categories": [
           {
            "name": "flood",
            "count": 2774
           },
           {
            "name": "6 others",
            "count": 196
           },
           {
            "name": "Missing",
            "count": 73
           }
          ]
         }
        },
        {
         "name": "flood_depth",
         "dtype": "float64",
         "stats": {
          "unique_count": 185,
          "nan_count": 269,
          "min": "0.0",
          "max": "200.0",
          "histogram": [
           {
            "bin_start": 0,
            "bin_end": 20,
            "count": 176
           },
           {
            "bin_start": 20,
            "bin_end": 40,
            "count": 645
           },
           {
            "bin_start": 40,
            "bin_end": 60,
            "count": 917
           },
           {
            "bin_start": 60,
            "bin_end": 80,
            "count": 390
           },
           {
            "bin_start": 80,
            "bin_end": 100,
            "count": 255
           },
           {
            "bin_start": 100,
            "bin_end": 120,
            "count": 146
           },
           {
            "bin_start": 120,
            "bin_end": 140,
            "count": 92
           },
           {
            "bin_start": 140,
            "bin_end": 160,
            "count": 59
           },
           {
            "bin_start": 160,
            "bin_end": 180,
            "count": 20
           },
           {
            "bin_start": 180,
            "bin_end": 200,
            "count": 74
           }
          ]
         }
        },
        {
         "name": "points",
         "dtype": "float64",
         "stats": {
          "unique_count": 13,
          "nan_count": 2320,
          "min": "-7.0",
          "max": "20.0",
          "histogram": [
           {
            "bin_start": -7,
            "bin_end": -4.3,
            "count": 1
           },
           {
            "bin_start": -4.3,
            "bin_end": -1.5999999999999996,
            "count": 14
           },
           {
            "bin_start": -1.5999999999999996,
            "bin_end": 1.1000000000000014,
            "count": 588
           },
           {
            "bin_start": 1.1000000000000014,
            "bin_end": 3.8000000000000007,
            "count": 105
           },
           {
            "bin_start": 3.8000000000000007,
            "bin_end": 6.5,
            "count": 13
           },
           {
            "bin_start": 6.5,
            "bin_end": 9.200000000000003,
            "count": 1
           },
           {
            "bin_start": 9.200000000000003,
            "bin_end": 11.900000000000002,
            "count": 0
           },
           {
            "bin_start": 11.900000000000002,
            "bin_end": 14.600000000000001,
            "count": 0
           },
           {
            "bin_start": 14.600000000000001,
            "bin_end": 17.3,
            "count": 0
           },
           {
            "bin_start": 17.3,
            "bin_end": 20,
            "count": 1
           }
          ]
         }
        },
        {
         "name": "structureFailure",
         "dtype": "float64",
         "stats": {
          "unique_count": 3,
          "nan_count": 2978,
          "min": "0.0",
          "max": "2.0",
          "histogram": [
           {
            "bin_start": 0,
            "bin_end": 0.2,
            "count": 28
           },
           {
            "bin_start": 0.2,
            "bin_end": 0.4,
            "count": 0
           },
           {
            "bin_start": 0.4,
            "bin_end": 0.6000000000000001,
            "count": 0
           },
           {
            "bin_start": 0.6000000000000001,
            "bin_end": 0.8,
            "count": 0
           },
           {
            "bin_start": 0.8,
            "bin_end": 1,
            "count": 0
           },
           {
            "bin_start": 1,
            "bin_end": 1.2000000000000002,
            "count": 27
           },
           {
            "bin_start": 1.2000000000000002,
            "bin_end": 1.4000000000000001,
            "count": 0
           },
           {
            "bin_start": 1.4000000000000001,
            "bin_end": 1.6,
            "count": 0
           },
           {
            "bin_start": 1.6,
            "bin_end": 1.8,
            "count": 0
           },
           {
            "bin_start": 1.8,
            "bin_end": 2,
            "count": 10
           }
          ]
         }
        },
        {
         "name": "accessabilityFailure",
         "dtype": "float64",
         "stats": {
          "unique_count": 5,
          "nan_count": 2999,
          "min": "0.0",
          "max": "4.0",
          "histogram": [
           {
            "bin_start": 0,
            "bin_end": 0.4,
            "count": 9
           },
           {
            "bin_start": 0.4,
            "bin_end": 0.8,
            "count": 0
           },
           {
            "bin_start": 0.8,
            "bin_end": 1.2000000000000002,
            "count": 9
           },
           {
            "bin_start": 1.2000000000000002,
            "bin_end": 1.6,
            "count": 0
           },
           {
            "bin_start": 1.6,
            "bin_end": 2,
            "count": 0
           },
           {
            "bin_start": 2,
            "bin_end": 2.4000000000000004,
            "count": 5
           },
           {
            "bin_start": 2.4000000000000004,
            "bin_end": 2.8000000000000003,
            "count": 0
           },
           {
            "bin_start": 2.8000000000000003,
            "bin_end": 3.2,
            "count": 4
           },
           {
            "bin_start": 3.2,
            "bin_end": 3.6,
            "count": 0
           },
           {
            "bin_start": 3.6,
            "bin_end": 4,
            "count": 17
           }
          ]
         }
        },
        {
         "name": "condition",
         "dtype": "float64",
         "stats": {
          "unique_count": 3,
          "nan_count": 2999,
          "min": "0.0",
          "max": "2.0",
          "histogram": [
           {
            "bin_start": 0,
            "bin_end": 0.2,
            "count": 23
           },
           {
            "bin_start": 0.2,
            "bin_end": 0.4,
            "count": 0
           },
           {
            "bin_start": 0.4,
            "bin_end": 0.6000000000000001,
            "count": 0
           },
           {
            "bin_start": 0.6000000000000001,
            "bin_end": 0.8,
            "count": 0
           },
           {
            "bin_start": 0.8,
            "bin_end": 1,
            "count": 0
           },
           {
            "bin_start": 1,
            "bin_end": 1.2000000000000002,
            "count": 12
           },
           {
            "bin_start": 1.2000000000000002,
            "bin_end": 1.4000000000000001,
            "count": 0
           },
           {
            "bin_start": 1.4000000000000001,
            "bin_end": 1.6,
            "count": 0
           },
           {
            "bin_start": 1.6,
            "bin_end": 1.8,
            "count": 0
           },
           {
            "bin_start": 1.8,
            "bin_end": 2,
            "count": 9
           }
          ]
         }
        },
        {
         "name": "impact",
         "dtype": "float64",
         "stats": {
          "unique_count": 3,
          "nan_count": 2987,
          "min": "0.0",
          "max": "2.0",
          "histogram": [
           {
            "bin_start": 0,
            "bin_end": 0.2,
            "count": 18
           },
           {
            "bin_start": 0.2,
            "bin_end": 0.4,
            "count": 0
           },
           {
            "bin_start": 0.4,
            "bin_end": 0.6000000000000001,
            "count": 0
           },
           {
            "bin_start": 0.6000000000000001,
            "bin_end": 0.8,
            "count": 0
           },
           {
            "bin_start": 0.8,
            "bin_end": 1,
            "count": 0
           },
           {
            "bin_start": 1,
            "bin_end": 1.2000000000000002,
            "count": 29
           },
           {
            "bin_start": 1.2000000000000002,
            "bin_end": 1.4000000000000001,
            "count": 0
           },
           {
            "bin_start": 1.4000000000000001,
            "bin_end": 1.6,
            "count": 0
           },
           {
            "bin_start": 1.6,
            "bin_end": 1.8,
            "count": 0
           },
           {
            "bin_start": 1.8,
            "bin_end": 2,
            "count": 9
           }
          ]
         }
        },
        {
         "name": "fireDistance",
         "dtype": "float64",
         "stats": {
          "unique_count": 12,
          "nan_count": 3031,
          "min": "21.340776",
          "max": "261.204693",
          "histogram": [
           {
            "bin_start": 21.340776,
            "bin_end": 45.327167700000004,
            "count": 1
           },
           {
            "bin_start": 45.327167700000004,
            "bin_end": 69.3135594,
            "count": 2
           },
           {
            "bin_start": 69.3135594,
            "bin_end": 93.29995110000002,
            "count": 0
           },
           {
            "bin_start": 93.29995110000002,
            "bin_end": 117.28634280000001,
            "count": 0
           },
           {
            "bin_start": 117.28634280000001,
            "bin_end": 141.2727345,
            "count": 2
           },
           {
            "bin_start": 141.2727345,
            "bin_end": 165.25912620000003,
            "count": 1
           },
           {
            "bin_start": 165.25912620000003,
            "bin_end": 189.2455179,
            "count": 3
           },
           {
            "bin_start": 189.2455179,
            "bin_end": 213.23190960000002,
            "count": 2
           },
           {
            "bin_start": 213.23190960000002,
            "bin_end": 237.21830130000004,
            "count": 0
           },
           {
            "bin_start": 237.21830130000004,
            "bin_end": 261.204693,
            "count": 1
           }
          ]
         }
        },
        {
         "name": "fireLocation",
         "dtype": "object",
         "stats": {
          "unique_count": 3043,
          "nan_count": 3031,
          "categories": [
           {
            "name": "{'lat': -6.908612, 'lng': 107.795641}",
            "count": 1
           },
           {
            "name": "11 others",
            "count": 11
           },
           {
            "name": "Missing",
            "count": 3031
           }
          ]
         }
        },
        {
         "name": "personLocation",
         "dtype": "object",
         "stats": {
          "unique_count": 3043,
          "nan_count": 3031,
          "categories": [
           {
            "name": "{'lat': -6.91504, 'lng': 107.699729}",
            "count": 1
           },
           {
            "name": "11 others",
            "count": 11
           },
           {
            "name": "Missing",
            "count": 3031
           }
          ]
         }
        },
        {
         "name": "fireRadius",
         "dtype": "object",
         "stats": {
          "unique_count": 3043,
          "nan_count": 3031,
          "categories": [
           {
            "name": "{'lat': -6.908621, 'lng': 107.795448}",
            "count": 1
           },
           {
            "name": "11 others",
            "count": 11
           },
           {
            "name": "Missing",
            "count": 3031
           }
          ]
         }
        },
        {
         "name": "volcanicSigns",
         "dtype": "object",
         "stats": {
          "unique_count": 3043,
          "nan_count": 3026,
          "categories": [
           {
            "name": "[4]",
            "count": 11
           },
           {
            "name": "5 others",
            "count": 6
           },
           {
            "name": "Missing",
            "count": 3026
           }
          ]
         }
        },
        {
         "name": "evacuationNumber",
         "dtype": "float64",
         "stats": {
          "unique_count": 3,
          "nan_count": 3026,
          "min": "1.0",
          "max": "3.0",
          "histogram": [
           {
            "bin_start": 1,
            "bin_end": 1.2,
            "count": 5
           },
           {
            "bin_start": 1.2,
            "bin_end": 1.4,
            "count": 0
           },
           {
            "bin_start": 1.4,
            "bin_end": 1.6,
            "count": 0
           },
           {
            "bin_start": 1.6,
            "bin_end": 1.8,
            "count": 0
           },
           {
            "bin_start": 1.8,
            "bin_end": 2,
            "count": 0
           },
           {
            "bin_start": 2,
            "bin_end": 2.2,
            "count": 7
           },
           {
            "bin_start": 2.2,
            "bin_end": 2.4000000000000004,
            "count": 0
           },
           {
            "bin_start": 2.4000000000000004,
            "bin_end": 2.6,
            "count": 0
           },
           {
            "bin_start": 2.6,
            "bin_end": 2.8,
            "count": 0
           },
           {
            "bin_start": 2.8,
            "bin_end": 3,
            "count": 5
           }
          ]
         }
        },
        {
         "name": "evacuationArea",
         "dtype": "object",
         "stats": {
          "unique_count": 2,
          "nan_count": 3026,
          "categories": [
           {
            "name": "True",
            "count": 15
           },
           {
            "name": "False",
            "count": 2
           },
           {
            "name": "Missing",
            "count": 3026
           }
          ]
         }
        },
        {
         "name": "visibility",
         "dtype": "float64",
         "stats": {
          "unique_count": 1,
          "nan_count": 3041,
          "min": "0.0",
          "max": "0.0",
          "histogram": [
           {
            "bin_start": -0.5,
            "bin_end": -0.4,
            "count": 0
           },
           {
            "bin_start": -0.4,
            "bin_end": -0.3,
            "count": 0
           },
           {
            "bin_start": -0.3,
            "bin_end": -0.19999999999999996,
            "count": 0
           },
           {
            "bin_start": -0.19999999999999996,
            "bin_end": -0.09999999999999998,
            "count": 0
           },
           {
            "bin_start": -0.09999999999999998,
            "bin_end": 0,
            "count": 0
           },
           {
            "bin_start": 0,
            "bin_end": 0.10000000000000009,
            "count": 2
           },
           {
            "bin_start": 0.10000000000000009,
            "bin_end": 0.20000000000000007,
            "count": 0
           },
           {
            "bin_start": 0.20000000000000007,
            "bin_end": 0.30000000000000004,
            "count": 0
           },
           {
            "bin_start": 0.30000000000000004,
            "bin_end": 0.4,
            "count": 0
           },
           {
            "bin_start": 0.4,
            "bin_end": 0.5,
            "count": 0
           }
          ]
         }
        },
        {
         "name": "airQuality",
         "dtype": "float64",
         "stats": {
          "unique_count": 1,
          "nan_count": 3041,
          "min": "1.0",
          "max": "1.0",
          "histogram": [
           {
            "bin_start": 0.5,
            "bin_end": 0.6,
            "count": 0
           },
           {
            "bin_start": 0.6,
            "bin_end": 0.7,
            "count": 0
           },
           {
            "bin_start": 0.7,
            "bin_end": 0.8,
            "count": 0
           },
           {
            "bin_start": 0.8,
            "bin_end": 0.9,
            "count": 0
           },
           {
            "bin_start": 0.9,
            "bin_end": 1,
            "count": 0
           },
           {
            "bin_start": 1,
            "bin_end": 1.1,
            "count": 2
           },
           {
            "bin_start": 1.1,
            "bin_end": 1.2000000000000002,
            "count": 0
           },
           {
            "bin_start": 1.2000000000000002,
            "bin_end": 1.3,
            "count": 0
           },
           {
            "bin_start": 1.3,
            "bin_end": 1.4,
            "count": 0
           },
           {
            "bin_start": 1.4,
            "bin_end": 1.5,
            "count": 0
           }
          ]
         }
        },
        {
         "name": "_deepnote_index_column",
         "dtype": "int64"
        }
       ],
       "rows": [
        {
         "report_type": "flood",
         "flood_depth": 30,
         "points": "nan",
         "structureFailure": "nan",
         "accessabilityFailure": "nan",
         "condition": "nan",
         "impact": "nan",
         "fireDistance": "nan",
         "fireLocation": "nan",
         "personLocation": "nan",
         "fireRadius": "nan",
         "volcanicSigns": "nan",
         "evacuationNumber": "nan",
         "evacuationArea": "nan",
         "visibility": "nan",
         "airQuality": "nan",
         "_deepnote_index_column": 0
        },
        {
         "report_type": "flood",
         "flood_depth": 80,
         "points": 1,
         "structureFailure": "nan",
         "accessabilityFailure": "nan",
         "condition": "nan",
         "impact": "nan",
         "fireDistance": "nan",
         "fireLocation": "nan",
         "personLocation": "nan",
         "fireRadius": "nan",
         "volcanicSigns": "nan",
         "evacuationNumber": "nan",
         "evacuationArea": "nan",
         "visibility": "nan",
         "airQuality": "nan",
         "_deepnote_index_column": 1
        },
        {
         "report_type": "flood",
         "flood_depth": 51,
         "points": 1,
         "structureFailure": "nan",
         "accessabilityFailure": "nan",
         "condition": "nan",
         "impact": "nan",
         "fireDistance": "nan",
         "fireLocation": "nan",
         "personLocation": "nan",
         "fireRadius": "nan",
         "volcanicSigns": "nan",
         "evacuationNumber": "nan",
         "evacuationArea": "nan",
         "visibility": "nan",
         "airQuality": "nan",
         "_deepnote_index_column": 2
        },
        {
         "report_type": "flood",
         "flood_depth": 100,
         "points": 2,
         "structureFailure": "nan",
         "accessabilityFailure": "nan",
         "condition": "nan",
         "impact": "nan",
         "fireDistance": "nan",
         "fireLocation": "nan",
         "personLocation": "nan",
         "fireRadius": "nan",
         "volcanicSigns": "nan",
         "evacuationNumber": "nan",
         "evacuationArea": "nan",
         "visibility": "nan",
         "airQuality": "nan",
         "_deepnote_index_column": 3
        },
        {
         "report_type": "flood",
         "flood_depth": 60,
         "points": "nan",
         "structureFailure": "nan",
         "accessabilityFailure": "nan",
         "condition": "nan",
         "impact": "nan",
         "fireDistance": "nan",
         "fireLocation": "nan",
         "personLocation": "nan",
         "fireRadius": "nan",
         "volcanicSigns": "nan",
         "evacuationNumber": "nan",
         "evacuationArea": "nan",
         "visibility": "nan",
         "airQuality": "nan",
         "_deepnote_index_column": 4
        },
        {
         "report_type": "flood",
         "flood_depth": 39,
         "points": "nan",
         "structureFailure": "nan",
         "accessabilityFailure": "nan",
         "condition": "nan",
         "impact": "nan",
         "fireDistance": "nan",
         "fireLocation": "nan",
         "personLocation": "nan",
         "fireRadius": "nan",
         "volcanicSigns": "nan",
         "evacuationNumber": "nan",
         "evacuationArea": "nan",
         "visibility": "nan",
         "airQuality": "nan",
         "_deepnote_index_column": 5
        },
        {
         "report_type": "flood",
         "flood_depth": 79,
         "points": "nan",
         "structureFailure": "nan",
         "accessabilityFailure": "nan",
         "condition": "nan",
         "impact": "nan",
         "fireDistance": "nan",
         "fireLocation": "nan",
         "personLocation": "nan",
         "fireRadius": "nan",
         "volcanicSigns": "nan",
         "evacuationNumber": "nan",
         "evacuationArea": "nan",
         "visibility": "nan",
         "airQuality": "nan",
         "_deepnote_index_column": 6
        },
        {
         "report_type": "flood",
         "flood_depth": 116,
         "points": "nan",
         "structureFailure": "nan",
         "accessabilityFailure": "nan",
         "condition": "nan",
         "impact": "nan",
         "fireDistance": "nan",
         "fireLocation": "nan",
         "personLocation": "nan",
         "fireRadius": "nan",
         "volcanicSigns": "nan",
         "evacuationNumber": "nan",
         "evacuationArea": "nan",
         "visibility": "nan",
         "airQuality": "nan",
         "_deepnote_index_column": 7
        },
        {
         "report_type": "flood",
         "flood_depth": 60,
         "points": "nan",
         "structureFailure": "nan",
         "accessabilityFailure": "nan",
         "condition": "nan",
         "impact": "nan",
         "fireDistance": "nan",
         "fireLocation": "nan",
         "personLocation": "nan",
         "fireRadius": "nan",
         "volcanicSigns": "nan",
         "evacuationNumber": "nan",
         "evacuationArea": "nan",
         "visibility": "nan",
         "airQuality": "nan",
         "_deepnote_index_column": 8
        },
        {
         "report_type": "nan",
         "flood_depth": "nan",
         "points": 1,
         "structureFailure": "nan",
         "accessabilityFailure": "nan",
         "condition": "nan",
         "impact": "nan",
         "fireDistance": "nan",
         "fireLocation": "nan",
         "personLocation": "nan",
         "fireRadius": "nan",
         "volcanicSigns": "nan",
         "evacuationNumber": "nan",
         "evacuationArea": "nan",
         "visibility": "nan",
         "airQuality": "nan",
         "_deepnote_index_column": 9
        }
       ]
      },
      "text/plain": "     report_type  flood_depth  points  structureFailure  accessabilityFailure  \\\n0          flood         30.0     NaN               NaN                   NaN   \n1          flood         80.0     1.0               NaN                   NaN   \n2          flood         51.0     1.0               NaN                   NaN   \n3          flood        100.0     2.0               NaN                   NaN   \n4          flood         60.0     NaN               NaN                   NaN   \n...          ...          ...     ...               ...                   ...   \n3038       flood         68.0     1.0               NaN                   NaN   \n3039       flood        103.0     NaN               NaN                   NaN   \n3040       flood         54.0     NaN               NaN                   NaN   \n3041       flood         19.0     NaN               NaN                   NaN   \n3042       flood         22.0     NaN               NaN                   NaN   \n\n      condition  impact  fireDistance fireLocation personLocation fireRadius  \\\n0           NaN     NaN           NaN          NaN            NaN        NaN   \n1           NaN     NaN           NaN          NaN            NaN        NaN   \n2           NaN     NaN           NaN          NaN            NaN        NaN   \n3           NaN     NaN           NaN          NaN            NaN        NaN   \n4           NaN     NaN           NaN          NaN            NaN        NaN   \n...         ...     ...           ...          ...            ...        ...   \n3038        NaN     NaN           NaN          NaN            NaN        NaN   \n3039        NaN     NaN           NaN          NaN            NaN        NaN   \n3040        NaN     NaN           NaN          NaN            NaN        NaN   \n3041        NaN     NaN           NaN          NaN            NaN        NaN   \n3042        NaN     NaN           NaN          NaN            NaN        NaN   \n\n     volcanicSigns  evacuationNumber evacuationArea  visibility  airQuality  \n0              NaN               NaN            NaN         NaN         NaN  \n1              NaN               NaN            NaN         NaN         NaN  \n2              NaN               NaN            NaN         NaN         NaN  \n3              NaN               NaN            NaN         NaN         NaN  \n4              NaN               NaN            NaN         NaN         NaN  \n...            ...               ...            ...         ...         ...  \n3038           NaN               NaN            NaN         NaN         NaN  \n3039           NaN               NaN            NaN         NaN         NaN  \n3040           NaN               NaN            NaN         NaN         NaN  \n3041           NaN               NaN            NaN         NaN         NaN  \n3042           NaN               NaN            NaN         NaN         NaN  \n\n[3043 rows x 16 columns]",
      "text/html": "<div>\n<style scoped>\n    .dataframe tbody tr th:only-of-type {\n        vertical-align: middle;\n    }\n\n    .dataframe tbody tr th {\n        vertical-align: top;\n    }\n\n    .dataframe thead th {\n        text-align: right;\n    }\n</style>\n<table border=\"1\" class=\"dataframe\">\n  <thead>\n    <tr style=\"text-align: right;\">\n      <th></th>\n      <th>report_type</th>\n      <th>flood_depth</th>\n      <th>points</th>\n      <th>structureFailure</th>\n      <th>accessabilityFailure</th>\n      <th>condition</th>\n      <th>impact</th>\n      <th>fireDistance</th>\n      <th>fireLocation</th>\n      <th>personLocation</th>\n      <th>fireRadius</th>\n      <th>volcanicSigns</th>\n      <th>evacuationNumber</th>\n      <th>evacuationArea</th>\n      <th>visibility</th>\n      <th>airQuality</th>\n    </tr>\n  </thead>\n  <tbody>\n    <tr>\n      <th>0</th>\n      <td>flood</td>\n      <td>30.0</td>\n      <td>NaN</td>\n      <td>NaN</td>\n      <td>NaN</td>\n      <td>NaN</td>\n      <td>NaN</td>\n      <td>NaN</td>\n      <td>NaN</td>\n      <td>NaN</td>\n      <td>NaN</td>\n      <td>NaN</td>\n      <td>NaN</td>\n      <td>NaN</td>\n      <td>NaN</td>\n      <td>NaN</td>\n    </tr>\n    <tr>\n      <th>1</th>\n      <td>flood</td>\n      <td>80.0</td>\n      <td>1.0</td>\n      <td>NaN</td>\n      <td>NaN</td>\n      <td>NaN</td>\n      <td>NaN</td>\n      <td>NaN</td>\n      <td>NaN</td>\n      <td>NaN</td>\n      <td>NaN</td>\n      <td>NaN</td>\n      <td>NaN</td>\n      <td>NaN</td>\n      <td>NaN</td>\n      <td>NaN</td>\n    </tr>\n    <tr>\n      <th>2</th>\n      <td>flood</td>\n      <td>51.0</td>\n      <td>1.0</td>\n      <td>NaN</td>\n      <td>NaN</td>\n      <td>NaN</td>\n      <td>NaN</td>\n      <td>NaN</td>\n      <td>NaN</td>\n      <td>NaN</td>\n      <td>NaN</td>\n      <td>NaN</td>\n      <td>NaN</td>\n      <td>NaN</td>\n      <td>NaN</td>\n      <td>NaN</td>\n    </tr>\n    <tr>\n      <th>3</th>\n      <td>flood</td>\n      <td>100.0</td>\n      <td>2.0</td>\n      <td>NaN</td>\n      <td>NaN</td>\n      <td>NaN</td>\n      <td>NaN</td>\n      <td>NaN</td>\n      <td>NaN</td>\n      <td>NaN</td>\n      <td>NaN</td>\n      <td>NaN</td>\n      <td>NaN</td>\n      <td>NaN</td>\n      <td>NaN</td>\n      <td>NaN</td>\n    </tr>\n    <tr>\n      <th>4</th>\n      <td>flood</td>\n      <td>60.0</td>\n      <td>NaN</td>\n      <td>NaN</td>\n      <td>NaN</td>\n      <td>NaN</td>\n      <td>NaN</td>\n      <td>NaN</td>\n      <td>NaN</td>\n      <td>NaN</td>\n      <td>NaN</td>\n      <td>NaN</td>\n      <td>NaN</td>\n      <td>NaN</td>\n      <td>NaN</td>\n      <td>NaN</td>\n    </tr>\n    <tr>\n      <th>...</th>\n      <td>...</td>\n      <td>...</td>\n      <td>...</td>\n      <td>...</td>\n      <td>...</td>\n      <td>...</td>\n      <td>...</td>\n      <td>...</td>\n      <td>...</td>\n      <td>...</td>\n      <td>...</td>\n      <td>...</td>\n      <td>...</td>\n      <td>...</td>\n      <td>...</td>\n      <td>...</td>\n    </tr>\n    <tr>\n      <th>3038</th>\n      <td>flood</td>\n      <td>68.0</td>\n      <td>1.0</td>\n      <td>NaN</td>\n      <td>NaN</td>\n      <td>NaN</td>\n      <td>NaN</td>\n      <td>NaN</td>\n      <td>NaN</td>\n      <td>NaN</td>\n      <td>NaN</td>\n      <td>NaN</td>\n      <td>NaN</td>\n      <td>NaN</td>\n      <td>NaN</td>\n      <td>NaN</td>\n    </tr>\n    <tr>\n      <th>3039</th>\n      <td>flood</td>\n      <td>103.0</td>\n      <td>NaN</td>\n      <td>NaN</td>\n      <td>NaN</td>\n      <td>NaN</td>\n      <td>NaN</td>\n      <td>NaN</td>\n      <td>NaN</td>\n      <td>NaN</td>\n      <td>NaN</td>\n      <td>NaN</td>\n      <td>NaN</td>\n      <td>NaN</td>\n      <td>NaN</td>\n      <td>NaN</td>\n    </tr>\n    <tr>\n      <th>3040</th>\n      <td>flood</td>\n      <td>54.0</td>\n      <td>NaN</td>\n      <td>NaN</td>\n      <td>NaN</td>\n      <td>NaN</td>\n      <td>NaN</td>\n      <td>NaN</td>\n      <td>NaN</td>\n      <td>NaN</td>\n      <td>NaN</td>\n      <td>NaN</td>\n      <td>NaN</td>\n      <td>NaN</td>\n      <td>NaN</td>\n      <td>NaN</td>\n    </tr>\n    <tr>\n      <th>3041</th>\n      <td>flood</td>\n      <td>19.0</td>\n      <td>NaN</td>\n      <td>NaN</td>\n      <td>NaN</td>\n      <td>NaN</td>\n      <td>NaN</td>\n      <td>NaN</td>\n      <td>NaN</td>\n      <td>NaN</td>\n      <td>NaN</td>\n      <td>NaN</td>\n      <td>NaN</td>\n      <td>NaN</td>\n      <td>NaN</td>\n      <td>NaN</td>\n    </tr>\n    <tr>\n      <th>3042</th>\n      <td>flood</td>\n      <td>22.0</td>\n      <td>NaN</td>\n      <td>NaN</td>\n      <td>NaN</td>\n      <td>NaN</td>\n      <td>NaN</td>\n      <td>NaN</td>\n      <td>NaN</td>\n      <td>NaN</td>\n      <td>NaN</td>\n      <td>NaN</td>\n      <td>NaN</td>\n      <td>NaN</td>\n      <td>NaN</td>\n      <td>NaN</td>\n    </tr>\n  </tbody>\n</table>\n<p>3043 rows × 16 columns</p>\n</div>"
     },
     "metadata": {}
    }
   ]
  },
  {
   "cell_type": "code",
   "metadata": {
    "cell_id": "8cddac35492140a7ab62fe99b397c344",
    "tags": [],
    "deepnote_to_be_reexecuted": false,
    "source_hash": "73c0a381",
    "execution_start": 1661016414413,
    "execution_millis": 36,
    "deepnote_cell_type": "code",
    "deepnote_cell_height": 613
   },
   "source": "y = y[['report_type', 'flood_depth']]\ny",
   "execution_count": 7,
   "outputs": [
    {
     "output_type": "execute_result",
     "execution_count": 7,
     "data": {
      "application/vnd.deepnote.dataframe.v3+json": {
       "column_count": 2,
       "row_count": 3043,
       "columns": [
        {
         "name": "report_type",
         "dtype": "object",
         "stats": {
          "unique_count": 7,
          "nan_count": 73,
          "categories": [
           {
            "name": "flood",
            "count": 2774
           },
           {
            "name": "6 others",
            "count": 196
           },
           {
            "name": "Missing",
            "count": 73
           }
          ]
         }
        },
        {
         "name": "flood_depth",
         "dtype": "float64",
         "stats": {
          "unique_count": 185,
          "nan_count": 269,
          "min": "0.0",
          "max": "200.0",
          "histogram": [
           {
            "bin_start": 0,
            "bin_end": 20,
            "count": 176
           },
           {
            "bin_start": 20,
            "bin_end": 40,
            "count": 645
           },
           {
            "bin_start": 40,
            "bin_end": 60,
            "count": 917
           },
           {
            "bin_start": 60,
            "bin_end": 80,
            "count": 390
           },
           {
            "bin_start": 80,
            "bin_end": 100,
            "count": 255
           },
           {
            "bin_start": 100,
            "bin_end": 120,
            "count": 146
           },
           {
            "bin_start": 120,
            "bin_end": 140,
            "count": 92
           },
           {
            "bin_start": 140,
            "bin_end": 160,
            "count": 59
           },
           {
            "bin_start": 160,
            "bin_end": 180,
            "count": 20
           },
           {
            "bin_start": 180,
            "bin_end": 200,
            "count": 74
           }
          ]
         }
        },
        {
         "name": "_deepnote_index_column",
         "dtype": "int64"
        }
       ],
       "rows": [
        {
         "report_type": "flood",
         "flood_depth": 30,
         "_deepnote_index_column": 0
        },
        {
         "report_type": "flood",
         "flood_depth": 80,
         "_deepnote_index_column": 1
        },
        {
         "report_type": "flood",
         "flood_depth": 51,
         "_deepnote_index_column": 2
        },
        {
         "report_type": "flood",
         "flood_depth": 100,
         "_deepnote_index_column": 3
        },
        {
         "report_type": "flood",
         "flood_depth": 60,
         "_deepnote_index_column": 4
        },
        {
         "report_type": "flood",
         "flood_depth": 39,
         "_deepnote_index_column": 5
        },
        {
         "report_type": "flood",
         "flood_depth": 79,
         "_deepnote_index_column": 6
        },
        {
         "report_type": "flood",
         "flood_depth": 116,
         "_deepnote_index_column": 7
        },
        {
         "report_type": "flood",
         "flood_depth": 60,
         "_deepnote_index_column": 8
        },
        {
         "report_type": "nan",
         "flood_depth": "nan",
         "_deepnote_index_column": 9
        }
       ]
      },
      "text/plain": "     report_type  flood_depth\n0          flood         30.0\n1          flood         80.0\n2          flood         51.0\n3          flood        100.0\n4          flood         60.0\n...          ...          ...\n3038       flood         68.0\n3039       flood        103.0\n3040       flood         54.0\n3041       flood         19.0\n3042       flood         22.0\n\n[3043 rows x 2 columns]",
      "text/html": "<div>\n<style scoped>\n    .dataframe tbody tr th:only-of-type {\n        vertical-align: middle;\n    }\n\n    .dataframe tbody tr th {\n        vertical-align: top;\n    }\n\n    .dataframe thead th {\n        text-align: right;\n    }\n</style>\n<table border=\"1\" class=\"dataframe\">\n  <thead>\n    <tr style=\"text-align: right;\">\n      <th></th>\n      <th>report_type</th>\n      <th>flood_depth</th>\n    </tr>\n  </thead>\n  <tbody>\n    <tr>\n      <th>0</th>\n      <td>flood</td>\n      <td>30.0</td>\n    </tr>\n    <tr>\n      <th>1</th>\n      <td>flood</td>\n      <td>80.0</td>\n    </tr>\n    <tr>\n      <th>2</th>\n      <td>flood</td>\n      <td>51.0</td>\n    </tr>\n    <tr>\n      <th>3</th>\n      <td>flood</td>\n      <td>100.0</td>\n    </tr>\n    <tr>\n      <th>4</th>\n      <td>flood</td>\n      <td>60.0</td>\n    </tr>\n    <tr>\n      <th>...</th>\n      <td>...</td>\n      <td>...</td>\n    </tr>\n    <tr>\n      <th>3038</th>\n      <td>flood</td>\n      <td>68.0</td>\n    </tr>\n    <tr>\n      <th>3039</th>\n      <td>flood</td>\n      <td>103.0</td>\n    </tr>\n    <tr>\n      <th>3040</th>\n      <td>flood</td>\n      <td>54.0</td>\n    </tr>\n    <tr>\n      <th>3041</th>\n      <td>flood</td>\n      <td>19.0</td>\n    </tr>\n    <tr>\n      <th>3042</th>\n      <td>flood</td>\n      <td>22.0</td>\n    </tr>\n  </tbody>\n</table>\n<p>3043 rows × 2 columns</p>\n</div>"
     },
     "metadata": {}
    }
   ]
  },
  {
   "cell_type": "code",
   "metadata": {
    "cell_id": "443fe991cb74489796a8aa9dbd7d4e89",
    "tags": [],
    "deepnote_to_be_reexecuted": false,
    "source_hash": "ee4a773a",
    "execution_start": 1661016414466,
    "execution_millis": 734,
    "deepnote_cell_type": "code",
    "deepnote_cell_height": 630
   },
   "source": "z = pd.concat([df, y], axis=1, join='inner')\nz",
   "execution_count": 8,
   "outputs": [
    {
     "output_type": "execute_result",
     "execution_count": 8,
     "data": {
      "application/vnd.deepnote.dataframe.v3+json": {
       "column_count": 16,
       "row_count": 3043,
       "columns": [
        {
         "name": "date",
         "dtype": "object",
         "stats": {
          "unique_count": 377,
          "nan_count": 0,
          "categories": [
           {
            "name": "25/02/2020",
            "count": 319
           },
           {
            "name": "24/02/2020",
            "count": 292
           },
           {
            "name": "375 others",
            "count": 2432
           }
          ]
         }
        },
        {
         "name": "time",
         "dtype": "object",
         "stats": {
          "unique_count": 1867,
          "nan_count": 0,
          "categories": [
           {
            "name": "1",
            "count": 566
           },
           {
            "name": "0",
            "count": 556
           },
           {
            "name": "1865 others",
            "count": 1921
           }
          ]
         }
        },
        {
         "name": "source",
         "dtype": "object",
         "stats": {
          "unique_count": 3,
          "nan_count": 0,
          "categories": [
           {
            "name": "grasp",
            "count": 2970
           },
           {
            "name": "qlue",
            "count": 43
           },
           {
            "name": "detik",
            "count": 30
           }
          ]
         }
        },
        {
         "name": "status",
         "dtype": "object",
         "stats": {
          "unique_count": 1,
          "nan_count": 0,
          "categories": [
           {
            "name": "confirmed",
            "count": 3043
           }
          ]
         }
        },
        {
         "name": "disaster_type",
         "dtype": "object",
         "stats": {
          "unique_count": 6,
          "nan_count": 0,
          "categories": [
           {
            "name": "flood",
            "count": 2847
           },
           {
            "name": "earthquake",
            "count": 109
           },
           {
            "name": "4 others",
            "count": 87
           }
          ]
         }
        },
        {
         "name": "report_dat",
         "dtype": "object",
         "stats": {
          "unique_count": 539,
          "nan_count": 0,
          "categories": [
           {
            "name": "{ \"report_type\": \"flood\", \"flood_depth\": 44 }",
            "count": 171
           },
           {
            "name": "{ \"report_type\": \"flood\", \"flood_depth\": 50 }",
            "count": 116
           },
           {
            "name": "537 others",
            "count": 2756
           }
          ]
         }
        },
        {
         "name": "tags",
         "dtype": "object",
         "stats": {
          "unique_count": 754,
          "nan_count": 0,
          "categories": [
           {
            "name": "{ \"district_id\": null, \"local_area_id\": null, \"instance_region_code\": \"ID-JB\" }",
            "count": 512
           },
           {
            "name": "{ \"district_id\": null, \"local_area_id\": null, \"instance_region_code\": \"ID-KS\" }",
            "count": 144
           },
           {
            "name": "752 others",
            "count": 2387
           }
          ]
         }
        },
        {
         "name": "text",
         "dtype": "object",
         "stats": {
          "unique_count": 2918,
          "nan_count": 0,
          "categories": [
           {
            "name": "Banjir",
            "count": 55
           },
           {
            "name": "banjir",
            "count": 14
           },
           {
            "name": "2916 others",
            "count": 2974
           }
          ]
         }
        },
        {
         "name": "Desa",
         "dtype": "object",
         "stats": {
          "unique_count": 1090,
          "nan_count": 0,
          "categories": [
           {
            "name": "Duri Kepa",
            "count": 56
           },
           {
            "name": "Rawa Buaya",
            "count": 46
           },
           {
            "name": "1088 others",
            "count": 2941
           }
          ]
         }
        },
        {
         "name": "Kecamatan",
         "dtype": "object",
         "stats": {
          "unique_count": 608,
          "nan_count": 0,
          "categories": [
           {
            "name": "Kelapa Gading",
            "count": 108
           },
           {
            "name": "Cakung",
            "count": 93
           },
           {
            "name": "606 others",
            "count": 2842
           }
          ]
         }
        },
        {
         "name": "Kabupaten",
         "dtype": "object",
         "stats": {
          "unique_count": 205,
          "nan_count": 0,
          "categories": [
           {
            "name": "Jakarta Timur",
            "count": 404
           },
           {
            "name": "Bekasi",
            "count": 382
           },
           {
            "name": "203 others",
            "count": 2257
           }
          ]
         }
        },
        {
         "name": "Provinsi",
         "dtype": "object",
         "stats": {
          "unique_count": 34,
          "nan_count": 0,
          "categories": [
           {
            "name": "Daerah Khusus Ibukota Jakarta",
            "count": 1457
           },
           {
            "name": "Jawa Barat",
            "count": 584
           },
           {
            "name": "32 others",
            "count": 1002
           }
          ]
         }
        },
        {
         "name": "long",
         "dtype": "float64",
         "stats": {
          "unique_count": 2881,
          "nan_count": 0,
          "min": "95.31473",
          "max": "136.37668",
          "histogram": [
           {
            "bin_start": 95.31473,
            "bin_end": 99.420925,
            "count": 38
           },
           {
            "bin_start": 99.420925,
            "bin_end": 103.52712,
            "count": 28
           },
           {
            "bin_start": 103.52712,
            "bin_end": 107.633315,
            "count": 2164
           },
           {
            "bin_start": 107.633315,
            "bin_end": 111.73951,
            "count": 263
           },
           {
            "bin_start": 111.73951,
            "bin_end": 115.845705,
            "count": 367
           },
           {
            "bin_start": 115.845705,
            "bin_end": 119.9519,
            "count": 111
           },
           {
            "bin_start": 119.9519,
            "bin_end": 124.058095,
            "count": 52
           },
           {
            "bin_start": 124.058095,
            "bin_end": 128.16429,
            "count": 9
           },
           {
            "bin_start": 128.16429,
            "bin_end": 132.270485,
            "count": 6
           },
           {
            "bin_start": 132.270485,
            "bin_end": 136.37668,
            "count": 5
           }
          ]
         }
        },
        {
         "name": "lat",
         "dtype": "float64",
         "stats": {
          "unique_count": 2838,
          "nan_count": 0,
          "min": "-10.20517",
          "max": "5.883711",
          "histogram": [
           {
            "bin_start": -10.20517,
            "bin_end": -8.596281900000001,
            "count": 24
           },
           {
            "bin_start": -8.596281900000001,
            "bin_end": -6.9873938,
            "count": 304
           },
           {
            "bin_start": -6.9873938,
            "bin_end": -5.3785057,
            "count": 2285
           },
           {
            "bin_start": -5.3785057,
            "bin_end": -3.7696176,
            "count": 34
           },
           {
            "bin_start": -3.7696176,
            "bin_end": -2.1607295000000004,
            "count": 186
           },
           {
            "bin_start": -2.1607295000000004,
            "bin_end": -0.5518413999999989,
            "count": 55
           },
           {
            "bin_start": -0.5518413999999989,
            "bin_end": 1.0570467000000008,
            "count": 96
           },
           {
            "bin_start": 1.0570467000000008,
            "bin_end": 2.6659348000000005,
            "count": 23
           },
           {
            "bin_start": 2.6659348000000005,
            "bin_end": 4.2748229,
            "count": 20
           },
           {
            "bin_start": 4.2748229,
            "bin_end": 5.883711,
            "count": 16
           }
          ]
         }
        },
        {
         "name": "report_type",
         "dtype": "object",
         "stats": {
          "unique_count": 7,
          "nan_count": 73,
          "categories": [
           {
            "name": "flood",
            "count": 2774
           },
           {
            "name": "6 others",
            "count": 196
           },
           {
            "name": "Missing",
            "count": 73
           }
          ]
         }
        },
        {
         "name": "flood_depth",
         "dtype": "float64",
         "stats": {
          "unique_count": 185,
          "nan_count": 269,
          "min": "0.0",
          "max": "200.0",
          "histogram": [
           {
            "bin_start": 0,
            "bin_end": 20,
            "count": 176
           },
           {
            "bin_start": 20,
            "bin_end": 40,
            "count": 645
           },
           {
            "bin_start": 40,
            "bin_end": 60,
            "count": 917
           },
           {
            "bin_start": 60,
            "bin_end": 80,
            "count": 390
           },
           {
            "bin_start": 80,
            "bin_end": 100,
            "count": 255
           },
           {
            "bin_start": 100,
            "bin_end": 120,
            "count": 146
           },
           {
            "bin_start": 120,
            "bin_end": 140,
            "count": 92
           },
           {
            "bin_start": 140,
            "bin_end": 160,
            "count": 59
           },
           {
            "bin_start": 160,
            "bin_end": 180,
            "count": 20
           },
           {
            "bin_start": 180,
            "bin_end": 200,
            "count": 74
           }
          ]
         }
        },
        {
         "name": "_deepnote_index_column",
         "dtype": "int64"
        }
       ],
       "rows": [
        {
         "date": "01/01/2020",
         "time": "00:03:02",
         "source": "grasp",
         "status": "confirmed",
         "disaster_type": "flood",
         "report_dat": "{ \"report_type\": \"flood\", \"flood_depth\": 30 }",
         "tags": "{ \"district_id\": \"3174\", \"local_area_id\": \"125\", \"instance_region_code\": \"ID-JK\" }",
         "text": "Banjir di daerah taman ratu dan sekitarnya. Paling parah dari tahun2 sebelumnya",
         "Desa": "Duri Kepa",
         "Kecamatan": "Kebon Jeruk",
         "Kabupaten": "Jakarta Barat",
         "Provinsi": "Daerah Khusus Ibukota Jakarta",
         "long": 106.76866,
         "lat": -6.16978,
         "report_type": "flood",
         "flood_depth": 30,
         "_deepnote_index_column": 0
        },
        {
         "date": "01/01/2020",
         "time": "00:43:02",
         "source": "grasp",
         "status": "confirmed",
         "disaster_type": "flood",
         "report_dat": "{ \"points\": 1, \"flood_depth\": 80, \"report_type\": \"flood\" }",
         "tags": "{ \"district_id\": null, \"local_area_id\": null, \"instance_region_code\": \"ID-JK\" }",
         "text": "Jl. Kemuning Indah\nKota Harapan Indah.\nBekasi",
         "Desa": "Pejuang",
         "Kecamatan": "Medan Satria",
         "Kabupaten": "Bekasi",
         "Provinsi": "Jawa Barat",
         "long": 106.9787,
         "lat": -6.17944,
         "report_type": "flood",
         "flood_depth": 80,
         "_deepnote_index_column": 1
        },
        {
         "date": "01/01/2020",
         "time": "01:14:53",
         "source": "grasp",
         "status": "confirmed",
         "disaster_type": "flood",
         "report_dat": "{ \"points\": 1, \"flood_depth\": 51, \"report_type\": \"flood\" }",
         "tags": "{ \"district_id\": \"3172\", \"local_area_id\": \"1789\", \"instance_region_code\": \"ID-JK\" }",
         "text": "Banjir selutut orang dewasa di jalan ros merah 2 cipinang indah",
         "Desa": "Cipinang Muara",
         "Kecamatan": "Jatinegara",
         "Kabupaten": "Jakarta Timur",
         "Provinsi": "Daerah Khusus Ibukota Jakarta",
         "long": 106.891,
         "lat": -6.23449,
         "report_type": "flood",
         "flood_depth": 51,
         "_deepnote_index_column": 2
        },
        {
         "date": "01/01/2020",
         "time": "01:15:08",
         "source": "grasp",
         "status": "confirmed",
         "disaster_type": "flood",
         "report_dat": "{ \"points\": 2, \"flood_depth\": 100, \"report_type\": \"flood\" }",
         "tags": "{ \"district_id\": null, \"local_area_id\": null, \"instance_region_code\": \"ID-JK\" }",
         "text": "Banjir di daerah kedasih dan sekitarnya, karena hujan dari semalam belum berhenti, sudah memasuki rumah dari jam 7 pagi tadi",
         "Desa": "Mekarmukti",
         "Kecamatan": "Cikarang Utara",
         "Kabupaten": "Bekasi",
         "Provinsi": "Jawa Barat",
         "long": 107.16189,
         "lat": -6.3017,
         "report_type": "flood",
         "flood_depth": 100,
         "_deepnote_index_column": 3
        },
        {
         "date": "01/01/2020",
         "time": "01:25:02",
         "source": "grasp",
         "status": "confirmed",
         "disaster_type": "flood",
         "report_dat": "{ \"report_type\": \"flood\", \"flood_depth\": 60 }",
         "tags": "{ \"district_id\": \"3174\", \"local_area_id\": \"220\", \"instance_region_code\": \"ID-JK\" }",
         "text": "Banjir area komplek Meruya Ilir sejak jam 5 naik terus. Listri hingga kini belum dipadamkan.",
         "Desa": "Meruya Utara",
         "Kecamatan": "Kembangan",
         "Kabupaten": "Jakarta Barat",
         "Provinsi": "Daerah Khusus Ibukota Jakarta",
         "long": 106.73835,
         "lat": -6.19933,
         "report_type": "flood",
         "flood_depth": 60,
         "_deepnote_index_column": 4
        },
        {
         "date": "01/01/2020",
         "time": "01:33:59",
         "source": "grasp",
         "status": "confirmed",
         "disaster_type": "flood",
         "report_dat": "{ \"report_type\": \"flood\", \"flood_depth\": 39 }",
         "tags": "{ \"district_id\": null, \"local_area_id\": null, \"instance_region_code\": \"ID-JK\" }",
         "text": "Di perumahan boulevard hijau jalan raya setinggi 40-60 cm\nPerumahan 20-40 cm",
         "Desa": "Pejuang",
         "Kecamatan": "Medan Satria",
         "Kabupaten": "Bekasi",
         "Provinsi": "Jawa Barat",
         "long": 106.98668,
         "lat": -6.18996,
         "report_type": "flood",
         "flood_depth": 39,
         "_deepnote_index_column": 5
        },
        {
         "date": "01/01/2020",
         "time": "02:05:36",
         "source": "grasp",
         "status": "confirmed",
         "disaster_type": "flood",
         "report_dat": "{ \"report_type\": \"flood\", \"flood_depth\": 79 }",
         "tags": "{ \"district_id\": \"3174\", \"local_area_id\": \"938\", \"instance_region_code\": \"ID-JK\" }",
         "text": "Tinggi Genangan Air 60 ~ 70 Cm",
         "Desa": "Duri Kosambi",
         "Kecamatan": "Cengkareng",
         "Kabupaten": "Jakarta Barat",
         "Provinsi": "Daerah Khusus Ibukota Jakarta",
         "long": 106.72181,
         "lat": -6.16777,
         "report_type": "flood",
         "flood_depth": 79,
         "_deepnote_index_column": 6
        },
        {
         "date": "01/01/2020",
         "time": "02:11:42",
         "source": "grasp",
         "status": "confirmed",
         "disaster_type": "flood",
         "report_dat": "{ \"report_type\": \"flood\", \"flood_depth\": 116 }",
         "tags": "{ \"district_id\": \"3174\", \"local_area_id\": \"2574\", \"instance_region_code\": \"ID-JK\" }",
         "text": "Kondisi saat ini di jalan pesing koneng RW 08 seluruh RT",
         "Desa": "Kedoya Utara",
         "Kecamatan": "Kebon Jeruk",
         "Kabupaten": "Jakarta Barat",
         "Provinsi": "Daerah Khusus Ibukota Jakarta",
         "long": 106.76476,
         "lat": -6.16204,
         "report_type": "flood",
         "flood_depth": 116,
         "_deepnote_index_column": 7
        },
        {
         "date": "01/01/2020",
         "time": "02:20:56",
         "source": "grasp",
         "status": "confirmed",
         "disaster_type": "flood",
         "report_dat": "{ \"report_type\": \"flood\", \"flood_depth\": 60 }",
         "tags": "{ \"district_id\": null, \"local_area_id\": null, \"instance_region_code\": \"ID-JK\" }",
         "text": "Banjir, om. What should I say more?",
         "Desa": "Duren Jaya",
         "Kecamatan": "Bekasi Timur",
         "Kabupaten": "Bekasi",
         "Provinsi": "Jawa Barat",
         "long": 107.02225,
         "lat": -6.23895,
         "report_type": "flood",
         "flood_depth": 60,
         "_deepnote_index_column": 8
        },
        {
         "date": "01/01/2020",
         "time": "02:13:40",
         "source": "detik",
         "status": "confirmed",
         "disaster_type": "flood",
         "report_dat": "{ \"points\": 1 }",
         "tags": "{ \"district_id\": \"3171\", \"local_area_id\": \"1354\", \"instance_region_code\": \"ID-JK\" }",
         "text": "Begini kondisi Jl.HR Rasuna Said Depan Halte Transjakarta Setia Budi Selatan,akses jalan tak dapat dilalui oleh kendaraan pkl 09:15",
         "Desa": "Setia Budi",
         "Kecamatan": "Setia Budi",
         "Kabupaten": "Jakarta Selatan",
         "Provinsi": "Daerah Khusus Ibukota Jakarta",
         "long": 106.82927,
         "lat": -6.2084,
         "report_type": "nan",
         "flood_depth": "nan",
         "_deepnote_index_column": 9
        }
       ]
      },
      "text/plain": "            date      time source     status disaster_type  \\\n0     01/01/2020  00:03:02  grasp  confirmed         flood   \n1     01/01/2020  00:43:02  grasp  confirmed         flood   \n2     01/01/2020  01:14:53  grasp  confirmed         flood   \n3     01/01/2020  01:15:08  grasp  confirmed         flood   \n4     01/01/2020  01:25:02  grasp  confirmed         flood   \n...          ...       ...    ...        ...           ...   \n3038  28/12/2021  00:18:56  grasp  confirmed         flood   \n3039  28/12/2021  01:23:43  grasp  confirmed         flood   \n3040  28/12/2021  08:00:14  grasp  confirmed         flood   \n3041  28/12/2021  10:49:49  grasp  confirmed         flood   \n3042  30/12/2021  09:32:42  grasp  confirmed         flood   \n\n                                             report_dat  \\\n0         { \"report_type\": \"flood\", \"flood_depth\": 30 }   \n1     { \"points\": 1, \"flood_depth\": 80, \"report_type...   \n2     { \"points\": 1, \"flood_depth\": 51, \"report_type...   \n3     { \"points\": 2, \"flood_depth\": 100, \"report_typ...   \n4         { \"report_type\": \"flood\", \"flood_depth\": 60 }   \n...                                                 ...   \n3038  { \"points\": 1, \"flood_depth\": 68, \"report_type...   \n3039     { \"report_type\": \"flood\", \"flood_depth\": 103 }   \n3040      { \"report_type\": \"flood\", \"flood_depth\": 54 }   \n3041      { \"report_type\": \"flood\", \"flood_depth\": 19 }   \n3042      { \"report_type\": \"flood\", \"flood_depth\": 22 }   \n\n                                                   tags  \\\n0     { \"district_id\": \"3174\", \"local_area_id\": \"125...   \n1     { \"district_id\": null, \"local_area_id\": null, ...   \n2     { \"district_id\": \"3172\", \"local_area_id\": \"178...   \n3     { \"district_id\": null, \"local_area_id\": null, ...   \n4     { \"district_id\": \"3174\", \"local_area_id\": \"220...   \n...                                                 ...   \n3038  { \"district_id\": null, \"local_area_id\": null, ...   \n3039  { \"district_id\": null, \"local_area_id\": null, ...   \n3040  { \"district_id\": \"3173\", \"local_area_id\": \"678...   \n3041  { \"district_id\": null, \"local_area_id\": null, ...   \n3042  { \"district_id\": null, \"local_area_id\": null, ...   \n\n                                                   text            Desa  \\\n0     Banjir di daerah taman ratu dan sekitarnya. Pa...       Duri Kepa   \n1       Jl. Kemuning Indah\\nKota Harapan Indah.\\nBekasi         Pejuang   \n2     Banjir selutut orang dewasa di jalan ros merah...  Cipinang Muara   \n3     Banjir di daerah kedasih dan sekitarnya, karen...      Mekarmukti   \n4     Banjir area komplek Meruya Ilir sejak jam 5 na...    Meruya Utara   \n...                                                 ...             ...   \n3038  Laporan awal. Air sungai meluap akibat curah h...  Karangan Hilir   \n3039  Luapan air sungai Karangan masuk ke pemukiman ...  Karangan Hilir   \n3040                                banjir lah pokoknya    Karang Anyar   \n3041  saluran irigasi yg di kelola desa dengan buruk...       Purwajaya   \n3042  banjir akibat hujan dan banyak nya sampah memb...    Banjar Anyar   \n\n           Kecamatan      Kabupaten                       Provinsi  \\\n0        Kebon Jeruk  Jakarta Barat  Daerah Khusus Ibukota Jakarta   \n1       Medan Satria         Bekasi                     Jawa Barat   \n2         Jatinegara  Jakarta Timur  Daerah Khusus Ibukota Jakarta   \n3     Cikarang Utara         Bekasi                     Jawa Barat   \n4          Kembangan  Jakarta Barat  Daerah Khusus Ibukota Jakarta   \n...              ...            ...                            ...   \n3038        Karangan    Kutai Timur               Kalimantan Timur   \n3039        Karangan    Kutai Timur               Kalimantan Timur   \n3040     Sawah Besar  Jakarta Pusat  Daerah Khusus Ibukota Jakarta   \n3041       Purwadadi         Ciamis                     Jawa Barat   \n3042          Kediri        Tabanan                           Bali   \n\n            long       lat report_type  flood_depth  \n0     106.768660 -6.169780       flood         30.0  \n1     106.978700 -6.179440       flood         80.0  \n2     106.891000 -6.234490       flood         51.0  \n3     107.161890 -6.301700       flood        100.0  \n4     106.738350 -6.199330       flood         60.0  \n...          ...       ...         ...          ...  \n3038  117.655871  1.343771       flood         68.0  \n3039  117.665504  1.351043       flood        103.0  \n3040  106.827622 -6.157398       flood         54.0  \n3041  108.695570 -7.460077       flood         19.0  \n3042  115.142300 -8.554095       flood         22.0  \n\n[3043 rows x 16 columns]",
      "text/html": "<div>\n<style scoped>\n    .dataframe tbody tr th:only-of-type {\n        vertical-align: middle;\n    }\n\n    .dataframe tbody tr th {\n        vertical-align: top;\n    }\n\n    .dataframe thead th {\n        text-align: right;\n    }\n</style>\n<table border=\"1\" class=\"dataframe\">\n  <thead>\n    <tr style=\"text-align: right;\">\n      <th></th>\n      <th>date</th>\n      <th>time</th>\n      <th>source</th>\n      <th>status</th>\n      <th>disaster_type</th>\n      <th>report_dat</th>\n      <th>tags</th>\n      <th>text</th>\n      <th>Desa</th>\n      <th>Kecamatan</th>\n      <th>Kabupaten</th>\n      <th>Provinsi</th>\n      <th>long</th>\n      <th>lat</th>\n      <th>report_type</th>\n      <th>flood_depth</th>\n    </tr>\n  </thead>\n  <tbody>\n    <tr>\n      <th>0</th>\n      <td>01/01/2020</td>\n      <td>00:03:02</td>\n      <td>grasp</td>\n      <td>confirmed</td>\n      <td>flood</td>\n      <td>{ \"report_type\": \"flood\", \"flood_depth\": 30 }</td>\n      <td>{ \"district_id\": \"3174\", \"local_area_id\": \"125...</td>\n      <td>Banjir di daerah taman ratu dan sekitarnya. Pa...</td>\n      <td>Duri Kepa</td>\n      <td>Kebon Jeruk</td>\n      <td>Jakarta Barat</td>\n      <td>Daerah Khusus Ibukota Jakarta</td>\n      <td>106.768660</td>\n      <td>-6.169780</td>\n      <td>flood</td>\n      <td>30.0</td>\n    </tr>\n    <tr>\n      <th>1</th>\n      <td>01/01/2020</td>\n      <td>00:43:02</td>\n      <td>grasp</td>\n      <td>confirmed</td>\n      <td>flood</td>\n      <td>{ \"points\": 1, \"flood_depth\": 80, \"report_type...</td>\n      <td>{ \"district_id\": null, \"local_area_id\": null, ...</td>\n      <td>Jl. Kemuning Indah\\nKota Harapan Indah.\\nBekasi</td>\n      <td>Pejuang</td>\n      <td>Medan Satria</td>\n      <td>Bekasi</td>\n      <td>Jawa Barat</td>\n      <td>106.978700</td>\n      <td>-6.179440</td>\n      <td>flood</td>\n      <td>80.0</td>\n    </tr>\n    <tr>\n      <th>2</th>\n      <td>01/01/2020</td>\n      <td>01:14:53</td>\n      <td>grasp</td>\n      <td>confirmed</td>\n      <td>flood</td>\n      <td>{ \"points\": 1, \"flood_depth\": 51, \"report_type...</td>\n      <td>{ \"district_id\": \"3172\", \"local_area_id\": \"178...</td>\n      <td>Banjir selutut orang dewasa di jalan ros merah...</td>\n      <td>Cipinang Muara</td>\n      <td>Jatinegara</td>\n      <td>Jakarta Timur</td>\n      <td>Daerah Khusus Ibukota Jakarta</td>\n      <td>106.891000</td>\n      <td>-6.234490</td>\n      <td>flood</td>\n      <td>51.0</td>\n    </tr>\n    <tr>\n      <th>3</th>\n      <td>01/01/2020</td>\n      <td>01:15:08</td>\n      <td>grasp</td>\n      <td>confirmed</td>\n      <td>flood</td>\n      <td>{ \"points\": 2, \"flood_depth\": 100, \"report_typ...</td>\n      <td>{ \"district_id\": null, \"local_area_id\": null, ...</td>\n      <td>Banjir di daerah kedasih dan sekitarnya, karen...</td>\n      <td>Mekarmukti</td>\n      <td>Cikarang Utara</td>\n      <td>Bekasi</td>\n      <td>Jawa Barat</td>\n      <td>107.161890</td>\n      <td>-6.301700</td>\n      <td>flood</td>\n      <td>100.0</td>\n    </tr>\n    <tr>\n      <th>4</th>\n      <td>01/01/2020</td>\n      <td>01:25:02</td>\n      <td>grasp</td>\n      <td>confirmed</td>\n      <td>flood</td>\n      <td>{ \"report_type\": \"flood\", \"flood_depth\": 60 }</td>\n      <td>{ \"district_id\": \"3174\", \"local_area_id\": \"220...</td>\n      <td>Banjir area komplek Meruya Ilir sejak jam 5 na...</td>\n      <td>Meruya Utara</td>\n      <td>Kembangan</td>\n      <td>Jakarta Barat</td>\n      <td>Daerah Khusus Ibukota Jakarta</td>\n      <td>106.738350</td>\n      <td>-6.199330</td>\n      <td>flood</td>\n      <td>60.0</td>\n    </tr>\n    <tr>\n      <th>...</th>\n      <td>...</td>\n      <td>...</td>\n      <td>...</td>\n      <td>...</td>\n      <td>...</td>\n      <td>...</td>\n      <td>...</td>\n      <td>...</td>\n      <td>...</td>\n      <td>...</td>\n      <td>...</td>\n      <td>...</td>\n      <td>...</td>\n      <td>...</td>\n      <td>...</td>\n      <td>...</td>\n    </tr>\n    <tr>\n      <th>3038</th>\n      <td>28/12/2021</td>\n      <td>00:18:56</td>\n      <td>grasp</td>\n      <td>confirmed</td>\n      <td>flood</td>\n      <td>{ \"points\": 1, \"flood_depth\": 68, \"report_type...</td>\n      <td>{ \"district_id\": null, \"local_area_id\": null, ...</td>\n      <td>Laporan awal. Air sungai meluap akibat curah h...</td>\n      <td>Karangan Hilir</td>\n      <td>Karangan</td>\n      <td>Kutai Timur</td>\n      <td>Kalimantan Timur</td>\n      <td>117.655871</td>\n      <td>1.343771</td>\n      <td>flood</td>\n      <td>68.0</td>\n    </tr>\n    <tr>\n      <th>3039</th>\n      <td>28/12/2021</td>\n      <td>01:23:43</td>\n      <td>grasp</td>\n      <td>confirmed</td>\n      <td>flood</td>\n      <td>{ \"report_type\": \"flood\", \"flood_depth\": 103 }</td>\n      <td>{ \"district_id\": null, \"local_area_id\": null, ...</td>\n      <td>Luapan air sungai Karangan masuk ke pemukiman ...</td>\n      <td>Karangan Hilir</td>\n      <td>Karangan</td>\n      <td>Kutai Timur</td>\n      <td>Kalimantan Timur</td>\n      <td>117.665504</td>\n      <td>1.351043</td>\n      <td>flood</td>\n      <td>103.0</td>\n    </tr>\n    <tr>\n      <th>3040</th>\n      <td>28/12/2021</td>\n      <td>08:00:14</td>\n      <td>grasp</td>\n      <td>confirmed</td>\n      <td>flood</td>\n      <td>{ \"report_type\": \"flood\", \"flood_depth\": 54 }</td>\n      <td>{ \"district_id\": \"3173\", \"local_area_id\": \"678...</td>\n      <td>banjir lah pokoknya</td>\n      <td>Karang Anyar</td>\n      <td>Sawah Besar</td>\n      <td>Jakarta Pusat</td>\n      <td>Daerah Khusus Ibukota Jakarta</td>\n      <td>106.827622</td>\n      <td>-6.157398</td>\n      <td>flood</td>\n      <td>54.0</td>\n    </tr>\n    <tr>\n      <th>3041</th>\n      <td>28/12/2021</td>\n      <td>10:49:49</td>\n      <td>grasp</td>\n      <td>confirmed</td>\n      <td>flood</td>\n      <td>{ \"report_type\": \"flood\", \"flood_depth\": 19 }</td>\n      <td>{ \"district_id\": null, \"local_area_id\": null, ...</td>\n      <td>saluran irigasi yg di kelola desa dengan buruk...</td>\n      <td>Purwajaya</td>\n      <td>Purwadadi</td>\n      <td>Ciamis</td>\n      <td>Jawa Barat</td>\n      <td>108.695570</td>\n      <td>-7.460077</td>\n      <td>flood</td>\n      <td>19.0</td>\n    </tr>\n    <tr>\n      <th>3042</th>\n      <td>30/12/2021</td>\n      <td>09:32:42</td>\n      <td>grasp</td>\n      <td>confirmed</td>\n      <td>flood</td>\n      <td>{ \"report_type\": \"flood\", \"flood_depth\": 22 }</td>\n      <td>{ \"district_id\": null, \"local_area_id\": null, ...</td>\n      <td>banjir akibat hujan dan banyak nya sampah memb...</td>\n      <td>Banjar Anyar</td>\n      <td>Kediri</td>\n      <td>Tabanan</td>\n      <td>Bali</td>\n      <td>115.142300</td>\n      <td>-8.554095</td>\n      <td>flood</td>\n      <td>22.0</td>\n    </tr>\n  </tbody>\n</table>\n<p>3043 rows × 16 columns</p>\n</div>"
     },
     "metadata": {}
    }
   ]
  },
  {
   "cell_type": "code",
   "metadata": {
    "cell_id": "03465dd49469426ba2c610bf1768129a",
    "tags": [],
    "deepnote_to_be_reexecuted": false,
    "source_hash": "ef1a8373",
    "execution_start": 1661016414601,
    "execution_millis": 626,
    "deepnote_cell_type": "code",
    "deepnote_cell_height": 630
   },
   "source": "z = z[z['report_type'].notna() & z['flood_depth'].notna() & z['date'].notna()]\nz",
   "execution_count": 9,
   "outputs": [
    {
     "output_type": "execute_result",
     "execution_count": 9,
     "data": {
      "application/vnd.deepnote.dataframe.v3+json": {
       "column_count": 16,
       "row_count": 2774,
       "columns": [
        {
         "name": "date",
         "dtype": "object",
         "stats": {
          "unique_count": 341,
          "nan_count": 0,
          "categories": [
           {
            "name": "25/02/2020",
            "count": 316
           },
           {
            "name": "24/02/2020",
            "count": 290
           },
           {
            "name": "339 others",
            "count": 2168
           }
          ]
         }
        },
        {
         "name": "time",
         "dtype": "object",
         "stats": {
          "unique_count": 1623,
          "nan_count": 0,
          "categories": [
           {
            "name": "1",
            "count": 563
           },
           {
            "name": "0",
            "count": 537
           },
           {
            "name": "1621 others",
            "count": 1674
           }
          ]
         }
        },
        {
         "name": "source",
         "dtype": "object",
         "stats": {
          "unique_count": 1,
          "nan_count": 0,
          "categories": [
           {
            "name": "grasp",
            "count": 2774
           }
          ]
         }
        },
        {
         "name": "status",
         "dtype": "object",
         "stats": {
          "unique_count": 1,
          "nan_count": 0,
          "categories": [
           {
            "name": "confirmed",
            "count": 2774
           }
          ]
         }
        },
        {
         "name": "disaster_type",
         "dtype": "object",
         "stats": {
          "unique_count": 1,
          "nan_count": 0,
          "categories": [
           {
            "name": "flood",
            "count": 2774
           }
          ]
         }
        },
        {
         "name": "report_dat",
         "dtype": "object",
         "stats": {
          "unique_count": 469,
          "nan_count": 0,
          "categories": [
           {
            "name": "{ \"report_type\": \"flood\", \"flood_depth\": 44 }",
            "count": 171
           },
           {
            "name": "{ \"report_type\": \"flood\", \"flood_depth\": 50 }",
            "count": 116
           },
           {
            "name": "467 others",
            "count": 2487
           }
          ]
         }
        },
        {
         "name": "tags",
         "dtype": "object",
         "stats": {
          "unique_count": 729,
          "nan_count": 0,
          "categories": [
           {
            "name": "{ \"district_id\": null, \"local_area_id\": null, \"instance_region_code\": \"ID-JB\" }",
            "count": 474
           },
           {
            "name": "{ \"district_id\": null, \"local_area_id\": null, \"instance_region_code\": \"ID-KS\" }",
            "count": 144
           },
           {
            "name": "727 others",
            "count": 2156
           }
          ]
         }
        },
        {
         "name": "text",
         "dtype": "object",
         "stats": {
          "unique_count": 2658,
          "nan_count": 0,
          "categories": [
           {
            "name": "Banjir",
            "count": 55
           },
           {
            "name": "banjir",
            "count": 13
           },
           {
            "name": "2656 others",
            "count": 2706
           }
          ]
         }
        },
        {
         "name": "Desa",
         "dtype": "object",
         "stats": {
          "unique_count": 970,
          "nan_count": 0,
          "categories": [
           {
            "name": "Duri Kepa",
            "count": 50
           },
           {
            "name": "Rawa Buaya",
            "count": 45
           },
           {
            "name": "968 others",
            "count": 2679
           }
          ]
         }
        },
        {
         "name": "Kecamatan",
         "dtype": "object",
         "stats": {
          "unique_count": 517,
          "nan_count": 0,
          "categories": [
           {
            "name": "Kelapa Gading",
            "count": 107
           },
           {
            "name": "Cengkareng",
            "count": 90
           },
           {
            "name": "515 others",
            "count": 2577
           }
          ]
         }
        },
        {
         "name": "Kabupaten",
         "dtype": "object",
         "stats": {
          "unique_count": 179,
          "nan_count": 0,
          "categories": [
           {
            "name": "Jakarta Timur",
            "count": 385
           },
           {
            "name": "Bekasi",
            "count": 376
           },
           {
            "name": "177 others",
            "count": 2013
           }
          ]
         }
        },
        {
         "name": "Provinsi",
         "dtype": "object",
         "stats": {
          "unique_count": 34,
          "nan_count": 0,
          "categories": [
           {
            "name": "Daerah Khusus Ibukota Jakarta",
            "count": 1375
           },
           {
            "name": "Jawa Barat",
            "count": 543
           },
           {
            "name": "32 others",
            "count": 856
           }
          ]
         }
        },
        {
         "name": "long",
         "dtype": "float64",
         "stats": {
          "unique_count": 2626,
          "nan_count": 0,
          "min": "95.31473",
          "max": "136.37668",
          "histogram": [
           {
            "bin_start": 95.31473,
            "bin_end": 99.420925,
            "count": 31
           },
           {
            "bin_start": 99.420925,
            "bin_end": 103.52712,
            "count": 23
           },
           {
            "bin_start": 103.52712,
            "bin_end": 107.633315,
            "count": 2037
           },
           {
            "bin_start": 107.633315,
            "bin_end": 111.73951,
            "count": 225
           },
           {
            "bin_start": 111.73951,
            "bin_end": 115.845705,
            "count": 296
           },
           {
            "bin_start": 115.845705,
            "bin_end": 119.9519,
            "count": 103
           },
           {
            "bin_start": 119.9519,
            "bin_end": 124.058095,
            "count": 41
           },
           {
            "bin_start": 124.058095,
            "bin_end": 128.16429,
            "count": 9
           },
           {
            "bin_start": 128.16429,
            "bin_end": 132.270485,
            "count": 4
           },
           {
            "bin_start": 132.270485,
            "bin_end": 136.37668,
            "count": 5
           }
          ]
         }
        },
        {
         "name": "lat",
         "dtype": "float64",
         "stats": {
          "unique_count": 2582,
          "nan_count": 0,
          "min": "-10.20107",
          "max": "5.883711",
          "histogram": [
           {
            "bin_start": -10.20107,
            "bin_end": -8.5925919,
            "count": 17
           },
           {
            "bin_start": -8.5925919,
            "bin_end": -6.984113799999999,
            "count": 201
           },
           {
            "bin_start": -6.984113799999999,
            "bin_end": -5.3756357,
            "count": 2155
           },
           {
            "bin_start": -5.3756357,
            "bin_end": -3.7671576,
            "count": 31
           },
           {
            "bin_start": -3.7671576,
            "bin_end": -2.1586795,
            "count": 179
           },
           {
            "bin_start": -2.1586795,
            "bin_end": -0.5502014000000006,
            "count": 51
           },
           {
            "bin_start": -0.5502014000000006,
            "bin_end": 1.0582767000000004,
            "count": 89
           },
           {
            "bin_start": 1.0582767000000004,
            "bin_end": 2.6667547999999996,
            "count": 19
           },
           {
            "bin_start": 2.6667547999999996,
            "bin_end": 4.275232899999999,
            "count": 17
           },
           {
            "bin_start": 4.275232899999999,
            "bin_end": 5.883711,
            "count": 15
           }
          ]
         }
        },
        {
         "name": "report_type",
         "dtype": "object",
         "stats": {
          "unique_count": 1,
          "nan_count": 0,
          "categories": [
           {
            "name": "flood",
            "count": 2774
           }
          ]
         }
        },
        {
         "name": "flood_depth",
         "dtype": "float64",
         "stats": {
          "unique_count": 185,
          "nan_count": 0,
          "min": "0.0",
          "max": "200.0",
          "histogram": [
           {
            "bin_start": 0,
            "bin_end": 20,
            "count": 176
           },
           {
            "bin_start": 20,
            "bin_end": 40,
            "count": 645
           },
           {
            "bin_start": 40,
            "bin_end": 60,
            "count": 917
           },
           {
            "bin_start": 60,
            "bin_end": 80,
            "count": 390
           },
           {
            "bin_start": 80,
            "bin_end": 100,
            "count": 255
           },
           {
            "bin_start": 100,
            "bin_end": 120,
            "count": 146
           },
           {
            "bin_start": 120,
            "bin_end": 140,
            "count": 92
           },
           {
            "bin_start": 140,
            "bin_end": 160,
            "count": 59
           },
           {
            "bin_start": 160,
            "bin_end": 180,
            "count": 20
           },
           {
            "bin_start": 180,
            "bin_end": 200,
            "count": 74
           }
          ]
         }
        },
        {
         "name": "_deepnote_index_column",
         "dtype": "int64"
        }
       ],
       "rows": [
        {
         "date": "01/01/2020",
         "time": "00:03:02",
         "source": "grasp",
         "status": "confirmed",
         "disaster_type": "flood",
         "report_dat": "{ \"report_type\": \"flood\", \"flood_depth\": 30 }",
         "tags": "{ \"district_id\": \"3174\", \"local_area_id\": \"125\", \"instance_region_code\": \"ID-JK\" }",
         "text": "Banjir di daerah taman ratu dan sekitarnya. Paling parah dari tahun2 sebelumnya",
         "Desa": "Duri Kepa",
         "Kecamatan": "Kebon Jeruk",
         "Kabupaten": "Jakarta Barat",
         "Provinsi": "Daerah Khusus Ibukota Jakarta",
         "long": 106.76866,
         "lat": -6.16978,
         "report_type": "flood",
         "flood_depth": 30,
         "_deepnote_index_column": 0
        },
        {
         "date": "01/01/2020",
         "time": "00:43:02",
         "source": "grasp",
         "status": "confirmed",
         "disaster_type": "flood",
         "report_dat": "{ \"points\": 1, \"flood_depth\": 80, \"report_type\": \"flood\" }",
         "tags": "{ \"district_id\": null, \"local_area_id\": null, \"instance_region_code\": \"ID-JK\" }",
         "text": "Jl. Kemuning Indah\nKota Harapan Indah.\nBekasi",
         "Desa": "Pejuang",
         "Kecamatan": "Medan Satria",
         "Kabupaten": "Bekasi",
         "Provinsi": "Jawa Barat",
         "long": 106.9787,
         "lat": -6.17944,
         "report_type": "flood",
         "flood_depth": 80,
         "_deepnote_index_column": 1
        },
        {
         "date": "01/01/2020",
         "time": "01:14:53",
         "source": "grasp",
         "status": "confirmed",
         "disaster_type": "flood",
         "report_dat": "{ \"points\": 1, \"flood_depth\": 51, \"report_type\": \"flood\" }",
         "tags": "{ \"district_id\": \"3172\", \"local_area_id\": \"1789\", \"instance_region_code\": \"ID-JK\" }",
         "text": "Banjir selutut orang dewasa di jalan ros merah 2 cipinang indah",
         "Desa": "Cipinang Muara",
         "Kecamatan": "Jatinegara",
         "Kabupaten": "Jakarta Timur",
         "Provinsi": "Daerah Khusus Ibukota Jakarta",
         "long": 106.891,
         "lat": -6.23449,
         "report_type": "flood",
         "flood_depth": 51,
         "_deepnote_index_column": 2
        },
        {
         "date": "01/01/2020",
         "time": "01:15:08",
         "source": "grasp",
         "status": "confirmed",
         "disaster_type": "flood",
         "report_dat": "{ \"points\": 2, \"flood_depth\": 100, \"report_type\": \"flood\" }",
         "tags": "{ \"district_id\": null, \"local_area_id\": null, \"instance_region_code\": \"ID-JK\" }",
         "text": "Banjir di daerah kedasih dan sekitarnya, karena hujan dari semalam belum berhenti, sudah memasuki rumah dari jam 7 pagi tadi",
         "Desa": "Mekarmukti",
         "Kecamatan": "Cikarang Utara",
         "Kabupaten": "Bekasi",
         "Provinsi": "Jawa Barat",
         "long": 107.16189,
         "lat": -6.3017,
         "report_type": "flood",
         "flood_depth": 100,
         "_deepnote_index_column": 3
        },
        {
         "date": "01/01/2020",
         "time": "01:25:02",
         "source": "grasp",
         "status": "confirmed",
         "disaster_type": "flood",
         "report_dat": "{ \"report_type\": \"flood\", \"flood_depth\": 60 }",
         "tags": "{ \"district_id\": \"3174\", \"local_area_id\": \"220\", \"instance_region_code\": \"ID-JK\" }",
         "text": "Banjir area komplek Meruya Ilir sejak jam 5 naik terus. Listri hingga kini belum dipadamkan.",
         "Desa": "Meruya Utara",
         "Kecamatan": "Kembangan",
         "Kabupaten": "Jakarta Barat",
         "Provinsi": "Daerah Khusus Ibukota Jakarta",
         "long": 106.73835,
         "lat": -6.19933,
         "report_type": "flood",
         "flood_depth": 60,
         "_deepnote_index_column": 4
        },
        {
         "date": "01/01/2020",
         "time": "01:33:59",
         "source": "grasp",
         "status": "confirmed",
         "disaster_type": "flood",
         "report_dat": "{ \"report_type\": \"flood\", \"flood_depth\": 39 }",
         "tags": "{ \"district_id\": null, \"local_area_id\": null, \"instance_region_code\": \"ID-JK\" }",
         "text": "Di perumahan boulevard hijau jalan raya setinggi 40-60 cm\nPerumahan 20-40 cm",
         "Desa": "Pejuang",
         "Kecamatan": "Medan Satria",
         "Kabupaten": "Bekasi",
         "Provinsi": "Jawa Barat",
         "long": 106.98668,
         "lat": -6.18996,
         "report_type": "flood",
         "flood_depth": 39,
         "_deepnote_index_column": 5
        },
        {
         "date": "01/01/2020",
         "time": "02:05:36",
         "source": "grasp",
         "status": "confirmed",
         "disaster_type": "flood",
         "report_dat": "{ \"report_type\": \"flood\", \"flood_depth\": 79 }",
         "tags": "{ \"district_id\": \"3174\", \"local_area_id\": \"938\", \"instance_region_code\": \"ID-JK\" }",
         "text": "Tinggi Genangan Air 60 ~ 70 Cm",
         "Desa": "Duri Kosambi",
         "Kecamatan": "Cengkareng",
         "Kabupaten": "Jakarta Barat",
         "Provinsi": "Daerah Khusus Ibukota Jakarta",
         "long": 106.72181,
         "lat": -6.16777,
         "report_type": "flood",
         "flood_depth": 79,
         "_deepnote_index_column": 6
        },
        {
         "date": "01/01/2020",
         "time": "02:11:42",
         "source": "grasp",
         "status": "confirmed",
         "disaster_type": "flood",
         "report_dat": "{ \"report_type\": \"flood\", \"flood_depth\": 116 }",
         "tags": "{ \"district_id\": \"3174\", \"local_area_id\": \"2574\", \"instance_region_code\": \"ID-JK\" }",
         "text": "Kondisi saat ini di jalan pesing koneng RW 08 seluruh RT",
         "Desa": "Kedoya Utara",
         "Kecamatan": "Kebon Jeruk",
         "Kabupaten": "Jakarta Barat",
         "Provinsi": "Daerah Khusus Ibukota Jakarta",
         "long": 106.76476,
         "lat": -6.16204,
         "report_type": "flood",
         "flood_depth": 116,
         "_deepnote_index_column": 7
        },
        {
         "date": "01/01/2020",
         "time": "02:20:56",
         "source": "grasp",
         "status": "confirmed",
         "disaster_type": "flood",
         "report_dat": "{ \"report_type\": \"flood\", \"flood_depth\": 60 }",
         "tags": "{ \"district_id\": null, \"local_area_id\": null, \"instance_region_code\": \"ID-JK\" }",
         "text": "Banjir, om. What should I say more?",
         "Desa": "Duren Jaya",
         "Kecamatan": "Bekasi Timur",
         "Kabupaten": "Bekasi",
         "Provinsi": "Jawa Barat",
         "long": 107.02225,
         "lat": -6.23895,
         "report_type": "flood",
         "flood_depth": 60,
         "_deepnote_index_column": 8
        },
        {
         "date": "01/01/2020",
         "time": "02:35:11",
         "source": "grasp",
         "status": "confirmed",
         "disaster_type": "flood",
         "report_dat": "{ \"report_type\": \"flood\", \"flood_depth\": 81 }",
         "tags": "{ \"district_id\": null, \"local_area_id\": null, \"instance_region_code\": \"ID-JK\" }",
         "text": "Banjir setinggi paha",
         "Desa": "Bintara",
         "Kecamatan": "Bekasi Barat",
         "Kabupaten": "Bekasi",
         "Provinsi": "Jawa Barat",
         "long": 106.95966,
         "lat": -6.22251,
         "report_type": "flood",
         "flood_depth": 81,
         "_deepnote_index_column": 10
        }
       ]
      },
      "text/plain": "            date      time source     status disaster_type  \\\n0     01/01/2020  00:03:02  grasp  confirmed         flood   \n1     01/01/2020  00:43:02  grasp  confirmed         flood   \n2     01/01/2020  01:14:53  grasp  confirmed         flood   \n3     01/01/2020  01:15:08  grasp  confirmed         flood   \n4     01/01/2020  01:25:02  grasp  confirmed         flood   \n...          ...       ...    ...        ...           ...   \n3038  28/12/2021  00:18:56  grasp  confirmed         flood   \n3039  28/12/2021  01:23:43  grasp  confirmed         flood   \n3040  28/12/2021  08:00:14  grasp  confirmed         flood   \n3041  28/12/2021  10:49:49  grasp  confirmed         flood   \n3042  30/12/2021  09:32:42  grasp  confirmed         flood   \n\n                                             report_dat  \\\n0         { \"report_type\": \"flood\", \"flood_depth\": 30 }   \n1     { \"points\": 1, \"flood_depth\": 80, \"report_type...   \n2     { \"points\": 1, \"flood_depth\": 51, \"report_type...   \n3     { \"points\": 2, \"flood_depth\": 100, \"report_typ...   \n4         { \"report_type\": \"flood\", \"flood_depth\": 60 }   \n...                                                 ...   \n3038  { \"points\": 1, \"flood_depth\": 68, \"report_type...   \n3039     { \"report_type\": \"flood\", \"flood_depth\": 103 }   \n3040      { \"report_type\": \"flood\", \"flood_depth\": 54 }   \n3041      { \"report_type\": \"flood\", \"flood_depth\": 19 }   \n3042      { \"report_type\": \"flood\", \"flood_depth\": 22 }   \n\n                                                   tags  \\\n0     { \"district_id\": \"3174\", \"local_area_id\": \"125...   \n1     { \"district_id\": null, \"local_area_id\": null, ...   \n2     { \"district_id\": \"3172\", \"local_area_id\": \"178...   \n3     { \"district_id\": null, \"local_area_id\": null, ...   \n4     { \"district_id\": \"3174\", \"local_area_id\": \"220...   \n...                                                 ...   \n3038  { \"district_id\": null, \"local_area_id\": null, ...   \n3039  { \"district_id\": null, \"local_area_id\": null, ...   \n3040  { \"district_id\": \"3173\", \"local_area_id\": \"678...   \n3041  { \"district_id\": null, \"local_area_id\": null, ...   \n3042  { \"district_id\": null, \"local_area_id\": null, ...   \n\n                                                   text            Desa  \\\n0     Banjir di daerah taman ratu dan sekitarnya. Pa...       Duri Kepa   \n1       Jl. Kemuning Indah\\nKota Harapan Indah.\\nBekasi         Pejuang   \n2     Banjir selutut orang dewasa di jalan ros merah...  Cipinang Muara   \n3     Banjir di daerah kedasih dan sekitarnya, karen...      Mekarmukti   \n4     Banjir area komplek Meruya Ilir sejak jam 5 na...    Meruya Utara   \n...                                                 ...             ...   \n3038  Laporan awal. Air sungai meluap akibat curah h...  Karangan Hilir   \n3039  Luapan air sungai Karangan masuk ke pemukiman ...  Karangan Hilir   \n3040                                banjir lah pokoknya    Karang Anyar   \n3041  saluran irigasi yg di kelola desa dengan buruk...       Purwajaya   \n3042  banjir akibat hujan dan banyak nya sampah memb...    Banjar Anyar   \n\n           Kecamatan      Kabupaten                       Provinsi  \\\n0        Kebon Jeruk  Jakarta Barat  Daerah Khusus Ibukota Jakarta   \n1       Medan Satria         Bekasi                     Jawa Barat   \n2         Jatinegara  Jakarta Timur  Daerah Khusus Ibukota Jakarta   \n3     Cikarang Utara         Bekasi                     Jawa Barat   \n4          Kembangan  Jakarta Barat  Daerah Khusus Ibukota Jakarta   \n...              ...            ...                            ...   \n3038        Karangan    Kutai Timur               Kalimantan Timur   \n3039        Karangan    Kutai Timur               Kalimantan Timur   \n3040     Sawah Besar  Jakarta Pusat  Daerah Khusus Ibukota Jakarta   \n3041       Purwadadi         Ciamis                     Jawa Barat   \n3042          Kediri        Tabanan                           Bali   \n\n            long       lat report_type  flood_depth  \n0     106.768660 -6.169780       flood         30.0  \n1     106.978700 -6.179440       flood         80.0  \n2     106.891000 -6.234490       flood         51.0  \n3     107.161890 -6.301700       flood        100.0  \n4     106.738350 -6.199330       flood         60.0  \n...          ...       ...         ...          ...  \n3038  117.655871  1.343771       flood         68.0  \n3039  117.665504  1.351043       flood        103.0  \n3040  106.827622 -6.157398       flood         54.0  \n3041  108.695570 -7.460077       flood         19.0  \n3042  115.142300 -8.554095       flood         22.0  \n\n[2774 rows x 16 columns]",
      "text/html": "<div>\n<style scoped>\n    .dataframe tbody tr th:only-of-type {\n        vertical-align: middle;\n    }\n\n    .dataframe tbody tr th {\n        vertical-align: top;\n    }\n\n    .dataframe thead th {\n        text-align: right;\n    }\n</style>\n<table border=\"1\" class=\"dataframe\">\n  <thead>\n    <tr style=\"text-align: right;\">\n      <th></th>\n      <th>date</th>\n      <th>time</th>\n      <th>source</th>\n      <th>status</th>\n      <th>disaster_type</th>\n      <th>report_dat</th>\n      <th>tags</th>\n      <th>text</th>\n      <th>Desa</th>\n      <th>Kecamatan</th>\n      <th>Kabupaten</th>\n      <th>Provinsi</th>\n      <th>long</th>\n      <th>lat</th>\n      <th>report_type</th>\n      <th>flood_depth</th>\n    </tr>\n  </thead>\n  <tbody>\n    <tr>\n      <th>0</th>\n      <td>01/01/2020</td>\n      <td>00:03:02</td>\n      <td>grasp</td>\n      <td>confirmed</td>\n      <td>flood</td>\n      <td>{ \"report_type\": \"flood\", \"flood_depth\": 30 }</td>\n      <td>{ \"district_id\": \"3174\", \"local_area_id\": \"125...</td>\n      <td>Banjir di daerah taman ratu dan sekitarnya. Pa...</td>\n      <td>Duri Kepa</td>\n      <td>Kebon Jeruk</td>\n      <td>Jakarta Barat</td>\n      <td>Daerah Khusus Ibukota Jakarta</td>\n      <td>106.768660</td>\n      <td>-6.169780</td>\n      <td>flood</td>\n      <td>30.0</td>\n    </tr>\n    <tr>\n      <th>1</th>\n      <td>01/01/2020</td>\n      <td>00:43:02</td>\n      <td>grasp</td>\n      <td>confirmed</td>\n      <td>flood</td>\n      <td>{ \"points\": 1, \"flood_depth\": 80, \"report_type...</td>\n      <td>{ \"district_id\": null, \"local_area_id\": null, ...</td>\n      <td>Jl. Kemuning Indah\\nKota Harapan Indah.\\nBekasi</td>\n      <td>Pejuang</td>\n      <td>Medan Satria</td>\n      <td>Bekasi</td>\n      <td>Jawa Barat</td>\n      <td>106.978700</td>\n      <td>-6.179440</td>\n      <td>flood</td>\n      <td>80.0</td>\n    </tr>\n    <tr>\n      <th>2</th>\n      <td>01/01/2020</td>\n      <td>01:14:53</td>\n      <td>grasp</td>\n      <td>confirmed</td>\n      <td>flood</td>\n      <td>{ \"points\": 1, \"flood_depth\": 51, \"report_type...</td>\n      <td>{ \"district_id\": \"3172\", \"local_area_id\": \"178...</td>\n      <td>Banjir selutut orang dewasa di jalan ros merah...</td>\n      <td>Cipinang Muara</td>\n      <td>Jatinegara</td>\n      <td>Jakarta Timur</td>\n      <td>Daerah Khusus Ibukota Jakarta</td>\n      <td>106.891000</td>\n      <td>-6.234490</td>\n      <td>flood</td>\n      <td>51.0</td>\n    </tr>\n    <tr>\n      <th>3</th>\n      <td>01/01/2020</td>\n      <td>01:15:08</td>\n      <td>grasp</td>\n      <td>confirmed</td>\n      <td>flood</td>\n      <td>{ \"points\": 2, \"flood_depth\": 100, \"report_typ...</td>\n      <td>{ \"district_id\": null, \"local_area_id\": null, ...</td>\n      <td>Banjir di daerah kedasih dan sekitarnya, karen...</td>\n      <td>Mekarmukti</td>\n      <td>Cikarang Utara</td>\n      <td>Bekasi</td>\n      <td>Jawa Barat</td>\n      <td>107.161890</td>\n      <td>-6.301700</td>\n      <td>flood</td>\n      <td>100.0</td>\n    </tr>\n    <tr>\n      <th>4</th>\n      <td>01/01/2020</td>\n      <td>01:25:02</td>\n      <td>grasp</td>\n      <td>confirmed</td>\n      <td>flood</td>\n      <td>{ \"report_type\": \"flood\", \"flood_depth\": 60 }</td>\n      <td>{ \"district_id\": \"3174\", \"local_area_id\": \"220...</td>\n      <td>Banjir area komplek Meruya Ilir sejak jam 5 na...</td>\n      <td>Meruya Utara</td>\n      <td>Kembangan</td>\n      <td>Jakarta Barat</td>\n      <td>Daerah Khusus Ibukota Jakarta</td>\n      <td>106.738350</td>\n      <td>-6.199330</td>\n      <td>flood</td>\n      <td>60.0</td>\n    </tr>\n    <tr>\n      <th>...</th>\n      <td>...</td>\n      <td>...</td>\n      <td>...</td>\n      <td>...</td>\n      <td>...</td>\n      <td>...</td>\n      <td>...</td>\n      <td>...</td>\n      <td>...</td>\n      <td>...</td>\n      <td>...</td>\n      <td>...</td>\n      <td>...</td>\n      <td>...</td>\n      <td>...</td>\n      <td>...</td>\n    </tr>\n    <tr>\n      <th>3038</th>\n      <td>28/12/2021</td>\n      <td>00:18:56</td>\n      <td>grasp</td>\n      <td>confirmed</td>\n      <td>flood</td>\n      <td>{ \"points\": 1, \"flood_depth\": 68, \"report_type...</td>\n      <td>{ \"district_id\": null, \"local_area_id\": null, ...</td>\n      <td>Laporan awal. Air sungai meluap akibat curah h...</td>\n      <td>Karangan Hilir</td>\n      <td>Karangan</td>\n      <td>Kutai Timur</td>\n      <td>Kalimantan Timur</td>\n      <td>117.655871</td>\n      <td>1.343771</td>\n      <td>flood</td>\n      <td>68.0</td>\n    </tr>\n    <tr>\n      <th>3039</th>\n      <td>28/12/2021</td>\n      <td>01:23:43</td>\n      <td>grasp</td>\n      <td>confirmed</td>\n      <td>flood</td>\n      <td>{ \"report_type\": \"flood\", \"flood_depth\": 103 }</td>\n      <td>{ \"district_id\": null, \"local_area_id\": null, ...</td>\n      <td>Luapan air sungai Karangan masuk ke pemukiman ...</td>\n      <td>Karangan Hilir</td>\n      <td>Karangan</td>\n      <td>Kutai Timur</td>\n      <td>Kalimantan Timur</td>\n      <td>117.665504</td>\n      <td>1.351043</td>\n      <td>flood</td>\n      <td>103.0</td>\n    </tr>\n    <tr>\n      <th>3040</th>\n      <td>28/12/2021</td>\n      <td>08:00:14</td>\n      <td>grasp</td>\n      <td>confirmed</td>\n      <td>flood</td>\n      <td>{ \"report_type\": \"flood\", \"flood_depth\": 54 }</td>\n      <td>{ \"district_id\": \"3173\", \"local_area_id\": \"678...</td>\n      <td>banjir lah pokoknya</td>\n      <td>Karang Anyar</td>\n      <td>Sawah Besar</td>\n      <td>Jakarta Pusat</td>\n      <td>Daerah Khusus Ibukota Jakarta</td>\n      <td>106.827622</td>\n      <td>-6.157398</td>\n      <td>flood</td>\n      <td>54.0</td>\n    </tr>\n    <tr>\n      <th>3041</th>\n      <td>28/12/2021</td>\n      <td>10:49:49</td>\n      <td>grasp</td>\n      <td>confirmed</td>\n      <td>flood</td>\n      <td>{ \"report_type\": \"flood\", \"flood_depth\": 19 }</td>\n      <td>{ \"district_id\": null, \"local_area_id\": null, ...</td>\n      <td>saluran irigasi yg di kelola desa dengan buruk...</td>\n      <td>Purwajaya</td>\n      <td>Purwadadi</td>\n      <td>Ciamis</td>\n      <td>Jawa Barat</td>\n      <td>108.695570</td>\n      <td>-7.460077</td>\n      <td>flood</td>\n      <td>19.0</td>\n    </tr>\n    <tr>\n      <th>3042</th>\n      <td>30/12/2021</td>\n      <td>09:32:42</td>\n      <td>grasp</td>\n      <td>confirmed</td>\n      <td>flood</td>\n      <td>{ \"report_type\": \"flood\", \"flood_depth\": 22 }</td>\n      <td>{ \"district_id\": null, \"local_area_id\": null, ...</td>\n      <td>banjir akibat hujan dan banyak nya sampah memb...</td>\n      <td>Banjar Anyar</td>\n      <td>Kediri</td>\n      <td>Tabanan</td>\n      <td>Bali</td>\n      <td>115.142300</td>\n      <td>-8.554095</td>\n      <td>flood</td>\n      <td>22.0</td>\n    </tr>\n  </tbody>\n</table>\n<p>2774 rows × 16 columns</p>\n</div>"
     },
     "metadata": {}
    }
   ]
  },
  {
   "cell_type": "code",
   "metadata": {
    "cell_id": "b829dd99b09840d3a08f507eeab7ddc9",
    "tags": [],
    "deepnote_to_be_reexecuted": false,
    "source_hash": "c550f408",
    "execution_start": 1661016414710,
    "execution_millis": 3,
    "deepnote_cell_type": "code",
    "deepnote_cell_height": 94
   },
   "source": "z = z[['date', 'disaster_type', 'flood_depth']]\nz = z [['date', 'flood_depth']]",
   "execution_count": 10,
   "outputs": []
  },
  {
   "cell_type": "code",
   "metadata": {
    "cell_id": "c64feb504e6342cea9da5d9afbd055ee",
    "tags": [],
    "deepnote_to_be_reexecuted": false,
    "source_hash": "93e96cf8",
    "execution_start": 1661016414716,
    "execution_millis": 539,
    "deepnote_cell_type": "code",
    "deepnote_cell_height": 613
   },
   "source": "z['date'] = pd.to_datetime(z['date'])\nz",
   "execution_count": 11,
   "outputs": [
    {
     "output_type": "execute_result",
     "execution_count": 11,
     "data": {
      "application/vnd.deepnote.dataframe.v3+json": {
       "column_count": 2,
       "row_count": 2774,
       "columns": [
        {
         "name": "date",
         "dtype": "datetime64[ns]",
         "stats": {
          "unique_count": 341,
          "nan_count": 0,
          "min": "2020-01-01 00:00:00",
          "max": "2021-12-30 00:00:00",
          "histogram": [
           {
            "bin_start": 1577836800000000000,
            "bin_end": 1584135360000000000,
            "count": 1291
           },
           {
            "bin_start": 1584135360000000000,
            "bin_end": 1590433920000000000,
            "count": 99
           },
           {
            "bin_start": 1590433920000000000,
            "bin_end": 1596732480000000000,
            "count": 203
           },
           {
            "bin_start": 1596732480000000000,
            "bin_end": 1603031040000000000,
            "count": 76
           },
           {
            "bin_start": 1603031040000000000,
            "bin_end": 1609329600000000000,
            "count": 58
           },
           {
            "bin_start": 1609329600000000000,
            "bin_end": 1615628160000000000,
            "count": 627
           },
           {
            "bin_start": 1615628160000000000,
            "bin_end": 1621926720000000000,
            "count": 75
           },
           {
            "bin_start": 1621926720000000000,
            "bin_end": 1628225280000000000,
            "count": 144
           },
           {
            "bin_start": 1628225280000000000,
            "bin_end": 1634523840000000000,
            "count": 100
           },
           {
            "bin_start": 1634523840000000000,
            "bin_end": 1640822400000000000,
            "count": 101
           }
          ]
         }
        },
        {
         "name": "flood_depth",
         "dtype": "float64",
         "stats": {
          "unique_count": 185,
          "nan_count": 0,
          "min": "0.0",
          "max": "200.0",
          "histogram": [
           {
            "bin_start": 0,
            "bin_end": 20,
            "count": 176
           },
           {
            "bin_start": 20,
            "bin_end": 40,
            "count": 645
           },
           {
            "bin_start": 40,
            "bin_end": 60,
            "count": 917
           },
           {
            "bin_start": 60,
            "bin_end": 80,
            "count": 390
           },
           {
            "bin_start": 80,
            "bin_end": 100,
            "count": 255
           },
           {
            "bin_start": 100,
            "bin_end": 120,
            "count": 146
           },
           {
            "bin_start": 120,
            "bin_end": 140,
            "count": 92
           },
           {
            "bin_start": 140,
            "bin_end": 160,
            "count": 59
           },
           {
            "bin_start": 160,
            "bin_end": 180,
            "count": 20
           },
           {
            "bin_start": 180,
            "bin_end": 200,
            "count": 74
           }
          ]
         }
        },
        {
         "name": "_deepnote_index_column",
         "dtype": "int64"
        }
       ],
       "rows": [
        {
         "date": "2020-01-01T00:00:00Z",
         "flood_depth": 30,
         "_deepnote_index_column": 0
        },
        {
         "date": "2020-01-01T00:00:00Z",
         "flood_depth": 80,
         "_deepnote_index_column": 1
        },
        {
         "date": "2020-01-01T00:00:00Z",
         "flood_depth": 51,
         "_deepnote_index_column": 2
        },
        {
         "date": "2020-01-01T00:00:00Z",
         "flood_depth": 100,
         "_deepnote_index_column": 3
        },
        {
         "date": "2020-01-01T00:00:00Z",
         "flood_depth": 60,
         "_deepnote_index_column": 4
        },
        {
         "date": "2020-01-01T00:00:00Z",
         "flood_depth": 39,
         "_deepnote_index_column": 5
        },
        {
         "date": "2020-01-01T00:00:00Z",
         "flood_depth": 79,
         "_deepnote_index_column": 6
        },
        {
         "date": "2020-01-01T00:00:00Z",
         "flood_depth": 116,
         "_deepnote_index_column": 7
        },
        {
         "date": "2020-01-01T00:00:00Z",
         "flood_depth": 60,
         "_deepnote_index_column": 8
        },
        {
         "date": "2020-01-01T00:00:00Z",
         "flood_depth": 81,
         "_deepnote_index_column": 10
        }
       ]
      },
      "text/plain": "           date  flood_depth\n0    2020-01-01         30.0\n1    2020-01-01         80.0\n2    2020-01-01         51.0\n3    2020-01-01        100.0\n4    2020-01-01         60.0\n...         ...          ...\n3038 2021-12-28         68.0\n3039 2021-12-28        103.0\n3040 2021-12-28         54.0\n3041 2021-12-28         19.0\n3042 2021-12-30         22.0\n\n[2774 rows x 2 columns]",
      "text/html": "<div>\n<style scoped>\n    .dataframe tbody tr th:only-of-type {\n        vertical-align: middle;\n    }\n\n    .dataframe tbody tr th {\n        vertical-align: top;\n    }\n\n    .dataframe thead th {\n        text-align: right;\n    }\n</style>\n<table border=\"1\" class=\"dataframe\">\n  <thead>\n    <tr style=\"text-align: right;\">\n      <th></th>\n      <th>date</th>\n      <th>flood_depth</th>\n    </tr>\n  </thead>\n  <tbody>\n    <tr>\n      <th>0</th>\n      <td>2020-01-01</td>\n      <td>30.0</td>\n    </tr>\n    <tr>\n      <th>1</th>\n      <td>2020-01-01</td>\n      <td>80.0</td>\n    </tr>\n    <tr>\n      <th>2</th>\n      <td>2020-01-01</td>\n      <td>51.0</td>\n    </tr>\n    <tr>\n      <th>3</th>\n      <td>2020-01-01</td>\n      <td>100.0</td>\n    </tr>\n    <tr>\n      <th>4</th>\n      <td>2020-01-01</td>\n      <td>60.0</td>\n    </tr>\n    <tr>\n      <th>...</th>\n      <td>...</td>\n      <td>...</td>\n    </tr>\n    <tr>\n      <th>3038</th>\n      <td>2021-12-28</td>\n      <td>68.0</td>\n    </tr>\n    <tr>\n      <th>3039</th>\n      <td>2021-12-28</td>\n      <td>103.0</td>\n    </tr>\n    <tr>\n      <th>3040</th>\n      <td>2021-12-28</td>\n      <td>54.0</td>\n    </tr>\n    <tr>\n      <th>3041</th>\n      <td>2021-12-28</td>\n      <td>19.0</td>\n    </tr>\n    <tr>\n      <th>3042</th>\n      <td>2021-12-30</td>\n      <td>22.0</td>\n    </tr>\n  </tbody>\n</table>\n<p>2774 rows × 2 columns</p>\n</div>"
     },
     "metadata": {}
    }
   ]
  },
  {
   "cell_type": "code",
   "metadata": {
    "cell_id": "ff218e2a2ddf4131ac57bef6ee00267e",
    "tags": [],
    "deepnote_to_be_reexecuted": false,
    "source_hash": "35566797",
    "execution_start": 1661016414762,
    "execution_millis": 59,
    "deepnote_cell_type": "code",
    "deepnote_cell_height": 112
   },
   "source": "z['date'] = pd.to_datetime(z['date'])\nz = z.set_index('date') \ngrouped_dat = z.flood_depth.resample('m').mean()",
   "execution_count": 12,
   "outputs": []
  },
  {
   "cell_type": "code",
   "metadata": {
    "cell_id": "73c59ae341a74b77a588f443e0adbd82",
    "tags": [],
    "deepnote_to_be_reexecuted": false,
    "source_hash": "7e9f7ea4",
    "execution_start": 1661016414822,
    "execution_millis": 435,
    "deepnote_cell_type": "code",
    "deepnote_cell_height": 592,
    "deepnote_output_heights": [
     499.875
    ]
   },
   "source": "grouped_dat",
   "execution_count": 13,
   "outputs": [
    {
     "output_type": "execute_result",
     "execution_count": 13,
     "data": {
      "text/plain": "date\n2020-01-31    59.302083\n2020-02-29    56.142319\n2020-03-31    59.850746\n2020-04-30    62.052632\n2020-05-31    47.113208\n2020-06-30    73.678571\n2020-07-31    66.098765\n2020-08-31    45.455696\n2020-09-30    46.266667\n2020-10-31    65.000000\n2020-11-30    67.000000\n2020-12-31    54.535714\n2021-01-31    71.939759\n2021-02-28    68.268722\n2021-03-31    74.923077\n2021-04-30    67.657895\n2021-05-31    59.781250\n2021-06-30    52.326531\n2021-07-31    48.323077\n2021-08-31    66.450980\n2021-09-30    69.868852\n2021-10-31    63.321429\n2021-11-30    56.942857\n2021-12-31    59.909091\nFreq: M, Name: flood_depth, dtype: float64"
     },
     "metadata": {}
    }
   ]
  },
  {
   "cell_type": "code",
   "metadata": {
    "cell_id": "83d7ce1821744893bab575a254c97cf8",
    "tags": [],
    "deepnote_to_be_reexecuted": false,
    "source_hash": "835783dd",
    "execution_start": 1661016414823,
    "execution_millis": 33,
    "deepnote_cell_type": "code",
    "deepnote_cell_height": 76
   },
   "source": "final_dat = grouped_dat.to_frame()",
   "execution_count": 14,
   "outputs": []
  },
  {
   "cell_type": "code",
   "metadata": {
    "cell_id": "64732082de4e47eaab824301ecbae213",
    "tags": [],
    "deepnote_to_be_reexecuted": false,
    "source_hash": "36a4ded8",
    "execution_start": 1661016414856,
    "execution_millis": 402,
    "deepnote_cell_type": "code",
    "deepnote_cell_height": 595
   },
   "source": "final_dat",
   "execution_count": 15,
   "outputs": [
    {
     "output_type": "execute_result",
     "execution_count": 15,
     "data": {
      "application/vnd.deepnote.dataframe.v3+json": {
       "column_count": 1,
       "row_count": 24,
       "columns": [
        {
         "name": "flood_depth",
         "dtype": "float64",
         "stats": {
          "unique_count": 24,
          "nan_count": 0,
          "min": "45.45569620253165",
          "max": "74.92307692307692",
          "histogram": [
           {
            "bin_start": 45.45569620253165,
            "bin_end": 48.40243427458618,
            "count": 4
           },
           {
            "bin_start": 48.40243427458618,
            "bin_end": 51.3491723466407,
            "count": 0
           },
           {
            "bin_start": 51.3491723466407,
            "bin_end": 54.29591041869523,
            "count": 1
           },
           {
            "bin_start": 54.29591041869523,
            "bin_end": 57.24264849074976,
            "count": 3
           },
           {
            "bin_start": 57.24264849074976,
            "bin_end": 60.18938656280429,
            "count": 4
           },
           {
            "bin_start": 60.18938656280429,
            "bin_end": 63.13612463485881,
            "count": 1
           },
           {
            "bin_start": 63.13612463485881,
            "bin_end": 66.08286270691335,
            "count": 2
           },
           {
            "bin_start": 66.08286270691335,
            "bin_end": 69.02960077896786,
            "count": 5
           },
           {
            "bin_start": 69.02960077896786,
            "bin_end": 71.97633885102239,
            "count": 2
           },
           {
            "bin_start": 71.97633885102239,
            "bin_end": 74.92307692307692,
            "count": 2
           }
          ]
         }
        },
        {
         "name": "_deepnote_index_column",
         "dtype": "datetime64[ns]"
        }
       ],
       "rows": [
        {
         "flood_depth": 59.302083333333336,
         "_deepnote_index_column": "2020-01-31T00:00:00Z"
        },
        {
         "flood_depth": 56.14231856738925,
         "_deepnote_index_column": "2020-02-29T00:00:00Z"
        },
        {
         "flood_depth": 59.850746268656714,
         "_deepnote_index_column": "2020-03-31T00:00:00Z"
        },
        {
         "flood_depth": 62.05263157894737,
         "_deepnote_index_column": "2020-04-30T00:00:00Z"
        },
        {
         "flood_depth": 47.113207547169814,
         "_deepnote_index_column": "2020-05-31T00:00:00Z"
        },
        {
         "flood_depth": 73.67857142857143,
         "_deepnote_index_column": "2020-06-30T00:00:00Z"
        },
        {
         "flood_depth": 66.09876543209876,
         "_deepnote_index_column": "2020-07-31T00:00:00Z"
        },
        {
         "flood_depth": 45.45569620253165,
         "_deepnote_index_column": "2020-08-31T00:00:00Z"
        },
        {
         "flood_depth": 46.266666666666666,
         "_deepnote_index_column": "2020-09-30T00:00:00Z"
        },
        {
         "flood_depth": 65,
         "_deepnote_index_column": "2020-10-31T00:00:00Z"
        }
       ]
      },
      "text/plain": "            flood_depth\ndate                   \n2020-01-31    59.302083\n2020-02-29    56.142319\n2020-03-31    59.850746\n2020-04-30    62.052632\n2020-05-31    47.113208\n2020-06-30    73.678571\n2020-07-31    66.098765\n2020-08-31    45.455696\n2020-09-30    46.266667\n2020-10-31    65.000000\n2020-11-30    67.000000\n2020-12-31    54.535714\n2021-01-31    71.939759\n2021-02-28    68.268722\n2021-03-31    74.923077\n2021-04-30    67.657895\n2021-05-31    59.781250\n2021-06-30    52.326531\n2021-07-31    48.323077\n2021-08-31    66.450980\n2021-09-30    69.868852\n2021-10-31    63.321429\n2021-11-30    56.942857\n2021-12-31    59.909091",
      "text/html": "<div>\n<style scoped>\n    .dataframe tbody tr th:only-of-type {\n        vertical-align: middle;\n    }\n\n    .dataframe tbody tr th {\n        vertical-align: top;\n    }\n\n    .dataframe thead th {\n        text-align: right;\n    }\n</style>\n<table border=\"1\" class=\"dataframe\">\n  <thead>\n    <tr style=\"text-align: right;\">\n      <th></th>\n      <th>flood_depth</th>\n    </tr>\n    <tr>\n      <th>date</th>\n      <th></th>\n    </tr>\n  </thead>\n  <tbody>\n    <tr>\n      <th>2020-01-31</th>\n      <td>59.302083</td>\n    </tr>\n    <tr>\n      <th>2020-02-29</th>\n      <td>56.142319</td>\n    </tr>\n    <tr>\n      <th>2020-03-31</th>\n      <td>59.850746</td>\n    </tr>\n    <tr>\n      <th>2020-04-30</th>\n      <td>62.052632</td>\n    </tr>\n    <tr>\n      <th>2020-05-31</th>\n      <td>47.113208</td>\n    </tr>\n    <tr>\n      <th>2020-06-30</th>\n      <td>73.678571</td>\n    </tr>\n    <tr>\n      <th>2020-07-31</th>\n      <td>66.098765</td>\n    </tr>\n    <tr>\n      <th>2020-08-31</th>\n      <td>45.455696</td>\n    </tr>\n    <tr>\n      <th>2020-09-30</th>\n      <td>46.266667</td>\n    </tr>\n    <tr>\n      <th>2020-10-31</th>\n      <td>65.000000</td>\n    </tr>\n    <tr>\n      <th>2020-11-30</th>\n      <td>67.000000</td>\n    </tr>\n    <tr>\n      <th>2020-12-31</th>\n      <td>54.535714</td>\n    </tr>\n    <tr>\n      <th>2021-01-31</th>\n      <td>71.939759</td>\n    </tr>\n    <tr>\n      <th>2021-02-28</th>\n      <td>68.268722</td>\n    </tr>\n    <tr>\n      <th>2021-03-31</th>\n      <td>74.923077</td>\n    </tr>\n    <tr>\n      <th>2021-04-30</th>\n      <td>67.657895</td>\n    </tr>\n    <tr>\n      <th>2021-05-31</th>\n      <td>59.781250</td>\n    </tr>\n    <tr>\n      <th>2021-06-30</th>\n      <td>52.326531</td>\n    </tr>\n    <tr>\n      <th>2021-07-31</th>\n      <td>48.323077</td>\n    </tr>\n    <tr>\n      <th>2021-08-31</th>\n      <td>66.450980</td>\n    </tr>\n    <tr>\n      <th>2021-09-30</th>\n      <td>69.868852</td>\n    </tr>\n    <tr>\n      <th>2021-10-31</th>\n      <td>63.321429</td>\n    </tr>\n    <tr>\n      <th>2021-11-30</th>\n      <td>56.942857</td>\n    </tr>\n    <tr>\n      <th>2021-12-31</th>\n      <td>59.909091</td>\n    </tr>\n  </tbody>\n</table>\n</div>"
     },
     "metadata": {}
    }
   ]
  },
  {
   "cell_type": "code",
   "metadata": {
    "cell_id": "5ff8db9ba2e14be2949aae0cb0dcfb08",
    "tags": [],
    "deepnote_to_be_reexecuted": false,
    "source_hash": "4501e1d8",
    "execution_start": 1661016414863,
    "execution_millis": 13915429,
    "deepnote_cell_type": "code",
    "deepnote_cell_height": 76
   },
   "source": "final_dat['date'] = final_dat.index",
   "execution_count": 16,
   "outputs": []
  },
  {
   "cell_type": "code",
   "metadata": {
    "cell_id": "15e3aaa783e84f4ba75187c5da813934",
    "tags": [],
    "deepnote_to_be_reexecuted": false,
    "source_hash": "36a4ded8",
    "execution_start": 1661016414886,
    "execution_millis": 374,
    "deepnote_table_state": {
     "pageSize": 10,
     "pageIndex": 2,
     "filters": [],
     "sortBy": []
    },
    "deepnote_table_loading": false,
    "deepnote_cell_type": "code",
    "deepnote_cell_height": 349
   },
   "source": "final_dat",
   "execution_count": 17,
   "outputs": [
    {
     "output_type": "execute_result",
     "execution_count": 17,
     "data": {
      "application/vnd.deepnote.dataframe.v3+json": {
       "column_count": 2,
       "row_count": 24,
       "columns": [
        {
         "name": "flood_depth",
         "dtype": "float64",
         "stats": {
          "unique_count": 24,
          "nan_count": 0,
          "min": "45.45569620253165",
          "max": "74.92307692307692",
          "histogram": [
           {
            "bin_start": 45.45569620253165,
            "bin_end": 48.40243427458618,
            "count": 4
           },
           {
            "bin_start": 48.40243427458618,
            "bin_end": 51.3491723466407,
            "count": 0
           },
           {
            "bin_start": 51.3491723466407,
            "bin_end": 54.29591041869523,
            "count": 1
           },
           {
            "bin_start": 54.29591041869523,
            "bin_end": 57.24264849074976,
            "count": 3
           },
           {
            "bin_start": 57.24264849074976,
            "bin_end": 60.18938656280429,
            "count": 4
           },
           {
            "bin_start": 60.18938656280429,
            "bin_end": 63.13612463485881,
            "count": 1
           },
           {
            "bin_start": 63.13612463485881,
            "bin_end": 66.08286270691335,
            "count": 2
           },
           {
            "bin_start": 66.08286270691335,
            "bin_end": 69.02960077896786,
            "count": 5
           },
           {
            "bin_start": 69.02960077896786,
            "bin_end": 71.97633885102239,
            "count": 2
           },
           {
            "bin_start": 71.97633885102239,
            "bin_end": 74.92307692307692,
            "count": 2
           }
          ]
         }
        },
        {
         "name": "date",
         "dtype": "datetime64[ns]",
         "stats": {
          "unique_count": 24,
          "nan_count": 0,
          "min": "2020-01-31 00:00:00",
          "max": "2021-12-31 00:00:00",
          "histogram": [
           {
            "bin_start": 1580428800000000000,
            "bin_end": 1586476800000000000,
            "count": 3
           },
           {
            "bin_start": 1586476800000000000,
            "bin_end": 1592524800000000000,
            "count": 2
           },
           {
            "bin_start": 1592524800000000000,
            "bin_end": 1598572800000000000,
            "count": 2
           },
           {
            "bin_start": 1598572800000000000,
            "bin_end": 1604620800000000000,
            "count": 3
           },
           {
            "bin_start": 1604620800000000000,
            "bin_end": 1610668800000000000,
            "count": 2
           },
           {
            "bin_start": 1610668800000000000,
            "bin_end": 1616716800000000000,
            "count": 2
           },
           {
            "bin_start": 1616716800000000000,
            "bin_end": 1622764800000000000,
            "count": 3
           },
           {
            "bin_start": 1622764800000000000,
            "bin_end": 1628812800000000000,
            "count": 2
           },
           {
            "bin_start": 1628812800000000000,
            "bin_end": 1634860800000000000,
            "count": 2
           },
           {
            "bin_start": 1634860800000000000,
            "bin_end": 1640908800000000000,
            "count": 3
           }
          ]
         }
        },
        {
         "name": "_deepnote_index_column",
         "dtype": "datetime64[ns]"
        }
       ],
       "rows": [
        {
         "flood_depth": 69.8688524590164,
         "date": "2021-09-30T00:00:00Z",
         "_deepnote_index_column": "2021-09-30T00:00:00Z"
        },
        {
         "flood_depth": 63.32142857142857,
         "date": "2021-10-31T00:00:00Z",
         "_deepnote_index_column": "2021-10-31T00:00:00Z"
        },
        {
         "flood_depth": 56.94285714285714,
         "date": "2021-11-30T00:00:00Z",
         "_deepnote_index_column": "2021-11-30T00:00:00Z"
        },
        {
         "flood_depth": 59.90909090909091,
         "date": "2021-12-31T00:00:00Z",
         "_deepnote_index_column": "2021-12-31T00:00:00Z"
        }
       ]
      },
      "text/plain": "            flood_depth       date\ndate                              \n2020-01-31    59.302083 2020-01-31\n2020-02-29    56.142319 2020-02-29\n2020-03-31    59.850746 2020-03-31\n2020-04-30    62.052632 2020-04-30\n2020-05-31    47.113208 2020-05-31\n2020-06-30    73.678571 2020-06-30\n2020-07-31    66.098765 2020-07-31\n2020-08-31    45.455696 2020-08-31\n2020-09-30    46.266667 2020-09-30\n2020-10-31    65.000000 2020-10-31\n2020-11-30    67.000000 2020-11-30\n2020-12-31    54.535714 2020-12-31\n2021-01-31    71.939759 2021-01-31\n2021-02-28    68.268722 2021-02-28\n2021-03-31    74.923077 2021-03-31\n2021-04-30    67.657895 2021-04-30\n2021-05-31    59.781250 2021-05-31\n2021-06-30    52.326531 2021-06-30\n2021-07-31    48.323077 2021-07-31\n2021-08-31    66.450980 2021-08-31\n2021-09-30    69.868852 2021-09-30\n2021-10-31    63.321429 2021-10-31\n2021-11-30    56.942857 2021-11-30\n2021-12-31    59.909091 2021-12-31",
      "text/html": "<div>\n<style scoped>\n    .dataframe tbody tr th:only-of-type {\n        vertical-align: middle;\n    }\n\n    .dataframe tbody tr th {\n        vertical-align: top;\n    }\n\n    .dataframe thead th {\n        text-align: right;\n    }\n</style>\n<table border=\"1\" class=\"dataframe\">\n  <thead>\n    <tr style=\"text-align: right;\">\n      <th></th>\n      <th>flood_depth</th>\n      <th>date</th>\n    </tr>\n    <tr>\n      <th>date</th>\n      <th></th>\n      <th></th>\n    </tr>\n  </thead>\n  <tbody>\n    <tr>\n      <th>2020-01-31</th>\n      <td>59.302083</td>\n      <td>2020-01-31</td>\n    </tr>\n    <tr>\n      <th>2020-02-29</th>\n      <td>56.142319</td>\n      <td>2020-02-29</td>\n    </tr>\n    <tr>\n      <th>2020-03-31</th>\n      <td>59.850746</td>\n      <td>2020-03-31</td>\n    </tr>\n    <tr>\n      <th>2020-04-30</th>\n      <td>62.052632</td>\n      <td>2020-04-30</td>\n    </tr>\n    <tr>\n      <th>2020-05-31</th>\n      <td>47.113208</td>\n      <td>2020-05-31</td>\n    </tr>\n    <tr>\n      <th>2020-06-30</th>\n      <td>73.678571</td>\n      <td>2020-06-30</td>\n    </tr>\n    <tr>\n      <th>2020-07-31</th>\n      <td>66.098765</td>\n      <td>2020-07-31</td>\n    </tr>\n    <tr>\n      <th>2020-08-31</th>\n      <td>45.455696</td>\n      <td>2020-08-31</td>\n    </tr>\n    <tr>\n      <th>2020-09-30</th>\n      <td>46.266667</td>\n      <td>2020-09-30</td>\n    </tr>\n    <tr>\n      <th>2020-10-31</th>\n      <td>65.000000</td>\n      <td>2020-10-31</td>\n    </tr>\n    <tr>\n      <th>2020-11-30</th>\n      <td>67.000000</td>\n      <td>2020-11-30</td>\n    </tr>\n    <tr>\n      <th>2020-12-31</th>\n      <td>54.535714</td>\n      <td>2020-12-31</td>\n    </tr>\n    <tr>\n      <th>2021-01-31</th>\n      <td>71.939759</td>\n      <td>2021-01-31</td>\n    </tr>\n    <tr>\n      <th>2021-02-28</th>\n      <td>68.268722</td>\n      <td>2021-02-28</td>\n    </tr>\n    <tr>\n      <th>2021-03-31</th>\n      <td>74.923077</td>\n      <td>2021-03-31</td>\n    </tr>\n    <tr>\n      <th>2021-04-30</th>\n      <td>67.657895</td>\n      <td>2021-04-30</td>\n    </tr>\n    <tr>\n      <th>2021-05-31</th>\n      <td>59.781250</td>\n      <td>2021-05-31</td>\n    </tr>\n    <tr>\n      <th>2021-06-30</th>\n      <td>52.326531</td>\n      <td>2021-06-30</td>\n    </tr>\n    <tr>\n      <th>2021-07-31</th>\n      <td>48.323077</td>\n      <td>2021-07-31</td>\n    </tr>\n    <tr>\n      <th>2021-08-31</th>\n      <td>66.450980</td>\n      <td>2021-08-31</td>\n    </tr>\n    <tr>\n      <th>2021-09-30</th>\n      <td>69.868852</td>\n      <td>2021-09-30</td>\n    </tr>\n    <tr>\n      <th>2021-10-31</th>\n      <td>63.321429</td>\n      <td>2021-10-31</td>\n    </tr>\n    <tr>\n      <th>2021-11-30</th>\n      <td>56.942857</td>\n      <td>2021-11-30</td>\n    </tr>\n    <tr>\n      <th>2021-12-31</th>\n      <td>59.909091</td>\n      <td>2021-12-31</td>\n    </tr>\n  </tbody>\n</table>\n</div>"
     },
     "metadata": {}
    }
   ]
  },
  {
   "cell_type": "code",
   "metadata": {
    "cell_id": "56245e32066a4118ad4d0d85af5f8a2e",
    "tags": [],
    "deepnote_to_be_reexecuted": false,
    "source_hash": "c39f41b7",
    "execution_start": 1661016414888,
    "execution_millis": 2822,
    "deepnote_cell_type": "code",
    "deepnote_cell_height": 112
   },
   "source": "from pmdarima import auto_arima\nimport warnings\nwarnings.filterwarnings(\"ignore\")",
   "execution_count": 18,
   "outputs": []
  },
  {
   "cell_type": "code",
   "metadata": {
    "cell_id": "ede8d941c0fe48f2bd1045c20d4531b3",
    "tags": [],
    "deepnote_to_be_reexecuted": false,
    "source_hash": "d1d94b3d",
    "execution_start": 1661016417717,
    "execution_millis": 817,
    "deepnote_cell_type": "code",
    "deepnote_cell_height": 872,
    "deepnote_output_heights": [
     null,
     528.75
    ]
   },
   "source": "stepwise_fit = auto_arima(final_dat['flood_depth'], trace = True, supress_warnings = True)\nstepwise_fit.summary()",
   "execution_count": 19,
   "outputs": [
    {
     "name": "stdout",
     "text": "Performing stepwise search to minimize aic\n ARIMA(2,0,2)(0,0,0)[0] intercept   : AIC=179.767, Time=0.22 sec\n ARIMA(0,0,0)(0,0,0)[0] intercept   : AIC=174.920, Time=0.02 sec\n ARIMA(1,0,0)(0,0,0)[0] intercept   : AIC=176.347, Time=0.09 sec\n ARIMA(0,0,1)(0,0,0)[0] intercept   : AIC=175.620, Time=0.04 sec\n ARIMA(0,0,0)(0,0,0)[0]             : AIC=267.837, Time=0.06 sec\n ARIMA(1,0,1)(0,0,0)[0] intercept   : AIC=inf, Time=0.30 sec\n\nBest model:  ARIMA(0,0,0)(0,0,0)[0] intercept\nTotal fit time: 0.741 seconds\n",
     "output_type": "stream"
    },
    {
     "output_type": "execute_result",
     "execution_count": 19,
     "data": {
      "text/plain": "<class 'statsmodels.iolib.summary.Summary'>\n\"\"\"\n                               SARIMAX Results                                \n==============================================================================\nDep. Variable:                      y   No. Observations:                   24\nModel:                        SARIMAX   Log Likelihood                 -85.460\nDate:                Sat, 20 Aug 2022   AIC                            174.920\nTime:                        17:26:58   BIC                            177.276\nSample:                    01-31-2020   HQIC                           175.545\n                         - 12-31-2021                                         \nCovariance Type:                  opg                                         \n==============================================================================\n                 coef    std err          z      P>|z|      [0.025      0.975]\n------------------------------------------------------------------------------\nintercept     60.9254      1.811     33.651      0.000      57.377      64.474\nsigma2        72.5152     29.170      2.486      0.013      15.343     129.688\n===================================================================================\nLjung-Box (L1) (Q):                   0.67   Jarque-Bera (JB):                 1.13\nProb(Q):                              0.41   Prob(JB):                         0.57\nHeteroskedasticity (H):               0.57   Skew:                            -0.30\nProb(H) (two-sided):                  0.44   Kurtosis:                         2.12\n===================================================================================\n\nWarnings:\n[1] Covariance matrix calculated using the outer product of gradients (complex-step).\n\"\"\"",
      "text/html": "<table class=\"simpletable\">\n<caption>SARIMAX Results</caption>\n<tr>\n  <th>Dep. Variable:</th>           <td>y</td>        <th>  No. Observations:  </th>   <td>24</td>   \n</tr>\n<tr>\n  <th>Model:</th>                <td>SARIMAX</td>     <th>  Log Likelihood     </th> <td>-85.460</td>\n</tr>\n<tr>\n  <th>Date:</th>            <td>Sat, 20 Aug 2022</td> <th>  AIC                </th> <td>174.920</td>\n</tr>\n<tr>\n  <th>Time:</th>                <td>17:26:58</td>     <th>  BIC                </th> <td>177.276</td>\n</tr>\n<tr>\n  <th>Sample:</th>             <td>01-31-2020</td>    <th>  HQIC               </th> <td>175.545</td>\n</tr>\n<tr>\n  <th></th>                   <td>- 12-31-2021</td>   <th>                     </th>    <td> </td>   \n</tr>\n<tr>\n  <th>Covariance Type:</th>        <td>opg</td>       <th>                     </th>    <td> </td>   \n</tr>\n</table>\n<table class=\"simpletable\">\n<tr>\n      <td></td>         <th>coef</th>     <th>std err</th>      <th>z</th>      <th>P>|z|</th>  <th>[0.025</th>    <th>0.975]</th>  \n</tr>\n<tr>\n  <th>intercept</th> <td>   60.9254</td> <td>    1.811</td> <td>   33.651</td> <td> 0.000</td> <td>   57.377</td> <td>   64.474</td>\n</tr>\n<tr>\n  <th>sigma2</th>    <td>   72.5152</td> <td>   29.170</td> <td>    2.486</td> <td> 0.013</td> <td>   15.343</td> <td>  129.688</td>\n</tr>\n</table>\n<table class=\"simpletable\">\n<tr>\n  <th>Ljung-Box (L1) (Q):</th>     <td>0.67</td> <th>  Jarque-Bera (JB):  </th> <td>1.13</td> \n</tr>\n<tr>\n  <th>Prob(Q):</th>                <td>0.41</td> <th>  Prob(JB):          </th> <td>0.57</td> \n</tr>\n<tr>\n  <th>Heteroskedasticity (H):</th> <td>0.57</td> <th>  Skew:              </th> <td>-0.30</td>\n</tr>\n<tr>\n  <th>Prob(H) (two-sided):</th>    <td>0.44</td> <th>  Kurtosis:          </th> <td>2.12</td> \n</tr>\n</table><br/><br/>Warnings:<br/>[1] Covariance matrix calculated using the outer product of gradients (complex-step)."
     },
     "metadata": {}
    }
   ]
  },
  {
   "cell_type": "code",
   "metadata": {
    "cell_id": "53119dd719aa460fb4ae8621ecb67758",
    "tags": [],
    "deepnote_to_be_reexecuted": false,
    "source_hash": "452c6411",
    "execution_start": 1661016418535,
    "execution_millis": 7,
    "deepnote_cell_type": "code",
    "deepnote_cell_height": 76
   },
   "source": "from statsmodels.tsa.arima.model import ARIMA",
   "execution_count": 20,
   "outputs": []
  },
  {
   "cell_type": "code",
   "metadata": {
    "cell_id": "424375391dd74444beeaff342605fc71",
    "tags": [],
    "deepnote_to_be_reexecuted": false,
    "source_hash": "b4b47120",
    "execution_start": 1661016418546,
    "execution_millis": 12,
    "deepnote_cell_type": "code",
    "deepnote_cell_height": 181.375
   },
   "source": "print(final_dat.shape)\ntrain = final_dat.iloc[:-12]\ntest = final_dat.iloc[-12:]\nprint(train.shape, test.shape)",
   "execution_count": 21,
   "outputs": [
    {
     "name": "stdout",
     "text": "(24, 2)\n(12, 2) (12, 2)\n",
     "output_type": "stream"
    }
   ]
  },
  {
   "cell_type": "code",
   "metadata": {
    "cell_id": "e5acded492a147e18a15a374087e0f02",
    "tags": [],
    "deepnote_to_be_reexecuted": false,
    "source_hash": "951a9862",
    "execution_start": 1661016418594,
    "execution_millis": 3,
    "deepnote_cell_type": "code",
    "deepnote_cell_height": 595
   },
   "source": "test",
   "execution_count": 22,
   "outputs": [
    {
     "output_type": "execute_result",
     "execution_count": 22,
     "data": {
      "application/vnd.deepnote.dataframe.v3+json": {
       "column_count": 2,
       "row_count": 12,
       "columns": [
        {
         "name": "flood_depth",
         "dtype": "float64",
         "stats": {
          "unique_count": 12,
          "nan_count": 0,
          "min": "48.323076923076925",
          "max": "74.92307692307692",
          "histogram": [
           {
            "bin_start": 48.323076923076925,
            "bin_end": 50.98307692307692,
            "count": 1
           },
           {
            "bin_start": 50.98307692307692,
            "bin_end": 53.643076923076926,
            "count": 1
           },
           {
            "bin_start": 53.643076923076926,
            "bin_end": 56.30307692307692,
            "count": 0
           },
           {
            "bin_start": 56.30307692307692,
            "bin_end": 58.963076923076926,
            "count": 1
           },
           {
            "bin_start": 58.963076923076926,
            "bin_end": 61.62307692307692,
            "count": 2
           },
           {
            "bin_start": 61.62307692307692,
            "bin_end": 64.28307692307692,
            "count": 1
           },
           {
            "bin_start": 64.28307692307692,
            "bin_end": 66.94307692307692,
            "count": 1
           },
           {
            "bin_start": 66.94307692307692,
            "bin_end": 69.60307692307691,
            "count": 2
           },
           {
            "bin_start": 69.60307692307691,
            "bin_end": 72.26307692307692,
            "count": 2
           },
           {
            "bin_start": 72.26307692307692,
            "bin_end": 74.92307692307692,
            "count": 1
           }
          ]
         }
        },
        {
         "name": "date",
         "dtype": "datetime64[ns]",
         "stats": {
          "unique_count": 12,
          "nan_count": 0,
          "min": "2021-01-31 00:00:00",
          "max": "2021-12-31 00:00:00",
          "histogram": [
           {
            "bin_start": 1612051200000000000,
            "bin_end": 1614936960000000000,
            "count": 2
           },
           {
            "bin_start": 1614936960000000000,
            "bin_end": 1617822720000000000,
            "count": 1
           },
           {
            "bin_start": 1617822720000000000,
            "bin_end": 1620708480000000000,
            "count": 1
           },
           {
            "bin_start": 1620708480000000000,
            "bin_end": 1623594240000000000,
            "count": 1
           },
           {
            "bin_start": 1623594240000000000,
            "bin_end": 1626480000000000000,
            "count": 1
           },
           {
            "bin_start": 1626480000000000000,
            "bin_end": 1629365760000000000,
            "count": 1
           },
           {
            "bin_start": 1629365760000000000,
            "bin_end": 1632251520000000000,
            "count": 1
           },
           {
            "bin_start": 1632251520000000000,
            "bin_end": 1635137280000000000,
            "count": 1
           },
           {
            "bin_start": 1635137280000000000,
            "bin_end": 1638023040000000000,
            "count": 1
           },
           {
            "bin_start": 1638023040000000000,
            "bin_end": 1640908800000000000,
            "count": 2
           }
          ]
         }
        },
        {
         "name": "_deepnote_index_column",
         "dtype": "datetime64[ns]"
        }
       ],
       "rows": [
        {
         "flood_depth": 71.93975903614458,
         "date": "2021-01-31T00:00:00Z",
         "_deepnote_index_column": "2021-01-31T00:00:00Z"
        },
        {
         "flood_depth": 68.26872246696036,
         "date": "2021-02-28T00:00:00Z",
         "_deepnote_index_column": "2021-02-28T00:00:00Z"
        },
        {
         "flood_depth": 74.92307692307692,
         "date": "2021-03-31T00:00:00Z",
         "_deepnote_index_column": "2021-03-31T00:00:00Z"
        },
        {
         "flood_depth": 67.65789473684211,
         "date": "2021-04-30T00:00:00Z",
         "_deepnote_index_column": "2021-04-30T00:00:00Z"
        },
        {
         "flood_depth": 59.78125,
         "date": "2021-05-31T00:00:00Z",
         "_deepnote_index_column": "2021-05-31T00:00:00Z"
        },
        {
         "flood_depth": 52.326530612244895,
         "date": "2021-06-30T00:00:00Z",
         "_deepnote_index_column": "2021-06-30T00:00:00Z"
        },
        {
         "flood_depth": 48.323076923076925,
         "date": "2021-07-31T00:00:00Z",
         "_deepnote_index_column": "2021-07-31T00:00:00Z"
        },
        {
         "flood_depth": 66.45098039215686,
         "date": "2021-08-31T00:00:00Z",
         "_deepnote_index_column": "2021-08-31T00:00:00Z"
        },
        {
         "flood_depth": 69.8688524590164,
         "date": "2021-09-30T00:00:00Z",
         "_deepnote_index_column": "2021-09-30T00:00:00Z"
        },
        {
         "flood_depth": 63.32142857142857,
         "date": "2021-10-31T00:00:00Z",
         "_deepnote_index_column": "2021-10-31T00:00:00Z"
        }
       ]
      },
      "text/plain": "            flood_depth       date\ndate                              \n2021-01-31    71.939759 2021-01-31\n2021-02-28    68.268722 2021-02-28\n2021-03-31    74.923077 2021-03-31\n2021-04-30    67.657895 2021-04-30\n2021-05-31    59.781250 2021-05-31\n2021-06-30    52.326531 2021-06-30\n2021-07-31    48.323077 2021-07-31\n2021-08-31    66.450980 2021-08-31\n2021-09-30    69.868852 2021-09-30\n2021-10-31    63.321429 2021-10-31\n2021-11-30    56.942857 2021-11-30\n2021-12-31    59.909091 2021-12-31",
      "text/html": "<div>\n<style scoped>\n    .dataframe tbody tr th:only-of-type {\n        vertical-align: middle;\n    }\n\n    .dataframe tbody tr th {\n        vertical-align: top;\n    }\n\n    .dataframe thead th {\n        text-align: right;\n    }\n</style>\n<table border=\"1\" class=\"dataframe\">\n  <thead>\n    <tr style=\"text-align: right;\">\n      <th></th>\n      <th>flood_depth</th>\n      <th>date</th>\n    </tr>\n    <tr>\n      <th>date</th>\n      <th></th>\n      <th></th>\n    </tr>\n  </thead>\n  <tbody>\n    <tr>\n      <th>2021-01-31</th>\n      <td>71.939759</td>\n      <td>2021-01-31</td>\n    </tr>\n    <tr>\n      <th>2021-02-28</th>\n      <td>68.268722</td>\n      <td>2021-02-28</td>\n    </tr>\n    <tr>\n      <th>2021-03-31</th>\n      <td>74.923077</td>\n      <td>2021-03-31</td>\n    </tr>\n    <tr>\n      <th>2021-04-30</th>\n      <td>67.657895</td>\n      <td>2021-04-30</td>\n    </tr>\n    <tr>\n      <th>2021-05-31</th>\n      <td>59.781250</td>\n      <td>2021-05-31</td>\n    </tr>\n    <tr>\n      <th>2021-06-30</th>\n      <td>52.326531</td>\n      <td>2021-06-30</td>\n    </tr>\n    <tr>\n      <th>2021-07-31</th>\n      <td>48.323077</td>\n      <td>2021-07-31</td>\n    </tr>\n    <tr>\n      <th>2021-08-31</th>\n      <td>66.450980</td>\n      <td>2021-08-31</td>\n    </tr>\n    <tr>\n      <th>2021-09-30</th>\n      <td>69.868852</td>\n      <td>2021-09-30</td>\n    </tr>\n    <tr>\n      <th>2021-10-31</th>\n      <td>63.321429</td>\n      <td>2021-10-31</td>\n    </tr>\n    <tr>\n      <th>2021-11-30</th>\n      <td>56.942857</td>\n      <td>2021-11-30</td>\n    </tr>\n    <tr>\n      <th>2021-12-31</th>\n      <td>59.909091</td>\n      <td>2021-12-31</td>\n    </tr>\n  </tbody>\n</table>\n</div>"
     },
     "metadata": {}
    }
   ]
  },
  {
   "cell_type": "code",
   "metadata": {
    "cell_id": "0c83ccb996144896a2be01a341cd213c",
    "tags": [],
    "deepnote_to_be_reexecuted": false,
    "source_hash": "6e427f38",
    "execution_start": 1661016418595,
    "execution_millis": 62,
    "deepnote_cell_type": "code",
    "deepnote_cell_height": 657,
    "deepnote_output_heights": [
     528.75
    ]
   },
   "source": "model = ARIMA(train['flood_depth'], order = (0,0,0))\nmodel = model.fit()\nmodel.summary()",
   "execution_count": 23,
   "outputs": [
    {
     "output_type": "execute_result",
     "execution_count": 23,
     "data": {
      "text/plain": "<class 'statsmodels.iolib.summary.Summary'>\n\"\"\"\n                               SARIMAX Results                                \n==============================================================================\nDep. Variable:            flood_depth   No. Observations:                   12\nModel:                          ARIMA   Log Likelihood                 -42.855\nDate:                Sat, 20 Aug 2022   AIC                             89.709\nTime:                        17:26:58   BIC                             90.679\nSample:                    01-31-2020   HQIC                            89.350\n                         - 12-31-2020                                         \nCovariance Type:                  opg                                         \n==============================================================================\n                 coef    std err          z      P>|z|      [0.025      0.975]\n------------------------------------------------------------------------------\nconst         58.5414      2.499     23.429      0.000      53.644      63.439\nsigma2        74.0305     42.803      1.730      0.084      -9.862     157.923\n===================================================================================\nLjung-Box (L1) (Q):                   0.18   Jarque-Bera (JB):                 0.52\nProb(Q):                              0.67   Prob(JB):                         0.77\nHeteroskedasticity (H):              13.74   Skew:                            -0.11\nProb(H) (two-sided):                  0.03   Kurtosis:                         2.01\n===================================================================================\n\nWarnings:\n[1] Covariance matrix calculated using the outer product of gradients (complex-step).\n\"\"\"",
      "text/html": "<table class=\"simpletable\">\n<caption>SARIMAX Results</caption>\n<tr>\n  <th>Dep. Variable:</th>      <td>flood_depth</td>   <th>  No. Observations:  </th>   <td>12</td>   \n</tr>\n<tr>\n  <th>Model:</th>                 <td>ARIMA</td>      <th>  Log Likelihood     </th> <td>-42.855</td>\n</tr>\n<tr>\n  <th>Date:</th>            <td>Sat, 20 Aug 2022</td> <th>  AIC                </th> <td>89.709</td> \n</tr>\n<tr>\n  <th>Time:</th>                <td>17:26:58</td>     <th>  BIC                </th> <td>90.679</td> \n</tr>\n<tr>\n  <th>Sample:</th>             <td>01-31-2020</td>    <th>  HQIC               </th> <td>89.350</td> \n</tr>\n<tr>\n  <th></th>                   <td>- 12-31-2020</td>   <th>                     </th>    <td> </td>   \n</tr>\n<tr>\n  <th>Covariance Type:</th>        <td>opg</td>       <th>                     </th>    <td> </td>   \n</tr>\n</table>\n<table class=\"simpletable\">\n<tr>\n     <td></td>       <th>coef</th>     <th>std err</th>      <th>z</th>      <th>P>|z|</th>  <th>[0.025</th>    <th>0.975]</th>  \n</tr>\n<tr>\n  <th>const</th>  <td>   58.5414</td> <td>    2.499</td> <td>   23.429</td> <td> 0.000</td> <td>   53.644</td> <td>   63.439</td>\n</tr>\n<tr>\n  <th>sigma2</th> <td>   74.0305</td> <td>   42.803</td> <td>    1.730</td> <td> 0.084</td> <td>   -9.862</td> <td>  157.923</td>\n</tr>\n</table>\n<table class=\"simpletable\">\n<tr>\n  <th>Ljung-Box (L1) (Q):</th>     <td>0.18</td>  <th>  Jarque-Bera (JB):  </th> <td>0.52</td> \n</tr>\n<tr>\n  <th>Prob(Q):</th>                <td>0.67</td>  <th>  Prob(JB):          </th> <td>0.77</td> \n</tr>\n<tr>\n  <th>Heteroskedasticity (H):</th> <td>13.74</td> <th>  Skew:              </th> <td>-0.11</td>\n</tr>\n<tr>\n  <th>Prob(H) (two-sided):</th>    <td>0.03</td>  <th>  Kurtosis:          </th> <td>2.01</td> \n</tr>\n</table><br/><br/>Warnings:<br/>[1] Covariance matrix calculated using the outer product of gradients (complex-step)."
     },
     "metadata": {}
    }
   ]
  },
  {
   "cell_type": "code",
   "metadata": {
    "cell_id": "c4ff1fd919604e9a9f9400839cde0a75",
    "tags": [],
    "deepnote_to_be_reexecuted": false,
    "source_hash": "fc2c436c",
    "execution_start": 1661016418709,
    "execution_millis": 3,
    "deepnote_cell_type": "code",
    "deepnote_cell_height": 403.4375
   },
   "source": "start = len(train)\nend = len(train)+len(train)-1\npred = model.predict(start=start, end = end, typ = 'levels')\nprint(pred)",
   "execution_count": 24,
   "outputs": [
    {
     "name": "stdout",
     "text": "2021-01-31    58.541362\n2021-02-28    58.541362\n2021-03-31    58.541362\n2021-04-30    58.541362\n2021-05-31    58.541362\n2021-06-30    58.541362\n2021-07-31    58.541362\n2021-08-31    58.541362\n2021-09-30    58.541362\n2021-10-31    58.541362\n2021-11-30    58.541362\n2021-12-31    58.541362\nFreq: M, Name: predicted_mean, dtype: float64\n",
     "output_type": "stream"
    }
   ]
  },
  {
   "cell_type": "code",
   "metadata": {
    "cell_id": "4df6042415c248bbbb984bdbb6837e3a",
    "tags": [],
    "deepnote_to_be_reexecuted": false,
    "source_hash": "a05befe3",
    "execution_start": 1661016418710,
    "execution_millis": 338,
    "deepnote_cell_type": "code",
    "deepnote_cell_height": 436.1875,
    "deepnote_output_heights": [
     20.1875,
     275
    ]
   },
   "source": "pred.plot(legend = True)\ntest['flood_depth'].plot(legend = True)",
   "execution_count": 25,
   "outputs": [
    {
     "output_type": "execute_result",
     "execution_count": 25,
     "data": {
      "text/plain": "<AxesSubplot:xlabel='date'>"
     },
     "metadata": {}
    },
    {
     "data": {
      "text/plain": "<Figure size 432x288 with 1 Axes>",
      "image/png": "[encoded data removed]"
     },
     "metadata": {
      "needs_background": "light",
      "image/png": {
       "width": 378,
       "height": 274
      }
     },
     "output_type": "display_data"
    }
   ]
  },
  {
   "cell_type": "code",
   "metadata": {
    "cell_id": "3c88070736394d71a773f38288fbecfa",
    "tags": [],
    "deepnote_to_be_reexecuted": false,
    "source_hash": "9f7bc30",
    "execution_start": 1661016419055,
    "execution_millis": 9,
    "deepnote_cell_type": "code",
    "deepnote_cell_height": 112.1875,
    "deepnote_output_heights": [
     20.1875
    ]
   },
   "source": "test['flood_depth'].mean()",
   "execution_count": 26,
   "outputs": [
    {
     "output_type": "execute_result",
     "execution_count": 26,
     "data": {
      "text/plain": "63.30946001440797"
     },
     "metadata": {}
    }
   ]
  },
  {
   "cell_type": "code",
   "metadata": {
    "cell_id": "2d1d8fc73085473a881576802f932c1a",
    "tags": [],
    "deepnote_to_be_reexecuted": false,
    "source_hash": "353e9c0",
    "execution_start": 1661016419069,
    "execution_millis": 6,
    "deepnote_cell_type": "code",
    "deepnote_cell_height": 161.1875
   },
   "source": "from sklearn.metrics import mean_squared_error\nfrom math import sqrt\nrmse = sqrt(mean_squared_error(pred, test['flood_depth']))\nprint(rmse)",
   "execution_count": 27,
   "outputs": [
    {
     "name": "stdout",
     "text": "9.075306139468145\n",
     "output_type": "stream"
    }
   ]
  },
  {
   "cell_type": "code",
   "metadata": {
    "cell_id": "0862d32384924928b85c3f0b5be17166",
    "tags": [],
    "deepnote_to_be_reexecuted": false,
    "source_hash": "70fd2a2c",
    "execution_start": 1661016419129,
    "execution_millis": 663,
    "deepnote_cell_type": "code",
    "deepnote_cell_height": 263.3125,
    "deepnote_output_heights": [
     135.3125
    ]
   },
   "source": "model2 = ARIMA(final_dat['flood_depth'], order = (1,0,5))\nmodel2 = model2.fit()\nfinal_dat['flood_depth'].tail()",
   "execution_count": 28,
   "outputs": [
    {
     "output_type": "execute_result",
     "execution_count": 28,
     "data": {
      "text/plain": "date\n2021-08-31    66.450980\n2021-09-30    69.868852\n2021-10-31    63.321429\n2021-11-30    56.942857\n2021-12-31    59.909091\nFreq: M, Name: flood_depth, dtype: float64"
     },
     "metadata": {}
    }
   ]
  },
  {
   "cell_type": "code",
   "metadata": {
    "cell_id": "b50eb35412c946e797df104391d6c7bd",
    "tags": [],
    "deepnote_to_be_reexecuted": false,
    "source_hash": "e1593d47",
    "execution_start": 1661016419794,
    "execution_millis": 54,
    "deepnote_cell_type": "code",
    "deepnote_cell_height": 372.4375
   },
   "source": "pred = model2.predict(start=len(final_dat), end=len(final_dat)+11, typ='levels').rename('ARIMA Predictions')\nprint(pred)",
   "execution_count": 29,
   "outputs": [
    {
     "name": "stdout",
     "text": "2022-01-31    62.002518\n2022-02-28    57.730152\n2022-03-31    62.956590\n2022-04-30    59.989213\n2022-05-31    61.614535\n2022-06-30    61.426006\n2022-07-31    61.365791\n2022-08-31    61.346559\n2022-09-30    61.340416\n2022-10-31    61.338454\n2022-11-30    61.337828\n2022-12-31    61.337628\nFreq: M, Name: ARIMA Predictions, dtype: float64\n",
     "output_type": "stream"
    }
   ]
  },
  {
   "cell_type": "markdown",
   "source": "## Hasil Forecast PetaBencana",
   "metadata": {
    "formattedRanges": [],
    "is_collapsed": false,
    "cell_id": "11a7a567e72c40f2a27993cf0c22e8e3",
    "tags": [],
    "deepnote_cell_type": "text-cell-h2"
   }
  },
  {
   "cell_type": "code",
   "metadata": {
    "cell_id": "49cad69518a54ac5857894013ea25894",
    "tags": [],
    "deepnote_to_be_reexecuted": false,
    "source_hash": "94fdad24",
    "execution_start": 1661016419860,
    "execution_millis": 291,
    "deepnote_cell_type": "code",
    "deepnote_cell_height": 445.25,
    "deepnote_output_heights": [
     20.1875,
     302.0625
    ]
   },
   "source": "pred.plot(figsize=(15,6), legend=True)",
   "execution_count": 30,
   "outputs": [
    {
     "output_type": "execute_result",
     "execution_count": 30,
     "data": {
      "text/plain": "<AxesSubplot:>"
     },
     "metadata": {}
    },
    {
     "data": {
      "text/plain": "<Figure size 1080x432 with 1 Axes>",
      "image/png": "[encoded data removed]"
     },
     "metadata": {
      "needs_background": "light",
      "image/png": {
       "width": 880,
       "height": 369
      }
     },
     "output_type": "display_data"
    }
   ]
  },
  {
   "cell_type": "markdown",
   "source": "# ARIMA MODEL FIX BANJIR 2017 - 2020",
   "metadata": {
    "formattedRanges": [],
    "is_collapsed": false,
    "cell_id": "ad3985d25c484113b1bbc3e13b942954",
    "tags": [],
    "deepnote_cell_type": "text-cell-h1"
   }
  },
  {
   "cell_type": "code",
   "metadata": {
    "cell_id": "be23255849f8413f843f3558b0c02dc1",
    "tags": [],
    "deepnote_to_be_reexecuted": false,
    "source_hash": "c76c7c51",
    "execution_start": 1661016420154,
    "execution_millis": 8,
    "deepnote_cell_type": "code",
    "deepnote_cell_height": 94
   },
   "source": "import pandas as pd\nimport numpy as np",
   "execution_count": 31,
   "outputs": []
  },
  {
   "cell_type": "code",
   "metadata": {
    "cell_id": "0fd03fd1ad8b43c5b0441c3672a800d0",
    "tags": [],
    "deepnote_to_be_reexecuted": false,
    "source_hash": "a7864d6b",
    "execution_start": 1661016420167,
    "execution_millis": 51,
    "deepnote_cell_type": "code",
    "deepnote_cell_height": 425
   },
   "source": "df2 = pd.read_csv(\"FixBanjir-2017-2020.csv\", parse_dates=True)\ndf2.head()",
   "execution_count": 32,
   "outputs": [
    {
     "output_type": "execute_result",
     "execution_count": 32,
     "data": {
      "application/vnd.deepnote.dataframe.v3+json": {
       "column_count": 8,
       "row_count": 5,
       "columns": [
        {
         "name": "bulan",
         "dtype": "int64",
         "stats": {
          "unique_count": 5,
          "nan_count": 0,
          "min": "1",
          "max": "5",
          "histogram": [
           {
            "bin_start": 1,
            "bin_end": 1.4,
            "count": 1
           },
           {
            "bin_start": 1.4,
            "bin_end": 1.8,
            "count": 0
           },
           {
            "bin_start": 1.8,
            "bin_end": 2.2,
            "count": 1
           },
           {
            "bin_start": 2.2,
            "bin_end": 2.6,
            "count": 0
           },
           {
            "bin_start": 2.6,
            "bin_end": 3,
            "count": 0
           },
           {
            "bin_start": 3,
            "bin_end": 3.4000000000000004,
            "count": 1
           },
           {
            "bin_start": 3.4000000000000004,
            "bin_end": 3.8000000000000003,
            "count": 0
           },
           {
            "bin_start": 3.8000000000000003,
            "bin_end": 4.2,
            "count": 1
           },
           {
            "bin_start": 4.2,
            "bin_end": 4.6,
            "count": 0
           },
           {
            "bin_start": 4.6,
            "bin_end": 5,
            "count": 1
           }
          ]
         }
        },
        {
         "name": "kecamatan",
         "dtype": "int64",
         "stats": {
          "unique_count": 5,
          "nan_count": 0,
          "min": "4",
          "max": "31",
          "histogram": [
           {
            "bin_start": 4,
            "bin_end": 6.7,
            "count": 1
           },
           {
            "bin_start": 6.7,
            "bin_end": 9.4,
            "count": 0
           },
           {
            "bin_start": 9.4,
            "bin_end": 12.100000000000001,
            "count": 0
           },
           {
            "bin_start": 12.100000000000001,
            "bin_end": 14.8,
            "count": 0
           },
           {
            "bin_start": 14.8,
            "bin_end": 17.5,
            "count": 1
           },
           {
            "bin_start": 17.5,
            "bin_end": 20.200000000000003,
            "count": 2
           },
           {
            "bin_start": 20.200000000000003,
            "bin_end": 22.900000000000002,
            "count": 0
           },
           {
            "bin_start": 22.900000000000002,
            "bin_end": 25.6,
            "count": 0
           },
           {
            "bin_start": 25.6,
            "bin_end": 28.3,
            "count": 0
           },
           {
            "bin_start": 28.3,
            "bin_end": 31,
            "count": 1
           }
          ]
         }
        },
        {
         "name": "kelurahan",
         "dtype": "int64",
         "stats": {
          "unique_count": 5,
          "nan_count": 0,
          "min": "5",
          "max": "67",
          "histogram": [
           {
            "bin_start": 5,
            "bin_end": 11.2,
            "count": 1
           },
           {
            "bin_start": 11.2,
            "bin_end": 17.4,
            "count": 0
           },
           {
            "bin_start": 17.4,
            "bin_end": 23.6,
            "count": 0
           },
           {
            "bin_start": 23.6,
            "bin_end": 29.8,
            "count": 1
           },
           {
            "bin_start": 29.8,
            "bin_end": 36,
            "count": 1
           },
           {
            "bin_start": 36,
            "bin_end": 42.2,
            "count": 1
           },
           {
            "bin_start": 42.2,
            "bin_end": 48.4,
            "count": 0
           },
           {
            "bin_start": 48.4,
            "bin_end": 54.6,
            "count": 0
           },
           {
            "bin_start": 54.6,
            "bin_end": 60.800000000000004,
            "count": 0
           },
           {
            "bin_start": 60.800000000000004,
            "bin_end": 67,
            "count": 1
           }
          ]
         }
        },
        {
         "name": "kk_terdampak",
         "dtype": "int64",
         "stats": {
          "unique_count": 5,
          "nan_count": 0,
          "min": "0",
          "max": "6967",
          "histogram": [
           {
            "bin_start": 0,
            "bin_end": 696.7,
            "count": 2
           },
           {
            "bin_start": 696.7,
            "bin_end": 1393.4,
            "count": 1
           },
           {
            "bin_start": 1393.4,
            "bin_end": 2090.1000000000004,
            "count": 0
           },
           {
            "bin_start": 2090.1000000000004,
            "bin_end": 2786.8,
            "count": 0
           },
           {
            "bin_start": 2786.8,
            "bin_end": 3483.5,
            "count": 1
           },
           {
            "bin_start": 3483.5,
            "bin_end": 4180.200000000001,
            "count": 0
           },
           {
            "bin_start": 4180.200000000001,
            "bin_end": 4876.900000000001,
            "count": 0
           },
           {
            "bin_start": 4876.900000000001,
            "bin_end": 5573.6,
            "count": 0
           },
           {
            "bin_start": 5573.6,
            "bin_end": 6270.3,
            "count": 0
           },
           {
            "bin_start": 6270.3,
            "bin_end": 6967,
            "count": 1
           }
          ]
         }
        },
        {
         "name": "tahun",
         "dtype": "int64",
         "stats": {
          "unique_count": 1,
          "nan_count": 0,
          "min": "2017",
          "max": "2017",
          "histogram": [
           {
            "bin_start": 2016.5,
            "bin_end": 2016.6,
            "count": 0
           },
           {
            "bin_start": 2016.6,
            "bin_end": 2016.7,
            "count": 0
           },
           {
            "bin_start": 2016.7,
            "bin_end": 2016.8,
            "count": 0
           },
           {
            "bin_start": 2016.8,
            "bin_end": 2016.9,
            "count": 0
           },
           {
            "bin_start": 2016.9,
            "bin_end": 2017,
            "count": 0
           },
           {
            "bin_start": 2017,
            "bin_end": 2017.1,
            "count": 5
           },
           {
            "bin_start": 2017.1,
            "bin_end": 2017.2,
            "count": 0
           },
           {
            "bin_start": 2017.2,
            "bin_end": 2017.3,
            "count": 0
           },
           {
            "bin_start": 2017.3,
            "bin_end": 2017.4,
            "count": 0
           },
           {
            "bin_start": 2017.4,
            "bin_end": 2017.5,
            "count": 0
           }
          ]
         }
        },
        {
         "name": "min_ketinggian",
         "dtype": "int64",
         "stats": {
          "unique_count": 3,
          "nan_count": 0,
          "min": "0",
          "max": "10",
          "histogram": [
           {
            "bin_start": 0,
            "bin_end": 1,
            "count": 1
           },
           {
            "bin_start": 1,
            "bin_end": 2,
            "count": 0
           },
           {
            "bin_start": 2,
            "bin_end": 3,
            "count": 0
           },
           {
            "bin_start": 3,
            "bin_end": 4,
            "count": 0
           },
           {
            "bin_start": 4,
            "bin_end": 5,
            "count": 0
           },
           {
            "bin_start": 5,
            "bin_end": 6,
            "count": 1
           },
           {
            "bin_start": 6,
            "bin_end": 7,
            "count": 0
           },
           {
            "bin_start": 7,
            "bin_end": 8,
            "count": 0
           },
           {
            "bin_start": 8,
            "bin_end": 9,
            "count": 0
           },
           {
            "bin_start": 9,
            "bin_end": 10,
            "count": 3
           }
          ]
         }
        },
        {
         "name": "max_ketinggian",
         "dtype": "int64",
         "stats": {
          "unique_count": 5,
          "nan_count": 0,
          "min": "70",
          "max": "250",
          "histogram": [
           {
            "bin_start": 70,
            "bin_end": 88,
            "count": 1
           },
           {
            "bin_start": 88,
            "bin_end": 106,
            "count": 0
           },
           {
            "bin_start": 106,
            "bin_end": 124,
            "count": 1
           },
           {
            "bin_start": 124,
            "bin_end": 142,
            "count": 0
           },
           {
            "bin_start": 142,
            "bin_end": 160,
            "count": 0
           },
           {
            "bin_start": 160,
            "bin_end": 178,
            "count": 1
           },
           {
            "bin_start": 178,
            "bin_end": 196,
            "count": 0
           },
           {
            "bin_start": 196,
            "bin_end": 214,
            "count": 1
           },
           {
            "bin_start": 214,
            "bin_end": 232,
            "count": 0
           },
           {
            "bin_start": 232,
            "bin_end": 250,
            "count": 1
           }
          ]
         }
        },
        {
         "name": "avg_ketinggian",
         "dtype": "float64",
         "stats": {
          "unique_count": 5,
          "nan_count": 0,
          "min": "40.0",
          "max": "130.0",
          "histogram": [
           {
            "bin_start": 40,
            "bin_end": 49,
            "count": 1
           },
           {
            "bin_start": 49,
            "bin_end": 58,
            "count": 0
           },
           {
            "bin_start": 58,
            "bin_end": 67,
            "count": 1
           },
           {
            "bin_start": 67,
            "bin_end": 76,
            "count": 0
           },
           {
            "bin_start": 76,
            "bin_end": 85,
            "count": 1
           },
           {
            "bin_start": 85,
            "bin_end": 94,
            "count": 0
           },
           {
            "bin_start": 94,
            "bin_end": 103,
            "count": 0
           },
           {
            "bin_start": 103,
            "bin_end": 112,
            "count": 1
           },
           {
            "bin_start": 112,
            "bin_end": 121,
            "count": 0
           },
           {
            "bin_start": 121,
            "bin_end": 130,
            "count": 1
           }
          ]
         }
        },
        {
         "name": "_deepnote_index_column",
         "dtype": "int64"
        }
       ],
       "rows": [
        {
         "bulan": 1,
         "kecamatan": 4,
         "kelurahan": 5,
         "kk_terdampak": 0,
         "tahun": 2017,
         "min_ketinggian": 10,
         "max_ketinggian": 70,
         "avg_ketinggian": 40,
         "_deepnote_index_column": 0
        },
        {
         "bulan": 2,
         "kecamatan": 31,
         "kelurahan": 67,
         "kk_terdampak": 6967,
         "tahun": 2017,
         "min_ketinggian": 10,
         "max_ketinggian": 250,
         "avg_ketinggian": 130,
         "_deepnote_index_column": 1
        },
        {
         "bulan": 3,
         "kecamatan": 20,
         "kelurahan": 40,
         "kk_terdampak": 3232,
         "tahun": 2017,
         "min_ketinggian": 0,
         "max_ketinggian": 160,
         "avg_ketinggian": 80,
         "_deepnote_index_column": 2
        },
        {
         "bulan": 4,
         "kecamatan": 19,
         "kelurahan": 33,
         "kk_terdampak": 621,
         "tahun": 2017,
         "min_ketinggian": 10,
         "max_ketinggian": 200,
         "avg_ketinggian": 105,
         "_deepnote_index_column": 3
        },
        {
         "bulan": 5,
         "kecamatan": 15,
         "kelurahan": 25,
         "kk_terdampak": 1056,
         "tahun": 2017,
         "min_ketinggian": 5,
         "max_ketinggian": 120,
         "avg_ketinggian": 62.5,
         "_deepnote_index_column": 4
        }
       ]
      },
      "text/plain": "   bulan  kecamatan  kelurahan  kk_terdampak  tahun  min_ketinggian  \\\n0      1          4          5             0   2017              10   \n1      2         31         67          6967   2017              10   \n2      3         20         40          3232   2017               0   \n3      4         19         33           621   2017              10   \n4      5         15         25          1056   2017               5   \n\n   max_ketinggian  avg_ketinggian  \n0              70            40.0  \n1             250           130.0  \n2             160            80.0  \n3             200           105.0  \n4             120            62.5  ",
      "text/html": "<div>\n<style scoped>\n    .dataframe tbody tr th:only-of-type {\n        vertical-align: middle;\n    }\n\n    .dataframe tbody tr th {\n        vertical-align: top;\n    }\n\n    .dataframe thead th {\n        text-align: right;\n    }\n</style>\n<table border=\"1\" class=\"dataframe\">\n  <thead>\n    <tr style=\"text-align: right;\">\n      <th></th>\n      <th>bulan</th>\n      <th>kecamatan</th>\n      <th>kelurahan</th>\n      <th>kk_terdampak</th>\n      <th>tahun</th>\n      <th>min_ketinggian</th>\n      <th>max_ketinggian</th>\n      <th>avg_ketinggian</th>\n    </tr>\n  </thead>\n  <tbody>\n    <tr>\n      <th>0</th>\n      <td>1</td>\n      <td>4</td>\n      <td>5</td>\n      <td>0</td>\n      <td>2017</td>\n      <td>10</td>\n      <td>70</td>\n      <td>40.0</td>\n    </tr>\n    <tr>\n      <th>1</th>\n      <td>2</td>\n      <td>31</td>\n      <td>67</td>\n      <td>6967</td>\n      <td>2017</td>\n      <td>10</td>\n      <td>250</td>\n      <td>130.0</td>\n    </tr>\n    <tr>\n      <th>2</th>\n      <td>3</td>\n      <td>20</td>\n      <td>40</td>\n      <td>3232</td>\n      <td>2017</td>\n      <td>0</td>\n      <td>160</td>\n      <td>80.0</td>\n    </tr>\n    <tr>\n      <th>3</th>\n      <td>4</td>\n      <td>19</td>\n      <td>33</td>\n      <td>621</td>\n      <td>2017</td>\n      <td>10</td>\n      <td>200</td>\n      <td>105.0</td>\n    </tr>\n    <tr>\n      <th>4</th>\n      <td>5</td>\n      <td>15</td>\n      <td>25</td>\n      <td>1056</td>\n      <td>2017</td>\n      <td>5</td>\n      <td>120</td>\n      <td>62.5</td>\n    </tr>\n  </tbody>\n</table>\n</div>"
     },
     "metadata": {}
    }
   ]
  },
  {
   "cell_type": "code",
   "metadata": {
    "cell_id": "7949d2de608b4370aed4ee905a434a1d",
    "tags": [],
    "deepnote_to_be_reexecuted": false,
    "source_hash": "bb20274e",
    "execution_start": 1661016420223,
    "execution_millis": 868,
    "deepnote_cell_type": "code",
    "deepnote_cell_height": 630
   },
   "source": "df2['date'] = \"28/\" + df2.bulan.map(str) + \"/\" + df2.tahun.map(str)\ndf2",
   "execution_count": 33,
   "outputs": [
    {
     "output_type": "execute_result",
     "execution_count": 33,
     "data": {
      "application/vnd.deepnote.dataframe.v3+json": {
       "column_count": 9,
       "row_count": 48,
       "columns": [
        {
         "name": "bulan",
         "dtype": "int64",
         "stats": {
          "unique_count": 12,
          "nan_count": 0,
          "min": "1",
          "max": "12",
          "histogram": [
           {
            "bin_start": 1,
            "bin_end": 2.1,
            "count": 8
           },
           {
            "bin_start": 2.1,
            "bin_end": 3.2,
            "count": 4
           },
           {
            "bin_start": 3.2,
            "bin_end": 4.300000000000001,
            "count": 4
           },
           {
            "bin_start": 4.300000000000001,
            "bin_end": 5.4,
            "count": 4
           },
           {
            "bin_start": 5.4,
            "bin_end": 6.5,
            "count": 4
           },
           {
            "bin_start": 6.5,
            "bin_end": 7.6000000000000005,
            "count": 4
           },
           {
            "bin_start": 7.6000000000000005,
            "bin_end": 8.700000000000001,
            "count": 4
           },
           {
            "bin_start": 8.700000000000001,
            "bin_end": 9.8,
            "count": 4
           },
           {
            "bin_start": 9.8,
            "bin_end": 10.9,
            "count": 4
           },
           {
            "bin_start": 10.9,
            "bin_end": 12,
            "count": 8
           }
          ]
         }
        },
        {
         "name": "kecamatan",
         "dtype": "int64",
         "stats": {
          "unique_count": 25,
          "nan_count": 0,
          "min": "0",
          "max": "42",
          "histogram": [
           {
            "bin_start": 0,
            "bin_end": 4.2,
            "count": 13
           },
           {
            "bin_start": 4.2,
            "bin_end": 8.4,
            "count": 11
           },
           {
            "bin_start": 8.4,
            "bin_end": 12.600000000000001,
            "count": 5
           },
           {
            "bin_start": 12.600000000000001,
            "bin_end": 16.8,
            "count": 6
           },
           {
            "bin_start": 16.8,
            "bin_end": 21,
            "count": 5
           },
           {
            "bin_start": 21,
            "bin_end": 25.200000000000003,
            "count": 4
           },
           {
            "bin_start": 25.200000000000003,
            "bin_end": 29.400000000000002,
            "count": 1
           },
           {
            "bin_start": 29.400000000000002,
            "bin_end": 33.6,
            "count": 1
           },
           {
            "bin_start": 33.6,
            "bin_end": 37.800000000000004,
            "count": 1
           },
           {
            "bin_start": 37.800000000000004,
            "bin_end": 42,
            "count": 1
           }
          ]
         }
        },
        {
         "name": "kelurahan",
         "dtype": "int64",
         "stats": {
          "unique_count": 31,
          "nan_count": 0,
          "min": "0",
          "max": "167",
          "histogram": [
           {
            "bin_start": 0,
            "bin_end": 16.7,
            "count": 26
           },
           {
            "bin_start": 16.7,
            "bin_end": 33.4,
            "count": 11
           },
           {
            "bin_start": 33.4,
            "bin_end": 50.099999999999994,
            "count": 7
           },
           {
            "bin_start": 50.099999999999994,
            "bin_end": 66.8,
            "count": 0
           },
           {
            "bin_start": 66.8,
            "bin_end": 83.5,
            "count": 2
           },
           {
            "bin_start": 83.5,
            "bin_end": 100.19999999999999,
            "count": 0
           },
           {
            "bin_start": 100.19999999999999,
            "bin_end": 116.89999999999999,
            "count": 0
           },
           {
            "bin_start": 116.89999999999999,
            "bin_end": 133.6,
            "count": 0
           },
           {
            "bin_start": 133.6,
            "bin_end": 150.29999999999998,
            "count": 0
           },
           {
            "bin_start": 150.29999999999998,
            "bin_end": 167,
            "count": 2
           }
          ]
         }
        },
        {
         "name": "kk_terdampak",
         "dtype": "int64",
         "stats": {
          "unique_count": 34,
          "nan_count": 0,
          "min": "0",
          "max": "22148",
          "histogram": [
           {
            "bin_start": 0,
            "bin_end": 2214.8,
            "count": 41
           },
           {
            "bin_start": 2214.8,
            "bin_end": 4429.6,
            "count": 3
           },
           {
            "bin_start": 4429.6,
            "bin_end": 6644.400000000001,
            "count": 1
           },
           {
            "bin_start": 6644.400000000001,
            "bin_end": 8859.2,
            "count": 1
           },
           {
            "bin_start": 8859.2,
            "bin_end": 11074,
            "count": 0
           },
           {
            "bin_start": 11074,
            "bin_end": 13288.800000000001,
            "count": 1
           },
           {
            "bin_start": 13288.800000000001,
            "bin_end": 15503.600000000002,
            "count": 0
           },
           {
            "bin_start": 15503.600000000002,
            "bin_end": 17718.4,
            "count": 0
           },
           {
            "bin_start": 17718.4,
            "bin_end": 19933.2,
            "count": 0
           },
           {
            "bin_start": 19933.2,
            "bin_end": 22148,
            "count": 1
           }
          ]
         }
        },
        {
         "name": "tahun",
         "dtype": "int64",
         "stats": {
          "unique_count": 4,
          "nan_count": 0,
          "min": "2017",
          "max": "2020",
          "histogram": [
           {
            "bin_start": 2017,
            "bin_end": 2017.3,
            "count": 12
           },
           {
            "bin_start": 2017.3,
            "bin_end": 2017.6,
            "count": 0
           },
           {
            "bin_start": 2017.6,
            "bin_end": 2017.9,
            "count": 0
           },
           {
            "bin_start": 2017.9,
            "bin_end": 2018.2,
            "count": 12
           },
           {
            "bin_start": 2018.2,
            "bin_end": 2018.5,
            "count": 0
           },
           {
            "bin_start": 2018.5,
            "bin_end": 2018.8,
            "count": 0
           },
           {
            "bin_start": 2018.8,
            "bin_end": 2019.1,
            "count": 12
           },
           {
            "bin_start": 2019.1,
            "bin_end": 2019.4,
            "count": 0
           },
           {
            "bin_start": 2019.4,
            "bin_end": 2019.7,
            "count": 0
           },
           {
            "bin_start": 2019.7,
            "bin_end": 2020,
            "count": 12
           }
          ]
         }
        },
        {
         "name": "min_ketinggian",
         "dtype": "int64",
         "stats": {
          "unique_count": 6,
          "nan_count": 0,
          "min": "0",
          "max": "20",
          "histogram": [
           {
            "bin_start": 0,
            "bin_end": 2,
            "count": 9
           },
           {
            "bin_start": 2,
            "bin_end": 4,
            "count": 1
           },
           {
            "bin_start": 4,
            "bin_end": 6,
            "count": 8
           },
           {
            "bin_start": 6,
            "bin_end": 8,
            "count": 0
           },
           {
            "bin_start": 8,
            "bin_end": 10,
            "count": 0
           },
           {
            "bin_start": 10,
            "bin_end": 12,
            "count": 28
           },
           {
            "bin_start": 12,
            "bin_end": 14,
            "count": 0
           },
           {
            "bin_start": 14,
            "bin_end": 16,
            "count": 1
           },
           {
            "bin_start": 16,
            "bin_end": 18,
            "count": 0
           },
           {
            "bin_start": 18,
            "bin_end": 20,
            "count": 1
           }
          ]
         }
        },
        {
         "name": "max_ketinggian",
         "dtype": "int64",
         "stats": {
          "unique_count": 20,
          "nan_count": 0,
          "min": "0",
          "max": "350",
          "histogram": [
           {
            "bin_start": 0,
            "bin_end": 35,
            "count": 8
           },
           {
            "bin_start": 35,
            "bin_end": 70,
            "count": 3
           },
           {
            "bin_start": 70,
            "bin_end": 105,
            "count": 18
           },
           {
            "bin_start": 105,
            "bin_end": 140,
            "count": 7
           },
           {
            "bin_start": 140,
            "bin_end": 175,
            "count": 4
           },
           {
            "bin_start": 175,
            "bin_end": 210,
            "count": 4
           },
           {
            "bin_start": 210,
            "bin_end": 245,
            "count": 0
           },
           {
            "bin_start": 245,
            "bin_end": 280,
            "count": 2
           },
           {
            "bin_start": 280,
            "bin_end": 315,
            "count": 1
           },
           {
            "bin_start": 315,
            "bin_end": 350,
            "count": 1
           }
          ]
         }
        },
        {
         "name": "avg_ketinggian",
         "dtype": "float64",
         "stats": {
          "unique_count": 22,
          "nan_count": 0,
          "min": "0.0",
          "max": "180.0",
          "histogram": [
           {
            "bin_start": 0,
            "bin_end": 18,
            "count": 8
           },
           {
            "bin_start": 18,
            "bin_end": 36,
            "count": 3
           },
           {
            "bin_start": 36,
            "bin_end": 54,
            "count": 12
           },
           {
            "bin_start": 54,
            "bin_end": 72,
            "count": 12
           },
           {
            "bin_start": 72,
            "bin_end": 90,
            "count": 5
           },
           {
            "bin_start": 90,
            "bin_end": 108,
            "count": 4
           },
           {
            "bin_start": 108,
            "bin_end": 126,
            "count": 0
           },
           {
            "bin_start": 126,
            "bin_end": 144,
            "count": 2
           },
           {
            "bin_start": 144,
            "bin_end": 162,
            "count": 1
           },
           {
            "bin_start": 162,
            "bin_end": 180,
            "count": 1
           }
          ]
         }
        },
        {
         "name": "date",
         "dtype": "object",
         "stats": {
          "unique_count": 48,
          "nan_count": 0,
          "categories": [
           {
            "name": "28/1/2017",
            "count": 1
           },
           {
            "name": "28/2/2017",
            "count": 1
           },
           {
            "name": "46 others",
            "count": 46
           }
          ]
         }
        },
        {
         "name": "_deepnote_index_column",
         "dtype": "int64"
        }
       ],
       "rows": [
        {
         "bulan": 1,
         "kecamatan": 4,
         "kelurahan": 5,
         "kk_terdampak": 0,
         "tahun": 2017,
         "min_ketinggian": 10,
         "max_ketinggian": 70,
         "avg_ketinggian": 40,
         "date": "28/1/2017",
         "_deepnote_index_column": 0
        },
        {
         "bulan": 2,
         "kecamatan": 31,
         "kelurahan": 67,
         "kk_terdampak": 6967,
         "tahun": 2017,
         "min_ketinggian": 10,
         "max_ketinggian": 250,
         "avg_ketinggian": 130,
         "date": "28/2/2017",
         "_deepnote_index_column": 1
        },
        {
         "bulan": 3,
         "kecamatan": 20,
         "kelurahan": 40,
         "kk_terdampak": 3232,
         "tahun": 2017,
         "min_ketinggian": 0,
         "max_ketinggian": 160,
         "avg_ketinggian": 80,
         "date": "28/3/2017",
         "_deepnote_index_column": 2
        },
        {
         "bulan": 4,
         "kecamatan": 19,
         "kelurahan": 33,
         "kk_terdampak": 621,
         "tahun": 2017,
         "min_ketinggian": 10,
         "max_ketinggian": 200,
         "avg_ketinggian": 105,
         "date": "28/4/2017",
         "_deepnote_index_column": 3
        },
        {
         "bulan": 5,
         "kecamatan": 15,
         "kelurahan": 25,
         "kk_terdampak": 1056,
         "tahun": 2017,
         "min_ketinggian": 5,
         "max_ketinggian": 120,
         "avg_ketinggian": 62.5,
         "date": "28/5/2017",
         "_deepnote_index_column": 4
        },
        {
         "bulan": 6,
         "kecamatan": 4,
         "kelurahan": 5,
         "kk_terdampak": 1409,
         "tahun": 2017,
         "min_ketinggian": 10,
         "max_ketinggian": 110,
         "avg_ketinggian": 60,
         "date": "28/6/2017",
         "_deepnote_index_column": 5
        },
        {
         "bulan": 7,
         "kecamatan": 6,
         "kelurahan": 8,
         "kk_terdampak": 251,
         "tahun": 2017,
         "min_ketinggian": 10,
         "max_ketinggian": 80,
         "avg_ketinggian": 45,
         "date": "28/7/2017",
         "_deepnote_index_column": 6
        },
        {
         "bulan": 8,
         "kecamatan": 5,
         "kelurahan": 6,
         "kk_terdampak": 0,
         "tahun": 2017,
         "min_ketinggian": 10,
         "max_ketinggian": 80,
         "avg_ketinggian": 45,
         "date": "28/8/2017",
         "_deepnote_index_column": 7
        },
        {
         "bulan": 9,
         "kecamatan": 1,
         "kelurahan": 1,
         "kk_terdampak": 0,
         "tahun": 2017,
         "min_ketinggian": 10,
         "max_ketinggian": 80,
         "avg_ketinggian": 45,
         "date": "28/9/2017",
         "_deepnote_index_column": 8
        },
        {
         "bulan": 10,
         "kecamatan": 8,
         "kelurahan": 11,
         "kk_terdampak": 15,
         "tahun": 2017,
         "min_ketinggian": 10,
         "max_ketinggian": 105,
         "avg_ketinggian": 57.5,
         "date": "28/10/2017",
         "_deepnote_index_column": 9
        }
       ]
      },
      "text/plain": "    bulan  kecamatan  kelurahan  kk_terdampak  tahun  min_ketinggian  \\\n0       1          4          5             0   2017              10   \n1       2         31         67          6967   2017              10   \n2       3         20         40          3232   2017               0   \n3       4         19         33           621   2017              10   \n4       5         15         25          1056   2017               5   \n5       6          4          5          1409   2017              10   \n6       7          6          8           251   2017              10   \n7       8          5          6             0   2017              10   \n8       9          1          1             0   2017              10   \n9      10          8         11            15   2017              10   \n10     11         17         37          1935   2017              10   \n11     12         19         26           131   2017              10   \n12      1          5          8             0   2018               5   \n13      2         24         43          5467   2018               5   \n14      3          6          8           303   2018              10   \n15      4          6          8           300   2018               5   \n16      5          8         17           214   2018              10   \n17      6          5          8           328   2018              10   \n18      7          0          0             0   2018               0   \n19      8          0          0             0   2018               0   \n20      9          0          0             0   2018               0   \n21     10          4          5           387   2018              10   \n22     11         11         16          1848   2018               5   \n23     12         14         22           244   2018               3   \n24      1         14         31           135   2019              10   \n25      2         15         25           398   2019              10   \n26      3         23         43           315   2019              10   \n27      4         17         34          2915   2019              10   \n28      5          5          7           150   2019              10   \n29      6          0          0             0   2019               0   \n30      7          0          0             0   2019               0   \n31      8          0          0             0   2019               0   \n32      9          0          0             0   2019               0   \n33     10          5          7           391   2019              10   \n34     11          0          0             0   2019               0   \n35     12         11         20           316   2019              15   \n36      1         35        151         22148   2020              10   \n37      2         42        167         12551   2020               5   \n38      3         24         46          3057   2020               5   \n39      4         21         50          1059   2020              10   \n40      5         12         23           891   2020              10   \n41      6          9         16            80   2020               5   \n42      7          2          2             0   2020              20   \n43      8         10         12             0   2020              10   \n44      9         16         28           414   2020              10   \n45     10         29         72          1933   2020              10   \n46     11         16         27             0   2020              10   \n47     12          7          9           250   2020              10   \n\n    max_ketinggian  avg_ketinggian        date  \n0               70            40.0   28/1/2017  \n1              250           130.0   28/2/2017  \n2              160            80.0   28/3/2017  \n3              200           105.0   28/4/2017  \n4              120            62.5   28/5/2017  \n5              110            60.0   28/6/2017  \n6               80            45.0   28/7/2017  \n7               80            45.0   28/8/2017  \n8               80            45.0   28/9/2017  \n9              105            57.5  28/10/2017  \n10             150            80.0  28/11/2017  \n11              70            40.0  28/12/2017  \n12              40            22.5   28/1/2018  \n13             300           152.5   28/2/2018  \n14             100            55.0   28/3/2018  \n15              90            47.5   28/4/2018  \n16             150            80.0   28/5/2018  \n17             100            55.0   28/6/2018  \n18               0             0.0   28/7/2018  \n19               0             0.0   28/8/2018  \n20               0             0.0   28/9/2018  \n21              80            45.0  28/10/2018  \n22             100            52.5  28/11/2018  \n23             100            51.5  28/12/2018  \n24              70            40.0   28/1/2019  \n25             135            72.5   28/2/2019  \n26             100            55.0   28/3/2019  \n27             250           130.0   28/4/2019  \n28             100            55.0   28/5/2019  \n29               0             0.0   28/6/2019  \n30               0             0.0   28/7/2019  \n31               0             0.0   28/8/2019  \n32               0             0.0   28/9/2019  \n33             100            55.0  28/10/2019  \n34               0             0.0  28/11/2019  \n35             100            57.5  28/12/2019  \n36             350           180.0   28/1/2020  \n37             200           102.5   28/2/2020  \n38             160            82.5   28/3/2020  \n39             130            70.0   28/4/2020  \n40             200           105.0   28/5/2020  \n41             120            62.5   28/6/2020  \n42              50            35.0   28/7/2020  \n43              80            45.0   28/8/2020  \n44             130            70.0   28/9/2020  \n45             180            95.0  28/10/2020  \n46              60            35.0  28/11/2020  \n47              80            45.0  28/12/2020  ",
      "text/html": "<div>\n<style scoped>\n    .dataframe tbody tr th:only-of-type {\n        vertical-align: middle;\n    }\n\n    .dataframe tbody tr th {\n        vertical-align: top;\n    }\n\n    .dataframe thead th {\n        text-align: right;\n    }\n</style>\n<table border=\"1\" class=\"dataframe\">\n  <thead>\n    <tr style=\"text-align: right;\">\n      <th></th>\n      <th>bulan</th>\n      <th>kecamatan</th>\n      <th>kelurahan</th>\n      <th>kk_terdampak</th>\n      <th>tahun</th>\n      <th>min_ketinggian</th>\n      <th>max_ketinggian</th>\n      <th>avg_ketinggian</th>\n      <th>date</th>\n    </tr>\n  </thead>\n  <tbody>\n    <tr>\n      <th>0</th>\n      <td>1</td>\n      <td>4</td>\n      <td>5</td>\n      <td>0</td>\n      <td>2017</td>\n      <td>10</td>\n      <td>70</td>\n      <td>40.0</td>\n      <td>28/1/2017</td>\n    </tr>\n    <tr>\n      <th>1</th>\n      <td>2</td>\n      <td>31</td>\n      <td>67</td>\n      <td>6967</td>\n      <td>2017</td>\n      <td>10</td>\n      <td>250</td>\n      <td>130.0</td>\n      <td>28/2/2017</td>\n    </tr>\n    <tr>\n      <th>2</th>\n      <td>3</td>\n      <td>20</td>\n      <td>40</td>\n      <td>3232</td>\n      <td>2017</td>\n      <td>0</td>\n      <td>160</td>\n      <td>80.0</td>\n      <td>28/3/2017</td>\n    </tr>\n    <tr>\n      <th>3</th>\n      <td>4</td>\n      <td>19</td>\n      <td>33</td>\n      <td>621</td>\n      <td>2017</td>\n      <td>10</td>\n      <td>200</td>\n      <td>105.0</td>\n      <td>28/4/2017</td>\n    </tr>\n    <tr>\n      <th>4</th>\n      <td>5</td>\n      <td>15</td>\n      <td>25</td>\n      <td>1056</td>\n      <td>2017</td>\n      <td>5</td>\n      <td>120</td>\n      <td>62.5</td>\n      <td>28/5/2017</td>\n    </tr>\n    <tr>\n      <th>5</th>\n      <td>6</td>\n      <td>4</td>\n      <td>5</td>\n      <td>1409</td>\n      <td>2017</td>\n      <td>10</td>\n      <td>110</td>\n      <td>60.0</td>\n      <td>28/6/2017</td>\n    </tr>\n    <tr>\n      <th>6</th>\n      <td>7</td>\n      <td>6</td>\n      <td>8</td>\n      <td>251</td>\n      <td>2017</td>\n      <td>10</td>\n      <td>80</td>\n      <td>45.0</td>\n      <td>28/7/2017</td>\n    </tr>\n    <tr>\n      <th>7</th>\n      <td>8</td>\n      <td>5</td>\n      <td>6</td>\n      <td>0</td>\n      <td>2017</td>\n      <td>10</td>\n      <td>80</td>\n      <td>45.0</td>\n      <td>28/8/2017</td>\n    </tr>\n    <tr>\n      <th>8</th>\n      <td>9</td>\n      <td>1</td>\n      <td>1</td>\n      <td>0</td>\n      <td>2017</td>\n      <td>10</td>\n      <td>80</td>\n      <td>45.0</td>\n      <td>28/9/2017</td>\n    </tr>\n    <tr>\n      <th>9</th>\n      <td>10</td>\n      <td>8</td>\n      <td>11</td>\n      <td>15</td>\n      <td>2017</td>\n      <td>10</td>\n      <td>105</td>\n      <td>57.5</td>\n      <td>28/10/2017</td>\n    </tr>\n    <tr>\n      <th>10</th>\n      <td>11</td>\n      <td>17</td>\n      <td>37</td>\n      <td>1935</td>\n      <td>2017</td>\n      <td>10</td>\n      <td>150</td>\n      <td>80.0</td>\n      <td>28/11/2017</td>\n    </tr>\n    <tr>\n      <th>11</th>\n      <td>12</td>\n      <td>19</td>\n      <td>26</td>\n      <td>131</td>\n      <td>2017</td>\n      <td>10</td>\n      <td>70</td>\n      <td>40.0</td>\n      <td>28/12/2017</td>\n    </tr>\n    <tr>\n      <th>12</th>\n      <td>1</td>\n      <td>5</td>\n      <td>8</td>\n      <td>0</td>\n      <td>2018</td>\n      <td>5</td>\n      <td>40</td>\n      <td>22.5</td>\n      <td>28/1/2018</td>\n    </tr>\n    <tr>\n      <th>13</th>\n      <td>2</td>\n      <td>24</td>\n      <td>43</td>\n      <td>5467</td>\n      <td>2018</td>\n      <td>5</td>\n      <td>300</td>\n      <td>152.5</td>\n      <td>28/2/2018</td>\n    </tr>\n    <tr>\n      <th>14</th>\n      <td>3</td>\n      <td>6</td>\n      <td>8</td>\n      <td>303</td>\n      <td>2018</td>\n      <td>10</td>\n      <td>100</td>\n      <td>55.0</td>\n      <td>28/3/2018</td>\n    </tr>\n    <tr>\n      <th>15</th>\n      <td>4</td>\n      <td>6</td>\n      <td>8</td>\n      <td>300</td>\n      <td>2018</td>\n      <td>5</td>\n      <td>90</td>\n      <td>47.5</td>\n      <td>28/4/2018</td>\n    </tr>\n    <tr>\n      <th>16</th>\n      <td>5</td>\n      <td>8</td>\n      <td>17</td>\n      <td>214</td>\n      <td>2018</td>\n      <td>10</td>\n      <td>150</td>\n      <td>80.0</td>\n      <td>28/5/2018</td>\n    </tr>\n    <tr>\n      <th>17</th>\n      <td>6</td>\n      <td>5</td>\n      <td>8</td>\n      <td>328</td>\n      <td>2018</td>\n      <td>10</td>\n      <td>100</td>\n      <td>55.0</td>\n      <td>28/6/2018</td>\n    </tr>\n    <tr>\n      <th>18</th>\n      <td>7</td>\n      <td>0</td>\n      <td>0</td>\n      <td>0</td>\n      <td>2018</td>\n      <td>0</td>\n      <td>0</td>\n      <td>0.0</td>\n      <td>28/7/2018</td>\n    </tr>\n    <tr>\n      <th>19</th>\n      <td>8</td>\n      <td>0</td>\n      <td>0</td>\n      <td>0</td>\n      <td>2018</td>\n      <td>0</td>\n      <td>0</td>\n      <td>0.0</td>\n      <td>28/8/2018</td>\n    </tr>\n    <tr>\n      <th>20</th>\n      <td>9</td>\n      <td>0</td>\n      <td>0</td>\n      <td>0</td>\n      <td>2018</td>\n      <td>0</td>\n      <td>0</td>\n      <td>0.0</td>\n      <td>28/9/2018</td>\n    </tr>\n    <tr>\n      <th>21</th>\n      <td>10</td>\n      <td>4</td>\n      <td>5</td>\n      <td>387</td>\n      <td>2018</td>\n      <td>10</td>\n      <td>80</td>\n      <td>45.0</td>\n      <td>28/10/2018</td>\n    </tr>\n    <tr>\n      <th>22</th>\n      <td>11</td>\n      <td>11</td>\n      <td>16</td>\n      <td>1848</td>\n      <td>2018</td>\n      <td>5</td>\n      <td>100</td>\n      <td>52.5</td>\n      <td>28/11/2018</td>\n    </tr>\n    <tr>\n      <th>23</th>\n      <td>12</td>\n      <td>14</td>\n      <td>22</td>\n      <td>244</td>\n      <td>2018</td>\n      <td>3</td>\n      <td>100</td>\n      <td>51.5</td>\n      <td>28/12/2018</td>\n    </tr>\n    <tr>\n      <th>24</th>\n      <td>1</td>\n      <td>14</td>\n      <td>31</td>\n      <td>135</td>\n      <td>2019</td>\n      <td>10</td>\n      <td>70</td>\n      <td>40.0</td>\n      <td>28/1/2019</td>\n    </tr>\n    <tr>\n      <th>25</th>\n      <td>2</td>\n      <td>15</td>\n      <td>25</td>\n      <td>398</td>\n      <td>2019</td>\n      <td>10</td>\n      <td>135</td>\n      <td>72.5</td>\n      <td>28/2/2019</td>\n    </tr>\n    <tr>\n      <th>26</th>\n      <td>3</td>\n      <td>23</td>\n      <td>43</td>\n      <td>315</td>\n      <td>2019</td>\n      <td>10</td>\n      <td>100</td>\n      <td>55.0</td>\n      <td>28/3/2019</td>\n    </tr>\n    <tr>\n      <th>27</th>\n      <td>4</td>\n      <td>17</td>\n      <td>34</td>\n      <td>2915</td>\n      <td>2019</td>\n      <td>10</td>\n      <td>250</td>\n      <td>130.0</td>\n      <td>28/4/2019</td>\n    </tr>\n    <tr>\n      <th>28</th>\n      <td>5</td>\n      <td>5</td>\n      <td>7</td>\n      <td>150</td>\n      <td>2019</td>\n      <td>10</td>\n      <td>100</td>\n      <td>55.0</td>\n      <td>28/5/2019</td>\n    </tr>\n    <tr>\n      <th>29</th>\n      <td>6</td>\n      <td>0</td>\n      <td>0</td>\n      <td>0</td>\n      <td>2019</td>\n      <td>0</td>\n      <td>0</td>\n      <td>0.0</td>\n      <td>28/6/2019</td>\n    </tr>\n    <tr>\n      <th>30</th>\n      <td>7</td>\n      <td>0</td>\n      <td>0</td>\n      <td>0</td>\n      <td>2019</td>\n      <td>0</td>\n      <td>0</td>\n      <td>0.0</td>\n      <td>28/7/2019</td>\n    </tr>\n    <tr>\n      <th>31</th>\n      <td>8</td>\n      <td>0</td>\n      <td>0</td>\n      <td>0</td>\n      <td>2019</td>\n      <td>0</td>\n      <td>0</td>\n      <td>0.0</td>\n      <td>28/8/2019</td>\n    </tr>\n    <tr>\n      <th>32</th>\n      <td>9</td>\n      <td>0</td>\n      <td>0</td>\n      <td>0</td>\n      <td>2019</td>\n      <td>0</td>\n      <td>0</td>\n      <td>0.0</td>\n      <td>28/9/2019</td>\n    </tr>\n    <tr>\n      <th>33</th>\n      <td>10</td>\n      <td>5</td>\n      <td>7</td>\n      <td>391</td>\n      <td>2019</td>\n      <td>10</td>\n      <td>100</td>\n      <td>55.0</td>\n      <td>28/10/2019</td>\n    </tr>\n    <tr>\n      <th>34</th>\n      <td>11</td>\n      <td>0</td>\n      <td>0</td>\n      <td>0</td>\n      <td>2019</td>\n      <td>0</td>\n      <td>0</td>\n      <td>0.0</td>\n      <td>28/11/2019</td>\n    </tr>\n    <tr>\n      <th>35</th>\n      <td>12</td>\n      <td>11</td>\n      <td>20</td>\n      <td>316</td>\n      <td>2019</td>\n      <td>15</td>\n      <td>100</td>\n      <td>57.5</td>\n      <td>28/12/2019</td>\n    </tr>\n    <tr>\n      <th>36</th>\n      <td>1</td>\n      <td>35</td>\n      <td>151</td>\n      <td>22148</td>\n      <td>2020</td>\n      <td>10</td>\n      <td>350</td>\n      <td>180.0</td>\n      <td>28/1/2020</td>\n    </tr>\n    <tr>\n      <th>37</th>\n      <td>2</td>\n      <td>42</td>\n      <td>167</td>\n      <td>12551</td>\n      <td>2020</td>\n      <td>5</td>\n      <td>200</td>\n      <td>102.5</td>\n      <td>28/2/2020</td>\n    </tr>\n    <tr>\n      <th>38</th>\n      <td>3</td>\n      <td>24</td>\n      <td>46</td>\n      <td>3057</td>\n      <td>2020</td>\n      <td>5</td>\n      <td>160</td>\n      <td>82.5</td>\n      <td>28/3/2020</td>\n    </tr>\n    <tr>\n      <th>39</th>\n      <td>4</td>\n      <td>21</td>\n      <td>50</td>\n      <td>1059</td>\n      <td>2020</td>\n      <td>10</td>\n      <td>130</td>\n      <td>70.0</td>\n      <td>28/4/2020</td>\n    </tr>\n    <tr>\n      <th>40</th>\n      <td>5</td>\n      <td>12</td>\n      <td>23</td>\n      <td>891</td>\n      <td>2020</td>\n      <td>10</td>\n      <td>200</td>\n      <td>105.0</td>\n      <td>28/5/2020</td>\n    </tr>\n    <tr>\n      <th>41</th>\n      <td>6</td>\n      <td>9</td>\n      <td>16</td>\n      <td>80</td>\n      <td>2020</td>\n      <td>5</td>\n      <td>120</td>\n      <td>62.5</td>\n      <td>28/6/2020</td>\n    </tr>\n    <tr>\n      <th>42</th>\n      <td>7</td>\n      <td>2</td>\n      <td>2</td>\n      <td>0</td>\n      <td>2020</td>\n      <td>20</td>\n      <td>50</td>\n      <td>35.0</td>\n      <td>28/7/2020</td>\n    </tr>\n    <tr>\n      <th>43</th>\n      <td>8</td>\n      <td>10</td>\n      <td>12</td>\n      <td>0</td>\n      <td>2020</td>\n      <td>10</td>\n      <td>80</td>\n      <td>45.0</td>\n      <td>28/8/2020</td>\n    </tr>\n    <tr>\n      <th>44</th>\n      <td>9</td>\n      <td>16</td>\n      <td>28</td>\n      <td>414</td>\n      <td>2020</td>\n      <td>10</td>\n      <td>130</td>\n      <td>70.0</td>\n      <td>28/9/2020</td>\n    </tr>\n    <tr>\n      <th>45</th>\n      <td>10</td>\n      <td>29</td>\n      <td>72</td>\n      <td>1933</td>\n      <td>2020</td>\n      <td>10</td>\n      <td>180</td>\n      <td>95.0</td>\n      <td>28/10/2020</td>\n    </tr>\n    <tr>\n      <th>46</th>\n      <td>11</td>\n      <td>16</td>\n      <td>27</td>\n      <td>0</td>\n      <td>2020</td>\n      <td>10</td>\n      <td>60</td>\n      <td>35.0</td>\n      <td>28/11/2020</td>\n    </tr>\n    <tr>\n      <th>47</th>\n      <td>12</td>\n      <td>7</td>\n      <td>9</td>\n      <td>250</td>\n      <td>2020</td>\n      <td>10</td>\n      <td>80</td>\n      <td>45.0</td>\n      <td>28/12/2020</td>\n    </tr>\n  </tbody>\n</table>\n</div>"
     },
     "metadata": {}
    }
   ]
  },
  {
   "cell_type": "code",
   "metadata": {
    "cell_id": "8e9660f71deb49198b498c1466a622fe",
    "tags": [],
    "deepnote_to_be_reexecuted": false,
    "source_hash": "bccafd56",
    "execution_start": 1661016420300,
    "execution_millis": 797,
    "deepnote_cell_type": "code",
    "deepnote_cell_height": 613
   },
   "source": "df2 = df2[['date', 'avg_ketinggian']]\ndf2",
   "execution_count": 34,
   "outputs": [
    {
     "output_type": "execute_result",
     "execution_count": 34,
     "data": {
      "application/vnd.deepnote.dataframe.v3+json": {
       "column_count": 2,
       "row_count": 48,
       "columns": [
        {
         "name": "date",
         "dtype": "object",
         "stats": {
          "unique_count": 48,
          "nan_count": 0,
          "categories": [
           {
            "name": "28/1/2017",
            "count": 1
           },
           {
            "name": "28/2/2017",
            "count": 1
           },
           {
            "name": "46 others",
            "count": 46
           }
          ]
         }
        },
        {
         "name": "avg_ketinggian",
         "dtype": "float64",
         "stats": {
          "unique_count": 22,
          "nan_count": 0,
          "min": "0.0",
          "max": "180.0",
          "histogram": [
           {
            "bin_start": 0,
            "bin_end": 18,
            "count": 8
           },
           {
            "bin_start": 18,
            "bin_end": 36,
            "count": 3
           },
           {
            "bin_start": 36,
            "bin_end": 54,
            "count": 12
           },
           {
            "bin_start": 54,
            "bin_end": 72,
            "count": 12
           },
           {
            "bin_start": 72,
            "bin_end": 90,
            "count": 5
           },
           {
            "bin_start": 90,
            "bin_end": 108,
            "count": 4
           },
           {
            "bin_start": 108,
            "bin_end": 126,
            "count": 0
           },
           {
            "bin_start": 126,
            "bin_end": 144,
            "count": 2
           },
           {
            "bin_start": 144,
            "bin_end": 162,
            "count": 1
           },
           {
            "bin_start": 162,
            "bin_end": 180,
            "count": 1
           }
          ]
         }
        },
        {
         "name": "_deepnote_index_column",
         "dtype": "int64"
        }
       ],
       "rows": [
        {
         "date": "28/1/2017",
         "avg_ketinggian": 40,
         "_deepnote_index_column": 0
        },
        {
         "date": "28/2/2017",
         "avg_ketinggian": 130,
         "_deepnote_index_column": 1
        },
        {
         "date": "28/3/2017",
         "avg_ketinggian": 80,
         "_deepnote_index_column": 2
        },
        {
         "date": "28/4/2017",
         "avg_ketinggian": 105,
         "_deepnote_index_column": 3
        },
        {
         "date": "28/5/2017",
         "avg_ketinggian": 62.5,
         "_deepnote_index_column": 4
        },
        {
         "date": "28/6/2017",
         "avg_ketinggian": 60,
         "_deepnote_index_column": 5
        },
        {
         "date": "28/7/2017",
         "avg_ketinggian": 45,
         "_deepnote_index_column": 6
        },
        {
         "date": "28/8/2017",
         "avg_ketinggian": 45,
         "_deepnote_index_column": 7
        },
        {
         "date": "28/9/2017",
         "avg_ketinggian": 45,
         "_deepnote_index_column": 8
        },
        {
         "date": "28/10/2017",
         "avg_ketinggian": 57.5,
         "_deepnote_index_column": 9
        }
       ]
      },
      "text/plain": "          date  avg_ketinggian\n0    28/1/2017            40.0\n1    28/2/2017           130.0\n2    28/3/2017            80.0\n3    28/4/2017           105.0\n4    28/5/2017            62.5\n5    28/6/2017            60.0\n6    28/7/2017            45.0\n7    28/8/2017            45.0\n8    28/9/2017            45.0\n9   28/10/2017            57.5\n10  28/11/2017            80.0\n11  28/12/2017            40.0\n12   28/1/2018            22.5\n13   28/2/2018           152.5\n14   28/3/2018            55.0\n15   28/4/2018            47.5\n16   28/5/2018            80.0\n17   28/6/2018            55.0\n18   28/7/2018             0.0\n19   28/8/2018             0.0\n20   28/9/2018             0.0\n21  28/10/2018            45.0\n22  28/11/2018            52.5\n23  28/12/2018            51.5\n24   28/1/2019            40.0\n25   28/2/2019            72.5\n26   28/3/2019            55.0\n27   28/4/2019           130.0\n28   28/5/2019            55.0\n29   28/6/2019             0.0\n30   28/7/2019             0.0\n31   28/8/2019             0.0\n32   28/9/2019             0.0\n33  28/10/2019            55.0\n34  28/11/2019             0.0\n35  28/12/2019            57.5\n36   28/1/2020           180.0\n37   28/2/2020           102.5\n38   28/3/2020            82.5\n39   28/4/2020            70.0\n40   28/5/2020           105.0\n41   28/6/2020            62.5\n42   28/7/2020            35.0\n43   28/8/2020            45.0\n44   28/9/2020            70.0\n45  28/10/2020            95.0\n46  28/11/2020            35.0\n47  28/12/2020            45.0",
      "text/html": "<div>\n<style scoped>\n    .dataframe tbody tr th:only-of-type {\n        vertical-align: middle;\n    }\n\n    .dataframe tbody tr th {\n        vertical-align: top;\n    }\n\n    .dataframe thead th {\n        text-align: right;\n    }\n</style>\n<table border=\"1\" class=\"dataframe\">\n  <thead>\n    <tr style=\"text-align: right;\">\n      <th></th>\n      <th>date</th>\n      <th>avg_ketinggian</th>\n    </tr>\n  </thead>\n  <tbody>\n    <tr>\n      <th>0</th>\n      <td>28/1/2017</td>\n      <td>40.0</td>\n    </tr>\n    <tr>\n      <th>1</th>\n      <td>28/2/2017</td>\n      <td>130.0</td>\n    </tr>\n    <tr>\n      <th>2</th>\n      <td>28/3/2017</td>\n      <td>80.0</td>\n    </tr>\n    <tr>\n      <th>3</th>\n      <td>28/4/2017</td>\n      <td>105.0</td>\n    </tr>\n    <tr>\n      <th>4</th>\n      <td>28/5/2017</td>\n      <td>62.5</td>\n    </tr>\n    <tr>\n      <th>5</th>\n      <td>28/6/2017</td>\n      <td>60.0</td>\n    </tr>\n    <tr>\n      <th>6</th>\n      <td>28/7/2017</td>\n      <td>45.0</td>\n    </tr>\n    <tr>\n      <th>7</th>\n      <td>28/8/2017</td>\n      <td>45.0</td>\n    </tr>\n    <tr>\n      <th>8</th>\n      <td>28/9/2017</td>\n      <td>45.0</td>\n    </tr>\n    <tr>\n      <th>9</th>\n      <td>28/10/2017</td>\n      <td>57.5</td>\n    </tr>\n    <tr>\n      <th>10</th>\n      <td>28/11/2017</td>\n      <td>80.0</td>\n    </tr>\n    <tr>\n      <th>11</th>\n      <td>28/12/2017</td>\n      <td>40.0</td>\n    </tr>\n    <tr>\n      <th>12</th>\n      <td>28/1/2018</td>\n      <td>22.5</td>\n    </tr>\n    <tr>\n      <th>13</th>\n      <td>28/2/2018</td>\n      <td>152.5</td>\n    </tr>\n    <tr>\n      <th>14</th>\n      <td>28/3/2018</td>\n      <td>55.0</td>\n    </tr>\n    <tr>\n      <th>15</th>\n      <td>28/4/2018</td>\n      <td>47.5</td>\n    </tr>\n    <tr>\n      <th>16</th>\n      <td>28/5/2018</td>\n      <td>80.0</td>\n    </tr>\n    <tr>\n      <th>17</th>\n      <td>28/6/2018</td>\n      <td>55.0</td>\n    </tr>\n    <tr>\n      <th>18</th>\n      <td>28/7/2018</td>\n      <td>0.0</td>\n    </tr>\n    <tr>\n      <th>19</th>\n      <td>28/8/2018</td>\n      <td>0.0</td>\n    </tr>\n    <tr>\n      <th>20</th>\n      <td>28/9/2018</td>\n      <td>0.0</td>\n    </tr>\n    <tr>\n      <th>21</th>\n      <td>28/10/2018</td>\n      <td>45.0</td>\n    </tr>\n    <tr>\n      <th>22</th>\n      <td>28/11/2018</td>\n      <td>52.5</td>\n    </tr>\n    <tr>\n      <th>23</th>\n      <td>28/12/2018</td>\n      <td>51.5</td>\n    </tr>\n    <tr>\n      <th>24</th>\n      <td>28/1/2019</td>\n      <td>40.0</td>\n    </tr>\n    <tr>\n      <th>25</th>\n      <td>28/2/2019</td>\n      <td>72.5</td>\n    </tr>\n    <tr>\n      <th>26</th>\n      <td>28/3/2019</td>\n      <td>55.0</td>\n    </tr>\n    <tr>\n      <th>27</th>\n      <td>28/4/2019</td>\n      <td>130.0</td>\n    </tr>\n    <tr>\n      <th>28</th>\n      <td>28/5/2019</td>\n      <td>55.0</td>\n    </tr>\n    <tr>\n      <th>29</th>\n      <td>28/6/2019</td>\n      <td>0.0</td>\n    </tr>\n    <tr>\n      <th>30</th>\n      <td>28/7/2019</td>\n      <td>0.0</td>\n    </tr>\n    <tr>\n      <th>31</th>\n      <td>28/8/2019</td>\n      <td>0.0</td>\n    </tr>\n    <tr>\n      <th>32</th>\n      <td>28/9/2019</td>\n      <td>0.0</td>\n    </tr>\n    <tr>\n      <th>33</th>\n      <td>28/10/2019</td>\n      <td>55.0</td>\n    </tr>\n    <tr>\n      <th>34</th>\n      <td>28/11/2019</td>\n      <td>0.0</td>\n    </tr>\n    <tr>\n      <th>35</th>\n      <td>28/12/2019</td>\n      <td>57.5</td>\n    </tr>\n    <tr>\n      <th>36</th>\n      <td>28/1/2020</td>\n      <td>180.0</td>\n    </tr>\n    <tr>\n      <th>37</th>\n      <td>28/2/2020</td>\n      <td>102.5</td>\n    </tr>\n    <tr>\n      <th>38</th>\n      <td>28/3/2020</td>\n      <td>82.5</td>\n    </tr>\n    <tr>\n      <th>39</th>\n      <td>28/4/2020</td>\n      <td>70.0</td>\n    </tr>\n    <tr>\n      <th>40</th>\n      <td>28/5/2020</td>\n      <td>105.0</td>\n    </tr>\n    <tr>\n      <th>41</th>\n      <td>28/6/2020</td>\n      <td>62.5</td>\n    </tr>\n    <tr>\n      <th>42</th>\n      <td>28/7/2020</td>\n      <td>35.0</td>\n    </tr>\n    <tr>\n      <th>43</th>\n      <td>28/8/2020</td>\n      <td>45.0</td>\n    </tr>\n    <tr>\n      <th>44</th>\n      <td>28/9/2020</td>\n      <td>70.0</td>\n    </tr>\n    <tr>\n      <th>45</th>\n      <td>28/10/2020</td>\n      <td>95.0</td>\n    </tr>\n    <tr>\n      <th>46</th>\n      <td>28/11/2020</td>\n      <td>35.0</td>\n    </tr>\n    <tr>\n      <th>47</th>\n      <td>28/12/2020</td>\n      <td>45.0</td>\n    </tr>\n  </tbody>\n</table>\n</div>"
     },
     "metadata": {}
    }
   ]
  },
  {
   "cell_type": "code",
   "metadata": {
    "cell_id": "25f87e1e69e3461cb9c0e645da3ac7bb",
    "tags": [],
    "deepnote_to_be_reexecuted": false,
    "source_hash": "1862fb40",
    "execution_start": 1661016420315,
    "execution_millis": 783,
    "deepnote_cell_type": "code",
    "deepnote_cell_height": 613
   },
   "source": "df2.index = df2['date']\ndf2",
   "execution_count": 35,
   "outputs": [
    {
     "output_type": "execute_result",
     "execution_count": 35,
     "data": {
      "application/vnd.deepnote.dataframe.v3+json": {
       "column_count": 2,
       "row_count": 48,
       "columns": [
        {
         "name": "date",
         "dtype": "object",
         "stats": {
          "unique_count": 48,
          "nan_count": 0,
          "categories": [
           {
            "name": "28/1/2017",
            "count": 1
           },
           {
            "name": "28/2/2017",
            "count": 1
           },
           {
            "name": "46 others",
            "count": 46
           }
          ]
         }
        },
        {
         "name": "avg_ketinggian",
         "dtype": "float64",
         "stats": {
          "unique_count": 22,
          "nan_count": 0,
          "min": "0.0",
          "max": "180.0",
          "histogram": [
           {
            "bin_start": 0,
            "bin_end": 18,
            "count": 8
           },
           {
            "bin_start": 18,
            "bin_end": 36,
            "count": 3
           },
           {
            "bin_start": 36,
            "bin_end": 54,
            "count": 12
           },
           {
            "bin_start": 54,
            "bin_end": 72,
            "count": 12
           },
           {
            "bin_start": 72,
            "bin_end": 90,
            "count": 5
           },
           {
            "bin_start": 90,
            "bin_end": 108,
            "count": 4
           },
           {
            "bin_start": 108,
            "bin_end": 126,
            "count": 0
           },
           {
            "bin_start": 126,
            "bin_end": 144,
            "count": 2
           },
           {
            "bin_start": 144,
            "bin_end": 162,
            "count": 1
           },
           {
            "bin_start": 162,
            "bin_end": 180,
            "count": 1
           }
          ]
         }
        },
        {
         "name": "_deepnote_index_column",
         "dtype": "object"
        }
       ],
       "rows": [
        {
         "date": "28/1/2017",
         "avg_ketinggian": 40,
         "_deepnote_index_column": "28/1/2017"
        },
        {
         "date": "28/2/2017",
         "avg_ketinggian": 130,
         "_deepnote_index_column": "28/2/2017"
        },
        {
         "date": "28/3/2017",
         "avg_ketinggian": 80,
         "_deepnote_index_column": "28/3/2017"
        },
        {
         "date": "28/4/2017",
         "avg_ketinggian": 105,
         "_deepnote_index_column": "28/4/2017"
        },
        {
         "date": "28/5/2017",
         "avg_ketinggian": 62.5,
         "_deepnote_index_column": "28/5/2017"
        },
        {
         "date": "28/6/2017",
         "avg_ketinggian": 60,
         "_deepnote_index_column": "28/6/2017"
        },
        {
         "date": "28/7/2017",
         "avg_ketinggian": 45,
         "_deepnote_index_column": "28/7/2017"
        },
        {
         "date": "28/8/2017",
         "avg_ketinggian": 45,
         "_deepnote_index_column": "28/8/2017"
        },
        {
         "date": "28/9/2017",
         "avg_ketinggian": 45,
         "_deepnote_index_column": "28/9/2017"
        },
        {
         "date": "28/10/2017",
         "avg_ketinggian": 57.5,
         "_deepnote_index_column": "28/10/2017"
        }
       ]
      },
      "text/plain": "                  date  avg_ketinggian\ndate                                  \n28/1/2017    28/1/2017            40.0\n28/2/2017    28/2/2017           130.0\n28/3/2017    28/3/2017            80.0\n28/4/2017    28/4/2017           105.0\n28/5/2017    28/5/2017            62.5\n28/6/2017    28/6/2017            60.0\n28/7/2017    28/7/2017            45.0\n28/8/2017    28/8/2017            45.0\n28/9/2017    28/9/2017            45.0\n28/10/2017  28/10/2017            57.5\n28/11/2017  28/11/2017            80.0\n28/12/2017  28/12/2017            40.0\n28/1/2018    28/1/2018            22.5\n28/2/2018    28/2/2018           152.5\n28/3/2018    28/3/2018            55.0\n28/4/2018    28/4/2018            47.5\n28/5/2018    28/5/2018            80.0\n28/6/2018    28/6/2018            55.0\n28/7/2018    28/7/2018             0.0\n28/8/2018    28/8/2018             0.0\n28/9/2018    28/9/2018             0.0\n28/10/2018  28/10/2018            45.0\n28/11/2018  28/11/2018            52.5\n28/12/2018  28/12/2018            51.5\n28/1/2019    28/1/2019            40.0\n28/2/2019    28/2/2019            72.5\n28/3/2019    28/3/2019            55.0\n28/4/2019    28/4/2019           130.0\n28/5/2019    28/5/2019            55.0\n28/6/2019    28/6/2019             0.0\n28/7/2019    28/7/2019             0.0\n28/8/2019    28/8/2019             0.0\n28/9/2019    28/9/2019             0.0\n28/10/2019  28/10/2019            55.0\n28/11/2019  28/11/2019             0.0\n28/12/2019  28/12/2019            57.5\n28/1/2020    28/1/2020           180.0\n28/2/2020    28/2/2020           102.5\n28/3/2020    28/3/2020            82.5\n28/4/2020    28/4/2020            70.0\n28/5/2020    28/5/2020           105.0\n28/6/2020    28/6/2020            62.5\n28/7/2020    28/7/2020            35.0\n28/8/2020    28/8/2020            45.0\n28/9/2020    28/9/2020            70.0\n28/10/2020  28/10/2020            95.0\n28/11/2020  28/11/2020            35.0\n28/12/2020  28/12/2020            45.0",
      "text/html": "<div>\n<style scoped>\n    .dataframe tbody tr th:only-of-type {\n        vertical-align: middle;\n    }\n\n    .dataframe tbody tr th {\n        vertical-align: top;\n    }\n\n    .dataframe thead th {\n        text-align: right;\n    }\n</style>\n<table border=\"1\" class=\"dataframe\">\n  <thead>\n    <tr style=\"text-align: right;\">\n      <th></th>\n      <th>date</th>\n      <th>avg_ketinggian</th>\n    </tr>\n    <tr>\n      <th>date</th>\n      <th></th>\n      <th></th>\n    </tr>\n  </thead>\n  <tbody>\n    <tr>\n      <th>28/1/2017</th>\n      <td>28/1/2017</td>\n      <td>40.0</td>\n    </tr>\n    <tr>\n      <th>28/2/2017</th>\n      <td>28/2/2017</td>\n      <td>130.0</td>\n    </tr>\n    <tr>\n      <th>28/3/2017</th>\n      <td>28/3/2017</td>\n      <td>80.0</td>\n    </tr>\n    <tr>\n      <th>28/4/2017</th>\n      <td>28/4/2017</td>\n      <td>105.0</td>\n    </tr>\n    <tr>\n      <th>28/5/2017</th>\n      <td>28/5/2017</td>\n      <td>62.5</td>\n    </tr>\n    <tr>\n      <th>28/6/2017</th>\n      <td>28/6/2017</td>\n      <td>60.0</td>\n    </tr>\n    <tr>\n      <th>28/7/2017</th>\n      <td>28/7/2017</td>\n      <td>45.0</td>\n    </tr>\n    <tr>\n      <th>28/8/2017</th>\n      <td>28/8/2017</td>\n      <td>45.0</td>\n    </tr>\n    <tr>\n      <th>28/9/2017</th>\n      <td>28/9/2017</td>\n      <td>45.0</td>\n    </tr>\n    <tr>\n      <th>28/10/2017</th>\n      <td>28/10/2017</td>\n      <td>57.5</td>\n    </tr>\n    <tr>\n      <th>28/11/2017</th>\n      <td>28/11/2017</td>\n      <td>80.0</td>\n    </tr>\n    <tr>\n      <th>28/12/2017</th>\n      <td>28/12/2017</td>\n      <td>40.0</td>\n    </tr>\n    <tr>\n      <th>28/1/2018</th>\n      <td>28/1/2018</td>\n      <td>22.5</td>\n    </tr>\n    <tr>\n      <th>28/2/2018</th>\n      <td>28/2/2018</td>\n      <td>152.5</td>\n    </tr>\n    <tr>\n      <th>28/3/2018</th>\n      <td>28/3/2018</td>\n      <td>55.0</td>\n    </tr>\n    <tr>\n      <th>28/4/2018</th>\n      <td>28/4/2018</td>\n      <td>47.5</td>\n    </tr>\n    <tr>\n      <th>28/5/2018</th>\n      <td>28/5/2018</td>\n      <td>80.0</td>\n    </tr>\n    <tr>\n      <th>28/6/2018</th>\n      <td>28/6/2018</td>\n      <td>55.0</td>\n    </tr>\n    <tr>\n      <th>28/7/2018</th>\n      <td>28/7/2018</td>\n      <td>0.0</td>\n    </tr>\n    <tr>\n      <th>28/8/2018</th>\n      <td>28/8/2018</td>\n      <td>0.0</td>\n    </tr>\n    <tr>\n      <th>28/9/2018</th>\n      <td>28/9/2018</td>\n      <td>0.0</td>\n    </tr>\n    <tr>\n      <th>28/10/2018</th>\n      <td>28/10/2018</td>\n      <td>45.0</td>\n    </tr>\n    <tr>\n      <th>28/11/2018</th>\n      <td>28/11/2018</td>\n      <td>52.5</td>\n    </tr>\n    <tr>\n      <th>28/12/2018</th>\n      <td>28/12/2018</td>\n      <td>51.5</td>\n    </tr>\n    <tr>\n      <th>28/1/2019</th>\n      <td>28/1/2019</td>\n      <td>40.0</td>\n    </tr>\n    <tr>\n      <th>28/2/2019</th>\n      <td>28/2/2019</td>\n      <td>72.5</td>\n    </tr>\n    <tr>\n      <th>28/3/2019</th>\n      <td>28/3/2019</td>\n      <td>55.0</td>\n    </tr>\n    <tr>\n      <th>28/4/2019</th>\n      <td>28/4/2019</td>\n      <td>130.0</td>\n    </tr>\n    <tr>\n      <th>28/5/2019</th>\n      <td>28/5/2019</td>\n      <td>55.0</td>\n    </tr>\n    <tr>\n      <th>28/6/2019</th>\n      <td>28/6/2019</td>\n      <td>0.0</td>\n    </tr>\n    <tr>\n      <th>28/7/2019</th>\n      <td>28/7/2019</td>\n      <td>0.0</td>\n    </tr>\n    <tr>\n      <th>28/8/2019</th>\n      <td>28/8/2019</td>\n      <td>0.0</td>\n    </tr>\n    <tr>\n      <th>28/9/2019</th>\n      <td>28/9/2019</td>\n      <td>0.0</td>\n    </tr>\n    <tr>\n      <th>28/10/2019</th>\n      <td>28/10/2019</td>\n      <td>55.0</td>\n    </tr>\n    <tr>\n      <th>28/11/2019</th>\n      <td>28/11/2019</td>\n      <td>0.0</td>\n    </tr>\n    <tr>\n      <th>28/12/2019</th>\n      <td>28/12/2019</td>\n      <td>57.5</td>\n    </tr>\n    <tr>\n      <th>28/1/2020</th>\n      <td>28/1/2020</td>\n      <td>180.0</td>\n    </tr>\n    <tr>\n      <th>28/2/2020</th>\n      <td>28/2/2020</td>\n      <td>102.5</td>\n    </tr>\n    <tr>\n      <th>28/3/2020</th>\n      <td>28/3/2020</td>\n      <td>82.5</td>\n    </tr>\n    <tr>\n      <th>28/4/2020</th>\n      <td>28/4/2020</td>\n      <td>70.0</td>\n    </tr>\n    <tr>\n      <th>28/5/2020</th>\n      <td>28/5/2020</td>\n      <td>105.0</td>\n    </tr>\n    <tr>\n      <th>28/6/2020</th>\n      <td>28/6/2020</td>\n      <td>62.5</td>\n    </tr>\n    <tr>\n      <th>28/7/2020</th>\n      <td>28/7/2020</td>\n      <td>35.0</td>\n    </tr>\n    <tr>\n      <th>28/8/2020</th>\n      <td>28/8/2020</td>\n      <td>45.0</td>\n    </tr>\n    <tr>\n      <th>28/9/2020</th>\n      <td>28/9/2020</td>\n      <td>70.0</td>\n    </tr>\n    <tr>\n      <th>28/10/2020</th>\n      <td>28/10/2020</td>\n      <td>95.0</td>\n    </tr>\n    <tr>\n      <th>28/11/2020</th>\n      <td>28/11/2020</td>\n      <td>35.0</td>\n    </tr>\n    <tr>\n      <th>28/12/2020</th>\n      <td>28/12/2020</td>\n      <td>45.0</td>\n    </tr>\n  </tbody>\n</table>\n</div>"
     },
     "metadata": {}
    }
   ]
  },
  {
   "cell_type": "code",
   "metadata": {
    "cell_id": "73332b893ff94dcdb290fa903db0d6fd",
    "tags": [],
    "deepnote_to_be_reexecuted": false,
    "source_hash": "9ce464cd",
    "execution_start": 1661016420355,
    "execution_millis": 744,
    "deepnote_table_state": {
     "pageSize": 10,
     "pageIndex": 4,
     "filters": [],
     "sortBy": []
    },
    "deepnote_table_loading": false,
    "deepnote_cell_type": "code",
    "deepnote_cell_height": 531
   },
   "source": "df2['date'] = pd.to_datetime(df2['date'])\ndf2",
   "execution_count": 36,
   "outputs": [
    {
     "output_type": "execute_result",
     "execution_count": 36,
     "data": {
      "application/vnd.deepnote.dataframe.v3+json": {
       "column_count": 2,
       "row_count": 48,
       "columns": [
        {
         "name": "date",
         "dtype": "datetime64[ns]",
         "stats": {
          "unique_count": 48,
          "nan_count": 0,
          "min": "2017-01-28 00:00:00",
          "max": "2020-12-28 00:00:00",
          "histogram": [
           {
            "bin_start": 1485561600000000000,
            "bin_end": 1497916800000000000,
            "count": 5
           },
           {
            "bin_start": 1497916800000000000,
            "bin_end": 1510272000000000000,
            "count": 5
           },
           {
            "bin_start": 1510272000000000000,
            "bin_end": 1522627200000000000,
            "count": 5
           },
           {
            "bin_start": 1522627200000000000,
            "bin_end": 1534982400000000000,
            "count": 4
           },
           {
            "bin_start": 1534982400000000000,
            "bin_end": 1547337600000000000,
            "count": 5
           },
           {
            "bin_start": 1547337600000000000,
            "bin_end": 1559692800000000000,
            "count": 5
           },
           {
            "bin_start": 1559692800000000000,
            "bin_end": 1572048000000000000,
            "count": 4
           },
           {
            "bin_start": 1572048000000000000,
            "bin_end": 1584403200000000000,
            "count": 5
           },
           {
            "bin_start": 1584403200000000000,
            "bin_end": 1596758400000000000,
            "count": 5
           },
           {
            "bin_start": 1596758400000000000,
            "bin_end": 1609113600000000000,
            "count": 5
           }
          ]
         }
        },
        {
         "name": "avg_ketinggian",
         "dtype": "float64",
         "stats": {
          "unique_count": 22,
          "nan_count": 0,
          "min": "0.0",
          "max": "180.0",
          "histogram": [
           {
            "bin_start": 0,
            "bin_end": 18,
            "count": 8
           },
           {
            "bin_start": 18,
            "bin_end": 36,
            "count": 3
           },
           {
            "bin_start": 36,
            "bin_end": 54,
            "count": 12
           },
           {
            "bin_start": 54,
            "bin_end": 72,
            "count": 12
           },
           {
            "bin_start": 72,
            "bin_end": 90,
            "count": 5
           },
           {
            "bin_start": 90,
            "bin_end": 108,
            "count": 4
           },
           {
            "bin_start": 108,
            "bin_end": 126,
            "count": 0
           },
           {
            "bin_start": 126,
            "bin_end": 144,
            "count": 2
           },
           {
            "bin_start": 144,
            "bin_end": 162,
            "count": 1
           },
           {
            "bin_start": 162,
            "bin_end": 180,
            "count": 1
           }
          ]
         }
        },
        {
         "name": "_deepnote_index_column",
         "dtype": "object"
        }
       ],
       "rows": [
        {
         "date": "2020-05-28T00:00:00Z",
         "avg_ketinggian": 105,
         "_deepnote_index_column": "28/5/2020"
        },
        {
         "date": "2020-06-28T00:00:00Z",
         "avg_ketinggian": 62.5,
         "_deepnote_index_column": "28/6/2020"
        },
        {
         "date": "2020-07-28T00:00:00Z",
         "avg_ketinggian": 35,
         "_deepnote_index_column": "28/7/2020"
        },
        {
         "date": "2020-08-28T00:00:00Z",
         "avg_ketinggian": 45,
         "_deepnote_index_column": "28/8/2020"
        },
        {
         "date": "2020-09-28T00:00:00Z",
         "avg_ketinggian": 70,
         "_deepnote_index_column": "28/9/2020"
        },
        {
         "date": "2020-10-28T00:00:00Z",
         "avg_ketinggian": 95,
         "_deepnote_index_column": "28/10/2020"
        },
        {
         "date": "2020-11-28T00:00:00Z",
         "avg_ketinggian": 35,
         "_deepnote_index_column": "28/11/2020"
        },
        {
         "date": "2020-12-28T00:00:00Z",
         "avg_ketinggian": 45,
         "_deepnote_index_column": "28/12/2020"
        }
       ]
      },
      "text/plain": "                 date  avg_ketinggian\ndate                                 \n28/1/2017  2017-01-28            40.0\n28/2/2017  2017-02-28           130.0\n28/3/2017  2017-03-28            80.0\n28/4/2017  2017-04-28           105.0\n28/5/2017  2017-05-28            62.5\n28/6/2017  2017-06-28            60.0\n28/7/2017  2017-07-28            45.0\n28/8/2017  2017-08-28            45.0\n28/9/2017  2017-09-28            45.0\n28/10/2017 2017-10-28            57.5\n28/11/2017 2017-11-28            80.0\n28/12/2017 2017-12-28            40.0\n28/1/2018  2018-01-28            22.5\n28/2/2018  2018-02-28           152.5\n28/3/2018  2018-03-28            55.0\n28/4/2018  2018-04-28            47.5\n28/5/2018  2018-05-28            80.0\n28/6/2018  2018-06-28            55.0\n28/7/2018  2018-07-28             0.0\n28/8/2018  2018-08-28             0.0\n28/9/2018  2018-09-28             0.0\n28/10/2018 2018-10-28            45.0\n28/11/2018 2018-11-28            52.5\n28/12/2018 2018-12-28            51.5\n28/1/2019  2019-01-28            40.0\n28/2/2019  2019-02-28            72.5\n28/3/2019  2019-03-28            55.0\n28/4/2019  2019-04-28           130.0\n28/5/2019  2019-05-28            55.0\n28/6/2019  2019-06-28             0.0\n28/7/2019  2019-07-28             0.0\n28/8/2019  2019-08-28             0.0\n28/9/2019  2019-09-28             0.0\n28/10/2019 2019-10-28            55.0\n28/11/2019 2019-11-28             0.0\n28/12/2019 2019-12-28            57.5\n28/1/2020  2020-01-28           180.0\n28/2/2020  2020-02-28           102.5\n28/3/2020  2020-03-28            82.5\n28/4/2020  2020-04-28            70.0\n28/5/2020  2020-05-28           105.0\n28/6/2020  2020-06-28            62.5\n28/7/2020  2020-07-28            35.0\n28/8/2020  2020-08-28            45.0\n28/9/2020  2020-09-28            70.0\n28/10/2020 2020-10-28            95.0\n28/11/2020 2020-11-28            35.0\n28/12/2020 2020-12-28            45.0",
      "text/html": "<div>\n<style scoped>\n    .dataframe tbody tr th:only-of-type {\n        vertical-align: middle;\n    }\n\n    .dataframe tbody tr th {\n        vertical-align: top;\n    }\n\n    .dataframe thead th {\n        text-align: right;\n    }\n</style>\n<table border=\"1\" class=\"dataframe\">\n  <thead>\n    <tr style=\"text-align: right;\">\n      <th></th>\n      <th>date</th>\n      <th>avg_ketinggian</th>\n    </tr>\n    <tr>\n      <th>date</th>\n      <th></th>\n      <th></th>\n    </tr>\n  </thead>\n  <tbody>\n    <tr>\n      <th>28/1/2017</th>\n      <td>2017-01-28</td>\n      <td>40.0</td>\n    </tr>\n    <tr>\n      <th>28/2/2017</th>\n      <td>2017-02-28</td>\n      <td>130.0</td>\n    </tr>\n    <tr>\n      <th>28/3/2017</th>\n      <td>2017-03-28</td>\n      <td>80.0</td>\n    </tr>\n    <tr>\n      <th>28/4/2017</th>\n      <td>2017-04-28</td>\n      <td>105.0</td>\n    </tr>\n    <tr>\n      <th>28/5/2017</th>\n      <td>2017-05-28</td>\n      <td>62.5</td>\n    </tr>\n    <tr>\n      <th>28/6/2017</th>\n      <td>2017-06-28</td>\n      <td>60.0</td>\n    </tr>\n    <tr>\n      <th>28/7/2017</th>\n      <td>2017-07-28</td>\n      <td>45.0</td>\n    </tr>\n    <tr>\n      <th>28/8/2017</th>\n      <td>2017-08-28</td>\n      <td>45.0</td>\n    </tr>\n    <tr>\n      <th>28/9/2017</th>\n      <td>2017-09-28</td>\n      <td>45.0</td>\n    </tr>\n    <tr>\n      <th>28/10/2017</th>\n      <td>2017-10-28</td>\n      <td>57.5</td>\n    </tr>\n    <tr>\n      <th>28/11/2017</th>\n      <td>2017-11-28</td>\n      <td>80.0</td>\n    </tr>\n    <tr>\n      <th>28/12/2017</th>\n      <td>2017-12-28</td>\n      <td>40.0</td>\n    </tr>\n    <tr>\n      <th>28/1/2018</th>\n      <td>2018-01-28</td>\n      <td>22.5</td>\n    </tr>\n    <tr>\n      <th>28/2/2018</th>\n      <td>2018-02-28</td>\n      <td>152.5</td>\n    </tr>\n    <tr>\n      <th>28/3/2018</th>\n      <td>2018-03-28</td>\n      <td>55.0</td>\n    </tr>\n    <tr>\n      <th>28/4/2018</th>\n      <td>2018-04-28</td>\n      <td>47.5</td>\n    </tr>\n    <tr>\n      <th>28/5/2018</th>\n      <td>2018-05-28</td>\n      <td>80.0</td>\n    </tr>\n    <tr>\n      <th>28/6/2018</th>\n      <td>2018-06-28</td>\n      <td>55.0</td>\n    </tr>\n    <tr>\n      <th>28/7/2018</th>\n      <td>2018-07-28</td>\n      <td>0.0</td>\n    </tr>\n    <tr>\n      <th>28/8/2018</th>\n      <td>2018-08-28</td>\n      <td>0.0</td>\n    </tr>\n    <tr>\n      <th>28/9/2018</th>\n      <td>2018-09-28</td>\n      <td>0.0</td>\n    </tr>\n    <tr>\n      <th>28/10/2018</th>\n      <td>2018-10-28</td>\n      <td>45.0</td>\n    </tr>\n    <tr>\n      <th>28/11/2018</th>\n      <td>2018-11-28</td>\n      <td>52.5</td>\n    </tr>\n    <tr>\n      <th>28/12/2018</th>\n      <td>2018-12-28</td>\n      <td>51.5</td>\n    </tr>\n    <tr>\n      <th>28/1/2019</th>\n      <td>2019-01-28</td>\n      <td>40.0</td>\n    </tr>\n    <tr>\n      <th>28/2/2019</th>\n      <td>2019-02-28</td>\n      <td>72.5</td>\n    </tr>\n    <tr>\n      <th>28/3/2019</th>\n      <td>2019-03-28</td>\n      <td>55.0</td>\n    </tr>\n    <tr>\n      <th>28/4/2019</th>\n      <td>2019-04-28</td>\n      <td>130.0</td>\n    </tr>\n    <tr>\n      <th>28/5/2019</th>\n      <td>2019-05-28</td>\n      <td>55.0</td>\n    </tr>\n    <tr>\n      <th>28/6/2019</th>\n      <td>2019-06-28</td>\n      <td>0.0</td>\n    </tr>\n    <tr>\n      <th>28/7/2019</th>\n      <td>2019-07-28</td>\n      <td>0.0</td>\n    </tr>\n    <tr>\n      <th>28/8/2019</th>\n      <td>2019-08-28</td>\n      <td>0.0</td>\n    </tr>\n    <tr>\n      <th>28/9/2019</th>\n      <td>2019-09-28</td>\n      <td>0.0</td>\n    </tr>\n    <tr>\n      <th>28/10/2019</th>\n      <td>2019-10-28</td>\n      <td>55.0</td>\n    </tr>\n    <tr>\n      <th>28/11/2019</th>\n      <td>2019-11-28</td>\n      <td>0.0</td>\n    </tr>\n    <tr>\n      <th>28/12/2019</th>\n      <td>2019-12-28</td>\n      <td>57.5</td>\n    </tr>\n    <tr>\n      <th>28/1/2020</th>\n      <td>2020-01-28</td>\n      <td>180.0</td>\n    </tr>\n    <tr>\n      <th>28/2/2020</th>\n      <td>2020-02-28</td>\n      <td>102.5</td>\n    </tr>\n    <tr>\n      <th>28/3/2020</th>\n      <td>2020-03-28</td>\n      <td>82.5</td>\n    </tr>\n    <tr>\n      <th>28/4/2020</th>\n      <td>2020-04-28</td>\n      <td>70.0</td>\n    </tr>\n    <tr>\n      <th>28/5/2020</th>\n      <td>2020-05-28</td>\n      <td>105.0</td>\n    </tr>\n    <tr>\n      <th>28/6/2020</th>\n      <td>2020-06-28</td>\n      <td>62.5</td>\n    </tr>\n    <tr>\n      <th>28/7/2020</th>\n      <td>2020-07-28</td>\n      <td>35.0</td>\n    </tr>\n    <tr>\n      <th>28/8/2020</th>\n      <td>2020-08-28</td>\n      <td>45.0</td>\n    </tr>\n    <tr>\n      <th>28/9/2020</th>\n      <td>2020-09-28</td>\n      <td>70.0</td>\n    </tr>\n    <tr>\n      <th>28/10/2020</th>\n      <td>2020-10-28</td>\n      <td>95.0</td>\n    </tr>\n    <tr>\n      <th>28/11/2020</th>\n      <td>2020-11-28</td>\n      <td>35.0</td>\n    </tr>\n    <tr>\n      <th>28/12/2020</th>\n      <td>2020-12-28</td>\n      <td>45.0</td>\n    </tr>\n  </tbody>\n</table>\n</div>"
     },
     "metadata": {}
    }
   ]
  },
  {
   "cell_type": "code",
   "metadata": {
    "cell_id": "f8a89a7ec4e64940a042d99872630b25",
    "tags": [],
    "deepnote_to_be_reexecuted": false,
    "source_hash": "a9914c75",
    "execution_start": 1661016420383,
    "execution_millis": 716,
    "deepnote_cell_type": "code",
    "deepnote_cell_height": 112.1875,
    "deepnote_output_heights": [
     20.1875
    ]
   },
   "source": "df2['avg_ketinggian'].astype('float64').dtypes",
   "execution_count": 37,
   "outputs": [
    {
     "output_type": "execute_result",
     "execution_count": 37,
     "data": {
      "text/plain": "dtype('float64')"
     },
     "metadata": {}
    }
   ]
  },
  {
   "cell_type": "code",
   "metadata": {
    "cell_id": "76f31c0830dc468ea5c4303806944186",
    "tags": [],
    "deepnote_to_be_reexecuted": false,
    "source_hash": "14844383",
    "execution_start": 1661016420397,
    "execution_millis": 5,
    "deepnote_cell_type": "code",
    "deepnote_cell_height": 261
   },
   "source": "from statsmodels.tsa.stattools import adfuller\n\ndef ad_test(dataset):\n    dftest= adfuller(dataset, autolag= 'AIC')\n    print(\"1. ADF : \",dftest[0])\n    print(\"2. P-Value :\", dftest[1])\n    print(\"3 Number of lags : \", dftest[2])\n    print(\"4. Nums of observation use for adf regressions and crit value calc : \", dftest[3])\n    print(\"5. Crit Values :\")\n    for key, val in dftest[4].items():\n        print(\"\\t\", key, \": \", val)",
   "execution_count": 38,
   "outputs": []
  },
  {
   "cell_type": "code",
   "metadata": {
    "cell_id": "b20ebd6a284b47a191b03d5343a8cb13",
    "tags": [],
    "deepnote_to_be_reexecuted": false,
    "source_hash": "bc238524",
    "execution_start": 1661016420409,
    "execution_millis": 691,
    "deepnote_cell_type": "code",
    "deepnote_cell_height": 249
   },
   "source": "ad_test(df2['avg_ketinggian'])",
   "execution_count": 39,
   "outputs": [
    {
     "name": "stdout",
     "text": "1. ADF :  -4.879288751566468\n2. P-Value : 3.826039405160863e-05\n3 Number of lags :  0\n4. Nums of observation use for adf regressions and crit value calc :  47\n5. Crit Values :\n\t 1% :  -3.5778480370438146\n\t 5% :  -2.925338105429433\n\t 10% :  -2.6007735310095064\n",
     "output_type": "stream"
    }
   ]
  },
  {
   "cell_type": "code",
   "metadata": {
    "cell_id": "a5d56b311f15430d8b346562291ad2aa",
    "tags": [],
    "deepnote_to_be_reexecuted": false,
    "source_hash": "c39f41b7",
    "execution_start": 1661016420436,
    "execution_millis": 3,
    "deepnote_cell_type": "code",
    "deepnote_cell_height": 112
   },
   "source": "from pmdarima import auto_arima\nimport warnings\nwarnings.filterwarnings(\"ignore\")",
   "execution_count": 40,
   "outputs": []
  },
  {
   "cell_type": "code",
   "metadata": {
    "cell_id": "f663db89836a44b2a09b126e5df14dc4",
    "tags": [],
    "deepnote_to_be_reexecuted": false,
    "source_hash": "1be0b513",
    "execution_start": 1661016420442,
    "execution_millis": 1611,
    "deepnote_cell_type": "code",
    "deepnote_cell_height": 956.1875,
    "deepnote_output_heights": [
     null,
     557.75
    ]
   },
   "source": "stepwise_fit = auto_arima(df2['avg_ketinggian'], trace = True, supress_warnings = True)\nstepwise_fit.summary()",
   "execution_count": 41,
   "outputs": [
    {
     "name": "stdout",
     "text": "Performing stepwise search to minimize aic\n ARIMA(2,0,2)(0,0,0)[0] intercept   : AIC=496.855, Time=0.32 sec\n ARIMA(0,0,0)(0,0,0)[0] intercept   : AIC=493.820, Time=0.03 sec\n ARIMA(1,0,0)(0,0,0)[0] intercept   : AIC=491.090, Time=0.09 sec\n ARIMA(0,0,1)(0,0,0)[0] intercept   : AIC=491.009, Time=0.10 sec\n ARIMA(0,0,0)(0,0,0)[0]             : AIC=545.586, Time=0.08 sec\n ARIMA(1,0,1)(0,0,0)[0] intercept   : AIC=492.981, Time=0.31 sec\n ARIMA(0,0,2)(0,0,0)[0] intercept   : AIC=492.993, Time=0.21 sec\n ARIMA(1,0,2)(0,0,0)[0] intercept   : AIC=494.963, Time=0.28 sec\n ARIMA(0,0,1)(0,0,0)[0]             : AIC=522.508, Time=0.11 sec\n\nBest model:  ARIMA(0,0,1)(0,0,0)[0] intercept\nTotal fit time: 1.532 seconds\n",
     "output_type": "stream"
    },
    {
     "output_type": "execute_result",
     "execution_count": 41,
     "data": {
      "text/plain": "<class 'statsmodels.iolib.summary.Summary'>\n\"\"\"\n                               SARIMAX Results                                \n==============================================================================\nDep. Variable:                      y   No. Observations:                   48\nModel:               SARIMAX(0, 0, 1)   Log Likelihood                -242.505\nDate:                Sat, 20 Aug 2022   AIC                            491.009\nTime:                        17:27:01   BIC                            496.623\nSample:                             0   HQIC                           493.131\n                                 - 48                                         \nCovariance Type:                  opg                                         \n==============================================================================\n                 coef    std err          z      P>|z|      [0.025      0.975]\n------------------------------------------------------------------------------\nintercept     56.8962      9.245      6.154      0.000      38.776      75.016\nma.L1          0.3195      0.173      1.845      0.065      -0.020       0.659\nsigma2      1428.1393    294.470      4.850      0.000     850.989    2005.290\n===================================================================================\nLjung-Box (L1) (Q):                   0.00   Jarque-Bera (JB):                13.69\nProb(Q):                              0.96   Prob(JB):                         0.00\nHeteroskedasticity (H):               1.10   Skew:                             1.10\nProb(H) (two-sided):                  0.85   Kurtosis:                         4.40\n===================================================================================\n\nWarnings:\n[1] Covariance matrix calculated using the outer product of gradients (complex-step).\n\"\"\"",
      "text/html": "<table class=\"simpletable\">\n<caption>SARIMAX Results</caption>\n<tr>\n  <th>Dep. Variable:</th>           <td>y</td>        <th>  No. Observations:  </th>    <td>48</td>   \n</tr>\n<tr>\n  <th>Model:</th>           <td>SARIMAX(0, 0, 1)</td> <th>  Log Likelihood     </th> <td>-242.505</td>\n</tr>\n<tr>\n  <th>Date:</th>            <td>Sat, 20 Aug 2022</td> <th>  AIC                </th>  <td>491.009</td>\n</tr>\n<tr>\n  <th>Time:</th>                <td>17:27:01</td>     <th>  BIC                </th>  <td>496.623</td>\n</tr>\n<tr>\n  <th>Sample:</th>                  <td>0</td>        <th>  HQIC               </th>  <td>493.131</td>\n</tr>\n<tr>\n  <th></th>                       <td> - 48</td>      <th>                     </th>     <td> </td>   \n</tr>\n<tr>\n  <th>Covariance Type:</th>        <td>opg</td>       <th>                     </th>     <td> </td>   \n</tr>\n</table>\n<table class=\"simpletable\">\n<tr>\n      <td></td>         <th>coef</th>     <th>std err</th>      <th>z</th>      <th>P>|z|</th>  <th>[0.025</th>    <th>0.975]</th>  \n</tr>\n<tr>\n  <th>intercept</th> <td>   56.8962</td> <td>    9.245</td> <td>    6.154</td> <td> 0.000</td> <td>   38.776</td> <td>   75.016</td>\n</tr>\n<tr>\n  <th>ma.L1</th>     <td>    0.3195</td> <td>    0.173</td> <td>    1.845</td> <td> 0.065</td> <td>   -0.020</td> <td>    0.659</td>\n</tr>\n<tr>\n  <th>sigma2</th>    <td> 1428.1393</td> <td>  294.470</td> <td>    4.850</td> <td> 0.000</td> <td>  850.989</td> <td> 2005.290</td>\n</tr>\n</table>\n<table class=\"simpletable\">\n<tr>\n  <th>Ljung-Box (L1) (Q):</th>     <td>0.00</td> <th>  Jarque-Bera (JB):  </th> <td>13.69</td>\n</tr>\n<tr>\n  <th>Prob(Q):</th>                <td>0.96</td> <th>  Prob(JB):          </th> <td>0.00</td> \n</tr>\n<tr>\n  <th>Heteroskedasticity (H):</th> <td>1.10</td> <th>  Skew:              </th> <td>1.10</td> \n</tr>\n<tr>\n  <th>Prob(H) (two-sided):</th>    <td>0.85</td> <th>  Kurtosis:          </th> <td>4.40</td> \n</tr>\n</table><br/><br/>Warnings:<br/>[1] Covariance matrix calculated using the outer product of gradients (complex-step)."
     },
     "metadata": {}
    }
   ]
  },
  {
   "cell_type": "code",
   "metadata": {
    "cell_id": "feca0efb18934693a91b6f5db1fc4684",
    "tags": [],
    "deepnote_to_be_reexecuted": false,
    "source_hash": "452c6411",
    "execution_start": 1661016422059,
    "execution_millis": 13,
    "deepnote_cell_type": "code",
    "deepnote_cell_height": 76
   },
   "source": "from statsmodels.tsa.arima.model import ARIMA",
   "execution_count": 42,
   "outputs": []
  },
  {
   "cell_type": "code",
   "metadata": {
    "cell_id": "31dc07be931d4e3e800a152054731c0a",
    "tags": [],
    "deepnote_to_be_reexecuted": false,
    "source_hash": "c43e49f",
    "execution_start": 1661016422080,
    "execution_millis": 9,
    "deepnote_cell_type": "code",
    "deepnote_cell_height": 181.375
   },
   "source": "print(df2.shape)\ntrain = df2.iloc[:24]\ntest = df2.iloc[24:]\nprint(train.shape, test.shape)",
   "execution_count": 43,
   "outputs": [
    {
     "name": "stdout",
     "text": "(48, 2)\n(24, 2) (24, 2)\n",
     "output_type": "stream"
    }
   ]
  },
  {
   "cell_type": "code",
   "metadata": {
    "cell_id": "f6616897b4f74f97965de6601fd9c19b",
    "tags": [],
    "deepnote_to_be_reexecuted": false,
    "source_hash": "951a9862",
    "execution_start": 1661016422095,
    "execution_millis": 20,
    "deepnote_table_state": {
     "pageSize": 10,
     "pageIndex": 0,
     "filters": [],
     "sortBy": []
    },
    "deepnote_table_loading": false,
    "deepnote_cell_type": "code",
    "deepnote_cell_height": 595
   },
   "source": "test",
   "execution_count": 44,
   "outputs": [
    {
     "output_type": "execute_result",
     "execution_count": 44,
     "data": {
      "application/vnd.deepnote.dataframe.v3+json": {
       "column_count": 2,
       "row_count": 24,
       "columns": [
        {
         "name": "date",
         "dtype": "datetime64[ns]",
         "stats": {
          "unique_count": 24,
          "nan_count": 0,
          "min": "2019-01-28 00:00:00",
          "max": "2020-12-28 00:00:00",
          "histogram": [
           {
            "bin_start": 1548633600000000000,
            "bin_end": 1554681600000000000,
            "count": 3
           },
           {
            "bin_start": 1554681600000000000,
            "bin_end": 1560729600000000000,
            "count": 2
           },
           {
            "bin_start": 1560729600000000000,
            "bin_end": 1566777600000000000,
            "count": 2
           },
           {
            "bin_start": 1566777600000000000,
            "bin_end": 1572825600000000000,
            "count": 3
           },
           {
            "bin_start": 1572825600000000000,
            "bin_end": 1578873600000000000,
            "count": 2
           },
           {
            "bin_start": 1578873600000000000,
            "bin_end": 1584921600000000000,
            "count": 2
           },
           {
            "bin_start": 1584921600000000000,
            "bin_end": 1590969600000000000,
            "count": 3
           },
           {
            "bin_start": 1590969600000000000,
            "bin_end": 1597017600000000000,
            "count": 2
           },
           {
            "bin_start": 1597017600000000000,
            "bin_end": 1603065600000000000,
            "count": 2
           },
           {
            "bin_start": 1603065600000000000,
            "bin_end": 1609113600000000000,
            "count": 3
           }
          ]
         }
        },
        {
         "name": "avg_ketinggian",
         "dtype": "float64",
         "stats": {
          "unique_count": 15,
          "nan_count": 0,
          "min": "0.0",
          "max": "180.0",
          "histogram": [
           {
            "bin_start": 0,
            "bin_end": 18,
            "count": 5
           },
           {
            "bin_start": 18,
            "bin_end": 36,
            "count": 2
           },
           {
            "bin_start": 36,
            "bin_end": 54,
            "count": 3
           },
           {
            "bin_start": 54,
            "bin_end": 72,
            "count": 7
           },
           {
            "bin_start": 72,
            "bin_end": 90,
            "count": 2
           },
           {
            "bin_start": 90,
            "bin_end": 108,
            "count": 3
           },
           {
            "bin_start": 108,
            "bin_end": 126,
            "count": 0
           },
           {
            "bin_start": 126,
            "bin_end": 144,
            "count": 1
           },
           {
            "bin_start": 144,
            "bin_end": 162,
            "count": 0
           },
           {
            "bin_start": 162,
            "bin_end": 180,
            "count": 1
           }
          ]
         }
        },
        {
         "name": "_deepnote_index_column",
         "dtype": "object"
        }
       ],
       "rows": [
        {
         "date": "2019-01-28T00:00:00Z",
         "avg_ketinggian": 40,
         "_deepnote_index_column": "28/1/2019"
        },
        {
         "date": "2019-02-28T00:00:00Z",
         "avg_ketinggian": 72.5,
         "_deepnote_index_column": "28/2/2019"
        },
        {
         "date": "2019-03-28T00:00:00Z",
         "avg_ketinggian": 55,
         "_deepnote_index_column": "28/3/2019"
        },
        {
         "date": "2019-04-28T00:00:00Z",
         "avg_ketinggian": 130,
         "_deepnote_index_column": "28/4/2019"
        },
        {
         "date": "2019-05-28T00:00:00Z",
         "avg_ketinggian": 55,
         "_deepnote_index_column": "28/5/2019"
        },
        {
         "date": "2019-06-28T00:00:00Z",
         "avg_ketinggian": 0,
         "_deepnote_index_column": "28/6/2019"
        },
        {
         "date": "2019-07-28T00:00:00Z",
         "avg_ketinggian": 0,
         "_deepnote_index_column": "28/7/2019"
        },
        {
         "date": "2019-08-28T00:00:00Z",
         "avg_ketinggian": 0,
         "_deepnote_index_column": "28/8/2019"
        },
        {
         "date": "2019-09-28T00:00:00Z",
         "avg_ketinggian": 0,
         "_deepnote_index_column": "28/9/2019"
        },
        {
         "date": "2019-10-28T00:00:00Z",
         "avg_ketinggian": 55,
         "_deepnote_index_column": "28/10/2019"
        }
       ]
      },
      "text/plain": "                 date  avg_ketinggian\ndate                                 \n28/1/2019  2019-01-28            40.0\n28/2/2019  2019-02-28            72.5\n28/3/2019  2019-03-28            55.0\n28/4/2019  2019-04-28           130.0\n28/5/2019  2019-05-28            55.0\n28/6/2019  2019-06-28             0.0\n28/7/2019  2019-07-28             0.0\n28/8/2019  2019-08-28             0.0\n28/9/2019  2019-09-28             0.0\n28/10/2019 2019-10-28            55.0\n28/11/2019 2019-11-28             0.0\n28/12/2019 2019-12-28            57.5\n28/1/2020  2020-01-28           180.0\n28/2/2020  2020-02-28           102.5\n28/3/2020  2020-03-28            82.5\n28/4/2020  2020-04-28            70.0\n28/5/2020  2020-05-28           105.0\n28/6/2020  2020-06-28            62.5\n28/7/2020  2020-07-28            35.0\n28/8/2020  2020-08-28            45.0\n28/9/2020  2020-09-28            70.0\n28/10/2020 2020-10-28            95.0\n28/11/2020 2020-11-28            35.0\n28/12/2020 2020-12-28            45.0",
      "text/html": "<div>\n<style scoped>\n    .dataframe tbody tr th:only-of-type {\n        vertical-align: middle;\n    }\n\n    .dataframe tbody tr th {\n        vertical-align: top;\n    }\n\n    .dataframe thead th {\n        text-align: right;\n    }\n</style>\n<table border=\"1\" class=\"dataframe\">\n  <thead>\n    <tr style=\"text-align: right;\">\n      <th></th>\n      <th>date</th>\n      <th>avg_ketinggian</th>\n    </tr>\n    <tr>\n      <th>date</th>\n      <th></th>\n      <th></th>\n    </tr>\n  </thead>\n  <tbody>\n    <tr>\n      <th>28/1/2019</th>\n      <td>2019-01-28</td>\n      <td>40.0</td>\n    </tr>\n    <tr>\n      <th>28/2/2019</th>\n      <td>2019-02-28</td>\n      <td>72.5</td>\n    </tr>\n    <tr>\n      <th>28/3/2019</th>\n      <td>2019-03-28</td>\n      <td>55.0</td>\n    </tr>\n    <tr>\n      <th>28/4/2019</th>\n      <td>2019-04-28</td>\n      <td>130.0</td>\n    </tr>\n    <tr>\n      <th>28/5/2019</th>\n      <td>2019-05-28</td>\n      <td>55.0</td>\n    </tr>\n    <tr>\n      <th>28/6/2019</th>\n      <td>2019-06-28</td>\n      <td>0.0</td>\n    </tr>\n    <tr>\n      <th>28/7/2019</th>\n      <td>2019-07-28</td>\n      <td>0.0</td>\n    </tr>\n    <tr>\n      <th>28/8/2019</th>\n      <td>2019-08-28</td>\n      <td>0.0</td>\n    </tr>\n    <tr>\n      <th>28/9/2019</th>\n      <td>2019-09-28</td>\n      <td>0.0</td>\n    </tr>\n    <tr>\n      <th>28/10/2019</th>\n      <td>2019-10-28</td>\n      <td>55.0</td>\n    </tr>\n    <tr>\n      <th>28/11/2019</th>\n      <td>2019-11-28</td>\n      <td>0.0</td>\n    </tr>\n    <tr>\n      <th>28/12/2019</th>\n      <td>2019-12-28</td>\n      <td>57.5</td>\n    </tr>\n    <tr>\n      <th>28/1/2020</th>\n      <td>2020-01-28</td>\n      <td>180.0</td>\n    </tr>\n    <tr>\n      <th>28/2/2020</th>\n      <td>2020-02-28</td>\n      <td>102.5</td>\n    </tr>\n    <tr>\n      <th>28/3/2020</th>\n      <td>2020-03-28</td>\n      <td>82.5</td>\n    </tr>\n    <tr>\n      <th>28/4/2020</th>\n      <td>2020-04-28</td>\n      <td>70.0</td>\n    </tr>\n    <tr>\n      <th>28/5/2020</th>\n      <td>2020-05-28</td>\n      <td>105.0</td>\n    </tr>\n    <tr>\n      <th>28/6/2020</th>\n      <td>2020-06-28</td>\n      <td>62.5</td>\n    </tr>\n    <tr>\n      <th>28/7/2020</th>\n      <td>2020-07-28</td>\n      <td>35.0</td>\n    </tr>\n    <tr>\n      <th>28/8/2020</th>\n      <td>2020-08-28</td>\n      <td>45.0</td>\n    </tr>\n    <tr>\n      <th>28/9/2020</th>\n      <td>2020-09-28</td>\n      <td>70.0</td>\n    </tr>\n    <tr>\n      <th>28/10/2020</th>\n      <td>2020-10-28</td>\n      <td>95.0</td>\n    </tr>\n    <tr>\n      <th>28/11/2020</th>\n      <td>2020-11-28</td>\n      <td>35.0</td>\n    </tr>\n    <tr>\n      <th>28/12/2020</th>\n      <td>2020-12-28</td>\n      <td>45.0</td>\n    </tr>\n  </tbody>\n</table>\n</div>"
     },
     "metadata": {}
    }
   ]
  },
  {
   "cell_type": "code",
   "metadata": {
    "cell_id": "4bba401a83064ba1acc6bc65e1356e6f",
    "tags": [],
    "deepnote_to_be_reexecuted": false,
    "source_hash": "dcf76d56",
    "execution_start": 1661016422140,
    "execution_millis": 58,
    "deepnote_cell_type": "code",
    "deepnote_cell_height": 686,
    "deepnote_output_heights": [
     557.75
    ]
   },
   "source": "model = ARIMA(train['avg_ketinggian'], order = (1,0,0))\nmodel = model.fit()\nmodel.summary()",
   "execution_count": 45,
   "outputs": [
    {
     "output_type": "execute_result",
     "execution_count": 45,
     "data": {
      "text/plain": "<class 'statsmodels.iolib.summary.Summary'>\n\"\"\"\n                               SARIMAX Results                                \n==============================================================================\nDep. Variable:         avg_ketinggian   No. Observations:                   24\nModel:                 ARIMA(1, 0, 0)   Log Likelihood                -119.422\nDate:                Sat, 20 Aug 2022   AIC                            244.845\nTime:                        17:27:02   BIC                            248.379\nSample:                             0   HQIC                           245.782\n                                 - 24                                         \nCovariance Type:                  opg                                         \n==============================================================================\n                 coef    std err          z      P>|z|      [0.025      0.975]\n------------------------------------------------------------------------------\nconst         56.1130     12.679      4.426      0.000      31.263      80.963\nar.L1          0.1876      0.278      0.675      0.499      -0.357       0.732\nsigma2      1227.2071    335.433      3.659      0.000     569.770    1884.644\n===================================================================================\nLjung-Box (L1) (Q):                   0.00   Jarque-Bera (JB):                 8.55\nProb(Q):                              0.98   Prob(JB):                         0.01\nHeteroskedasticity (H):               0.94   Skew:                             1.19\nProb(H) (two-sided):                  0.93   Kurtosis:                         4.70\n===================================================================================\n\nWarnings:\n[1] Covariance matrix calculated using the outer product of gradients (complex-step).\n\"\"\"",
      "text/html": "<table class=\"simpletable\">\n<caption>SARIMAX Results</caption>\n<tr>\n  <th>Dep. Variable:</th>    <td>avg_ketinggian</td>  <th>  No. Observations:  </th>    <td>24</td>   \n</tr>\n<tr>\n  <th>Model:</th>            <td>ARIMA(1, 0, 0)</td>  <th>  Log Likelihood     </th> <td>-119.422</td>\n</tr>\n<tr>\n  <th>Date:</th>            <td>Sat, 20 Aug 2022</td> <th>  AIC                </th>  <td>244.845</td>\n</tr>\n<tr>\n  <th>Time:</th>                <td>17:27:02</td>     <th>  BIC                </th>  <td>248.379</td>\n</tr>\n<tr>\n  <th>Sample:</th>                  <td>0</td>        <th>  HQIC               </th>  <td>245.782</td>\n</tr>\n<tr>\n  <th></th>                       <td> - 24</td>      <th>                     </th>     <td> </td>   \n</tr>\n<tr>\n  <th>Covariance Type:</th>        <td>opg</td>       <th>                     </th>     <td> </td>   \n</tr>\n</table>\n<table class=\"simpletable\">\n<tr>\n     <td></td>       <th>coef</th>     <th>std err</th>      <th>z</th>      <th>P>|z|</th>  <th>[0.025</th>    <th>0.975]</th>  \n</tr>\n<tr>\n  <th>const</th>  <td>   56.1130</td> <td>   12.679</td> <td>    4.426</td> <td> 0.000</td> <td>   31.263</td> <td>   80.963</td>\n</tr>\n<tr>\n  <th>ar.L1</th>  <td>    0.1876</td> <td>    0.278</td> <td>    0.675</td> <td> 0.499</td> <td>   -0.357</td> <td>    0.732</td>\n</tr>\n<tr>\n  <th>sigma2</th> <td> 1227.2071</td> <td>  335.433</td> <td>    3.659</td> <td> 0.000</td> <td>  569.770</td> <td> 1884.644</td>\n</tr>\n</table>\n<table class=\"simpletable\">\n<tr>\n  <th>Ljung-Box (L1) (Q):</th>     <td>0.00</td> <th>  Jarque-Bera (JB):  </th> <td>8.55</td>\n</tr>\n<tr>\n  <th>Prob(Q):</th>                <td>0.98</td> <th>  Prob(JB):          </th> <td>0.01</td>\n</tr>\n<tr>\n  <th>Heteroskedasticity (H):</th> <td>0.94</td> <th>  Skew:              </th> <td>1.19</td>\n</tr>\n<tr>\n  <th>Prob(H) (two-sided):</th>    <td>0.93</td> <th>  Kurtosis:          </th> <td>4.70</td>\n</tr>\n</table><br/><br/>Warnings:<br/>[1] Covariance matrix calculated using the outer product of gradients (complex-step)."
     },
     "metadata": {}
    }
   ]
  },
  {
   "cell_type": "code",
   "metadata": {
    "cell_id": "d48d0d87722b41f38e2e23769e3d75d1",
    "tags": [],
    "deepnote_to_be_reexecuted": false,
    "source_hash": "705e4b5d",
    "execution_start": 1661016422201,
    "execution_millis": 8,
    "deepnote_cell_type": "code",
    "deepnote_cell_height": 684
   },
   "source": "start = len(train)\nend = len(train)+len(train)-1\npred = model.predict(start=start, end = end, typ = 'levels')\npred.index=df2.index[start:end+1]\nprint(pred)",
   "execution_count": 46,
   "outputs": [
    {
     "name": "stdout",
     "text": "date\n28/1/2019     55.247633\n28/2/2019     55.950631\n28/3/2019     56.082502\n28/4/2019     56.107239\n28/5/2019     56.111879\n28/6/2019     56.112750\n28/7/2019     56.112913\n28/8/2019     56.112944\n28/9/2019     56.112949\n28/10/2019    56.112950\n28/11/2019    56.112951\n28/12/2019    56.112951\n28/1/2020     56.112951\n28/2/2020     56.112951\n28/3/2020     56.112951\n28/4/2020     56.112951\n28/5/2020     56.112951\n28/6/2020     56.112951\n28/7/2020     56.112951\n28/8/2020     56.112951\n28/9/2020     56.112951\n28/10/2020    56.112951\n28/11/2020    56.112951\n28/12/2020    56.112951\nName: predicted_mean, dtype: float64\n",
     "output_type": "stream"
    }
   ]
  },
  {
   "cell_type": "code",
   "metadata": {
    "cell_id": "e47ccf03f6d943ceb5730082e0af254b",
    "tags": [],
    "deepnote_to_be_reexecuted": false,
    "source_hash": "e7c36dcc",
    "execution_start": 1661016422222,
    "execution_millis": 381,
    "deepnote_cell_type": "code",
    "deepnote_cell_height": 424.1875,
    "deepnote_output_heights": [
     20.1875,
     263
    ]
   },
   "source": "pred.plot(legend = True)\ntest['avg_ketinggian'].plot(legend = True)",
   "execution_count": 47,
   "outputs": [
    {
     "output_type": "execute_result",
     "execution_count": 47,
     "data": {
      "text/plain": "<AxesSubplot:xlabel='date'>"
     },
     "metadata": {}
    },
    {
     "data": {
      "text/plain": "<Figure size 432x288 with 1 Axes>",
      "image/png": "[encoded data removed]"
     },
     "metadata": {
      "needs_background": "light",
      "image/png": {
       "width": 375,
       "height": 262
      }
     },
     "output_type": "display_data"
    }
   ]
  },
  {
   "cell_type": "code",
   "metadata": {
    "cell_id": "2d634106f96d4617baeec864bbe27651",
    "tags": [],
    "deepnote_to_be_reexecuted": false,
    "source_hash": "4a3076fe",
    "execution_start": 1661016422605,
    "execution_millis": 8,
    "deepnote_cell_type": "code",
    "deepnote_cell_height": 112.1875,
    "deepnote_output_heights": [
     20.1875
    ]
   },
   "source": "test['avg_ketinggian'].mean()",
   "execution_count": 48,
   "outputs": [
    {
     "output_type": "execute_result",
     "execution_count": 48,
     "data": {
      "text/plain": "58.020833333333336"
     },
     "metadata": {}
    }
   ]
  },
  {
   "cell_type": "code",
   "metadata": {
    "cell_id": "464eb9e778aa46629732e45944a573e2",
    "tags": [],
    "deepnote_to_be_reexecuted": false,
    "source_hash": "76a6a66f",
    "execution_start": 1661016422621,
    "execution_millis": 6,
    "deepnote_cell_type": "code",
    "deepnote_cell_height": 161.1875
   },
   "source": "from sklearn.metrics import mean_squared_error\nfrom math import sqrt\nrmse = sqrt(mean_squared_error(pred, test['avg_ketinggian']))\nprint(rmse)",
   "execution_count": 49,
   "outputs": [
    {
     "name": "stdout",
     "text": "43.48302180864253\n",
     "output_type": "stream"
    }
   ]
  },
  {
   "cell_type": "code",
   "metadata": {
    "cell_id": "be94ea17b08f4afa82b944d2b4541b56",
    "tags": [],
    "deepnote_to_be_reexecuted": false,
    "source_hash": "cd27cc6",
    "execution_start": 1661016422626,
    "execution_millis": 173,
    "deepnote_cell_type": "code",
    "deepnote_cell_height": 263.3125,
    "deepnote_output_heights": [
     135.3125
    ]
   },
   "source": "model2 = ARIMA(df2['avg_ketinggian'], order = (0,0,1))\nmodel2 = model2.fit()\ndf2['avg_ketinggian'].tail()",
   "execution_count": 50,
   "outputs": [
    {
     "output_type": "execute_result",
     "execution_count": 50,
     "data": {
      "text/plain": "date\n28/8/2020     45.0\n28/9/2020     70.0\n28/10/2020    95.0\n28/11/2020    35.0\n28/12/2020    45.0\nName: avg_ketinggian, dtype: float64"
     },
     "metadata": {}
    }
   ]
  },
  {
   "cell_type": "code",
   "metadata": {
    "cell_id": "1278da274fda476b8c5795c658f8165b",
    "tags": [],
    "deepnote_to_be_reexecuted": false,
    "source_hash": "ab042488",
    "execution_start": 1661016422885,
    "execution_millis": 2,
    "deepnote_cell_type": "code",
    "deepnote_cell_height": 408.4375
   },
   "source": "index_future_dates=pd.date_range(start='28/1/2022', end='28/01/2023', freq='M')\npred = model2.predict(start=len(df2), end=len(df2)+11, typ='levels').rename('ARIMA Predictions')\npred.index=index_future_dates\nprint(pred)",
   "execution_count": 51,
   "outputs": [
    {
     "name": "stdout",
     "text": "2022-01-31    56.414381\n2022-02-28    56.892687\n2022-03-31    56.892687\n2022-04-30    56.892687\n2022-05-31    56.892687\n2022-06-30    56.892687\n2022-07-31    56.892687\n2022-08-31    56.892687\n2022-09-30    56.892687\n2022-10-31    56.892687\n2022-11-30    56.892687\n2022-12-31    56.892687\nFreq: M, Name: ARIMA Predictions, dtype: float64\n",
     "output_type": "stream"
    }
   ]
  },
  {
   "cell_type": "markdown",
   "source": "## Hasil Forecast Banjir 2017-2020",
   "metadata": {
    "formattedRanges": [],
    "is_collapsed": false,
    "cell_id": "56e03416a996453e86944929c2bbc7fa",
    "tags": [],
    "deepnote_cell_type": "text-cell-h2"
   }
  },
  {
   "cell_type": "code",
   "metadata": {
    "cell_id": "c07520577b0049c9a869f2f943df875d",
    "tags": [],
    "deepnote_to_be_reexecuted": false,
    "source_hash": "94fdad24",
    "execution_start": 1661016422886,
    "execution_millis": 1104,
    "deepnote_cell_type": "code",
    "deepnote_cell_height": 442,
    "deepnote_output_heights": [
     20.1875,
     298.6875
    ]
   },
   "source": "pred.plot(figsize=(15,6), legend=True)",
   "execution_count": 52,
   "outputs": [
    {
     "output_type": "execute_result",
     "execution_count": 52,
     "data": {
      "text/plain": "<AxesSubplot:>"
     },
     "metadata": {}
    },
    {
     "data": {
      "text/plain": "<Figure size 1080x432 with 1 Axes>",
      "image/png": "[encoded data removed]"
     },
     "metadata": {
      "needs_background": "light",
      "image/png": {
       "width": 890,
       "height": 369
      }
     },
     "output_type": "display_data"
    }
   ]
  },
  {
   "cell_type": "markdown",
   "source": "<a style='text-decoration:none;line-height:16px;display:flex;color:#5B5B62;padding:10px;justify-content:end;' href='https://deepnote.com?utm_source=created-in-deepnote-cell&projectId=452bc259-3883-41f5-937f-82a8478acdf0' target=\"_blank\">\n<img alt='Created in deepnote.com' style='display:inline;max-height:16px;margin:0px;margin-right:7.5px;' src='data:image/svg+xml;base64,PD94bWwgdmVyc2lvbj0iMS4wIiBlbmNvZGluZz0iVVRGLTgiPz4KPHN2ZyB3aWR0aD0iODBweCIgaGVpZ2h0PSI4MHB4IiB2aWV3Qm94PSIwIDAgODAgODAiIHZlcnNpb249IjEuMSIgeG1sbnM9Imh0dHA6Ly93d3cudzMub3JnLzIwMDAvc3ZnIiB4bWxuczp4bGluaz0iaHR0cDovL3d3dy53My5vcmcvMTk5OS94bGluayI+CiAgICA8IS0tIEdlbmVyYXRvcjogU2tldGNoIDU0LjEgKDc2NDkwKSAtIGh0dHBzOi8vc2tldGNoYXBwLmNvbSAtLT4KICAgIDx0aXRsZT5Hcm91cCAzPC90aXRsZT4KICAgIDxkZXNjPkNyZWF0ZWQgd2l0aCBTa2V0Y2guPC9kZXNjPgogICAgPGcgaWQ9IkxhbmRpbmciIHN0cm9rZT0ibm9uZSIgc3Ryb2tlLXdpZHRoPSIxIiBmaWxsPSJub25lIiBmaWxsLXJ1bGU9ImV2ZW5vZGQiPgogICAgICAgIDxnIGlkPSJBcnRib2FyZCIgdHJhbnNmb3JtPSJ0cmFuc2xhdGUoLTEyMzUuMDAwMDAwLCAtNzkuMDAwMDAwKSI+CiAgICAgICAgICAgIDxnIGlkPSJHcm91cC0zIiB0cmFuc2Zvcm09InRyYW5zbGF0ZSgxMjM1LjAwMDAwMCwgNzkuMDAwMDAwKSI+CiAgICAgICAgICAgICAgICA8cG9seWdvbiBpZD0iUGF0aC0yMCIgZmlsbD0iIzAyNjVCNCIgcG9pbnRzPSIyLjM3NjIzNzYyIDgwIDM4LjA0NzY2NjcgODAgNTcuODIxNzgyMiA3My44MDU3NTkyIDU3LjgyMTc4MjIgMzIuNzU5MjczOSAzOS4xNDAyMjc4IDMxLjY4MzE2ODMiPjwvcG9seWdvbj4KICAgICAgICAgICAgICAgIDxwYXRoIGQ9Ik0zNS4wMDc3MTgsODAgQzQyLjkwNjIwMDcsNzYuNDU0OTM1OCA0Ny41NjQ5MTY3LDcxLjU0MjI2NzEgNDguOTgzODY2LDY1LjI2MTk5MzkgQzUxLjExMjI4OTksNTUuODQxNTg0MiA0MS42NzcxNzk1LDQ5LjIxMjIyODQgMjUuNjIzOTg0Niw0OS4yMTIyMjg0IEMyNS40ODQ5Mjg5LDQ5LjEyNjg0NDggMjkuODI2MTI5Niw0My4yODM4MjQ4IDM4LjY0NzU4NjksMzEuNjgzMTY4MyBMNzIuODcxMjg3MSwzMi41NTQ0MjUgTDY1LjI4MDk3Myw2Ny42NzYzNDIxIEw1MS4xMTIyODk5LDc3LjM3NjE0NCBMMzUuMDA3NzE4LDgwIFoiIGlkPSJQYXRoLTIyIiBmaWxsPSIjMDAyODY4Ij48L3BhdGg+CiAgICAgICAgICAgICAgICA8cGF0aCBkPSJNMCwzNy43MzA0NDA1IEwyNy4xMTQ1MzcsMC4yNTcxMTE0MzYgQzYyLjM3MTUxMjMsLTEuOTkwNzE3MDEgODAsMTAuNTAwMzkyNyA4MCwzNy43MzA0NDA1IEM4MCw2NC45NjA0ODgyIDY0Ljc3NjUwMzgsNzkuMDUwMzQxNCAzNC4zMjk1MTEzLDgwIEM0Ny4wNTUzNDg5LDc3LjU2NzA4MDggNTMuNDE4MjY3Nyw3MC4zMTM2MTAzIDUzLjQxODI2NzcsNTguMjM5NTg4NSBDNTMuNDE4MjY3Nyw0MC4xMjg1NTU3IDM2LjMwMzk1NDQsMzcuNzMwNDQwNSAyNS4yMjc0MTcsMzcuNzMwNDQwNSBDMTcuODQzMDU4NiwzNy43MzA0NDA1IDkuNDMzOTE5NjYsMzcuNzMwNDQwNSAwLDM3LjczMDQ0MDUgWiIgaWQ9IlBhdGgtMTkiIGZpbGw9IiMzNzkzRUYiPjwvcGF0aD4KICAgICAgICAgICAgPC9nPgogICAgICAgIDwvZz4KICAgIDwvZz4KPC9zdmc+' > </img>\nCreated in <span style='font-weight:600;margin-left:4px;'>Deepnote</span></a>",
   "metadata": {
    "tags": [],
    "created_in_deepnote_cell": true,
    "deepnote_cell_type": "markdown"
   }
  }
 ],
 "nbformat": 4,
 "nbformat_minor": 2,
 "metadata": {
  "orig_nbformat": 2,
  "deepnote": {},
  "deepnote_notebook_id": "cb123248-fbd6-4cf0-8220-f875fa8df688",
  "deepnote_execution_queue": []
 }
}