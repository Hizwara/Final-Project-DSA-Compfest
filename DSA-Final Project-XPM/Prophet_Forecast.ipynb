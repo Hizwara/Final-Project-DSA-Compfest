{
 "cells": [
  {
   "cell_type": "markdown",
   "source": "# PROPHET TEST1",
   "metadata": {
    "formattedRanges": [],
    "is_collapsed": false,
    "cell_id": "506c3190c4cc482e8866a93eb3861e99",
    "tags": [],
    "deepnote_cell_type": "text-cell-h1"
   }
  },
  {
   "cell_type": "code",
   "metadata": {
    "cell_id": "50b69b84932c4213a43d047f30847da5",
    "tags": [],
    "deepnote_to_be_reexecuted": false,
    "source_hash": "2c0f97a2",
    "execution_start": 1661016265910,
    "execution_millis": 11870,
    "deepnote_cell_type": "code",
    "deepnote_cell_height": 721.4375
   },
   "source": "!pip install prophet",
   "execution_count": 1,
   "outputs": [
    {
     "name": "stdout",
     "text": "Collecting prophet\n  Downloading prophet-1.1-cp39-cp39-manylinux_2_17_x86_64.manylinux2014_x86_64.whl (8.9 MB)\n\u001b[2K     \u001b[90m━━━━━━━━━━━━━━━━━━━━━━━━━━━━━━━━━━━━━━━━\u001b[0m \u001b[32m8.9/8.9 MB\u001b[0m \u001b[31m51.6 MB/s\u001b[0m eta \u001b[36m0:00:00\u001b[0m\n\u001b[?25hRequirement already satisfied: python-dateutil>=2.8.0 in /shared-libs/python3.9/py-core/lib/python3.9/site-packages (from prophet) (2.8.2)\nCollecting LunarCalendar>=0.0.9\n  Downloading LunarCalendar-0.0.9-py2.py3-none-any.whl (18 kB)\nCollecting convertdate>=2.1.2\n  Downloading convertdate-2.4.0-py3-none-any.whl (47 kB)\n\u001b[2K     \u001b[90m━━━━━━━━━━━━━━━━━━━━━━━━━━━━━━━━━━━━━━━━\u001b[0m \u001b[32m47.9/47.9 KB\u001b[0m \u001b[31m11.4 MB/s\u001b[0m eta \u001b[36m0:00:00\u001b[0m\n\u001b[?25hRequirement already satisfied: tqdm>=4.36.1 in /shared-libs/python3.9/py/lib/python3.9/site-packages (from prophet) (4.64.0)\nRequirement already satisfied: setuptools>=42 in /root/venv/lib/python3.9/site-packages (from prophet) (58.1.0)\nRequirement already satisfied: matplotlib>=2.0.0 in /shared-libs/python3.9/py/lib/python3.9/site-packages (from prophet) (3.5.2)\nCollecting setuptools-git>=1.2\n  Downloading setuptools_git-1.2-py2.py3-none-any.whl (10 kB)\nCollecting Cython>=0.22\n  Downloading Cython-0.29.32-cp39-cp39-manylinux_2_17_x86_64.manylinux2014_x86_64.manylinux_2_24_x86_64.whl (2.0 MB)\n\u001b[2K     \u001b[90m━━━━━━━━━━━━━━━━━━━━━━━━━━━━━━━━━━━━━━━━\u001b[0m \u001b[32m2.0/2.0 MB\u001b[0m \u001b[31m30.5 MB/s\u001b[0m eta \u001b[36m0:00:00\u001b[0m\n\u001b[?25hRequirement already satisfied: numpy>=1.15.4 in /shared-libs/python3.9/py/lib/python3.9/site-packages (from prophet) (1.23.1)\nRequirement already satisfied: pandas>=1.0.4 in /shared-libs/python3.9/py/lib/python3.9/site-packages (from prophet) (1.2.5)\nCollecting holidays>=0.13\n  Downloading holidays-0.14.2-py3-none-any.whl (179 kB)\n\u001b[2K     \u001b[90m━━━━━━━━━━━━━━━━━━━━━━━━━━━━━━━━━━━━━━\u001b[0m \u001b[32m179.1/179.1 KB\u001b[0m \u001b[31m43.2 MB/s\u001b[0m eta \u001b[36m0:00:00\u001b[0m\n\u001b[?25hRequirement already satisfied: wheel>=0.37.0 in /usr/local/lib/python3.9/site-packages (from prophet) (0.37.1)\nCollecting cmdstanpy>=1.0.1\n  Downloading cmdstanpy-1.0.4-py3-none-any.whl (73 kB)\n\u001b[2K     \u001b[90m━━━━━━━━━━━━━━━━━━━━━━━━━━━━━━━━━━━━━━━━\u001b[0m \u001b[32m73.9/73.9 KB\u001b[0m \u001b[31m18.1 MB/s\u001b[0m eta \u001b[36m0:00:00\u001b[0m\n\u001b[?25hRequirement already satisfied: ujson in /shared-libs/python3.9/py-core/lib/python3.9/site-packages (from cmdstanpy>=1.0.1->prophet) (5.4.0)\nCollecting pymeeus<=1,>=0.3.13\n  Downloading PyMeeus-0.5.11.tar.gz (5.4 MB)\n\u001b[2K     \u001b[90m━━━━━━━━━━━━━━━━━━━━━━━━━━━━━━━━━━━━━━━━\u001b[0m \u001b[32m5.4/5.4 MB\u001b[0m \u001b[31m53.0 MB/s\u001b[0m eta \u001b[36m0:00:00\u001b[0m\n\u001b[?25h  Preparing metadata (setup.py) ... \u001b[?25ldone\n\u001b[?25hCollecting hijri-converter\n  Downloading hijri_converter-2.2.4-py3-none-any.whl (14 kB)\nCollecting korean-lunar-calendar\n  Downloading korean_lunar_calendar-0.2.1-py3-none-any.whl (8.0 kB)\nCollecting ephem>=3.7.5.3\n  Downloading ephem-4.1.3-cp39-cp39-manylinux_2_17_x86_64.manylinux2014_x86_64.whl (1.8 MB)\n\u001b[2K     \u001b[90m━━━━━━━━━━━━━━━━━━━━━━━━━━━━━━━━━━━━━━━━\u001b[0m \u001b[32m1.8/1.8 MB\u001b[0m \u001b[31m85.3 MB/s\u001b[0m eta \u001b[36m0:00:00\u001b[0m\n\u001b[?25hRequirement already satisfied: pytz in /shared-libs/python3.9/py/lib/python3.9/site-packages (from LunarCalendar>=0.0.9->prophet) (2022.1)\nRequirement already satisfied: fonttools>=4.22.0 in /shared-libs/python3.9/py/lib/python3.9/site-packages (from matplotlib>=2.0.0->prophet) (4.34.4)\nRequirement already satisfied: cycler>=0.10 in /shared-libs/python3.9/py/lib/python3.9/site-packages (from matplotlib>=2.0.0->prophet) (0.11.0)\nRequirement already satisfied: pyparsing>=2.2.1 in /shared-libs/python3.9/py-core/lib/python3.9/site-packages (from matplotlib>=2.0.0->prophet) (3.0.9)\nRequirement already satisfied: packaging>=20.0 in /shared-libs/python3.9/py-core/lib/python3.9/site-packages (from matplotlib>=2.0.0->prophet) (21.3)\nRequirement already satisfied: kiwisolver>=1.0.1 in /shared-libs/python3.9/py/lib/python3.9/site-packages (from matplotlib>=2.0.0->prophet) (1.4.4)\nRequirement already satisfied: pillow>=6.2.0 in /shared-libs/python3.9/py/lib/python3.9/site-packages (from matplotlib>=2.0.0->prophet) (9.2.0)\nRequirement already satisfied: six>=1.5 in /shared-libs/python3.9/py-core/lib/python3.9/site-packages (from python-dateutil>=2.8.0->prophet) (1.16.0)\nBuilding wheels for collected packages: pymeeus\n  Building wheel for pymeeus (setup.py) ... \u001b[?25ldone\n\u001b[?25h  Created wheel for pymeeus: filename=PyMeeus-0.5.11-py3-none-any.whl size=730985 sha256=23ef8bcfed491e572c92449bfe8cde50589073c8523beb6b507535aa403772b0\n  Stored in directory: /root/.cache/pip/wheels/33/3d/82/4579e9cca41ff991140b2e050bc6df3a38292f26e4fa06b15d\nSuccessfully built pymeeus\nInstalling collected packages: setuptools-git, pymeeus, korean-lunar-calendar, ephem, hijri-converter, Cython, convertdate, LunarCalendar, holidays, cmdstanpy, prophet\nSuccessfully installed Cython-0.29.32 LunarCalendar-0.0.9 cmdstanpy-1.0.4 convertdate-2.4.0 ephem-4.1.3 hijri-converter-2.2.4 holidays-0.14.2 korean-lunar-calendar-0.2.1 prophet-1.1 pymeeus-0.5.11 setuptools-git-1.2\n\u001b[33mWARNING: You are using pip version 22.0.4; however, version 22.2.2 is available.\nYou should consider upgrading via the '/root/venv/bin/python -m pip install --upgrade pip' command.\u001b[0m\u001b[33m\n\u001b[0m",
     "output_type": "stream"
    }
   ]
  },
  {
   "cell_type": "code",
   "metadata": {
    "cell_id": "7226be5837fe404da4ec87a82301b929",
    "tags": [],
    "deepnote_to_be_reexecuted": false,
    "source_hash": "582d2aaa",
    "execution_start": 1661016277783,
    "execution_millis": 1407,
    "deepnote_cell_type": "code",
    "deepnote_cell_height": 149.375
   },
   "source": "from prophet import Prophet\nfrom prophet.plot import plot_plotly, plot_components_plotly",
   "execution_count": 2,
   "outputs": [
    {
     "name": "stderr",
     "text": "/shared-libs/python3.9/py/lib/python3.9/site-packages/tqdm/auto.py:22: TqdmWarning: IProgress not found. Please update jupyter and ipywidgets. See https://ipywidgets.readthedocs.io/en/stable/user_install.html\n  from .autonotebook import tqdm as notebook_tqdm\n",
     "output_type": "stream"
    }
   ]
  },
  {
   "cell_type": "code",
   "metadata": {
    "cell_id": "283418e95df94ea58c4ad828bb08b820",
    "tags": [],
    "deepnote_to_be_reexecuted": false,
    "source_hash": "9b82ee11",
    "execution_start": 1661016279196,
    "execution_millis": 2,
    "deepnote_cell_type": "code",
    "deepnote_cell_height": 76
   },
   "source": "import pandas as pd",
   "execution_count": 3,
   "outputs": []
  },
  {
   "cell_type": "code",
   "metadata": {
    "cell_id": "24c817ef8ac544958bf0069d9244e310",
    "tags": [],
    "deepnote_to_be_reexecuted": false,
    "source_hash": "61167798",
    "execution_start": 1661016279201,
    "execution_millis": 241,
    "deepnote_cell_type": "code",
    "deepnote_cell_height": 425
   },
   "source": "df = pd.read_csv(\"banjir-clean.csv\")\ndf.head()",
   "execution_count": 4,
   "outputs": [
    {
     "output_type": "execute_result",
     "execution_count": 4,
     "data": {
      "application/vnd.deepnote.dataframe.v3+json": {
       "column_count": 14,
       "row_count": 5,
       "columns": [
        {
         "name": "date",
         "dtype": "object",
         "stats": {
          "unique_count": 1,
          "nan_count": 0,
          "categories": [
           {
            "name": "01/01/2020",
            "count": 5
           }
          ]
         }
        },
        {
         "name": "time",
         "dtype": "object",
         "stats": {
          "unique_count": 5,
          "nan_count": 0,
          "categories": [
           {
            "name": "00:03:02",
            "count": 1
           },
           {
            "name": "00:43:02",
            "count": 1
           },
           {
            "name": "3 others",
            "count": 3
           }
          ]
         }
        },
        {
         "name": "source",
         "dtype": "object",
         "stats": {
          "unique_count": 1,
          "nan_count": 0,
          "categories": [
           {
            "name": "grasp",
            "count": 5
           }
          ]
         }
        },
        {
         "name": "status",
         "dtype": "object",
         "stats": {
          "unique_count": 1,
          "nan_count": 0,
          "categories": [
           {
            "name": "confirmed",
            "count": 5
           }
          ]
         }
        },
        {
         "name": "disaster_type",
         "dtype": "object",
         "stats": {
          "unique_count": 1,
          "nan_count": 0,
          "categories": [
           {
            "name": "flood",
            "count": 5
           }
          ]
         }
        },
        {
         "name": "report_dat",
         "dtype": "object",
         "stats": {
          "unique_count": 5,
          "nan_count": 0,
          "categories": [
           {
            "name": "{ \"report_type\": \"flood\", \"flood_depth\": 30 }",
            "count": 1
           },
           {
            "name": "{ \"points\": 1, \"flood_depth\": 80, \"report_type\": \"flood\" }",
            "count": 1
           },
           {
            "name": "3 others",
            "count": 3
           }
          ]
         }
        },
        {
         "name": "tags",
         "dtype": "object",
         "stats": {
          "unique_count": 4,
          "nan_count": 0,
          "categories": [
           {
            "name": "{ \"district_id\": null, \"local_area_id\": null, \"instance_region_code\": \"ID-JK\" }",
            "count": 2
           },
           {
            "name": "{ \"district_id\": \"3174\", \"local_area_id\": \"125\", \"instance_region_code\": \"ID-JK\" }",
            "count": 1
           },
           {
            "name": "2 others",
            "count": 2
           }
          ]
         }
        },
        {
         "name": "text",
         "dtype": "object",
         "stats": {
          "unique_count": 5,
          "nan_count": 0,
          "categories": [
           {
            "name": "Banjir di daerah taman ratu dan sekitarnya. Paling parah dari tahun2 sebelumnya",
            "count": 1
           },
           {
            "name": "Jl. Kemuning Indah\nKota Harapan Indah.\nBekasi",
            "count": 1
           },
           {
            "name": "3 others",
            "count": 3
           }
          ]
         }
        },
        {
         "name": "Desa",
         "dtype": "object",
         "stats": {
          "unique_count": 5,
          "nan_count": 0,
          "categories": [
           {
            "name": "Duri Kepa",
            "count": 1
           },
           {
            "name": "Pejuang",
            "count": 1
           },
           {
            "name": "3 others",
            "count": 3
           }
          ]
         }
        },
        {
         "name": "Kecamatan",
         "dtype": "object",
         "stats": {
          "unique_count": 5,
          "nan_count": 0,
          "categories": [
           {
            "name": "Kebon Jeruk",
            "count": 1
           },
           {
            "name": "Medan Satria",
            "count": 1
           },
           {
            "name": "3 others",
            "count": 3
           }
          ]
         }
        },
        {
         "name": "Kabupaten",
         "dtype": "object",
         "stats": {
          "unique_count": 3,
          "nan_count": 0,
          "categories": [
           {
            "name": "Jakarta Barat",
            "count": 2
           },
           {
            "name": "Bekasi",
            "count": 2
           },
           {
            "name": "Jakarta Timur",
            "count": 1
           }
          ]
         }
        },
        {
         "name": "Provinsi",
         "dtype": "object",
         "stats": {
          "unique_count": 2,
          "nan_count": 0,
          "categories": [
           {
            "name": "Daerah Khusus Ibukota Jakarta",
            "count": 3
           },
           {
            "name": "Jawa Barat",
            "count": 2
           }
          ]
         }
        },
        {
         "name": "long",
         "dtype": "float64",
         "stats": {
          "unique_count": 5,
          "nan_count": 0,
          "min": "106.73835",
          "max": "107.16189",
          "histogram": [
           {
            "bin_start": 106.73835,
            "bin_end": 106.780704,
            "count": 2
           },
           {
            "bin_start": 106.780704,
            "bin_end": 106.823058,
            "count": 0
           },
           {
            "bin_start": 106.823058,
            "bin_end": 106.86541199999999,
            "count": 0
           },
           {
            "bin_start": 106.86541199999999,
            "bin_end": 106.907766,
            "count": 1
           },
           {
            "bin_start": 106.907766,
            "bin_end": 106.95012,
            "count": 0
           },
           {
            "bin_start": 106.95012,
            "bin_end": 106.992474,
            "count": 1
           },
           {
            "bin_start": 106.992474,
            "bin_end": 107.034828,
            "count": 0
           },
           {
            "bin_start": 107.034828,
            "bin_end": 107.077182,
            "count": 0
           },
           {
            "bin_start": 107.077182,
            "bin_end": 107.119536,
            "count": 0
           },
           {
            "bin_start": 107.119536,
            "bin_end": 107.16189,
            "count": 1
           }
          ]
         }
        },
        {
         "name": "lat",
         "dtype": "float64",
         "stats": {
          "unique_count": 5,
          "nan_count": 0,
          "min": "-6.3017",
          "max": "-6.16978",
          "histogram": [
           {
            "bin_start": -6.3017,
            "bin_end": -6.288508,
            "count": 1
           },
           {
            "bin_start": -6.288508,
            "bin_end": -6.275316,
            "count": 0
           },
           {
            "bin_start": -6.275316,
            "bin_end": -6.262124,
            "count": 0
           },
           {
            "bin_start": -6.262124,
            "bin_end": -6.248932,
            "count": 0
           },
           {
            "bin_start": -6.248932,
            "bin_end": -6.23574,
            "count": 0
           },
           {
            "bin_start": -6.23574,
            "bin_end": -6.222548000000001,
            "count": 1
           },
           {
            "bin_start": -6.222548000000001,
            "bin_end": -6.2093560000000005,
            "count": 0
           },
           {
            "bin_start": -6.2093560000000005,
            "bin_end": -6.1961640000000004,
            "count": 1
           },
           {
            "bin_start": -6.1961640000000004,
            "bin_end": -6.182972,
            "count": 0
           },
           {
            "bin_start": -6.182972,
            "bin_end": -6.16978,
            "count": 2
           }
          ]
         }
        },
        {
         "name": "_deepnote_index_column",
         "dtype": "int64"
        }
       ],
       "rows": [
        {
         "date": "01/01/2020",
         "time": "00:03:02",
         "source": "grasp",
         "status": "confirmed",
         "disaster_type": "flood",
         "report_dat": "{ \"report_type\": \"flood\", \"flood_depth\": 30 }",
         "tags": "{ \"district_id\": \"3174\", \"local_area_id\": \"125\", \"instance_region_code\": \"ID-JK\" }",
         "text": "Banjir di daerah taman ratu dan sekitarnya. Paling parah dari tahun2 sebelumnya",
         "Desa": "Duri Kepa",
         "Kecamatan": "Kebon Jeruk",
         "Kabupaten": "Jakarta Barat",
         "Provinsi": "Daerah Khusus Ibukota Jakarta",
         "long": 106.76866,
         "lat": -6.16978,
         "_deepnote_index_column": 0
        },
        {
         "date": "01/01/2020",
         "time": "00:43:02",
         "source": "grasp",
         "status": "confirmed",
         "disaster_type": "flood",
         "report_dat": "{ \"points\": 1, \"flood_depth\": 80, \"report_type\": \"flood\" }",
         "tags": "{ \"district_id\": null, \"local_area_id\": null, \"instance_region_code\": \"ID-JK\" }",
         "text": "Jl. Kemuning Indah\nKota Harapan Indah.\nBekasi",
         "Desa": "Pejuang",
         "Kecamatan": "Medan Satria",
         "Kabupaten": "Bekasi",
         "Provinsi": "Jawa Barat",
         "long": 106.9787,
         "lat": -6.17944,
         "_deepnote_index_column": 1
        },
        {
         "date": "01/01/2020",
         "time": "01:14:53",
         "source": "grasp",
         "status": "confirmed",
         "disaster_type": "flood",
         "report_dat": "{ \"points\": 1, \"flood_depth\": 51, \"report_type\": \"flood\" }",
         "tags": "{ \"district_id\": \"3172\", \"local_area_id\": \"1789\", \"instance_region_code\": \"ID-JK\" }",
         "text": "Banjir selutut orang dewasa di jalan ros merah 2 cipinang indah",
         "Desa": "Cipinang Muara",
         "Kecamatan": "Jatinegara",
         "Kabupaten": "Jakarta Timur",
         "Provinsi": "Daerah Khusus Ibukota Jakarta",
         "long": 106.891,
         "lat": -6.23449,
         "_deepnote_index_column": 2
        },
        {
         "date": "01/01/2020",
         "time": "01:15:08",
         "source": "grasp",
         "status": "confirmed",
         "disaster_type": "flood",
         "report_dat": "{ \"points\": 2, \"flood_depth\": 100, \"report_type\": \"flood\" }",
         "tags": "{ \"district_id\": null, \"local_area_id\": null, \"instance_region_code\": \"ID-JK\" }",
         "text": "Banjir di daerah kedasih dan sekitarnya, karena hujan dari semalam belum berhenti, sudah memasuki rumah dari jam 7 pagi tadi",
         "Desa": "Mekarmukti",
         "Kecamatan": "Cikarang Utara",
         "Kabupaten": "Bekasi",
         "Provinsi": "Jawa Barat",
         "long": 107.16189,
         "lat": -6.3017,
         "_deepnote_index_column": 3
        },
        {
         "date": "01/01/2020",
         "time": "01:25:02",
         "source": "grasp",
         "status": "confirmed",
         "disaster_type": "flood",
         "report_dat": "{ \"report_type\": \"flood\", \"flood_depth\": 60 }",
         "tags": "{ \"district_id\": \"3174\", \"local_area_id\": \"220\", \"instance_region_code\": \"ID-JK\" }",
         "text": "Banjir area komplek Meruya Ilir sejak jam 5 naik terus. Listri hingga kini belum dipadamkan.",
         "Desa": "Meruya Utara",
         "Kecamatan": "Kembangan",
         "Kabupaten": "Jakarta Barat",
         "Provinsi": "Daerah Khusus Ibukota Jakarta",
         "long": 106.73835,
         "lat": -6.19933,
         "_deepnote_index_column": 4
        }
       ]
      },
      "text/plain": "         date      time source     status disaster_type  \\\n0  01/01/2020  00:03:02  grasp  confirmed         flood   \n1  01/01/2020  00:43:02  grasp  confirmed         flood   \n2  01/01/2020  01:14:53  grasp  confirmed         flood   \n3  01/01/2020  01:15:08  grasp  confirmed         flood   \n4  01/01/2020  01:25:02  grasp  confirmed         flood   \n\n                                          report_dat  \\\n0      { \"report_type\": \"flood\", \"flood_depth\": 30 }   \n1  { \"points\": 1, \"flood_depth\": 80, \"report_type...   \n2  { \"points\": 1, \"flood_depth\": 51, \"report_type...   \n3  { \"points\": 2, \"flood_depth\": 100, \"report_typ...   \n4      { \"report_type\": \"flood\", \"flood_depth\": 60 }   \n\n                                                tags  \\\n0  { \"district_id\": \"3174\", \"local_area_id\": \"125...   \n1  { \"district_id\": null, \"local_area_id\": null, ...   \n2  { \"district_id\": \"3172\", \"local_area_id\": \"178...   \n3  { \"district_id\": null, \"local_area_id\": null, ...   \n4  { \"district_id\": \"3174\", \"local_area_id\": \"220...   \n\n                                                text            Desa  \\\n0  Banjir di daerah taman ratu dan sekitarnya. Pa...       Duri Kepa   \n1    Jl. Kemuning Indah\\nKota Harapan Indah.\\nBekasi         Pejuang   \n2  Banjir selutut orang dewasa di jalan ros merah...  Cipinang Muara   \n3  Banjir di daerah kedasih dan sekitarnya, karen...      Mekarmukti   \n4  Banjir area komplek Meruya Ilir sejak jam 5 na...    Meruya Utara   \n\n        Kecamatan      Kabupaten                       Provinsi       long  \\\n0     Kebon Jeruk  Jakarta Barat  Daerah Khusus Ibukota Jakarta  106.76866   \n1    Medan Satria         Bekasi                     Jawa Barat  106.97870   \n2      Jatinegara  Jakarta Timur  Daerah Khusus Ibukota Jakarta  106.89100   \n3  Cikarang Utara         Bekasi                     Jawa Barat  107.16189   \n4       Kembangan  Jakarta Barat  Daerah Khusus Ibukota Jakarta  106.73835   \n\n       lat  \n0 -6.16978  \n1 -6.17944  \n2 -6.23449  \n3 -6.30170  \n4 -6.19933  ",
      "text/html": "<div>\n<style scoped>\n    .dataframe tbody tr th:only-of-type {\n        vertical-align: middle;\n    }\n\n    .dataframe tbody tr th {\n        vertical-align: top;\n    }\n\n    .dataframe thead th {\n        text-align: right;\n    }\n</style>\n<table border=\"1\" class=\"dataframe\">\n  <thead>\n    <tr style=\"text-align: right;\">\n      <th></th>\n      <th>date</th>\n      <th>time</th>\n      <th>source</th>\n      <th>status</th>\n      <th>disaster_type</th>\n      <th>report_dat</th>\n      <th>tags</th>\n      <th>text</th>\n      <th>Desa</th>\n      <th>Kecamatan</th>\n      <th>Kabupaten</th>\n      <th>Provinsi</th>\n      <th>long</th>\n      <th>lat</th>\n    </tr>\n  </thead>\n  <tbody>\n    <tr>\n      <th>0</th>\n      <td>01/01/2020</td>\n      <td>00:03:02</td>\n      <td>grasp</td>\n      <td>confirmed</td>\n      <td>flood</td>\n      <td>{ \"report_type\": \"flood\", \"flood_depth\": 30 }</td>\n      <td>{ \"district_id\": \"3174\", \"local_area_id\": \"125...</td>\n      <td>Banjir di daerah taman ratu dan sekitarnya. Pa...</td>\n      <td>Duri Kepa</td>\n      <td>Kebon Jeruk</td>\n      <td>Jakarta Barat</td>\n      <td>Daerah Khusus Ibukota Jakarta</td>\n      <td>106.76866</td>\n      <td>-6.16978</td>\n    </tr>\n    <tr>\n      <th>1</th>\n      <td>01/01/2020</td>\n      <td>00:43:02</td>\n      <td>grasp</td>\n      <td>confirmed</td>\n      <td>flood</td>\n      <td>{ \"points\": 1, \"flood_depth\": 80, \"report_type...</td>\n      <td>{ \"district_id\": null, \"local_area_id\": null, ...</td>\n      <td>Jl. Kemuning Indah\\nKota Harapan Indah.\\nBekasi</td>\n      <td>Pejuang</td>\n      <td>Medan Satria</td>\n      <td>Bekasi</td>\n      <td>Jawa Barat</td>\n      <td>106.97870</td>\n      <td>-6.17944</td>\n    </tr>\n    <tr>\n      <th>2</th>\n      <td>01/01/2020</td>\n      <td>01:14:53</td>\n      <td>grasp</td>\n      <td>confirmed</td>\n      <td>flood</td>\n      <td>{ \"points\": 1, \"flood_depth\": 51, \"report_type...</td>\n      <td>{ \"district_id\": \"3172\", \"local_area_id\": \"178...</td>\n      <td>Banjir selutut orang dewasa di jalan ros merah...</td>\n      <td>Cipinang Muara</td>\n      <td>Jatinegara</td>\n      <td>Jakarta Timur</td>\n      <td>Daerah Khusus Ibukota Jakarta</td>\n      <td>106.89100</td>\n      <td>-6.23449</td>\n    </tr>\n    <tr>\n      <th>3</th>\n      <td>01/01/2020</td>\n      <td>01:15:08</td>\n      <td>grasp</td>\n      <td>confirmed</td>\n      <td>flood</td>\n      <td>{ \"points\": 2, \"flood_depth\": 100, \"report_typ...</td>\n      <td>{ \"district_id\": null, \"local_area_id\": null, ...</td>\n      <td>Banjir di daerah kedasih dan sekitarnya, karen...</td>\n      <td>Mekarmukti</td>\n      <td>Cikarang Utara</td>\n      <td>Bekasi</td>\n      <td>Jawa Barat</td>\n      <td>107.16189</td>\n      <td>-6.30170</td>\n    </tr>\n    <tr>\n      <th>4</th>\n      <td>01/01/2020</td>\n      <td>01:25:02</td>\n      <td>grasp</td>\n      <td>confirmed</td>\n      <td>flood</td>\n      <td>{ \"report_type\": \"flood\", \"flood_depth\": 60 }</td>\n      <td>{ \"district_id\": \"3174\", \"local_area_id\": \"220...</td>\n      <td>Banjir area komplek Meruya Ilir sejak jam 5 na...</td>\n      <td>Meruya Utara</td>\n      <td>Kembangan</td>\n      <td>Jakarta Barat</td>\n      <td>Daerah Khusus Ibukota Jakarta</td>\n      <td>106.73835</td>\n      <td>-6.19933</td>\n    </tr>\n  </tbody>\n</table>\n</div>"
     },
     "metadata": {}
    }
   ]
  },
  {
   "cell_type": "code",
   "metadata": {
    "cell_id": "046bb6e819ad45fc90911437706e2647",
    "tags": [],
    "deepnote_to_be_reexecuted": false,
    "source_hash": "6adc2a0b",
    "execution_start": 1661016279277,
    "execution_millis": 13,
    "deepnote_cell_type": "code",
    "deepnote_cell_height": 184
   },
   "source": "import json\nresult = []\nlst_data = list(df['report_dat'])\nfor i in lst_data:\n  conv = str(i)\n  proses = json.loads(conv)\n  result.append(proses)",
   "execution_count": 5,
   "outputs": []
  },
  {
   "cell_type": "code",
   "metadata": {
    "cell_id": "bf7c5343ed924d0e9a1efa50ca7895e2",
    "tags": [],
    "deepnote_to_be_reexecuted": false,
    "source_hash": "bae0e1b5",
    "execution_start": 1661016279309,
    "execution_millis": 170,
    "deepnote_cell_type": "code",
    "deepnote_cell_height": 702,
    "deepnote_output_heights": [
     610
    ]
   },
   "source": "result",
   "execution_count": 6,
   "outputs": [
    {
     "output_type": "execute_result",
     "execution_count": 6,
     "data": {
      "text/plain": "[{'report_type': 'flood', 'flood_depth': 30},\n {'points': 1, 'flood_depth': 80, 'report_type': 'flood'},\n {'points': 1, 'flood_depth': 51, 'report_type': 'flood'},\n {'points': 2, 'flood_depth': 100, 'report_type': 'flood'},\n {'report_type': 'flood', 'flood_depth': 60},\n {'report_type': 'flood', 'flood_depth': 39},\n {'report_type': 'flood', 'flood_depth': 79},\n {'report_type': 'flood', 'flood_depth': 116},\n {'report_type': 'flood', 'flood_depth': 60},\n {'points': 1},\n {'report_type': 'flood', 'flood_depth': 81},\n {'report_type': 'flood', 'flood_depth': 69},\n {'points': 1, 'flood_depth': 195, 'report_type': 'flood'},\n {'points': 1, 'flood_depth': 100, 'report_type': 'flood'},\n {'report_type': 'flood', 'flood_depth': 44},\n {'points': 1, 'flood_depth': 93, 'report_type': 'flood'},\n {'points': -1, 'flood_depth': 101, 'report_type': 'flood'},\n {'report_type': 'flood', 'flood_depth': 190},\n {'report_type': 'flood', 'flood_depth': 50},\n {'report_type': 'flood', 'flood_depth': 50},\n {'report_type': 'flood', 'flood_depth': 38},\n {'report_type': 'flood', 'flood_depth': 100},\n {'report_type': 'flood', 'flood_depth': 70},\n {'report_type': 'flood', 'flood_depth': 30},\n {'report_type': 'flood', 'flood_depth': 30},\n {'report_type': 'flood', 'flood_depth': 50},\n {'report_type': 'flood', 'flood_depth': 100},\n {'points': 0, 'flood_depth': 56, 'report_type': 'flood'},\n {'points': 0, 'flood_depth': 50, 'report_type': 'flood'},\n {'report_type': 'flood', 'flood_depth': 111},\n {'report_type': 'flood', 'flood_depth': 50},\n {'report_type': 'flood', 'flood_depth': 55},\n {'report_type': 'flood', 'flood_depth': 150},\n {'report_type': 'flood', 'flood_depth': 131},\n {'points': 1, 'flood_depth': 50, 'report_type': 'flood'},\n {'report_type': 'flood', 'flood_depth': 30},\n {'points': 1},\n {'report_type': 'flood', 'flood_depth': 93},\n {'report_type': 'flood', 'flood_depth': 150},\n {'points': 1, 'flood_depth': 36, 'report_type': 'flood'},\n {'points': 1, 'flood_depth': 41, 'report_type': 'flood'},\n {'report_type': 'flood', 'flood_depth': 100},\n {'report_type': 'flood', 'flood_depth': 57},\n {'report_type': 'flood', 'flood_depth': 112},\n {'report_type': 'flood', 'flood_depth': 54},\n {'report_type': 'flood', 'flood_depth': 65},\n {'report_type': 'flood', 'flood_depth': 100},\n {'report_type': 'flood', 'flood_depth': 65},\n {'points': 1, 'flood_depth': 74, 'report_type': 'flood'},\n {'report_type': 'flood', 'flood_depth': 171},\n {'points': 1, 'flood_depth': 124, 'report_type': 'flood'},\n {'report_type': 'flood', 'flood_depth': 94},\n {'report_type': 'flood', 'flood_depth': 92},\n {'points': -1, 'flood_depth': 50, 'report_type': 'flood'},\n {'report_type': 'flood', 'flood_depth': 114},\n {'report_type': 'flood', 'flood_depth': 76},\n {'points': 1, 'flood_depth': 50, 'report_type': 'flood'},\n {'points': 1, 'flood_depth': 122, 'report_type': 'flood'},\n {'report_type': 'flood', 'flood_depth': 72},\n {'report_type': 'flood', 'flood_depth': 50},\n {'report_type': 'flood', 'flood_depth': 78},\n {'points': 1, 'flood_depth': 74, 'report_type': 'flood'},\n {'report_type': 'flood', 'flood_depth': 125},\n {'points': 1, 'flood_depth': 48, 'report_type': 'flood'},\n {'points': 1, 'flood_depth': 195, 'report_type': 'flood'},\n {'report_type': 'flood', 'flood_depth': 94},\n {'report_type': 'flood', 'flood_depth': 24},\n {'report_type': 'flood', 'flood_depth': 45},\n {'report_type': 'flood', 'flood_depth': 47},\n {'points': 2, 'flood_depth': 99, 'report_type': 'flood'},\n {'report_type': 'flood', 'flood_depth': 122},\n {'report_type': 'flood', 'flood_depth': 50},\n {'points': 1, 'flood_depth': 56, 'report_type': 'flood'},\n {'points': 4, 'flood_depth': 20, 'report_type': 'flood'},\n {'report_type': 'flood', 'flood_depth': 48},\n {'points': 1, 'flood_depth': 50, 'report_type': 'flood'},\n {'points': -2, 'flood_depth': 45, 'report_type': 'flood'},\n {'report_type': 'flood', 'flood_depth': 50},\n {'points': 0, 'flood_depth': 90, 'report_type': 'flood'},\n {'points': 0, 'flood_depth': 50, 'report_type': 'flood'},\n {'report_type': 'flood', 'flood_depth': 70},\n {'points': 2, 'flood_depth': 60, 'report_type': 'flood'},\n {'report_type': 'flood', 'flood_depth': 33},\n {'points': 8, 'flood_depth': 150, 'report_type': 'flood'},\n {'points': 1},\n {'points': -1},\n {'points': 2, 'flood_depth': 91, 'report_type': 'flood'},\n {'points': 0, 'flood_depth': 90, 'report_type': 'flood'},\n {'points': 1, 'flood_depth': 39, 'report_type': 'flood'},\n {'report_type': 'flood', 'flood_depth': 80},\n {'points': 1, 'flood_depth': 100, 'report_type': 'flood'},\n {'points': 5, 'flood_depth': 63, 'report_type': 'flood'},\n {'points': 2, 'flood_depth': 41, 'report_type': 'flood'},\n {'points': 1, 'flood_depth': 143, 'report_type': 'flood'},\n {'points': 2, 'flood_depth': 104, 'report_type': 'flood'},\n {'report_type': 'flood', 'flood_depth': 50},\n {'points': 1, 'flood_depth': 149, 'report_type': 'flood'},\n {'points': 1, 'flood_depth': 89, 'report_type': 'flood'},\n {'report_type': 'flood', 'flood_depth': 80},\n {'report_type': 'flood', 'flood_depth': 90},\n {'points': 1, 'flood_depth': 75, 'report_type': 'flood'},\n {'report_type': 'flood', 'flood_depth': 50},\n {'points': 1},\n {'points': 1, 'flood_depth': 93, 'report_type': 'flood'},\n {'points': -1, 'flood_depth': 48, 'report_type': 'flood'},\n {'points': 2},\n {'points': 1, 'flood_depth': 95, 'report_type': 'flood'},\n {'points': 1, 'flood_depth': 50, 'report_type': 'flood'},\n {'points': 1, 'flood_depth': 70, 'report_type': 'flood'},\n {'points': 5, 'flood_depth': 100, 'report_type': 'flood'},\n {'points': 1, 'flood_depth': 58, 'report_type': 'flood'},\n {'points': 0, 'flood_depth': 53, 'report_type': 'flood'},\n {'points': 0, 'flood_depth': 94, 'report_type': 'flood'},\n {'report_type': 'flood', 'flood_depth': 70},\n {'points': 1, 'flood_depth': 60, 'report_type': 'flood'},\n {'points': 1},\n {'points': -1, 'flood_depth': 40, 'report_type': 'flood'},\n {'points': 1, 'flood_depth': 90, 'report_type': 'flood'},\n {'points': 1},\n {'report_type': 'flood', 'flood_depth': 80},\n {'report_type': 'flood', 'flood_depth': 195},\n {'report_type': 'flood', 'flood_depth': 73},\n {'points': 1, 'flood_depth': 125, 'report_type': 'flood'},\n {'points': -1},\n {'report_type': 'flood', 'flood_depth': 150},\n {'points': 1, 'flood_depth': 77, 'report_type': 'flood'},\n {'points': 1},\n {'points': 1, 'flood_depth': 71, 'report_type': 'flood'},\n {'points': 0, 'flood_depth': 94, 'report_type': 'flood'},\n {'points': -2, 'flood_depth': 96, 'report_type': 'flood'},\n {'report_type': 'flood', 'flood_depth': 105},\n {'points': 1, 'flood_depth': 69, 'report_type': 'flood'},\n {'report_type': 'flood', 'flood_depth': 98},\n {'points': 0, 'flood_depth': 65, 'report_type': 'flood'},\n {'points': 1, 'flood_depth': 39, 'report_type': 'flood'},\n {'points': 2},\n {'report_type': 'flood', 'flood_depth': 126},\n {'report_type': 'flood', 'flood_depth': 74},\n {'report_type': 'flood', 'flood_depth': 93},\n {'report_type': 'flood', 'flood_depth': 38},\n {'report_type': 'flood', 'flood_depth': 127},\n {'report_type': 'flood', 'flood_depth': 35},\n {'report_type': 'flood', 'flood_depth': 56},\n {'report_type': 'flood', 'flood_depth': 52},\n {'report_type': 'flood', 'flood_depth': 119},\n {'report_type': 'flood', 'flood_depth': 50},\n {'points': 1, 'flood_depth': 82, 'report_type': 'flood'},\n {'report_type': 'flood', 'flood_depth': 67},\n {'report_type': 'flood', 'flood_depth': 30},\n {'points': -1, 'flood_depth': 64, 'report_type': 'flood'},\n {'points': 0, 'flood_depth': 67, 'report_type': 'flood'},\n {'points': 1, 'flood_depth': 46, 'report_type': 'flood'},\n {'points': 3, 'flood_depth': 146, 'report_type': 'flood'},\n {'report_type': 'flood', 'flood_depth': 35},\n {'points': 1, 'flood_depth': 133, 'report_type': 'flood'},\n {'points': 1, 'flood_depth': 45, 'report_type': 'flood'},\n {'points': 1, 'flood_depth': 95, 'report_type': 'flood'},\n {'points': 2, 'flood_depth': 123, 'report_type': 'flood'},\n {'report_type': 'flood', 'flood_depth': 50},\n {'report_type': 'flood', 'flood_depth': 87},\n {'report_type': 'flood', 'flood_depth': 130},\n {'points': 2, 'flood_depth': 32, 'report_type': 'flood'},\n {'report_type': 'flood', 'flood_depth': 40},\n {'points': 2, 'flood_depth': 180, 'report_type': 'flood'},\n {'report_type': 'flood', 'flood_depth': 57},\n {'points': 2},\n {'points': 2, 'flood_depth': 106, 'report_type': 'flood'},\n {'points': 2, 'flood_depth': 43, 'report_type': 'flood'},\n {'report_type': 'flood', 'flood_depth': 89},\n {'report_type': 'flood', 'flood_depth': 32},\n {'points': 1},\n {'points': 1, 'flood_depth': 120, 'report_type': 'flood'},\n {'report_type': 'flood', 'flood_depth': 80},\n {'points': 2, 'flood_depth': 40, 'report_type': 'flood'},\n {'points': 1, 'flood_depth': 38, 'report_type': 'flood'},\n {'report_type': 'flood', 'flood_depth': 46},\n {'points': 1, 'flood_depth': 34, 'report_type': 'flood'},\n {'points': 1, 'flood_depth': 44, 'report_type': 'flood'},\n {'points': 0},\n {'points': 2, 'flood_depth': 40, 'report_type': 'flood'},\n {'points': 1, 'flood_depth': 191, 'report_type': 'flood'},\n {'points': 1, 'flood_depth': 100, 'report_type': 'flood'},\n {'report_type': 'flood', 'flood_depth': 63},\n {'report_type': 'flood', 'flood_depth': 195},\n {'report_type': 'flood', 'flood_depth': 45},\n {'report_type': 'flood', 'flood_depth': 60},\n {'report_type': 'flood', 'flood_depth': 106},\n {'points': 3, 'flood_depth': 195, 'report_type': 'flood'},\n {'report_type': 'flood', 'flood_depth': 31},\n {'points': 1, 'flood_depth': 153, 'report_type': 'flood'},\n {'points': 1, 'flood_depth': 110, 'report_type': 'flood'},\n {'report_type': 'flood', 'flood_depth': 125},\n {'report_type': 'flood', 'flood_depth': 135},\n {'points': 1, 'flood_depth': 150, 'report_type': 'flood'},\n {'points': 2, 'flood_depth': 70, 'report_type': 'flood'},\n {'report_type': 'flood', 'flood_depth': 60},\n {'points': 1},\n {'points': 1, 'flood_depth': 1, 'report_type': 'flood'},\n {'points': 1, 'flood_depth': 25, 'report_type': 'flood'},\n {'points': 2, 'flood_depth': 142, 'report_type': 'flood'},\n {'points': -3, 'flood_depth': 150, 'report_type': 'flood'},\n {'points': 2, 'flood_depth': 141, 'report_type': 'flood'},\n {'points': 2, 'flood_depth': 150, 'report_type': 'flood'},\n {'points': 2, 'flood_depth': 119, 'report_type': 'flood'},\n {'points': 0, 'flood_depth': 22, 'report_type': 'flood'},\n {'points': 4, 'flood_depth': 99, 'report_type': 'flood'},\n {'report_type': 'flood', 'flood_depth': 23},\n {'points': 1, 'flood_depth': 30, 'report_type': 'flood'},\n {'report_type': 'flood', 'flood_depth': 23},\n {'points': 0, 'flood_depth': 66, 'report_type': 'flood'},\n {'points': 2, 'flood_depth': 150, 'report_type': 'flood'},\n {'points': 3, 'flood_depth': 104, 'report_type': 'flood'},\n {'points': 2, 'flood_depth': 119, 'report_type': 'flood'},\n {'report_type': 'flood', 'flood_depth': 195},\n {'points': 1, 'flood_depth': 44, 'report_type': 'flood'},\n {'report_type': 'flood', 'flood_depth': 101},\n {'report_type': 'flood', 'flood_depth': 9},\n {'report_type': 'flood', 'flood_depth': 48},\n {'points': 1},\n {'points': 1, 'flood_depth': 49, 'report_type': 'flood'},\n {'report_type': 'flood', 'flood_depth': 1},\n {'points': 1, 'flood_depth': 70, 'report_type': 'flood'},\n {'points': 1, 'flood_depth': 24, 'report_type': 'flood'},\n {'points': -3, 'flood_depth': 1, 'report_type': 'flood'},\n {'report_type': 'flood', 'flood_depth': 50},\n {'report_type': 'flood', 'flood_depth': 23},\n {'report_type': 'flood', 'flood_depth': 195},\n {'points': 1, 'flood_depth': 27, 'report_type': 'flood'},\n {'report_type': 'flood', 'flood_depth': 161},\n {'report_type': 'flood', 'flood_depth': 32},\n {'report_type': 'flood', 'flood_depth': 80},\n {'report_type': 'flood', 'flood_depth': 1},\n {'report_type': 'flood', 'flood_depth': 100},\n {'report_type': 'flood', 'flood_depth': 93},\n {'points': 0, 'flood_depth': 51, 'report_type': 'flood'},\n {'report_type': 'flood', 'flood_depth': 165},\n {'report_type': 'flood', 'flood_depth': 85},\n {'points': -2, 'flood_depth': 63, 'report_type': 'flood'},\n {'points': 1, 'flood_depth': 164, 'report_type': 'flood'},\n {'report_type': 'flood', 'flood_depth': 80},\n {'report_type': 'flood', 'flood_depth': 71},\n {'points': 2, 'flood_depth': 1, 'report_type': 'flood'},\n {'report_type': 'flood', 'flood_depth': 45},\n {'report_type': 'flood', 'flood_depth': 78},\n {'report_type': 'flood', 'flood_depth': 23},\n {'report_type': 'flood', 'flood_depth': 45},\n {'report_type': 'flood', 'flood_depth': 143},\n {'report_type': 'flood', 'flood_depth': 144},\n {'points': 1, 'flood_depth': 39, 'report_type': 'flood'},\n {'report_type': 'flood', 'flood_depth': 22},\n {'report_type': 'flood', 'flood_depth': 45},\n {'report_type': 'flood', 'flood_depth': 93},\n {'report_type': 'flood', 'flood_depth': 25},\n {'points': 1, 'flood_depth': 23, 'report_type': 'flood'},\n {'report_type': 'flood', 'flood_depth': 23},\n {'points': 1, 'flood_depth': 28, 'report_type': 'flood'},\n {'report_type': 'flood', 'flood_depth': 36},\n {'report_type': 'flood', 'flood_depth': 133},\n {'points': 1, 'flood_depth': 33, 'report_type': 'flood'},\n {'report_type': 'flood', 'flood_depth': 23},\n {'points': 1, 'flood_depth': 20, 'report_type': 'flood'},\n {'points': 1, 'flood_depth': 50, 'report_type': 'flood'},\n {'points': 3, 'flood_depth': 15, 'report_type': 'flood'},\n {'points': 1, 'flood_depth': 32, 'report_type': 'flood'},\n {'points': 1, 'flood_depth': 10, 'report_type': 'flood'},\n {'report_type': 'flood', 'flood_depth': 195},\n {'report_type': 'flood', 'flood_depth': 21},\n {'report_type': 'flood', 'flood_depth': 27},\n {'report_type': 'flood', 'flood_depth': 80},\n {'report_type': 'flood', 'flood_depth': 46},\n {'points': -1, 'flood_depth': 6, 'report_type': 'flood'},\n {'report_type': 'flood', 'flood_depth': 10},\n {'report_type': 'flood', 'flood_depth': 50},\n {'points': 2, 'flood_depth': 18, 'report_type': 'flood'},\n {'points': 0, 'flood_depth': 65, 'report_type': 'flood'},\n {'points': 2, 'flood_depth': 18, 'report_type': 'flood'},\n {'points': 0, 'flood_depth': 10, 'report_type': 'flood'},\n {'report_type': 'flood', 'flood_depth': 69},\n {'points': 2, 'flood_depth': 30, 'report_type': 'flood'},\n {'points': 1, 'flood_depth': 28, 'report_type': 'flood'},\n {'report_type': 'flood', 'flood_depth': 5},\n {'points': -3, 'flood_depth': 49, 'report_type': 'flood'},\n {'report_type': 'flood', 'flood_depth': 45},\n {'report_type': 'flood', 'flood_depth': 16},\n {'report_type': 'flood', 'flood_depth': 30},\n {'report_type': 'flood', 'flood_depth': 20},\n {'points': 3, 'flood_depth': 70, 'report_type': 'flood'},\n {'report_type': 'flood', 'flood_depth': 87},\n {'points': 2, 'flood_depth': 47, 'report_type': 'flood'},\n {'report_type': 'flood', 'flood_depth': 43},\n {'points': 0},\n {'points': -1, 'flood_depth': 23, 'report_type': 'flood'},\n {'points': -1, 'flood_depth': 15, 'report_type': 'flood'},\n {'points': 1, 'flood_depth': 31, 'report_type': 'flood'},\n {'report_type': 'flood', 'flood_depth': 47},\n {'report_type': 'flood', 'flood_depth': 20},\n {'points': 1, 'flood_depth': 15, 'report_type': 'flood'},\n {'report_type': 'flood', 'flood_depth': 28},\n {'points': 1, 'flood_depth': 40, 'report_type': 'flood'},\n {'report_type': 'flood', 'flood_depth': 50},\n {'report_type': 'flood', 'flood_depth': 20},\n {'points': 1, 'flood_depth': 25, 'report_type': 'flood'},\n {'points': 1, 'flood_depth': 61, 'report_type': 'flood'},\n {'report_type': 'flood', 'flood_depth': 37},\n {'report_type': 'flood', 'flood_depth': 36},\n {'report_type': 'flood', 'flood_depth': 40},\n {'report_type': 'flood', 'flood_depth': 50},\n {'points': 1, 'flood_depth': 52, 'report_type': 'flood'},\n {'points': 2, 'flood_depth': 65, 'report_type': 'flood'},\n {'report_type': 'flood', 'flood_depth': 83},\n {'report_type': 'flood', 'flood_depth': 47},\n {'report_type': 'flood', 'flood_depth': 195},\n {'report_type': 'flood', 'flood_depth': 195},\n {'report_type': 'flood', 'flood_depth': 59},\n {'report_type': 'flood', 'flood_depth': 40},\n {'points': 1, 'flood_depth': 20, 'report_type': 'flood'},\n {'points': 1, 'flood_depth': 41, 'report_type': 'flood'},\n {'report_type': 'flood', 'flood_depth': 24},\n {'report_type': 'flood', 'flood_depth': 39},\n {'report_type': 'flood', 'flood_depth': 48},\n {'report_type': 'flood', 'flood_depth': 63},\n {'report_type': 'flood', 'flood_depth': 90},\n {'report_type': 'flood', 'flood_depth': 75},\n {'report_type': 'flood', 'flood_depth': 23},\n {'report_type': 'flood', 'flood_depth': 10},\n {'points': -1, 'flood_depth': 60, 'report_type': 'flood'},\n {'report_type': 'flood', 'flood_depth': 79},\n {'report_type': 'flood', 'flood_depth': 89},\n {'report_type': 'flood', 'flood_depth': 78},\n {'report_type': 'flood', 'flood_depth': 44},\n {'report_type': 'flood', 'flood_depth': 32},\n {'points': 1, 'flood_depth': 66, 'report_type': 'flood'},\n {'report_type': 'flood', 'flood_depth': 87},\n {'report_type': 'flood', 'flood_depth': 13},\n {'report_type': 'flood', 'flood_depth': 23},\n {'report_type': 'flood', 'flood_depth': 106},\n {'report_type': 'flood', 'flood_depth': 33},\n {'points': 1, 'flood_depth': 40, 'report_type': 'flood'},\n {'report_type': 'flood', 'flood_depth': 14},\n {'report_type': 'flood', 'flood_depth': 26},\n {'report_type': 'flood', 'flood_depth': 39},\n {'report_type': 'flood', 'flood_depth': 15},\n {'report_type': 'flood', 'flood_depth': 35},\n {'report_type': 'flood', 'flood_depth': 45},\n {'report_type': 'flood', 'flood_depth': 26},\n {'report_type': 'flood', 'flood_depth': 50},\n {'report_type': 'flood', 'flood_depth': 10},\n {'report_type': 'flood', 'flood_depth': 23},\n {'report_type': 'flood', 'flood_depth': 21},\n {'report_type': 'flood', 'flood_depth': 39},\n {'report_type': 'flood', 'flood_depth': 21},\n {'report_type': 'flood', 'flood_depth': 43},\n {'report_type': 'flood', 'flood_depth': 53},\n {'report_type': 'flood', 'flood_depth': 44},\n {'report_type': 'flood', 'flood_depth': 26},\n {'report_type': 'flood', 'flood_depth': 40},\n {'report_type': 'flood', 'flood_depth': 24},\n {'report_type': 'flood', 'flood_depth': 58},\n {'report_type': 'flood', 'flood_depth': 55},\n {'report_type': 'flood', 'flood_depth': 25},\n {'report_type': 'flood', 'flood_depth': 18},\n {'report_type': 'flood', 'flood_depth': 21},\n {'report_type': 'flood', 'flood_depth': 21},\n {'report_type': 'flood', 'flood_depth': 62},\n {'report_type': 'flood', 'flood_depth': 42},\n {'report_type': 'flood', 'flood_depth': 17},\n {'report_type': 'flood', 'flood_depth': 23},\n {'report_type': 'flood', 'flood_depth': 45},\n {'report_type': 'flood', 'flood_depth': 35},\n {'report_type': 'flood', 'flood_depth': 42},\n {'report_type': 'flood', 'flood_depth': 39},\n {'report_type': 'flood', 'flood_depth': 32},\n {'report_type': 'flood', 'flood_depth': 13},\n {'report_type': 'flood', 'flood_depth': 30},\n {'report_type': 'flood', 'flood_depth': 25},\n {'report_type': 'flood', 'flood_depth': 77},\n {'points': -1, 'flood_depth': 1, 'report_type': 'flood'},\n {'report_type': 'flood', 'flood_depth': 56},\n {'report_type': 'flood', 'flood_depth': 47},\n {'report_type': 'flood', 'flood_depth': 50},\n {'report_type': 'flood', 'flood_depth': 60},\n {'report_type': 'flood', 'flood_depth': 25},\n {'points': -1, 'flood_depth': 47, 'report_type': 'flood'},\n {'points': -1, 'flood_depth': 45, 'report_type': 'flood'},\n {'points': -2, 'flood_depth': 106, 'report_type': 'flood'},\n {'report_type': 'flood', 'flood_depth': 47},\n {'report_type': 'flood', 'flood_depth': 144},\n {'report_type': 'flood', 'flood_depth': 84},\n {'report_type': 'flood', 'flood_depth': 29},\n {'report_type': 'flood', 'flood_depth': 18},\n {'report_type': 'flood', 'flood_depth': 50},\n {'report_type': 'flood', 'flood_depth': 50},\n {'report_type': 'flood', 'flood_depth': 51},\n {'report_type': 'flood', 'flood_depth': 45},\n {'report_type': 'flood', 'flood_depth': 50},\n {'points': 2, 'flood_depth': 81, 'report_type': 'flood'},\n {'report_type': 'flood', 'flood_depth': 20},\n {'report_type': 'flood', 'flood_depth': 29},\n {'report_type': 'flood', 'flood_depth': 180},\n {'report_type': 'flood', 'flood_depth': 34},\n {'report_type': 'flood', 'flood_depth': 20},\n {'report_type': 'flood', 'flood_depth': 23},\n {'report_type': 'flood', 'flood_depth': 1},\n {'report_type': 'flood', 'flood_depth': 10},\n {'report_type': 'flood', 'flood_depth': 80},\n {'report_type': 'flood', 'flood_depth': 100},\n {'report_type': 'flood', 'flood_depth': 16},\n {'report_type': 'flood', 'flood_depth': 21},\n {'report_type': 'flood', 'flood_depth': 114},\n {'report_type': 'flood', 'flood_depth': 29},\n {'report_type': 'flood', 'flood_depth': 24},\n {'report_type': 'flood', 'flood_depth': 10},\n {'report_type': 'flood', 'flood_depth': 48},\n {'points': 1, 'flood_depth': 62, 'report_type': 'flood'},\n {'report_type': 'flood', 'flood_depth': 40},\n {'report_type': 'flood', 'flood_depth': 47},\n {'report_type': 'flood', 'flood_depth': 53},\n {'report_type': 'flood', 'flood_depth': 25},\n {'report_type': 'flood', 'flood_depth': 20},\n {'report_type': 'flood', 'flood_depth': 16},\n {'report_type': 'flood', 'flood_depth': 45},\n {'report_type': 'flood', 'flood_depth': 28},\n {'report_type': 'flood', 'flood_depth': 20},\n {'report_type': 'flood', 'flood_depth': 30},\n {'report_type': 'flood', 'flood_depth': 61},\n {'report_type': 'flood', 'flood_depth': 195},\n {'report_type': 'flood', 'flood_depth': 146},\n {'report_type': 'flood', 'flood_depth': 25},\n {'points': 1, 'flood_depth': 46, 'report_type': 'flood'},\n {'report_type': 'flood', 'flood_depth': 45},\n {'report_type': 'flood', 'flood_depth': 45},\n {'report_type': 'flood', 'flood_depth': 20},\n {'report_type': 'flood', 'flood_depth': 44},\n {'report_type': 'flood', 'flood_depth': 50},\n {'report_type': 'flood', 'flood_depth': 78},\n {'report_type': 'flood', 'flood_depth': 30},\n {'report_type': 'flood', 'flood_depth': 27},\n {'report_type': 'flood', 'flood_depth': 10},\n {'report_type': 'flood', 'flood_depth': 37},\n {'report_type': 'flood', 'flood_depth': 50},\n {'report_type': 'flood', 'flood_depth': 40},\n {'report_type': 'flood', 'flood_depth': 25},\n {'report_type': 'flood', 'flood_depth': 23},\n {'report_type': 'flood', 'flood_depth': 29},\n {'report_type': 'flood', 'flood_depth': 30},\n {'report_type': 'flood', 'flood_depth': 55},\n {'points': 1, 'flood_depth': 30, 'report_type': 'flood'},\n {'report_type': 'flood', 'flood_depth': 50},\n {'report_type': 'flood', 'flood_depth': 30},\n {'points': 1, 'flood_depth': 101, 'report_type': 'flood'},\n {'report_type': 'flood', 'flood_depth': 32},\n {'report_type': 'flood', 'flood_depth': 60},\n {'report_type': 'flood', 'flood_depth': 46},\n {'report_type': 'flood', 'flood_depth': 34},\n {'report_type': 'flood', 'flood_depth': 40},\n {'report_type': 'flood', 'flood_depth': 40},\n {'report_type': 'flood', 'flood_depth': 42},\n {'report_type': 'flood', 'flood_depth': 40},\n {'report_type': 'flood', 'flood_depth': 40},\n {'report_type': 'flood', 'flood_depth': 60},\n {'report_type': 'flood', 'flood_depth': 40},\n {'points': 1, 'flood_depth': 19, 'report_type': 'flood'},\n {'report_type': 'flood', 'flood_depth': 52},\n {'report_type': 'flood', 'flood_depth': 40},\n {'report_type': 'flood', 'flood_depth': 51},\n {'report_type': 'flood', 'flood_depth': 40},\n {'report_type': 'flood', 'flood_depth': 40},\n {'report_type': 'flood', 'flood_depth': 65},\n {'report_type': 'flood', 'flood_depth': 40},\n {'report_type': 'flood', 'flood_depth': 50},\n {'points': 0, 'flood_depth': 35, 'report_type': 'flood'},\n {'report_type': 'flood', 'flood_depth': 35},\n {'report_type': 'flood', 'flood_depth': 66},\n {'points': 1, 'flood_depth': 40, 'report_type': 'flood'},\n {'report_type': 'flood', 'flood_depth': 35},\n {'report_type': 'flood', 'flood_depth': 40},\n {'report_type': 'flood', 'flood_depth': 20},\n {'report_type': 'flood', 'flood_depth': 40},\n {'report_type': 'flood', 'flood_depth': 56},\n {'report_type': 'flood', 'flood_depth': 60},\n {'report_type': 'flood', 'flood_depth': 144},\n {'report_type': 'flood', 'flood_depth': 23},\n {'report_type': 'flood', 'flood_depth': 31},\n {'report_type': 'flood', 'flood_depth': 45},\n {'report_type': 'flood', 'flood_depth': 25},\n {'report_type': 'flood', 'flood_depth': 22},\n {'report_type': 'flood', 'flood_depth': 26},\n {'report_type': 'flood', 'flood_depth': 70},\n {'report_type': 'flood', 'flood_depth': 36},\n {'points': -1, 'flood_depth': 43, 'report_type': 'flood'},\n {'report_type': 'flood', 'flood_depth': 61},\n {'report_type': 'flood', 'flood_depth': 30},\n {'report_type': 'flood', 'flood_depth': 20},\n {'points': 1, 'flood_depth': 76, 'report_type': 'flood'},\n {'report_type': 'flood', 'flood_depth': 46},\n {'report_type': 'flood', 'flood_depth': 60},\n {'report_type': 'flood', 'flood_depth': 35},\n {'points': 1, 'flood_depth': 58, 'report_type': 'flood'},\n {'points': 1, 'flood_depth': 49, 'report_type': 'flood'},\n {'report_type': 'flood', 'flood_depth': 20},\n {'report_type': 'flood', 'flood_depth': 60},\n {'report_type': 'flood', 'flood_depth': 1},\n {'points': 1, 'flood_depth': 18, 'report_type': 'flood'},\n {'report_type': 'flood', 'flood_depth': 17},\n {'report_type': 'flood', 'flood_depth': 52},\n {'report_type': 'flood', 'flood_depth': 30},\n {'report_type': 'flood', 'flood_depth': 27},\n {'report_type': 'flood', 'flood_depth': 1},\n {'report_type': 'flood', 'flood_depth': 60},\n {'report_type': 'flood', 'flood_depth': 15},\n {'report_type': 'flood', 'flood_depth': 10},\n {'report_type': 'flood', 'flood_depth': 50},\n {'report_type': 'flood', 'flood_depth': 40},\n {'report_type': 'flood', 'flood_depth': 49},\n {'report_type': 'flood', 'flood_depth': 3},\n {'report_type': 'flood', 'flood_depth': 5},\n {'report_type': 'flood', 'flood_depth': 28},\n {'report_type': 'flood', 'flood_depth': 28},\n {'report_type': 'flood', 'flood_depth': 35},\n {'report_type': 'flood', 'flood_depth': 35},\n {'report_type': 'flood', 'flood_depth': 75},\n {'report_type': 'flood', 'flood_depth': 75},\n {'report_type': 'flood', 'flood_depth': 20},\n {'report_type': 'flood', 'flood_depth': 66},\n {'report_type': 'flood', 'flood_depth': 10},\n {'report_type': 'flood', 'flood_depth': 33},\n {'report_type': 'flood', 'flood_depth': 30},\n {'report_type': 'flood', 'flood_depth': 34},\n {'report_type': 'flood', 'flood_depth': 105},\n {'report_type': 'flood', 'flood_depth': 16},\n {'report_type': 'flood', 'flood_depth': 12},\n {'report_type': 'flood', 'flood_depth': 48},\n {'report_type': 'flood', 'flood_depth': 68},\n {'report_type': 'flood', 'flood_depth': 42},\n {'points': 1, 'flood_depth': 56, 'report_type': 'flood'},\n {'report_type': 'flood', 'flood_depth': 25},\n {'report_type': 'flood', 'flood_depth': 11},\n {'report_type': 'flood', 'flood_depth': 68},\n {'report_type': 'flood', 'flood_depth': 79},\n {'report_type': 'flood', 'flood_depth': 50},\n {'report_type': 'flood', 'flood_depth': 91},\n {'report_type': 'flood', 'flood_depth': 5},\n {'report_type': 'flood', 'flood_depth': 4},\n {'report_type': 'flood', 'flood_depth': 20},\n {'report_type': 'flood', 'flood_depth': 80},\n {'report_type': 'flood', 'flood_depth': 50},\n {'report_type': 'flood', 'flood_depth': 30},\n {'report_type': 'flood', 'flood_depth': 50},\n {'report_type': 'flood', 'flood_depth': 49},\n {'report_type': 'flood', 'flood_depth': 40},\n {'points': 1, 'flood_depth': 63, 'report_type': 'flood'},\n {'report_type': 'flood', 'flood_depth': 37},\n {'report_type': 'flood', 'flood_depth': 80},\n {'report_type': 'flood', 'flood_depth': 100},\n {'points': 1, 'flood_depth': 77, 'report_type': 'flood'},\n {'report_type': 'flood', 'flood_depth': 67},\n {'report_type': 'flood', 'flood_depth': 11},\n {'report_type': 'flood', 'flood_depth': 39},\n {'report_type': 'flood', 'flood_depth': 55},\n {'report_type': 'flood', 'flood_depth': 27},\n {'report_type': 'flood', 'flood_depth': 51},\n {'report_type': 'flood', 'flood_depth': 50},\n {'report_type': 'flood', 'flood_depth': 39},\n {'report_type': 'flood', 'flood_depth': 49},\n {'report_type': 'flood', 'flood_depth': 102},\n {'report_type': 'flood', 'flood_depth': 45},\n {'report_type': 'flood', 'flood_depth': 45},\n {'report_type': 'flood', 'flood_depth': 55},\n {'report_type': 'flood', 'flood_depth': 36},\n {'report_type': 'flood', 'flood_depth': 119},\n {'points': 1, 'flood_depth': 30, 'report_type': 'flood'},\n {'report_type': 'flood', 'flood_depth': 55},\n {'report_type': 'flood', 'flood_depth': 40},\n {'report_type': 'flood', 'flood_depth': 25},\n {'report_type': 'flood', 'flood_depth': 70},\n {'report_type': 'flood', 'flood_depth': 22},\n {'report_type': 'flood', 'flood_depth': 70},\n {'report_type': 'flood', 'flood_depth': 86},\n {'report_type': 'flood', 'flood_depth': 44},\n {'report_type': 'flood', 'flood_depth': 50},\n {'report_type': 'flood', 'flood_depth': 15},\n {'report_type': 'flood', 'flood_depth': 25},\n {'report_type': 'flood', 'flood_depth': 10},\n {'report_type': 'flood', 'flood_depth': 44},\n {'report_type': 'flood', 'flood_depth': 132},\n {'report_type': 'flood', 'flood_depth': 30},\n {'report_type': 'flood', 'flood_depth': 35},\n {'report_type': 'flood', 'flood_depth': 75},\n {'report_type': 'flood', 'flood_depth': 53},\n {'report_type': 'flood', 'flood_depth': 75},\n {'report_type': 'flood', 'flood_depth': 81},\n {'report_type': 'flood', 'flood_depth': 15},\n {'report_type': 'flood', 'flood_depth': 87},\n {'report_type': 'flood', 'flood_depth': 41},\n {'report_type': 'flood', 'flood_depth': 195},\n {'report_type': 'flood', 'flood_depth': 24},\n {'report_type': 'flood', 'flood_depth': 43},\n {'report_type': 'flood', 'flood_depth': 40},\n {'report_type': 'flood', 'flood_depth': 50},\n {'report_type': 'flood', 'flood_depth': 25},\n {'report_type': 'flood', 'flood_depth': 60},\n {'report_type': 'flood', 'flood_depth': 40},\n {'report_type': 'flood', 'flood_depth': 53},\n {'report_type': 'flood', 'flood_depth': 50},\n {'report_type': 'flood', 'flood_depth': 45},\n {'points': 1, 'flood_depth': 40, 'report_type': 'flood'},\n {'report_type': 'flood', 'flood_depth': 42},\n {'report_type': 'flood', 'flood_depth': 98},\n {'report_type': 'flood', 'flood_depth': 20},\n {'report_type': 'flood', 'flood_depth': 67},\n {'report_type': 'flood', 'flood_depth': 23},\n {'report_type': 'flood', 'flood_depth': 53},\n {'report_type': 'flood', 'flood_depth': 51},\n {'report_type': 'flood', 'flood_depth': 29},\n {'report_type': 'flood', 'flood_depth': 47},\n {'report_type': 'flood', 'flood_depth': 49},\n {'report_type': 'flood', 'flood_depth': 21},\n {'report_type': 'flood', 'flood_depth': 36},\n {'report_type': 'flood', 'flood_depth': 48},\n {'report_type': 'flood', 'flood_depth': 66},\n {'report_type': 'flood', 'flood_depth': 36},\n {'points': 1, 'flood_depth': 10, 'report_type': 'flood'},\n {'report_type': 'flood', 'flood_depth': 66},\n {'report_type': 'flood', 'flood_depth': 35},\n {'report_type': 'flood', 'flood_depth': 26},\n {'report_type': 'flood', 'flood_depth': 70},\n {'report_type': 'flood', 'flood_depth': 50},\n {'report_type': 'flood', 'flood_depth': 30},\n {'report_type': 'flood', 'flood_depth': 44},\n {'points': 1, 'flood_depth': 59, 'report_type': 'flood'},\n {'report_type': 'flood', 'flood_depth': 65},\n {'report_type': 'flood', 'flood_depth': 46},\n {'report_type': 'flood', 'flood_depth': 40},\n {'report_type': 'flood', 'flood_depth': 91},\n {'report_type': 'flood', 'flood_depth': 50},\n {'report_type': 'flood', 'flood_depth': 33},\n {'points': 1, 'flood_depth': 10, 'report_type': 'flood'},\n {'report_type': 'flood', 'flood_depth': 72},\n {'report_type': 'flood', 'flood_depth': 30},\n {'report_type': 'flood', 'flood_depth': 51},\n {'report_type': 'flood', 'flood_depth': 55},\n {'report_type': 'flood', 'flood_depth': 54},\n {'points': 1, 'flood_depth': 30, 'report_type': 'flood'},\n {'report_type': 'flood', 'flood_depth': 60},\n {'report_type': 'flood', 'flood_depth': 56},\n {'report_type': 'flood', 'flood_depth': 32},\n {'report_type': 'flood', 'flood_depth': 25},\n {'report_type': 'flood', 'flood_depth': 25},\n {'report_type': 'flood', 'flood_depth': 25},\n {'report_type': 'flood', 'flood_depth': 30},\n {'report_type': 'flood', 'flood_depth': 30},\n {'report_type': 'flood', 'flood_depth': 68},\n {'report_type': 'flood', 'flood_depth': 64},\n {'points': 1, 'flood_depth': 60, 'report_type': 'flood'},\n {'report_type': 'flood', 'flood_depth': 59},\n {'report_type': 'flood', 'flood_depth': 41},\n {'points': -2, 'flood_depth': 51, 'report_type': 'flood'},\n {'report_type': 'flood', 'flood_depth': 63},\n {'report_type': 'flood', 'flood_depth': 35},\n {'report_type': 'flood', 'flood_depth': 40},\n {'report_type': 'flood', 'flood_depth': 60},\n {'report_type': 'flood', 'flood_depth': 64},\n {'report_type': 'flood', 'flood_depth': 50},\n {'report_type': 'flood', 'flood_depth': 70},\n {'points': 1, 'flood_depth': 44, 'report_type': 'flood'},\n {'report_type': 'flood', 'flood_depth': 81},\n {'report_type': 'flood', 'flood_depth': 52},\n {'report_type': 'flood', 'flood_depth': 25},\n {'report_type': 'flood', 'flood_depth': 65},\n {'report_type': 'flood', 'flood_depth': 30},\n {'report_type': 'flood', 'flood_depth': 40},\n {'report_type': 'flood', 'flood_depth': 34},\n {'points': 1, 'flood_depth': 69, 'report_type': 'flood'},\n {'report_type': 'flood', 'flood_depth': 20},\n {'report_type': 'flood', 'flood_depth': 22},\n {'report_type': 'flood', 'flood_depth': 43},\n {'points': -1, 'flood_depth': 60, 'report_type': 'flood'},\n {'report_type': 'flood', 'flood_depth': 49},\n {'report_type': 'flood', 'flood_depth': 55},\n {'report_type': 'flood', 'flood_depth': 39},\n {'points': 1, 'flood_depth': 50, 'report_type': 'flood'},\n {'report_type': 'flood', 'flood_depth': 96},\n {'report_type': 'flood', 'flood_depth': 96},\n {'report_type': 'flood', 'flood_depth': 15},\n {'report_type': 'flood', 'flood_depth': 46},\n {'report_type': 'flood', 'flood_depth': 60},\n {'points': 1, 'flood_depth': 60, 'report_type': 'flood'},\n {'report_type': 'flood', 'flood_depth': 50},\n {'report_type': 'flood', 'flood_depth': 32},\n {'report_type': 'flood', 'flood_depth': 19},\n {'report_type': 'flood', 'flood_depth': 40},\n {'report_type': 'flood', 'flood_depth': 59},\n {'report_type': 'flood', 'flood_depth': 47},\n {'report_type': 'flood', 'flood_depth': 118},\n {'points': 1, 'flood_depth': 100, 'report_type': 'flood'},\n {'report_type': 'flood', 'flood_depth': 26},\n {'report_type': 'flood', 'flood_depth': 44},\n {'points': 1, 'flood_depth': 89, 'report_type': 'flood'},\n {'points': 1, 'flood_depth': 30, 'report_type': 'flood'},\n {'report_type': 'flood', 'flood_depth': 24},\n {'points': 1, 'flood_depth': 16, 'report_type': 'flood'},\n {'report_type': 'flood', 'flood_depth': 13},\n {'report_type': 'flood', 'flood_depth': 21},\n {'report_type': 'flood', 'flood_depth': 49},\n {'points': 1, 'flood_depth': 60, 'report_type': 'flood'},\n {'report_type': 'flood', 'flood_depth': 34},\n {'points': 1, 'flood_depth': 30, 'report_type': 'flood'},\n {'report_type': 'flood', 'flood_depth': 35},\n {'report_type': 'flood', 'flood_depth': 50},\n {'points': 1, 'flood_depth': 83, 'report_type': 'flood'},\n {'report_type': 'flood', 'flood_depth': 51},\n {'report_type': 'flood', 'flood_depth': 134},\n {'report_type': 'flood', 'flood_depth': 150},\n {'report_type': 'flood', 'flood_depth': 107},\n {'report_type': 'flood', 'flood_depth': 59},\n {'report_type': 'flood', 'flood_depth': 50},\n {'report_type': 'flood', 'flood_depth': 88},\n {'report_type': 'flood', 'flood_depth': 81},\n {'points': 1, 'flood_depth': 57, 'report_type': 'flood'},\n {'report_type': 'flood', 'flood_depth': 50},\n {'report_type': 'flood', 'flood_depth': 43},\n {'report_type': 'flood', 'flood_depth': 47},\n {'report_type': 'flood', 'flood_depth': 34},\n {'report_type': 'flood', 'flood_depth': 50},\n {'report_type': 'flood', 'flood_depth': 21},\n {'report_type': 'flood', 'flood_depth': 18},\n {'report_type': 'flood', 'flood_depth': 54},\n {'points': -1, 'flood_depth': 50, 'report_type': 'flood'},\n {'report_type': 'flood', 'flood_depth': 30},\n {'report_type': 'flood', 'flood_depth': 47},\n {'points': 1},\n {'points': 1, 'flood_depth': 49, 'report_type': 'flood'},\n {'report_type': 'flood', 'flood_depth': 70},\n {'report_type': 'flood', 'flood_depth': 70},\n {'points': 1},\n {'report_type': 'flood', 'flood_depth': 70},\n {'report_type': 'flood', 'flood_depth': 50},\n {'report_type': 'flood', 'flood_depth': 38},\n {'points': 1, 'flood_depth': 125, 'report_type': 'flood'},\n {'report_type': 'flood', 'flood_depth': 30},\n {'report_type': 'flood', 'flood_depth': 25},\n {'report_type': 'flood', 'flood_depth': 25},\n {'report_type': 'flood', 'flood_depth': 20},\n {'report_type': 'flood', 'flood_depth': 51},\n {'report_type': 'flood', 'flood_depth': 55},\n {'report_type': 'flood', 'flood_depth': 80},\n {'report_type': 'flood', 'flood_depth': 71},\n {'report_type': 'flood', 'flood_depth': 40},\n {'report_type': 'flood', 'flood_depth': 56},\n {'report_type': 'flood', 'flood_depth': 98},\n {'points': 1, 'flood_depth': 40, 'report_type': 'flood'},\n {'points': 1, 'flood_depth': 46, 'report_type': 'flood'},\n {'report_type': 'flood', 'flood_depth': 177},\n {'report_type': 'flood', 'flood_depth': 50},\n {'points': -1, 'flood_depth': 60, 'report_type': 'flood'},\n {'report_type': 'flood', 'flood_depth': 54},\n {'report_type': 'flood', 'flood_depth': 88},\n {'report_type': 'flood', 'flood_depth': 46},\n {'points': 0, 'flood_depth': 100, 'report_type': 'flood'},\n {'report_type': 'flood', 'flood_depth': 58},\n {'report_type': 'flood', 'flood_depth': 70},\n {'report_type': 'flood', 'flood_depth': 54},\n {'report_type': 'flood', 'flood_depth': 54},\n {'report_type': 'flood', 'flood_depth': 71},\n {'report_type': 'flood', 'flood_depth': 35},\n {'report_type': 'flood', 'flood_depth': 50},\n {'report_type': 'flood', 'flood_depth': 24},\n {'points': -1, 'flood_depth': 41, 'report_type': 'flood'},\n {'report_type': 'flood', 'flood_depth': 55},\n {'report_type': 'flood', 'flood_depth': 80},\n {'report_type': 'flood', 'flood_depth': 55},\n {'report_type': 'flood', 'flood_depth': 60},\n {'report_type': 'flood', 'flood_depth': 41},\n {'report_type': 'flood', 'flood_depth': 50},\n {'report_type': 'flood', 'flood_depth': 74},\n {'report_type': 'flood', 'flood_depth': 195},\n {'points': 1, 'flood_depth': 29, 'report_type': 'flood'},\n {'report_type': 'flood', 'flood_depth': 28},\n {'report_type': 'flood', 'flood_depth': 70},\n {'points': 1, 'flood_depth': 48, 'report_type': 'flood'},\n {'report_type': 'flood', 'flood_depth': 20},\n {'points': 1, 'flood_depth': 47, 'report_type': 'flood'},\n {'report_type': 'flood', 'flood_depth': 40},\n {'report_type': 'flood', 'flood_depth': 44},\n {'report_type': 'flood', 'flood_depth': 65},\n {'report_type': 'flood', 'flood_depth': 57},\n {'report_type': 'flood', 'flood_depth': 50},\n {'report_type': 'flood', 'flood_depth': 64},\n {'report_type': 'flood', 'flood_depth': 195},\n {'report_type': 'flood', 'flood_depth': 36},\n {'report_type': 'flood', 'flood_depth': 191},\n {'report_type': 'flood', 'flood_depth': 45},\n {'report_type': 'flood', 'flood_depth': 1},\n {'report_type': 'flood', 'flood_depth': 76},\n {'report_type': 'flood', 'flood_depth': 100},\n {'report_type': 'flood', 'flood_depth': 48},\n {'points': 1, 'flood_depth': 45, 'report_type': 'flood'},\n {'report_type': 'flood', 'flood_depth': 43},\n {'report_type': 'flood', 'flood_depth': 15},\n {'report_type': 'flood', 'flood_depth': 49},\n {'report_type': 'flood', 'flood_depth': 20},\n {'report_type': 'flood', 'flood_depth': 36},\n {'report_type': 'flood', 'flood_depth': 74},\n {'points': 1, 'flood_depth': 49, 'report_type': 'flood'},\n {'report_type': 'flood', 'flood_depth': 18},\n {'report_type': 'flood', 'flood_depth': 73},\n {'report_type': 'flood', 'flood_depth': 35},\n {'report_type': 'flood', 'flood_depth': 43},\n {'report_type': 'flood', 'flood_depth': 88},\n {'report_type': 'flood', 'flood_depth': 28},\n {'report_type': 'flood', 'flood_depth': 75},\n {'report_type': 'flood', 'flood_depth': 60},\n {'report_type': 'flood', 'flood_depth': 30},\n {'report_type': 'flood', 'flood_depth': 51},\n {'report_type': 'flood', 'flood_depth': 40},\n {'report_type': 'flood', 'flood_depth': 25},\n {'report_type': 'flood', 'flood_depth': 80},\n {'report_type': 'flood', 'flood_depth': 83},\n {'points': 1, 'flood_depth': 76, 'report_type': 'flood'},\n {'report_type': 'flood', 'flood_depth': 95},\n {'report_type': 'flood', 'flood_depth': 72},\n {'points': 1, 'flood_depth': 42, 'report_type': 'flood'},\n {'report_type': 'flood', 'flood_depth': 33},\n {'points': 0, 'flood_depth': 46, 'report_type': 'flood'},\n {'report_type': 'flood', 'flood_depth': 58},\n {'points': 0, 'flood_depth': 72, 'report_type': 'flood'},\n {'report_type': 'flood', 'flood_depth': 55},\n {'report_type': 'flood', 'flood_depth': 26},\n {'report_type': 'flood', 'flood_depth': 36},\n {'report_type': 'flood', 'flood_depth': 101},\n {'points': -1, 'flood_depth': 30, 'report_type': 'flood'},\n {'report_type': 'flood', 'flood_depth': 54},\n {'report_type': 'flood', 'flood_depth': 58},\n {'report_type': 'flood', 'flood_depth': 75},\n {'report_type': 'flood', 'flood_depth': 34},\n {'report_type': 'flood', 'flood_depth': 75},\n {'report_type': 'flood', 'flood_depth': 50},\n {'points': -1, 'flood_depth': 70, 'report_type': 'flood'},\n {'report_type': 'flood', 'flood_depth': 48},\n {'report_type': 'flood', 'flood_depth': 76},\n {'points': 1, 'flood_depth': 37, 'report_type': 'flood'},\n {'report_type': 'flood', 'flood_depth': 95},\n {'report_type': 'flood', 'flood_depth': 42},\n {'report_type': 'flood', 'flood_depth': 50},\n {'points': 1, 'flood_depth': 70, 'report_type': 'flood'},\n {'report_type': 'flood', 'flood_depth': 48},\n {'report_type': 'flood', 'flood_depth': 30},\n {'report_type': 'flood', 'flood_depth': 48},\n {'report_type': 'flood', 'flood_depth': 144},\n {'points': 0, 'flood_depth': 67, 'report_type': 'flood'},\n {'report_type': 'flood', 'flood_depth': 55},\n {'report_type': 'flood', 'flood_depth': 16},\n {'report_type': 'flood', 'flood_depth': 40},\n {'report_type': 'flood', 'flood_depth': 50},\n {'report_type': 'flood', 'flood_depth': 49},\n {'report_type': 'flood', 'flood_depth': 40},\n {'points': 1, 'flood_depth': 127, 'report_type': 'flood'},\n {'report_type': 'flood', 'flood_depth': 56},\n {'report_type': 'flood', 'flood_depth': 50},\n {'report_type': 'flood', 'flood_depth': 60},\n {'report_type': 'flood', 'flood_depth': 23},\n {'report_type': 'flood', 'flood_depth': 49},\n {'report_type': 'flood', 'flood_depth': 44},\n {'report_type': 'flood', 'flood_depth': 30},\n {'points': 1, 'flood_depth': 83, 'report_type': 'flood'},\n {'report_type': 'flood', 'flood_depth': 42},\n {'report_type': 'flood', 'flood_depth': 103},\n {'points': 1, 'flood_depth': 41, 'report_type': 'flood'},\n {'report_type': 'flood', 'flood_depth': 50},\n {'points': 1, 'flood_depth': 58, 'report_type': 'flood'},\n {'report_type': 'flood', 'flood_depth': 41},\n {'report_type': 'flood', 'flood_depth': 50},\n {'report_type': 'flood', 'flood_depth': 26},\n {'report_type': 'flood', 'flood_depth': 35},\n {'report_type': 'flood', 'flood_depth': 36},\n {'report_type': 'flood', 'flood_depth': 69},\n {'report_type': 'flood', 'flood_depth': 50},\n {'report_type': 'flood', 'flood_depth': 54},\n {'report_type': 'flood', 'flood_depth': 99},\n {'report_type': 'flood', 'flood_depth': 50},\n {'points': -1, 'flood_depth': 25, 'report_type': 'flood'},\n {'points': 1, 'flood_depth': 24, 'report_type': 'flood'},\n {'report_type': 'flood', 'flood_depth': 90},\n {'report_type': 'flood', 'flood_depth': 49},\n {'report_type': 'flood', 'flood_depth': 60},\n {'report_type': 'flood', 'flood_depth': 19},\n {'report_type': 'flood', 'flood_depth': 63},\n {'report_type': 'flood', 'flood_depth': 34},\n {'report_type': 'flood', 'flood_depth': 41},\n {'report_type': 'flood', 'flood_depth': 50},\n {'report_type': 'flood', 'flood_depth': 40},\n {'points': 1, 'flood_depth': 63, 'report_type': 'flood'},\n {'points': 1, 'flood_depth': 20, 'report_type': 'flood'},\n {'report_type': 'flood', 'flood_depth': 50},\n {'report_type': 'flood', 'flood_depth': 60},\n {'report_type': 'flood', 'flood_depth': 53},\n {'report_type': 'flood', 'flood_depth': 60},\n {'report_type': 'flood', 'flood_depth': 58},\n {'points': 3, 'flood_depth': 21, 'report_type': 'flood'},\n {'points': 1, 'flood_depth': 20, 'report_type': 'flood'},\n {'points': 2, 'flood_depth': 63, 'report_type': 'flood'},\n {'report_type': 'flood', 'flood_depth': 20},\n {'report_type': 'flood', 'flood_depth': 35},\n {'points': 1, 'flood_depth': 54, 'report_type': 'flood'},\n {'report_type': 'flood', 'flood_depth': 20},\n {'points': 1, 'flood_depth': 47, 'report_type': 'flood'},\n {'points': 1, 'flood_depth': 61, 'report_type': 'flood'},\n {'points': 2, 'flood_depth': 50, 'report_type': 'flood'},\n {'points': 1, 'flood_depth': 71, 'report_type': 'flood'},\n {'points': 1, 'flood_depth': 60, 'report_type': 'flood'},\n {'points': 1, 'flood_depth': 61, 'report_type': 'flood'},\n {'points': 1, 'flood_depth': 49, 'report_type': 'flood'},\n {'report_type': 'flood', 'flood_depth': 50},\n {'points': -1, 'flood_depth': 80, 'report_type': 'flood'},\n {'points': 2, 'flood_depth': 112, 'report_type': 'flood'},\n {'points': 1, 'flood_depth': 28, 'report_type': 'flood'},\n {'report_type': 'flood', 'flood_depth': 73},\n {'points': 1, 'flood_depth': 39, 'report_type': 'flood'},\n {'points': 1, 'flood_depth': 30, 'report_type': 'flood'},\n {'points': 1, 'flood_depth': 24, 'report_type': 'flood'},\n {'report_type': 'flood', 'flood_depth': 80},\n {'report_type': 'flood', 'flood_depth': 29},\n {'points': 4, 'flood_depth': 107, 'report_type': 'flood'},\n {'points': 1, 'flood_depth': 30, 'report_type': 'flood'},\n {'report_type': 'flood', 'flood_depth': 50},\n {'points': 1, 'flood_depth': 87, 'report_type': 'flood'},\n {'points': 0, 'flood_depth': 39, 'report_type': 'flood'},\n {'points': 1, 'flood_depth': 84, 'report_type': 'flood'},\n {'points': 1, 'flood_depth': 55, 'report_type': 'flood'},\n {'points': 1, 'flood_depth': 20, 'report_type': 'flood'},\n {'points': 1, 'flood_depth': 48, 'report_type': 'flood'},\n {'points': 1, 'flood_depth': 37, 'report_type': 'flood'},\n {'points': 1, 'flood_depth': 28, 'report_type': 'flood'},\n {'points': 1, 'flood_depth': 60, 'report_type': 'flood'},\n {'points': 1, 'flood_depth': 50, 'report_type': 'flood'},\n {'report_type': 'flood', 'flood_depth': 18},\n {'report_type': 'flood', 'flood_depth': 23},\n {'points': 1, 'flood_depth': 14, 'report_type': 'flood'},\n {'points': 1, 'flood_depth': 61, 'report_type': 'flood'},\n {'points': 1, 'flood_depth': 49, 'report_type': 'flood'},\n {'points': 0, 'flood_depth': 112, 'report_type': 'flood'},\n {'report_type': 'flood', 'flood_depth': 62},\n {'points': 1, 'flood_depth': 50, 'report_type': 'flood'},\n {'report_type': 'flood', 'flood_depth': 35},\n {'report_type': 'flood', 'flood_depth': 76},\n {'points': 1, 'flood_depth': 49, 'report_type': 'flood'},\n {'report_type': 'flood', 'flood_depth': 10},\n {'points': 1, 'flood_depth': 33, 'report_type': 'flood'},\n {'points': 0, 'flood_depth': 48, 'report_type': 'flood'},\n {'points': 5, 'flood_depth': 75, 'report_type': 'flood'},\n {'points': 1, 'flood_depth': 65, 'report_type': 'flood'},\n {'points': 1, 'flood_depth': 34, 'report_type': 'flood'},\n {'points': 1, 'flood_depth': 42, 'report_type': 'flood'},\n {'points': 1, 'flood_depth': 45, 'report_type': 'flood'},\n {'points': 1, 'flood_depth': 44, 'report_type': 'flood'},\n {'report_type': 'flood', 'flood_depth': 70},\n {'points': 1, 'flood_depth': 50, 'report_type': 'flood'},\n {'points': 4, 'flood_depth': 49, 'report_type': 'flood'},\n {'points': -2, 'flood_depth': 47, 'report_type': 'flood'},\n {'report_type': 'flood', 'flood_depth': 16},\n {'points': 1, 'flood_depth': 20, 'report_type': 'flood'},\n {'points': 1, 'flood_depth': 40, 'report_type': 'flood'},\n {'points': 1, 'flood_depth': 60, 'report_type': 'flood'},\n {'points': 1, 'flood_depth': 50, 'report_type': 'flood'},\n {'report_type': 'flood', 'flood_depth': 78},\n {'points': 1, 'flood_depth': 95, 'report_type': 'flood'},\n {'report_type': 'flood', 'flood_depth': 100},\n {'report_type': 'flood', 'flood_depth': 45},\n {'points': 1, 'flood_depth': 51, 'report_type': 'flood'},\n {'points': 1, 'flood_depth': 128, 'report_type': 'flood'},\n {'points': 0, 'flood_depth': 30, 'report_type': 'flood'},\n {'points': 1, 'flood_depth': 44, 'report_type': 'flood'},\n {'points': 1, 'flood_depth': 57, 'report_type': 'flood'},\n {'report_type': 'flood', 'flood_depth': 34},\n {'points': 1, 'flood_depth': 30, 'report_type': 'flood'},\n {'report_type': 'flood', 'flood_depth': 45},\n {'report_type': 'flood', 'flood_depth': 60},\n {'points': 1, 'flood_depth': 59, 'report_type': 'flood'},\n {'points': 2, 'flood_depth': 30, 'report_type': 'flood'},\n {'points': 1, 'flood_depth': 40, 'report_type': 'flood'},\n {'report_type': 'flood', 'flood_depth': 20},\n {'report_type': 'flood', 'flood_depth': 72},\n {'report_type': 'flood', 'flood_depth': 49},\n {'points': 1, 'flood_depth': 76, 'report_type': 'flood'},\n {'points': 1, 'flood_depth': 48, 'report_type': 'flood'},\n {'points': 1, 'flood_depth': 70, 'report_type': 'flood'},\n {'report_type': 'flood', 'flood_depth': 29},\n {'report_type': 'flood', 'flood_depth': 54},\n {'report_type': 'flood', 'flood_depth': 125},\n {'report_type': 'flood', 'flood_depth': 148},\n {'report_type': 'flood', 'flood_depth': 24},\n {'report_type': 'flood', 'flood_depth': 121},\n {'report_type': 'flood', 'flood_depth': 50},\n {'points': 1},\n {'points': 1, 'flood_depth': 16, 'report_type': 'flood'},\n {'report_type': 'flood', 'flood_depth': 77},\n {'report_type': 'flood', 'flood_depth': 29},\n {'report_type': 'flood', 'flood_depth': 39},\n {'report_type': 'flood', 'flood_depth': 100},\n {'points': 0, 'flood_depth': 30, 'report_type': 'flood'},\n ...]"
     },
     "metadata": {}
    }
   ]
  },
  {
   "cell_type": "code",
   "metadata": {
    "cell_id": "ad8e29bb4dae4e6da55fe379996d6081",
    "tags": [],
    "deepnote_to_be_reexecuted": false,
    "source_hash": "cf9c6495",
    "execution_start": 1661016279437,
    "execution_millis": 43,
    "deepnote_table_state": {
     "pageSize": 10,
     "pageIndex": 0,
     "filters": [],
     "sortBy": []
    },
    "deepnote_table_loading": false,
    "deepnote_cell_type": "code",
    "deepnote_cell_height": 630
   },
   "source": "y = pd.DataFrame(result)\ny",
   "execution_count": 7,
   "outputs": [
    {
     "output_type": "execute_result",
     "execution_count": 7,
     "data": {
      "application/vnd.deepnote.dataframe.v3+json": {
       "column_count": 16,
       "row_count": 3043,
       "columns": [
        {
         "name": "report_type",
         "dtype": "object",
         "stats": {
          "unique_count": 7,
          "nan_count": 73,
          "categories": [
           {
            "name": "flood",
            "count": 2774
           },
           {
            "name": "6 others",
            "count": 196
           },
           {
            "name": "Missing",
            "count": 73
           }
          ]
         }
        },
        {
         "name": "flood_depth",
         "dtype": "float64",
         "stats": {
          "unique_count": 185,
          "nan_count": 269,
          "min": "0.0",
          "max": "200.0",
          "histogram": [
           {
            "bin_start": 0,
            "bin_end": 20,
            "count": 176
           },
           {
            "bin_start": 20,
            "bin_end": 40,
            "count": 645
           },
           {
            "bin_start": 40,
            "bin_end": 60,
            "count": 917
           },
           {
            "bin_start": 60,
            "bin_end": 80,
            "count": 390
           },
           {
            "bin_start": 80,
            "bin_end": 100,
            "count": 255
           },
           {
            "bin_start": 100,
            "bin_end": 120,
            "count": 146
           },
           {
            "bin_start": 120,
            "bin_end": 140,
            "count": 92
           },
           {
            "bin_start": 140,
            "bin_end": 160,
            "count": 59
           },
           {
            "bin_start": 160,
            "bin_end": 180,
            "count": 20
           },
           {
            "bin_start": 180,
            "bin_end": 200,
            "count": 74
           }
          ]
         }
        },
        {
         "name": "points",
         "dtype": "float64",
         "stats": {
          "unique_count": 13,
          "nan_count": 2320,
          "min": "-7.0",
          "max": "20.0",
          "histogram": [
           {
            "bin_start": -7,
            "bin_end": -4.3,
            "count": 1
           },
           {
            "bin_start": -4.3,
            "bin_end": -1.5999999999999996,
            "count": 14
           },
           {
            "bin_start": -1.5999999999999996,
            "bin_end": 1.1000000000000014,
            "count": 588
           },
           {
            "bin_start": 1.1000000000000014,
            "bin_end": 3.8000000000000007,
            "count": 105
           },
           {
            "bin_start": 3.8000000000000007,
            "bin_end": 6.5,
            "count": 13
           },
           {
            "bin_start": 6.5,
            "bin_end": 9.200000000000003,
            "count": 1
           },
           {
            "bin_start": 9.200000000000003,
            "bin_end": 11.900000000000002,
            "count": 0
           },
           {
            "bin_start": 11.900000000000002,
            "bin_end": 14.600000000000001,
            "count": 0
           },
           {
            "bin_start": 14.600000000000001,
            "bin_end": 17.3,
            "count": 0
           },
           {
            "bin_start": 17.3,
            "bin_end": 20,
            "count": 1
           }
          ]
         }
        },
        {
         "name": "structureFailure",
         "dtype": "float64",
         "stats": {
          "unique_count": 3,
          "nan_count": 2978,
          "min": "0.0",
          "max": "2.0",
          "histogram": [
           {
            "bin_start": 0,
            "bin_end": 0.2,
            "count": 28
           },
           {
            "bin_start": 0.2,
            "bin_end": 0.4,
            "count": 0
           },
           {
            "bin_start": 0.4,
            "bin_end": 0.6000000000000001,
            "count": 0
           },
           {
            "bin_start": 0.6000000000000001,
            "bin_end": 0.8,
            "count": 0
           },
           {
            "bin_start": 0.8,
            "bin_end": 1,
            "count": 0
           },
           {
            "bin_start": 1,
            "bin_end": 1.2000000000000002,
            "count": 27
           },
           {
            "bin_start": 1.2000000000000002,
            "bin_end": 1.4000000000000001,
            "count": 0
           },
           {
            "bin_start": 1.4000000000000001,
            "bin_end": 1.6,
            "count": 0
           },
           {
            "bin_start": 1.6,
            "bin_end": 1.8,
            "count": 0
           },
           {
            "bin_start": 1.8,
            "bin_end": 2,
            "count": 10
           }
          ]
         }
        },
        {
         "name": "accessabilityFailure",
         "dtype": "float64",
         "stats": {
          "unique_count": 5,
          "nan_count": 2999,
          "min": "0.0",
          "max": "4.0",
          "histogram": [
           {
            "bin_start": 0,
            "bin_end": 0.4,
            "count": 9
           },
           {
            "bin_start": 0.4,
            "bin_end": 0.8,
            "count": 0
           },
           {
            "bin_start": 0.8,
            "bin_end": 1.2000000000000002,
            "count": 9
           },
           {
            "bin_start": 1.2000000000000002,
            "bin_end": 1.6,
            "count": 0
           },
           {
            "bin_start": 1.6,
            "bin_end": 2,
            "count": 0
           },
           {
            "bin_start": 2,
            "bin_end": 2.4000000000000004,
            "count": 5
           },
           {
            "bin_start": 2.4000000000000004,
            "bin_end": 2.8000000000000003,
            "count": 0
           },
           {
            "bin_start": 2.8000000000000003,
            "bin_end": 3.2,
            "count": 4
           },
           {
            "bin_start": 3.2,
            "bin_end": 3.6,
            "count": 0
           },
           {
            "bin_start": 3.6,
            "bin_end": 4,
            "count": 17
           }
          ]
         }
        },
        {
         "name": "condition",
         "dtype": "float64",
         "stats": {
          "unique_count": 3,
          "nan_count": 2999,
          "min": "0.0",
          "max": "2.0",
          "histogram": [
           {
            "bin_start": 0,
            "bin_end": 0.2,
            "count": 23
           },
           {
            "bin_start": 0.2,
            "bin_end": 0.4,
            "count": 0
           },
           {
            "bin_start": 0.4,
            "bin_end": 0.6000000000000001,
            "count": 0
           },
           {
            "bin_start": 0.6000000000000001,
            "bin_end": 0.8,
            "count": 0
           },
           {
            "bin_start": 0.8,
            "bin_end": 1,
            "count": 0
           },
           {
            "bin_start": 1,
            "bin_end": 1.2000000000000002,
            "count": 12
           },
           {
            "bin_start": 1.2000000000000002,
            "bin_end": 1.4000000000000001,
            "count": 0
           },
           {
            "bin_start": 1.4000000000000001,
            "bin_end": 1.6,
            "count": 0
           },
           {
            "bin_start": 1.6,
            "bin_end": 1.8,
            "count": 0
           },
           {
            "bin_start": 1.8,
            "bin_end": 2,
            "count": 9
           }
          ]
         }
        },
        {
         "name": "impact",
         "dtype": "float64",
         "stats": {
          "unique_count": 3,
          "nan_count": 2987,
          "min": "0.0",
          "max": "2.0",
          "histogram": [
           {
            "bin_start": 0,
            "bin_end": 0.2,
            "count": 18
           },
           {
            "bin_start": 0.2,
            "bin_end": 0.4,
            "count": 0
           },
           {
            "bin_start": 0.4,
            "bin_end": 0.6000000000000001,
            "count": 0
           },
           {
            "bin_start": 0.6000000000000001,
            "bin_end": 0.8,
            "count": 0
           },
           {
            "bin_start": 0.8,
            "bin_end": 1,
            "count": 0
           },
           {
            "bin_start": 1,
            "bin_end": 1.2000000000000002,
            "count": 29
           },
           {
            "bin_start": 1.2000000000000002,
            "bin_end": 1.4000000000000001,
            "count": 0
           },
           {
            "bin_start": 1.4000000000000001,
            "bin_end": 1.6,
            "count": 0
           },
           {
            "bin_start": 1.6,
            "bin_end": 1.8,
            "count": 0
           },
           {
            "bin_start": 1.8,
            "bin_end": 2,
            "count": 9
           }
          ]
         }
        },
        {
         "name": "fireDistance",
         "dtype": "float64",
         "stats": {
          "unique_count": 12,
          "nan_count": 3031,
          "min": "21.340776",
          "max": "261.204693",
          "histogram": [
           {
            "bin_start": 21.340776,
            "bin_end": 45.327167700000004,
            "count": 1
           },
           {
            "bin_start": 45.327167700000004,
            "bin_end": 69.3135594,
            "count": 2
           },
           {
            "bin_start": 69.3135594,
            "bin_end": 93.29995110000002,
            "count": 0
           },
           {
            "bin_start": 93.29995110000002,
            "bin_end": 117.28634280000001,
            "count": 0
           },
           {
            "bin_start": 117.28634280000001,
            "bin_end": 141.2727345,
            "count": 2
           },
           {
            "bin_start": 141.2727345,
            "bin_end": 165.25912620000003,
            "count": 1
           },
           {
            "bin_start": 165.25912620000003,
            "bin_end": 189.2455179,
            "count": 3
           },
           {
            "bin_start": 189.2455179,
            "bin_end": 213.23190960000002,
            "count": 2
           },
           {
            "bin_start": 213.23190960000002,
            "bin_end": 237.21830130000004,
            "count": 0
           },
           {
            "bin_start": 237.21830130000004,
            "bin_end": 261.204693,
            "count": 1
           }
          ]
         }
        },
        {
         "name": "fireLocation",
         "dtype": "object",
         "stats": {
          "unique_count": 3043,
          "nan_count": 3031,
          "categories": [
           {
            "name": "{'lat': -6.908612, 'lng': 107.795641}",
            "count": 1
           },
           {
            "name": "11 others",
            "count": 11
           },
           {
            "name": "Missing",
            "count": 3031
           }
          ]
         }
        },
        {
         "name": "personLocation",
         "dtype": "object",
         "stats": {
          "unique_count": 3043,
          "nan_count": 3031,
          "categories": [
           {
            "name": "{'lat': -6.91504, 'lng': 107.699729}",
            "count": 1
           },
           {
            "name": "11 others",
            "count": 11
           },
           {
            "name": "Missing",
            "count": 3031
           }
          ]
         }
        },
        {
         "name": "fireRadius",
         "dtype": "object",
         "stats": {
          "unique_count": 3043,
          "nan_count": 3031,
          "categories": [
           {
            "name": "{'lat': -6.908621, 'lng': 107.795448}",
            "count": 1
           },
           {
            "name": "11 others",
            "count": 11
           },
           {
            "name": "Missing",
            "count": 3031
           }
          ]
         }
        },
        {
         "name": "volcanicSigns",
         "dtype": "object",
         "stats": {
          "unique_count": 3043,
          "nan_count": 3026,
          "categories": [
           {
            "name": "[4]",
            "count": 11
           },
           {
            "name": "5 others",
            "count": 6
           },
           {
            "name": "Missing",
            "count": 3026
           }
          ]
         }
        },
        {
         "name": "evacuationNumber",
         "dtype": "float64",
         "stats": {
          "unique_count": 3,
          "nan_count": 3026,
          "min": "1.0",
          "max": "3.0",
          "histogram": [
           {
            "bin_start": 1,
            "bin_end": 1.2,
            "count": 5
           },
           {
            "bin_start": 1.2,
            "bin_end": 1.4,
            "count": 0
           },
           {
            "bin_start": 1.4,
            "bin_end": 1.6,
            "count": 0
           },
           {
            "bin_start": 1.6,
            "bin_end": 1.8,
            "count": 0
           },
           {
            "bin_start": 1.8,
            "bin_end": 2,
            "count": 0
           },
           {
            "bin_start": 2,
            "bin_end": 2.2,
            "count": 7
           },
           {
            "bin_start": 2.2,
            "bin_end": 2.4000000000000004,
            "count": 0
           },
           {
            "bin_start": 2.4000000000000004,
            "bin_end": 2.6,
            "count": 0
           },
           {
            "bin_start": 2.6,
            "bin_end": 2.8,
            "count": 0
           },
           {
            "bin_start": 2.8,
            "bin_end": 3,
            "count": 5
           }
          ]
         }
        },
        {
         "name": "evacuationArea",
         "dtype": "object",
         "stats": {
          "unique_count": 2,
          "nan_count": 3026,
          "categories": [
           {
            "name": "True",
            "count": 15
           },
           {
            "name": "False",
            "count": 2
           },
           {
            "name": "Missing",
            "count": 3026
           }
          ]
         }
        },
        {
         "name": "visibility",
         "dtype": "float64",
         "stats": {
          "unique_count": 1,
          "nan_count": 3041,
          "min": "0.0",
          "max": "0.0",
          "histogram": [
           {
            "bin_start": -0.5,
            "bin_end": -0.4,
            "count": 0
           },
           {
            "bin_start": -0.4,
            "bin_end": -0.3,
            "count": 0
           },
           {
            "bin_start": -0.3,
            "bin_end": -0.19999999999999996,
            "count": 0
           },
           {
            "bin_start": -0.19999999999999996,
            "bin_end": -0.09999999999999998,
            "count": 0
           },
           {
            "bin_start": -0.09999999999999998,
            "bin_end": 0,
            "count": 0
           },
           {
            "bin_start": 0,
            "bin_end": 0.10000000000000009,
            "count": 2
           },
           {
            "bin_start": 0.10000000000000009,
            "bin_end": 0.20000000000000007,
            "count": 0
           },
           {
            "bin_start": 0.20000000000000007,
            "bin_end": 0.30000000000000004,
            "count": 0
           },
           {
            "bin_start": 0.30000000000000004,
            "bin_end": 0.4,
            "count": 0
           },
           {
            "bin_start": 0.4,
            "bin_end": 0.5,
            "count": 0
           }
          ]
         }
        },
        {
         "name": "airQuality",
         "dtype": "float64",
         "stats": {
          "unique_count": 1,
          "nan_count": 3041,
          "min": "1.0",
          "max": "1.0",
          "histogram": [
           {
            "bin_start": 0.5,
            "bin_end": 0.6,
            "count": 0
           },
           {
            "bin_start": 0.6,
            "bin_end": 0.7,
            "count": 0
           },
           {
            "bin_start": 0.7,
            "bin_end": 0.8,
            "count": 0
           },
           {
            "bin_start": 0.8,
            "bin_end": 0.9,
            "count": 0
           },
           {
            "bin_start": 0.9,
            "bin_end": 1,
            "count": 0
           },
           {
            "bin_start": 1,
            "bin_end": 1.1,
            "count": 2
           },
           {
            "bin_start": 1.1,
            "bin_end": 1.2000000000000002,
            "count": 0
           },
           {
            "bin_start": 1.2000000000000002,
            "bin_end": 1.3,
            "count": 0
           },
           {
            "bin_start": 1.3,
            "bin_end": 1.4,
            "count": 0
           },
           {
            "bin_start": 1.4,
            "bin_end": 1.5,
            "count": 0
           }
          ]
         }
        },
        {
         "name": "_deepnote_index_column",
         "dtype": "int64"
        }
       ],
       "rows": [
        {
         "report_type": "flood",
         "flood_depth": 30,
         "points": "nan",
         "structureFailure": "nan",
         "accessabilityFailure": "nan",
         "condition": "nan",
         "impact": "nan",
         "fireDistance": "nan",
         "fireLocation": "nan",
         "personLocation": "nan",
         "fireRadius": "nan",
         "volcanicSigns": "nan",
         "evacuationNumber": "nan",
         "evacuationArea": "nan",
         "visibility": "nan",
         "airQuality": "nan",
         "_deepnote_index_column": 0
        },
        {
         "report_type": "flood",
         "flood_depth": 80,
         "points": 1,
         "structureFailure": "nan",
         "accessabilityFailure": "nan",
         "condition": "nan",
         "impact": "nan",
         "fireDistance": "nan",
         "fireLocation": "nan",
         "personLocation": "nan",
         "fireRadius": "nan",
         "volcanicSigns": "nan",
         "evacuationNumber": "nan",
         "evacuationArea": "nan",
         "visibility": "nan",
         "airQuality": "nan",
         "_deepnote_index_column": 1
        },
        {
         "report_type": "flood",
         "flood_depth": 51,
         "points": 1,
         "structureFailure": "nan",
         "accessabilityFailure": "nan",
         "condition": "nan",
         "impact": "nan",
         "fireDistance": "nan",
         "fireLocation": "nan",
         "personLocation": "nan",
         "fireRadius": "nan",
         "volcanicSigns": "nan",
         "evacuationNumber": "nan",
         "evacuationArea": "nan",
         "visibility": "nan",
         "airQuality": "nan",
         "_deepnote_index_column": 2
        },
        {
         "report_type": "flood",
         "flood_depth": 100,
         "points": 2,
         "structureFailure": "nan",
         "accessabilityFailure": "nan",
         "condition": "nan",
         "impact": "nan",
         "fireDistance": "nan",
         "fireLocation": "nan",
         "personLocation": "nan",
         "fireRadius": "nan",
         "volcanicSigns": "nan",
         "evacuationNumber": "nan",
         "evacuationArea": "nan",
         "visibility": "nan",
         "airQuality": "nan",
         "_deepnote_index_column": 3
        },
        {
         "report_type": "flood",
         "flood_depth": 60,
         "points": "nan",
         "structureFailure": "nan",
         "accessabilityFailure": "nan",
         "condition": "nan",
         "impact": "nan",
         "fireDistance": "nan",
         "fireLocation": "nan",
         "personLocation": "nan",
         "fireRadius": "nan",
         "volcanicSigns": "nan",
         "evacuationNumber": "nan",
         "evacuationArea": "nan",
         "visibility": "nan",
         "airQuality": "nan",
         "_deepnote_index_column": 4
        },
        {
         "report_type": "flood",
         "flood_depth": 39,
         "points": "nan",
         "structureFailure": "nan",
         "accessabilityFailure": "nan",
         "condition": "nan",
         "impact": "nan",
         "fireDistance": "nan",
         "fireLocation": "nan",
         "personLocation": "nan",
         "fireRadius": "nan",
         "volcanicSigns": "nan",
         "evacuationNumber": "nan",
         "evacuationArea": "nan",
         "visibility": "nan",
         "airQuality": "nan",
         "_deepnote_index_column": 5
        },
        {
         "report_type": "flood",
         "flood_depth": 79,
         "points": "nan",
         "structureFailure": "nan",
         "accessabilityFailure": "nan",
         "condition": "nan",
         "impact": "nan",
         "fireDistance": "nan",
         "fireLocation": "nan",
         "personLocation": "nan",
         "fireRadius": "nan",
         "volcanicSigns": "nan",
         "evacuationNumber": "nan",
         "evacuationArea": "nan",
         "visibility": "nan",
         "airQuality": "nan",
         "_deepnote_index_column": 6
        },
        {
         "report_type": "flood",
         "flood_depth": 116,
         "points": "nan",
         "structureFailure": "nan",
         "accessabilityFailure": "nan",
         "condition": "nan",
         "impact": "nan",
         "fireDistance": "nan",
         "fireLocation": "nan",
         "personLocation": "nan",
         "fireRadius": "nan",
         "volcanicSigns": "nan",
         "evacuationNumber": "nan",
         "evacuationArea": "nan",
         "visibility": "nan",
         "airQuality": "nan",
         "_deepnote_index_column": 7
        },
        {
         "report_type": "flood",
         "flood_depth": 60,
         "points": "nan",
         "structureFailure": "nan",
         "accessabilityFailure": "nan",
         "condition": "nan",
         "impact": "nan",
         "fireDistance": "nan",
         "fireLocation": "nan",
         "personLocation": "nan",
         "fireRadius": "nan",
         "volcanicSigns": "nan",
         "evacuationNumber": "nan",
         "evacuationArea": "nan",
         "visibility": "nan",
         "airQuality": "nan",
         "_deepnote_index_column": 8
        },
        {
         "report_type": "nan",
         "flood_depth": "nan",
         "points": 1,
         "structureFailure": "nan",
         "accessabilityFailure": "nan",
         "condition": "nan",
         "impact": "nan",
         "fireDistance": "nan",
         "fireLocation": "nan",
         "personLocation": "nan",
         "fireRadius": "nan",
         "volcanicSigns": "nan",
         "evacuationNumber": "nan",
         "evacuationArea": "nan",
         "visibility": "nan",
         "airQuality": "nan",
         "_deepnote_index_column": 9
        }
       ]
      },
      "text/plain": "     report_type  flood_depth  points  structureFailure  accessabilityFailure  \\\n0          flood         30.0     NaN               NaN                   NaN   \n1          flood         80.0     1.0               NaN                   NaN   \n2          flood         51.0     1.0               NaN                   NaN   \n3          flood        100.0     2.0               NaN                   NaN   \n4          flood         60.0     NaN               NaN                   NaN   \n...          ...          ...     ...               ...                   ...   \n3038       flood         68.0     1.0               NaN                   NaN   \n3039       flood        103.0     NaN               NaN                   NaN   \n3040       flood         54.0     NaN               NaN                   NaN   \n3041       flood         19.0     NaN               NaN                   NaN   \n3042       flood         22.0     NaN               NaN                   NaN   \n\n      condition  impact  fireDistance fireLocation personLocation fireRadius  \\\n0           NaN     NaN           NaN          NaN            NaN        NaN   \n1           NaN     NaN           NaN          NaN            NaN        NaN   \n2           NaN     NaN           NaN          NaN            NaN        NaN   \n3           NaN     NaN           NaN          NaN            NaN        NaN   \n4           NaN     NaN           NaN          NaN            NaN        NaN   \n...         ...     ...           ...          ...            ...        ...   \n3038        NaN     NaN           NaN          NaN            NaN        NaN   \n3039        NaN     NaN           NaN          NaN            NaN        NaN   \n3040        NaN     NaN           NaN          NaN            NaN        NaN   \n3041        NaN     NaN           NaN          NaN            NaN        NaN   \n3042        NaN     NaN           NaN          NaN            NaN        NaN   \n\n     volcanicSigns  evacuationNumber evacuationArea  visibility  airQuality  \n0              NaN               NaN            NaN         NaN         NaN  \n1              NaN               NaN            NaN         NaN         NaN  \n2              NaN               NaN            NaN         NaN         NaN  \n3              NaN               NaN            NaN         NaN         NaN  \n4              NaN               NaN            NaN         NaN         NaN  \n...            ...               ...            ...         ...         ...  \n3038           NaN               NaN            NaN         NaN         NaN  \n3039           NaN               NaN            NaN         NaN         NaN  \n3040           NaN               NaN            NaN         NaN         NaN  \n3041           NaN               NaN            NaN         NaN         NaN  \n3042           NaN               NaN            NaN         NaN         NaN  \n\n[3043 rows x 16 columns]",
      "text/html": "<div>\n<style scoped>\n    .dataframe tbody tr th:only-of-type {\n        vertical-align: middle;\n    }\n\n    .dataframe tbody tr th {\n        vertical-align: top;\n    }\n\n    .dataframe thead th {\n        text-align: right;\n    }\n</style>\n<table border=\"1\" class=\"dataframe\">\n  <thead>\n    <tr style=\"text-align: right;\">\n      <th></th>\n      <th>report_type</th>\n      <th>flood_depth</th>\n      <th>points</th>\n      <th>structureFailure</th>\n      <th>accessabilityFailure</th>\n      <th>condition</th>\n      <th>impact</th>\n      <th>fireDistance</th>\n      <th>fireLocation</th>\n      <th>personLocation</th>\n      <th>fireRadius</th>\n      <th>volcanicSigns</th>\n      <th>evacuationNumber</th>\n      <th>evacuationArea</th>\n      <th>visibility</th>\n      <th>airQuality</th>\n    </tr>\n  </thead>\n  <tbody>\n    <tr>\n      <th>0</th>\n      <td>flood</td>\n      <td>30.0</td>\n      <td>NaN</td>\n      <td>NaN</td>\n      <td>NaN</td>\n      <td>NaN</td>\n      <td>NaN</td>\n      <td>NaN</td>\n      <td>NaN</td>\n      <td>NaN</td>\n      <td>NaN</td>\n      <td>NaN</td>\n      <td>NaN</td>\n      <td>NaN</td>\n      <td>NaN</td>\n      <td>NaN</td>\n    </tr>\n    <tr>\n      <th>1</th>\n      <td>flood</td>\n      <td>80.0</td>\n      <td>1.0</td>\n      <td>NaN</td>\n      <td>NaN</td>\n      <td>NaN</td>\n      <td>NaN</td>\n      <td>NaN</td>\n      <td>NaN</td>\n      <td>NaN</td>\n      <td>NaN</td>\n      <td>NaN</td>\n      <td>NaN</td>\n      <td>NaN</td>\n      <td>NaN</td>\n      <td>NaN</td>\n    </tr>\n    <tr>\n      <th>2</th>\n      <td>flood</td>\n      <td>51.0</td>\n      <td>1.0</td>\n      <td>NaN</td>\n      <td>NaN</td>\n      <td>NaN</td>\n      <td>NaN</td>\n      <td>NaN</td>\n      <td>NaN</td>\n      <td>NaN</td>\n      <td>NaN</td>\n      <td>NaN</td>\n      <td>NaN</td>\n      <td>NaN</td>\n      <td>NaN</td>\n      <td>NaN</td>\n    </tr>\n    <tr>\n      <th>3</th>\n      <td>flood</td>\n      <td>100.0</td>\n      <td>2.0</td>\n      <td>NaN</td>\n      <td>NaN</td>\n      <td>NaN</td>\n      <td>NaN</td>\n      <td>NaN</td>\n      <td>NaN</td>\n      <td>NaN</td>\n      <td>NaN</td>\n      <td>NaN</td>\n      <td>NaN</td>\n      <td>NaN</td>\n      <td>NaN</td>\n      <td>NaN</td>\n    </tr>\n    <tr>\n      <th>4</th>\n      <td>flood</td>\n      <td>60.0</td>\n      <td>NaN</td>\n      <td>NaN</td>\n      <td>NaN</td>\n      <td>NaN</td>\n      <td>NaN</td>\n      <td>NaN</td>\n      <td>NaN</td>\n      <td>NaN</td>\n      <td>NaN</td>\n      <td>NaN</td>\n      <td>NaN</td>\n      <td>NaN</td>\n      <td>NaN</td>\n      <td>NaN</td>\n    </tr>\n    <tr>\n      <th>...</th>\n      <td>...</td>\n      <td>...</td>\n      <td>...</td>\n      <td>...</td>\n      <td>...</td>\n      <td>...</td>\n      <td>...</td>\n      <td>...</td>\n      <td>...</td>\n      <td>...</td>\n      <td>...</td>\n      <td>...</td>\n      <td>...</td>\n      <td>...</td>\n      <td>...</td>\n      <td>...</td>\n    </tr>\n    <tr>\n      <th>3038</th>\n      <td>flood</td>\n      <td>68.0</td>\n      <td>1.0</td>\n      <td>NaN</td>\n      <td>NaN</td>\n      <td>NaN</td>\n      <td>NaN</td>\n      <td>NaN</td>\n      <td>NaN</td>\n      <td>NaN</td>\n      <td>NaN</td>\n      <td>NaN</td>\n      <td>NaN</td>\n      <td>NaN</td>\n      <td>NaN</td>\n      <td>NaN</td>\n    </tr>\n    <tr>\n      <th>3039</th>\n      <td>flood</td>\n      <td>103.0</td>\n      <td>NaN</td>\n      <td>NaN</td>\n      <td>NaN</td>\n      <td>NaN</td>\n      <td>NaN</td>\n      <td>NaN</td>\n      <td>NaN</td>\n      <td>NaN</td>\n      <td>NaN</td>\n      <td>NaN</td>\n      <td>NaN</td>\n      <td>NaN</td>\n      <td>NaN</td>\n      <td>NaN</td>\n    </tr>\n    <tr>\n      <th>3040</th>\n      <td>flood</td>\n      <td>54.0</td>\n      <td>NaN</td>\n      <td>NaN</td>\n      <td>NaN</td>\n      <td>NaN</td>\n      <td>NaN</td>\n      <td>NaN</td>\n      <td>NaN</td>\n      <td>NaN</td>\n      <td>NaN</td>\n      <td>NaN</td>\n      <td>NaN</td>\n      <td>NaN</td>\n      <td>NaN</td>\n      <td>NaN</td>\n    </tr>\n    <tr>\n      <th>3041</th>\n      <td>flood</td>\n      <td>19.0</td>\n      <td>NaN</td>\n      <td>NaN</td>\n      <td>NaN</td>\n      <td>NaN</td>\n      <td>NaN</td>\n      <td>NaN</td>\n      <td>NaN</td>\n      <td>NaN</td>\n      <td>NaN</td>\n      <td>NaN</td>\n      <td>NaN</td>\n      <td>NaN</td>\n      <td>NaN</td>\n      <td>NaN</td>\n    </tr>\n    <tr>\n      <th>3042</th>\n      <td>flood</td>\n      <td>22.0</td>\n      <td>NaN</td>\n      <td>NaN</td>\n      <td>NaN</td>\n      <td>NaN</td>\n      <td>NaN</td>\n      <td>NaN</td>\n      <td>NaN</td>\n      <td>NaN</td>\n      <td>NaN</td>\n      <td>NaN</td>\n      <td>NaN</td>\n      <td>NaN</td>\n      <td>NaN</td>\n      <td>NaN</td>\n    </tr>\n  </tbody>\n</table>\n<p>3043 rows × 16 columns</p>\n</div>"
     },
     "metadata": {}
    }
   ]
  },
  {
   "cell_type": "code",
   "metadata": {
    "cell_id": "a3c2ada478244624bf5612843385d7bf",
    "tags": [],
    "deepnote_to_be_reexecuted": false,
    "source_hash": "73c0a381",
    "execution_start": 1661016279482,
    "execution_millis": 21,
    "deepnote_cell_type": "code",
    "deepnote_cell_height": 613
   },
   "source": "y = y[['report_type', 'flood_depth']]\ny",
   "execution_count": 8,
   "outputs": [
    {
     "output_type": "execute_result",
     "execution_count": 8,
     "data": {
      "application/vnd.deepnote.dataframe.v3+json": {
       "column_count": 2,
       "row_count": 3043,
       "columns": [
        {
         "name": "report_type",
         "dtype": "object",
         "stats": {
          "unique_count": 7,
          "nan_count": 73,
          "categories": [
           {
            "name": "flood",
            "count": 2774
           },
           {
            "name": "6 others",
            "count": 196
           },
           {
            "name": "Missing",
            "count": 73
           }
          ]
         }
        },
        {
         "name": "flood_depth",
         "dtype": "float64",
         "stats": {
          "unique_count": 185,
          "nan_count": 269,
          "min": "0.0",
          "max": "200.0",
          "histogram": [
           {
            "bin_start": 0,
            "bin_end": 20,
            "count": 176
           },
           {
            "bin_start": 20,
            "bin_end": 40,
            "count": 645
           },
           {
            "bin_start": 40,
            "bin_end": 60,
            "count": 917
           },
           {
            "bin_start": 60,
            "bin_end": 80,
            "count": 390
           },
           {
            "bin_start": 80,
            "bin_end": 100,
            "count": 255
           },
           {
            "bin_start": 100,
            "bin_end": 120,
            "count": 146
           },
           {
            "bin_start": 120,
            "bin_end": 140,
            "count": 92
           },
           {
            "bin_start": 140,
            "bin_end": 160,
            "count": 59
           },
           {
            "bin_start": 160,
            "bin_end": 180,
            "count": 20
           },
           {
            "bin_start": 180,
            "bin_end": 200,
            "count": 74
           }
          ]
         }
        },
        {
         "name": "_deepnote_index_column",
         "dtype": "int64"
        }
       ],
       "rows": [
        {
         "report_type": "flood",
         "flood_depth": 30,
         "_deepnote_index_column": 0
        },
        {
         "report_type": "flood",
         "flood_depth": 80,
         "_deepnote_index_column": 1
        },
        {
         "report_type": "flood",
         "flood_depth": 51,
         "_deepnote_index_column": 2
        },
        {
         "report_type": "flood",
         "flood_depth": 100,
         "_deepnote_index_column": 3
        },
        {
         "report_type": "flood",
         "flood_depth": 60,
         "_deepnote_index_column": 4
        },
        {
         "report_type": "flood",
         "flood_depth": 39,
         "_deepnote_index_column": 5
        },
        {
         "report_type": "flood",
         "flood_depth": 79,
         "_deepnote_index_column": 6
        },
        {
         "report_type": "flood",
         "flood_depth": 116,
         "_deepnote_index_column": 7
        },
        {
         "report_type": "flood",
         "flood_depth": 60,
         "_deepnote_index_column": 8
        },
        {
         "report_type": "nan",
         "flood_depth": "nan",
         "_deepnote_index_column": 9
        }
       ]
      },
      "text/plain": "     report_type  flood_depth\n0          flood         30.0\n1          flood         80.0\n2          flood         51.0\n3          flood        100.0\n4          flood         60.0\n...          ...          ...\n3038       flood         68.0\n3039       flood        103.0\n3040       flood         54.0\n3041       flood         19.0\n3042       flood         22.0\n\n[3043 rows x 2 columns]",
      "text/html": "<div>\n<style scoped>\n    .dataframe tbody tr th:only-of-type {\n        vertical-align: middle;\n    }\n\n    .dataframe tbody tr th {\n        vertical-align: top;\n    }\n\n    .dataframe thead th {\n        text-align: right;\n    }\n</style>\n<table border=\"1\" class=\"dataframe\">\n  <thead>\n    <tr style=\"text-align: right;\">\n      <th></th>\n      <th>report_type</th>\n      <th>flood_depth</th>\n    </tr>\n  </thead>\n  <tbody>\n    <tr>\n      <th>0</th>\n      <td>flood</td>\n      <td>30.0</td>\n    </tr>\n    <tr>\n      <th>1</th>\n      <td>flood</td>\n      <td>80.0</td>\n    </tr>\n    <tr>\n      <th>2</th>\n      <td>flood</td>\n      <td>51.0</td>\n    </tr>\n    <tr>\n      <th>3</th>\n      <td>flood</td>\n      <td>100.0</td>\n    </tr>\n    <tr>\n      <th>4</th>\n      <td>flood</td>\n      <td>60.0</td>\n    </tr>\n    <tr>\n      <th>...</th>\n      <td>...</td>\n      <td>...</td>\n    </tr>\n    <tr>\n      <th>3038</th>\n      <td>flood</td>\n      <td>68.0</td>\n    </tr>\n    <tr>\n      <th>3039</th>\n      <td>flood</td>\n      <td>103.0</td>\n    </tr>\n    <tr>\n      <th>3040</th>\n      <td>flood</td>\n      <td>54.0</td>\n    </tr>\n    <tr>\n      <th>3041</th>\n      <td>flood</td>\n      <td>19.0</td>\n    </tr>\n    <tr>\n      <th>3042</th>\n      <td>flood</td>\n      <td>22.0</td>\n    </tr>\n  </tbody>\n</table>\n<p>3043 rows × 2 columns</p>\n</div>"
     },
     "metadata": {}
    }
   ]
  },
  {
   "cell_type": "code",
   "metadata": {
    "cell_id": "9980abf4a210459090d0b678491a4b91",
    "tags": [],
    "deepnote_to_be_reexecuted": false,
    "source_hash": "ee4a773a",
    "execution_start": 1661016279536,
    "execution_millis": 93,
    "deepnote_cell_type": "code",
    "deepnote_cell_height": 630
   },
   "source": "z = pd.concat([df, y], axis=1, join='inner')\nz",
   "execution_count": 9,
   "outputs": [
    {
     "output_type": "execute_result",
     "execution_count": 9,
     "data": {
      "application/vnd.deepnote.dataframe.v3+json": {
       "column_count": 16,
       "row_count": 3043,
       "columns": [
        {
         "name": "date",
         "dtype": "object",
         "stats": {
          "unique_count": 377,
          "nan_count": 0,
          "categories": [
           {
            "name": "25/02/2020",
            "count": 319
           },
           {
            "name": "24/02/2020",
            "count": 292
           },
           {
            "name": "375 others",
            "count": 2432
           }
          ]
         }
        },
        {
         "name": "time",
         "dtype": "object",
         "stats": {
          "unique_count": 1867,
          "nan_count": 0,
          "categories": [
           {
            "name": "1",
            "count": 566
           },
           {
            "name": "0",
            "count": 556
           },
           {
            "name": "1865 others",
            "count": 1921
           }
          ]
         }
        },
        {
         "name": "source",
         "dtype": "object",
         "stats": {
          "unique_count": 3,
          "nan_count": 0,
          "categories": [
           {
            "name": "grasp",
            "count": 2970
           },
           {
            "name": "qlue",
            "count": 43
           },
           {
            "name": "detik",
            "count": 30
           }
          ]
         }
        },
        {
         "name": "status",
         "dtype": "object",
         "stats": {
          "unique_count": 1,
          "nan_count": 0,
          "categories": [
           {
            "name": "confirmed",
            "count": 3043
           }
          ]
         }
        },
        {
         "name": "disaster_type",
         "dtype": "object",
         "stats": {
          "unique_count": 6,
          "nan_count": 0,
          "categories": [
           {
            "name": "flood",
            "count": 2847
           },
           {
            "name": "earthquake",
            "count": 109
           },
           {
            "name": "4 others",
            "count": 87
           }
          ]
         }
        },
        {
         "name": "report_dat",
         "dtype": "object",
         "stats": {
          "unique_count": 539,
          "nan_count": 0,
          "categories": [
           {
            "name": "{ \"report_type\": \"flood\", \"flood_depth\": 44 }",
            "count": 171
           },
           {
            "name": "{ \"report_type\": \"flood\", \"flood_depth\": 50 }",
            "count": 116
           },
           {
            "name": "537 others",
            "count": 2756
           }
          ]
         }
        },
        {
         "name": "tags",
         "dtype": "object",
         "stats": {
          "unique_count": 754,
          "nan_count": 0,
          "categories": [
           {
            "name": "{ \"district_id\": null, \"local_area_id\": null, \"instance_region_code\": \"ID-JB\" }",
            "count": 512
           },
           {
            "name": "{ \"district_id\": null, \"local_area_id\": null, \"instance_region_code\": \"ID-KS\" }",
            "count": 144
           },
           {
            "name": "752 others",
            "count": 2387
           }
          ]
         }
        },
        {
         "name": "text",
         "dtype": "object",
         "stats": {
          "unique_count": 2918,
          "nan_count": 0,
          "categories": [
           {
            "name": "Banjir",
            "count": 55
           },
           {
            "name": "banjir",
            "count": 14
           },
           {
            "name": "2916 others",
            "count": 2974
           }
          ]
         }
        },
        {
         "name": "Desa",
         "dtype": "object",
         "stats": {
          "unique_count": 1090,
          "nan_count": 0,
          "categories": [
           {
            "name": "Duri Kepa",
            "count": 56
           },
           {
            "name": "Rawa Buaya",
            "count": 46
           },
           {
            "name": "1088 others",
            "count": 2941
           }
          ]
         }
        },
        {
         "name": "Kecamatan",
         "dtype": "object",
         "stats": {
          "unique_count": 608,
          "nan_count": 0,
          "categories": [
           {
            "name": "Kelapa Gading",
            "count": 108
           },
           {
            "name": "Cakung",
            "count": 93
           },
           {
            "name": "606 others",
            "count": 2842
           }
          ]
         }
        },
        {
         "name": "Kabupaten",
         "dtype": "object",
         "stats": {
          "unique_count": 205,
          "nan_count": 0,
          "categories": [
           {
            "name": "Jakarta Timur",
            "count": 404
           },
           {
            "name": "Bekasi",
            "count": 382
           },
           {
            "name": "203 others",
            "count": 2257
           }
          ]
         }
        },
        {
         "name": "Provinsi",
         "dtype": "object",
         "stats": {
          "unique_count": 34,
          "nan_count": 0,
          "categories": [
           {
            "name": "Daerah Khusus Ibukota Jakarta",
            "count": 1457
           },
           {
            "name": "Jawa Barat",
            "count": 584
           },
           {
            "name": "32 others",
            "count": 1002
           }
          ]
         }
        },
        {
         "name": "long",
         "dtype": "float64",
         "stats": {
          "unique_count": 2881,
          "nan_count": 0,
          "min": "95.31473",
          "max": "136.37668",
          "histogram": [
           {
            "bin_start": 95.31473,
            "bin_end": 99.420925,
            "count": 38
           },
           {
            "bin_start": 99.420925,
            "bin_end": 103.52712,
            "count": 28
           },
           {
            "bin_start": 103.52712,
            "bin_end": 107.633315,
            "count": 2164
           },
           {
            "bin_start": 107.633315,
            "bin_end": 111.73951,
            "count": 263
           },
           {
            "bin_start": 111.73951,
            "bin_end": 115.845705,
            "count": 367
           },
           {
            "bin_start": 115.845705,
            "bin_end": 119.9519,
            "count": 111
           },
           {
            "bin_start": 119.9519,
            "bin_end": 124.058095,
            "count": 52
           },
           {
            "bin_start": 124.058095,
            "bin_end": 128.16429,
            "count": 9
           },
           {
            "bin_start": 128.16429,
            "bin_end": 132.270485,
            "count": 6
           },
           {
            "bin_start": 132.270485,
            "bin_end": 136.37668,
            "count": 5
           }
          ]
         }
        },
        {
         "name": "lat",
         "dtype": "float64",
         "stats": {
          "unique_count": 2838,
          "nan_count": 0,
          "min": "-10.20517",
          "max": "5.883711",
          "histogram": [
           {
            "bin_start": -10.20517,
            "bin_end": -8.596281900000001,
            "count": 24
           },
           {
            "bin_start": -8.596281900000001,
            "bin_end": -6.9873938,
            "count": 304
           },
           {
            "bin_start": -6.9873938,
            "bin_end": -5.3785057,
            "count": 2285
           },
           {
            "bin_start": -5.3785057,
            "bin_end": -3.7696176,
            "count": 34
           },
           {
            "bin_start": -3.7696176,
            "bin_end": -2.1607295000000004,
            "count": 186
           },
           {
            "bin_start": -2.1607295000000004,
            "bin_end": -0.5518413999999989,
            "count": 55
           },
           {
            "bin_start": -0.5518413999999989,
            "bin_end": 1.0570467000000008,
            "count": 96
           },
           {
            "bin_start": 1.0570467000000008,
            "bin_end": 2.6659348000000005,
            "count": 23
           },
           {
            "bin_start": 2.6659348000000005,
            "bin_end": 4.2748229,
            "count": 20
           },
           {
            "bin_start": 4.2748229,
            "bin_end": 5.883711,
            "count": 16
           }
          ]
         }
        },
        {
         "name": "report_type",
         "dtype": "object",
         "stats": {
          "unique_count": 7,
          "nan_count": 73,
          "categories": [
           {
            "name": "flood",
            "count": 2774
           },
           {
            "name": "6 others",
            "count": 196
           },
           {
            "name": "Missing",
            "count": 73
           }
          ]
         }
        },
        {
         "name": "flood_depth",
         "dtype": "float64",
         "stats": {
          "unique_count": 185,
          "nan_count": 269,
          "min": "0.0",
          "max": "200.0",
          "histogram": [
           {
            "bin_start": 0,
            "bin_end": 20,
            "count": 176
           },
           {
            "bin_start": 20,
            "bin_end": 40,
            "count": 645
           },
           {
            "bin_start": 40,
            "bin_end": 60,
            "count": 917
           },
           {
            "bin_start": 60,
            "bin_end": 80,
            "count": 390
           },
           {
            "bin_start": 80,
            "bin_end": 100,
            "count": 255
           },
           {
            "bin_start": 100,
            "bin_end": 120,
            "count": 146
           },
           {
            "bin_start": 120,
            "bin_end": 140,
            "count": 92
           },
           {
            "bin_start": 140,
            "bin_end": 160,
            "count": 59
           },
           {
            "bin_start": 160,
            "bin_end": 180,
            "count": 20
           },
           {
            "bin_start": 180,
            "bin_end": 200,
            "count": 74
           }
          ]
         }
        },
        {
         "name": "_deepnote_index_column",
         "dtype": "int64"
        }
       ],
       "rows": [
        {
         "date": "01/01/2020",
         "time": "00:03:02",
         "source": "grasp",
         "status": "confirmed",
         "disaster_type": "flood",
         "report_dat": "{ \"report_type\": \"flood\", \"flood_depth\": 30 }",
         "tags": "{ \"district_id\": \"3174\", \"local_area_id\": \"125\", \"instance_region_code\": \"ID-JK\" }",
         "text": "Banjir di daerah taman ratu dan sekitarnya. Paling parah dari tahun2 sebelumnya",
         "Desa": "Duri Kepa",
         "Kecamatan": "Kebon Jeruk",
         "Kabupaten": "Jakarta Barat",
         "Provinsi": "Daerah Khusus Ibukota Jakarta",
         "long": 106.76866,
         "lat": -6.16978,
         "report_type": "flood",
         "flood_depth": 30,
         "_deepnote_index_column": 0
        },
        {
         "date": "01/01/2020",
         "time": "00:43:02",
         "source": "grasp",
         "status": "confirmed",
         "disaster_type": "flood",
         "report_dat": "{ \"points\": 1, \"flood_depth\": 80, \"report_type\": \"flood\" }",
         "tags": "{ \"district_id\": null, \"local_area_id\": null, \"instance_region_code\": \"ID-JK\" }",
         "text": "Jl. Kemuning Indah\nKota Harapan Indah.\nBekasi",
         "Desa": "Pejuang",
         "Kecamatan": "Medan Satria",
         "Kabupaten": "Bekasi",
         "Provinsi": "Jawa Barat",
         "long": 106.9787,
         "lat": -6.17944,
         "report_type": "flood",
         "flood_depth": 80,
         "_deepnote_index_column": 1
        },
        {
         "date": "01/01/2020",
         "time": "01:14:53",
         "source": "grasp",
         "status": "confirmed",
         "disaster_type": "flood",
         "report_dat": "{ \"points\": 1, \"flood_depth\": 51, \"report_type\": \"flood\" }",
         "tags": "{ \"district_id\": \"3172\", \"local_area_id\": \"1789\", \"instance_region_code\": \"ID-JK\" }",
         "text": "Banjir selutut orang dewasa di jalan ros merah 2 cipinang indah",
         "Desa": "Cipinang Muara",
         "Kecamatan": "Jatinegara",
         "Kabupaten": "Jakarta Timur",
         "Provinsi": "Daerah Khusus Ibukota Jakarta",
         "long": 106.891,
         "lat": -6.23449,
         "report_type": "flood",
         "flood_depth": 51,
         "_deepnote_index_column": 2
        },
        {
         "date": "01/01/2020",
         "time": "01:15:08",
         "source": "grasp",
         "status": "confirmed",
         "disaster_type": "flood",
         "report_dat": "{ \"points\": 2, \"flood_depth\": 100, \"report_type\": \"flood\" }",
         "tags": "{ \"district_id\": null, \"local_area_id\": null, \"instance_region_code\": \"ID-JK\" }",
         "text": "Banjir di daerah kedasih dan sekitarnya, karena hujan dari semalam belum berhenti, sudah memasuki rumah dari jam 7 pagi tadi",
         "Desa": "Mekarmukti",
         "Kecamatan": "Cikarang Utara",
         "Kabupaten": "Bekasi",
         "Provinsi": "Jawa Barat",
         "long": 107.16189,
         "lat": -6.3017,
         "report_type": "flood",
         "flood_depth": 100,
         "_deepnote_index_column": 3
        },
        {
         "date": "01/01/2020",
         "time": "01:25:02",
         "source": "grasp",
         "status": "confirmed",
         "disaster_type": "flood",
         "report_dat": "{ \"report_type\": \"flood\", \"flood_depth\": 60 }",
         "tags": "{ \"district_id\": \"3174\", \"local_area_id\": \"220\", \"instance_region_code\": \"ID-JK\" }",
         "text": "Banjir area komplek Meruya Ilir sejak jam 5 naik terus. Listri hingga kini belum dipadamkan.",
         "Desa": "Meruya Utara",
         "Kecamatan": "Kembangan",
         "Kabupaten": "Jakarta Barat",
         "Provinsi": "Daerah Khusus Ibukota Jakarta",
         "long": 106.73835,
         "lat": -6.19933,
         "report_type": "flood",
         "flood_depth": 60,
         "_deepnote_index_column": 4
        },
        {
         "date": "01/01/2020",
         "time": "01:33:59",
         "source": "grasp",
         "status": "confirmed",
         "disaster_type": "flood",
         "report_dat": "{ \"report_type\": \"flood\", \"flood_depth\": 39 }",
         "tags": "{ \"district_id\": null, \"local_area_id\": null, \"instance_region_code\": \"ID-JK\" }",
         "text": "Di perumahan boulevard hijau jalan raya setinggi 40-60 cm\nPerumahan 20-40 cm",
         "Desa": "Pejuang",
         "Kecamatan": "Medan Satria",
         "Kabupaten": "Bekasi",
         "Provinsi": "Jawa Barat",
         "long": 106.98668,
         "lat": -6.18996,
         "report_type": "flood",
         "flood_depth": 39,
         "_deepnote_index_column": 5
        },
        {
         "date": "01/01/2020",
         "time": "02:05:36",
         "source": "grasp",
         "status": "confirmed",
         "disaster_type": "flood",
         "report_dat": "{ \"report_type\": \"flood\", \"flood_depth\": 79 }",
         "tags": "{ \"district_id\": \"3174\", \"local_area_id\": \"938\", \"instance_region_code\": \"ID-JK\" }",
         "text": "Tinggi Genangan Air 60 ~ 70 Cm",
         "Desa": "Duri Kosambi",
         "Kecamatan": "Cengkareng",
         "Kabupaten": "Jakarta Barat",
         "Provinsi": "Daerah Khusus Ibukota Jakarta",
         "long": 106.72181,
         "lat": -6.16777,
         "report_type": "flood",
         "flood_depth": 79,
         "_deepnote_index_column": 6
        },
        {
         "date": "01/01/2020",
         "time": "02:11:42",
         "source": "grasp",
         "status": "confirmed",
         "disaster_type": "flood",
         "report_dat": "{ \"report_type\": \"flood\", \"flood_depth\": 116 }",
         "tags": "{ \"district_id\": \"3174\", \"local_area_id\": \"2574\", \"instance_region_code\": \"ID-JK\" }",
         "text": "Kondisi saat ini di jalan pesing koneng RW 08 seluruh RT",
         "Desa": "Kedoya Utara",
         "Kecamatan": "Kebon Jeruk",
         "Kabupaten": "Jakarta Barat",
         "Provinsi": "Daerah Khusus Ibukota Jakarta",
         "long": 106.76476,
         "lat": -6.16204,
         "report_type": "flood",
         "flood_depth": 116,
         "_deepnote_index_column": 7
        },
        {
         "date": "01/01/2020",
         "time": "02:20:56",
         "source": "grasp",
         "status": "confirmed",
         "disaster_type": "flood",
         "report_dat": "{ \"report_type\": \"flood\", \"flood_depth\": 60 }",
         "tags": "{ \"district_id\": null, \"local_area_id\": null, \"instance_region_code\": \"ID-JK\" }",
         "text": "Banjir, om. What should I say more?",
         "Desa": "Duren Jaya",
         "Kecamatan": "Bekasi Timur",
         "Kabupaten": "Bekasi",
         "Provinsi": "Jawa Barat",
         "long": 107.02225,
         "lat": -6.23895,
         "report_type": "flood",
         "flood_depth": 60,
         "_deepnote_index_column": 8
        },
        {
         "date": "01/01/2020",
         "time": "02:13:40",
         "source": "detik",
         "status": "confirmed",
         "disaster_type": "flood",
         "report_dat": "{ \"points\": 1 }",
         "tags": "{ \"district_id\": \"3171\", \"local_area_id\": \"1354\", \"instance_region_code\": \"ID-JK\" }",
         "text": "Begini kondisi Jl.HR Rasuna Said Depan Halte Transjakarta Setia Budi Selatan,akses jalan tak dapat dilalui oleh kendaraan pkl 09:15",
         "Desa": "Setia Budi",
         "Kecamatan": "Setia Budi",
         "Kabupaten": "Jakarta Selatan",
         "Provinsi": "Daerah Khusus Ibukota Jakarta",
         "long": 106.82927,
         "lat": -6.2084,
         "report_type": "nan",
         "flood_depth": "nan",
         "_deepnote_index_column": 9
        }
       ]
      },
      "text/plain": "            date      time source     status disaster_type  \\\n0     01/01/2020  00:03:02  grasp  confirmed         flood   \n1     01/01/2020  00:43:02  grasp  confirmed         flood   \n2     01/01/2020  01:14:53  grasp  confirmed         flood   \n3     01/01/2020  01:15:08  grasp  confirmed         flood   \n4     01/01/2020  01:25:02  grasp  confirmed         flood   \n...          ...       ...    ...        ...           ...   \n3038  28/12/2021  00:18:56  grasp  confirmed         flood   \n3039  28/12/2021  01:23:43  grasp  confirmed         flood   \n3040  28/12/2021  08:00:14  grasp  confirmed         flood   \n3041  28/12/2021  10:49:49  grasp  confirmed         flood   \n3042  30/12/2021  09:32:42  grasp  confirmed         flood   \n\n                                             report_dat  \\\n0         { \"report_type\": \"flood\", \"flood_depth\": 30 }   \n1     { \"points\": 1, \"flood_depth\": 80, \"report_type...   \n2     { \"points\": 1, \"flood_depth\": 51, \"report_type...   \n3     { \"points\": 2, \"flood_depth\": 100, \"report_typ...   \n4         { \"report_type\": \"flood\", \"flood_depth\": 60 }   \n...                                                 ...   \n3038  { \"points\": 1, \"flood_depth\": 68, \"report_type...   \n3039     { \"report_type\": \"flood\", \"flood_depth\": 103 }   \n3040      { \"report_type\": \"flood\", \"flood_depth\": 54 }   \n3041      { \"report_type\": \"flood\", \"flood_depth\": 19 }   \n3042      { \"report_type\": \"flood\", \"flood_depth\": 22 }   \n\n                                                   tags  \\\n0     { \"district_id\": \"3174\", \"local_area_id\": \"125...   \n1     { \"district_id\": null, \"local_area_id\": null, ...   \n2     { \"district_id\": \"3172\", \"local_area_id\": \"178...   \n3     { \"district_id\": null, \"local_area_id\": null, ...   \n4     { \"district_id\": \"3174\", \"local_area_id\": \"220...   \n...                                                 ...   \n3038  { \"district_id\": null, \"local_area_id\": null, ...   \n3039  { \"district_id\": null, \"local_area_id\": null, ...   \n3040  { \"district_id\": \"3173\", \"local_area_id\": \"678...   \n3041  { \"district_id\": null, \"local_area_id\": null, ...   \n3042  { \"district_id\": null, \"local_area_id\": null, ...   \n\n                                                   text            Desa  \\\n0     Banjir di daerah taman ratu dan sekitarnya. Pa...       Duri Kepa   \n1       Jl. Kemuning Indah\\nKota Harapan Indah.\\nBekasi         Pejuang   \n2     Banjir selutut orang dewasa di jalan ros merah...  Cipinang Muara   \n3     Banjir di daerah kedasih dan sekitarnya, karen...      Mekarmukti   \n4     Banjir area komplek Meruya Ilir sejak jam 5 na...    Meruya Utara   \n...                                                 ...             ...   \n3038  Laporan awal. Air sungai meluap akibat curah h...  Karangan Hilir   \n3039  Luapan air sungai Karangan masuk ke pemukiman ...  Karangan Hilir   \n3040                                banjir lah pokoknya    Karang Anyar   \n3041  saluran irigasi yg di kelola desa dengan buruk...       Purwajaya   \n3042  banjir akibat hujan dan banyak nya sampah memb...    Banjar Anyar   \n\n           Kecamatan      Kabupaten                       Provinsi  \\\n0        Kebon Jeruk  Jakarta Barat  Daerah Khusus Ibukota Jakarta   \n1       Medan Satria         Bekasi                     Jawa Barat   \n2         Jatinegara  Jakarta Timur  Daerah Khusus Ibukota Jakarta   \n3     Cikarang Utara         Bekasi                     Jawa Barat   \n4          Kembangan  Jakarta Barat  Daerah Khusus Ibukota Jakarta   \n...              ...            ...                            ...   \n3038        Karangan    Kutai Timur               Kalimantan Timur   \n3039        Karangan    Kutai Timur               Kalimantan Timur   \n3040     Sawah Besar  Jakarta Pusat  Daerah Khusus Ibukota Jakarta   \n3041       Purwadadi         Ciamis                     Jawa Barat   \n3042          Kediri        Tabanan                           Bali   \n\n            long       lat report_type  flood_depth  \n0     106.768660 -6.169780       flood         30.0  \n1     106.978700 -6.179440       flood         80.0  \n2     106.891000 -6.234490       flood         51.0  \n3     107.161890 -6.301700       flood        100.0  \n4     106.738350 -6.199330       flood         60.0  \n...          ...       ...         ...          ...  \n3038  117.655871  1.343771       flood         68.0  \n3039  117.665504  1.351043       flood        103.0  \n3040  106.827622 -6.157398       flood         54.0  \n3041  108.695570 -7.460077       flood         19.0  \n3042  115.142300 -8.554095       flood         22.0  \n\n[3043 rows x 16 columns]",
      "text/html": "<div>\n<style scoped>\n    .dataframe tbody tr th:only-of-type {\n        vertical-align: middle;\n    }\n\n    .dataframe tbody tr th {\n        vertical-align: top;\n    }\n\n    .dataframe thead th {\n        text-align: right;\n    }\n</style>\n<table border=\"1\" class=\"dataframe\">\n  <thead>\n    <tr style=\"text-align: right;\">\n      <th></th>\n      <th>date</th>\n      <th>time</th>\n      <th>source</th>\n      <th>status</th>\n      <th>disaster_type</th>\n      <th>report_dat</th>\n      <th>tags</th>\n      <th>text</th>\n      <th>Desa</th>\n      <th>Kecamatan</th>\n      <th>Kabupaten</th>\n      <th>Provinsi</th>\n      <th>long</th>\n      <th>lat</th>\n      <th>report_type</th>\n      <th>flood_depth</th>\n    </tr>\n  </thead>\n  <tbody>\n    <tr>\n      <th>0</th>\n      <td>01/01/2020</td>\n      <td>00:03:02</td>\n      <td>grasp</td>\n      <td>confirmed</td>\n      <td>flood</td>\n      <td>{ \"report_type\": \"flood\", \"flood_depth\": 30 }</td>\n      <td>{ \"district_id\": \"3174\", \"local_area_id\": \"125...</td>\n      <td>Banjir di daerah taman ratu dan sekitarnya. Pa...</td>\n      <td>Duri Kepa</td>\n      <td>Kebon Jeruk</td>\n      <td>Jakarta Barat</td>\n      <td>Daerah Khusus Ibukota Jakarta</td>\n      <td>106.768660</td>\n      <td>-6.169780</td>\n      <td>flood</td>\n      <td>30.0</td>\n    </tr>\n    <tr>\n      <th>1</th>\n      <td>01/01/2020</td>\n      <td>00:43:02</td>\n      <td>grasp</td>\n      <td>confirmed</td>\n      <td>flood</td>\n      <td>{ \"points\": 1, \"flood_depth\": 80, \"report_type...</td>\n      <td>{ \"district_id\": null, \"local_area_id\": null, ...</td>\n      <td>Jl. Kemuning Indah\\nKota Harapan Indah.\\nBekasi</td>\n      <td>Pejuang</td>\n      <td>Medan Satria</td>\n      <td>Bekasi</td>\n      <td>Jawa Barat</td>\n      <td>106.978700</td>\n      <td>-6.179440</td>\n      <td>flood</td>\n      <td>80.0</td>\n    </tr>\n    <tr>\n      <th>2</th>\n      <td>01/01/2020</td>\n      <td>01:14:53</td>\n      <td>grasp</td>\n      <td>confirmed</td>\n      <td>flood</td>\n      <td>{ \"points\": 1, \"flood_depth\": 51, \"report_type...</td>\n      <td>{ \"district_id\": \"3172\", \"local_area_id\": \"178...</td>\n      <td>Banjir selutut orang dewasa di jalan ros merah...</td>\n      <td>Cipinang Muara</td>\n      <td>Jatinegara</td>\n      <td>Jakarta Timur</td>\n      <td>Daerah Khusus Ibukota Jakarta</td>\n      <td>106.891000</td>\n      <td>-6.234490</td>\n      <td>flood</td>\n      <td>51.0</td>\n    </tr>\n    <tr>\n      <th>3</th>\n      <td>01/01/2020</td>\n      <td>01:15:08</td>\n      <td>grasp</td>\n      <td>confirmed</td>\n      <td>flood</td>\n      <td>{ \"points\": 2, \"flood_depth\": 100, \"report_typ...</td>\n      <td>{ \"district_id\": null, \"local_area_id\": null, ...</td>\n      <td>Banjir di daerah kedasih dan sekitarnya, karen...</td>\n      <td>Mekarmukti</td>\n      <td>Cikarang Utara</td>\n      <td>Bekasi</td>\n      <td>Jawa Barat</td>\n      <td>107.161890</td>\n      <td>-6.301700</td>\n      <td>flood</td>\n      <td>100.0</td>\n    </tr>\n    <tr>\n      <th>4</th>\n      <td>01/01/2020</td>\n      <td>01:25:02</td>\n      <td>grasp</td>\n      <td>confirmed</td>\n      <td>flood</td>\n      <td>{ \"report_type\": \"flood\", \"flood_depth\": 60 }</td>\n      <td>{ \"district_id\": \"3174\", \"local_area_id\": \"220...</td>\n      <td>Banjir area komplek Meruya Ilir sejak jam 5 na...</td>\n      <td>Meruya Utara</td>\n      <td>Kembangan</td>\n      <td>Jakarta Barat</td>\n      <td>Daerah Khusus Ibukota Jakarta</td>\n      <td>106.738350</td>\n      <td>-6.199330</td>\n      <td>flood</td>\n      <td>60.0</td>\n    </tr>\n    <tr>\n      <th>...</th>\n      <td>...</td>\n      <td>...</td>\n      <td>...</td>\n      <td>...</td>\n      <td>...</td>\n      <td>...</td>\n      <td>...</td>\n      <td>...</td>\n      <td>...</td>\n      <td>...</td>\n      <td>...</td>\n      <td>...</td>\n      <td>...</td>\n      <td>...</td>\n      <td>...</td>\n      <td>...</td>\n    </tr>\n    <tr>\n      <th>3038</th>\n      <td>28/12/2021</td>\n      <td>00:18:56</td>\n      <td>grasp</td>\n      <td>confirmed</td>\n      <td>flood</td>\n      <td>{ \"points\": 1, \"flood_depth\": 68, \"report_type...</td>\n      <td>{ \"district_id\": null, \"local_area_id\": null, ...</td>\n      <td>Laporan awal. Air sungai meluap akibat curah h...</td>\n      <td>Karangan Hilir</td>\n      <td>Karangan</td>\n      <td>Kutai Timur</td>\n      <td>Kalimantan Timur</td>\n      <td>117.655871</td>\n      <td>1.343771</td>\n      <td>flood</td>\n      <td>68.0</td>\n    </tr>\n    <tr>\n      <th>3039</th>\n      <td>28/12/2021</td>\n      <td>01:23:43</td>\n      <td>grasp</td>\n      <td>confirmed</td>\n      <td>flood</td>\n      <td>{ \"report_type\": \"flood\", \"flood_depth\": 103 }</td>\n      <td>{ \"district_id\": null, \"local_area_id\": null, ...</td>\n      <td>Luapan air sungai Karangan masuk ke pemukiman ...</td>\n      <td>Karangan Hilir</td>\n      <td>Karangan</td>\n      <td>Kutai Timur</td>\n      <td>Kalimantan Timur</td>\n      <td>117.665504</td>\n      <td>1.351043</td>\n      <td>flood</td>\n      <td>103.0</td>\n    </tr>\n    <tr>\n      <th>3040</th>\n      <td>28/12/2021</td>\n      <td>08:00:14</td>\n      <td>grasp</td>\n      <td>confirmed</td>\n      <td>flood</td>\n      <td>{ \"report_type\": \"flood\", \"flood_depth\": 54 }</td>\n      <td>{ \"district_id\": \"3173\", \"local_area_id\": \"678...</td>\n      <td>banjir lah pokoknya</td>\n      <td>Karang Anyar</td>\n      <td>Sawah Besar</td>\n      <td>Jakarta Pusat</td>\n      <td>Daerah Khusus Ibukota Jakarta</td>\n      <td>106.827622</td>\n      <td>-6.157398</td>\n      <td>flood</td>\n      <td>54.0</td>\n    </tr>\n    <tr>\n      <th>3041</th>\n      <td>28/12/2021</td>\n      <td>10:49:49</td>\n      <td>grasp</td>\n      <td>confirmed</td>\n      <td>flood</td>\n      <td>{ \"report_type\": \"flood\", \"flood_depth\": 19 }</td>\n      <td>{ \"district_id\": null, \"local_area_id\": null, ...</td>\n      <td>saluran irigasi yg di kelola desa dengan buruk...</td>\n      <td>Purwajaya</td>\n      <td>Purwadadi</td>\n      <td>Ciamis</td>\n      <td>Jawa Barat</td>\n      <td>108.695570</td>\n      <td>-7.460077</td>\n      <td>flood</td>\n      <td>19.0</td>\n    </tr>\n    <tr>\n      <th>3042</th>\n      <td>30/12/2021</td>\n      <td>09:32:42</td>\n      <td>grasp</td>\n      <td>confirmed</td>\n      <td>flood</td>\n      <td>{ \"report_type\": \"flood\", \"flood_depth\": 22 }</td>\n      <td>{ \"district_id\": null, \"local_area_id\": null, ...</td>\n      <td>banjir akibat hujan dan banyak nya sampah memb...</td>\n      <td>Banjar Anyar</td>\n      <td>Kediri</td>\n      <td>Tabanan</td>\n      <td>Bali</td>\n      <td>115.142300</td>\n      <td>-8.554095</td>\n      <td>flood</td>\n      <td>22.0</td>\n    </tr>\n  </tbody>\n</table>\n<p>3043 rows × 16 columns</p>\n</div>"
     },
     "metadata": {}
    }
   ]
  },
  {
   "cell_type": "code",
   "metadata": {
    "cell_id": "f04e0d5768f64067978c4b9a5e673ac3",
    "tags": [],
    "deepnote_to_be_reexecuted": false,
    "source_hash": "ef1a8373",
    "execution_start": 1661016279628,
    "execution_millis": 80,
    "deepnote_cell_type": "code",
    "deepnote_cell_height": 630
   },
   "source": "z = z[z['report_type'].notna() & z['flood_depth'].notna() & z['date'].notna()]\nz",
   "execution_count": 10,
   "outputs": [
    {
     "output_type": "execute_result",
     "execution_count": 10,
     "data": {
      "application/vnd.deepnote.dataframe.v3+json": {
       "column_count": 16,
       "row_count": 2774,
       "columns": [
        {
         "name": "date",
         "dtype": "object",
         "stats": {
          "unique_count": 341,
          "nan_count": 0,
          "categories": [
           {
            "name": "25/02/2020",
            "count": 316
           },
           {
            "name": "24/02/2020",
            "count": 290
           },
           {
            "name": "339 others",
            "count": 2168
           }
          ]
         }
        },
        {
         "name": "time",
         "dtype": "object",
         "stats": {
          "unique_count": 1623,
          "nan_count": 0,
          "categories": [
           {
            "name": "1",
            "count": 563
           },
           {
            "name": "0",
            "count": 537
           },
           {
            "name": "1621 others",
            "count": 1674
           }
          ]
         }
        },
        {
         "name": "source",
         "dtype": "object",
         "stats": {
          "unique_count": 1,
          "nan_count": 0,
          "categories": [
           {
            "name": "grasp",
            "count": 2774
           }
          ]
         }
        },
        {
         "name": "status",
         "dtype": "object",
         "stats": {
          "unique_count": 1,
          "nan_count": 0,
          "categories": [
           {
            "name": "confirmed",
            "count": 2774
           }
          ]
         }
        },
        {
         "name": "disaster_type",
         "dtype": "object",
         "stats": {
          "unique_count": 1,
          "nan_count": 0,
          "categories": [
           {
            "name": "flood",
            "count": 2774
           }
          ]
         }
        },
        {
         "name": "report_dat",
         "dtype": "object",
         "stats": {
          "unique_count": 469,
          "nan_count": 0,
          "categories": [
           {
            "name": "{ \"report_type\": \"flood\", \"flood_depth\": 44 }",
            "count": 171
           },
           {
            "name": "{ \"report_type\": \"flood\", \"flood_depth\": 50 }",
            "count": 116
           },
           {
            "name": "467 others",
            "count": 2487
           }
          ]
         }
        },
        {
         "name": "tags",
         "dtype": "object",
         "stats": {
          "unique_count": 729,
          "nan_count": 0,
          "categories": [
           {
            "name": "{ \"district_id\": null, \"local_area_id\": null, \"instance_region_code\": \"ID-JB\" }",
            "count": 474
           },
           {
            "name": "{ \"district_id\": null, \"local_area_id\": null, \"instance_region_code\": \"ID-KS\" }",
            "count": 144
           },
           {
            "name": "727 others",
            "count": 2156
           }
          ]
         }
        },
        {
         "name": "text",
         "dtype": "object",
         "stats": {
          "unique_count": 2658,
          "nan_count": 0,
          "categories": [
           {
            "name": "Banjir",
            "count": 55
           },
           {
            "name": "banjir",
            "count": 13
           },
           {
            "name": "2656 others",
            "count": 2706
           }
          ]
         }
        },
        {
         "name": "Desa",
         "dtype": "object",
         "stats": {
          "unique_count": 970,
          "nan_count": 0,
          "categories": [
           {
            "name": "Duri Kepa",
            "count": 50
           },
           {
            "name": "Rawa Buaya",
            "count": 45
           },
           {
            "name": "968 others",
            "count": 2679
           }
          ]
         }
        },
        {
         "name": "Kecamatan",
         "dtype": "object",
         "stats": {
          "unique_count": 517,
          "nan_count": 0,
          "categories": [
           {
            "name": "Kelapa Gading",
            "count": 107
           },
           {
            "name": "Cengkareng",
            "count": 90
           },
           {
            "name": "515 others",
            "count": 2577
           }
          ]
         }
        },
        {
         "name": "Kabupaten",
         "dtype": "object",
         "stats": {
          "unique_count": 179,
          "nan_count": 0,
          "categories": [
           {
            "name": "Jakarta Timur",
            "count": 385
           },
           {
            "name": "Bekasi",
            "count": 376
           },
           {
            "name": "177 others",
            "count": 2013
           }
          ]
         }
        },
        {
         "name": "Provinsi",
         "dtype": "object",
         "stats": {
          "unique_count": 34,
          "nan_count": 0,
          "categories": [
           {
            "name": "Daerah Khusus Ibukota Jakarta",
            "count": 1375
           },
           {
            "name": "Jawa Barat",
            "count": 543
           },
           {
            "name": "32 others",
            "count": 856
           }
          ]
         }
        },
        {
         "name": "long",
         "dtype": "float64",
         "stats": {
          "unique_count": 2626,
          "nan_count": 0,
          "min": "95.31473",
          "max": "136.37668",
          "histogram": [
           {
            "bin_start": 95.31473,
            "bin_end": 99.420925,
            "count": 31
           },
           {
            "bin_start": 99.420925,
            "bin_end": 103.52712,
            "count": 23
           },
           {
            "bin_start": 103.52712,
            "bin_end": 107.633315,
            "count": 2037
           },
           {
            "bin_start": 107.633315,
            "bin_end": 111.73951,
            "count": 225
           },
           {
            "bin_start": 111.73951,
            "bin_end": 115.845705,
            "count": 296
           },
           {
            "bin_start": 115.845705,
            "bin_end": 119.9519,
            "count": 103
           },
           {
            "bin_start": 119.9519,
            "bin_end": 124.058095,
            "count": 41
           },
           {
            "bin_start": 124.058095,
            "bin_end": 128.16429,
            "count": 9
           },
           {
            "bin_start": 128.16429,
            "bin_end": 132.270485,
            "count": 4
           },
           {
            "bin_start": 132.270485,
            "bin_end": 136.37668,
            "count": 5
           }
          ]
         }
        },
        {
         "name": "lat",
         "dtype": "float64",
         "stats": {
          "unique_count": 2582,
          "nan_count": 0,
          "min": "-10.20107",
          "max": "5.883711",
          "histogram": [
           {
            "bin_start": -10.20107,
            "bin_end": -8.5925919,
            "count": 17
           },
           {
            "bin_start": -8.5925919,
            "bin_end": -6.984113799999999,
            "count": 201
           },
           {
            "bin_start": -6.984113799999999,
            "bin_end": -5.3756357,
            "count": 2155
           },
           {
            "bin_start": -5.3756357,
            "bin_end": -3.7671576,
            "count": 31
           },
           {
            "bin_start": -3.7671576,
            "bin_end": -2.1586795,
            "count": 179
           },
           {
            "bin_start": -2.1586795,
            "bin_end": -0.5502014000000006,
            "count": 51
           },
           {
            "bin_start": -0.5502014000000006,
            "bin_end": 1.0582767000000004,
            "count": 89
           },
           {
            "bin_start": 1.0582767000000004,
            "bin_end": 2.6667547999999996,
            "count": 19
           },
           {
            "bin_start": 2.6667547999999996,
            "bin_end": 4.275232899999999,
            "count": 17
           },
           {
            "bin_start": 4.275232899999999,
            "bin_end": 5.883711,
            "count": 15
           }
          ]
         }
        },
        {
         "name": "report_type",
         "dtype": "object",
         "stats": {
          "unique_count": 1,
          "nan_count": 0,
          "categories": [
           {
            "name": "flood",
            "count": 2774
           }
          ]
         }
        },
        {
         "name": "flood_depth",
         "dtype": "float64",
         "stats": {
          "unique_count": 185,
          "nan_count": 0,
          "min": "0.0",
          "max": "200.0",
          "histogram": [
           {
            "bin_start": 0,
            "bin_end": 20,
            "count": 176
           },
           {
            "bin_start": 20,
            "bin_end": 40,
            "count": 645
           },
           {
            "bin_start": 40,
            "bin_end": 60,
            "count": 917
           },
           {
            "bin_start": 60,
            "bin_end": 80,
            "count": 390
           },
           {
            "bin_start": 80,
            "bin_end": 100,
            "count": 255
           },
           {
            "bin_start": 100,
            "bin_end": 120,
            "count": 146
           },
           {
            "bin_start": 120,
            "bin_end": 140,
            "count": 92
           },
           {
            "bin_start": 140,
            "bin_end": 160,
            "count": 59
           },
           {
            "bin_start": 160,
            "bin_end": 180,
            "count": 20
           },
           {
            "bin_start": 180,
            "bin_end": 200,
            "count": 74
           }
          ]
         }
        },
        {
         "name": "_deepnote_index_column",
         "dtype": "int64"
        }
       ],
       "rows": [
        {
         "date": "01/01/2020",
         "time": "00:03:02",
         "source": "grasp",
         "status": "confirmed",
         "disaster_type": "flood",
         "report_dat": "{ \"report_type\": \"flood\", \"flood_depth\": 30 }",
         "tags": "{ \"district_id\": \"3174\", \"local_area_id\": \"125\", \"instance_region_code\": \"ID-JK\" }",
         "text": "Banjir di daerah taman ratu dan sekitarnya. Paling parah dari tahun2 sebelumnya",
         "Desa": "Duri Kepa",
         "Kecamatan": "Kebon Jeruk",
         "Kabupaten": "Jakarta Barat",
         "Provinsi": "Daerah Khusus Ibukota Jakarta",
         "long": 106.76866,
         "lat": -6.16978,
         "report_type": "flood",
         "flood_depth": 30,
         "_deepnote_index_column": 0
        },
        {
         "date": "01/01/2020",
         "time": "00:43:02",
         "source": "grasp",
         "status": "confirmed",
         "disaster_type": "flood",
         "report_dat": "{ \"points\": 1, \"flood_depth\": 80, \"report_type\": \"flood\" }",
         "tags": "{ \"district_id\": null, \"local_area_id\": null, \"instance_region_code\": \"ID-JK\" }",
         "text": "Jl. Kemuning Indah\nKota Harapan Indah.\nBekasi",
         "Desa": "Pejuang",
         "Kecamatan": "Medan Satria",
         "Kabupaten": "Bekasi",
         "Provinsi": "Jawa Barat",
         "long": 106.9787,
         "lat": -6.17944,
         "report_type": "flood",
         "flood_depth": 80,
         "_deepnote_index_column": 1
        },
        {
         "date": "01/01/2020",
         "time": "01:14:53",
         "source": "grasp",
         "status": "confirmed",
         "disaster_type": "flood",
         "report_dat": "{ \"points\": 1, \"flood_depth\": 51, \"report_type\": \"flood\" }",
         "tags": "{ \"district_id\": \"3172\", \"local_area_id\": \"1789\", \"instance_region_code\": \"ID-JK\" }",
         "text": "Banjir selutut orang dewasa di jalan ros merah 2 cipinang indah",
         "Desa": "Cipinang Muara",
         "Kecamatan": "Jatinegara",
         "Kabupaten": "Jakarta Timur",
         "Provinsi": "Daerah Khusus Ibukota Jakarta",
         "long": 106.891,
         "lat": -6.23449,
         "report_type": "flood",
         "flood_depth": 51,
         "_deepnote_index_column": 2
        },
        {
         "date": "01/01/2020",
         "time": "01:15:08",
         "source": "grasp",
         "status": "confirmed",
         "disaster_type": "flood",
         "report_dat": "{ \"points\": 2, \"flood_depth\": 100, \"report_type\": \"flood\" }",
         "tags": "{ \"district_id\": null, \"local_area_id\": null, \"instance_region_code\": \"ID-JK\" }",
         "text": "Banjir di daerah kedasih dan sekitarnya, karena hujan dari semalam belum berhenti, sudah memasuki rumah dari jam 7 pagi tadi",
         "Desa": "Mekarmukti",
         "Kecamatan": "Cikarang Utara",
         "Kabupaten": "Bekasi",
         "Provinsi": "Jawa Barat",
         "long": 107.16189,
         "lat": -6.3017,
         "report_type": "flood",
         "flood_depth": 100,
         "_deepnote_index_column": 3
        },
        {
         "date": "01/01/2020",
         "time": "01:25:02",
         "source": "grasp",
         "status": "confirmed",
         "disaster_type": "flood",
         "report_dat": "{ \"report_type\": \"flood\", \"flood_depth\": 60 }",
         "tags": "{ \"district_id\": \"3174\", \"local_area_id\": \"220\", \"instance_region_code\": \"ID-JK\" }",
         "text": "Banjir area komplek Meruya Ilir sejak jam 5 naik terus. Listri hingga kini belum dipadamkan.",
         "Desa": "Meruya Utara",
         "Kecamatan": "Kembangan",
         "Kabupaten": "Jakarta Barat",
         "Provinsi": "Daerah Khusus Ibukota Jakarta",
         "long": 106.73835,
         "lat": -6.19933,
         "report_type": "flood",
         "flood_depth": 60,
         "_deepnote_index_column": 4
        },
        {
         "date": "01/01/2020",
         "time": "01:33:59",
         "source": "grasp",
         "status": "confirmed",
         "disaster_type": "flood",
         "report_dat": "{ \"report_type\": \"flood\", \"flood_depth\": 39 }",
         "tags": "{ \"district_id\": null, \"local_area_id\": null, \"instance_region_code\": \"ID-JK\" }",
         "text": "Di perumahan boulevard hijau jalan raya setinggi 40-60 cm\nPerumahan 20-40 cm",
         "Desa": "Pejuang",
         "Kecamatan": "Medan Satria",
         "Kabupaten": "Bekasi",
         "Provinsi": "Jawa Barat",
         "long": 106.98668,
         "lat": -6.18996,
         "report_type": "flood",
         "flood_depth": 39,
         "_deepnote_index_column": 5
        },
        {
         "date": "01/01/2020",
         "time": "02:05:36",
         "source": "grasp",
         "status": "confirmed",
         "disaster_type": "flood",
         "report_dat": "{ \"report_type\": \"flood\", \"flood_depth\": 79 }",
         "tags": "{ \"district_id\": \"3174\", \"local_area_id\": \"938\", \"instance_region_code\": \"ID-JK\" }",
         "text": "Tinggi Genangan Air 60 ~ 70 Cm",
         "Desa": "Duri Kosambi",
         "Kecamatan": "Cengkareng",
         "Kabupaten": "Jakarta Barat",
         "Provinsi": "Daerah Khusus Ibukota Jakarta",
         "long": 106.72181,
         "lat": -6.16777,
         "report_type": "flood",
         "flood_depth": 79,
         "_deepnote_index_column": 6
        },
        {
         "date": "01/01/2020",
         "time": "02:11:42",
         "source": "grasp",
         "status": "confirmed",
         "disaster_type": "flood",
         "report_dat": "{ \"report_type\": \"flood\", \"flood_depth\": 116 }",
         "tags": "{ \"district_id\": \"3174\", \"local_area_id\": \"2574\", \"instance_region_code\": \"ID-JK\" }",
         "text": "Kondisi saat ini di jalan pesing koneng RW 08 seluruh RT",
         "Desa": "Kedoya Utara",
         "Kecamatan": "Kebon Jeruk",
         "Kabupaten": "Jakarta Barat",
         "Provinsi": "Daerah Khusus Ibukota Jakarta",
         "long": 106.76476,
         "lat": -6.16204,
         "report_type": "flood",
         "flood_depth": 116,
         "_deepnote_index_column": 7
        },
        {
         "date": "01/01/2020",
         "time": "02:20:56",
         "source": "grasp",
         "status": "confirmed",
         "disaster_type": "flood",
         "report_dat": "{ \"report_type\": \"flood\", \"flood_depth\": 60 }",
         "tags": "{ \"district_id\": null, \"local_area_id\": null, \"instance_region_code\": \"ID-JK\" }",
         "text": "Banjir, om. What should I say more?",
         "Desa": "Duren Jaya",
         "Kecamatan": "Bekasi Timur",
         "Kabupaten": "Bekasi",
         "Provinsi": "Jawa Barat",
         "long": 107.02225,
         "lat": -6.23895,
         "report_type": "flood",
         "flood_depth": 60,
         "_deepnote_index_column": 8
        },
        {
         "date": "01/01/2020",
         "time": "02:35:11",
         "source": "grasp",
         "status": "confirmed",
         "disaster_type": "flood",
         "report_dat": "{ \"report_type\": \"flood\", \"flood_depth\": 81 }",
         "tags": "{ \"district_id\": null, \"local_area_id\": null, \"instance_region_code\": \"ID-JK\" }",
         "text": "Banjir setinggi paha",
         "Desa": "Bintara",
         "Kecamatan": "Bekasi Barat",
         "Kabupaten": "Bekasi",
         "Provinsi": "Jawa Barat",
         "long": 106.95966,
         "lat": -6.22251,
         "report_type": "flood",
         "flood_depth": 81,
         "_deepnote_index_column": 10
        }
       ]
      },
      "text/plain": "            date      time source     status disaster_type  \\\n0     01/01/2020  00:03:02  grasp  confirmed         flood   \n1     01/01/2020  00:43:02  grasp  confirmed         flood   \n2     01/01/2020  01:14:53  grasp  confirmed         flood   \n3     01/01/2020  01:15:08  grasp  confirmed         flood   \n4     01/01/2020  01:25:02  grasp  confirmed         flood   \n...          ...       ...    ...        ...           ...   \n3038  28/12/2021  00:18:56  grasp  confirmed         flood   \n3039  28/12/2021  01:23:43  grasp  confirmed         flood   \n3040  28/12/2021  08:00:14  grasp  confirmed         flood   \n3041  28/12/2021  10:49:49  grasp  confirmed         flood   \n3042  30/12/2021  09:32:42  grasp  confirmed         flood   \n\n                                             report_dat  \\\n0         { \"report_type\": \"flood\", \"flood_depth\": 30 }   \n1     { \"points\": 1, \"flood_depth\": 80, \"report_type...   \n2     { \"points\": 1, \"flood_depth\": 51, \"report_type...   \n3     { \"points\": 2, \"flood_depth\": 100, \"report_typ...   \n4         { \"report_type\": \"flood\", \"flood_depth\": 60 }   \n...                                                 ...   \n3038  { \"points\": 1, \"flood_depth\": 68, \"report_type...   \n3039     { \"report_type\": \"flood\", \"flood_depth\": 103 }   \n3040      { \"report_type\": \"flood\", \"flood_depth\": 54 }   \n3041      { \"report_type\": \"flood\", \"flood_depth\": 19 }   \n3042      { \"report_type\": \"flood\", \"flood_depth\": 22 }   \n\n                                                   tags  \\\n0     { \"district_id\": \"3174\", \"local_area_id\": \"125...   \n1     { \"district_id\": null, \"local_area_id\": null, ...   \n2     { \"district_id\": \"3172\", \"local_area_id\": \"178...   \n3     { \"district_id\": null, \"local_area_id\": null, ...   \n4     { \"district_id\": \"3174\", \"local_area_id\": \"220...   \n...                                                 ...   \n3038  { \"district_id\": null, \"local_area_id\": null, ...   \n3039  { \"district_id\": null, \"local_area_id\": null, ...   \n3040  { \"district_id\": \"3173\", \"local_area_id\": \"678...   \n3041  { \"district_id\": null, \"local_area_id\": null, ...   \n3042  { \"district_id\": null, \"local_area_id\": null, ...   \n\n                                                   text            Desa  \\\n0     Banjir di daerah taman ratu dan sekitarnya. Pa...       Duri Kepa   \n1       Jl. Kemuning Indah\\nKota Harapan Indah.\\nBekasi         Pejuang   \n2     Banjir selutut orang dewasa di jalan ros merah...  Cipinang Muara   \n3     Banjir di daerah kedasih dan sekitarnya, karen...      Mekarmukti   \n4     Banjir area komplek Meruya Ilir sejak jam 5 na...    Meruya Utara   \n...                                                 ...             ...   \n3038  Laporan awal. Air sungai meluap akibat curah h...  Karangan Hilir   \n3039  Luapan air sungai Karangan masuk ke pemukiman ...  Karangan Hilir   \n3040                                banjir lah pokoknya    Karang Anyar   \n3041  saluran irigasi yg di kelola desa dengan buruk...       Purwajaya   \n3042  banjir akibat hujan dan banyak nya sampah memb...    Banjar Anyar   \n\n           Kecamatan      Kabupaten                       Provinsi  \\\n0        Kebon Jeruk  Jakarta Barat  Daerah Khusus Ibukota Jakarta   \n1       Medan Satria         Bekasi                     Jawa Barat   \n2         Jatinegara  Jakarta Timur  Daerah Khusus Ibukota Jakarta   \n3     Cikarang Utara         Bekasi                     Jawa Barat   \n4          Kembangan  Jakarta Barat  Daerah Khusus Ibukota Jakarta   \n...              ...            ...                            ...   \n3038        Karangan    Kutai Timur               Kalimantan Timur   \n3039        Karangan    Kutai Timur               Kalimantan Timur   \n3040     Sawah Besar  Jakarta Pusat  Daerah Khusus Ibukota Jakarta   \n3041       Purwadadi         Ciamis                     Jawa Barat   \n3042          Kediri        Tabanan                           Bali   \n\n            long       lat report_type  flood_depth  \n0     106.768660 -6.169780       flood         30.0  \n1     106.978700 -6.179440       flood         80.0  \n2     106.891000 -6.234490       flood         51.0  \n3     107.161890 -6.301700       flood        100.0  \n4     106.738350 -6.199330       flood         60.0  \n...          ...       ...         ...          ...  \n3038  117.655871  1.343771       flood         68.0  \n3039  117.665504  1.351043       flood        103.0  \n3040  106.827622 -6.157398       flood         54.0  \n3041  108.695570 -7.460077       flood         19.0  \n3042  115.142300 -8.554095       flood         22.0  \n\n[2774 rows x 16 columns]",
      "text/html": "<div>\n<style scoped>\n    .dataframe tbody tr th:only-of-type {\n        vertical-align: middle;\n    }\n\n    .dataframe tbody tr th {\n        vertical-align: top;\n    }\n\n    .dataframe thead th {\n        text-align: right;\n    }\n</style>\n<table border=\"1\" class=\"dataframe\">\n  <thead>\n    <tr style=\"text-align: right;\">\n      <th></th>\n      <th>date</th>\n      <th>time</th>\n      <th>source</th>\n      <th>status</th>\n      <th>disaster_type</th>\n      <th>report_dat</th>\n      <th>tags</th>\n      <th>text</th>\n      <th>Desa</th>\n      <th>Kecamatan</th>\n      <th>Kabupaten</th>\n      <th>Provinsi</th>\n      <th>long</th>\n      <th>lat</th>\n      <th>report_type</th>\n      <th>flood_depth</th>\n    </tr>\n  </thead>\n  <tbody>\n    <tr>\n      <th>0</th>\n      <td>01/01/2020</td>\n      <td>00:03:02</td>\n      <td>grasp</td>\n      <td>confirmed</td>\n      <td>flood</td>\n      <td>{ \"report_type\": \"flood\", \"flood_depth\": 30 }</td>\n      <td>{ \"district_id\": \"3174\", \"local_area_id\": \"125...</td>\n      <td>Banjir di daerah taman ratu dan sekitarnya. Pa...</td>\n      <td>Duri Kepa</td>\n      <td>Kebon Jeruk</td>\n      <td>Jakarta Barat</td>\n      <td>Daerah Khusus Ibukota Jakarta</td>\n      <td>106.768660</td>\n      <td>-6.169780</td>\n      <td>flood</td>\n      <td>30.0</td>\n    </tr>\n    <tr>\n      <th>1</th>\n      <td>01/01/2020</td>\n      <td>00:43:02</td>\n      <td>grasp</td>\n      <td>confirmed</td>\n      <td>flood</td>\n      <td>{ \"points\": 1, \"flood_depth\": 80, \"report_type...</td>\n      <td>{ \"district_id\": null, \"local_area_id\": null, ...</td>\n      <td>Jl. Kemuning Indah\\nKota Harapan Indah.\\nBekasi</td>\n      <td>Pejuang</td>\n      <td>Medan Satria</td>\n      <td>Bekasi</td>\n      <td>Jawa Barat</td>\n      <td>106.978700</td>\n      <td>-6.179440</td>\n      <td>flood</td>\n      <td>80.0</td>\n    </tr>\n    <tr>\n      <th>2</th>\n      <td>01/01/2020</td>\n      <td>01:14:53</td>\n      <td>grasp</td>\n      <td>confirmed</td>\n      <td>flood</td>\n      <td>{ \"points\": 1, \"flood_depth\": 51, \"report_type...</td>\n      <td>{ \"district_id\": \"3172\", \"local_area_id\": \"178...</td>\n      <td>Banjir selutut orang dewasa di jalan ros merah...</td>\n      <td>Cipinang Muara</td>\n      <td>Jatinegara</td>\n      <td>Jakarta Timur</td>\n      <td>Daerah Khusus Ibukota Jakarta</td>\n      <td>106.891000</td>\n      <td>-6.234490</td>\n      <td>flood</td>\n      <td>51.0</td>\n    </tr>\n    <tr>\n      <th>3</th>\n      <td>01/01/2020</td>\n      <td>01:15:08</td>\n      <td>grasp</td>\n      <td>confirmed</td>\n      <td>flood</td>\n      <td>{ \"points\": 2, \"flood_depth\": 100, \"report_typ...</td>\n      <td>{ \"district_id\": null, \"local_area_id\": null, ...</td>\n      <td>Banjir di daerah kedasih dan sekitarnya, karen...</td>\n      <td>Mekarmukti</td>\n      <td>Cikarang Utara</td>\n      <td>Bekasi</td>\n      <td>Jawa Barat</td>\n      <td>107.161890</td>\n      <td>-6.301700</td>\n      <td>flood</td>\n      <td>100.0</td>\n    </tr>\n    <tr>\n      <th>4</th>\n      <td>01/01/2020</td>\n      <td>01:25:02</td>\n      <td>grasp</td>\n      <td>confirmed</td>\n      <td>flood</td>\n      <td>{ \"report_type\": \"flood\", \"flood_depth\": 60 }</td>\n      <td>{ \"district_id\": \"3174\", \"local_area_id\": \"220...</td>\n      <td>Banjir area komplek Meruya Ilir sejak jam 5 na...</td>\n      <td>Meruya Utara</td>\n      <td>Kembangan</td>\n      <td>Jakarta Barat</td>\n      <td>Daerah Khusus Ibukota Jakarta</td>\n      <td>106.738350</td>\n      <td>-6.199330</td>\n      <td>flood</td>\n      <td>60.0</td>\n    </tr>\n    <tr>\n      <th>...</th>\n      <td>...</td>\n      <td>...</td>\n      <td>...</td>\n      <td>...</td>\n      <td>...</td>\n      <td>...</td>\n      <td>...</td>\n      <td>...</td>\n      <td>...</td>\n      <td>...</td>\n      <td>...</td>\n      <td>...</td>\n      <td>...</td>\n      <td>...</td>\n      <td>...</td>\n      <td>...</td>\n    </tr>\n    <tr>\n      <th>3038</th>\n      <td>28/12/2021</td>\n      <td>00:18:56</td>\n      <td>grasp</td>\n      <td>confirmed</td>\n      <td>flood</td>\n      <td>{ \"points\": 1, \"flood_depth\": 68, \"report_type...</td>\n      <td>{ \"district_id\": null, \"local_area_id\": null, ...</td>\n      <td>Laporan awal. Air sungai meluap akibat curah h...</td>\n      <td>Karangan Hilir</td>\n      <td>Karangan</td>\n      <td>Kutai Timur</td>\n      <td>Kalimantan Timur</td>\n      <td>117.655871</td>\n      <td>1.343771</td>\n      <td>flood</td>\n      <td>68.0</td>\n    </tr>\n    <tr>\n      <th>3039</th>\n      <td>28/12/2021</td>\n      <td>01:23:43</td>\n      <td>grasp</td>\n      <td>confirmed</td>\n      <td>flood</td>\n      <td>{ \"report_type\": \"flood\", \"flood_depth\": 103 }</td>\n      <td>{ \"district_id\": null, \"local_area_id\": null, ...</td>\n      <td>Luapan air sungai Karangan masuk ke pemukiman ...</td>\n      <td>Karangan Hilir</td>\n      <td>Karangan</td>\n      <td>Kutai Timur</td>\n      <td>Kalimantan Timur</td>\n      <td>117.665504</td>\n      <td>1.351043</td>\n      <td>flood</td>\n      <td>103.0</td>\n    </tr>\n    <tr>\n      <th>3040</th>\n      <td>28/12/2021</td>\n      <td>08:00:14</td>\n      <td>grasp</td>\n      <td>confirmed</td>\n      <td>flood</td>\n      <td>{ \"report_type\": \"flood\", \"flood_depth\": 54 }</td>\n      <td>{ \"district_id\": \"3173\", \"local_area_id\": \"678...</td>\n      <td>banjir lah pokoknya</td>\n      <td>Karang Anyar</td>\n      <td>Sawah Besar</td>\n      <td>Jakarta Pusat</td>\n      <td>Daerah Khusus Ibukota Jakarta</td>\n      <td>106.827622</td>\n      <td>-6.157398</td>\n      <td>flood</td>\n      <td>54.0</td>\n    </tr>\n    <tr>\n      <th>3041</th>\n      <td>28/12/2021</td>\n      <td>10:49:49</td>\n      <td>grasp</td>\n      <td>confirmed</td>\n      <td>flood</td>\n      <td>{ \"report_type\": \"flood\", \"flood_depth\": 19 }</td>\n      <td>{ \"district_id\": null, \"local_area_id\": null, ...</td>\n      <td>saluran irigasi yg di kelola desa dengan buruk...</td>\n      <td>Purwajaya</td>\n      <td>Purwadadi</td>\n      <td>Ciamis</td>\n      <td>Jawa Barat</td>\n      <td>108.695570</td>\n      <td>-7.460077</td>\n      <td>flood</td>\n      <td>19.0</td>\n    </tr>\n    <tr>\n      <th>3042</th>\n      <td>30/12/2021</td>\n      <td>09:32:42</td>\n      <td>grasp</td>\n      <td>confirmed</td>\n      <td>flood</td>\n      <td>{ \"report_type\": \"flood\", \"flood_depth\": 22 }</td>\n      <td>{ \"district_id\": null, \"local_area_id\": null, ...</td>\n      <td>banjir akibat hujan dan banyak nya sampah memb...</td>\n      <td>Banjar Anyar</td>\n      <td>Kediri</td>\n      <td>Tabanan</td>\n      <td>Bali</td>\n      <td>115.142300</td>\n      <td>-8.554095</td>\n      <td>flood</td>\n      <td>22.0</td>\n    </tr>\n  </tbody>\n</table>\n<p>2774 rows × 16 columns</p>\n</div>"
     },
     "metadata": {}
    }
   ]
  },
  {
   "cell_type": "code",
   "metadata": {
    "cell_id": "bd888f0192e94afc818fa705845fd670",
    "tags": [],
    "deepnote_to_be_reexecuted": false,
    "source_hash": "c550f408",
    "execution_start": 1661016279712,
    "execution_millis": 4,
    "deepnote_cell_type": "code",
    "deepnote_cell_height": 94
   },
   "source": "z = z[['date', 'disaster_type', 'flood_depth']]\nz = z [['date', 'flood_depth']]",
   "execution_count": 11,
   "outputs": []
  },
  {
   "cell_type": "code",
   "metadata": {
    "cell_id": "c3cffb5526de4834a32ad0cccaf50461",
    "tags": [],
    "deepnote_to_be_reexecuted": false,
    "source_hash": "d08b4ac7",
    "execution_start": 1661016279739,
    "execution_millis": 22,
    "deepnote_table_state": {
     "pageSize": 10,
     "pageIndex": 5,
     "filters": [],
     "sortBy": []
    },
    "deepnote_table_loading": false,
    "deepnote_cell_type": "code",
    "deepnote_cell_height": 613
   },
   "source": "z.columns = ['ds', 'y']\nz",
   "execution_count": 12,
   "outputs": [
    {
     "output_type": "execute_result",
     "execution_count": 12,
     "data": {
      "application/vnd.deepnote.dataframe.v3+json": {
       "column_count": 2,
       "row_count": 2774,
       "columns": [
        {
         "name": "ds",
         "dtype": "object",
         "stats": {
          "unique_count": 341,
          "nan_count": 0,
          "categories": [
           {
            "name": "25/02/2020",
            "count": 316
           },
           {
            "name": "24/02/2020",
            "count": 290
           },
           {
            "name": "339 others",
            "count": 2168
           }
          ]
         }
        },
        {
         "name": "y",
         "dtype": "float64",
         "stats": {
          "unique_count": 185,
          "nan_count": 0,
          "min": "0.0",
          "max": "200.0",
          "histogram": [
           {
            "bin_start": 0,
            "bin_end": 20,
            "count": 176
           },
           {
            "bin_start": 20,
            "bin_end": 40,
            "count": 645
           },
           {
            "bin_start": 40,
            "bin_end": 60,
            "count": 917
           },
           {
            "bin_start": 60,
            "bin_end": 80,
            "count": 390
           },
           {
            "bin_start": 80,
            "bin_end": 100,
            "count": 255
           },
           {
            "bin_start": 100,
            "bin_end": 120,
            "count": 146
           },
           {
            "bin_start": 120,
            "bin_end": 140,
            "count": 92
           },
           {
            "bin_start": 140,
            "bin_end": 160,
            "count": 59
           },
           {
            "bin_start": 160,
            "bin_end": 180,
            "count": 20
           },
           {
            "bin_start": 180,
            "bin_end": 200,
            "count": 74
           }
          ]
         }
        },
        {
         "name": "_deepnote_index_column",
         "dtype": "int64"
        }
       ],
       "rows": [
        {
         "ds": "01/01/2020",
         "y": 92,
         "_deepnote_index_column": 52
        },
        {
         "ds": "01/01/2020",
         "y": 50,
         "_deepnote_index_column": 53
        },
        {
         "ds": "01/01/2020",
         "y": 114,
         "_deepnote_index_column": 54
        },
        {
         "ds": "01/01/2020",
         "y": 76,
         "_deepnote_index_column": 55
        },
        {
         "ds": "01/01/2020",
         "y": 50,
         "_deepnote_index_column": 56
        },
        {
         "ds": "01/01/2020",
         "y": 122,
         "_deepnote_index_column": 57
        },
        {
         "ds": "01/01/2020",
         "y": 72,
         "_deepnote_index_column": 58
        },
        {
         "ds": "01/01/2020",
         "y": 50,
         "_deepnote_index_column": 59
        },
        {
         "ds": "01/01/2020",
         "y": 78,
         "_deepnote_index_column": 60
        },
        {
         "ds": "01/01/2020",
         "y": 74,
         "_deepnote_index_column": 61
        }
       ]
      },
      "text/plain": "              ds      y\n0     01/01/2020   30.0\n1     01/01/2020   80.0\n2     01/01/2020   51.0\n3     01/01/2020  100.0\n4     01/01/2020   60.0\n...          ...    ...\n3038  28/12/2021   68.0\n3039  28/12/2021  103.0\n3040  28/12/2021   54.0\n3041  28/12/2021   19.0\n3042  30/12/2021   22.0\n\n[2774 rows x 2 columns]",
      "text/html": "<div>\n<style scoped>\n    .dataframe tbody tr th:only-of-type {\n        vertical-align: middle;\n    }\n\n    .dataframe tbody tr th {\n        vertical-align: top;\n    }\n\n    .dataframe thead th {\n        text-align: right;\n    }\n</style>\n<table border=\"1\" class=\"dataframe\">\n  <thead>\n    <tr style=\"text-align: right;\">\n      <th></th>\n      <th>ds</th>\n      <th>y</th>\n    </tr>\n  </thead>\n  <tbody>\n    <tr>\n      <th>0</th>\n      <td>01/01/2020</td>\n      <td>30.0</td>\n    </tr>\n    <tr>\n      <th>1</th>\n      <td>01/01/2020</td>\n      <td>80.0</td>\n    </tr>\n    <tr>\n      <th>2</th>\n      <td>01/01/2020</td>\n      <td>51.0</td>\n    </tr>\n    <tr>\n      <th>3</th>\n      <td>01/01/2020</td>\n      <td>100.0</td>\n    </tr>\n    <tr>\n      <th>4</th>\n      <td>01/01/2020</td>\n      <td>60.0</td>\n    </tr>\n    <tr>\n      <th>...</th>\n      <td>...</td>\n      <td>...</td>\n    </tr>\n    <tr>\n      <th>3038</th>\n      <td>28/12/2021</td>\n      <td>68.0</td>\n    </tr>\n    <tr>\n      <th>3039</th>\n      <td>28/12/2021</td>\n      <td>103.0</td>\n    </tr>\n    <tr>\n      <th>3040</th>\n      <td>28/12/2021</td>\n      <td>54.0</td>\n    </tr>\n    <tr>\n      <th>3041</th>\n      <td>28/12/2021</td>\n      <td>19.0</td>\n    </tr>\n    <tr>\n      <th>3042</th>\n      <td>30/12/2021</td>\n      <td>22.0</td>\n    </tr>\n  </tbody>\n</table>\n<p>2774 rows × 2 columns</p>\n</div>"
     },
     "metadata": {}
    }
   ]
  },
  {
   "cell_type": "code",
   "metadata": {
    "cell_id": "1dfe5994eaed445280b26f5f7086ff31",
    "tags": [],
    "deepnote_to_be_reexecuted": false,
    "source_hash": "3933a19f",
    "execution_start": 1661016279765,
    "execution_millis": 4,
    "deepnote_table_state": {
     "pageSize": 10,
     "pageIndex": 0,
     "filters": [],
     "sortBy": []
    },
    "deepnote_table_loading": false,
    "deepnote_cell_type": "code",
    "deepnote_cell_height": 94
   },
   "source": "#z['ds'] = pd.to_datetime(z['ds'])\n#z",
   "execution_count": 13,
   "outputs": []
  },
  {
   "cell_type": "code",
   "metadata": {
    "cell_id": "d17980e5e0194c93bdd28f5c7daae556",
    "tags": [],
    "deepnote_to_be_reexecuted": false,
    "source_hash": "893ec6af",
    "execution_start": 1661016279826,
    "execution_millis": 0,
    "deepnote_cell_type": "code",
    "deepnote_cell_height": 130
   },
   "source": "z['ds'] = pd.to_datetime(z['ds'])\nz = z.set_index('ds') \ngrouped_dat = z.y.resample('m').mean()\n",
   "execution_count": 14,
   "outputs": []
  },
  {
   "cell_type": "code",
   "metadata": {
    "cell_id": "5e1357c13383487eb16588ca0e47be41",
    "tags": [],
    "deepnote_to_be_reexecuted": false,
    "source_hash": "7e9f7ea4",
    "execution_start": 1661016279826,
    "execution_millis": 0,
    "deepnote_cell_type": "code",
    "deepnote_cell_height": 591.875,
    "deepnote_output_heights": [
     499.875
    ]
   },
   "source": "grouped_dat",
   "execution_count": 15,
   "outputs": [
    {
     "output_type": "execute_result",
     "execution_count": 15,
     "data": {
      "text/plain": "ds\n2020-01-31    59.302083\n2020-02-29    56.142319\n2020-03-31    59.850746\n2020-04-30    62.052632\n2020-05-31    47.113208\n2020-06-30    73.678571\n2020-07-31    66.098765\n2020-08-31    45.455696\n2020-09-30    46.266667\n2020-10-31    65.000000\n2020-11-30    67.000000\n2020-12-31    54.535714\n2021-01-31    71.939759\n2021-02-28    68.268722\n2021-03-31    74.923077\n2021-04-30    67.657895\n2021-05-31    59.781250\n2021-06-30    52.326531\n2021-07-31    48.323077\n2021-08-31    66.450980\n2021-09-30    69.868852\n2021-10-31    63.321429\n2021-11-30    56.942857\n2021-12-31    59.909091\nFreq: M, Name: y, dtype: float64"
     },
     "metadata": {}
    }
   ]
  },
  {
   "cell_type": "code",
   "metadata": {
    "cell_id": "d90933c2b7b54085a3ed58b5fdac239a",
    "tags": [],
    "deepnote_to_be_reexecuted": false,
    "source_hash": "835783dd",
    "execution_start": 1661016279827,
    "execution_millis": 2,
    "deepnote_cell_type": "code",
    "deepnote_cell_height": 76
   },
   "source": "final_dat = grouped_dat.to_frame()",
   "execution_count": 16,
   "outputs": []
  },
  {
   "cell_type": "code",
   "metadata": {
    "cell_id": "8792c405a00740b0a0d1488342abef5e",
    "tags": [],
    "deepnote_to_be_reexecuted": false,
    "source_hash": "36a4ded8",
    "execution_start": 1661016279856,
    "execution_millis": 2,
    "deepnote_cell_type": "code",
    "deepnote_cell_height": 595
   },
   "source": "final_dat",
   "execution_count": 17,
   "outputs": [
    {
     "output_type": "execute_result",
     "execution_count": 17,
     "data": {
      "application/vnd.deepnote.dataframe.v3+json": {
       "column_count": 1,
       "row_count": 24,
       "columns": [
        {
         "name": "y",
         "dtype": "float64",
         "stats": {
          "unique_count": 24,
          "nan_count": 0,
          "min": "45.45569620253165",
          "max": "74.92307692307692",
          "histogram": [
           {
            "bin_start": 45.45569620253165,
            "bin_end": 48.40243427458618,
            "count": 4
           },
           {
            "bin_start": 48.40243427458618,
            "bin_end": 51.3491723466407,
            "count": 0
           },
           {
            "bin_start": 51.3491723466407,
            "bin_end": 54.29591041869523,
            "count": 1
           },
           {
            "bin_start": 54.29591041869523,
            "bin_end": 57.24264849074976,
            "count": 3
           },
           {
            "bin_start": 57.24264849074976,
            "bin_end": 60.18938656280429,
            "count": 4
           },
           {
            "bin_start": 60.18938656280429,
            "bin_end": 63.13612463485881,
            "count": 1
           },
           {
            "bin_start": 63.13612463485881,
            "bin_end": 66.08286270691335,
            "count": 2
           },
           {
            "bin_start": 66.08286270691335,
            "bin_end": 69.02960077896786,
            "count": 5
           },
           {
            "bin_start": 69.02960077896786,
            "bin_end": 71.97633885102239,
            "count": 2
           },
           {
            "bin_start": 71.97633885102239,
            "bin_end": 74.92307692307692,
            "count": 2
           }
          ]
         }
        },
        {
         "name": "_deepnote_index_column",
         "dtype": "datetime64[ns]"
        }
       ],
       "rows": [
        {
         "y": 59.302083333333336,
         "_deepnote_index_column": "2020-01-31T00:00:00Z"
        },
        {
         "y": 56.14231856738925,
         "_deepnote_index_column": "2020-02-29T00:00:00Z"
        },
        {
         "y": 59.850746268656714,
         "_deepnote_index_column": "2020-03-31T00:00:00Z"
        },
        {
         "y": 62.05263157894737,
         "_deepnote_index_column": "2020-04-30T00:00:00Z"
        },
        {
         "y": 47.113207547169814,
         "_deepnote_index_column": "2020-05-31T00:00:00Z"
        },
        {
         "y": 73.67857142857143,
         "_deepnote_index_column": "2020-06-30T00:00:00Z"
        },
        {
         "y": 66.09876543209876,
         "_deepnote_index_column": "2020-07-31T00:00:00Z"
        },
        {
         "y": 45.45569620253165,
         "_deepnote_index_column": "2020-08-31T00:00:00Z"
        },
        {
         "y": 46.266666666666666,
         "_deepnote_index_column": "2020-09-30T00:00:00Z"
        },
        {
         "y": 65,
         "_deepnote_index_column": "2020-10-31T00:00:00Z"
        }
       ]
      },
      "text/plain": "                    y\nds                   \n2020-01-31  59.302083\n2020-02-29  56.142319\n2020-03-31  59.850746\n2020-04-30  62.052632\n2020-05-31  47.113208\n2020-06-30  73.678571\n2020-07-31  66.098765\n2020-08-31  45.455696\n2020-09-30  46.266667\n2020-10-31  65.000000\n2020-11-30  67.000000\n2020-12-31  54.535714\n2021-01-31  71.939759\n2021-02-28  68.268722\n2021-03-31  74.923077\n2021-04-30  67.657895\n2021-05-31  59.781250\n2021-06-30  52.326531\n2021-07-31  48.323077\n2021-08-31  66.450980\n2021-09-30  69.868852\n2021-10-31  63.321429\n2021-11-30  56.942857\n2021-12-31  59.909091",
      "text/html": "<div>\n<style scoped>\n    .dataframe tbody tr th:only-of-type {\n        vertical-align: middle;\n    }\n\n    .dataframe tbody tr th {\n        vertical-align: top;\n    }\n\n    .dataframe thead th {\n        text-align: right;\n    }\n</style>\n<table border=\"1\" class=\"dataframe\">\n  <thead>\n    <tr style=\"text-align: right;\">\n      <th></th>\n      <th>y</th>\n    </tr>\n    <tr>\n      <th>ds</th>\n      <th></th>\n    </tr>\n  </thead>\n  <tbody>\n    <tr>\n      <th>2020-01-31</th>\n      <td>59.302083</td>\n    </tr>\n    <tr>\n      <th>2020-02-29</th>\n      <td>56.142319</td>\n    </tr>\n    <tr>\n      <th>2020-03-31</th>\n      <td>59.850746</td>\n    </tr>\n    <tr>\n      <th>2020-04-30</th>\n      <td>62.052632</td>\n    </tr>\n    <tr>\n      <th>2020-05-31</th>\n      <td>47.113208</td>\n    </tr>\n    <tr>\n      <th>2020-06-30</th>\n      <td>73.678571</td>\n    </tr>\n    <tr>\n      <th>2020-07-31</th>\n      <td>66.098765</td>\n    </tr>\n    <tr>\n      <th>2020-08-31</th>\n      <td>45.455696</td>\n    </tr>\n    <tr>\n      <th>2020-09-30</th>\n      <td>46.266667</td>\n    </tr>\n    <tr>\n      <th>2020-10-31</th>\n      <td>65.000000</td>\n    </tr>\n    <tr>\n      <th>2020-11-30</th>\n      <td>67.000000</td>\n    </tr>\n    <tr>\n      <th>2020-12-31</th>\n      <td>54.535714</td>\n    </tr>\n    <tr>\n      <th>2021-01-31</th>\n      <td>71.939759</td>\n    </tr>\n    <tr>\n      <th>2021-02-28</th>\n      <td>68.268722</td>\n    </tr>\n    <tr>\n      <th>2021-03-31</th>\n      <td>74.923077</td>\n    </tr>\n    <tr>\n      <th>2021-04-30</th>\n      <td>67.657895</td>\n    </tr>\n    <tr>\n      <th>2021-05-31</th>\n      <td>59.781250</td>\n    </tr>\n    <tr>\n      <th>2021-06-30</th>\n      <td>52.326531</td>\n    </tr>\n    <tr>\n      <th>2021-07-31</th>\n      <td>48.323077</td>\n    </tr>\n    <tr>\n      <th>2021-08-31</th>\n      <td>66.450980</td>\n    </tr>\n    <tr>\n      <th>2021-09-30</th>\n      <td>69.868852</td>\n    </tr>\n    <tr>\n      <th>2021-10-31</th>\n      <td>63.321429</td>\n    </tr>\n    <tr>\n      <th>2021-11-30</th>\n      <td>56.942857</td>\n    </tr>\n    <tr>\n      <th>2021-12-31</th>\n      <td>59.909091</td>\n    </tr>\n  </tbody>\n</table>\n</div>"
     },
     "metadata": {}
    }
   ]
  },
  {
   "cell_type": "code",
   "metadata": {
    "cell_id": "2d146e30a2f24777b2f97407de1514a6",
    "tags": [],
    "deepnote_to_be_reexecuted": false,
    "source_hash": "66f18264",
    "execution_start": 1661016279857,
    "execution_millis": 26,
    "deepnote_cell_type": "code",
    "deepnote_cell_height": 76
   },
   "source": "final_dat['ds'] = final_dat.index",
   "execution_count": 18,
   "outputs": []
  },
  {
   "cell_type": "code",
   "metadata": {
    "cell_id": "a069c532bcb74cba914f1d018b6d9ba4",
    "tags": [],
    "deepnote_to_be_reexecuted": false,
    "source_hash": "36a4ded8",
    "execution_start": 1661016279883,
    "execution_millis": 4,
    "deepnote_cell_type": "code",
    "deepnote_cell_height": 595
   },
   "source": "final_dat",
   "execution_count": 19,
   "outputs": [
    {
     "output_type": "execute_result",
     "execution_count": 19,
     "data": {
      "application/vnd.deepnote.dataframe.v3+json": {
       "column_count": 2,
       "row_count": 24,
       "columns": [
        {
         "name": "y",
         "dtype": "float64",
         "stats": {
          "unique_count": 24,
          "nan_count": 0,
          "min": "45.45569620253165",
          "max": "74.92307692307692",
          "histogram": [
           {
            "bin_start": 45.45569620253165,
            "bin_end": 48.40243427458618,
            "count": 4
           },
           {
            "bin_start": 48.40243427458618,
            "bin_end": 51.3491723466407,
            "count": 0
           },
           {
            "bin_start": 51.3491723466407,
            "bin_end": 54.29591041869523,
            "count": 1
           },
           {
            "bin_start": 54.29591041869523,
            "bin_end": 57.24264849074976,
            "count": 3
           },
           {
            "bin_start": 57.24264849074976,
            "bin_end": 60.18938656280429,
            "count": 4
           },
           {
            "bin_start": 60.18938656280429,
            "bin_end": 63.13612463485881,
            "count": 1
           },
           {
            "bin_start": 63.13612463485881,
            "bin_end": 66.08286270691335,
            "count": 2
           },
           {
            "bin_start": 66.08286270691335,
            "bin_end": 69.02960077896786,
            "count": 5
           },
           {
            "bin_start": 69.02960077896786,
            "bin_end": 71.97633885102239,
            "count": 2
           },
           {
            "bin_start": 71.97633885102239,
            "bin_end": 74.92307692307692,
            "count": 2
           }
          ]
         }
        },
        {
         "name": "ds",
         "dtype": "datetime64[ns]",
         "stats": {
          "unique_count": 24,
          "nan_count": 0,
          "min": "2020-01-31 00:00:00",
          "max": "2021-12-31 00:00:00",
          "histogram": [
           {
            "bin_start": 1580428800000000000,
            "bin_end": 1586476800000000000,
            "count": 3
           },
           {
            "bin_start": 1586476800000000000,
            "bin_end": 1592524800000000000,
            "count": 2
           },
           {
            "bin_start": 1592524800000000000,
            "bin_end": 1598572800000000000,
            "count": 2
           },
           {
            "bin_start": 1598572800000000000,
            "bin_end": 1604620800000000000,
            "count": 3
           },
           {
            "bin_start": 1604620800000000000,
            "bin_end": 1610668800000000000,
            "count": 2
           },
           {
            "bin_start": 1610668800000000000,
            "bin_end": 1616716800000000000,
            "count": 2
           },
           {
            "bin_start": 1616716800000000000,
            "bin_end": 1622764800000000000,
            "count": 3
           },
           {
            "bin_start": 1622764800000000000,
            "bin_end": 1628812800000000000,
            "count": 2
           },
           {
            "bin_start": 1628812800000000000,
            "bin_end": 1634860800000000000,
            "count": 2
           },
           {
            "bin_start": 1634860800000000000,
            "bin_end": 1640908800000000000,
            "count": 3
           }
          ]
         }
        },
        {
         "name": "_deepnote_index_column",
         "dtype": "datetime64[ns]"
        }
       ],
       "rows": [
        {
         "y": 59.302083333333336,
         "ds": "2020-01-31T00:00:00Z",
         "_deepnote_index_column": "2020-01-31T00:00:00Z"
        },
        {
         "y": 56.14231856738925,
         "ds": "2020-02-29T00:00:00Z",
         "_deepnote_index_column": "2020-02-29T00:00:00Z"
        },
        {
         "y": 59.850746268656714,
         "ds": "2020-03-31T00:00:00Z",
         "_deepnote_index_column": "2020-03-31T00:00:00Z"
        },
        {
         "y": 62.05263157894737,
         "ds": "2020-04-30T00:00:00Z",
         "_deepnote_index_column": "2020-04-30T00:00:00Z"
        },
        {
         "y": 47.113207547169814,
         "ds": "2020-05-31T00:00:00Z",
         "_deepnote_index_column": "2020-05-31T00:00:00Z"
        },
        {
         "y": 73.67857142857143,
         "ds": "2020-06-30T00:00:00Z",
         "_deepnote_index_column": "2020-06-30T00:00:00Z"
        },
        {
         "y": 66.09876543209876,
         "ds": "2020-07-31T00:00:00Z",
         "_deepnote_index_column": "2020-07-31T00:00:00Z"
        },
        {
         "y": 45.45569620253165,
         "ds": "2020-08-31T00:00:00Z",
         "_deepnote_index_column": "2020-08-31T00:00:00Z"
        },
        {
         "y": 46.266666666666666,
         "ds": "2020-09-30T00:00:00Z",
         "_deepnote_index_column": "2020-09-30T00:00:00Z"
        },
        {
         "y": 65,
         "ds": "2020-10-31T00:00:00Z",
         "_deepnote_index_column": "2020-10-31T00:00:00Z"
        }
       ]
      },
      "text/plain": "                    y         ds\nds                              \n2020-01-31  59.302083 2020-01-31\n2020-02-29  56.142319 2020-02-29\n2020-03-31  59.850746 2020-03-31\n2020-04-30  62.052632 2020-04-30\n2020-05-31  47.113208 2020-05-31\n2020-06-30  73.678571 2020-06-30\n2020-07-31  66.098765 2020-07-31\n2020-08-31  45.455696 2020-08-31\n2020-09-30  46.266667 2020-09-30\n2020-10-31  65.000000 2020-10-31\n2020-11-30  67.000000 2020-11-30\n2020-12-31  54.535714 2020-12-31\n2021-01-31  71.939759 2021-01-31\n2021-02-28  68.268722 2021-02-28\n2021-03-31  74.923077 2021-03-31\n2021-04-30  67.657895 2021-04-30\n2021-05-31  59.781250 2021-05-31\n2021-06-30  52.326531 2021-06-30\n2021-07-31  48.323077 2021-07-31\n2021-08-31  66.450980 2021-08-31\n2021-09-30  69.868852 2021-09-30\n2021-10-31  63.321429 2021-10-31\n2021-11-30  56.942857 2021-11-30\n2021-12-31  59.909091 2021-12-31",
      "text/html": "<div>\n<style scoped>\n    .dataframe tbody tr th:only-of-type {\n        vertical-align: middle;\n    }\n\n    .dataframe tbody tr th {\n        vertical-align: top;\n    }\n\n    .dataframe thead th {\n        text-align: right;\n    }\n</style>\n<table border=\"1\" class=\"dataframe\">\n  <thead>\n    <tr style=\"text-align: right;\">\n      <th></th>\n      <th>y</th>\n      <th>ds</th>\n    </tr>\n    <tr>\n      <th>ds</th>\n      <th></th>\n      <th></th>\n    </tr>\n  </thead>\n  <tbody>\n    <tr>\n      <th>2020-01-31</th>\n      <td>59.302083</td>\n      <td>2020-01-31</td>\n    </tr>\n    <tr>\n      <th>2020-02-29</th>\n      <td>56.142319</td>\n      <td>2020-02-29</td>\n    </tr>\n    <tr>\n      <th>2020-03-31</th>\n      <td>59.850746</td>\n      <td>2020-03-31</td>\n    </tr>\n    <tr>\n      <th>2020-04-30</th>\n      <td>62.052632</td>\n      <td>2020-04-30</td>\n    </tr>\n    <tr>\n      <th>2020-05-31</th>\n      <td>47.113208</td>\n      <td>2020-05-31</td>\n    </tr>\n    <tr>\n      <th>2020-06-30</th>\n      <td>73.678571</td>\n      <td>2020-06-30</td>\n    </tr>\n    <tr>\n      <th>2020-07-31</th>\n      <td>66.098765</td>\n      <td>2020-07-31</td>\n    </tr>\n    <tr>\n      <th>2020-08-31</th>\n      <td>45.455696</td>\n      <td>2020-08-31</td>\n    </tr>\n    <tr>\n      <th>2020-09-30</th>\n      <td>46.266667</td>\n      <td>2020-09-30</td>\n    </tr>\n    <tr>\n      <th>2020-10-31</th>\n      <td>65.000000</td>\n      <td>2020-10-31</td>\n    </tr>\n    <tr>\n      <th>2020-11-30</th>\n      <td>67.000000</td>\n      <td>2020-11-30</td>\n    </tr>\n    <tr>\n      <th>2020-12-31</th>\n      <td>54.535714</td>\n      <td>2020-12-31</td>\n    </tr>\n    <tr>\n      <th>2021-01-31</th>\n      <td>71.939759</td>\n      <td>2021-01-31</td>\n    </tr>\n    <tr>\n      <th>2021-02-28</th>\n      <td>68.268722</td>\n      <td>2021-02-28</td>\n    </tr>\n    <tr>\n      <th>2021-03-31</th>\n      <td>74.923077</td>\n      <td>2021-03-31</td>\n    </tr>\n    <tr>\n      <th>2021-04-30</th>\n      <td>67.657895</td>\n      <td>2021-04-30</td>\n    </tr>\n    <tr>\n      <th>2021-05-31</th>\n      <td>59.781250</td>\n      <td>2021-05-31</td>\n    </tr>\n    <tr>\n      <th>2021-06-30</th>\n      <td>52.326531</td>\n      <td>2021-06-30</td>\n    </tr>\n    <tr>\n      <th>2021-07-31</th>\n      <td>48.323077</td>\n      <td>2021-07-31</td>\n    </tr>\n    <tr>\n      <th>2021-08-31</th>\n      <td>66.450980</td>\n      <td>2021-08-31</td>\n    </tr>\n    <tr>\n      <th>2021-09-30</th>\n      <td>69.868852</td>\n      <td>2021-09-30</td>\n    </tr>\n    <tr>\n      <th>2021-10-31</th>\n      <td>63.321429</td>\n      <td>2021-10-31</td>\n    </tr>\n    <tr>\n      <th>2021-11-30</th>\n      <td>56.942857</td>\n      <td>2021-11-30</td>\n    </tr>\n    <tr>\n      <th>2021-12-31</th>\n      <td>59.909091</td>\n      <td>2021-12-31</td>\n    </tr>\n  </tbody>\n</table>\n</div>"
     },
     "metadata": {}
    }
   ]
  },
  {
   "cell_type": "code",
   "metadata": {
    "cell_id": "4140e1a3a3e2408e869afc8c93574fde",
    "tags": [],
    "deepnote_to_be_reexecuted": false,
    "source_hash": "21e32291",
    "execution_start": 1661016279934,
    "execution_millis": 0,
    "deepnote_cell_type": "code",
    "deepnote_cell_height": 94
   },
   "source": "import matplotlib.pyplot as plt\nimport numpy as np",
   "execution_count": 20,
   "outputs": []
  },
  {
   "cell_type": "code",
   "metadata": {
    "cell_id": "e738f34a653241d0ab5ff628fc562ddb",
    "tags": [],
    "deepnote_to_be_reexecuted": false,
    "source_hash": "21fd5f04",
    "execution_start": 1661016279934,
    "execution_millis": 221,
    "deepnote_cell_type": "code",
    "deepnote_cell_height": 526.5,
    "deepnote_output_heights": [
     154.5,
     249
    ]
   },
   "source": "plt.boxplot(final_dat['y'])",
   "execution_count": 21,
   "outputs": [
    {
     "output_type": "execute_result",
     "execution_count": 21,
     "data": {
      "text/plain": "{'whiskers': [<matplotlib.lines.Line2D at 0x7f5dbd2641c0>,\n  <matplotlib.lines.Line2D at 0x7f5dbd264490>],\n 'caps': [<matplotlib.lines.Line2D at 0x7f5dbd264760>,\n  <matplotlib.lines.Line2D at 0x7f5dbd264a30>],\n 'boxes': [<matplotlib.lines.Line2D at 0x7f5dbd24afd0>],\n 'medians': [<matplotlib.lines.Line2D at 0x7f5dbd264d00>],\n 'fliers': [<matplotlib.lines.Line2D at 0x7f5dbd264fd0>],\n 'means': []}"
     },
     "metadata": {}
    },
    {
     "data": {
      "text/plain": "<Figure size 432x288 with 1 Axes>",
      "image/png": "[encoded data removed]"
     },
     "metadata": {
      "needs_background": "light",
      "image/png": {
       "width": 368,
       "height": 248
      }
     },
     "output_type": "display_data"
    }
   ]
  },
  {
   "cell_type": "code",
   "metadata": {
    "cell_id": "31ea3c67929f4b64b2ec67b1f98968dd",
    "tags": [],
    "deepnote_to_be_reexecuted": false,
    "source_hash": "f338c1b9",
    "execution_start": 1661016280154,
    "execution_millis": 324,
    "deepnote_cell_type": "code",
    "deepnote_cell_height": 554.78125,
    "deepnote_output_heights": [
     20.1875,
     375.59375
    ]
   },
   "source": "final_dat.plot(x='ds', y='y', figsize = (20, 10))\n\n",
   "execution_count": 22,
   "outputs": [
    {
     "output_type": "execute_result",
     "execution_count": 22,
     "data": {
      "text/plain": "<AxesSubplot:xlabel='ds'>"
     },
     "metadata": {}
    },
    {
     "data": {
      "text/plain": "<Figure size 1440x720 with 1 Axes>",
      "image/png": "[encoded data removed]"
     },
     "metadata": {
      "needs_background": "light",
      "image/png": {
       "width": 1150,
       "height": 600
      }
     },
     "output_type": "display_data"
    }
   ]
  },
  {
   "cell_type": "code",
   "metadata": {
    "cell_id": "260e4ff1424441139f4b304583765d43",
    "tags": [],
    "deepnote_to_be_reexecuted": false,
    "source_hash": "4ec62dd9",
    "execution_start": 1661016280480,
    "execution_millis": 6,
    "deepnote_cell_type": "code",
    "deepnote_cell_height": 112.1875,
    "deepnote_output_heights": [
     20.1875
    ]
   },
   "source": "len(final_dat)",
   "execution_count": 23,
   "outputs": [
    {
     "output_type": "execute_result",
     "execution_count": 23,
     "data": {
      "text/plain": "24"
     },
     "metadata": {}
    }
   ]
  },
  {
   "cell_type": "code",
   "source": "train = final_dat.iloc[:-12]\ntest = final_dat.iloc[-12:]",
   "metadata": {
    "cell_id": "282f4cef2eb84b7ab7eace8430368f32",
    "tags": [],
    "deepnote_to_be_reexecuted": false,
    "source_hash": "ee2ed545",
    "execution_start": 1661016280529,
    "execution_millis": 1,
    "deepnote_cell_type": "code",
    "deepnote_cell_height": 94
   },
   "execution_count": 24,
   "outputs": []
  },
  {
   "cell_type": "code",
   "metadata": {
    "cell_id": "41c7d81517ab4444b893cbe35a582738",
    "tags": [],
    "deepnote_to_be_reexecuted": false,
    "source_hash": "ac71ea43",
    "execution_start": 1661016280530,
    "execution_millis": 4,
    "deepnote_cell_type": "code",
    "deepnote_cell_height": 130.1875,
    "deepnote_output_heights": [
     20.1875
    ]
   },
   "source": "train.shape\ntest.shape",
   "execution_count": 25,
   "outputs": [
    {
     "output_type": "execute_result",
     "execution_count": 25,
     "data": {
      "text/plain": "(12, 2)"
     },
     "metadata": {}
    }
   ]
  },
  {
   "cell_type": "code",
   "metadata": {
    "cell_id": "bff1f857a6474aebae8cf0319ba62fee",
    "tags": [],
    "deepnote_to_be_reexecuted": false,
    "source_hash": "d05c668a",
    "execution_start": 1661016280531,
    "execution_millis": 2237,
    "deepnote_cell_type": "code",
    "deepnote_cell_height": 181.375
   },
   "source": "m = Prophet()\nm.fit(train)\nfuture = m.make_future_dataframe(periods=730)\nforecast = m.predict(future)",
   "execution_count": 26,
   "outputs": [
    {
     "name": "stderr",
     "text": "17:24:40 - cmdstanpy - INFO - Chain [1] start processing\n17:24:40 - cmdstanpy - INFO - Chain [1] done processing\n",
     "output_type": "stream"
    }
   ]
  },
  {
   "cell_type": "code",
   "metadata": {
    "cell_id": "e9b0e13eeb1f40e692bbe666fa2d4505",
    "tags": [],
    "deepnote_to_be_reexecuted": false,
    "source_hash": "68fa3ffe",
    "execution_start": 1661016282832,
    "execution_millis": 11,
    "deepnote_cell_type": "code",
    "deepnote_cell_height": 407
   },
   "source": "forecast.head()",
   "execution_count": 27,
   "outputs": [
    {
     "output_type": "execute_result",
     "execution_count": 27,
     "data": {
      "application/vnd.deepnote.dataframe.v3+json": {
       "column_count": 13,
       "row_count": 5,
       "columns": [
        {
         "name": "ds",
         "dtype": "datetime64[ns]",
         "stats": {
          "unique_count": 5,
          "nan_count": 0,
          "min": "2020-01-31 00:00:00",
          "max": "2020-05-31 00:00:00",
          "histogram": [
           {
            "bin_start": 1580428800000000000,
            "bin_end": 1581474240000000000,
            "count": 1
           },
           {
            "bin_start": 1581474240000000000,
            "bin_end": 1582519680000000000,
            "count": 0
           },
           {
            "bin_start": 1582519680000000000,
            "bin_end": 1583565120000000000,
            "count": 1
           },
           {
            "bin_start": 1583565120000000000,
            "bin_end": 1584610560000000000,
            "count": 0
           },
           {
            "bin_start": 1584610560000000000,
            "bin_end": 1585656000000000000,
            "count": 1
           },
           {
            "bin_start": 1585656000000000000,
            "bin_end": 1586701440000000000,
            "count": 0
           },
           {
            "bin_start": 1586701440000000000,
            "bin_end": 1587746880000000000,
            "count": 0
           },
           {
            "bin_start": 1587746880000000000,
            "bin_end": 1588792320000000000,
            "count": 1
           },
           {
            "bin_start": 1588792320000000000,
            "bin_end": 1589837760000000000,
            "count": 0
           },
           {
            "bin_start": 1589837760000000000,
            "bin_end": 1590883200000000000,
            "count": 1
           }
          ]
         }
        },
        {
         "name": "trend",
         "dtype": "float64",
         "stats": {
          "unique_count": 5,
          "nan_count": 0,
          "min": "58.594759797434996",
          "max": "58.74134625",
          "histogram": [
           {
            "bin_start": 58.594759797434996,
            "bin_end": 58.6094184426915,
            "count": 1
           },
           {
            "bin_start": 58.6094184426915,
            "bin_end": 58.624077087947995,
            "count": 0
           },
           {
            "bin_start": 58.624077087947995,
            "bin_end": 58.6387357332045,
            "count": 1
           },
           {
            "bin_start": 58.6387357332045,
            "bin_end": 58.653394378460995,
            "count": 0
           },
           {
            "bin_start": 58.653394378460995,
            "bin_end": 58.6680530237175,
            "count": 0
           },
           {
            "bin_start": 58.6680530237175,
            "bin_end": 58.682711668974,
            "count": 1
           },
           {
            "bin_start": 58.682711668974,
            "bin_end": 58.6973703142305,
            "count": 0
           },
           {
            "bin_start": 58.6973703142305,
            "bin_end": 58.712028959487,
            "count": 1
           },
           {
            "bin_start": 58.712028959487,
            "bin_end": 58.726687604743496,
            "count": 0
           },
           {
            "bin_start": 58.726687604743496,
            "bin_end": 58.74134625,
            "count": 1
           }
          ]
         }
        },
        {
         "name": "yhat_lower",
         "dtype": "float64",
         "stats": {
          "unique_count": 5,
          "nan_count": 0,
          "min": "46.99699723887308",
          "max": "48.155387802279385",
          "histogram": [
           {
            "bin_start": 46.99699723887308,
            "bin_end": 47.11283629521371,
            "count": 1
           },
           {
            "bin_start": 47.11283629521371,
            "bin_end": 47.22867535155434,
            "count": 0
           },
           {
            "bin_start": 47.22867535155434,
            "bin_end": 47.34451440789497,
            "count": 0
           },
           {
            "bin_start": 47.34451440789497,
            "bin_end": 47.4603534642356,
            "count": 0
           },
           {
            "bin_start": 47.4603534642356,
            "bin_end": 47.57619252057623,
            "count": 0
           },
           {
            "bin_start": 47.57619252057623,
            "bin_end": 47.69203157691686,
            "count": 0
           },
           {
            "bin_start": 47.69203157691686,
            "bin_end": 47.807870633257494,
            "count": 2
           },
           {
            "bin_start": 47.807870633257494,
            "bin_end": 47.92370968959813,
            "count": 0
           },
           {
            "bin_start": 47.92370968959813,
            "bin_end": 48.03954874593875,
            "count": 0
           },
           {
            "bin_start": 48.03954874593875,
            "bin_end": 48.155387802279385,
            "count": 2
           }
          ]
         }
        },
        {
         "name": "yhat_upper",
         "dtype": "float64",
         "stats": {
          "unique_count": 5,
          "nan_count": 0,
          "min": "69.70656097161412",
          "max": "70.24262252787419",
          "histogram": [
           {
            "bin_start": 69.70656097161412,
            "bin_end": 69.76016712724012,
            "count": 1
           },
           {
            "bin_start": 69.76016712724012,
            "bin_end": 69.81377328286614,
            "count": 0
           },
           {
            "bin_start": 69.81377328286614,
            "bin_end": 69.86737943849215,
            "count": 0
           },
           {
            "bin_start": 69.86737943849215,
            "bin_end": 69.92098559411815,
            "count": 0
           },
           {
            "bin_start": 69.92098559411815,
            "bin_end": 69.97459174974415,
            "count": 1
           },
           {
            "bin_start": 69.97459174974415,
            "bin_end": 70.02819790537016,
            "count": 1
           },
           {
            "bin_start": 70.02819790537016,
            "bin_end": 70.08180406099618,
            "count": 0
           },
           {
            "bin_start": 70.08180406099618,
            "bin_end": 70.13541021662218,
            "count": 0
           },
           {
            "bin_start": 70.13541021662218,
            "bin_end": 70.18901637224818,
            "count": 1
           },
           {
            "bin_start": 70.18901637224818,
            "bin_end": 70.24262252787419,
            "count": 1
           }
          ]
         }
        },
        {
         "name": "trend_lower",
         "dtype": "float64",
         "stats": {
          "unique_count": 5,
          "nan_count": 0,
          "min": "58.594759797434996",
          "max": "58.74134625",
          "histogram": [
           {
            "bin_start": 58.594759797434996,
            "bin_end": 58.6094184426915,
            "count": 1
           },
           {
            "bin_start": 58.6094184426915,
            "bin_end": 58.624077087947995,
            "count": 0
           },
           {
            "bin_start": 58.624077087947995,
            "bin_end": 58.6387357332045,
            "count": 1
           },
           {
            "bin_start": 58.6387357332045,
            "bin_end": 58.653394378460995,
            "count": 0
           },
           {
            "bin_start": 58.653394378460995,
            "bin_end": 58.6680530237175,
            "count": 0
           },
           {
            "bin_start": 58.6680530237175,
            "bin_end": 58.682711668974,
            "count": 1
           },
           {
            "bin_start": 58.682711668974,
            "bin_end": 58.6973703142305,
            "count": 0
           },
           {
            "bin_start": 58.6973703142305,
            "bin_end": 58.712028959487,
            "count": 1
           },
           {
            "bin_start": 58.712028959487,
            "bin_end": 58.726687604743496,
            "count": 0
           },
           {
            "bin_start": 58.726687604743496,
            "bin_end": 58.74134625,
            "count": 1
           }
          ]
         }
        },
        {
         "name": "trend_upper",
         "dtype": "float64",
         "stats": {
          "unique_count": 5,
          "nan_count": 0,
          "min": "58.594759797434996",
          "max": "58.74134625",
          "histogram": [
           {
            "bin_start": 58.594759797434996,
            "bin_end": 58.6094184426915,
            "count": 1
           },
           {
            "bin_start": 58.6094184426915,
            "bin_end": 58.624077087947995,
            "count": 0
           },
           {
            "bin_start": 58.624077087947995,
            "bin_end": 58.6387357332045,
            "count": 1
           },
           {
            "bin_start": 58.6387357332045,
            "bin_end": 58.653394378460995,
            "count": 0
           },
           {
            "bin_start": 58.653394378460995,
            "bin_end": 58.6680530237175,
            "count": 0
           },
           {
            "bin_start": 58.6680530237175,
            "bin_end": 58.682711668974,
            "count": 1
           },
           {
            "bin_start": 58.682711668974,
            "bin_end": 58.6973703142305,
            "count": 0
           },
           {
            "bin_start": 58.6973703142305,
            "bin_end": 58.712028959487,
            "count": 1
           },
           {
            "bin_start": 58.712028959487,
            "bin_end": 58.726687604743496,
            "count": 0
           },
           {
            "bin_start": 58.726687604743496,
            "bin_end": 58.74134625,
            "count": 1
           }
          ]
         }
        },
        {
         "name": "additive_terms",
         "dtype": "float64",
         "stats": {
          "unique_count": 1,
          "nan_count": 0,
          "min": "0.0",
          "max": "0.0",
          "histogram": [
           {
            "bin_start": -0.5,
            "bin_end": -0.4,
            "count": 0
           },
           {
            "bin_start": -0.4,
            "bin_end": -0.3,
            "count": 0
           },
           {
            "bin_start": -0.3,
            "bin_end": -0.19999999999999996,
            "count": 0
           },
           {
            "bin_start": -0.19999999999999996,
            "bin_end": -0.09999999999999998,
            "count": 0
           },
           {
            "bin_start": -0.09999999999999998,
            "bin_end": 0,
            "count": 0
           },
           {
            "bin_start": 0,
            "bin_end": 0.10000000000000009,
            "count": 5
           },
           {
            "bin_start": 0.10000000000000009,
            "bin_end": 0.20000000000000007,
            "count": 0
           },
           {
            "bin_start": 0.20000000000000007,
            "bin_end": 0.30000000000000004,
            "count": 0
           },
           {
            "bin_start": 0.30000000000000004,
            "bin_end": 0.4,
            "count": 0
           },
           {
            "bin_start": 0.4,
            "bin_end": 0.5,
            "count": 0
           }
          ]
         }
        },
        {
         "name": "additive_terms_lower",
         "dtype": "float64",
         "stats": {
          "unique_count": 1,
          "nan_count": 0,
          "min": "0.0",
          "max": "0.0",
          "histogram": [
           {
            "bin_start": -0.5,
            "bin_end": -0.4,
            "count": 0
           },
           {
            "bin_start": -0.4,
            "bin_end": -0.3,
            "count": 0
           },
           {
            "bin_start": -0.3,
            "bin_end": -0.19999999999999996,
            "count": 0
           },
           {
            "bin_start": -0.19999999999999996,
            "bin_end": -0.09999999999999998,
            "count": 0
           },
           {
            "bin_start": -0.09999999999999998,
            "bin_end": 0,
            "count": 0
           },
           {
            "bin_start": 0,
            "bin_end": 0.10000000000000009,
            "count": 5
           },
           {
            "bin_start": 0.10000000000000009,
            "bin_end": 0.20000000000000007,
            "count": 0
           },
           {
            "bin_start": 0.20000000000000007,
            "bin_end": 0.30000000000000004,
            "count": 0
           },
           {
            "bin_start": 0.30000000000000004,
            "bin_end": 0.4,
            "count": 0
           },
           {
            "bin_start": 0.4,
            "bin_end": 0.5,
            "count": 0
           }
          ]
         }
        },
        {
         "name": "additive_terms_upper",
         "dtype": "float64",
         "stats": {
          "unique_count": 1,
          "nan_count": 0,
          "min": "0.0",
          "max": "0.0",
          "histogram": [
           {
            "bin_start": -0.5,
            "bin_end": -0.4,
            "count": 0
           },
           {
            "bin_start": -0.4,
            "bin_end": -0.3,
            "count": 0
           },
           {
            "bin_start": -0.3,
            "bin_end": -0.19999999999999996,
            "count": 0
           },
           {
            "bin_start": -0.19999999999999996,
            "bin_end": -0.09999999999999998,
            "count": 0
           },
           {
            "bin_start": -0.09999999999999998,
            "bin_end": 0,
            "count": 0
           },
           {
            "bin_start": 0,
            "bin_end": 0.10000000000000009,
            "count": 5
           },
           {
            "bin_start": 0.10000000000000009,
            "bin_end": 0.20000000000000007,
            "count": 0
           },
           {
            "bin_start": 0.20000000000000007,
            "bin_end": 0.30000000000000004,
            "count": 0
           },
           {
            "bin_start": 0.30000000000000004,
            "bin_end": 0.4,
            "count": 0
           },
           {
            "bin_start": 0.4,
            "bin_end": 0.5,
            "count": 0
           }
          ]
         }
        },
        {
         "name": "multiplicative_terms",
         "dtype": "float64",
         "stats": {
          "unique_count": 1,
          "nan_count": 0,
          "min": "0.0",
          "max": "0.0",
          "histogram": [
           {
            "bin_start": -0.5,
            "bin_end": -0.4,
            "count": 0
           },
           {
            "bin_start": -0.4,
            "bin_end": -0.3,
            "count": 0
           },
           {
            "bin_start": -0.3,
            "bin_end": -0.19999999999999996,
            "count": 0
           },
           {
            "bin_start": -0.19999999999999996,
            "bin_end": -0.09999999999999998,
            "count": 0
           },
           {
            "bin_start": -0.09999999999999998,
            "bin_end": 0,
            "count": 0
           },
           {
            "bin_start": 0,
            "bin_end": 0.10000000000000009,
            "count": 5
           },
           {
            "bin_start": 0.10000000000000009,
            "bin_end": 0.20000000000000007,
            "count": 0
           },
           {
            "bin_start": 0.20000000000000007,
            "bin_end": 0.30000000000000004,
            "count": 0
           },
           {
            "bin_start": 0.30000000000000004,
            "bin_end": 0.4,
            "count": 0
           },
           {
            "bin_start": 0.4,
            "bin_end": 0.5,
            "count": 0
           }
          ]
         }
        },
        {
         "name": "multiplicative_terms_lower",
         "dtype": "float64",
         "stats": {
          "unique_count": 1,
          "nan_count": 0,
          "min": "0.0",
          "max": "0.0",
          "histogram": [
           {
            "bin_start": -0.5,
            "bin_end": -0.4,
            "count": 0
           },
           {
            "bin_start": -0.4,
            "bin_end": -0.3,
            "count": 0
           },
           {
            "bin_start": -0.3,
            "bin_end": -0.19999999999999996,
            "count": 0
           },
           {
            "bin_start": -0.19999999999999996,
            "bin_end": -0.09999999999999998,
            "count": 0
           },
           {
            "bin_start": -0.09999999999999998,
            "bin_end": 0,
            "count": 0
           },
           {
            "bin_start": 0,
            "bin_end": 0.10000000000000009,
            "count": 5
           },
           {
            "bin_start": 0.10000000000000009,
            "bin_end": 0.20000000000000007,
            "count": 0
           },
           {
            "bin_start": 0.20000000000000007,
            "bin_end": 0.30000000000000004,
            "count": 0
           },
           {
            "bin_start": 0.30000000000000004,
            "bin_end": 0.4,
            "count": 0
           },
           {
            "bin_start": 0.4,
            "bin_end": 0.5,
            "count": 0
           }
          ]
         }
        },
        {
         "name": "multiplicative_terms_upper",
         "dtype": "float64",
         "stats": {
          "unique_count": 1,
          "nan_count": 0,
          "min": "0.0",
          "max": "0.0",
          "histogram": [
           {
            "bin_start": -0.5,
            "bin_end": -0.4,
            "count": 0
           },
           {
            "bin_start": -0.4,
            "bin_end": -0.3,
            "count": 0
           },
           {
            "bin_start": -0.3,
            "bin_end": -0.19999999999999996,
            "count": 0
           },
           {
            "bin_start": -0.19999999999999996,
            "bin_end": -0.09999999999999998,
            "count": 0
           },
           {
            "bin_start": -0.09999999999999998,
            "bin_end": 0,
            "count": 0
           },
           {
            "bin_start": 0,
            "bin_end": 0.10000000000000009,
            "count": 5
           },
           {
            "bin_start": 0.10000000000000009,
            "bin_end": 0.20000000000000007,
            "count": 0
           },
           {
            "bin_start": 0.20000000000000007,
            "bin_end": 0.30000000000000004,
            "count": 0
           },
           {
            "bin_start": 0.30000000000000004,
            "bin_end": 0.4,
            "count": 0
           },
           {
            "bin_start": 0.4,
            "bin_end": 0.5,
            "count": 0
           }
          ]
         }
        },
        {
         "name": "yhat",
         "dtype": "float64",
         "stats": {
          "unique_count": 5,
          "nan_count": 0,
          "min": "58.594759797434996",
          "max": "58.74134625",
          "histogram": [
           {
            "bin_start": 58.594759797434996,
            "bin_end": 58.6094184426915,
            "count": 1
           },
           {
            "bin_start": 58.6094184426915,
            "bin_end": 58.624077087947995,
            "count": 0
           },
           {
            "bin_start": 58.624077087947995,
            "bin_end": 58.6387357332045,
            "count": 1
           },
           {
            "bin_start": 58.6387357332045,
            "bin_end": 58.653394378460995,
            "count": 0
           },
           {
            "bin_start": 58.653394378460995,
            "bin_end": 58.6680530237175,
            "count": 0
           },
           {
            "bin_start": 58.6680530237175,
            "bin_end": 58.682711668974,
            "count": 1
           },
           {
            "bin_start": 58.682711668974,
            "bin_end": 58.6973703142305,
            "count": 0
           },
           {
            "bin_start": 58.6973703142305,
            "bin_end": 58.712028959487,
            "count": 1
           },
           {
            "bin_start": 58.712028959487,
            "bin_end": 58.726687604743496,
            "count": 0
           },
           {
            "bin_start": 58.726687604743496,
            "bin_end": 58.74134625,
            "count": 1
           }
          ]
         }
        },
        {
         "name": "_deepnote_index_column",
         "dtype": "int64"
        }
       ],
       "rows": [
        {
         "ds": "2020-01-31T00:00:00Z",
         "trend": 58.74134625,
         "yhat_lower": 48.155387802279385,
         "yhat_upper": 69.96092034105587,
         "trend_lower": 58.74134625,
         "trend_upper": 58.74134625,
         "additive_terms": 0,
         "additive_terms_lower": 0,
         "additive_terms_upper": 0,
         "multiplicative_terms": 0,
         "multiplicative_terms_lower": 0,
         "multiplicative_terms_upper": 0,
         "yhat": 58.74134625,
         "_deepnote_index_column": 0
        },
        {
         "ds": "2020-02-29T00:00:00Z",
         "trend": 58.70621396042537,
         "yhat_lower": 46.99699723887308,
         "yhat_upper": 69.70656097161412,
         "trend_lower": 58.70621396042537,
         "trend_upper": 58.70621396042537,
         "additive_terms": 0,
         "additive_terms_lower": 0,
         "additive_terms_upper": 0,
         "multiplicative_terms": 0,
         "multiplicative_terms_lower": 0,
         "multiplicative_terms_upper": 0,
         "yhat": 58.70621396042537,
         "_deepnote_index_column": 1
        },
        {
         "ds": "2020-03-31T00:00:00Z",
         "trend": 58.668658753719185,
         "yhat_lower": 47.767600431219705,
         "yhat_upper": 70.16844946870364,
         "trend_lower": 58.668658753719185,
         "trend_upper": 58.668658753719185,
         "additive_terms": 0,
         "additive_terms_lower": 0,
         "additive_terms_upper": 0,
         "multiplicative_terms": 0,
         "multiplicative_terms_lower": 0,
         "multiplicative_terms_upper": 0,
         "yhat": 58.668658753719185,
         "_deepnote_index_column": 2
        },
        {
         "ds": "2020-04-30T00:00:00Z",
         "trend": 58.632315004436315,
         "yhat_lower": 47.755860500419736,
         "yhat_upper": 70.24262252787419,
         "trend_lower": 58.632315004436315,
         "trend_upper": 58.632315004436315,
         "additive_terms": 0,
         "additive_terms_lower": 0,
         "additive_terms_upper": 0,
         "multiplicative_terms": 0,
         "multiplicative_terms_lower": 0,
         "multiplicative_terms_upper": 0,
         "yhat": 58.632315004436315,
         "_deepnote_index_column": 3
        },
        {
         "ds": "2020-05-31T00:00:00Z",
         "trend": 58.594759797434996,
         "yhat_lower": 48.11238211090675,
         "yhat_upper": 70.00704716935468,
         "trend_lower": 58.594759797434996,
         "trend_upper": 58.594759797434996,
         "additive_terms": 0,
         "additive_terms_lower": 0,
         "additive_terms_upper": 0,
         "multiplicative_terms": 0,
         "multiplicative_terms_lower": 0,
         "multiplicative_terms_upper": 0,
         "yhat": 58.594759797434996,
         "_deepnote_index_column": 4
        }
       ]
      },
      "text/plain": "          ds      trend  yhat_lower  yhat_upper  trend_lower  trend_upper  \\\n0 2020-01-31  58.741346   48.155388   69.960920    58.741346    58.741346   \n1 2020-02-29  58.706214   46.996997   69.706561    58.706214    58.706214   \n2 2020-03-31  58.668659   47.767600   70.168449    58.668659    58.668659   \n3 2020-04-30  58.632315   47.755861   70.242623    58.632315    58.632315   \n4 2020-05-31  58.594760   48.112382   70.007047    58.594760    58.594760   \n\n   additive_terms  additive_terms_lower  additive_terms_upper  \\\n0             0.0                   0.0                   0.0   \n1             0.0                   0.0                   0.0   \n2             0.0                   0.0                   0.0   \n3             0.0                   0.0                   0.0   \n4             0.0                   0.0                   0.0   \n\n   multiplicative_terms  multiplicative_terms_lower  \\\n0                   0.0                         0.0   \n1                   0.0                         0.0   \n2                   0.0                         0.0   \n3                   0.0                         0.0   \n4                   0.0                         0.0   \n\n   multiplicative_terms_upper       yhat  \n0                         0.0  58.741346  \n1                         0.0  58.706214  \n2                         0.0  58.668659  \n3                         0.0  58.632315  \n4                         0.0  58.594760  ",
      "text/html": "<div>\n<style scoped>\n    .dataframe tbody tr th:only-of-type {\n        vertical-align: middle;\n    }\n\n    .dataframe tbody tr th {\n        vertical-align: top;\n    }\n\n    .dataframe thead th {\n        text-align: right;\n    }\n</style>\n<table border=\"1\" class=\"dataframe\">\n  <thead>\n    <tr style=\"text-align: right;\">\n      <th></th>\n      <th>ds</th>\n      <th>trend</th>\n      <th>yhat_lower</th>\n      <th>yhat_upper</th>\n      <th>trend_lower</th>\n      <th>trend_upper</th>\n      <th>additive_terms</th>\n      <th>additive_terms_lower</th>\n      <th>additive_terms_upper</th>\n      <th>multiplicative_terms</th>\n      <th>multiplicative_terms_lower</th>\n      <th>multiplicative_terms_upper</th>\n      <th>yhat</th>\n    </tr>\n  </thead>\n  <tbody>\n    <tr>\n      <th>0</th>\n      <td>2020-01-31</td>\n      <td>58.741346</td>\n      <td>48.155388</td>\n      <td>69.960920</td>\n      <td>58.741346</td>\n      <td>58.741346</td>\n      <td>0.0</td>\n      <td>0.0</td>\n      <td>0.0</td>\n      <td>0.0</td>\n      <td>0.0</td>\n      <td>0.0</td>\n      <td>58.741346</td>\n    </tr>\n    <tr>\n      <th>1</th>\n      <td>2020-02-29</td>\n      <td>58.706214</td>\n      <td>46.996997</td>\n      <td>69.706561</td>\n      <td>58.706214</td>\n      <td>58.706214</td>\n      <td>0.0</td>\n      <td>0.0</td>\n      <td>0.0</td>\n      <td>0.0</td>\n      <td>0.0</td>\n      <td>0.0</td>\n      <td>58.706214</td>\n    </tr>\n    <tr>\n      <th>2</th>\n      <td>2020-03-31</td>\n      <td>58.668659</td>\n      <td>47.767600</td>\n      <td>70.168449</td>\n      <td>58.668659</td>\n      <td>58.668659</td>\n      <td>0.0</td>\n      <td>0.0</td>\n      <td>0.0</td>\n      <td>0.0</td>\n      <td>0.0</td>\n      <td>0.0</td>\n      <td>58.668659</td>\n    </tr>\n    <tr>\n      <th>3</th>\n      <td>2020-04-30</td>\n      <td>58.632315</td>\n      <td>47.755861</td>\n      <td>70.242623</td>\n      <td>58.632315</td>\n      <td>58.632315</td>\n      <td>0.0</td>\n      <td>0.0</td>\n      <td>0.0</td>\n      <td>0.0</td>\n      <td>0.0</td>\n      <td>0.0</td>\n      <td>58.632315</td>\n    </tr>\n    <tr>\n      <th>4</th>\n      <td>2020-05-31</td>\n      <td>58.594760</td>\n      <td>48.112382</td>\n      <td>70.007047</td>\n      <td>58.594760</td>\n      <td>58.594760</td>\n      <td>0.0</td>\n      <td>0.0</td>\n      <td>0.0</td>\n      <td>0.0</td>\n      <td>0.0</td>\n      <td>0.0</td>\n      <td>58.594760</td>\n    </tr>\n  </tbody>\n</table>\n</div>"
     },
     "metadata": {}
    }
   ]
  },
  {
   "cell_type": "code",
   "metadata": {
    "cell_id": "f3582426346f44ce8a06d579f1568a83",
    "tags": [],
    "deepnote_to_be_reexecuted": false,
    "source_hash": "1dd857e",
    "execution_start": 1661016282865,
    "execution_millis": 2,
    "deepnote_cell_type": "code",
    "deepnote_cell_height": 390
   },
   "source": "forecast[['ds', 'yhat', 'yhat_lower', 'yhat_upper']].head()",
   "execution_count": 28,
   "outputs": [
    {
     "output_type": "execute_result",
     "execution_count": 28,
     "data": {
      "application/vnd.deepnote.dataframe.v3+json": {
       "column_count": 4,
       "row_count": 5,
       "columns": [
        {
         "name": "ds",
         "dtype": "datetime64[ns]",
         "stats": {
          "unique_count": 5,
          "nan_count": 0,
          "min": "2020-01-31 00:00:00",
          "max": "2020-05-31 00:00:00",
          "histogram": [
           {
            "bin_start": 1580428800000000000,
            "bin_end": 1581474240000000000,
            "count": 1
           },
           {
            "bin_start": 1581474240000000000,
            "bin_end": 1582519680000000000,
            "count": 0
           },
           {
            "bin_start": 1582519680000000000,
            "bin_end": 1583565120000000000,
            "count": 1
           },
           {
            "bin_start": 1583565120000000000,
            "bin_end": 1584610560000000000,
            "count": 0
           },
           {
            "bin_start": 1584610560000000000,
            "bin_end": 1585656000000000000,
            "count": 1
           },
           {
            "bin_start": 1585656000000000000,
            "bin_end": 1586701440000000000,
            "count": 0
           },
           {
            "bin_start": 1586701440000000000,
            "bin_end": 1587746880000000000,
            "count": 0
           },
           {
            "bin_start": 1587746880000000000,
            "bin_end": 1588792320000000000,
            "count": 1
           },
           {
            "bin_start": 1588792320000000000,
            "bin_end": 1589837760000000000,
            "count": 0
           },
           {
            "bin_start": 1589837760000000000,
            "bin_end": 1590883200000000000,
            "count": 1
           }
          ]
         }
        },
        {
         "name": "yhat",
         "dtype": "float64",
         "stats": {
          "unique_count": 5,
          "nan_count": 0,
          "min": "58.594759797434996",
          "max": "58.74134625",
          "histogram": [
           {
            "bin_start": 58.594759797434996,
            "bin_end": 58.6094184426915,
            "count": 1
           },
           {
            "bin_start": 58.6094184426915,
            "bin_end": 58.624077087947995,
            "count": 0
           },
           {
            "bin_start": 58.624077087947995,
            "bin_end": 58.6387357332045,
            "count": 1
           },
           {
            "bin_start": 58.6387357332045,
            "bin_end": 58.653394378460995,
            "count": 0
           },
           {
            "bin_start": 58.653394378460995,
            "bin_end": 58.6680530237175,
            "count": 0
           },
           {
            "bin_start": 58.6680530237175,
            "bin_end": 58.682711668974,
            "count": 1
           },
           {
            "bin_start": 58.682711668974,
            "bin_end": 58.6973703142305,
            "count": 0
           },
           {
            "bin_start": 58.6973703142305,
            "bin_end": 58.712028959487,
            "count": 1
           },
           {
            "bin_start": 58.712028959487,
            "bin_end": 58.726687604743496,
            "count": 0
           },
           {
            "bin_start": 58.726687604743496,
            "bin_end": 58.74134625,
            "count": 1
           }
          ]
         }
        },
        {
         "name": "yhat_lower",
         "dtype": "float64",
         "stats": {
          "unique_count": 5,
          "nan_count": 0,
          "min": "46.99699723887308",
          "max": "48.155387802279385",
          "histogram": [
           {
            "bin_start": 46.99699723887308,
            "bin_end": 47.11283629521371,
            "count": 1
           },
           {
            "bin_start": 47.11283629521371,
            "bin_end": 47.22867535155434,
            "count": 0
           },
           {
            "bin_start": 47.22867535155434,
            "bin_end": 47.34451440789497,
            "count": 0
           },
           {
            "bin_start": 47.34451440789497,
            "bin_end": 47.4603534642356,
            "count": 0
           },
           {
            "bin_start": 47.4603534642356,
            "bin_end": 47.57619252057623,
            "count": 0
           },
           {
            "bin_start": 47.57619252057623,
            "bin_end": 47.69203157691686,
            "count": 0
           },
           {
            "bin_start": 47.69203157691686,
            "bin_end": 47.807870633257494,
            "count": 2
           },
           {
            "bin_start": 47.807870633257494,
            "bin_end": 47.92370968959813,
            "count": 0
           },
           {
            "bin_start": 47.92370968959813,
            "bin_end": 48.03954874593875,
            "count": 0
           },
           {
            "bin_start": 48.03954874593875,
            "bin_end": 48.155387802279385,
            "count": 2
           }
          ]
         }
        },
        {
         "name": "yhat_upper",
         "dtype": "float64",
         "stats": {
          "unique_count": 5,
          "nan_count": 0,
          "min": "69.70656097161412",
          "max": "70.24262252787419",
          "histogram": [
           {
            "bin_start": 69.70656097161412,
            "bin_end": 69.76016712724012,
            "count": 1
           },
           {
            "bin_start": 69.76016712724012,
            "bin_end": 69.81377328286614,
            "count": 0
           },
           {
            "bin_start": 69.81377328286614,
            "bin_end": 69.86737943849215,
            "count": 0
           },
           {
            "bin_start": 69.86737943849215,
            "bin_end": 69.92098559411815,
            "count": 0
           },
           {
            "bin_start": 69.92098559411815,
            "bin_end": 69.97459174974415,
            "count": 1
           },
           {
            "bin_start": 69.97459174974415,
            "bin_end": 70.02819790537016,
            "count": 1
           },
           {
            "bin_start": 70.02819790537016,
            "bin_end": 70.08180406099618,
            "count": 0
           },
           {
            "bin_start": 70.08180406099618,
            "bin_end": 70.13541021662218,
            "count": 0
           },
           {
            "bin_start": 70.13541021662218,
            "bin_end": 70.18901637224818,
            "count": 1
           },
           {
            "bin_start": 70.18901637224818,
            "bin_end": 70.24262252787419,
            "count": 1
           }
          ]
         }
        },
        {
         "name": "_deepnote_index_column",
         "dtype": "int64"
        }
       ],
       "rows": [
        {
         "ds": "2020-01-31T00:00:00Z",
         "yhat": 58.74134625,
         "yhat_lower": 48.155387802279385,
         "yhat_upper": 69.96092034105587,
         "_deepnote_index_column": 0
        },
        {
         "ds": "2020-02-29T00:00:00Z",
         "yhat": 58.70621396042537,
         "yhat_lower": 46.99699723887308,
         "yhat_upper": 69.70656097161412,
         "_deepnote_index_column": 1
        },
        {
         "ds": "2020-03-31T00:00:00Z",
         "yhat": 58.668658753719185,
         "yhat_lower": 47.767600431219705,
         "yhat_upper": 70.16844946870364,
         "_deepnote_index_column": 2
        },
        {
         "ds": "2020-04-30T00:00:00Z",
         "yhat": 58.632315004436315,
         "yhat_lower": 47.755860500419736,
         "yhat_upper": 70.24262252787419,
         "_deepnote_index_column": 3
        },
        {
         "ds": "2020-05-31T00:00:00Z",
         "yhat": 58.594759797434996,
         "yhat_lower": 48.11238211090675,
         "yhat_upper": 70.00704716935468,
         "_deepnote_index_column": 4
        }
       ]
      },
      "text/plain": "          ds       yhat  yhat_lower  yhat_upper\n0 2020-01-31  58.741346   48.155388   69.960920\n1 2020-02-29  58.706214   46.996997   69.706561\n2 2020-03-31  58.668659   47.767600   70.168449\n3 2020-04-30  58.632315   47.755861   70.242623\n4 2020-05-31  58.594760   48.112382   70.007047",
      "text/html": "<div>\n<style scoped>\n    .dataframe tbody tr th:only-of-type {\n        vertical-align: middle;\n    }\n\n    .dataframe tbody tr th {\n        vertical-align: top;\n    }\n\n    .dataframe thead th {\n        text-align: right;\n    }\n</style>\n<table border=\"1\" class=\"dataframe\">\n  <thead>\n    <tr style=\"text-align: right;\">\n      <th></th>\n      <th>ds</th>\n      <th>yhat</th>\n      <th>yhat_lower</th>\n      <th>yhat_upper</th>\n    </tr>\n  </thead>\n  <tbody>\n    <tr>\n      <th>0</th>\n      <td>2020-01-31</td>\n      <td>58.741346</td>\n      <td>48.155388</td>\n      <td>69.960920</td>\n    </tr>\n    <tr>\n      <th>1</th>\n      <td>2020-02-29</td>\n      <td>58.706214</td>\n      <td>46.996997</td>\n      <td>69.706561</td>\n    </tr>\n    <tr>\n      <th>2</th>\n      <td>2020-03-31</td>\n      <td>58.668659</td>\n      <td>47.767600</td>\n      <td>70.168449</td>\n    </tr>\n    <tr>\n      <th>3</th>\n      <td>2020-04-30</td>\n      <td>58.632315</td>\n      <td>47.755861</td>\n      <td>70.242623</td>\n    </tr>\n    <tr>\n      <th>4</th>\n      <td>2020-05-31</td>\n      <td>58.594760</td>\n      <td>48.112382</td>\n      <td>70.007047</td>\n    </tr>\n  </tbody>\n</table>\n</div>"
     },
     "metadata": {}
    }
   ]
  },
  {
   "cell_type": "markdown",
   "source": "## Hasil Forecast PetaBencana",
   "metadata": {
    "formattedRanges": [],
    "is_collapsed": false,
    "cell_id": "24ab56fbe04644009b387e1e3fa1ecbd",
    "tags": [],
    "deepnote_cell_type": "text-cell-h2"
   }
  },
  {
   "cell_type": "code",
   "metadata": {
    "cell_id": "68067e0287b4494a9be7f0ae61c7d508",
    "tags": [],
    "deepnote_to_be_reexecuted": false,
    "source_hash": "bbbdd909",
    "execution_start": 1661016282867,
    "execution_millis": 332,
    "deepnote_cell_type": "code",
    "deepnote_cell_height": 693,
    "deepnote_output_heights": [
     601
    ]
   },
   "source": "plot_plotly(m, forecast)",
   "execution_count": 29,
   "outputs": [
    {
     "data": {
      "text/html": "<html>\n<head><meta charset=\"utf-8\" /></head>\n<body>\n    <div>            <script src=\"https://cdnjs.cloudflare.com/ajax/libs/mathjax/2.7.5/MathJax.js?config=TeX-AMS-MML_SVG\"></script><script type=\"text/javascript\">if (window.MathJax && window.MathJax.Hub && window.MathJax.Hub.Config) {window.MathJax.Hub.Config({SVG: {font: \"STIX-Web\"}});}</script>                <script type=\"text/javascript\">window.PlotlyConfig = {MathJaxConfig: 'local'};</script>\n        <script src=\"https://cdn.plot.ly/plotly-2.12.1.min.js\"></script>                <div id=\"62a0666d-7b70-4f0c-bd02-1b96fad139f1\" class=\"plotly-graph-div\" style=\"height:600px; width:900px;\"></div>            <script type=\"text/javascript\">                                    window.PLOTLYENV=window.PLOTLYENV || {};                                    if (document.getElementById(\"62a0666d-7b70-4f0c-bd02-1b96fad139f1\")) {                    Plotly.newPlot(                        \"62a0666d-7b70-4f0c-bd02-1b96fad139f1\",                        [{\"marker\":{\"color\":\"black\",\"size\":4},\"mode\":\"markers\",\"name\":\"Actual\",\"x\":[\"2020-01-31T00:00:00\",\"2020-02-29T00:00:00\",\"2020-03-31T00:00:00\",\"2020-04-30T00:00:00\",\"2020-05-31T00:00:00\",\"2020-06-30T00:00:00\",\"2020-07-31T00:00:00\",\"2020-08-31T00:00:00\",\"2020-09-30T00:00:00\",\"2020-10-31T00:00:00\",\"2020-11-30T00:00:00\",\"2020-12-31T00:00:00\"],\"y\":[59.302083333333336,56.14231856738925,59.850746268656714,62.05263157894737,47.113207547169814,73.67857142857143,66.09876543209876,45.45569620253165,46.266666666666666,65.0,67.0,54.535714285714285],\"type\":\"scatter\"},{\"hoverinfo\":\"skip\",\"line\":{\"width\":0},\"mode\":\"lines\",\"x\":[\"2020-01-31T00:00:00\",\"2020-02-29T00:00:00\",\"2020-03-31T00:00:00\",\"2020-04-30T00:00:00\",\"2020-05-31T00:00:00\",\"2020-06-30T00:00:00\",\"2020-07-31T00:00:00\",\"2020-08-31T00:00:00\",\"2020-09-30T00:00:00\",\"2020-10-31T00:00:00\",\"2020-11-30T00:00:00\",\"2020-12-31T00:00:00\",\"2021-01-01T00:00:00\",\"2021-01-02T00:00:00\",\"2021-01-03T00:00:00\",\"2021-01-04T00:00:00\",\"2021-01-05T00:00:00\",\"2021-01-06T00:00:00\",\"2021-01-07T00:00:00\",\"2021-01-08T00:00:00\",\"2021-01-09T00:00:00\",\"2021-01-10T00:00:00\",\"2021-01-11T00:00:00\",\"2021-01-12T00:00:00\",\"2021-01-13T00:00:00\",\"2021-01-14T00:00:00\",\"2021-01-15T00:00:00\",\"2021-01-16T00:00:00\",\"2021-01-17T00:00:00\",\"2021-01-18T00:00:00\",\"2021-01-19T00:00:00\",\"2021-01-20T00:00:00\",\"2021-01-21T00:00:00\",\"2021-01-22T00:00:00\",\"2021-01-23T00:00:00\",\"2021-01-24T00:00:00\",\"2021-01-25T00:00:00\",\"2021-01-26T00:00:00\",\"2021-01-27T00:00:00\",\"2021-01-28T00:00:00\",\"2021-01-29T00:00:00\",\"2021-01-30T00:00:00\",\"2021-01-31T00:00:00\",\"2021-02-01T00:00:00\",\"2021-02-02T00:00:00\",\"2021-02-03T00:00:00\",\"2021-02-04T00:00:00\",\"2021-02-05T00:00:00\",\"2021-02-06T00:00:00\",\"2021-02-07T00:00:00\",\"2021-02-08T00:00:00\",\"2021-02-09T00:00:00\",\"2021-02-10T00:00:00\",\"2021-02-11T00:00:00\",\"2021-02-12T00:00:00\",\"2021-02-13T00:00:00\",\"2021-02-14T00:00:00\",\"2021-02-15T00:00:00\",\"2021-02-16T00:00:00\",\"2021-02-17T00:00:00\",\"2021-02-18T00:00:00\",\"2021-02-19T00:00:00\",\"2021-02-20T00:00:00\",\"2021-02-21T00:00:00\",\"2021-02-22T00:00:00\",\"2021-02-23T00:00:00\",\"2021-02-24T00:00:00\",\"2021-02-25T00:00:00\",\"2021-02-26T00:00:00\",\"2021-02-27T00:00:00\",\"2021-02-28T00:00:00\",\"2021-03-01T00:00:00\",\"2021-03-02T00:00:00\",\"2021-03-03T00:00:00\",\"2021-03-04T00:00:00\",\"2021-03-05T00:00:00\",\"2021-03-06T00:00:00\",\"2021-03-07T00:00:00\",\"2021-03-08T00:00:00\",\"2021-03-09T00:00:00\",\"2021-03-10T00:00:00\",\"2021-03-11T00:00:00\",\"2021-03-12T00:00:00\",\"2021-03-13T00:00:00\",\"2021-03-14T00:00:00\",\"2021-03-15T00:00:00\",\"2021-03-16T00:00:00\",\"2021-03-17T00:00:00\",\"2021-03-18T00:00:00\",\"2021-03-19T00:00:00\",\"2021-03-20T00:00:00\",\"2021-03-21T00:00:00\",\"2021-03-22T00:00:00\",\"2021-03-23T00:00:00\",\"2021-03-24T00:00:00\",\"2021-03-25T00:00:00\",\"2021-03-26T00:00:00\",\"2021-03-27T00:00:00\",\"2021-03-28T00:00:00\",\"2021-03-29T00:00:00\",\"2021-03-30T00:00:00\",\"2021-03-31T00:00:00\",\"2021-04-01T00:00:00\",\"2021-04-02T00:00:00\",\"2021-04-03T00:00:00\",\"2021-04-04T00:00:00\",\"2021-04-05T00:00:00\",\"2021-04-06T00:00:00\",\"2021-04-07T00:00:00\",\"2021-04-08T00:00:00\",\"2021-04-09T00:00:00\",\"2021-04-10T00:00:00\",\"2021-04-11T00:00:00\",\"2021-04-12T00:00:00\",\"2021-04-13T00:00:00\",\"2021-04-14T00:00:00\",\"2021-04-15T00:00:00\",\"2021-04-16T00:00:00\",\"2021-04-17T00:00:00\",\"2021-04-18T00:00:00\",\"2021-04-19T00:00:00\",\"2021-04-20T00:00:00\",\"2021-04-21T00:00:00\",\"2021-04-22T00:00:00\",\"2021-04-23T00:00:00\",\"2021-04-24T00:00:00\",\"2021-04-25T00:00:00\",\"2021-04-26T00:00:00\",\"2021-04-27T00:00:00\",\"2021-04-28T00:00:00\",\"2021-04-29T00:00:00\",\"2021-04-30T00:00:00\",\"2021-05-01T00:00:00\",\"2021-05-02T00:00:00\",\"2021-05-03T00:00:00\",\"2021-05-04T00:00:00\",\"2021-05-05T00:00:00\",\"2021-05-06T00:00:00\",\"2021-05-07T00:00:00\",\"2021-05-08T00:00:00\",\"2021-05-09T00:00:00\",\"2021-05-10T00:00:00\",\"2021-05-11T00:00:00\",\"2021-05-12T00:00:00\",\"2021-05-13T00:00:00\",\"2021-05-14T00:00:00\",\"2021-05-15T00:00:00\",\"2021-05-16T00:00:00\",\"2021-05-17T00:00:00\",\"2021-05-18T00:00:00\",\"2021-05-19T00:00:00\",\"2021-05-20T00:00:00\",\"2021-05-21T00:00:00\",\"2021-05-22T00:00:00\",\"2021-05-23T00:00:00\",\"2021-05-24T00:00:00\",\"2021-05-25T00:00:00\",\"2021-05-26T00:00:00\",\"2021-05-27T00:00:00\",\"2021-05-28T00:00:00\",\"2021-05-29T00:00:00\",\"2021-05-30T00:00:00\",\"2021-05-31T00:00:00\",\"2021-06-01T00:00:00\",\"2021-06-02T00:00:00\",\"2021-06-03T00:00:00\",\"2021-06-04T00:00:00\",\"2021-06-05T00:00:00\",\"2021-06-06T00:00:00\",\"2021-06-07T00:00:00\",\"2021-06-08T00:00:00\",\"2021-06-09T00:00:00\",\"2021-06-10T00:00:00\",\"2021-06-11T00:00:00\",\"2021-06-12T00:00:00\",\"2021-06-13T00:00:00\",\"2021-06-14T00:00:00\",\"2021-06-15T00:00:00\",\"2021-06-16T00:00:00\",\"2021-06-17T00:00:00\",\"2021-06-18T00:00:00\",\"2021-06-19T00:00:00\",\"2021-06-20T00:00:00\",\"2021-06-21T00:00:00\",\"2021-06-22T00:00:00\",\"2021-06-23T00:00:00\",\"2021-06-24T00:00:00\",\"2021-06-25T00:00:00\",\"2021-06-26T00:00:00\",\"2021-06-27T00:00:00\",\"2021-06-28T00:00:00\",\"2021-06-29T00:00:00\",\"2021-06-30T00:00:00\",\"2021-07-01T00:00:00\",\"2021-07-02T00:00:00\",\"2021-07-03T00:00:00\",\"2021-07-04T00:00:00\",\"2021-07-05T00:00:00\",\"2021-07-06T00:00:00\",\"2021-07-07T00:00:00\",\"2021-07-08T00:00:00\",\"2021-07-09T00:00:00\",\"2021-07-10T00:00:00\",\"2021-07-11T00:00:00\",\"2021-07-12T00:00:00\",\"2021-07-13T00:00:00\",\"2021-07-14T00:00:00\",\"2021-07-15T00:00:00\",\"2021-07-16T00:00:00\",\"2021-07-17T00:00:00\",\"2021-07-18T00:00:00\",\"2021-07-19T00:00:00\",\"2021-07-20T00:00:00\",\"2021-07-21T00:00:00\",\"2021-07-22T00:00:00\",\"2021-07-23T00:00:00\",\"2021-07-24T00:00:00\",\"2021-07-25T00:00:00\",\"2021-07-26T00:00:00\",\"2021-07-27T00:00:00\",\"2021-07-28T00:00:00\",\"2021-07-29T00:00:00\",\"2021-07-30T00:00:00\",\"2021-07-31T00:00:00\",\"2021-08-01T00:00:00\",\"2021-08-02T00:00:00\",\"2021-08-03T00:00:00\",\"2021-08-04T00:00:00\",\"2021-08-05T00:00:00\",\"2021-08-06T00:00:00\",\"2021-08-07T00:00:00\",\"2021-08-08T00:00:00\",\"2021-08-09T00:00:00\",\"2021-08-10T00:00:00\",\"2021-08-11T00:00:00\",\"2021-08-12T00:00:00\",\"2021-08-13T00:00:00\",\"2021-08-14T00:00:00\",\"2021-08-15T00:00:00\",\"2021-08-16T00:00:00\",\"2021-08-17T00:00:00\",\"2021-08-18T00:00:00\",\"2021-08-19T00:00:00\",\"2021-08-20T00:00:00\",\"2021-08-21T00:00:00\",\"2021-08-22T00:00:00\",\"2021-08-23T00:00:00\",\"2021-08-24T00:00:00\",\"2021-08-25T00:00:00\",\"2021-08-26T00:00:00\",\"2021-08-27T00:00:00\",\"2021-08-28T00:00:00\",\"2021-08-29T00:00:00\",\"2021-08-30T00:00:00\",\"2021-08-31T00:00:00\",\"2021-09-01T00:00:00\",\"2021-09-02T00:00:00\",\"2021-09-03T00:00:00\",\"2021-09-04T00:00:00\",\"2021-09-05T00:00:00\",\"2021-09-06T00:00:00\",\"2021-09-07T00:00:00\",\"2021-09-08T00:00:00\",\"2021-09-09T00:00:00\",\"2021-09-10T00:00:00\",\"2021-09-11T00:00:00\",\"2021-09-12T00:00:00\",\"2021-09-13T00:00:00\",\"2021-09-14T00:00:00\",\"2021-09-15T00:00:00\",\"2021-09-16T00:00:00\",\"2021-09-17T00:00:00\",\"2021-09-18T00:00:00\",\"2021-09-19T00:00:00\",\"2021-09-20T00:00:00\",\"2021-09-21T00:00:00\",\"2021-09-22T00:00:00\",\"2021-09-23T00:00:00\",\"2021-09-24T00:00:00\",\"2021-09-25T00:00:00\",\"2021-09-26T00:00:00\",\"2021-09-27T00:00:00\",\"2021-09-28T00:00:00\",\"2021-09-29T00:00:00\",\"2021-09-30T00:00:00\",\"2021-10-01T00:00:00\",\"2021-10-02T00:00:00\",\"2021-10-03T00:00:00\",\"2021-10-04T00:00:00\",\"2021-10-05T00:00:00\",\"2021-10-06T00:00:00\",\"2021-10-07T00:00:00\",\"2021-10-08T00:00:00\",\"2021-10-09T00:00:00\",\"2021-10-10T00:00:00\",\"2021-10-11T00:00:00\",\"2021-10-12T00:00:00\",\"2021-10-13T00:00:00\",\"2021-10-14T00:00:00\",\"2021-10-15T00:00:00\",\"2021-10-16T00:00:00\",\"2021-10-17T00:00:00\",\"2021-10-18T00:00:00\",\"2021-10-19T00:00:00\",\"2021-10-20T00:00:00\",\"2021-10-21T00:00:00\",\"2021-10-22T00:00:00\",\"2021-10-23T00:00:00\",\"2021-10-24T00:00:00\",\"2021-10-25T00:00:00\",\"2021-10-26T00:00:00\",\"2021-10-27T00:00:00\",\"2021-10-28T00:00:00\",\"2021-10-29T00:00:00\",\"2021-10-30T00:00:00\",\"2021-10-31T00:00:00\",\"2021-11-01T00:00:00\",\"2021-11-02T00:00:00\",\"2021-11-03T00:00:00\",\"2021-11-04T00:00:00\",\"2021-11-05T00:00:00\",\"2021-11-06T00:00:00\",\"2021-11-07T00:00:00\",\"2021-11-08T00:00:00\",\"2021-11-09T00:00:00\",\"2021-11-10T00:00:00\",\"2021-11-11T00:00:00\",\"2021-11-12T00:00:00\",\"2021-11-13T00:00:00\",\"2021-11-14T00:00:00\",\"2021-11-15T00:00:00\",\"2021-11-16T00:00:00\",\"2021-11-17T00:00:00\",\"2021-11-18T00:00:00\",\"2021-11-19T00:00:00\",\"2021-11-20T00:00:00\",\"2021-11-21T00:00:00\",\"2021-11-22T00:00:00\",\"2021-11-23T00:00:00\",\"2021-11-24T00:00:00\",\"2021-11-25T00:00:00\",\"2021-11-26T00:00:00\",\"2021-11-27T00:00:00\",\"2021-11-28T00:00:00\",\"2021-11-29T00:00:00\",\"2021-11-30T00:00:00\",\"2021-12-01T00:00:00\",\"2021-12-02T00:00:00\",\"2021-12-03T00:00:00\",\"2021-12-04T00:00:00\",\"2021-12-05T00:00:00\",\"2021-12-06T00:00:00\",\"2021-12-07T00:00:00\",\"2021-12-08T00:00:00\",\"2021-12-09T00:00:00\",\"2021-12-10T00:00:00\",\"2021-12-11T00:00:00\",\"2021-12-12T00:00:00\",\"2021-12-13T00:00:00\",\"2021-12-14T00:00:00\",\"2021-12-15T00:00:00\",\"2021-12-16T00:00:00\",\"2021-12-17T00:00:00\",\"2021-12-18T00:00:00\",\"2021-12-19T00:00:00\",\"2021-12-20T00:00:00\",\"2021-12-21T00:00:00\",\"2021-12-22T00:00:00\",\"2021-12-23T00:00:00\",\"2021-12-24T00:00:00\",\"2021-12-25T00:00:00\",\"2021-12-26T00:00:00\",\"2021-12-27T00:00:00\",\"2021-12-28T00:00:00\",\"2021-12-29T00:00:00\",\"2021-12-30T00:00:00\",\"2021-12-31T00:00:00\",\"2022-01-01T00:00:00\",\"2022-01-02T00:00:00\",\"2022-01-03T00:00:00\",\"2022-01-04T00:00:00\",\"2022-01-05T00:00:00\",\"2022-01-06T00:00:00\",\"2022-01-07T00:00:00\",\"2022-01-08T00:00:00\",\"2022-01-09T00:00:00\",\"2022-01-10T00:00:00\",\"2022-01-11T00:00:00\",\"2022-01-12T00:00:00\",\"2022-01-13T00:00:00\",\"2022-01-14T00:00:00\",\"2022-01-15T00:00:00\",\"2022-01-16T00:00:00\",\"2022-01-17T00:00:00\",\"2022-01-18T00:00:00\",\"2022-01-19T00:00:00\",\"2022-01-20T00:00:00\",\"2022-01-21T00:00:00\",\"2022-01-22T00:00:00\",\"2022-01-23T00:00:00\",\"2022-01-24T00:00:00\",\"2022-01-25T00:00:00\",\"2022-01-26T00:00:00\",\"2022-01-27T00:00:00\",\"2022-01-28T00:00:00\",\"2022-01-29T00:00:00\",\"2022-01-30T00:00:00\",\"2022-01-31T00:00:00\",\"2022-02-01T00:00:00\",\"2022-02-02T00:00:00\",\"2022-02-03T00:00:00\",\"2022-02-04T00:00:00\",\"2022-02-05T00:00:00\",\"2022-02-06T00:00:00\",\"2022-02-07T00:00:00\",\"2022-02-08T00:00:00\",\"2022-02-09T00:00:00\",\"2022-02-10T00:00:00\",\"2022-02-11T00:00:00\",\"2022-02-12T00:00:00\",\"2022-02-13T00:00:00\",\"2022-02-14T00:00:00\",\"2022-02-15T00:00:00\",\"2022-02-16T00:00:00\",\"2022-02-17T00:00:00\",\"2022-02-18T00:00:00\",\"2022-02-19T00:00:00\",\"2022-02-20T00:00:00\",\"2022-02-21T00:00:00\",\"2022-02-22T00:00:00\",\"2022-02-23T00:00:00\",\"2022-02-24T00:00:00\",\"2022-02-25T00:00:00\",\"2022-02-26T00:00:00\",\"2022-02-27T00:00:00\",\"2022-02-28T00:00:00\",\"2022-03-01T00:00:00\",\"2022-03-02T00:00:00\",\"2022-03-03T00:00:00\",\"2022-03-04T00:00:00\",\"2022-03-05T00:00:00\",\"2022-03-06T00:00:00\",\"2022-03-07T00:00:00\",\"2022-03-08T00:00:00\",\"2022-03-09T00:00:00\",\"2022-03-10T00:00:00\",\"2022-03-11T00:00:00\",\"2022-03-12T00:00:00\",\"2022-03-13T00:00:00\",\"2022-03-14T00:00:00\",\"2022-03-15T00:00:00\",\"2022-03-16T00:00:00\",\"2022-03-17T00:00:00\",\"2022-03-18T00:00:00\",\"2022-03-19T00:00:00\",\"2022-03-20T00:00:00\",\"2022-03-21T00:00:00\",\"2022-03-22T00:00:00\",\"2022-03-23T00:00:00\",\"2022-03-24T00:00:00\",\"2022-03-25T00:00:00\",\"2022-03-26T00:00:00\",\"2022-03-27T00:00:00\",\"2022-03-28T00:00:00\",\"2022-03-29T00:00:00\",\"2022-03-30T00:00:00\",\"2022-03-31T00:00:00\",\"2022-04-01T00:00:00\",\"2022-04-02T00:00:00\",\"2022-04-03T00:00:00\",\"2022-04-04T00:00:00\",\"2022-04-05T00:00:00\",\"2022-04-06T00:00:00\",\"2022-04-07T00:00:00\",\"2022-04-08T00:00:00\",\"2022-04-09T00:00:00\",\"2022-04-10T00:00:00\",\"2022-04-11T00:00:00\",\"2022-04-12T00:00:00\",\"2022-04-13T00:00:00\",\"2022-04-14T00:00:00\",\"2022-04-15T00:00:00\",\"2022-04-16T00:00:00\",\"2022-04-17T00:00:00\",\"2022-04-18T00:00:00\",\"2022-04-19T00:00:00\",\"2022-04-20T00:00:00\",\"2022-04-21T00:00:00\",\"2022-04-22T00:00:00\",\"2022-04-23T00:00:00\",\"2022-04-24T00:00:00\",\"2022-04-25T00:00:00\",\"2022-04-26T00:00:00\",\"2022-04-27T00:00:00\",\"2022-04-28T00:00:00\",\"2022-04-29T00:00:00\",\"2022-04-30T00:00:00\",\"2022-05-01T00:00:00\",\"2022-05-02T00:00:00\",\"2022-05-03T00:00:00\",\"2022-05-04T00:00:00\",\"2022-05-05T00:00:00\",\"2022-05-06T00:00:00\",\"2022-05-07T00:00:00\",\"2022-05-08T00:00:00\",\"2022-05-09T00:00:00\",\"2022-05-10T00:00:00\",\"2022-05-11T00:00:00\",\"2022-05-12T00:00:00\",\"2022-05-13T00:00:00\",\"2022-05-14T00:00:00\",\"2022-05-15T00:00:00\",\"2022-05-16T00:00:00\",\"2022-05-17T00:00:00\",\"2022-05-18T00:00:00\",\"2022-05-19T00:00:00\",\"2022-05-20T00:00:00\",\"2022-05-21T00:00:00\",\"2022-05-22T00:00:00\",\"2022-05-23T00:00:00\",\"2022-05-24T00:00:00\",\"2022-05-25T00:00:00\",\"2022-05-26T00:00:00\",\"2022-05-27T00:00:00\",\"2022-05-28T00:00:00\",\"2022-05-29T00:00:00\",\"2022-05-30T00:00:00\",\"2022-05-31T00:00:00\",\"2022-06-01T00:00:00\",\"2022-06-02T00:00:00\",\"2022-06-03T00:00:00\",\"2022-06-04T00:00:00\",\"2022-06-05T00:00:00\",\"2022-06-06T00:00:00\",\"2022-06-07T00:00:00\",\"2022-06-08T00:00:00\",\"2022-06-09T00:00:00\",\"2022-06-10T00:00:00\",\"2022-06-11T00:00:00\",\"2022-06-12T00:00:00\",\"2022-06-13T00:00:00\",\"2022-06-14T00:00:00\",\"2022-06-15T00:00:00\",\"2022-06-16T00:00:00\",\"2022-06-17T00:00:00\",\"2022-06-18T00:00:00\",\"2022-06-19T00:00:00\",\"2022-06-20T00:00:00\",\"2022-06-21T00:00:00\",\"2022-06-22T00:00:00\",\"2022-06-23T00:00:00\",\"2022-06-24T00:00:00\",\"2022-06-25T00:00:00\",\"2022-06-26T00:00:00\",\"2022-06-27T00:00:00\",\"2022-06-28T00:00:00\",\"2022-06-29T00:00:00\",\"2022-06-30T00:00:00\",\"2022-07-01T00:00:00\",\"2022-07-02T00:00:00\",\"2022-07-03T00:00:00\",\"2022-07-04T00:00:00\",\"2022-07-05T00:00:00\",\"2022-07-06T00:00:00\",\"2022-07-07T00:00:00\",\"2022-07-08T00:00:00\",\"2022-07-09T00:00:00\",\"2022-07-10T00:00:00\",\"2022-07-11T00:00:00\",\"2022-07-12T00:00:00\",\"2022-07-13T00:00:00\",\"2022-07-14T00:00:00\",\"2022-07-15T00:00:00\",\"2022-07-16T00:00:00\",\"2022-07-17T00:00:00\",\"2022-07-18T00:00:00\",\"2022-07-19T00:00:00\",\"2022-07-20T00:00:00\",\"2022-07-21T00:00:00\",\"2022-07-22T00:00:00\",\"2022-07-23T00:00:00\",\"2022-07-24T00:00:00\",\"2022-07-25T00:00:00\",\"2022-07-26T00:00:00\",\"2022-07-27T00:00:00\",\"2022-07-28T00:00:00\",\"2022-07-29T00:00:00\",\"2022-07-30T00:00:00\",\"2022-07-31T00:00:00\",\"2022-08-01T00:00:00\",\"2022-08-02T00:00:00\",\"2022-08-03T00:00:00\",\"2022-08-04T00:00:00\",\"2022-08-05T00:00:00\",\"2022-08-06T00:00:00\",\"2022-08-07T00:00:00\",\"2022-08-08T00:00:00\",\"2022-08-09T00:00:00\",\"2022-08-10T00:00:00\",\"2022-08-11T00:00:00\",\"2022-08-12T00:00:00\",\"2022-08-13T00:00:00\",\"2022-08-14T00:00:00\",\"2022-08-15T00:00:00\",\"2022-08-16T00:00:00\",\"2022-08-17T00:00:00\",\"2022-08-18T00:00:00\",\"2022-08-19T00:00:00\",\"2022-08-20T00:00:00\",\"2022-08-21T00:00:00\",\"2022-08-22T00:00:00\",\"2022-08-23T00:00:00\",\"2022-08-24T00:00:00\",\"2022-08-25T00:00:00\",\"2022-08-26T00:00:00\",\"2022-08-27T00:00:00\",\"2022-08-28T00:00:00\",\"2022-08-29T00:00:00\",\"2022-08-30T00:00:00\",\"2022-08-31T00:00:00\",\"2022-09-01T00:00:00\",\"2022-09-02T00:00:00\",\"2022-09-03T00:00:00\",\"2022-09-04T00:00:00\",\"2022-09-05T00:00:00\",\"2022-09-06T00:00:00\",\"2022-09-07T00:00:00\",\"2022-09-08T00:00:00\",\"2022-09-09T00:00:00\",\"2022-09-10T00:00:00\",\"2022-09-11T00:00:00\",\"2022-09-12T00:00:00\",\"2022-09-13T00:00:00\",\"2022-09-14T00:00:00\",\"2022-09-15T00:00:00\",\"2022-09-16T00:00:00\",\"2022-09-17T00:00:00\",\"2022-09-18T00:00:00\",\"2022-09-19T00:00:00\",\"2022-09-20T00:00:00\",\"2022-09-21T00:00:00\",\"2022-09-22T00:00:00\",\"2022-09-23T00:00:00\",\"2022-09-24T00:00:00\",\"2022-09-25T00:00:00\",\"2022-09-26T00:00:00\",\"2022-09-27T00:00:00\",\"2022-09-28T00:00:00\",\"2022-09-29T00:00:00\",\"2022-09-30T00:00:00\",\"2022-10-01T00:00:00\",\"2022-10-02T00:00:00\",\"2022-10-03T00:00:00\",\"2022-10-04T00:00:00\",\"2022-10-05T00:00:00\",\"2022-10-06T00:00:00\",\"2022-10-07T00:00:00\",\"2022-10-08T00:00:00\",\"2022-10-09T00:00:00\",\"2022-10-10T00:00:00\",\"2022-10-11T00:00:00\",\"2022-10-12T00:00:00\",\"2022-10-13T00:00:00\",\"2022-10-14T00:00:00\",\"2022-10-15T00:00:00\",\"2022-10-16T00:00:00\",\"2022-10-17T00:00:00\",\"2022-10-18T00:00:00\",\"2022-10-19T00:00:00\",\"2022-10-20T00:00:00\",\"2022-10-21T00:00:00\",\"2022-10-22T00:00:00\",\"2022-10-23T00:00:00\",\"2022-10-24T00:00:00\",\"2022-10-25T00:00:00\",\"2022-10-26T00:00:00\",\"2022-10-27T00:00:00\",\"2022-10-28T00:00:00\",\"2022-10-29T00:00:00\",\"2022-10-30T00:00:00\",\"2022-10-31T00:00:00\",\"2022-11-01T00:00:00\",\"2022-11-02T00:00:00\",\"2022-11-03T00:00:00\",\"2022-11-04T00:00:00\",\"2022-11-05T00:00:00\",\"2022-11-06T00:00:00\",\"2022-11-07T00:00:00\",\"2022-11-08T00:00:00\",\"2022-11-09T00:00:00\",\"2022-11-10T00:00:00\",\"2022-11-11T00:00:00\",\"2022-11-12T00:00:00\",\"2022-11-13T00:00:00\",\"2022-11-14T00:00:00\",\"2022-11-15T00:00:00\",\"2022-11-16T00:00:00\",\"2022-11-17T00:00:00\",\"2022-11-18T00:00:00\",\"2022-11-19T00:00:00\",\"2022-11-20T00:00:00\",\"2022-11-21T00:00:00\",\"2022-11-22T00:00:00\",\"2022-11-23T00:00:00\",\"2022-11-24T00:00:00\",\"2022-11-25T00:00:00\",\"2022-11-26T00:00:00\",\"2022-11-27T00:00:00\",\"2022-11-28T00:00:00\",\"2022-11-29T00:00:00\",\"2022-11-30T00:00:00\",\"2022-12-01T00:00:00\",\"2022-12-02T00:00:00\",\"2022-12-03T00:00:00\",\"2022-12-04T00:00:00\",\"2022-12-05T00:00:00\",\"2022-12-06T00:00:00\",\"2022-12-07T00:00:00\",\"2022-12-08T00:00:00\",\"2022-12-09T00:00:00\",\"2022-12-10T00:00:00\",\"2022-12-11T00:00:00\",\"2022-12-12T00:00:00\",\"2022-12-13T00:00:00\",\"2022-12-14T00:00:00\",\"2022-12-15T00:00:00\",\"2022-12-16T00:00:00\",\"2022-12-17T00:00:00\",\"2022-12-18T00:00:00\",\"2022-12-19T00:00:00\",\"2022-12-20T00:00:00\",\"2022-12-21T00:00:00\",\"2022-12-22T00:00:00\",\"2022-12-23T00:00:00\",\"2022-12-24T00:00:00\",\"2022-12-25T00:00:00\",\"2022-12-26T00:00:00\",\"2022-12-27T00:00:00\",\"2022-12-28T00:00:00\",\"2022-12-29T00:00:00\",\"2022-12-30T00:00:00\",\"2022-12-31T00:00:00\"],\"y\":[48.155387802279385,46.99699723887308,47.767600431219705,47.755860500419736,48.11238211090675,47.7418149705995,47.497680360397226,47.086843293366066,47.886632283970414,47.65622960544602,47.41878630388351,46.76107090506469,46.670260078793234,46.61792295202621,47.7700498884917,47.676971879061846,47.468715431816655,46.85125252963047,48.007856920451125,47.14386763474621,47.01042615791526,46.55353434467269,47.512204662666534,47.31726666938534,47.35449303038373,47.78196109117969,46.61360731627245,47.64183218717651,47.855752201753276,47.54784919934216,46.863215018648724,46.91224576680289,47.40428019997247,47.102754057038204,47.079927987798605,47.937184345376096,46.96978524450281,47.21935692054999,47.309877731421345,47.50002460158086,47.293088688404545,48.377933066315876,46.61032825769644,47.34957360621381,47.077005961690695,47.278660120981314,47.43347141600929,47.24405169558158,47.253411126095955,48.185205616892944,47.17124619433912,47.605344410696325,47.37052905576485,47.83324661665628,47.708941600591494,47.34641053883596,47.278844791494194,47.34514081646353,46.853651041498594,46.887555509827536,46.922333935363454,46.5728770891847,47.88680886007089,47.01789281042366,46.77006180785285,47.390215235802565,47.58700298139148,46.64868844477832,46.860083633556044,47.33706190496736,47.60934916679581,46.508275904105766,47.081179989679484,47.33314901053193,47.18861500181407,47.09806330173917,46.81556422842954,47.50916384110649,47.104443701509126,47.62494156731018,46.67183571633774,46.51107389928178,47.514509195072016,47.48861896124819,47.138955974251196,48.33475678717613,46.69978018627405,48.105305529698406,47.67715491611927,46.23151045344136,47.35419383794551,47.23905605431095,47.34354678573778,46.599955016567606,46.95609149800098,47.615318616863206,47.26425432900513,46.2774076925651,46.89400473354658,47.401857178186184,47.2076381660222,47.49939813287445,47.42068776582236,47.59995208928081,47.372860456159295,47.16988006114845,48.23235106868534,48.11650755861582,46.774350259920084,47.446612701199435,46.635067313625285,47.833160351726505,46.81064767507443,47.39805695517469,46.80567885683242,47.13269108131316,46.85819454856738,47.395951029230154,47.54851224890333,47.56783843110382,46.92185999704033,47.14936822983746,47.10557573294662,47.81809403674664,47.71962550957122,46.581773693912666,47.91526824827758,47.0019917429363,47.34654674807421,47.29686813477358,47.36650881739351,46.78583107114548,46.52324082031323,47.14744640309114,46.38998931531251,47.6072057685729,46.47458135545257,47.34415439563739,46.816270474295024,47.364607503903244,47.31033105349844,46.75047839882764,46.34322128081789,47.101336699923074,46.98845773794562,47.13528410449666,47.181343932979416,47.762388943333576,47.610907076964665,46.74380467264381,46.986245147018046,46.58115875767716,47.18806720320604,46.51006348363443,47.723644460060804,46.978591085515696,46.64152179987202,47.60308128361024,46.559719301013,47.45570326063747,46.974717051383536,47.47974275996729,45.95310417159762,46.21669978361396,47.00436475535787,46.97441698280651,47.245594776512,46.701030567422244,48.11588378104056,45.664459740404496,47.677399671292314,47.274420505812415,47.3551265455488,46.7430175337904,47.300070158844285,46.46293297129141,46.77482523730142,47.04468233193842,47.32438522872054,46.509408953643145,47.13237544638417,47.13170802160406,48.07059341625742,46.74038606409839,46.04400409343916,47.20702349688854,46.20736758896446,47.205319592879036,47.14703395268426,46.57917292093857,47.36233284035422,47.04608931175584,47.80493017416557,46.39293998213452,47.43449750813968,46.72643592948992,47.702794645190814,48.00831819899618,46.99125335271477,47.850005018768904,46.8002020071656,48.019494074148334,46.87265777419406,47.09553279730039,47.20299038359625,46.395844790310335,47.64758803223913,47.41729992483689,47.04377288919499,47.964389269184636,46.470156921011544,46.48532892601076,47.148478982905445,46.6997537172439,47.854562087439795,47.035215167656816,47.265852014423714,47.529214408163824,46.836208874423534,47.179789604669224,47.14289475260415,47.40923457081278,47.371510432304,47.17313589567058,46.813001324192214,46.82026648240194,46.74592803315538,46.82366140520041,46.262817542892925,46.43354024290921,47.59051009056254,47.04068995918789,46.41067105399983,46.75509960885479,46.76973210144529,47.224478105259855,47.017380988537894,46.35577963572228,47.176525129380266,46.81493483848064,46.839139290540274,46.733504852750904,47.69892739349944,47.416101360983504,47.48288158031808,47.55103915884574,47.69079660319957,47.0018551212705,47.553973108992096,47.50937776310043,46.999820758499844,46.2965478245222,46.588478525541916,47.00429935392761,46.976597788183554,47.74563480637108,46.77411535824488,47.60029710167124,47.5531047228337,47.401090573113365,46.60644333986474,46.97253596483173,47.03298254545586,47.281372531965104,47.000896630830816,47.022457666014816,46.706133318907305,46.847720003912166,47.42618324182376,47.30817905525034,47.20008057276035,46.541472105162335,46.761862693944394,46.559204332848324,47.307326561961005,46.921379575638056,46.89291624034449,46.7730289986803,46.85038811871103,47.50084418561514,46.92552076548664,46.67040530857746,46.9543863282389,47.048332020736474,47.45060455920405,45.92141365867291,46.46169802680401,47.58767177290119,47.134156476400904,46.84454937606399,47.334529292473654,46.99621739660058,46.31507653064544,47.88718153355999,48.15086090257482,47.17123183306256,47.275877844862585,46.81367964406542,47.113266227785594,47.453009597185414,46.999068753715996,46.575589164023484,46.19065306306062,46.2599243654275,47.03676582761684,46.33634991540258,46.869229080768505,46.229327985785304,47.1302010298502,47.243835875545514,47.42018825353409,46.72674427940486,47.236874377652384,46.403764113586774,46.994325176178215,47.349145724033555,46.623441117070406,47.054123084375185,46.64894834365057,46.588620152782944,47.60227734619724,46.61972627958425,46.766080267180136,46.8506165361828,47.30859201314811,46.95066744209544,47.22932919020431,46.663518801042336,47.05525424605263,47.45670067681268,47.181624516659916,46.86175972519566,46.95627833322559,46.615459189686156,46.97752144198179,46.67164423498765,46.96363434163933,47.233458012865064,47.30696629276897,47.59150616443871,46.27482278541066,47.17816129191498,47.15647765148732,48.03707064448798,46.58994007837986,47.76224374462552,46.656564803597156,47.475320820974694,47.425469152852706,46.519166267499415,47.52581587897196,47.51205155153636,47.27223287641387,47.19249357921497,46.741998431442944,46.875778260118146,47.34420768084503,47.01373815078998,46.559077769151585,47.035033890714686,46.7832742357924,46.26797041569164,47.00075368556781,47.403729313583284,46.83765230379807,46.98999590963605,46.98637816263664,46.7806966597446,47.10866111522361,46.73975884988169,47.24152255410192,46.84489579331964,46.74274980991607,47.74219155204967,46.93040973745425,47.162105569515404,46.95142644557341,46.38205897003477,46.92368114422554,46.3773471570291,47.037694533246594,46.62095499287559,46.81505673387946,45.67421312549081,46.695699278933105,47.82707505031333,46.70300154700633,47.085982722148636,47.34727050205829,47.066983592080135,46.40693892748485,46.67065064955926,47.35426423360142,47.256264585670344,47.662434852804274,47.63260629135593,46.49033496199138,46.395762890477236,47.18692557784929,46.805859781302644,46.9882425260122,46.924627113126384,47.114459169330054,46.55450436235577,46.24675953610297,47.05135679089769,47.5073724042604,46.82585396295702,46.80640035345808,47.31425790304929,47.014585492841,47.09266175193189,46.40816366305465,47.662657181329365,46.953606557259796,46.98737362050488,47.30214740757202,46.74580082708066,47.45067892157517,46.310383559310914,46.75327160452483,46.85076614616319,46.454937903155056,47.12901814918351,46.30701243431665,46.727202535794376,47.286637285947855,46.696456582605634,46.01485994971818,47.113331813535964,47.30198510363271,46.39615133344148,46.7623439297783,47.06153250498033,47.16410080602286,47.013462991426735,46.357056052946845,47.50525455968484,47.0470080513472,46.604630979457795,45.97355029759669,47.40172624578295,47.1770400454781,46.006308148630694,46.60173844664402,46.9937937291306,47.35298418388359,46.54816607427248,47.45984135209495,46.45817158626,47.188600209733735,47.00146285030423,47.656024302086486,46.74444117472132,46.37897848194744,46.215941745200006,46.54619327355519,46.26649003040866,46.81401604130061,47.45927932407324,47.18558379741619,46.95964888282028,47.116971333721935,46.60728059573658,46.701812089043614,46.07637918092357,46.22777470420775,46.67151885157154,46.930587618486996,47.025871357226194,46.977072768494516,46.66107902843139,47.86576534994587,46.53439344831331,46.83070911708632,46.52893237850655,47.26504827398371,45.97934071195689,46.778282387516505,47.727495921951395,47.014936383298476,47.330247284132085,47.223071824821936,46.63802505576751,46.72768048265156,46.25417463982396,46.60129727729947,47.06827202373469,46.49744758785956,46.59714406935186,47.13140597474798,46.61924145880511,46.722470071069466,46.91832933593811,45.970709913423086,47.2167122828612,46.29548963659559,47.174575098291655,47.29381971296095,47.11505486372886,46.796756972948096,47.000799133746774,46.94306698625572,46.48892813389261,46.701097501722394,46.86553107375513,46.340931382484804,46.289827256021155,46.6417734824464,45.81562999215022,46.89512704562637,46.3962730075919,46.841656340262055,46.93669638253983,46.60315596237301,47.31546263922768,47.01028349213769,46.217618087080226,46.38685247985895,46.97260026927233,46.979619199718876,46.366699006294816,46.92730705911114,47.178290222817864,47.294091529156645,46.974464297437784,46.992274912937425,46.17190630869577,46.7281517629089,46.48544995673122,46.70362043799938,46.58739396560801,47.00767367753939,46.91324196482351,47.14875651531864,47.06884096940972,47.08686260390766,47.18561647783076,47.256381593104386,47.29678619907498,46.13394275291441,46.763494621132885,47.00924872941521,47.090150167911986,46.91459714849225,46.18838216803514,45.934432516773754,45.25062883330791,46.881112765533295,46.89746035121783,47.45740467730264,46.813847752395105,46.14329520679629,47.32978398692489,46.058626306350575,46.35529843188225,47.4035648562378,46.065704751449964,47.111132215878094,46.402859368761646,46.74858586695475,46.27129184763727,45.815162649534244,45.004287724733274,46.54358946958519,46.64649495143833,47.08944761872859,46.63746805470532,46.94419592982067,46.79722592220195,46.02503328473939,46.76608563201009,46.95781780573424,46.69273854533806,46.659727452499965,47.547868665578676,46.29120088512352,47.10689962078768,46.840859877555296,46.224875338496034,46.10520272298495,46.7597523884188,47.025261001046914,45.46305757291596,47.53192468422765,45.85782513029111,45.95635613323746,46.09066579997294,46.263292423549636,46.526882619004084,46.99465117793219,46.2652934972335,46.26051156811598,45.93700091533546,47.417069351745646,46.43201242011416,46.54744868306932,46.60572598642854,45.912544062589895,47.111971261685724,47.45146799635531,46.685925216428544,47.109929323839744,46.62843975520692,46.56969768618565,46.11686969197969,46.47710032170302,46.390494446957085,46.096637130880374,46.25710604363811,46.81135489212903,46.56823232696008,46.79877727867039,46.751864739831625,46.216622419798675,46.48749814013597,47.191893298289294,47.107352920925415,47.556417001145775,46.121528003264416,46.599387331003314,46.372131932269795,47.64655963271384,45.986141294267476,47.2080521717137,45.77028347687733,46.6848382185284,47.498919527026956,46.19598677052327,47.05635518275159,47.01533699449787,46.336978883588884,46.62762653550597,46.67958542483142,47.255602445788206,47.01170341947871,46.78457537515105,47.09482686300686,46.181471902100974,46.89815032217617,46.33244844778548,46.5458869086904,46.645836653697614,46.978237822687014,46.20306060148408,46.282386368926,46.12180428515551,47.05811015682496,46.28016628360861,46.31564038547204,46.48000338690848,46.209452877676306,46.01062482604149,46.9892666480865,46.317941475761565,47.196022706555574,46.83104506638041,46.14556851960803,46.58783587639867,46.450499638908525,46.8310520838551,46.89096664786746,46.48001253389798,45.94945323786545,46.40952228862179,47.645446047717115,47.02623122208196,46.6450559637615,46.43789611000998,46.88656827286292,46.39758907920019,47.05471119141527,46.90076761134636,47.63262869037638,46.04452666189285,46.45652058448238,46.470056741342404,46.923738336551175,46.57229204242613,46.191656546482015,47.33619747858291,46.09346059890696,46.69914526150251,47.073818174711164,47.0282520105287,46.25489370205931,46.413985694211824,46.982891234384425,47.17562866497986,46.59070468817995,45.83074680399038,46.73768365328823,46.39365199460201,46.865385999553006,45.43751500711304,46.747239727856915,47.04634622267882,46.04126460789201,47.118920978787564,46.84274210591666,46.21748379121817,46.7957864265713,45.98764647778322,46.41459443737741,46.55857416633342,47.29262521053887,47.162889577770876,46.94169563755883,46.45324406919063,46.555098166815405,46.38498216521648,46.57998017613911,46.8061115332568,47.825669450850235,47.347572111183915,46.50784896521344,46.50169839853106,47.0839229268396,46.09360719392019,47.122411648579366,46.22961372660255,46.86103990733837,47.43537644011086,46.51470363770592,46.30656147087874,46.133618933088165,46.56130875192324,46.491620883708634,47.038900776378696,46.44569671865013,46.24439070519621,46.419232524878645,45.82816316075859,46.5000316964375,46.85130189339004,46.98502680981254,46.25977473242593,47.41936929360369,46.551794595133956,46.42943917560876,46.1861853655776,46.8347616153934],\"type\":\"scatter\"},{\"fill\":\"tonexty\",\"fillcolor\":\"rgba(0, 114, 178, 0.2)\",\"line\":{\"color\":\"#0072B2\",\"width\":2},\"mode\":\"lines\",\"name\":\"Predicted\",\"x\":[\"2020-01-31T00:00:00\",\"2020-02-29T00:00:00\",\"2020-03-31T00:00:00\",\"2020-04-30T00:00:00\",\"2020-05-31T00:00:00\",\"2020-06-30T00:00:00\",\"2020-07-31T00:00:00\",\"2020-08-31T00:00:00\",\"2020-09-30T00:00:00\",\"2020-10-31T00:00:00\",\"2020-11-30T00:00:00\",\"2020-12-31T00:00:00\",\"2021-01-01T00:00:00\",\"2021-01-02T00:00:00\",\"2021-01-03T00:00:00\",\"2021-01-04T00:00:00\",\"2021-01-05T00:00:00\",\"2021-01-06T00:00:00\",\"2021-01-07T00:00:00\",\"2021-01-08T00:00:00\",\"2021-01-09T00:00:00\",\"2021-01-10T00:00:00\",\"2021-01-11T00:00:00\",\"2021-01-12T00:00:00\",\"2021-01-13T00:00:00\",\"2021-01-14T00:00:00\",\"2021-01-15T00:00:00\",\"2021-01-16T00:00:00\",\"2021-01-17T00:00:00\",\"2021-01-18T00:00:00\",\"2021-01-19T00:00:00\",\"2021-01-20T00:00:00\",\"2021-01-21T00:00:00\",\"2021-01-22T00:00:00\",\"2021-01-23T00:00:00\",\"2021-01-24T00:00:00\",\"2021-01-25T00:00:00\",\"2021-01-26T00:00:00\",\"2021-01-27T00:00:00\",\"2021-01-28T00:00:00\",\"2021-01-29T00:00:00\",\"2021-01-30T00:00:00\",\"2021-01-31T00:00:00\",\"2021-02-01T00:00:00\",\"2021-02-02T00:00:00\",\"2021-02-03T00:00:00\",\"2021-02-04T00:00:00\",\"2021-02-05T00:00:00\",\"2021-02-06T00:00:00\",\"2021-02-07T00:00:00\",\"2021-02-08T00:00:00\",\"2021-02-09T00:00:00\",\"2021-02-10T00:00:00\",\"2021-02-11T00:00:00\",\"2021-02-12T00:00:00\",\"2021-02-13T00:00:00\",\"2021-02-14T00:00:00\",\"2021-02-15T00:00:00\",\"2021-02-16T00:00:00\",\"2021-02-17T00:00:00\",\"2021-02-18T00:00:00\",\"2021-02-19T00:00:00\",\"2021-02-20T00:00:00\",\"2021-02-21T00:00:00\",\"2021-02-22T00:00:00\",\"2021-02-23T00:00:00\",\"2021-02-24T00:00:00\",\"2021-02-25T00:00:00\",\"2021-02-26T00:00:00\",\"2021-02-27T00:00:00\",\"2021-02-28T00:00:00\",\"2021-03-01T00:00:00\",\"2021-03-02T00:00:00\",\"2021-03-03T00:00:00\",\"2021-03-04T00:00:00\",\"2021-03-05T00:00:00\",\"2021-03-06T00:00:00\",\"2021-03-07T00:00:00\",\"2021-03-08T00:00:00\",\"2021-03-09T00:00:00\",\"2021-03-10T00:00:00\",\"2021-03-11T00:00:00\",\"2021-03-12T00:00:00\",\"2021-03-13T00:00:00\",\"2021-03-14T00:00:00\",\"2021-03-15T00:00:00\",\"2021-03-16T00:00:00\",\"2021-03-17T00:00:00\",\"2021-03-18T00:00:00\",\"2021-03-19T00:00:00\",\"2021-03-20T00:00:00\",\"2021-03-21T00:00:00\",\"2021-03-22T00:00:00\",\"2021-03-23T00:00:00\",\"2021-03-24T00:00:00\",\"2021-03-25T00:00:00\",\"2021-03-26T00:00:00\",\"2021-03-27T00:00:00\",\"2021-03-28T00:00:00\",\"2021-03-29T00:00:00\",\"2021-03-30T00:00:00\",\"2021-03-31T00:00:00\",\"2021-04-01T00:00:00\",\"2021-04-02T00:00:00\",\"2021-04-03T00:00:00\",\"2021-04-04T00:00:00\",\"2021-04-05T00:00:00\",\"2021-04-06T00:00:00\",\"2021-04-07T00:00:00\",\"2021-04-08T00:00:00\",\"2021-04-09T00:00:00\",\"2021-04-10T00:00:00\",\"2021-04-11T00:00:00\",\"2021-04-12T00:00:00\",\"2021-04-13T00:00:00\",\"2021-04-14T00:00:00\",\"2021-04-15T00:00:00\",\"2021-04-16T00:00:00\",\"2021-04-17T00:00:00\",\"2021-04-18T00:00:00\",\"2021-04-19T00:00:00\",\"2021-04-20T00:00:00\",\"2021-04-21T00:00:00\",\"2021-04-22T00:00:00\",\"2021-04-23T00:00:00\",\"2021-04-24T00:00:00\",\"2021-04-25T00:00:00\",\"2021-04-26T00:00:00\",\"2021-04-27T00:00:00\",\"2021-04-28T00:00:00\",\"2021-04-29T00:00:00\",\"2021-04-30T00:00:00\",\"2021-05-01T00:00:00\",\"2021-05-02T00:00:00\",\"2021-05-03T00:00:00\",\"2021-05-04T00:00:00\",\"2021-05-05T00:00:00\",\"2021-05-06T00:00:00\",\"2021-05-07T00:00:00\",\"2021-05-08T00:00:00\",\"2021-05-09T00:00:00\",\"2021-05-10T00:00:00\",\"2021-05-11T00:00:00\",\"2021-05-12T00:00:00\",\"2021-05-13T00:00:00\",\"2021-05-14T00:00:00\",\"2021-05-15T00:00:00\",\"2021-05-16T00:00:00\",\"2021-05-17T00:00:00\",\"2021-05-18T00:00:00\",\"2021-05-19T00:00:00\",\"2021-05-20T00:00:00\",\"2021-05-21T00:00:00\",\"2021-05-22T00:00:00\",\"2021-05-23T00:00:00\",\"2021-05-24T00:00:00\",\"2021-05-25T00:00:00\",\"2021-05-26T00:00:00\",\"2021-05-27T00:00:00\",\"2021-05-28T00:00:00\",\"2021-05-29T00:00:00\",\"2021-05-30T00:00:00\",\"2021-05-31T00:00:00\",\"2021-06-01T00:00:00\",\"2021-06-02T00:00:00\",\"2021-06-03T00:00:00\",\"2021-06-04T00:00:00\",\"2021-06-05T00:00:00\",\"2021-06-06T00:00:00\",\"2021-06-07T00:00:00\",\"2021-06-08T00:00:00\",\"2021-06-09T00:00:00\",\"2021-06-10T00:00:00\",\"2021-06-11T00:00:00\",\"2021-06-12T00:00:00\",\"2021-06-13T00:00:00\",\"2021-06-14T00:00:00\",\"2021-06-15T00:00:00\",\"2021-06-16T00:00:00\",\"2021-06-17T00:00:00\",\"2021-06-18T00:00:00\",\"2021-06-19T00:00:00\",\"2021-06-20T00:00:00\",\"2021-06-21T00:00:00\",\"2021-06-22T00:00:00\",\"2021-06-23T00:00:00\",\"2021-06-24T00:00:00\",\"2021-06-25T00:00:00\",\"2021-06-26T00:00:00\",\"2021-06-27T00:00:00\",\"2021-06-28T00:00:00\",\"2021-06-29T00:00:00\",\"2021-06-30T00:00:00\",\"2021-07-01T00:00:00\",\"2021-07-02T00:00:00\",\"2021-07-03T00:00:00\",\"2021-07-04T00:00:00\",\"2021-07-05T00:00:00\",\"2021-07-06T00:00:00\",\"2021-07-07T00:00:00\",\"2021-07-08T00:00:00\",\"2021-07-09T00:00:00\",\"2021-07-10T00:00:00\",\"2021-07-11T00:00:00\",\"2021-07-12T00:00:00\",\"2021-07-13T00:00:00\",\"2021-07-14T00:00:00\",\"2021-07-15T00:00:00\",\"2021-07-16T00:00:00\",\"2021-07-17T00:00:00\",\"2021-07-18T00:00:00\",\"2021-07-19T00:00:00\",\"2021-07-20T00:00:00\",\"2021-07-21T00:00:00\",\"2021-07-22T00:00:00\",\"2021-07-23T00:00:00\",\"2021-07-24T00:00:00\",\"2021-07-25T00:00:00\",\"2021-07-26T00:00:00\",\"2021-07-27T00:00:00\",\"2021-07-28T00:00:00\",\"2021-07-29T00:00:00\",\"2021-07-30T00:00:00\",\"2021-07-31T00:00:00\",\"2021-08-01T00:00:00\",\"2021-08-02T00:00:00\",\"2021-08-03T00:00:00\",\"2021-08-04T00:00:00\",\"2021-08-05T00:00:00\",\"2021-08-06T00:00:00\",\"2021-08-07T00:00:00\",\"2021-08-08T00:00:00\",\"2021-08-09T00:00:00\",\"2021-08-10T00:00:00\",\"2021-08-11T00:00:00\",\"2021-08-12T00:00:00\",\"2021-08-13T00:00:00\",\"2021-08-14T00:00:00\",\"2021-08-15T00:00:00\",\"2021-08-16T00:00:00\",\"2021-08-17T00:00:00\",\"2021-08-18T00:00:00\",\"2021-08-19T00:00:00\",\"2021-08-20T00:00:00\",\"2021-08-21T00:00:00\",\"2021-08-22T00:00:00\",\"2021-08-23T00:00:00\",\"2021-08-24T00:00:00\",\"2021-08-25T00:00:00\",\"2021-08-26T00:00:00\",\"2021-08-27T00:00:00\",\"2021-08-28T00:00:00\",\"2021-08-29T00:00:00\",\"2021-08-30T00:00:00\",\"2021-08-31T00:00:00\",\"2021-09-01T00:00:00\",\"2021-09-02T00:00:00\",\"2021-09-03T00:00:00\",\"2021-09-04T00:00:00\",\"2021-09-05T00:00:00\",\"2021-09-06T00:00:00\",\"2021-09-07T00:00:00\",\"2021-09-08T00:00:00\",\"2021-09-09T00:00:00\",\"2021-09-10T00:00:00\",\"2021-09-11T00:00:00\",\"2021-09-12T00:00:00\",\"2021-09-13T00:00:00\",\"2021-09-14T00:00:00\",\"2021-09-15T00:00:00\",\"2021-09-16T00:00:00\",\"2021-09-17T00:00:00\",\"2021-09-18T00:00:00\",\"2021-09-19T00:00:00\",\"2021-09-20T00:00:00\",\"2021-09-21T00:00:00\",\"2021-09-22T00:00:00\",\"2021-09-23T00:00:00\",\"2021-09-24T00:00:00\",\"2021-09-25T00:00:00\",\"2021-09-26T00:00:00\",\"2021-09-27T00:00:00\",\"2021-09-28T00:00:00\",\"2021-09-29T00:00:00\",\"2021-09-30T00:00:00\",\"2021-10-01T00:00:00\",\"2021-10-02T00:00:00\",\"2021-10-03T00:00:00\",\"2021-10-04T00:00:00\",\"2021-10-05T00:00:00\",\"2021-10-06T00:00:00\",\"2021-10-07T00:00:00\",\"2021-10-08T00:00:00\",\"2021-10-09T00:00:00\",\"2021-10-10T00:00:00\",\"2021-10-11T00:00:00\",\"2021-10-12T00:00:00\",\"2021-10-13T00:00:00\",\"2021-10-14T00:00:00\",\"2021-10-15T00:00:00\",\"2021-10-16T00:00:00\",\"2021-10-17T00:00:00\",\"2021-10-18T00:00:00\",\"2021-10-19T00:00:00\",\"2021-10-20T00:00:00\",\"2021-10-21T00:00:00\",\"2021-10-22T00:00:00\",\"2021-10-23T00:00:00\",\"2021-10-24T00:00:00\",\"2021-10-25T00:00:00\",\"2021-10-26T00:00:00\",\"2021-10-27T00:00:00\",\"2021-10-28T00:00:00\",\"2021-10-29T00:00:00\",\"2021-10-30T00:00:00\",\"2021-10-31T00:00:00\",\"2021-11-01T00:00:00\",\"2021-11-02T00:00:00\",\"2021-11-03T00:00:00\",\"2021-11-04T00:00:00\",\"2021-11-05T00:00:00\",\"2021-11-06T00:00:00\",\"2021-11-07T00:00:00\",\"2021-11-08T00:00:00\",\"2021-11-09T00:00:00\",\"2021-11-10T00:00:00\",\"2021-11-11T00:00:00\",\"2021-11-12T00:00:00\",\"2021-11-13T00:00:00\",\"2021-11-14T00:00:00\",\"2021-11-15T00:00:00\",\"2021-11-16T00:00:00\",\"2021-11-17T00:00:00\",\"2021-11-18T00:00:00\",\"2021-11-19T00:00:00\",\"2021-11-20T00:00:00\",\"2021-11-21T00:00:00\",\"2021-11-22T00:00:00\",\"2021-11-23T00:00:00\",\"2021-11-24T00:00:00\",\"2021-11-25T00:00:00\",\"2021-11-26T00:00:00\",\"2021-11-27T00:00:00\",\"2021-11-28T00:00:00\",\"2021-11-29T00:00:00\",\"2021-11-30T00:00:00\",\"2021-12-01T00:00:00\",\"2021-12-02T00:00:00\",\"2021-12-03T00:00:00\",\"2021-12-04T00:00:00\",\"2021-12-05T00:00:00\",\"2021-12-06T00:00:00\",\"2021-12-07T00:00:00\",\"2021-12-08T00:00:00\",\"2021-12-09T00:00:00\",\"2021-12-10T00:00:00\",\"2021-12-11T00:00:00\",\"2021-12-12T00:00:00\",\"2021-12-13T00:00:00\",\"2021-12-14T00:00:00\",\"2021-12-15T00:00:00\",\"2021-12-16T00:00:00\",\"2021-12-17T00:00:00\",\"2021-12-18T00:00:00\",\"2021-12-19T00:00:00\",\"2021-12-20T00:00:00\",\"2021-12-21T00:00:00\",\"2021-12-22T00:00:00\",\"2021-12-23T00:00:00\",\"2021-12-24T00:00:00\",\"2021-12-25T00:00:00\",\"2021-12-26T00:00:00\",\"2021-12-27T00:00:00\",\"2021-12-28T00:00:00\",\"2021-12-29T00:00:00\",\"2021-12-30T00:00:00\",\"2021-12-31T00:00:00\",\"2022-01-01T00:00:00\",\"2022-01-02T00:00:00\",\"2022-01-03T00:00:00\",\"2022-01-04T00:00:00\",\"2022-01-05T00:00:00\",\"2022-01-06T00:00:00\",\"2022-01-07T00:00:00\",\"2022-01-08T00:00:00\",\"2022-01-09T00:00:00\",\"2022-01-10T00:00:00\",\"2022-01-11T00:00:00\",\"2022-01-12T00:00:00\",\"2022-01-13T00:00:00\",\"2022-01-14T00:00:00\",\"2022-01-15T00:00:00\",\"2022-01-16T00:00:00\",\"2022-01-17T00:00:00\",\"2022-01-18T00:00:00\",\"2022-01-19T00:00:00\",\"2022-01-20T00:00:00\",\"2022-01-21T00:00:00\",\"2022-01-22T00:00:00\",\"2022-01-23T00:00:00\",\"2022-01-24T00:00:00\",\"2022-01-25T00:00:00\",\"2022-01-26T00:00:00\",\"2022-01-27T00:00:00\",\"2022-01-28T00:00:00\",\"2022-01-29T00:00:00\",\"2022-01-30T00:00:00\",\"2022-01-31T00:00:00\",\"2022-02-01T00:00:00\",\"2022-02-02T00:00:00\",\"2022-02-03T00:00:00\",\"2022-02-04T00:00:00\",\"2022-02-05T00:00:00\",\"2022-02-06T00:00:00\",\"2022-02-07T00:00:00\",\"2022-02-08T00:00:00\",\"2022-02-09T00:00:00\",\"2022-02-10T00:00:00\",\"2022-02-11T00:00:00\",\"2022-02-12T00:00:00\",\"2022-02-13T00:00:00\",\"2022-02-14T00:00:00\",\"2022-02-15T00:00:00\",\"2022-02-16T00:00:00\",\"2022-02-17T00:00:00\",\"2022-02-18T00:00:00\",\"2022-02-19T00:00:00\",\"2022-02-20T00:00:00\",\"2022-02-21T00:00:00\",\"2022-02-22T00:00:00\",\"2022-02-23T00:00:00\",\"2022-02-24T00:00:00\",\"2022-02-25T00:00:00\",\"2022-02-26T00:00:00\",\"2022-02-27T00:00:00\",\"2022-02-28T00:00:00\",\"2022-03-01T00:00:00\",\"2022-03-02T00:00:00\",\"2022-03-03T00:00:00\",\"2022-03-04T00:00:00\",\"2022-03-05T00:00:00\",\"2022-03-06T00:00:00\",\"2022-03-07T00:00:00\",\"2022-03-08T00:00:00\",\"2022-03-09T00:00:00\",\"2022-03-10T00:00:00\",\"2022-03-11T00:00:00\",\"2022-03-12T00:00:00\",\"2022-03-13T00:00:00\",\"2022-03-14T00:00:00\",\"2022-03-15T00:00:00\",\"2022-03-16T00:00:00\",\"2022-03-17T00:00:00\",\"2022-03-18T00:00:00\",\"2022-03-19T00:00:00\",\"2022-03-20T00:00:00\",\"2022-03-21T00:00:00\",\"2022-03-22T00:00:00\",\"2022-03-23T00:00:00\",\"2022-03-24T00:00:00\",\"2022-03-25T00:00:00\",\"2022-03-26T00:00:00\",\"2022-03-27T00:00:00\",\"2022-03-28T00:00:00\",\"2022-03-29T00:00:00\",\"2022-03-30T00:00:00\",\"2022-03-31T00:00:00\",\"2022-04-01T00:00:00\",\"2022-04-02T00:00:00\",\"2022-04-03T00:00:00\",\"2022-04-04T00:00:00\",\"2022-04-05T00:00:00\",\"2022-04-06T00:00:00\",\"2022-04-07T00:00:00\",\"2022-04-08T00:00:00\",\"2022-04-09T00:00:00\",\"2022-04-10T00:00:00\",\"2022-04-11T00:00:00\",\"2022-04-12T00:00:00\",\"2022-04-13T00:00:00\",\"2022-04-14T00:00:00\",\"2022-04-15T00:00:00\",\"2022-04-16T00:00:00\",\"2022-04-17T00:00:00\",\"2022-04-18T00:00:00\",\"2022-04-19T00:00:00\",\"2022-04-20T00:00:00\",\"2022-04-21T00:00:00\",\"2022-04-22T00:00:00\",\"2022-04-23T00:00:00\",\"2022-04-24T00:00:00\",\"2022-04-25T00:00:00\",\"2022-04-26T00:00:00\",\"2022-04-27T00:00:00\",\"2022-04-28T00:00:00\",\"2022-04-29T00:00:00\",\"2022-04-30T00:00:00\",\"2022-05-01T00:00:00\",\"2022-05-02T00:00:00\",\"2022-05-03T00:00:00\",\"2022-05-04T00:00:00\",\"2022-05-05T00:00:00\",\"2022-05-06T00:00:00\",\"2022-05-07T00:00:00\",\"2022-05-08T00:00:00\",\"2022-05-09T00:00:00\",\"2022-05-10T00:00:00\",\"2022-05-11T00:00:00\",\"2022-05-12T00:00:00\",\"2022-05-13T00:00:00\",\"2022-05-14T00:00:00\",\"2022-05-15T00:00:00\",\"2022-05-16T00:00:00\",\"2022-05-17T00:00:00\",\"2022-05-18T00:00:00\",\"2022-05-19T00:00:00\",\"2022-05-20T00:00:00\",\"2022-05-21T00:00:00\",\"2022-05-22T00:00:00\",\"2022-05-23T00:00:00\",\"2022-05-24T00:00:00\",\"2022-05-25T00:00:00\",\"2022-05-26T00:00:00\",\"2022-05-27T00:00:00\",\"2022-05-28T00:00:00\",\"2022-05-29T00:00:00\",\"2022-05-30T00:00:00\",\"2022-05-31T00:00:00\",\"2022-06-01T00:00:00\",\"2022-06-02T00:00:00\",\"2022-06-03T00:00:00\",\"2022-06-04T00:00:00\",\"2022-06-05T00:00:00\",\"2022-06-06T00:00:00\",\"2022-06-07T00:00:00\",\"2022-06-08T00:00:00\",\"2022-06-09T00:00:00\",\"2022-06-10T00:00:00\",\"2022-06-11T00:00:00\",\"2022-06-12T00:00:00\",\"2022-06-13T00:00:00\",\"2022-06-14T00:00:00\",\"2022-06-15T00:00:00\",\"2022-06-16T00:00:00\",\"2022-06-17T00:00:00\",\"2022-06-18T00:00:00\",\"2022-06-19T00:00:00\",\"2022-06-20T00:00:00\",\"2022-06-21T00:00:00\",\"2022-06-22T00:00:00\",\"2022-06-23T00:00:00\",\"2022-06-24T00:00:00\",\"2022-06-25T00:00:00\",\"2022-06-26T00:00:00\",\"2022-06-27T00:00:00\",\"2022-06-28T00:00:00\",\"2022-06-29T00:00:00\",\"2022-06-30T00:00:00\",\"2022-07-01T00:00:00\",\"2022-07-02T00:00:00\",\"2022-07-03T00:00:00\",\"2022-07-04T00:00:00\",\"2022-07-05T00:00:00\",\"2022-07-06T00:00:00\",\"2022-07-07T00:00:00\",\"2022-07-08T00:00:00\",\"2022-07-09T00:00:00\",\"2022-07-10T00:00:00\",\"2022-07-11T00:00:00\",\"2022-07-12T00:00:00\",\"2022-07-13T00:00:00\",\"2022-07-14T00:00:00\",\"2022-07-15T00:00:00\",\"2022-07-16T00:00:00\",\"2022-07-17T00:00:00\",\"2022-07-18T00:00:00\",\"2022-07-19T00:00:00\",\"2022-07-20T00:00:00\",\"2022-07-21T00:00:00\",\"2022-07-22T00:00:00\",\"2022-07-23T00:00:00\",\"2022-07-24T00:00:00\",\"2022-07-25T00:00:00\",\"2022-07-26T00:00:00\",\"2022-07-27T00:00:00\",\"2022-07-28T00:00:00\",\"2022-07-29T00:00:00\",\"2022-07-30T00:00:00\",\"2022-07-31T00:00:00\",\"2022-08-01T00:00:00\",\"2022-08-02T00:00:00\",\"2022-08-03T00:00:00\",\"2022-08-04T00:00:00\",\"2022-08-05T00:00:00\",\"2022-08-06T00:00:00\",\"2022-08-07T00:00:00\",\"2022-08-08T00:00:00\",\"2022-08-09T00:00:00\",\"2022-08-10T00:00:00\",\"2022-08-11T00:00:00\",\"2022-08-12T00:00:00\",\"2022-08-13T00:00:00\",\"2022-08-14T00:00:00\",\"2022-08-15T00:00:00\",\"2022-08-16T00:00:00\",\"2022-08-17T00:00:00\",\"2022-08-18T00:00:00\",\"2022-08-19T00:00:00\",\"2022-08-20T00:00:00\",\"2022-08-21T00:00:00\",\"2022-08-22T00:00:00\",\"2022-08-23T00:00:00\",\"2022-08-24T00:00:00\",\"2022-08-25T00:00:00\",\"2022-08-26T00:00:00\",\"2022-08-27T00:00:00\",\"2022-08-28T00:00:00\",\"2022-08-29T00:00:00\",\"2022-08-30T00:00:00\",\"2022-08-31T00:00:00\",\"2022-09-01T00:00:00\",\"2022-09-02T00:00:00\",\"2022-09-03T00:00:00\",\"2022-09-04T00:00:00\",\"2022-09-05T00:00:00\",\"2022-09-06T00:00:00\",\"2022-09-07T00:00:00\",\"2022-09-08T00:00:00\",\"2022-09-09T00:00:00\",\"2022-09-10T00:00:00\",\"2022-09-11T00:00:00\",\"2022-09-12T00:00:00\",\"2022-09-13T00:00:00\",\"2022-09-14T00:00:00\",\"2022-09-15T00:00:00\",\"2022-09-16T00:00:00\",\"2022-09-17T00:00:00\",\"2022-09-18T00:00:00\",\"2022-09-19T00:00:00\",\"2022-09-20T00:00:00\",\"2022-09-21T00:00:00\",\"2022-09-22T00:00:00\",\"2022-09-23T00:00:00\",\"2022-09-24T00:00:00\",\"2022-09-25T00:00:00\",\"2022-09-26T00:00:00\",\"2022-09-27T00:00:00\",\"2022-09-28T00:00:00\",\"2022-09-29T00:00:00\",\"2022-09-30T00:00:00\",\"2022-10-01T00:00:00\",\"2022-10-02T00:00:00\",\"2022-10-03T00:00:00\",\"2022-10-04T00:00:00\",\"2022-10-05T00:00:00\",\"2022-10-06T00:00:00\",\"2022-10-07T00:00:00\",\"2022-10-08T00:00:00\",\"2022-10-09T00:00:00\",\"2022-10-10T00:00:00\",\"2022-10-11T00:00:00\",\"2022-10-12T00:00:00\",\"2022-10-13T00:00:00\",\"2022-10-14T00:00:00\",\"2022-10-15T00:00:00\",\"2022-10-16T00:00:00\",\"2022-10-17T00:00:00\",\"2022-10-18T00:00:00\",\"2022-10-19T00:00:00\",\"2022-10-20T00:00:00\",\"2022-10-21T00:00:00\",\"2022-10-22T00:00:00\",\"2022-10-23T00:00:00\",\"2022-10-24T00:00:00\",\"2022-10-25T00:00:00\",\"2022-10-26T00:00:00\",\"2022-10-27T00:00:00\",\"2022-10-28T00:00:00\",\"2022-10-29T00:00:00\",\"2022-10-30T00:00:00\",\"2022-10-31T00:00:00\",\"2022-11-01T00:00:00\",\"2022-11-02T00:00:00\",\"2022-11-03T00:00:00\",\"2022-11-04T00:00:00\",\"2022-11-05T00:00:00\",\"2022-11-06T00:00:00\",\"2022-11-07T00:00:00\",\"2022-11-08T00:00:00\",\"2022-11-09T00:00:00\",\"2022-11-10T00:00:00\",\"2022-11-11T00:00:00\",\"2022-11-12T00:00:00\",\"2022-11-13T00:00:00\",\"2022-11-14T00:00:00\",\"2022-11-15T00:00:00\",\"2022-11-16T00:00:00\",\"2022-11-17T00:00:00\",\"2022-11-18T00:00:00\",\"2022-11-19T00:00:00\",\"2022-11-20T00:00:00\",\"2022-11-21T00:00:00\",\"2022-11-22T00:00:00\",\"2022-11-23T00:00:00\",\"2022-11-24T00:00:00\",\"2022-11-25T00:00:00\",\"2022-11-26T00:00:00\",\"2022-11-27T00:00:00\",\"2022-11-28T00:00:00\",\"2022-11-29T00:00:00\",\"2022-11-30T00:00:00\",\"2022-12-01T00:00:00\",\"2022-12-02T00:00:00\",\"2022-12-03T00:00:00\",\"2022-12-04T00:00:00\",\"2022-12-05T00:00:00\",\"2022-12-06T00:00:00\",\"2022-12-07T00:00:00\",\"2022-12-08T00:00:00\",\"2022-12-09T00:00:00\",\"2022-12-10T00:00:00\",\"2022-12-11T00:00:00\",\"2022-12-12T00:00:00\",\"2022-12-13T00:00:00\",\"2022-12-14T00:00:00\",\"2022-12-15T00:00:00\",\"2022-12-16T00:00:00\",\"2022-12-17T00:00:00\",\"2022-12-18T00:00:00\",\"2022-12-19T00:00:00\",\"2022-12-20T00:00:00\",\"2022-12-21T00:00:00\",\"2022-12-22T00:00:00\",\"2022-12-23T00:00:00\",\"2022-12-24T00:00:00\",\"2022-12-25T00:00:00\",\"2022-12-26T00:00:00\",\"2022-12-27T00:00:00\",\"2022-12-28T00:00:00\",\"2022-12-29T00:00:00\",\"2022-12-30T00:00:00\",\"2022-12-31T00:00:00\"],\"y\":[58.74134625,58.70621396042537,58.668658753719185,58.632315004436315,58.594759797434996,58.55841604906441,58.52086084347047,58.48330563702979,58.446961888610964,58.409406681277694,58.3730629322455,58.335507724912226,58.334296266611155,58.33308480831008,58.33187335000901,58.33066189170793,58.32945043340686,58.32823897510579,58.32702751680471,58.32581605850365,58.32460460020257,58.32339314190149,58.32218168360043,58.32097022529935,58.31975876699828,58.318547308697205,58.31733585039613,58.316124392095055,58.314912933793984,58.31370147549291,58.312490017191834,58.31127855889077,58.31006710058969,58.30885564228861,58.30764418398755,58.30643272568647,58.3052212673854,58.30400980908433,58.30279835078325,58.30158689248218,58.300375434181106,58.299163975880035,58.297952517578956,58.296741059277885,58.29552960097681,58.294318142675735,58.29310668437467,58.29189522607359,58.29068376777252,58.28947230947145,58.28826085117037,58.2870493928693,58.28583793456823,58.28462647626716,58.28341501796608,58.28220355966501,58.280992101363935,58.27978064306286,58.27856918476179,58.277357726460714,58.276146268159636,58.27493480985857,58.27372335155749,58.27251189325642,58.27130043495535,58.27008897665427,58.2688775183532,58.26766606005213,58.26645460175106,58.26524314344998,58.264031685148915,58.262820226847836,58.26160876854676,58.26039731024569,58.259185851944615,58.25797439364354,58.25676293534247,58.255551477041394,58.25434001874032,58.25312856043925,58.25191710213818,58.2507056438371,58.24949418553603,58.24828272723496,58.24707126893388,58.245859810632815,58.24464835233174,58.243436894030665,58.242225435729594,58.241013977428516,58.239802519127444,58.23859106082637,58.2373796025253,58.23616814422422,58.23495668592315,58.23374522762208,58.232533769321,58.23132231101994,58.23011085271886,58.22889939441778,58.227687936116716,58.22647647781564,58.225265019514566,58.224053561213495,58.222842102912416,58.221630644611345,58.220419186310274,58.2192077280092,58.217996269708124,58.21678481140706,58.21557335310598,58.2143618948049,58.21315043650384,58.21193897820276,58.21072751990169,58.20951606160062,58.20830460329954,58.20709314499847,58.205881686697396,58.204670228396324,58.203458770095246,58.202247311794174,58.2010358534931,58.199824395192024,58.19861293689096,58.19740147858988,58.1961900202888,58.19497856198774,58.19376710368666,58.19255564538559,58.19134418708452,58.190132728783446,58.18892127048237,58.187709812181296,58.186498353880225,58.18528689557915,58.18407543727808,58.182863978977004,58.181652520675925,58.18044106237486,58.17922960407378,58.17801814577271,58.17680668747164,58.17559522917056,58.17438377086949,58.17317231256842,58.17196085426735,58.17074939596627,58.169537937665204,58.168326479364126,58.16711502106305,58.16590356276198,58.164692104460904,58.16348064615984,58.16226918785876,58.16105772955768,58.15984627125661,58.15863481295554,58.15742335465447,58.15621189635339,58.15500043805232,58.15378897975125,58.15257752145017,58.151366063149105,58.15015460484803,58.14894314654695,58.147731688245884,58.146520229944805,58.145308771643734,58.14409731334266,58.14288585504159,58.14167439674051,58.14046293843944,58.13925148013837,58.13804002183729,58.13682856353623,58.13561710523515,58.13440564693407,58.133194188633006,58.13198273033193,58.13077127203086,58.129559813729784,58.128348355428706,58.127136897127635,58.12592543882656,58.12471398052549,58.12350252222441,58.12229106392334,58.12107960562227,58.11986814732119,58.11865668902013,58.11744523071905,58.116233772417985,58.115022314116906,58.11381085581583,58.112599397514764,58.111387939213685,58.110176480912614,58.108965022611535,58.107753564310464,58.10654210600939,58.105330647708314,58.10411918940725,58.10290773110617,58.10169627280509,58.10048481450403,58.09927335620295,58.098061897901886,58.09685043960081,58.095638981299736,58.094427522998664,58.093216064697586,58.092004606396515,58.090793148095436,58.08958168979437,58.08837023149329,58.087158773192215,58.08594731489115,58.08473585659007,58.08352439828901,58.08231293998793,58.08110148168685,58.079890023385786,58.07867856508471,58.07746710678364,58.07625564848256,58.07504419018149,58.073832731880415,58.07262127357934,58.07140981527827,58.070198356977194,58.06898689867613,58.06777544037505,58.06656398207397,58.06535252377291,58.06414106547183,58.06292960717076,58.06171814886969,58.06050669056861,58.05929523226754,58.05808377396646,58.056872315665395,58.055660857364316,58.05444939906324,58.05323794076217,58.052026482461095,58.05081502416003,58.04960356585895,58.04839210755788,58.04718064925681,58.04596919095573,58.04475773265466,58.04354627435359,58.04233481605252,58.04112335775144,58.03991189945036,58.038700441149295,58.03748898284822,58.03627752454715,58.035066066246074,58.033854607944996,58.03264314964393,58.03143169134285,58.03022023304178,58.02900877474071,58.02779731643963,58.02658585813856,58.02537439983749,58.02416294153642,58.02295148323534,58.021740024934275,58.020528566633196,58.01931710833212,58.01810565003105,58.016894191729975,58.0156827334289,58.01447127512783,58.01325981682675,58.01204835852568,58.01083690022461,58.00962544192354,58.00841398362246,58.00720252532138,58.00599106702032,58.00477960871924,58.003568150418175,58.0023566921171,58.001145233816025,57.999933775514954,57.998722317213875,57.997510858912804,57.99629940061173,57.99508794231066,57.99387648400958,57.99266502570851,57.99145356740744,57.99024210910636,57.9890306508053,57.98781919250422,57.98660773420314,57.985396275902076,57.984184817601,57.982973359299926,57.981761900998855,57.980550442697776,57.979338984396705,57.97812752609563,57.97691606779456,57.975704609493484,57.97449315119242,57.97328169289134,57.97207023459026,57.9708587762892,57.96964731798812,57.96843585968705,57.96722440138598,57.9660129430849,57.96480148478383,57.963590026482755,57.962378568181684,57.961167109880606,57.959955651579534,57.95874419327846,57.957532734977384,57.95632127667632,57.95510981837524,57.95389836007416,57.9526869017731,57.95147544347202,57.95026398517095,57.94905252686988,57.947841068568806,57.94662961026773,57.945418151966656,57.944206693665585,57.942995235364506,57.94178377706344,57.940572318762364,57.939360860461285,57.93814940216022,57.93693794385914,57.93572648555807,57.934515027257,57.93330356895592,57.93209211065485,57.93088065235378,57.92966919405271,57.92845773575163,57.927246277450564,57.926034819149486,57.92482336084841,57.92361190254734,57.922400444246264,57.92118898594519,57.91997752764412,57.91876606934304,57.91755461104197,57.9163431527409,57.91513169443983,57.91392023613875,57.91270877783768,57.91149731953661,57.91028586123553,57.909074402934465,57.907862944633386,57.90665148633231,57.905440028031244,57.904228569730165,57.903017111429094,57.90180565312802,57.90059419482695,57.89938273652587,57.8981712782248,57.89695981992373,57.89574836162265,57.89453690332159,57.89332544502051,57.89211398671943,57.890902528418366,57.88969107011729,57.888479611816216,57.887268153515144,57.886056695214066,57.884845236912994,57.88363377861192,57.88242232031085,57.88121086200977,57.8799994037087,57.87878794540763,57.87757648710655,57.87636502880549,57.87515357050441,57.87394211220334,57.872730653902266,57.87151919560119,57.87030773730012,57.869096278999045,57.867884820697974,57.866673362396895,57.865461904095824,57.86425044579475,57.863038987493674,57.86182752919261,57.86061607089153,57.85940461259045,57.85819315428939,57.85698169598831,57.85577023768724,57.85455877938617,57.853347321085096,57.85213586278402,57.850924404482946,57.849712946181874,57.848501487880796,57.84729002957973,57.84607857127865,57.844867112977575,57.84365565467651,57.84244419637543,57.84123273807436,57.84002127977329,57.83880982147221,57.83759836317114,57.83638690487007,57.835175446569,57.83396398826792,57.83275252996685,57.831541071665775,57.8303296133647,57.82911815506363,57.827906696762554,57.82669523846148,57.82548378016041,57.82427232185933,57.82306086355826,57.82184940525719,57.82063794695612,57.81942648865504,57.81821503035397,57.8170035720529,57.81579211375182,57.814580655450754,57.813369197149676,57.8121577388486,57.81094628054753,57.809734822246455,57.80852336394538,57.80731190564431,57.80610044734324,57.80488898904216,57.80367753074109,57.80246607244002,57.80125461413894,57.800043155837876,57.7988316975368,57.79762023923572,57.796408780934655,57.79519732263358,57.793985864332505,57.792774406031434,57.791562947730355,57.790351489429284,57.78914003112821,57.78792857282714,57.78671711452606,57.78550565622499,57.78429419792392,57.78308273962284,57.78187128132178,57.7806598230207,57.77944836471963,57.778236906418556,57.77702544811748,57.775813989816406,57.774602531515335,57.77339107321426,57.772179614913185,57.77096815661211,57.76975669831104,57.76854524000996,57.7673337817089,57.76612232340782,57.76491086510674,57.76369940680568,57.7624879485046,57.76127649020353,57.76006503190246,57.758853573601385,57.75764211530031,57.756430656999235,57.755219198698164,57.754007740397086,57.75279628209602,57.75158482379494,57.750373365493864,57.7491619071928,57.74795044889172,57.74673899059066,57.74552753228958,57.7443160739885,57.74310461568743,57.74189315738636,57.740681699085286,57.73947024078421,57.738258782483136,57.737047324182065,57.735835865880986,57.73462440757992,57.73341294927884,57.73220149097778,57.7309900326767,57.72977857437562,57.72856711607455,57.72735565777348,57.72614419947241,57.72493274117133,57.72372128287026,57.72250982456919,57.72129836626811,57.720086907967044,57.718875449665966,57.71766399136489,57.71645253306382,57.715241074762744,57.71402961646168,57.7128181581606,57.71160669985952,57.71039524155845,57.70918378325738,57.70797232495631,57.70676086665523,57.705549408354166,57.70433795005309,57.70312649175201,57.701915033450945,57.700703575149866,57.6994921168488,57.69828065854772,57.697069200246645,57.69585774194558,57.6946462836445,57.69343482534343,57.69222336704235,57.69101190874128,57.68980045044021,57.68858899213913,57.68737753383807,57.68616607553699,57.684954617235924,57.683743158934845,57.68253170063377,57.6813202423327,57.680108784031624,57.67889732573055,57.67768586742948,57.6764744091284,57.67526295082733,57.67405149252625,57.67284003422519,57.67162857592411,57.67041711762303,57.66920565932197,57.66799420102089,57.666782742719825,57.665571284418746,57.66435982611767,57.6631483678166,57.661936909515525,57.660725451214454,57.659513992913375,57.65830253461231,57.65709107631123,57.655879618010154,57.65466815970909,57.65345670140801,57.65224524310695,57.65103378480587,57.64982232650479,57.648610868203725,57.64739940990265,57.646187951601576,57.644976493300504,57.643765034999426,57.642553576698354,57.641342118397276,57.64013066009621,57.63891920179513,57.637707743494055,57.63649628519299,57.63528482689191,57.63407336859085,57.63286191028977,57.6316504519887,57.630438993687626,57.62922753538655,57.628016077085476,57.626804618784405,57.625593160483334,57.624381702182255,57.62317024388118,57.62195878558011,57.620747327279034,57.61953586897797,57.61832441067689,57.61711295237581,57.61590149407475,57.61469003577367,57.6134785774726,57.61226711917153,57.611055660870456,57.60984420256938,57.608632744268306,57.607421285967234,57.606209827666156,57.60499836936509,57.60378691106401,57.602575452762935,57.60136399446187,57.60015253616079,57.59894107785972,57.59772961955865,57.59651816125757,57.5953067029565,57.59409524465543,57.592883786354356,57.59167232805328,57.5904608697522,57.589249411451135,57.58803795315006,57.58682649484899,57.585615036547914,57.58440357824684,57.58319211994577,57.58198066164469,57.58076920334362,57.57955774504255,57.57834628674148,57.5771348284404,57.57592337013933,57.57471191183826,57.57350045353718,57.572288995236114,57.571077536935036,57.56986607863396,57.56865462033289,57.567443162031815,57.56623170373074,57.56502024542967,57.5638087871286,57.56259732882752,57.56138587052645,57.56017441222538,57.5589629539243,57.557751495623236,57.55654003732216,57.55532857902108,57.554117120720015,57.55290566241894,57.551694204117865,57.550482745816794,57.549271287515715,57.548059829214644,57.54684837091357,57.5456369126125,57.54442545431142,57.54321399601035,57.54200253770928,57.5407910794082,57.53957962110714,57.53836816280606,57.53715670450498,57.535945246203916,57.53473378790284,57.533522329601766,57.532310871300695,57.53109941299962,57.529887954698545,57.52867649639747,57.5274650380964,57.52625357979532,57.52504212149426,57.52383066319318,57.5226192048921,57.52140774659104,57.52019628828996,57.51898482998889,57.51777337168782,57.516561913386745,57.51535045508567,57.514138996784595,57.512927538483524,57.511716080182445,57.51050462188138,57.5092931635803,57.508081705279224,57.50687024697816,57.50565878867708,57.50444733037601,57.50323587207494,57.50202441377386,57.50081295547279,57.49960149717172,57.498390038870646,57.49717858056957,57.495967122268496,57.494755663967425,57.493544205666346,57.49233274736528,57.4911212890642,57.489909830763125,57.48869837246206,57.48748691416098,57.48627545585991,57.48506399755884,57.48385253925777,57.48264108095669,57.48142962265562,57.48021816435455,57.47900670605347,57.477795247752404,57.476583789451325,57.47537233115025,57.47416087284918,57.472949414548104,57.47173795624703,57.47052649794596,57.46931503964488,57.46810358134381,57.46689212304274,57.46568066474167,57.46446920644059,57.463257748139526,57.46204628983845,57.46083483153737,57.459623373236305,57.458411914935226,57.457200456634155,57.45598899833308,57.454777540032005,57.45356608173093,57.45235462342986,57.45114316512879],\"type\":\"scatter\"},{\"fill\":\"tonexty\",\"fillcolor\":\"rgba(0, 114, 178, 0.2)\",\"hoverinfo\":\"skip\",\"line\":{\"width\":0},\"mode\":\"lines\",\"x\":[\"2020-01-31T00:00:00\",\"2020-02-29T00:00:00\",\"2020-03-31T00:00:00\",\"2020-04-30T00:00:00\",\"2020-05-31T00:00:00\",\"2020-06-30T00:00:00\",\"2020-07-31T00:00:00\",\"2020-08-31T00:00:00\",\"2020-09-30T00:00:00\",\"2020-10-31T00:00:00\",\"2020-11-30T00:00:00\",\"2020-12-31T00:00:00\",\"2021-01-01T00:00:00\",\"2021-01-02T00:00:00\",\"2021-01-03T00:00:00\",\"2021-01-04T00:00:00\",\"2021-01-05T00:00:00\",\"2021-01-06T00:00:00\",\"2021-01-07T00:00:00\",\"2021-01-08T00:00:00\",\"2021-01-09T00:00:00\",\"2021-01-10T00:00:00\",\"2021-01-11T00:00:00\",\"2021-01-12T00:00:00\",\"2021-01-13T00:00:00\",\"2021-01-14T00:00:00\",\"2021-01-15T00:00:00\",\"2021-01-16T00:00:00\",\"2021-01-17T00:00:00\",\"2021-01-18T00:00:00\",\"2021-01-19T00:00:00\",\"2021-01-20T00:00:00\",\"2021-01-21T00:00:00\",\"2021-01-22T00:00:00\",\"2021-01-23T00:00:00\",\"2021-01-24T00:00:00\",\"2021-01-25T00:00:00\",\"2021-01-26T00:00:00\",\"2021-01-27T00:00:00\",\"2021-01-28T00:00:00\",\"2021-01-29T00:00:00\",\"2021-01-30T00:00:00\",\"2021-01-31T00:00:00\",\"2021-02-01T00:00:00\",\"2021-02-02T00:00:00\",\"2021-02-03T00:00:00\",\"2021-02-04T00:00:00\",\"2021-02-05T00:00:00\",\"2021-02-06T00:00:00\",\"2021-02-07T00:00:00\",\"2021-02-08T00:00:00\",\"2021-02-09T00:00:00\",\"2021-02-10T00:00:00\",\"2021-02-11T00:00:00\",\"2021-02-12T00:00:00\",\"2021-02-13T00:00:00\",\"2021-02-14T00:00:00\",\"2021-02-15T00:00:00\",\"2021-02-16T00:00:00\",\"2021-02-17T00:00:00\",\"2021-02-18T00:00:00\",\"2021-02-19T00:00:00\",\"2021-02-20T00:00:00\",\"2021-02-21T00:00:00\",\"2021-02-22T00:00:00\",\"2021-02-23T00:00:00\",\"2021-02-24T00:00:00\",\"2021-02-25T00:00:00\",\"2021-02-26T00:00:00\",\"2021-02-27T00:00:00\",\"2021-02-28T00:00:00\",\"2021-03-01T00:00:00\",\"2021-03-02T00:00:00\",\"2021-03-03T00:00:00\",\"2021-03-04T00:00:00\",\"2021-03-05T00:00:00\",\"2021-03-06T00:00:00\",\"2021-03-07T00:00:00\",\"2021-03-08T00:00:00\",\"2021-03-09T00:00:00\",\"2021-03-10T00:00:00\",\"2021-03-11T00:00:00\",\"2021-03-12T00:00:00\",\"2021-03-13T00:00:00\",\"2021-03-14T00:00:00\",\"2021-03-15T00:00:00\",\"2021-03-16T00:00:00\",\"2021-03-17T00:00:00\",\"2021-03-18T00:00:00\",\"2021-03-19T00:00:00\",\"2021-03-20T00:00:00\",\"2021-03-21T00:00:00\",\"2021-03-22T00:00:00\",\"2021-03-23T00:00:00\",\"2021-03-24T00:00:00\",\"2021-03-25T00:00:00\",\"2021-03-26T00:00:00\",\"2021-03-27T00:00:00\",\"2021-03-28T00:00:00\",\"2021-03-29T00:00:00\",\"2021-03-30T00:00:00\",\"2021-03-31T00:00:00\",\"2021-04-01T00:00:00\",\"2021-04-02T00:00:00\",\"2021-04-03T00:00:00\",\"2021-04-04T00:00:00\",\"2021-04-05T00:00:00\",\"2021-04-06T00:00:00\",\"2021-04-07T00:00:00\",\"2021-04-08T00:00:00\",\"2021-04-09T00:00:00\",\"2021-04-10T00:00:00\",\"2021-04-11T00:00:00\",\"2021-04-12T00:00:00\",\"2021-04-13T00:00:00\",\"2021-04-14T00:00:00\",\"2021-04-15T00:00:00\",\"2021-04-16T00:00:00\",\"2021-04-17T00:00:00\",\"2021-04-18T00:00:00\",\"2021-04-19T00:00:00\",\"2021-04-20T00:00:00\",\"2021-04-21T00:00:00\",\"2021-04-22T00:00:00\",\"2021-04-23T00:00:00\",\"2021-04-24T00:00:00\",\"2021-04-25T00:00:00\",\"2021-04-26T00:00:00\",\"2021-04-27T00:00:00\",\"2021-04-28T00:00:00\",\"2021-04-29T00:00:00\",\"2021-04-30T00:00:00\",\"2021-05-01T00:00:00\",\"2021-05-02T00:00:00\",\"2021-05-03T00:00:00\",\"2021-05-04T00:00:00\",\"2021-05-05T00:00:00\",\"2021-05-06T00:00:00\",\"2021-05-07T00:00:00\",\"2021-05-08T00:00:00\",\"2021-05-09T00:00:00\",\"2021-05-10T00:00:00\",\"2021-05-11T00:00:00\",\"2021-05-12T00:00:00\",\"2021-05-13T00:00:00\",\"2021-05-14T00:00:00\",\"2021-05-15T00:00:00\",\"2021-05-16T00:00:00\",\"2021-05-17T00:00:00\",\"2021-05-18T00:00:00\",\"2021-05-19T00:00:00\",\"2021-05-20T00:00:00\",\"2021-05-21T00:00:00\",\"2021-05-22T00:00:00\",\"2021-05-23T00:00:00\",\"2021-05-24T00:00:00\",\"2021-05-25T00:00:00\",\"2021-05-26T00:00:00\",\"2021-05-27T00:00:00\",\"2021-05-28T00:00:00\",\"2021-05-29T00:00:00\",\"2021-05-30T00:00:00\",\"2021-05-31T00:00:00\",\"2021-06-01T00:00:00\",\"2021-06-02T00:00:00\",\"2021-06-03T00:00:00\",\"2021-06-04T00:00:00\",\"2021-06-05T00:00:00\",\"2021-06-06T00:00:00\",\"2021-06-07T00:00:00\",\"2021-06-08T00:00:00\",\"2021-06-09T00:00:00\",\"2021-06-10T00:00:00\",\"2021-06-11T00:00:00\",\"2021-06-12T00:00:00\",\"2021-06-13T00:00:00\",\"2021-06-14T00:00:00\",\"2021-06-15T00:00:00\",\"2021-06-16T00:00:00\",\"2021-06-17T00:00:00\",\"2021-06-18T00:00:00\",\"2021-06-19T00:00:00\",\"2021-06-20T00:00:00\",\"2021-06-21T00:00:00\",\"2021-06-22T00:00:00\",\"2021-06-23T00:00:00\",\"2021-06-24T00:00:00\",\"2021-06-25T00:00:00\",\"2021-06-26T00:00:00\",\"2021-06-27T00:00:00\",\"2021-06-28T00:00:00\",\"2021-06-29T00:00:00\",\"2021-06-30T00:00:00\",\"2021-07-01T00:00:00\",\"2021-07-02T00:00:00\",\"2021-07-03T00:00:00\",\"2021-07-04T00:00:00\",\"2021-07-05T00:00:00\",\"2021-07-06T00:00:00\",\"2021-07-07T00:00:00\",\"2021-07-08T00:00:00\",\"2021-07-09T00:00:00\",\"2021-07-10T00:00:00\",\"2021-07-11T00:00:00\",\"2021-07-12T00:00:00\",\"2021-07-13T00:00:00\",\"2021-07-14T00:00:00\",\"2021-07-15T00:00:00\",\"2021-07-16T00:00:00\",\"2021-07-17T00:00:00\",\"2021-07-18T00:00:00\",\"2021-07-19T00:00:00\",\"2021-07-20T00:00:00\",\"2021-07-21T00:00:00\",\"2021-07-22T00:00:00\",\"2021-07-23T00:00:00\",\"2021-07-24T00:00:00\",\"2021-07-25T00:00:00\",\"2021-07-26T00:00:00\",\"2021-07-27T00:00:00\",\"2021-07-28T00:00:00\",\"2021-07-29T00:00:00\",\"2021-07-30T00:00:00\",\"2021-07-31T00:00:00\",\"2021-08-01T00:00:00\",\"2021-08-02T00:00:00\",\"2021-08-03T00:00:00\",\"2021-08-04T00:00:00\",\"2021-08-05T00:00:00\",\"2021-08-06T00:00:00\",\"2021-08-07T00:00:00\",\"2021-08-08T00:00:00\",\"2021-08-09T00:00:00\",\"2021-08-10T00:00:00\",\"2021-08-11T00:00:00\",\"2021-08-12T00:00:00\",\"2021-08-13T00:00:00\",\"2021-08-14T00:00:00\",\"2021-08-15T00:00:00\",\"2021-08-16T00:00:00\",\"2021-08-17T00:00:00\",\"2021-08-18T00:00:00\",\"2021-08-19T00:00:00\",\"2021-08-20T00:00:00\",\"2021-08-21T00:00:00\",\"2021-08-22T00:00:00\",\"2021-08-23T00:00:00\",\"2021-08-24T00:00:00\",\"2021-08-25T00:00:00\",\"2021-08-26T00:00:00\",\"2021-08-27T00:00:00\",\"2021-08-28T00:00:00\",\"2021-08-29T00:00:00\",\"2021-08-30T00:00:00\",\"2021-08-31T00:00:00\",\"2021-09-01T00:00:00\",\"2021-09-02T00:00:00\",\"2021-09-03T00:00:00\",\"2021-09-04T00:00:00\",\"2021-09-05T00:00:00\",\"2021-09-06T00:00:00\",\"2021-09-07T00:00:00\",\"2021-09-08T00:00:00\",\"2021-09-09T00:00:00\",\"2021-09-10T00:00:00\",\"2021-09-11T00:00:00\",\"2021-09-12T00:00:00\",\"2021-09-13T00:00:00\",\"2021-09-14T00:00:00\",\"2021-09-15T00:00:00\",\"2021-09-16T00:00:00\",\"2021-09-17T00:00:00\",\"2021-09-18T00:00:00\",\"2021-09-19T00:00:00\",\"2021-09-20T00:00:00\",\"2021-09-21T00:00:00\",\"2021-09-22T00:00:00\",\"2021-09-23T00:00:00\",\"2021-09-24T00:00:00\",\"2021-09-25T00:00:00\",\"2021-09-26T00:00:00\",\"2021-09-27T00:00:00\",\"2021-09-28T00:00:00\",\"2021-09-29T00:00:00\",\"2021-09-30T00:00:00\",\"2021-10-01T00:00:00\",\"2021-10-02T00:00:00\",\"2021-10-03T00:00:00\",\"2021-10-04T00:00:00\",\"2021-10-05T00:00:00\",\"2021-10-06T00:00:00\",\"2021-10-07T00:00:00\",\"2021-10-08T00:00:00\",\"2021-10-09T00:00:00\",\"2021-10-10T00:00:00\",\"2021-10-11T00:00:00\",\"2021-10-12T00:00:00\",\"2021-10-13T00:00:00\",\"2021-10-14T00:00:00\",\"2021-10-15T00:00:00\",\"2021-10-16T00:00:00\",\"2021-10-17T00:00:00\",\"2021-10-18T00:00:00\",\"2021-10-19T00:00:00\",\"2021-10-20T00:00:00\",\"2021-10-21T00:00:00\",\"2021-10-22T00:00:00\",\"2021-10-23T00:00:00\",\"2021-10-24T00:00:00\",\"2021-10-25T00:00:00\",\"2021-10-26T00:00:00\",\"2021-10-27T00:00:00\",\"2021-10-28T00:00:00\",\"2021-10-29T00:00:00\",\"2021-10-30T00:00:00\",\"2021-10-31T00:00:00\",\"2021-11-01T00:00:00\",\"2021-11-02T00:00:00\",\"2021-11-03T00:00:00\",\"2021-11-04T00:00:00\",\"2021-11-05T00:00:00\",\"2021-11-06T00:00:00\",\"2021-11-07T00:00:00\",\"2021-11-08T00:00:00\",\"2021-11-09T00:00:00\",\"2021-11-10T00:00:00\",\"2021-11-11T00:00:00\",\"2021-11-12T00:00:00\",\"2021-11-13T00:00:00\",\"2021-11-14T00:00:00\",\"2021-11-15T00:00:00\",\"2021-11-16T00:00:00\",\"2021-11-17T00:00:00\",\"2021-11-18T00:00:00\",\"2021-11-19T00:00:00\",\"2021-11-20T00:00:00\",\"2021-11-21T00:00:00\",\"2021-11-22T00:00:00\",\"2021-11-23T00:00:00\",\"2021-11-24T00:00:00\",\"2021-11-25T00:00:00\",\"2021-11-26T00:00:00\",\"2021-11-27T00:00:00\",\"2021-11-28T00:00:00\",\"2021-11-29T00:00:00\",\"2021-11-30T00:00:00\",\"2021-12-01T00:00:00\",\"2021-12-02T00:00:00\",\"2021-12-03T00:00:00\",\"2021-12-04T00:00:00\",\"2021-12-05T00:00:00\",\"2021-12-06T00:00:00\",\"2021-12-07T00:00:00\",\"2021-12-08T00:00:00\",\"2021-12-09T00:00:00\",\"2021-12-10T00:00:00\",\"2021-12-11T00:00:00\",\"2021-12-12T00:00:00\",\"2021-12-13T00:00:00\",\"2021-12-14T00:00:00\",\"2021-12-15T00:00:00\",\"2021-12-16T00:00:00\",\"2021-12-17T00:00:00\",\"2021-12-18T00:00:00\",\"2021-12-19T00:00:00\",\"2021-12-20T00:00:00\",\"2021-12-21T00:00:00\",\"2021-12-22T00:00:00\",\"2021-12-23T00:00:00\",\"2021-12-24T00:00:00\",\"2021-12-25T00:00:00\",\"2021-12-26T00:00:00\",\"2021-12-27T00:00:00\",\"2021-12-28T00:00:00\",\"2021-12-29T00:00:00\",\"2021-12-30T00:00:00\",\"2021-12-31T00:00:00\",\"2022-01-01T00:00:00\",\"2022-01-02T00:00:00\",\"2022-01-03T00:00:00\",\"2022-01-04T00:00:00\",\"2022-01-05T00:00:00\",\"2022-01-06T00:00:00\",\"2022-01-07T00:00:00\",\"2022-01-08T00:00:00\",\"2022-01-09T00:00:00\",\"2022-01-10T00:00:00\",\"2022-01-11T00:00:00\",\"2022-01-12T00:00:00\",\"2022-01-13T00:00:00\",\"2022-01-14T00:00:00\",\"2022-01-15T00:00:00\",\"2022-01-16T00:00:00\",\"2022-01-17T00:00:00\",\"2022-01-18T00:00:00\",\"2022-01-19T00:00:00\",\"2022-01-20T00:00:00\",\"2022-01-21T00:00:00\",\"2022-01-22T00:00:00\",\"2022-01-23T00:00:00\",\"2022-01-24T00:00:00\",\"2022-01-25T00:00:00\",\"2022-01-26T00:00:00\",\"2022-01-27T00:00:00\",\"2022-01-28T00:00:00\",\"2022-01-29T00:00:00\",\"2022-01-30T00:00:00\",\"2022-01-31T00:00:00\",\"2022-02-01T00:00:00\",\"2022-02-02T00:00:00\",\"2022-02-03T00:00:00\",\"2022-02-04T00:00:00\",\"2022-02-05T00:00:00\",\"2022-02-06T00:00:00\",\"2022-02-07T00:00:00\",\"2022-02-08T00:00:00\",\"2022-02-09T00:00:00\",\"2022-02-10T00:00:00\",\"2022-02-11T00:00:00\",\"2022-02-12T00:00:00\",\"2022-02-13T00:00:00\",\"2022-02-14T00:00:00\",\"2022-02-15T00:00:00\",\"2022-02-16T00:00:00\",\"2022-02-17T00:00:00\",\"2022-02-18T00:00:00\",\"2022-02-19T00:00:00\",\"2022-02-20T00:00:00\",\"2022-02-21T00:00:00\",\"2022-02-22T00:00:00\",\"2022-02-23T00:00:00\",\"2022-02-24T00:00:00\",\"2022-02-25T00:00:00\",\"2022-02-26T00:00:00\",\"2022-02-27T00:00:00\",\"2022-02-28T00:00:00\",\"2022-03-01T00:00:00\",\"2022-03-02T00:00:00\",\"2022-03-03T00:00:00\",\"2022-03-04T00:00:00\",\"2022-03-05T00:00:00\",\"2022-03-06T00:00:00\",\"2022-03-07T00:00:00\",\"2022-03-08T00:00:00\",\"2022-03-09T00:00:00\",\"2022-03-10T00:00:00\",\"2022-03-11T00:00:00\",\"2022-03-12T00:00:00\",\"2022-03-13T00:00:00\",\"2022-03-14T00:00:00\",\"2022-03-15T00:00:00\",\"2022-03-16T00:00:00\",\"2022-03-17T00:00:00\",\"2022-03-18T00:00:00\",\"2022-03-19T00:00:00\",\"2022-03-20T00:00:00\",\"2022-03-21T00:00:00\",\"2022-03-22T00:00:00\",\"2022-03-23T00:00:00\",\"2022-03-24T00:00:00\",\"2022-03-25T00:00:00\",\"2022-03-26T00:00:00\",\"2022-03-27T00:00:00\",\"2022-03-28T00:00:00\",\"2022-03-29T00:00:00\",\"2022-03-30T00:00:00\",\"2022-03-31T00:00:00\",\"2022-04-01T00:00:00\",\"2022-04-02T00:00:00\",\"2022-04-03T00:00:00\",\"2022-04-04T00:00:00\",\"2022-04-05T00:00:00\",\"2022-04-06T00:00:00\",\"2022-04-07T00:00:00\",\"2022-04-08T00:00:00\",\"2022-04-09T00:00:00\",\"2022-04-10T00:00:00\",\"2022-04-11T00:00:00\",\"2022-04-12T00:00:00\",\"2022-04-13T00:00:00\",\"2022-04-14T00:00:00\",\"2022-04-15T00:00:00\",\"2022-04-16T00:00:00\",\"2022-04-17T00:00:00\",\"2022-04-18T00:00:00\",\"2022-04-19T00:00:00\",\"2022-04-20T00:00:00\",\"2022-04-21T00:00:00\",\"2022-04-22T00:00:00\",\"2022-04-23T00:00:00\",\"2022-04-24T00:00:00\",\"2022-04-25T00:00:00\",\"2022-04-26T00:00:00\",\"2022-04-27T00:00:00\",\"2022-04-28T00:00:00\",\"2022-04-29T00:00:00\",\"2022-04-30T00:00:00\",\"2022-05-01T00:00:00\",\"2022-05-02T00:00:00\",\"2022-05-03T00:00:00\",\"2022-05-04T00:00:00\",\"2022-05-05T00:00:00\",\"2022-05-06T00:00:00\",\"2022-05-07T00:00:00\",\"2022-05-08T00:00:00\",\"2022-05-09T00:00:00\",\"2022-05-10T00:00:00\",\"2022-05-11T00:00:00\",\"2022-05-12T00:00:00\",\"2022-05-13T00:00:00\",\"2022-05-14T00:00:00\",\"2022-05-15T00:00:00\",\"2022-05-16T00:00:00\",\"2022-05-17T00:00:00\",\"2022-05-18T00:00:00\",\"2022-05-19T00:00:00\",\"2022-05-20T00:00:00\",\"2022-05-21T00:00:00\",\"2022-05-22T00:00:00\",\"2022-05-23T00:00:00\",\"2022-05-24T00:00:00\",\"2022-05-25T00:00:00\",\"2022-05-26T00:00:00\",\"2022-05-27T00:00:00\",\"2022-05-28T00:00:00\",\"2022-05-29T00:00:00\",\"2022-05-30T00:00:00\",\"2022-05-31T00:00:00\",\"2022-06-01T00:00:00\",\"2022-06-02T00:00:00\",\"2022-06-03T00:00:00\",\"2022-06-04T00:00:00\",\"2022-06-05T00:00:00\",\"2022-06-06T00:00:00\",\"2022-06-07T00:00:00\",\"2022-06-08T00:00:00\",\"2022-06-09T00:00:00\",\"2022-06-10T00:00:00\",\"2022-06-11T00:00:00\",\"2022-06-12T00:00:00\",\"2022-06-13T00:00:00\",\"2022-06-14T00:00:00\",\"2022-06-15T00:00:00\",\"2022-06-16T00:00:00\",\"2022-06-17T00:00:00\",\"2022-06-18T00:00:00\",\"2022-06-19T00:00:00\",\"2022-06-20T00:00:00\",\"2022-06-21T00:00:00\",\"2022-06-22T00:00:00\",\"2022-06-23T00:00:00\",\"2022-06-24T00:00:00\",\"2022-06-25T00:00:00\",\"2022-06-26T00:00:00\",\"2022-06-27T00:00:00\",\"2022-06-28T00:00:00\",\"2022-06-29T00:00:00\",\"2022-06-30T00:00:00\",\"2022-07-01T00:00:00\",\"2022-07-02T00:00:00\",\"2022-07-03T00:00:00\",\"2022-07-04T00:00:00\",\"2022-07-05T00:00:00\",\"2022-07-06T00:00:00\",\"2022-07-07T00:00:00\",\"2022-07-08T00:00:00\",\"2022-07-09T00:00:00\",\"2022-07-10T00:00:00\",\"2022-07-11T00:00:00\",\"2022-07-12T00:00:00\",\"2022-07-13T00:00:00\",\"2022-07-14T00:00:00\",\"2022-07-15T00:00:00\",\"2022-07-16T00:00:00\",\"2022-07-17T00:00:00\",\"2022-07-18T00:00:00\",\"2022-07-19T00:00:00\",\"2022-07-20T00:00:00\",\"2022-07-21T00:00:00\",\"2022-07-22T00:00:00\",\"2022-07-23T00:00:00\",\"2022-07-24T00:00:00\",\"2022-07-25T00:00:00\",\"2022-07-26T00:00:00\",\"2022-07-27T00:00:00\",\"2022-07-28T00:00:00\",\"2022-07-29T00:00:00\",\"2022-07-30T00:00:00\",\"2022-07-31T00:00:00\",\"2022-08-01T00:00:00\",\"2022-08-02T00:00:00\",\"2022-08-03T00:00:00\",\"2022-08-04T00:00:00\",\"2022-08-05T00:00:00\",\"2022-08-06T00:00:00\",\"2022-08-07T00:00:00\",\"2022-08-08T00:00:00\",\"2022-08-09T00:00:00\",\"2022-08-10T00:00:00\",\"2022-08-11T00:00:00\",\"2022-08-12T00:00:00\",\"2022-08-13T00:00:00\",\"2022-08-14T00:00:00\",\"2022-08-15T00:00:00\",\"2022-08-16T00:00:00\",\"2022-08-17T00:00:00\",\"2022-08-18T00:00:00\",\"2022-08-19T00:00:00\",\"2022-08-20T00:00:00\",\"2022-08-21T00:00:00\",\"2022-08-22T00:00:00\",\"2022-08-23T00:00:00\",\"2022-08-24T00:00:00\",\"2022-08-25T00:00:00\",\"2022-08-26T00:00:00\",\"2022-08-27T00:00:00\",\"2022-08-28T00:00:00\",\"2022-08-29T00:00:00\",\"2022-08-30T00:00:00\",\"2022-08-31T00:00:00\",\"2022-09-01T00:00:00\",\"2022-09-02T00:00:00\",\"2022-09-03T00:00:00\",\"2022-09-04T00:00:00\",\"2022-09-05T00:00:00\",\"2022-09-06T00:00:00\",\"2022-09-07T00:00:00\",\"2022-09-08T00:00:00\",\"2022-09-09T00:00:00\",\"2022-09-10T00:00:00\",\"2022-09-11T00:00:00\",\"2022-09-12T00:00:00\",\"2022-09-13T00:00:00\",\"2022-09-14T00:00:00\",\"2022-09-15T00:00:00\",\"2022-09-16T00:00:00\",\"2022-09-17T00:00:00\",\"2022-09-18T00:00:00\",\"2022-09-19T00:00:00\",\"2022-09-20T00:00:00\",\"2022-09-21T00:00:00\",\"2022-09-22T00:00:00\",\"2022-09-23T00:00:00\",\"2022-09-24T00:00:00\",\"2022-09-25T00:00:00\",\"2022-09-26T00:00:00\",\"2022-09-27T00:00:00\",\"2022-09-28T00:00:00\",\"2022-09-29T00:00:00\",\"2022-09-30T00:00:00\",\"2022-10-01T00:00:00\",\"2022-10-02T00:00:00\",\"2022-10-03T00:00:00\",\"2022-10-04T00:00:00\",\"2022-10-05T00:00:00\",\"2022-10-06T00:00:00\",\"2022-10-07T00:00:00\",\"2022-10-08T00:00:00\",\"2022-10-09T00:00:00\",\"2022-10-10T00:00:00\",\"2022-10-11T00:00:00\",\"2022-10-12T00:00:00\",\"2022-10-13T00:00:00\",\"2022-10-14T00:00:00\",\"2022-10-15T00:00:00\",\"2022-10-16T00:00:00\",\"2022-10-17T00:00:00\",\"2022-10-18T00:00:00\",\"2022-10-19T00:00:00\",\"2022-10-20T00:00:00\",\"2022-10-21T00:00:00\",\"2022-10-22T00:00:00\",\"2022-10-23T00:00:00\",\"2022-10-24T00:00:00\",\"2022-10-25T00:00:00\",\"2022-10-26T00:00:00\",\"2022-10-27T00:00:00\",\"2022-10-28T00:00:00\",\"2022-10-29T00:00:00\",\"2022-10-30T00:00:00\",\"2022-10-31T00:00:00\",\"2022-11-01T00:00:00\",\"2022-11-02T00:00:00\",\"2022-11-03T00:00:00\",\"2022-11-04T00:00:00\",\"2022-11-05T00:00:00\",\"2022-11-06T00:00:00\",\"2022-11-07T00:00:00\",\"2022-11-08T00:00:00\",\"2022-11-09T00:00:00\",\"2022-11-10T00:00:00\",\"2022-11-11T00:00:00\",\"2022-11-12T00:00:00\",\"2022-11-13T00:00:00\",\"2022-11-14T00:00:00\",\"2022-11-15T00:00:00\",\"2022-11-16T00:00:00\",\"2022-11-17T00:00:00\",\"2022-11-18T00:00:00\",\"2022-11-19T00:00:00\",\"2022-11-20T00:00:00\",\"2022-11-21T00:00:00\",\"2022-11-22T00:00:00\",\"2022-11-23T00:00:00\",\"2022-11-24T00:00:00\",\"2022-11-25T00:00:00\",\"2022-11-26T00:00:00\",\"2022-11-27T00:00:00\",\"2022-11-28T00:00:00\",\"2022-11-29T00:00:00\",\"2022-11-30T00:00:00\",\"2022-12-01T00:00:00\",\"2022-12-02T00:00:00\",\"2022-12-03T00:00:00\",\"2022-12-04T00:00:00\",\"2022-12-05T00:00:00\",\"2022-12-06T00:00:00\",\"2022-12-07T00:00:00\",\"2022-12-08T00:00:00\",\"2022-12-09T00:00:00\",\"2022-12-10T00:00:00\",\"2022-12-11T00:00:00\",\"2022-12-12T00:00:00\",\"2022-12-13T00:00:00\",\"2022-12-14T00:00:00\",\"2022-12-15T00:00:00\",\"2022-12-16T00:00:00\",\"2022-12-17T00:00:00\",\"2022-12-18T00:00:00\",\"2022-12-19T00:00:00\",\"2022-12-20T00:00:00\",\"2022-12-21T00:00:00\",\"2022-12-22T00:00:00\",\"2022-12-23T00:00:00\",\"2022-12-24T00:00:00\",\"2022-12-25T00:00:00\",\"2022-12-26T00:00:00\",\"2022-12-27T00:00:00\",\"2022-12-28T00:00:00\",\"2022-12-29T00:00:00\",\"2022-12-30T00:00:00\",\"2022-12-31T00:00:00\"],\"y\":[69.96092034105587,69.70656097161412,70.16844946870364,70.24262252787419,70.00704716935468,69.12054494156405,69.9661635399035,69.80483391573655,70.1643081930542,69.68442352343615,69.46353198589945,68.46099556335058,69.50119043935405,69.37960849184225,69.18633192429337,69.1339640619635,69.33569034270613,68.28054000265963,69.37475914066682,69.07513599291462,69.40392971615805,69.00703215935724,68.8286742190808,68.53922177971064,69.62549642610746,69.77555280359695,69.528737777259,69.59678736912711,69.8578085932277,69.39779245423102,69.33263457649892,69.75413492534905,69.11922268889585,69.489060988535,69.02167534090134,69.79283890798253,69.2474991687234,69.00674164163621,69.35322555404821,69.31134479925412,69.14396911352215,69.53811723380268,68.76423852524644,69.8464902753358,69.48180894166782,69.43561987912511,69.72280047454751,68.96293607834484,68.72321798675047,69.28918736552397,69.59659836929193,68.46347279029943,69.30946294508725,68.94292556071166,68.80800967542503,69.65523341990637,69.15702626930573,68.63352220647883,69.0803518121674,69.95298341960932,68.77917653937358,69.52553570079615,68.77590491812202,69.47964706050747,69.16576147781015,69.17482773743782,69.4374558272117,69.12889171201678,69.02273718427634,69.56124113893044,69.16025504925769,69.13665662488904,68.52966122611734,68.57297887046727,69.0996889001097,69.94883140391627,69.34558624134155,68.60717290187377,69.73012754569466,69.25678701045132,69.38529629023618,69.64079059885094,70.22994582041923,69.35979585431876,69.88827206713223,69.37219922272509,69.61283768136855,70.01560395894802,69.37214356511102,67.66510443741849,69.68611465172812,69.31170001090243,69.7183441398525,69.43764273783474,68.6284560492934,69.26044293304241,69.20777386144051,69.12208250643019,68.57071257387508,69.51192103773926,69.10811535580113,70.11356561755926,69.09997316359318,68.86432314554541,69.43283820204154,69.5220864070215,69.5221504351882,69.345312285482,69.56590642333346,68.77047313718687,69.91710396856895,68.12354965289806,68.65722047610593,70.10039103283324,69.14711925864269,68.36536474816273,68.63259859337995,69.36274602059018,70.09313950375346,68.89653047019266,69.39708973290556,68.58023992052307,70.04001680245574,69.8092063104165,68.61634779426984,69.50982448911853,70.39978046868708,69.40758389847616,68.96165954253892,69.49865917003882,69.03569144057549,68.83302844293598,69.33477224837526,69.09696127759827,68.82699616357641,68.81601039878088,68.15747376380315,68.77562262111837,68.86030539799837,69.31251279637195,69.06630838703065,69.22432664694621,68.10247657022845,69.09065323235477,70.12975224524068,69.692436935541,69.33159032460739,68.48932721200077,69.28573727859268,69.15123844987136,69.32968566670853,69.12796984920531,69.295331072496,68.26996111518415,69.10729494434695,68.7783721434411,68.37439621852705,69.1681997846287,68.79797094951611,70.18896394093164,69.79702413909676,68.75558717721712,69.33273091079936,69.00223146018297,68.27689164440707,68.55993438239233,69.76530561740043,68.90607229735593,69.38935122156555,69.04741065768617,68.95848984377065,68.74329021316007,68.83635910957577,69.46899723743887,68.3351688172167,68.66289061412098,69.39222888536297,69.27001965978265,68.35244940622678,68.92318321162315,68.95127126135439,69.26201535254269,67.78874482585043,69.13248946688353,68.56902434722265,69.4171647289181,69.15872999120143,69.01247392531386,69.31807092084817,68.57708311136324,69.78271294698504,68.93739525372217,68.7280357211504,68.45583287718104,69.00768064385748,69.3355930626613,69.27601287658243,69.2092744132892,69.12912003129779,69.23222856467966,69.13688055570317,69.10927816971734,69.37369846358136,70.5172228958534,69.12762325883413,68.76002488407279,69.3228799098105,69.0359948983066,69.31291612108821,69.16342461873342,68.65860815971801,69.36776705500976,68.45394341385517,69.05543191286323,69.28179652238352,69.13861921882011,68.68551879473074,69.47170989765044,69.56226076812243,68.82096213577725,69.48396920152547,69.0297964917964,67.96423068788954,68.92505346667319,69.55036027781443,68.74471198729499,68.86062604484917,69.25971478942813,69.74834436836424,68.96836037577563,68.36311665491544,68.78932631214599,69.05225446801076,69.27877636282183,68.69114987867003,69.1976865493485,69.04225164123787,69.37533598882256,69.25778522681081,69.84447825973471,68.4801166376758,69.368894191733,68.58686159651683,69.50578885451188,68.42806925262204,69.85679598772771,69.10801106952032,69.28544508200437,69.13968817698732,68.96173924352647,67.96535522568944,69.75533804108011,68.76207428259217,68.08709612061685,69.6359900762312,69.77280949250222,69.12889051790822,69.42647703293223,69.2951482214765,68.78644684372722,68.95970669715518,68.58113212163023,68.64190628891377,68.90190311863996,68.95237859118048,68.82168214754887,68.06568830905292,68.44655810437327,68.73035659074084,68.20635972635293,69.42645152842032,68.86269207997809,68.87181511656298,68.18580630056013,68.77581648984076,68.6982588746151,68.60816012827908,68.7155088130594,68.18119280414321,68.90456203700971,68.65535823121475,69.39899959824025,68.77960924840949,68.72047584983837,68.5705711289655,69.359979828636,69.13412499191105,69.86983492339198,68.03058509082018,68.61060321660368,68.27421532170061,69.04556552945623,69.03983166878399,68.89124797895026,69.85192154587898,70.05534761957581,69.20963367834695,68.44632174531647,68.98427610550071,68.34228356544912,68.74613436278523,69.0974650879826,69.33054102775493,68.44260437659082,68.62409503626525,69.53890286330271,68.37593435847918,67.73874224536483,68.61430175163463,69.68670469182331,68.38232127694727,69.72149166640709,68.75323291074612,69.26923966766522,69.35698946277995,68.83870608154965,69.31991310782786,68.9343925073139,68.99003434958466,68.67225974769225,68.96803468159536,68.86304883554965,68.4477671613819,69.26832557551556,69.188297743192,69.43660625272692,68.92384324434431,67.767213685854,68.74634703188737,68.44187719042965,69.50298124074466,68.22681697027467,69.55618888925297,68.23920178895332,69.03782254444384,68.91350065982466,69.10162352894983,68.47134431463164,68.59949741402187,68.85788818829185,68.86774124093083,69.06576229348528,69.3645551294062,67.83326054950514,68.3893718870274,68.01073661689604,69.37680645180046,68.28032949585682,69.19980139351736,68.42233311764842,69.60501942418662,67.77440830488126,69.48161878287009,69.01138329291793,69.2714899019327,69.372279100524,68.88156891166666,69.1993233784897,69.36707673713906,69.30238128778562,69.47000779804813,68.21229470983123,69.16437736784384,69.12300061748937,68.83033919030306,69.0878754781136,68.72394152904405,69.15289856656901,69.32112849562569,69.07487976135195,68.47282267277906,69.35056202866181,68.60406949285854,68.97295291493356,68.84913826127533,69.29952892333407,69.01503428991393,69.60229681299441,68.39045024293769,69.0733622514881,68.08960997613313,68.65642764821517,68.60191183103186,69.25888201754266,68.55865414849727,68.99126834098847,69.60083982132956,68.81918543070506,68.70030163153974,69.8126850596577,69.13952346722532,68.67430357814033,68.92644605211753,69.39513103573262,68.76543282063413,68.7935093783291,69.66112921995399,69.14541668521449,69.21321733749326,69.47970784756626,68.80824077601335,68.78421854726682,69.47553391628529,68.49565109066162,68.9895873206066,68.86053225334476,69.41794345848285,68.61000974324878,68.80697034770134,68.87994878428249,68.61581412369482,68.89450573710467,68.25493973453527,69.08569024139287,68.06324116707627,69.25788425027325,69.8511013160481,67.82274083483206,69.60041030936473,68.6941070325911,67.9710764412363,68.75162687939239,68.49563507896539,68.66818752214812,68.9772032025107,69.12550167975091,68.34161589297813,68.44755639642575,69.16176275531011,68.79005527313291,68.84022308443213,68.80877937121386,68.90769613916586,68.73242511518995,68.85791968179792,68.4768254951894,68.79092318513793,68.92386835099133,69.3023825114207,69.08339241421254,67.86261937157391,68.14805358449476,68.01401712699422,67.7243052196403,69.57791551814934,68.58407869143272,68.9387536013753,69.67602010324218,68.47253588375754,67.90360876074523,68.37461368466145,68.90579924169215,68.82467542626013,69.436551087239,68.98536597100953,68.0760615510046,68.86068183121365,68.78646199028972,68.98133228913845,68.99246005038059,69.08143502281584,69.18539417060914,68.68333781220595,68.80313567652885,69.13976216091326,67.88759137361417,67.88907164641797,68.34836537125672,69.10496328731146,68.8855633968747,68.45221823577532,69.53265493742722,68.99212880792693,69.07991030418509,69.46824903487357,68.48254947552982,68.82130272331909,69.13458992691949,68.20376657670626,68.88221110225973,68.81667496008062,68.22799136249775,68.7709229812738,68.52264195757044,69.29755505730476,68.183308001172,67.94685935780944,68.79695490945983,68.70939401071752,68.3964991555345,68.90144093457216,68.7137438801329,69.20069344561949,68.36206989720357,68.21177424198012,68.46419884362906,68.60456231101305,69.00838423309104,68.85271391062638,68.50808738727191,69.54446203950656,68.21479114586747,68.3393663832463,69.20351765906899,67.87826624240533,69.02979454794614,68.70098133661776,68.7699818326839,68.39756785382838,68.44144341832362,68.88950957229197,68.93371428313918,68.11978084434095,67.9684427231682,69.10224714666265,69.1046154025842,68.85743889783696,69.24372690272651,68.28770443376126,68.2597841581065,68.64337751205454,69.15889159842706,68.38306952674824,68.58438333095654,68.34214776816258,68.48926904454777,69.16618073201515,69.06073693749057,67.9008561867442,69.02601795725818,69.08075848602965,68.96108778865973,68.51842813949837,69.13460096874374,68.43244767821214,68.47770965484072,68.40460479872233,68.2040380827658,69.43725954598918,69.30846165743878,69.36833154124994,68.01559694179153,68.19009322326112,68.06854742571029,69.51841922625323,68.03286895305607,68.44202222496976,67.95420511116257,69.29638555477233,69.23917102283481,67.7589112109632,69.56970035405946,68.93157152959505,68.25983237300744,68.11867905322433,68.36336014415762,69.03237576631848,67.7031860013652,68.86985139694664,68.0736253222917,69.11863545579881,68.53618324833364,67.83307305292786,69.1228891792272,68.75049661822925,68.30803400853554,69.50860388278485,68.55735647087585,67.69111855144868,69.11537759192528,69.24895741014673,68.80233388751996,69.13736143628154,68.91680852012269,68.1621755639868,68.76885142236895,68.13812506994746,68.80749148977732,68.03438707596244,68.37337545224725,68.84457703352419,68.83874994910406,69.23304938077534,68.26568984190885,68.31368923355295,68.55120440555584,68.4155553728131,67.8946702396141,68.67301826446892,68.4884964913584,68.94392474358156,68.7826567686298,67.55637929758657,68.4923851247283,67.49845239273047,67.9536594113674,67.80298503801114,68.30128516773657,67.84036842889924,68.33930246683272,68.51486910723125,68.48747976350514,68.57713360698285,68.49336736413761,68.69091528728886,68.89565427416727,68.24123950786951,68.18784438720343,68.39242243207026,68.59152987783273,68.18843818037901,69.10460481205656,68.61178632684229,67.94204597253935,68.79953897019213,67.91997891233494,68.11130061350939,69.26643559764028,68.77601525170837,68.46880093157205,67.9864232619901,68.54727037702422,68.5085658411774,68.91691548083932,69.15346200480182,68.58541948318084,68.27154532289117,68.41969802410449,68.40198209185236,68.1899877270188,69.46909887637086,68.20489651525847,68.18233462578543,68.0640717182072,68.8161587836586,68.72226013220221,67.99864418731381,68.6147210602712,68.97332700715812,68.4249471632627,68.7089693440851,67.8730355637173,68.48211591575823,69.12588462534654,69.16264537290755,68.01099139346755,67.73188881043465,68.38608063661634,69.09482276997507,68.36030989062671,68.3596484047449,68.46487237018073,68.21143579401024,69.22289908103133,67.95881125664383,68.63500855193654,69.0531636825833,68.41028439865315,69.05902383871435,68.99769285707434,68.74172729373907,68.37805334623573,68.54359445037035,68.84744805456842,67.79041030328091,68.27326840218372,68.3872920951405,69.03739974422446,67.70141926506624,68.74479896516121,68.71922434496707,69.08220091951229,67.67404170693422,68.91907499120087,69.04403640722055,69.76197722996066,68.05507988660908,68.51143024980792,68.18353008007209,68.14374854844675,69.08403439340556,68.03149891862407,69.602075251169,69.38299506829885,68.91247074544599,68.2608540474215,68.52104706784054,68.85397161236375,68.52121790259218,67.96539100751755,68.62739133861938,68.5491857442279,68.00625648544865,68.42308053980567,68.7030846196411,68.35489718265201,68.1554886544567,68.25117389377706,68.73071389809176,68.85885677405093,68.60891377584544,68.87669218328284,68.43481624699727,68.96421931192995,68.94053914566187,68.64723442814909,68.21347676448215,68.2705534859401,67.7401452730027,69.13174261455981,67.57398897369116,67.25680258487998,68.3916780050947,69.0743919942089,68.66430772289607,69.08389317575283,68.29855656558475,68.40182351629169,68.07656120898676,69.0193046061255,68.27268496985265,67.53098262484109,69.54532286502491,68.30712403213485,67.96367489388356,68.89370448473328,68.37558184969444,68.50235306213301,67.63790533075733,68.14314893871752,68.1923104989376,68.50870685526442,68.50225050556769,68.1409557800468,68.47694270908401,67.7530674226587,68.59012794945622,69.11242236518655,68.2176120266268,67.84070497674597,68.24297062418808,68.083081037677],\"type\":\"scatter\"}],                        {\"height\":600,\"showlegend\":false,\"width\":900,\"xaxis\":{\"rangeselector\":{\"buttons\":[{\"count\":7,\"label\":\"1w\",\"step\":\"day\",\"stepmode\":\"backward\"},{\"count\":1,\"label\":\"1m\",\"step\":\"month\",\"stepmode\":\"backward\"},{\"count\":6,\"label\":\"6m\",\"step\":\"month\",\"stepmode\":\"backward\"},{\"count\":1,\"label\":\"1y\",\"step\":\"year\",\"stepmode\":\"backward\"},{\"step\":\"all\"}]},\"rangeslider\":{\"visible\":true},\"title\":{\"text\":\"ds\"},\"type\":\"date\"},\"yaxis\":{\"title\":{\"text\":\"y\"}},\"template\":{\"data\":{\"histogram2dcontour\":[{\"type\":\"histogram2dcontour\",\"colorbar\":{\"outlinewidth\":0,\"ticks\":\"\"},\"colorscale\":[[0.0,\"#0d0887\"],[0.1111111111111111,\"#46039f\"],[0.2222222222222222,\"#7201a8\"],[0.3333333333333333,\"#9c179e\"],[0.4444444444444444,\"#bd3786\"],[0.5555555555555556,\"#d8576b\"],[0.6666666666666666,\"#ed7953\"],[0.7777777777777778,\"#fb9f3a\"],[0.8888888888888888,\"#fdca26\"],[1.0,\"#f0f921\"]]}],\"choropleth\":[{\"type\":\"choropleth\",\"colorbar\":{\"outlinewidth\":0,\"ticks\":\"\"}}],\"histogram2d\":[{\"type\":\"histogram2d\",\"colorbar\":{\"outlinewidth\":0,\"ticks\":\"\"},\"colorscale\":[[0.0,\"#0d0887\"],[0.1111111111111111,\"#46039f\"],[0.2222222222222222,\"#7201a8\"],[0.3333333333333333,\"#9c179e\"],[0.4444444444444444,\"#bd3786\"],[0.5555555555555556,\"#d8576b\"],[0.6666666666666666,\"#ed7953\"],[0.7777777777777778,\"#fb9f3a\"],[0.8888888888888888,\"#fdca26\"],[1.0,\"#f0f921\"]]}],\"heatmap\":[{\"type\":\"heatmap\",\"colorbar\":{\"outlinewidth\":0,\"ticks\":\"\"},\"colorscale\":[[0.0,\"#0d0887\"],[0.1111111111111111,\"#46039f\"],[0.2222222222222222,\"#7201a8\"],[0.3333333333333333,\"#9c179e\"],[0.4444444444444444,\"#bd3786\"],[0.5555555555555556,\"#d8576b\"],[0.6666666666666666,\"#ed7953\"],[0.7777777777777778,\"#fb9f3a\"],[0.8888888888888888,\"#fdca26\"],[1.0,\"#f0f921\"]]}],\"heatmapgl\":[{\"type\":\"heatmapgl\",\"colorbar\":{\"outlinewidth\":0,\"ticks\":\"\"},\"colorscale\":[[0.0,\"#0d0887\"],[0.1111111111111111,\"#46039f\"],[0.2222222222222222,\"#7201a8\"],[0.3333333333333333,\"#9c179e\"],[0.4444444444444444,\"#bd3786\"],[0.5555555555555556,\"#d8576b\"],[0.6666666666666666,\"#ed7953\"],[0.7777777777777778,\"#fb9f3a\"],[0.8888888888888888,\"#fdca26\"],[1.0,\"#f0f921\"]]}],\"contourcarpet\":[{\"type\":\"contourcarpet\",\"colorbar\":{\"outlinewidth\":0,\"ticks\":\"\"}}],\"contour\":[{\"type\":\"contour\",\"colorbar\":{\"outlinewidth\":0,\"ticks\":\"\"},\"colorscale\":[[0.0,\"#0d0887\"],[0.1111111111111111,\"#46039f\"],[0.2222222222222222,\"#7201a8\"],[0.3333333333333333,\"#9c179e\"],[0.4444444444444444,\"#bd3786\"],[0.5555555555555556,\"#d8576b\"],[0.6666666666666666,\"#ed7953\"],[0.7777777777777778,\"#fb9f3a\"],[0.8888888888888888,\"#fdca26\"],[1.0,\"#f0f921\"]]}],\"surface\":[{\"type\":\"surface\",\"colorbar\":{\"outlinewidth\":0,\"ticks\":\"\"},\"colorscale\":[[0.0,\"#0d0887\"],[0.1111111111111111,\"#46039f\"],[0.2222222222222222,\"#7201a8\"],[0.3333333333333333,\"#9c179e\"],[0.4444444444444444,\"#bd3786\"],[0.5555555555555556,\"#d8576b\"],[0.6666666666666666,\"#ed7953\"],[0.7777777777777778,\"#fb9f3a\"],[0.8888888888888888,\"#fdca26\"],[1.0,\"#f0f921\"]]}],\"mesh3d\":[{\"type\":\"mesh3d\",\"colorbar\":{\"outlinewidth\":0,\"ticks\":\"\"}}],\"scatter\":[{\"fillpattern\":{\"fillmode\":\"overlay\",\"size\":10,\"solidity\":0.2},\"type\":\"scatter\"}],\"parcoords\":[{\"type\":\"parcoords\",\"line\":{\"colorbar\":{\"outlinewidth\":0,\"ticks\":\"\"}}}],\"scatterpolargl\":[{\"type\":\"scatterpolargl\",\"marker\":{\"colorbar\":{\"outlinewidth\":0,\"ticks\":\"\"}}}],\"bar\":[{\"error_x\":{\"color\":\"#2a3f5f\"},\"error_y\":{\"color\":\"#2a3f5f\"},\"marker\":{\"line\":{\"color\":\"#E5ECF6\",\"width\":0.5},\"pattern\":{\"fillmode\":\"overlay\",\"size\":10,\"solidity\":0.2}},\"type\":\"bar\"}],\"scattergeo\":[{\"type\":\"scattergeo\",\"marker\":{\"colorbar\":{\"outlinewidth\":0,\"ticks\":\"\"}}}],\"scatterpolar\":[{\"type\":\"scatterpolar\",\"marker\":{\"colorbar\":{\"outlinewidth\":0,\"ticks\":\"\"}}}],\"histogram\":[{\"marker\":{\"pattern\":{\"fillmode\":\"overlay\",\"size\":10,\"solidity\":0.2}},\"type\":\"histogram\"}],\"scattergl\":[{\"type\":\"scattergl\",\"marker\":{\"colorbar\":{\"outlinewidth\":0,\"ticks\":\"\"}}}],\"scatter3d\":[{\"type\":\"scatter3d\",\"line\":{\"colorbar\":{\"outlinewidth\":0,\"ticks\":\"\"}},\"marker\":{\"colorbar\":{\"outlinewidth\":0,\"ticks\":\"\"}}}],\"scattermapbox\":[{\"type\":\"scattermapbox\",\"marker\":{\"colorbar\":{\"outlinewidth\":0,\"ticks\":\"\"}}}],\"scatterternary\":[{\"type\":\"scatterternary\",\"marker\":{\"colorbar\":{\"outlinewidth\":0,\"ticks\":\"\"}}}],\"scattercarpet\":[{\"type\":\"scattercarpet\",\"marker\":{\"colorbar\":{\"outlinewidth\":0,\"ticks\":\"\"}}}],\"carpet\":[{\"aaxis\":{\"endlinecolor\":\"#2a3f5f\",\"gridcolor\":\"white\",\"linecolor\":\"white\",\"minorgridcolor\":\"white\",\"startlinecolor\":\"#2a3f5f\"},\"baxis\":{\"endlinecolor\":\"#2a3f5f\",\"gridcolor\":\"white\",\"linecolor\":\"white\",\"minorgridcolor\":\"white\",\"startlinecolor\":\"#2a3f5f\"},\"type\":\"carpet\"}],\"table\":[{\"cells\":{\"fill\":{\"color\":\"#EBF0F8\"},\"line\":{\"color\":\"white\"}},\"header\":{\"fill\":{\"color\":\"#C8D4E3\"},\"line\":{\"color\":\"white\"}},\"type\":\"table\"}],\"barpolar\":[{\"marker\":{\"line\":{\"color\":\"#E5ECF6\",\"width\":0.5},\"pattern\":{\"fillmode\":\"overlay\",\"size\":10,\"solidity\":0.2}},\"type\":\"barpolar\"}],\"pie\":[{\"automargin\":true,\"type\":\"pie\"}]},\"layout\":{\"autotypenumbers\":\"strict\",\"colorway\":[\"#636efa\",\"#EF553B\",\"#00cc96\",\"#ab63fa\",\"#FFA15A\",\"#19d3f3\",\"#FF6692\",\"#B6E880\",\"#FF97FF\",\"#FECB52\"],\"font\":{\"color\":\"#2a3f5f\"},\"hovermode\":\"closest\",\"hoverlabel\":{\"align\":\"left\"},\"paper_bgcolor\":\"white\",\"plot_bgcolor\":\"#E5ECF6\",\"polar\":{\"bgcolor\":\"#E5ECF6\",\"angularaxis\":{\"gridcolor\":\"white\",\"linecolor\":\"white\",\"ticks\":\"\"},\"radialaxis\":{\"gridcolor\":\"white\",\"linecolor\":\"white\",\"ticks\":\"\"}},\"ternary\":{\"bgcolor\":\"#E5ECF6\",\"aaxis\":{\"gridcolor\":\"white\",\"linecolor\":\"white\",\"ticks\":\"\"},\"baxis\":{\"gridcolor\":\"white\",\"linecolor\":\"white\",\"ticks\":\"\"},\"caxis\":{\"gridcolor\":\"white\",\"linecolor\":\"white\",\"ticks\":\"\"}},\"coloraxis\":{\"colorbar\":{\"outlinewidth\":0,\"ticks\":\"\"}},\"colorscale\":{\"sequential\":[[0.0,\"#0d0887\"],[0.1111111111111111,\"#46039f\"],[0.2222222222222222,\"#7201a8\"],[0.3333333333333333,\"#9c179e\"],[0.4444444444444444,\"#bd3786\"],[0.5555555555555556,\"#d8576b\"],[0.6666666666666666,\"#ed7953\"],[0.7777777777777778,\"#fb9f3a\"],[0.8888888888888888,\"#fdca26\"],[1.0,\"#f0f921\"]],\"sequentialminus\":[[0.0,\"#0d0887\"],[0.1111111111111111,\"#46039f\"],[0.2222222222222222,\"#7201a8\"],[0.3333333333333333,\"#9c179e\"],[0.4444444444444444,\"#bd3786\"],[0.5555555555555556,\"#d8576b\"],[0.6666666666666666,\"#ed7953\"],[0.7777777777777778,\"#fb9f3a\"],[0.8888888888888888,\"#fdca26\"],[1.0,\"#f0f921\"]],\"diverging\":[[0,\"#8e0152\"],[0.1,\"#c51b7d\"],[0.2,\"#de77ae\"],[0.3,\"#f1b6da\"],[0.4,\"#fde0ef\"],[0.5,\"#f7f7f7\"],[0.6,\"#e6f5d0\"],[0.7,\"#b8e186\"],[0.8,\"#7fbc41\"],[0.9,\"#4d9221\"],[1,\"#276419\"]]},\"xaxis\":{\"gridcolor\":\"white\",\"linecolor\":\"white\",\"ticks\":\"\",\"title\":{\"standoff\":15},\"zerolinecolor\":\"white\",\"automargin\":true,\"zerolinewidth\":2},\"yaxis\":{\"gridcolor\":\"white\",\"linecolor\":\"white\",\"ticks\":\"\",\"title\":{\"standoff\":15},\"zerolinecolor\":\"white\",\"automargin\":true,\"zerolinewidth\":2},\"scene\":{\"xaxis\":{\"backgroundcolor\":\"#E5ECF6\",\"gridcolor\":\"white\",\"linecolor\":\"white\",\"showbackground\":true,\"ticks\":\"\",\"zerolinecolor\":\"white\",\"gridwidth\":2},\"yaxis\":{\"backgroundcolor\":\"#E5ECF6\",\"gridcolor\":\"white\",\"linecolor\":\"white\",\"showbackground\":true,\"ticks\":\"\",\"zerolinecolor\":\"white\",\"gridwidth\":2},\"zaxis\":{\"backgroundcolor\":\"#E5ECF6\",\"gridcolor\":\"white\",\"linecolor\":\"white\",\"showbackground\":true,\"ticks\":\"\",\"zerolinecolor\":\"white\",\"gridwidth\":2}},\"shapedefaults\":{\"line\":{\"color\":\"#2a3f5f\"}},\"annotationdefaults\":{\"arrowcolor\":\"#2a3f5f\",\"arrowhead\":0,\"arrowwidth\":1},\"geo\":{\"bgcolor\":\"white\",\"landcolor\":\"#E5ECF6\",\"subunitcolor\":\"white\",\"showland\":true,\"showlakes\":true,\"lakecolor\":\"white\"},\"title\":{\"x\":0.05},\"mapbox\":{\"style\":\"light\"}}}},                        {\"responsive\": true}                    ).then(function(){\n                            \nvar gd = document.getElementById('62a0666d-7b70-4f0c-bd02-1b96fad139f1');\nvar x = new MutationObserver(function (mutations, observer) {{\n        var display = window.getComputedStyle(gd).display;\n        if (!display || display === 'none') {{\n            console.log([gd, 'removed!']);\n            Plotly.purge(gd);\n            observer.disconnect();\n        }}\n}});\n\n// Listen for the removal of the full notebook cells\nvar notebookContainer = gd.closest('#notebook-container');\nif (notebookContainer) {{\n    x.observe(notebookContainer, {childList: true});\n}}\n\n// Listen for the clearing of the current output cell\nvar outputEl = gd.closest('.output');\nif (outputEl) {{\n    x.observe(outputEl, {childList: true});\n}}\n\n                        })                };                            </script>        </div>\n</body>\n</html>"
     },
     "metadata": {},
     "output_type": "display_data"
    }
   ]
  },
  {
   "cell_type": "code",
   "metadata": {
    "cell_id": "034909258a5646a69b6f37f6e27de25d",
    "tags": [],
    "deepnote_to_be_reexecuted": false,
    "source_hash": "f6446c1",
    "execution_start": 1661016283245,
    "execution_millis": 528,
    "deepnote_cell_type": "code",
    "deepnote_cell_height": 293,
    "deepnote_output_heights": [
     201
    ]
   },
   "source": "plot_components_plotly(m, forecast)",
   "execution_count": 30,
   "outputs": [
    {
     "data": {
      "text/html": "<html>\n<head><meta charset=\"utf-8\" /></head>\n<body>\n    <div>            <script src=\"https://cdnjs.cloudflare.com/ajax/libs/mathjax/2.7.5/MathJax.js?config=TeX-AMS-MML_SVG\"></script><script type=\"text/javascript\">if (window.MathJax && window.MathJax.Hub && window.MathJax.Hub.Config) {window.MathJax.Hub.Config({SVG: {font: \"STIX-Web\"}});}</script>                <script type=\"text/javascript\">window.PlotlyConfig = {MathJaxConfig: 'local'};</script>\n        <script src=\"https://cdn.plot.ly/plotly-2.12.1.min.js\"></script>                <div id=\"c7943a13-8627-4e37-a870-d1ffe4b66b34\" class=\"plotly-graph-div\" style=\"height:200px; width:900px;\"></div>            <script type=\"text/javascript\">                                    window.PLOTLYENV=window.PLOTLYENV || {};                                    if (document.getElementById(\"c7943a13-8627-4e37-a870-d1ffe4b66b34\")) {                    Plotly.newPlot(                        \"c7943a13-8627-4e37-a870-d1ffe4b66b34\",                        [{\"line\":{\"color\":\"#0072B2\",\"width\":2},\"mode\":\"lines\",\"name\":\"trend\",\"x\":[\"2020-01-31T00:00:00\",\"2020-02-29T00:00:00\",\"2020-03-31T00:00:00\",\"2020-04-30T00:00:00\",\"2020-05-31T00:00:00\",\"2020-06-30T00:00:00\",\"2020-07-31T00:00:00\",\"2020-08-31T00:00:00\",\"2020-09-30T00:00:00\",\"2020-10-31T00:00:00\",\"2020-11-30T00:00:00\",\"2020-12-31T00:00:00\",\"2021-01-01T00:00:00\",\"2021-01-02T00:00:00\",\"2021-01-03T00:00:00\",\"2021-01-04T00:00:00\",\"2021-01-05T00:00:00\",\"2021-01-06T00:00:00\",\"2021-01-07T00:00:00\",\"2021-01-08T00:00:00\",\"2021-01-09T00:00:00\",\"2021-01-10T00:00:00\",\"2021-01-11T00:00:00\",\"2021-01-12T00:00:00\",\"2021-01-13T00:00:00\",\"2021-01-14T00:00:00\",\"2021-01-15T00:00:00\",\"2021-01-16T00:00:00\",\"2021-01-17T00:00:00\",\"2021-01-18T00:00:00\",\"2021-01-19T00:00:00\",\"2021-01-20T00:00:00\",\"2021-01-21T00:00:00\",\"2021-01-22T00:00:00\",\"2021-01-23T00:00:00\",\"2021-01-24T00:00:00\",\"2021-01-25T00:00:00\",\"2021-01-26T00:00:00\",\"2021-01-27T00:00:00\",\"2021-01-28T00:00:00\",\"2021-01-29T00:00:00\",\"2021-01-30T00:00:00\",\"2021-01-31T00:00:00\",\"2021-02-01T00:00:00\",\"2021-02-02T00:00:00\",\"2021-02-03T00:00:00\",\"2021-02-04T00:00:00\",\"2021-02-05T00:00:00\",\"2021-02-06T00:00:00\",\"2021-02-07T00:00:00\",\"2021-02-08T00:00:00\",\"2021-02-09T00:00:00\",\"2021-02-10T00:00:00\",\"2021-02-11T00:00:00\",\"2021-02-12T00:00:00\",\"2021-02-13T00:00:00\",\"2021-02-14T00:00:00\",\"2021-02-15T00:00:00\",\"2021-02-16T00:00:00\",\"2021-02-17T00:00:00\",\"2021-02-18T00:00:00\",\"2021-02-19T00:00:00\",\"2021-02-20T00:00:00\",\"2021-02-21T00:00:00\",\"2021-02-22T00:00:00\",\"2021-02-23T00:00:00\",\"2021-02-24T00:00:00\",\"2021-02-25T00:00:00\",\"2021-02-26T00:00:00\",\"2021-02-27T00:00:00\",\"2021-02-28T00:00:00\",\"2021-03-01T00:00:00\",\"2021-03-02T00:00:00\",\"2021-03-03T00:00:00\",\"2021-03-04T00:00:00\",\"2021-03-05T00:00:00\",\"2021-03-06T00:00:00\",\"2021-03-07T00:00:00\",\"2021-03-08T00:00:00\",\"2021-03-09T00:00:00\",\"2021-03-10T00:00:00\",\"2021-03-11T00:00:00\",\"2021-03-12T00:00:00\",\"2021-03-13T00:00:00\",\"2021-03-14T00:00:00\",\"2021-03-15T00:00:00\",\"2021-03-16T00:00:00\",\"2021-03-17T00:00:00\",\"2021-03-18T00:00:00\",\"2021-03-19T00:00:00\",\"2021-03-20T00:00:00\",\"2021-03-21T00:00:00\",\"2021-03-22T00:00:00\",\"2021-03-23T00:00:00\",\"2021-03-24T00:00:00\",\"2021-03-25T00:00:00\",\"2021-03-26T00:00:00\",\"2021-03-27T00:00:00\",\"2021-03-28T00:00:00\",\"2021-03-29T00:00:00\",\"2021-03-30T00:00:00\",\"2021-03-31T00:00:00\",\"2021-04-01T00:00:00\",\"2021-04-02T00:00:00\",\"2021-04-03T00:00:00\",\"2021-04-04T00:00:00\",\"2021-04-05T00:00:00\",\"2021-04-06T00:00:00\",\"2021-04-07T00:00:00\",\"2021-04-08T00:00:00\",\"2021-04-09T00:00:00\",\"2021-04-10T00:00:00\",\"2021-04-11T00:00:00\",\"2021-04-12T00:00:00\",\"2021-04-13T00:00:00\",\"2021-04-14T00:00:00\",\"2021-04-15T00:00:00\",\"2021-04-16T00:00:00\",\"2021-04-17T00:00:00\",\"2021-04-18T00:00:00\",\"2021-04-19T00:00:00\",\"2021-04-20T00:00:00\",\"2021-04-21T00:00:00\",\"2021-04-22T00:00:00\",\"2021-04-23T00:00:00\",\"2021-04-24T00:00:00\",\"2021-04-25T00:00:00\",\"2021-04-26T00:00:00\",\"2021-04-27T00:00:00\",\"2021-04-28T00:00:00\",\"2021-04-29T00:00:00\",\"2021-04-30T00:00:00\",\"2021-05-01T00:00:00\",\"2021-05-02T00:00:00\",\"2021-05-03T00:00:00\",\"2021-05-04T00:00:00\",\"2021-05-05T00:00:00\",\"2021-05-06T00:00:00\",\"2021-05-07T00:00:00\",\"2021-05-08T00:00:00\",\"2021-05-09T00:00:00\",\"2021-05-10T00:00:00\",\"2021-05-11T00:00:00\",\"2021-05-12T00:00:00\",\"2021-05-13T00:00:00\",\"2021-05-14T00:00:00\",\"2021-05-15T00:00:00\",\"2021-05-16T00:00:00\",\"2021-05-17T00:00:00\",\"2021-05-18T00:00:00\",\"2021-05-19T00:00:00\",\"2021-05-20T00:00:00\",\"2021-05-21T00:00:00\",\"2021-05-22T00:00:00\",\"2021-05-23T00:00:00\",\"2021-05-24T00:00:00\",\"2021-05-25T00:00:00\",\"2021-05-26T00:00:00\",\"2021-05-27T00:00:00\",\"2021-05-28T00:00:00\",\"2021-05-29T00:00:00\",\"2021-05-30T00:00:00\",\"2021-05-31T00:00:00\",\"2021-06-01T00:00:00\",\"2021-06-02T00:00:00\",\"2021-06-03T00:00:00\",\"2021-06-04T00:00:00\",\"2021-06-05T00:00:00\",\"2021-06-06T00:00:00\",\"2021-06-07T00:00:00\",\"2021-06-08T00:00:00\",\"2021-06-09T00:00:00\",\"2021-06-10T00:00:00\",\"2021-06-11T00:00:00\",\"2021-06-12T00:00:00\",\"2021-06-13T00:00:00\",\"2021-06-14T00:00:00\",\"2021-06-15T00:00:00\",\"2021-06-16T00:00:00\",\"2021-06-17T00:00:00\",\"2021-06-18T00:00:00\",\"2021-06-19T00:00:00\",\"2021-06-20T00:00:00\",\"2021-06-21T00:00:00\",\"2021-06-22T00:00:00\",\"2021-06-23T00:00:00\",\"2021-06-24T00:00:00\",\"2021-06-25T00:00:00\",\"2021-06-26T00:00:00\",\"2021-06-27T00:00:00\",\"2021-06-28T00:00:00\",\"2021-06-29T00:00:00\",\"2021-06-30T00:00:00\",\"2021-07-01T00:00:00\",\"2021-07-02T00:00:00\",\"2021-07-03T00:00:00\",\"2021-07-04T00:00:00\",\"2021-07-05T00:00:00\",\"2021-07-06T00:00:00\",\"2021-07-07T00:00:00\",\"2021-07-08T00:00:00\",\"2021-07-09T00:00:00\",\"2021-07-10T00:00:00\",\"2021-07-11T00:00:00\",\"2021-07-12T00:00:00\",\"2021-07-13T00:00:00\",\"2021-07-14T00:00:00\",\"2021-07-15T00:00:00\",\"2021-07-16T00:00:00\",\"2021-07-17T00:00:00\",\"2021-07-18T00:00:00\",\"2021-07-19T00:00:00\",\"2021-07-20T00:00:00\",\"2021-07-21T00:00:00\",\"2021-07-22T00:00:00\",\"2021-07-23T00:00:00\",\"2021-07-24T00:00:00\",\"2021-07-25T00:00:00\",\"2021-07-26T00:00:00\",\"2021-07-27T00:00:00\",\"2021-07-28T00:00:00\",\"2021-07-29T00:00:00\",\"2021-07-30T00:00:00\",\"2021-07-31T00:00:00\",\"2021-08-01T00:00:00\",\"2021-08-02T00:00:00\",\"2021-08-03T00:00:00\",\"2021-08-04T00:00:00\",\"2021-08-05T00:00:00\",\"2021-08-06T00:00:00\",\"2021-08-07T00:00:00\",\"2021-08-08T00:00:00\",\"2021-08-09T00:00:00\",\"2021-08-10T00:00:00\",\"2021-08-11T00:00:00\",\"2021-08-12T00:00:00\",\"2021-08-13T00:00:00\",\"2021-08-14T00:00:00\",\"2021-08-15T00:00:00\",\"2021-08-16T00:00:00\",\"2021-08-17T00:00:00\",\"2021-08-18T00:00:00\",\"2021-08-19T00:00:00\",\"2021-08-20T00:00:00\",\"2021-08-21T00:00:00\",\"2021-08-22T00:00:00\",\"2021-08-23T00:00:00\",\"2021-08-24T00:00:00\",\"2021-08-25T00:00:00\",\"2021-08-26T00:00:00\",\"2021-08-27T00:00:00\",\"2021-08-28T00:00:00\",\"2021-08-29T00:00:00\",\"2021-08-30T00:00:00\",\"2021-08-31T00:00:00\",\"2021-09-01T00:00:00\",\"2021-09-02T00:00:00\",\"2021-09-03T00:00:00\",\"2021-09-04T00:00:00\",\"2021-09-05T00:00:00\",\"2021-09-06T00:00:00\",\"2021-09-07T00:00:00\",\"2021-09-08T00:00:00\",\"2021-09-09T00:00:00\",\"2021-09-10T00:00:00\",\"2021-09-11T00:00:00\",\"2021-09-12T00:00:00\",\"2021-09-13T00:00:00\",\"2021-09-14T00:00:00\",\"2021-09-15T00:00:00\",\"2021-09-16T00:00:00\",\"2021-09-17T00:00:00\",\"2021-09-18T00:00:00\",\"2021-09-19T00:00:00\",\"2021-09-20T00:00:00\",\"2021-09-21T00:00:00\",\"2021-09-22T00:00:00\",\"2021-09-23T00:00:00\",\"2021-09-24T00:00:00\",\"2021-09-25T00:00:00\",\"2021-09-26T00:00:00\",\"2021-09-27T00:00:00\",\"2021-09-28T00:00:00\",\"2021-09-29T00:00:00\",\"2021-09-30T00:00:00\",\"2021-10-01T00:00:00\",\"2021-10-02T00:00:00\",\"2021-10-03T00:00:00\",\"2021-10-04T00:00:00\",\"2021-10-05T00:00:00\",\"2021-10-06T00:00:00\",\"2021-10-07T00:00:00\",\"2021-10-08T00:00:00\",\"2021-10-09T00:00:00\",\"2021-10-10T00:00:00\",\"2021-10-11T00:00:00\",\"2021-10-12T00:00:00\",\"2021-10-13T00:00:00\",\"2021-10-14T00:00:00\",\"2021-10-15T00:00:00\",\"2021-10-16T00:00:00\",\"2021-10-17T00:00:00\",\"2021-10-18T00:00:00\",\"2021-10-19T00:00:00\",\"2021-10-20T00:00:00\",\"2021-10-21T00:00:00\",\"2021-10-22T00:00:00\",\"2021-10-23T00:00:00\",\"2021-10-24T00:00:00\",\"2021-10-25T00:00:00\",\"2021-10-26T00:00:00\",\"2021-10-27T00:00:00\",\"2021-10-28T00:00:00\",\"2021-10-29T00:00:00\",\"2021-10-30T00:00:00\",\"2021-10-31T00:00:00\",\"2021-11-01T00:00:00\",\"2021-11-02T00:00:00\",\"2021-11-03T00:00:00\",\"2021-11-04T00:00:00\",\"2021-11-05T00:00:00\",\"2021-11-06T00:00:00\",\"2021-11-07T00:00:00\",\"2021-11-08T00:00:00\",\"2021-11-09T00:00:00\",\"2021-11-10T00:00:00\",\"2021-11-11T00:00:00\",\"2021-11-12T00:00:00\",\"2021-11-13T00:00:00\",\"2021-11-14T00:00:00\",\"2021-11-15T00:00:00\",\"2021-11-16T00:00:00\",\"2021-11-17T00:00:00\",\"2021-11-18T00:00:00\",\"2021-11-19T00:00:00\",\"2021-11-20T00:00:00\",\"2021-11-21T00:00:00\",\"2021-11-22T00:00:00\",\"2021-11-23T00:00:00\",\"2021-11-24T00:00:00\",\"2021-11-25T00:00:00\",\"2021-11-26T00:00:00\",\"2021-11-27T00:00:00\",\"2021-11-28T00:00:00\",\"2021-11-29T00:00:00\",\"2021-11-30T00:00:00\",\"2021-12-01T00:00:00\",\"2021-12-02T00:00:00\",\"2021-12-03T00:00:00\",\"2021-12-04T00:00:00\",\"2021-12-05T00:00:00\",\"2021-12-06T00:00:00\",\"2021-12-07T00:00:00\",\"2021-12-08T00:00:00\",\"2021-12-09T00:00:00\",\"2021-12-10T00:00:00\",\"2021-12-11T00:00:00\",\"2021-12-12T00:00:00\",\"2021-12-13T00:00:00\",\"2021-12-14T00:00:00\",\"2021-12-15T00:00:00\",\"2021-12-16T00:00:00\",\"2021-12-17T00:00:00\",\"2021-12-18T00:00:00\",\"2021-12-19T00:00:00\",\"2021-12-20T00:00:00\",\"2021-12-21T00:00:00\",\"2021-12-22T00:00:00\",\"2021-12-23T00:00:00\",\"2021-12-24T00:00:00\",\"2021-12-25T00:00:00\",\"2021-12-26T00:00:00\",\"2021-12-27T00:00:00\",\"2021-12-28T00:00:00\",\"2021-12-29T00:00:00\",\"2021-12-30T00:00:00\",\"2021-12-31T00:00:00\",\"2022-01-01T00:00:00\",\"2022-01-02T00:00:00\",\"2022-01-03T00:00:00\",\"2022-01-04T00:00:00\",\"2022-01-05T00:00:00\",\"2022-01-06T00:00:00\",\"2022-01-07T00:00:00\",\"2022-01-08T00:00:00\",\"2022-01-09T00:00:00\",\"2022-01-10T00:00:00\",\"2022-01-11T00:00:00\",\"2022-01-12T00:00:00\",\"2022-01-13T00:00:00\",\"2022-01-14T00:00:00\",\"2022-01-15T00:00:00\",\"2022-01-16T00:00:00\",\"2022-01-17T00:00:00\",\"2022-01-18T00:00:00\",\"2022-01-19T00:00:00\",\"2022-01-20T00:00:00\",\"2022-01-21T00:00:00\",\"2022-01-22T00:00:00\",\"2022-01-23T00:00:00\",\"2022-01-24T00:00:00\",\"2022-01-25T00:00:00\",\"2022-01-26T00:00:00\",\"2022-01-27T00:00:00\",\"2022-01-28T00:00:00\",\"2022-01-29T00:00:00\",\"2022-01-30T00:00:00\",\"2022-01-31T00:00:00\",\"2022-02-01T00:00:00\",\"2022-02-02T00:00:00\",\"2022-02-03T00:00:00\",\"2022-02-04T00:00:00\",\"2022-02-05T00:00:00\",\"2022-02-06T00:00:00\",\"2022-02-07T00:00:00\",\"2022-02-08T00:00:00\",\"2022-02-09T00:00:00\",\"2022-02-10T00:00:00\",\"2022-02-11T00:00:00\",\"2022-02-12T00:00:00\",\"2022-02-13T00:00:00\",\"2022-02-14T00:00:00\",\"2022-02-15T00:00:00\",\"2022-02-16T00:00:00\",\"2022-02-17T00:00:00\",\"2022-02-18T00:00:00\",\"2022-02-19T00:00:00\",\"2022-02-20T00:00:00\",\"2022-02-21T00:00:00\",\"2022-02-22T00:00:00\",\"2022-02-23T00:00:00\",\"2022-02-24T00:00:00\",\"2022-02-25T00:00:00\",\"2022-02-26T00:00:00\",\"2022-02-27T00:00:00\",\"2022-02-28T00:00:00\",\"2022-03-01T00:00:00\",\"2022-03-02T00:00:00\",\"2022-03-03T00:00:00\",\"2022-03-04T00:00:00\",\"2022-03-05T00:00:00\",\"2022-03-06T00:00:00\",\"2022-03-07T00:00:00\",\"2022-03-08T00:00:00\",\"2022-03-09T00:00:00\",\"2022-03-10T00:00:00\",\"2022-03-11T00:00:00\",\"2022-03-12T00:00:00\",\"2022-03-13T00:00:00\",\"2022-03-14T00:00:00\",\"2022-03-15T00:00:00\",\"2022-03-16T00:00:00\",\"2022-03-17T00:00:00\",\"2022-03-18T00:00:00\",\"2022-03-19T00:00:00\",\"2022-03-20T00:00:00\",\"2022-03-21T00:00:00\",\"2022-03-22T00:00:00\",\"2022-03-23T00:00:00\",\"2022-03-24T00:00:00\",\"2022-03-25T00:00:00\",\"2022-03-26T00:00:00\",\"2022-03-27T00:00:00\",\"2022-03-28T00:00:00\",\"2022-03-29T00:00:00\",\"2022-03-30T00:00:00\",\"2022-03-31T00:00:00\",\"2022-04-01T00:00:00\",\"2022-04-02T00:00:00\",\"2022-04-03T00:00:00\",\"2022-04-04T00:00:00\",\"2022-04-05T00:00:00\",\"2022-04-06T00:00:00\",\"2022-04-07T00:00:00\",\"2022-04-08T00:00:00\",\"2022-04-09T00:00:00\",\"2022-04-10T00:00:00\",\"2022-04-11T00:00:00\",\"2022-04-12T00:00:00\",\"2022-04-13T00:00:00\",\"2022-04-14T00:00:00\",\"2022-04-15T00:00:00\",\"2022-04-16T00:00:00\",\"2022-04-17T00:00:00\",\"2022-04-18T00:00:00\",\"2022-04-19T00:00:00\",\"2022-04-20T00:00:00\",\"2022-04-21T00:00:00\",\"2022-04-22T00:00:00\",\"2022-04-23T00:00:00\",\"2022-04-24T00:00:00\",\"2022-04-25T00:00:00\",\"2022-04-26T00:00:00\",\"2022-04-27T00:00:00\",\"2022-04-28T00:00:00\",\"2022-04-29T00:00:00\",\"2022-04-30T00:00:00\",\"2022-05-01T00:00:00\",\"2022-05-02T00:00:00\",\"2022-05-03T00:00:00\",\"2022-05-04T00:00:00\",\"2022-05-05T00:00:00\",\"2022-05-06T00:00:00\",\"2022-05-07T00:00:00\",\"2022-05-08T00:00:00\",\"2022-05-09T00:00:00\",\"2022-05-10T00:00:00\",\"2022-05-11T00:00:00\",\"2022-05-12T00:00:00\",\"2022-05-13T00:00:00\",\"2022-05-14T00:00:00\",\"2022-05-15T00:00:00\",\"2022-05-16T00:00:00\",\"2022-05-17T00:00:00\",\"2022-05-18T00:00:00\",\"2022-05-19T00:00:00\",\"2022-05-20T00:00:00\",\"2022-05-21T00:00:00\",\"2022-05-22T00:00:00\",\"2022-05-23T00:00:00\",\"2022-05-24T00:00:00\",\"2022-05-25T00:00:00\",\"2022-05-26T00:00:00\",\"2022-05-27T00:00:00\",\"2022-05-28T00:00:00\",\"2022-05-29T00:00:00\",\"2022-05-30T00:00:00\",\"2022-05-31T00:00:00\",\"2022-06-01T00:00:00\",\"2022-06-02T00:00:00\",\"2022-06-03T00:00:00\",\"2022-06-04T00:00:00\",\"2022-06-05T00:00:00\",\"2022-06-06T00:00:00\",\"2022-06-07T00:00:00\",\"2022-06-08T00:00:00\",\"2022-06-09T00:00:00\",\"2022-06-10T00:00:00\",\"2022-06-11T00:00:00\",\"2022-06-12T00:00:00\",\"2022-06-13T00:00:00\",\"2022-06-14T00:00:00\",\"2022-06-15T00:00:00\",\"2022-06-16T00:00:00\",\"2022-06-17T00:00:00\",\"2022-06-18T00:00:00\",\"2022-06-19T00:00:00\",\"2022-06-20T00:00:00\",\"2022-06-21T00:00:00\",\"2022-06-22T00:00:00\",\"2022-06-23T00:00:00\",\"2022-06-24T00:00:00\",\"2022-06-25T00:00:00\",\"2022-06-26T00:00:00\",\"2022-06-27T00:00:00\",\"2022-06-28T00:00:00\",\"2022-06-29T00:00:00\",\"2022-06-30T00:00:00\",\"2022-07-01T00:00:00\",\"2022-07-02T00:00:00\",\"2022-07-03T00:00:00\",\"2022-07-04T00:00:00\",\"2022-07-05T00:00:00\",\"2022-07-06T00:00:00\",\"2022-07-07T00:00:00\",\"2022-07-08T00:00:00\",\"2022-07-09T00:00:00\",\"2022-07-10T00:00:00\",\"2022-07-11T00:00:00\",\"2022-07-12T00:00:00\",\"2022-07-13T00:00:00\",\"2022-07-14T00:00:00\",\"2022-07-15T00:00:00\",\"2022-07-16T00:00:00\",\"2022-07-17T00:00:00\",\"2022-07-18T00:00:00\",\"2022-07-19T00:00:00\",\"2022-07-20T00:00:00\",\"2022-07-21T00:00:00\",\"2022-07-22T00:00:00\",\"2022-07-23T00:00:00\",\"2022-07-24T00:00:00\",\"2022-07-25T00:00:00\",\"2022-07-26T00:00:00\",\"2022-07-27T00:00:00\",\"2022-07-28T00:00:00\",\"2022-07-29T00:00:00\",\"2022-07-30T00:00:00\",\"2022-07-31T00:00:00\",\"2022-08-01T00:00:00\",\"2022-08-02T00:00:00\",\"2022-08-03T00:00:00\",\"2022-08-04T00:00:00\",\"2022-08-05T00:00:00\",\"2022-08-06T00:00:00\",\"2022-08-07T00:00:00\",\"2022-08-08T00:00:00\",\"2022-08-09T00:00:00\",\"2022-08-10T00:00:00\",\"2022-08-11T00:00:00\",\"2022-08-12T00:00:00\",\"2022-08-13T00:00:00\",\"2022-08-14T00:00:00\",\"2022-08-15T00:00:00\",\"2022-08-16T00:00:00\",\"2022-08-17T00:00:00\",\"2022-08-18T00:00:00\",\"2022-08-19T00:00:00\",\"2022-08-20T00:00:00\",\"2022-08-21T00:00:00\",\"2022-08-22T00:00:00\",\"2022-08-23T00:00:00\",\"2022-08-24T00:00:00\",\"2022-08-25T00:00:00\",\"2022-08-26T00:00:00\",\"2022-08-27T00:00:00\",\"2022-08-28T00:00:00\",\"2022-08-29T00:00:00\",\"2022-08-30T00:00:00\",\"2022-08-31T00:00:00\",\"2022-09-01T00:00:00\",\"2022-09-02T00:00:00\",\"2022-09-03T00:00:00\",\"2022-09-04T00:00:00\",\"2022-09-05T00:00:00\",\"2022-09-06T00:00:00\",\"2022-09-07T00:00:00\",\"2022-09-08T00:00:00\",\"2022-09-09T00:00:00\",\"2022-09-10T00:00:00\",\"2022-09-11T00:00:00\",\"2022-09-12T00:00:00\",\"2022-09-13T00:00:00\",\"2022-09-14T00:00:00\",\"2022-09-15T00:00:00\",\"2022-09-16T00:00:00\",\"2022-09-17T00:00:00\",\"2022-09-18T00:00:00\",\"2022-09-19T00:00:00\",\"2022-09-20T00:00:00\",\"2022-09-21T00:00:00\",\"2022-09-22T00:00:00\",\"2022-09-23T00:00:00\",\"2022-09-24T00:00:00\",\"2022-09-25T00:00:00\",\"2022-09-26T00:00:00\",\"2022-09-27T00:00:00\",\"2022-09-28T00:00:00\",\"2022-09-29T00:00:00\",\"2022-09-30T00:00:00\",\"2022-10-01T00:00:00\",\"2022-10-02T00:00:00\",\"2022-10-03T00:00:00\",\"2022-10-04T00:00:00\",\"2022-10-05T00:00:00\",\"2022-10-06T00:00:00\",\"2022-10-07T00:00:00\",\"2022-10-08T00:00:00\",\"2022-10-09T00:00:00\",\"2022-10-10T00:00:00\",\"2022-10-11T00:00:00\",\"2022-10-12T00:00:00\",\"2022-10-13T00:00:00\",\"2022-10-14T00:00:00\",\"2022-10-15T00:00:00\",\"2022-10-16T00:00:00\",\"2022-10-17T00:00:00\",\"2022-10-18T00:00:00\",\"2022-10-19T00:00:00\",\"2022-10-20T00:00:00\",\"2022-10-21T00:00:00\",\"2022-10-22T00:00:00\",\"2022-10-23T00:00:00\",\"2022-10-24T00:00:00\",\"2022-10-25T00:00:00\",\"2022-10-26T00:00:00\",\"2022-10-27T00:00:00\",\"2022-10-28T00:00:00\",\"2022-10-29T00:00:00\",\"2022-10-30T00:00:00\",\"2022-10-31T00:00:00\",\"2022-11-01T00:00:00\",\"2022-11-02T00:00:00\",\"2022-11-03T00:00:00\",\"2022-11-04T00:00:00\",\"2022-11-05T00:00:00\",\"2022-11-06T00:00:00\",\"2022-11-07T00:00:00\",\"2022-11-08T00:00:00\",\"2022-11-09T00:00:00\",\"2022-11-10T00:00:00\",\"2022-11-11T00:00:00\",\"2022-11-12T00:00:00\",\"2022-11-13T00:00:00\",\"2022-11-14T00:00:00\",\"2022-11-15T00:00:00\",\"2022-11-16T00:00:00\",\"2022-11-17T00:00:00\",\"2022-11-18T00:00:00\",\"2022-11-19T00:00:00\",\"2022-11-20T00:00:00\",\"2022-11-21T00:00:00\",\"2022-11-22T00:00:00\",\"2022-11-23T00:00:00\",\"2022-11-24T00:00:00\",\"2022-11-25T00:00:00\",\"2022-11-26T00:00:00\",\"2022-11-27T00:00:00\",\"2022-11-28T00:00:00\",\"2022-11-29T00:00:00\",\"2022-11-30T00:00:00\",\"2022-12-01T00:00:00\",\"2022-12-02T00:00:00\",\"2022-12-03T00:00:00\",\"2022-12-04T00:00:00\",\"2022-12-05T00:00:00\",\"2022-12-06T00:00:00\",\"2022-12-07T00:00:00\",\"2022-12-08T00:00:00\",\"2022-12-09T00:00:00\",\"2022-12-10T00:00:00\",\"2022-12-11T00:00:00\",\"2022-12-12T00:00:00\",\"2022-12-13T00:00:00\",\"2022-12-14T00:00:00\",\"2022-12-15T00:00:00\",\"2022-12-16T00:00:00\",\"2022-12-17T00:00:00\",\"2022-12-18T00:00:00\",\"2022-12-19T00:00:00\",\"2022-12-20T00:00:00\",\"2022-12-21T00:00:00\",\"2022-12-22T00:00:00\",\"2022-12-23T00:00:00\",\"2022-12-24T00:00:00\",\"2022-12-25T00:00:00\",\"2022-12-26T00:00:00\",\"2022-12-27T00:00:00\",\"2022-12-28T00:00:00\",\"2022-12-29T00:00:00\",\"2022-12-30T00:00:00\",\"2022-12-31T00:00:00\"],\"y\":[58.74134625,58.70621396042537,58.668658753719185,58.632315004436315,58.594759797434996,58.55841604906441,58.52086084347047,58.48330563702979,58.446961888610964,58.409406681277694,58.3730629322455,58.335507724912226,58.334296266611155,58.33308480831008,58.33187335000901,58.33066189170793,58.32945043340686,58.32823897510579,58.32702751680471,58.32581605850365,58.32460460020257,58.32339314190149,58.32218168360043,58.32097022529935,58.31975876699828,58.318547308697205,58.31733585039613,58.316124392095055,58.314912933793984,58.31370147549291,58.312490017191834,58.31127855889077,58.31006710058969,58.30885564228861,58.30764418398755,58.30643272568647,58.3052212673854,58.30400980908433,58.30279835078325,58.30158689248218,58.300375434181106,58.299163975880035,58.297952517578956,58.296741059277885,58.29552960097681,58.294318142675735,58.29310668437467,58.29189522607359,58.29068376777252,58.28947230947145,58.28826085117037,58.2870493928693,58.28583793456823,58.28462647626716,58.28341501796608,58.28220355966501,58.280992101363935,58.27978064306286,58.27856918476179,58.277357726460714,58.276146268159636,58.27493480985857,58.27372335155749,58.27251189325642,58.27130043495535,58.27008897665427,58.2688775183532,58.26766606005213,58.26645460175106,58.26524314344998,58.264031685148915,58.262820226847836,58.26160876854676,58.26039731024569,58.259185851944615,58.25797439364354,58.25676293534247,58.255551477041394,58.25434001874032,58.25312856043925,58.25191710213818,58.2507056438371,58.24949418553603,58.24828272723496,58.24707126893388,58.245859810632815,58.24464835233174,58.243436894030665,58.242225435729594,58.241013977428516,58.239802519127444,58.23859106082637,58.2373796025253,58.23616814422422,58.23495668592315,58.23374522762208,58.232533769321,58.23132231101994,58.23011085271886,58.22889939441778,58.227687936116716,58.22647647781564,58.225265019514566,58.224053561213495,58.222842102912416,58.221630644611345,58.220419186310274,58.2192077280092,58.217996269708124,58.21678481140706,58.21557335310598,58.2143618948049,58.21315043650384,58.21193897820276,58.21072751990169,58.20951606160062,58.20830460329954,58.20709314499847,58.205881686697396,58.204670228396324,58.203458770095246,58.202247311794174,58.2010358534931,58.199824395192024,58.19861293689096,58.19740147858988,58.1961900202888,58.19497856198774,58.19376710368666,58.19255564538559,58.19134418708452,58.190132728783446,58.18892127048237,58.187709812181296,58.186498353880225,58.18528689557915,58.18407543727808,58.182863978977004,58.181652520675925,58.18044106237486,58.17922960407378,58.17801814577271,58.17680668747164,58.17559522917056,58.17438377086949,58.17317231256842,58.17196085426735,58.17074939596627,58.169537937665204,58.168326479364126,58.16711502106305,58.16590356276198,58.164692104460904,58.16348064615984,58.16226918785876,58.16105772955768,58.15984627125661,58.15863481295554,58.15742335465447,58.15621189635339,58.15500043805232,58.15378897975125,58.15257752145017,58.151366063149105,58.15015460484803,58.14894314654695,58.147731688245884,58.146520229944805,58.145308771643734,58.14409731334266,58.14288585504159,58.14167439674051,58.14046293843944,58.13925148013837,58.13804002183729,58.13682856353623,58.13561710523515,58.13440564693407,58.133194188633006,58.13198273033193,58.13077127203086,58.129559813729784,58.128348355428706,58.127136897127635,58.12592543882656,58.12471398052549,58.12350252222441,58.12229106392334,58.12107960562227,58.11986814732119,58.11865668902013,58.11744523071905,58.116233772417985,58.115022314116906,58.11381085581583,58.112599397514764,58.111387939213685,58.110176480912614,58.108965022611535,58.107753564310464,58.10654210600939,58.105330647708314,58.10411918940725,58.10290773110617,58.10169627280509,58.10048481450403,58.09927335620295,58.098061897901886,58.09685043960081,58.095638981299736,58.094427522998664,58.093216064697586,58.092004606396515,58.090793148095436,58.08958168979437,58.08837023149329,58.087158773192215,58.08594731489115,58.08473585659007,58.08352439828901,58.08231293998793,58.08110148168685,58.079890023385786,58.07867856508471,58.07746710678364,58.07625564848256,58.07504419018149,58.073832731880415,58.07262127357934,58.07140981527827,58.070198356977194,58.06898689867613,58.06777544037505,58.06656398207397,58.06535252377291,58.06414106547183,58.06292960717076,58.06171814886969,58.06050669056861,58.05929523226754,58.05808377396646,58.056872315665395,58.055660857364316,58.05444939906324,58.05323794076217,58.052026482461095,58.05081502416003,58.04960356585895,58.04839210755788,58.04718064925681,58.04596919095573,58.04475773265466,58.04354627435359,58.04233481605252,58.04112335775144,58.03991189945036,58.038700441149295,58.03748898284822,58.03627752454715,58.035066066246074,58.033854607944996,58.03264314964393,58.03143169134285,58.03022023304178,58.02900877474071,58.02779731643963,58.02658585813856,58.02537439983749,58.02416294153642,58.02295148323534,58.021740024934275,58.020528566633196,58.01931710833212,58.01810565003105,58.016894191729975,58.0156827334289,58.01447127512783,58.01325981682675,58.01204835852568,58.01083690022461,58.00962544192354,58.00841398362246,58.00720252532138,58.00599106702032,58.00477960871924,58.003568150418175,58.0023566921171,58.001145233816025,57.999933775514954,57.998722317213875,57.997510858912804,57.99629940061173,57.99508794231066,57.99387648400958,57.99266502570851,57.99145356740744,57.99024210910636,57.9890306508053,57.98781919250422,57.98660773420314,57.985396275902076,57.984184817601,57.982973359299926,57.981761900998855,57.980550442697776,57.979338984396705,57.97812752609563,57.97691606779456,57.975704609493484,57.97449315119242,57.97328169289134,57.97207023459026,57.9708587762892,57.96964731798812,57.96843585968705,57.96722440138598,57.9660129430849,57.96480148478383,57.963590026482755,57.962378568181684,57.961167109880606,57.959955651579534,57.95874419327846,57.957532734977384,57.95632127667632,57.95510981837524,57.95389836007416,57.9526869017731,57.95147544347202,57.95026398517095,57.94905252686988,57.947841068568806,57.94662961026773,57.945418151966656,57.944206693665585,57.942995235364506,57.94178377706344,57.940572318762364,57.939360860461285,57.93814940216022,57.93693794385914,57.93572648555807,57.934515027257,57.93330356895592,57.93209211065485,57.93088065235378,57.92966919405271,57.92845773575163,57.927246277450564,57.926034819149486,57.92482336084841,57.92361190254734,57.922400444246264,57.92118898594519,57.91997752764412,57.91876606934304,57.91755461104197,57.9163431527409,57.91513169443983,57.91392023613875,57.91270877783768,57.91149731953661,57.91028586123553,57.909074402934465,57.907862944633386,57.90665148633231,57.905440028031244,57.904228569730165,57.903017111429094,57.90180565312802,57.90059419482695,57.89938273652587,57.8981712782248,57.89695981992373,57.89574836162265,57.89453690332159,57.89332544502051,57.89211398671943,57.890902528418366,57.88969107011729,57.888479611816216,57.887268153515144,57.886056695214066,57.884845236912994,57.88363377861192,57.88242232031085,57.88121086200977,57.8799994037087,57.87878794540763,57.87757648710655,57.87636502880549,57.87515357050441,57.87394211220334,57.872730653902266,57.87151919560119,57.87030773730012,57.869096278999045,57.867884820697974,57.866673362396895,57.865461904095824,57.86425044579475,57.863038987493674,57.86182752919261,57.86061607089153,57.85940461259045,57.85819315428939,57.85698169598831,57.85577023768724,57.85455877938617,57.853347321085096,57.85213586278402,57.850924404482946,57.849712946181874,57.848501487880796,57.84729002957973,57.84607857127865,57.844867112977575,57.84365565467651,57.84244419637543,57.84123273807436,57.84002127977329,57.83880982147221,57.83759836317114,57.83638690487007,57.835175446569,57.83396398826792,57.83275252996685,57.831541071665775,57.8303296133647,57.82911815506363,57.827906696762554,57.82669523846148,57.82548378016041,57.82427232185933,57.82306086355826,57.82184940525719,57.82063794695612,57.81942648865504,57.81821503035397,57.8170035720529,57.81579211375182,57.814580655450754,57.813369197149676,57.8121577388486,57.81094628054753,57.809734822246455,57.80852336394538,57.80731190564431,57.80610044734324,57.80488898904216,57.80367753074109,57.80246607244002,57.80125461413894,57.800043155837876,57.7988316975368,57.79762023923572,57.796408780934655,57.79519732263358,57.793985864332505,57.792774406031434,57.791562947730355,57.790351489429284,57.78914003112821,57.78792857282714,57.78671711452606,57.78550565622499,57.78429419792392,57.78308273962284,57.78187128132178,57.7806598230207,57.77944836471963,57.778236906418556,57.77702544811748,57.775813989816406,57.774602531515335,57.77339107321426,57.772179614913185,57.77096815661211,57.76975669831104,57.76854524000996,57.7673337817089,57.76612232340782,57.76491086510674,57.76369940680568,57.7624879485046,57.76127649020353,57.76006503190246,57.758853573601385,57.75764211530031,57.756430656999235,57.755219198698164,57.754007740397086,57.75279628209602,57.75158482379494,57.750373365493864,57.7491619071928,57.74795044889172,57.74673899059066,57.74552753228958,57.7443160739885,57.74310461568743,57.74189315738636,57.740681699085286,57.73947024078421,57.738258782483136,57.737047324182065,57.735835865880986,57.73462440757992,57.73341294927884,57.73220149097778,57.7309900326767,57.72977857437562,57.72856711607455,57.72735565777348,57.72614419947241,57.72493274117133,57.72372128287026,57.72250982456919,57.72129836626811,57.720086907967044,57.718875449665966,57.71766399136489,57.71645253306382,57.715241074762744,57.71402961646168,57.7128181581606,57.71160669985952,57.71039524155845,57.70918378325738,57.70797232495631,57.70676086665523,57.705549408354166,57.70433795005309,57.70312649175201,57.701915033450945,57.700703575149866,57.6994921168488,57.69828065854772,57.697069200246645,57.69585774194558,57.6946462836445,57.69343482534343,57.69222336704235,57.69101190874128,57.68980045044021,57.68858899213913,57.68737753383807,57.68616607553699,57.684954617235924,57.683743158934845,57.68253170063377,57.6813202423327,57.680108784031624,57.67889732573055,57.67768586742948,57.6764744091284,57.67526295082733,57.67405149252625,57.67284003422519,57.67162857592411,57.67041711762303,57.66920565932197,57.66799420102089,57.666782742719825,57.665571284418746,57.66435982611767,57.6631483678166,57.661936909515525,57.660725451214454,57.659513992913375,57.65830253461231,57.65709107631123,57.655879618010154,57.65466815970909,57.65345670140801,57.65224524310695,57.65103378480587,57.64982232650479,57.648610868203725,57.64739940990265,57.646187951601576,57.644976493300504,57.643765034999426,57.642553576698354,57.641342118397276,57.64013066009621,57.63891920179513,57.637707743494055,57.63649628519299,57.63528482689191,57.63407336859085,57.63286191028977,57.6316504519887,57.630438993687626,57.62922753538655,57.628016077085476,57.626804618784405,57.625593160483334,57.624381702182255,57.62317024388118,57.62195878558011,57.620747327279034,57.61953586897797,57.61832441067689,57.61711295237581,57.61590149407475,57.61469003577367,57.6134785774726,57.61226711917153,57.611055660870456,57.60984420256938,57.608632744268306,57.607421285967234,57.606209827666156,57.60499836936509,57.60378691106401,57.602575452762935,57.60136399446187,57.60015253616079,57.59894107785972,57.59772961955865,57.59651816125757,57.5953067029565,57.59409524465543,57.592883786354356,57.59167232805328,57.5904608697522,57.589249411451135,57.58803795315006,57.58682649484899,57.585615036547914,57.58440357824684,57.58319211994577,57.58198066164469,57.58076920334362,57.57955774504255,57.57834628674148,57.5771348284404,57.57592337013933,57.57471191183826,57.57350045353718,57.572288995236114,57.571077536935036,57.56986607863396,57.56865462033289,57.567443162031815,57.56623170373074,57.56502024542967,57.5638087871286,57.56259732882752,57.56138587052645,57.56017441222538,57.5589629539243,57.557751495623236,57.55654003732216,57.55532857902108,57.554117120720015,57.55290566241894,57.551694204117865,57.550482745816794,57.549271287515715,57.548059829214644,57.54684837091357,57.5456369126125,57.54442545431142,57.54321399601035,57.54200253770928,57.5407910794082,57.53957962110714,57.53836816280606,57.53715670450498,57.535945246203916,57.53473378790284,57.533522329601766,57.532310871300695,57.53109941299962,57.529887954698545,57.52867649639747,57.5274650380964,57.52625357979532,57.52504212149426,57.52383066319318,57.5226192048921,57.52140774659104,57.52019628828996,57.51898482998889,57.51777337168782,57.516561913386745,57.51535045508567,57.514138996784595,57.512927538483524,57.511716080182445,57.51050462188138,57.5092931635803,57.508081705279224,57.50687024697816,57.50565878867708,57.50444733037601,57.50323587207494,57.50202441377386,57.50081295547279,57.49960149717172,57.498390038870646,57.49717858056957,57.495967122268496,57.494755663967425,57.493544205666346,57.49233274736528,57.4911212890642,57.489909830763125,57.48869837246206,57.48748691416098,57.48627545585991,57.48506399755884,57.48385253925777,57.48264108095669,57.48142962265562,57.48021816435455,57.47900670605347,57.477795247752404,57.476583789451325,57.47537233115025,57.47416087284918,57.472949414548104,57.47173795624703,57.47052649794596,57.46931503964488,57.46810358134381,57.46689212304274,57.46568066474167,57.46446920644059,57.463257748139526,57.46204628983845,57.46083483153737,57.459623373236305,57.458411914935226,57.457200456634155,57.45598899833308,57.454777540032005,57.45356608173093,57.45235462342986,57.45114316512879],\"type\":\"scatter\",\"xaxis\":\"x\",\"yaxis\":\"y\"},{\"line\":{\"color\":\"rgba(0, 114, 178, 0.2)\",\"width\":0},\"mode\":\"lines\",\"name\":\"trend_upper\",\"x\":[\"2020-01-31T00:00:00\",\"2020-02-29T00:00:00\",\"2020-03-31T00:00:00\",\"2020-04-30T00:00:00\",\"2020-05-31T00:00:00\",\"2020-06-30T00:00:00\",\"2020-07-31T00:00:00\",\"2020-08-31T00:00:00\",\"2020-09-30T00:00:00\",\"2020-10-31T00:00:00\",\"2020-11-30T00:00:00\",\"2020-12-31T00:00:00\",\"2021-01-01T00:00:00\",\"2021-01-02T00:00:00\",\"2021-01-03T00:00:00\",\"2021-01-04T00:00:00\",\"2021-01-05T00:00:00\",\"2021-01-06T00:00:00\",\"2021-01-07T00:00:00\",\"2021-01-08T00:00:00\",\"2021-01-09T00:00:00\",\"2021-01-10T00:00:00\",\"2021-01-11T00:00:00\",\"2021-01-12T00:00:00\",\"2021-01-13T00:00:00\",\"2021-01-14T00:00:00\",\"2021-01-15T00:00:00\",\"2021-01-16T00:00:00\",\"2021-01-17T00:00:00\",\"2021-01-18T00:00:00\",\"2021-01-19T00:00:00\",\"2021-01-20T00:00:00\",\"2021-01-21T00:00:00\",\"2021-01-22T00:00:00\",\"2021-01-23T00:00:00\",\"2021-01-24T00:00:00\",\"2021-01-25T00:00:00\",\"2021-01-26T00:00:00\",\"2021-01-27T00:00:00\",\"2021-01-28T00:00:00\",\"2021-01-29T00:00:00\",\"2021-01-30T00:00:00\",\"2021-01-31T00:00:00\",\"2021-02-01T00:00:00\",\"2021-02-02T00:00:00\",\"2021-02-03T00:00:00\",\"2021-02-04T00:00:00\",\"2021-02-05T00:00:00\",\"2021-02-06T00:00:00\",\"2021-02-07T00:00:00\",\"2021-02-08T00:00:00\",\"2021-02-09T00:00:00\",\"2021-02-10T00:00:00\",\"2021-02-11T00:00:00\",\"2021-02-12T00:00:00\",\"2021-02-13T00:00:00\",\"2021-02-14T00:00:00\",\"2021-02-15T00:00:00\",\"2021-02-16T00:00:00\",\"2021-02-17T00:00:00\",\"2021-02-18T00:00:00\",\"2021-02-19T00:00:00\",\"2021-02-20T00:00:00\",\"2021-02-21T00:00:00\",\"2021-02-22T00:00:00\",\"2021-02-23T00:00:00\",\"2021-02-24T00:00:00\",\"2021-02-25T00:00:00\",\"2021-02-26T00:00:00\",\"2021-02-27T00:00:00\",\"2021-02-28T00:00:00\",\"2021-03-01T00:00:00\",\"2021-03-02T00:00:00\",\"2021-03-03T00:00:00\",\"2021-03-04T00:00:00\",\"2021-03-05T00:00:00\",\"2021-03-06T00:00:00\",\"2021-03-07T00:00:00\",\"2021-03-08T00:00:00\",\"2021-03-09T00:00:00\",\"2021-03-10T00:00:00\",\"2021-03-11T00:00:00\",\"2021-03-12T00:00:00\",\"2021-03-13T00:00:00\",\"2021-03-14T00:00:00\",\"2021-03-15T00:00:00\",\"2021-03-16T00:00:00\",\"2021-03-17T00:00:00\",\"2021-03-18T00:00:00\",\"2021-03-19T00:00:00\",\"2021-03-20T00:00:00\",\"2021-03-21T00:00:00\",\"2021-03-22T00:00:00\",\"2021-03-23T00:00:00\",\"2021-03-24T00:00:00\",\"2021-03-25T00:00:00\",\"2021-03-26T00:00:00\",\"2021-03-27T00:00:00\",\"2021-03-28T00:00:00\",\"2021-03-29T00:00:00\",\"2021-03-30T00:00:00\",\"2021-03-31T00:00:00\",\"2021-04-01T00:00:00\",\"2021-04-02T00:00:00\",\"2021-04-03T00:00:00\",\"2021-04-04T00:00:00\",\"2021-04-05T00:00:00\",\"2021-04-06T00:00:00\",\"2021-04-07T00:00:00\",\"2021-04-08T00:00:00\",\"2021-04-09T00:00:00\",\"2021-04-10T00:00:00\",\"2021-04-11T00:00:00\",\"2021-04-12T00:00:00\",\"2021-04-13T00:00:00\",\"2021-04-14T00:00:00\",\"2021-04-15T00:00:00\",\"2021-04-16T00:00:00\",\"2021-04-17T00:00:00\",\"2021-04-18T00:00:00\",\"2021-04-19T00:00:00\",\"2021-04-20T00:00:00\",\"2021-04-21T00:00:00\",\"2021-04-22T00:00:00\",\"2021-04-23T00:00:00\",\"2021-04-24T00:00:00\",\"2021-04-25T00:00:00\",\"2021-04-26T00:00:00\",\"2021-04-27T00:00:00\",\"2021-04-28T00:00:00\",\"2021-04-29T00:00:00\",\"2021-04-30T00:00:00\",\"2021-05-01T00:00:00\",\"2021-05-02T00:00:00\",\"2021-05-03T00:00:00\",\"2021-05-04T00:00:00\",\"2021-05-05T00:00:00\",\"2021-05-06T00:00:00\",\"2021-05-07T00:00:00\",\"2021-05-08T00:00:00\",\"2021-05-09T00:00:00\",\"2021-05-10T00:00:00\",\"2021-05-11T00:00:00\",\"2021-05-12T00:00:00\",\"2021-05-13T00:00:00\",\"2021-05-14T00:00:00\",\"2021-05-15T00:00:00\",\"2021-05-16T00:00:00\",\"2021-05-17T00:00:00\",\"2021-05-18T00:00:00\",\"2021-05-19T00:00:00\",\"2021-05-20T00:00:00\",\"2021-05-21T00:00:00\",\"2021-05-22T00:00:00\",\"2021-05-23T00:00:00\",\"2021-05-24T00:00:00\",\"2021-05-25T00:00:00\",\"2021-05-26T00:00:00\",\"2021-05-27T00:00:00\",\"2021-05-28T00:00:00\",\"2021-05-29T00:00:00\",\"2021-05-30T00:00:00\",\"2021-05-31T00:00:00\",\"2021-06-01T00:00:00\",\"2021-06-02T00:00:00\",\"2021-06-03T00:00:00\",\"2021-06-04T00:00:00\",\"2021-06-05T00:00:00\",\"2021-06-06T00:00:00\",\"2021-06-07T00:00:00\",\"2021-06-08T00:00:00\",\"2021-06-09T00:00:00\",\"2021-06-10T00:00:00\",\"2021-06-11T00:00:00\",\"2021-06-12T00:00:00\",\"2021-06-13T00:00:00\",\"2021-06-14T00:00:00\",\"2021-06-15T00:00:00\",\"2021-06-16T00:00:00\",\"2021-06-17T00:00:00\",\"2021-06-18T00:00:00\",\"2021-06-19T00:00:00\",\"2021-06-20T00:00:00\",\"2021-06-21T00:00:00\",\"2021-06-22T00:00:00\",\"2021-06-23T00:00:00\",\"2021-06-24T00:00:00\",\"2021-06-25T00:00:00\",\"2021-06-26T00:00:00\",\"2021-06-27T00:00:00\",\"2021-06-28T00:00:00\",\"2021-06-29T00:00:00\",\"2021-06-30T00:00:00\",\"2021-07-01T00:00:00\",\"2021-07-02T00:00:00\",\"2021-07-03T00:00:00\",\"2021-07-04T00:00:00\",\"2021-07-05T00:00:00\",\"2021-07-06T00:00:00\",\"2021-07-07T00:00:00\",\"2021-07-08T00:00:00\",\"2021-07-09T00:00:00\",\"2021-07-10T00:00:00\",\"2021-07-11T00:00:00\",\"2021-07-12T00:00:00\",\"2021-07-13T00:00:00\",\"2021-07-14T00:00:00\",\"2021-07-15T00:00:00\",\"2021-07-16T00:00:00\",\"2021-07-17T00:00:00\",\"2021-07-18T00:00:00\",\"2021-07-19T00:00:00\",\"2021-07-20T00:00:00\",\"2021-07-21T00:00:00\",\"2021-07-22T00:00:00\",\"2021-07-23T00:00:00\",\"2021-07-24T00:00:00\",\"2021-07-25T00:00:00\",\"2021-07-26T00:00:00\",\"2021-07-27T00:00:00\",\"2021-07-28T00:00:00\",\"2021-07-29T00:00:00\",\"2021-07-30T00:00:00\",\"2021-07-31T00:00:00\",\"2021-08-01T00:00:00\",\"2021-08-02T00:00:00\",\"2021-08-03T00:00:00\",\"2021-08-04T00:00:00\",\"2021-08-05T00:00:00\",\"2021-08-06T00:00:00\",\"2021-08-07T00:00:00\",\"2021-08-08T00:00:00\",\"2021-08-09T00:00:00\",\"2021-08-10T00:00:00\",\"2021-08-11T00:00:00\",\"2021-08-12T00:00:00\",\"2021-08-13T00:00:00\",\"2021-08-14T00:00:00\",\"2021-08-15T00:00:00\",\"2021-08-16T00:00:00\",\"2021-08-17T00:00:00\",\"2021-08-18T00:00:00\",\"2021-08-19T00:00:00\",\"2021-08-20T00:00:00\",\"2021-08-21T00:00:00\",\"2021-08-22T00:00:00\",\"2021-08-23T00:00:00\",\"2021-08-24T00:00:00\",\"2021-08-25T00:00:00\",\"2021-08-26T00:00:00\",\"2021-08-27T00:00:00\",\"2021-08-28T00:00:00\",\"2021-08-29T00:00:00\",\"2021-08-30T00:00:00\",\"2021-08-31T00:00:00\",\"2021-09-01T00:00:00\",\"2021-09-02T00:00:00\",\"2021-09-03T00:00:00\",\"2021-09-04T00:00:00\",\"2021-09-05T00:00:00\",\"2021-09-06T00:00:00\",\"2021-09-07T00:00:00\",\"2021-09-08T00:00:00\",\"2021-09-09T00:00:00\",\"2021-09-10T00:00:00\",\"2021-09-11T00:00:00\",\"2021-09-12T00:00:00\",\"2021-09-13T00:00:00\",\"2021-09-14T00:00:00\",\"2021-09-15T00:00:00\",\"2021-09-16T00:00:00\",\"2021-09-17T00:00:00\",\"2021-09-18T00:00:00\",\"2021-09-19T00:00:00\",\"2021-09-20T00:00:00\",\"2021-09-21T00:00:00\",\"2021-09-22T00:00:00\",\"2021-09-23T00:00:00\",\"2021-09-24T00:00:00\",\"2021-09-25T00:00:00\",\"2021-09-26T00:00:00\",\"2021-09-27T00:00:00\",\"2021-09-28T00:00:00\",\"2021-09-29T00:00:00\",\"2021-09-30T00:00:00\",\"2021-10-01T00:00:00\",\"2021-10-02T00:00:00\",\"2021-10-03T00:00:00\",\"2021-10-04T00:00:00\",\"2021-10-05T00:00:00\",\"2021-10-06T00:00:00\",\"2021-10-07T00:00:00\",\"2021-10-08T00:00:00\",\"2021-10-09T00:00:00\",\"2021-10-10T00:00:00\",\"2021-10-11T00:00:00\",\"2021-10-12T00:00:00\",\"2021-10-13T00:00:00\",\"2021-10-14T00:00:00\",\"2021-10-15T00:00:00\",\"2021-10-16T00:00:00\",\"2021-10-17T00:00:00\",\"2021-10-18T00:00:00\",\"2021-10-19T00:00:00\",\"2021-10-20T00:00:00\",\"2021-10-21T00:00:00\",\"2021-10-22T00:00:00\",\"2021-10-23T00:00:00\",\"2021-10-24T00:00:00\",\"2021-10-25T00:00:00\",\"2021-10-26T00:00:00\",\"2021-10-27T00:00:00\",\"2021-10-28T00:00:00\",\"2021-10-29T00:00:00\",\"2021-10-30T00:00:00\",\"2021-10-31T00:00:00\",\"2021-11-01T00:00:00\",\"2021-11-02T00:00:00\",\"2021-11-03T00:00:00\",\"2021-11-04T00:00:00\",\"2021-11-05T00:00:00\",\"2021-11-06T00:00:00\",\"2021-11-07T00:00:00\",\"2021-11-08T00:00:00\",\"2021-11-09T00:00:00\",\"2021-11-10T00:00:00\",\"2021-11-11T00:00:00\",\"2021-11-12T00:00:00\",\"2021-11-13T00:00:00\",\"2021-11-14T00:00:00\",\"2021-11-15T00:00:00\",\"2021-11-16T00:00:00\",\"2021-11-17T00:00:00\",\"2021-11-18T00:00:00\",\"2021-11-19T00:00:00\",\"2021-11-20T00:00:00\",\"2021-11-21T00:00:00\",\"2021-11-22T00:00:00\",\"2021-11-23T00:00:00\",\"2021-11-24T00:00:00\",\"2021-11-25T00:00:00\",\"2021-11-26T00:00:00\",\"2021-11-27T00:00:00\",\"2021-11-28T00:00:00\",\"2021-11-29T00:00:00\",\"2021-11-30T00:00:00\",\"2021-12-01T00:00:00\",\"2021-12-02T00:00:00\",\"2021-12-03T00:00:00\",\"2021-12-04T00:00:00\",\"2021-12-05T00:00:00\",\"2021-12-06T00:00:00\",\"2021-12-07T00:00:00\",\"2021-12-08T00:00:00\",\"2021-12-09T00:00:00\",\"2021-12-10T00:00:00\",\"2021-12-11T00:00:00\",\"2021-12-12T00:00:00\",\"2021-12-13T00:00:00\",\"2021-12-14T00:00:00\",\"2021-12-15T00:00:00\",\"2021-12-16T00:00:00\",\"2021-12-17T00:00:00\",\"2021-12-18T00:00:00\",\"2021-12-19T00:00:00\",\"2021-12-20T00:00:00\",\"2021-12-21T00:00:00\",\"2021-12-22T00:00:00\",\"2021-12-23T00:00:00\",\"2021-12-24T00:00:00\",\"2021-12-25T00:00:00\",\"2021-12-26T00:00:00\",\"2021-12-27T00:00:00\",\"2021-12-28T00:00:00\",\"2021-12-29T00:00:00\",\"2021-12-30T00:00:00\",\"2021-12-31T00:00:00\",\"2022-01-01T00:00:00\",\"2022-01-02T00:00:00\",\"2022-01-03T00:00:00\",\"2022-01-04T00:00:00\",\"2022-01-05T00:00:00\",\"2022-01-06T00:00:00\",\"2022-01-07T00:00:00\",\"2022-01-08T00:00:00\",\"2022-01-09T00:00:00\",\"2022-01-10T00:00:00\",\"2022-01-11T00:00:00\",\"2022-01-12T00:00:00\",\"2022-01-13T00:00:00\",\"2022-01-14T00:00:00\",\"2022-01-15T00:00:00\",\"2022-01-16T00:00:00\",\"2022-01-17T00:00:00\",\"2022-01-18T00:00:00\",\"2022-01-19T00:00:00\",\"2022-01-20T00:00:00\",\"2022-01-21T00:00:00\",\"2022-01-22T00:00:00\",\"2022-01-23T00:00:00\",\"2022-01-24T00:00:00\",\"2022-01-25T00:00:00\",\"2022-01-26T00:00:00\",\"2022-01-27T00:00:00\",\"2022-01-28T00:00:00\",\"2022-01-29T00:00:00\",\"2022-01-30T00:00:00\",\"2022-01-31T00:00:00\",\"2022-02-01T00:00:00\",\"2022-02-02T00:00:00\",\"2022-02-03T00:00:00\",\"2022-02-04T00:00:00\",\"2022-02-05T00:00:00\",\"2022-02-06T00:00:00\",\"2022-02-07T00:00:00\",\"2022-02-08T00:00:00\",\"2022-02-09T00:00:00\",\"2022-02-10T00:00:00\",\"2022-02-11T00:00:00\",\"2022-02-12T00:00:00\",\"2022-02-13T00:00:00\",\"2022-02-14T00:00:00\",\"2022-02-15T00:00:00\",\"2022-02-16T00:00:00\",\"2022-02-17T00:00:00\",\"2022-02-18T00:00:00\",\"2022-02-19T00:00:00\",\"2022-02-20T00:00:00\",\"2022-02-21T00:00:00\",\"2022-02-22T00:00:00\",\"2022-02-23T00:00:00\",\"2022-02-24T00:00:00\",\"2022-02-25T00:00:00\",\"2022-02-26T00:00:00\",\"2022-02-27T00:00:00\",\"2022-02-28T00:00:00\",\"2022-03-01T00:00:00\",\"2022-03-02T00:00:00\",\"2022-03-03T00:00:00\",\"2022-03-04T00:00:00\",\"2022-03-05T00:00:00\",\"2022-03-06T00:00:00\",\"2022-03-07T00:00:00\",\"2022-03-08T00:00:00\",\"2022-03-09T00:00:00\",\"2022-03-10T00:00:00\",\"2022-03-11T00:00:00\",\"2022-03-12T00:00:00\",\"2022-03-13T00:00:00\",\"2022-03-14T00:00:00\",\"2022-03-15T00:00:00\",\"2022-03-16T00:00:00\",\"2022-03-17T00:00:00\",\"2022-03-18T00:00:00\",\"2022-03-19T00:00:00\",\"2022-03-20T00:00:00\",\"2022-03-21T00:00:00\",\"2022-03-22T00:00:00\",\"2022-03-23T00:00:00\",\"2022-03-24T00:00:00\",\"2022-03-25T00:00:00\",\"2022-03-26T00:00:00\",\"2022-03-27T00:00:00\",\"2022-03-28T00:00:00\",\"2022-03-29T00:00:00\",\"2022-03-30T00:00:00\",\"2022-03-31T00:00:00\",\"2022-04-01T00:00:00\",\"2022-04-02T00:00:00\",\"2022-04-03T00:00:00\",\"2022-04-04T00:00:00\",\"2022-04-05T00:00:00\",\"2022-04-06T00:00:00\",\"2022-04-07T00:00:00\",\"2022-04-08T00:00:00\",\"2022-04-09T00:00:00\",\"2022-04-10T00:00:00\",\"2022-04-11T00:00:00\",\"2022-04-12T00:00:00\",\"2022-04-13T00:00:00\",\"2022-04-14T00:00:00\",\"2022-04-15T00:00:00\",\"2022-04-16T00:00:00\",\"2022-04-17T00:00:00\",\"2022-04-18T00:00:00\",\"2022-04-19T00:00:00\",\"2022-04-20T00:00:00\",\"2022-04-21T00:00:00\",\"2022-04-22T00:00:00\",\"2022-04-23T00:00:00\",\"2022-04-24T00:00:00\",\"2022-04-25T00:00:00\",\"2022-04-26T00:00:00\",\"2022-04-27T00:00:00\",\"2022-04-28T00:00:00\",\"2022-04-29T00:00:00\",\"2022-04-30T00:00:00\",\"2022-05-01T00:00:00\",\"2022-05-02T00:00:00\",\"2022-05-03T00:00:00\",\"2022-05-04T00:00:00\",\"2022-05-05T00:00:00\",\"2022-05-06T00:00:00\",\"2022-05-07T00:00:00\",\"2022-05-08T00:00:00\",\"2022-05-09T00:00:00\",\"2022-05-10T00:00:00\",\"2022-05-11T00:00:00\",\"2022-05-12T00:00:00\",\"2022-05-13T00:00:00\",\"2022-05-14T00:00:00\",\"2022-05-15T00:00:00\",\"2022-05-16T00:00:00\",\"2022-05-17T00:00:00\",\"2022-05-18T00:00:00\",\"2022-05-19T00:00:00\",\"2022-05-20T00:00:00\",\"2022-05-21T00:00:00\",\"2022-05-22T00:00:00\",\"2022-05-23T00:00:00\",\"2022-05-24T00:00:00\",\"2022-05-25T00:00:00\",\"2022-05-26T00:00:00\",\"2022-05-27T00:00:00\",\"2022-05-28T00:00:00\",\"2022-05-29T00:00:00\",\"2022-05-30T00:00:00\",\"2022-05-31T00:00:00\",\"2022-06-01T00:00:00\",\"2022-06-02T00:00:00\",\"2022-06-03T00:00:00\",\"2022-06-04T00:00:00\",\"2022-06-05T00:00:00\",\"2022-06-06T00:00:00\",\"2022-06-07T00:00:00\",\"2022-06-08T00:00:00\",\"2022-06-09T00:00:00\",\"2022-06-10T00:00:00\",\"2022-06-11T00:00:00\",\"2022-06-12T00:00:00\",\"2022-06-13T00:00:00\",\"2022-06-14T00:00:00\",\"2022-06-15T00:00:00\",\"2022-06-16T00:00:00\",\"2022-06-17T00:00:00\",\"2022-06-18T00:00:00\",\"2022-06-19T00:00:00\",\"2022-06-20T00:00:00\",\"2022-06-21T00:00:00\",\"2022-06-22T00:00:00\",\"2022-06-23T00:00:00\",\"2022-06-24T00:00:00\",\"2022-06-25T00:00:00\",\"2022-06-26T00:00:00\",\"2022-06-27T00:00:00\",\"2022-06-28T00:00:00\",\"2022-06-29T00:00:00\",\"2022-06-30T00:00:00\",\"2022-07-01T00:00:00\",\"2022-07-02T00:00:00\",\"2022-07-03T00:00:00\",\"2022-07-04T00:00:00\",\"2022-07-05T00:00:00\",\"2022-07-06T00:00:00\",\"2022-07-07T00:00:00\",\"2022-07-08T00:00:00\",\"2022-07-09T00:00:00\",\"2022-07-10T00:00:00\",\"2022-07-11T00:00:00\",\"2022-07-12T00:00:00\",\"2022-07-13T00:00:00\",\"2022-07-14T00:00:00\",\"2022-07-15T00:00:00\",\"2022-07-16T00:00:00\",\"2022-07-17T00:00:00\",\"2022-07-18T00:00:00\",\"2022-07-19T00:00:00\",\"2022-07-20T00:00:00\",\"2022-07-21T00:00:00\",\"2022-07-22T00:00:00\",\"2022-07-23T00:00:00\",\"2022-07-24T00:00:00\",\"2022-07-25T00:00:00\",\"2022-07-26T00:00:00\",\"2022-07-27T00:00:00\",\"2022-07-28T00:00:00\",\"2022-07-29T00:00:00\",\"2022-07-30T00:00:00\",\"2022-07-31T00:00:00\",\"2022-08-01T00:00:00\",\"2022-08-02T00:00:00\",\"2022-08-03T00:00:00\",\"2022-08-04T00:00:00\",\"2022-08-05T00:00:00\",\"2022-08-06T00:00:00\",\"2022-08-07T00:00:00\",\"2022-08-08T00:00:00\",\"2022-08-09T00:00:00\",\"2022-08-10T00:00:00\",\"2022-08-11T00:00:00\",\"2022-08-12T00:00:00\",\"2022-08-13T00:00:00\",\"2022-08-14T00:00:00\",\"2022-08-15T00:00:00\",\"2022-08-16T00:00:00\",\"2022-08-17T00:00:00\",\"2022-08-18T00:00:00\",\"2022-08-19T00:00:00\",\"2022-08-20T00:00:00\",\"2022-08-21T00:00:00\",\"2022-08-22T00:00:00\",\"2022-08-23T00:00:00\",\"2022-08-24T00:00:00\",\"2022-08-25T00:00:00\",\"2022-08-26T00:00:00\",\"2022-08-27T00:00:00\",\"2022-08-28T00:00:00\",\"2022-08-29T00:00:00\",\"2022-08-30T00:00:00\",\"2022-08-31T00:00:00\",\"2022-09-01T00:00:00\",\"2022-09-02T00:00:00\",\"2022-09-03T00:00:00\",\"2022-09-04T00:00:00\",\"2022-09-05T00:00:00\",\"2022-09-06T00:00:00\",\"2022-09-07T00:00:00\",\"2022-09-08T00:00:00\",\"2022-09-09T00:00:00\",\"2022-09-10T00:00:00\",\"2022-09-11T00:00:00\",\"2022-09-12T00:00:00\",\"2022-09-13T00:00:00\",\"2022-09-14T00:00:00\",\"2022-09-15T00:00:00\",\"2022-09-16T00:00:00\",\"2022-09-17T00:00:00\",\"2022-09-18T00:00:00\",\"2022-09-19T00:00:00\",\"2022-09-20T00:00:00\",\"2022-09-21T00:00:00\",\"2022-09-22T00:00:00\",\"2022-09-23T00:00:00\",\"2022-09-24T00:00:00\",\"2022-09-25T00:00:00\",\"2022-09-26T00:00:00\",\"2022-09-27T00:00:00\",\"2022-09-28T00:00:00\",\"2022-09-29T00:00:00\",\"2022-09-30T00:00:00\",\"2022-10-01T00:00:00\",\"2022-10-02T00:00:00\",\"2022-10-03T00:00:00\",\"2022-10-04T00:00:00\",\"2022-10-05T00:00:00\",\"2022-10-06T00:00:00\",\"2022-10-07T00:00:00\",\"2022-10-08T00:00:00\",\"2022-10-09T00:00:00\",\"2022-10-10T00:00:00\",\"2022-10-11T00:00:00\",\"2022-10-12T00:00:00\",\"2022-10-13T00:00:00\",\"2022-10-14T00:00:00\",\"2022-10-15T00:00:00\",\"2022-10-16T00:00:00\",\"2022-10-17T00:00:00\",\"2022-10-18T00:00:00\",\"2022-10-19T00:00:00\",\"2022-10-20T00:00:00\",\"2022-10-21T00:00:00\",\"2022-10-22T00:00:00\",\"2022-10-23T00:00:00\",\"2022-10-24T00:00:00\",\"2022-10-25T00:00:00\",\"2022-10-26T00:00:00\",\"2022-10-27T00:00:00\",\"2022-10-28T00:00:00\",\"2022-10-29T00:00:00\",\"2022-10-30T00:00:00\",\"2022-10-31T00:00:00\",\"2022-11-01T00:00:00\",\"2022-11-02T00:00:00\",\"2022-11-03T00:00:00\",\"2022-11-04T00:00:00\",\"2022-11-05T00:00:00\",\"2022-11-06T00:00:00\",\"2022-11-07T00:00:00\",\"2022-11-08T00:00:00\",\"2022-11-09T00:00:00\",\"2022-11-10T00:00:00\",\"2022-11-11T00:00:00\",\"2022-11-12T00:00:00\",\"2022-11-13T00:00:00\",\"2022-11-14T00:00:00\",\"2022-11-15T00:00:00\",\"2022-11-16T00:00:00\",\"2022-11-17T00:00:00\",\"2022-11-18T00:00:00\",\"2022-11-19T00:00:00\",\"2022-11-20T00:00:00\",\"2022-11-21T00:00:00\",\"2022-11-22T00:00:00\",\"2022-11-23T00:00:00\",\"2022-11-24T00:00:00\",\"2022-11-25T00:00:00\",\"2022-11-26T00:00:00\",\"2022-11-27T00:00:00\",\"2022-11-28T00:00:00\",\"2022-11-29T00:00:00\",\"2022-11-30T00:00:00\",\"2022-12-01T00:00:00\",\"2022-12-02T00:00:00\",\"2022-12-03T00:00:00\",\"2022-12-04T00:00:00\",\"2022-12-05T00:00:00\",\"2022-12-06T00:00:00\",\"2022-12-07T00:00:00\",\"2022-12-08T00:00:00\",\"2022-12-09T00:00:00\",\"2022-12-10T00:00:00\",\"2022-12-11T00:00:00\",\"2022-12-12T00:00:00\",\"2022-12-13T00:00:00\",\"2022-12-14T00:00:00\",\"2022-12-15T00:00:00\",\"2022-12-16T00:00:00\",\"2022-12-17T00:00:00\",\"2022-12-18T00:00:00\",\"2022-12-19T00:00:00\",\"2022-12-20T00:00:00\",\"2022-12-21T00:00:00\",\"2022-12-22T00:00:00\",\"2022-12-23T00:00:00\",\"2022-12-24T00:00:00\",\"2022-12-25T00:00:00\",\"2022-12-26T00:00:00\",\"2022-12-27T00:00:00\",\"2022-12-28T00:00:00\",\"2022-12-29T00:00:00\",\"2022-12-30T00:00:00\",\"2022-12-31T00:00:00\"],\"y\":[58.74134625,58.70621396042537,58.668658753719185,58.632315004436315,58.594759797434996,58.55841604906441,58.52086084347047,58.48330563702979,58.446961888610964,58.409406681277694,58.3730629322455,58.335507724912226,58.334296266611155,58.33308480831008,58.33187335000901,58.33066189170793,58.32945043340686,58.32823897510579,58.32702751680471,58.32581605850365,58.32460460020257,58.32339314196842,58.32218168470482,58.32097022701845,58.31975877010511,58.31854731333455,58.31733585660274,58.31612439975893,58.314912942989594,58.31370148720094,58.31249003053668,58.31127857412833,58.31006711758824,58.308855660731815,58.307644204703486,58.30643274830364,58.305221291753185,58.304009835704306,58.302798379653865,58.30158692326301,58.30037546722523,58.29916401166223,58.29795255458606,58.296741098276854,58.29552964328114,58.29431818813578,58.29310673205355,58.29189527585511,58.290683820619726,58.28947236486987,58.28826090838439,58.28704945236109,58.285837998952985,58.2846265438227,58.28341508734936,58.282203632482684,58.28099217816597,58.27978072178518,58.2785692654044,58.277357811135126,58.27614635699899,58.27493490126311,58.273723446231855,58.272511992198304,58.27130053666728,58.27008908261263,58.26887762758141,58.26766617335655,58.26645471996342,58.265243265828275,58.26403181133422,58.26282035692349,58.2616089056877,58.26039744985686,58.25918599409844,58.257974539623596,58.25676308534353,58.25555163087054,58.25434017639755,58.253128721248615,58.251917265769,58.25070581152041,58.24949435813085,58.248282904112294,58.24707145020956,58.24585999495459,58.24464853944135,58.24343708505504,58.242225630291244,58.24101417552744,58.239802720845155,58.238591267226866,58.237379812596785,58.23616836102849,58.23495690672715,58.2337454532987,58.232534001016504,58.23132254561236,58.230111089869304,58.22889963781797,58.22768818292863,58.226476732357185,58.22526528196099,58.22405382888136,58.22284237466811,58.221630921139294,58.220419465846405,58.21920801592682,58.217996564349356,58.2167851125708,58.21557365787892,58.21436220457015,58.21315075007741,58.21193929686053,58.21072784352119,58.209516390004694,58.20830493537236,58.20709348064291,58.2058820259916,58.2046705716283,58.20345911858607,58.20224766502106,58.2010362147559,58.19982476015842,58.198613304387244,58.19740184994184,58.196190398160454,58.19497894616376,58.193767496286135,58.19255604247537,58.19134458829556,58.19013313722011,58.18892168548811,58.18771023232528,58.18649877920614,58.185287326190355,58.184075873091096,58.18286441999185,58.18165296689259,58.1804415201025,58.179230069906744,58.17801861713206,58.17680716355017,58.17559570996828,58.17438425638639,58.17317280328376,58.171961354255465,58.170749903853626,58.16953845178397,58.168326999425645,58.16711554639487,58.165904094033834,58.16469264180381,58.16348118957381,58.16226973722115,58.16105828471962,58.15984683285521,58.15863538111099,58.15742392936678,58.15621247740839,58.15500102284024,58.15378956971044,58.15257811970602,58.151366666831876,58.15015521244033,58.148943759988704,58.147732310393906,58.14652086072154,58.14530941139658,58.14409796187834,58.14288651273532,58.14167506203208,58.14046361235971,58.13925216268734,58.138040710366596,58.136829256000496,58.13561780143826,58.13440634916262,58.13319489737085,58.13198344557908,58.13077199431165,58.129560542902325,58.12834909326726,58.1271376389724,58.12592618730898,58.12471473619373,58.12350328507849,58.122291833550186,58.12108038156499,58.11986892957979,58.118657477097315,58.11744602605107,58.11623457244049,58.115023121559155,58.113811670677826,58.11260021963507,58.11138876810748,58.110177316579886,58.10896586339246,58.10775440593446,58.1065429567435,58.10533150755255,58.10412005835688,58.102908607017106,58.10169715854995,58.100485710153684,58.09927426117687,58.09806280744962,58.096851351971104,58.095639897653214,58.09442844880582,58.09321699836365,58.092005547189245,58.09079409897885,58.08958264750773,58.08837119766699,58.08715974782623,58.08594829791291,58.08473684712315,58.083525392791486,58.08231394386059,58.0811024942281,58.07989104138646,58.07867958835708,58.07746813893052,58.07625669339346,58.07504524731325,58.07383379636657,58.072622344607865,58.07141089284916,58.07019944109045,58.068987989325166,58.067776537330374,58.06656508533558,58.06535363503626,58.064142188484155,58.062930736868054,58.06171928477204,58.06050783586481,58.059296387795726,58.058084939726626,58.05687349288593,58.0556620478982,58.05445059839063,58.05323914889984,58.05202770048189,58.05081625097683,58.04960480021911,58.04839334946138,58.04718189971279,58.04597045283897,58.04475900564952,58.04354755738533,58.04233610591809,58.04112465445084,58.03991320298359,58.03870175151634,58.03749030041083,58.036278850217414,58.03506739985842,58.03385594904938,58.032644499541995,58.031433049443706,58.03022159925029,58.029010149056866,58.027798703891655,58.0265872517239,58.02537579932999,58.0241643485321,58.02295289907368,58.02174144961956,58.02052999874541,58.01931855129298,58.018107102134536,58.01689565321471,58.015684204677456,58.01447275614021,58.01326130760295,58.01204985857812,58.01083840915328,58.0096269596349,58.008415509980985,58.007204060327076,58.00599261067317,58.00478115775699,58.003569704111804,58.00235825046661,58.00114679977326,57.99993534786389,57.99872389515563,57.997512449200286,57.9963010047109,57.995089560937416,57.99387811070388,57.99266666255919,57.99145521677258,57.990243764297475,57.989032304727886,57.987820851725246,57.98660940183541,57.98539795153053,57.984186501218566,57.9829750509066,57.981763600594654,57.9805521502827,57.979340704231724,57.97812925161712,57.976917800918656,57.97570635008447,57.97449490079121,57.9732834516396,57.972072002488,57.97086055320829,57.96964910578043,57.968437658043726,57.96722621430387,57.966014769512974,57.96480332646568,57.96359188267603,57.962380438626404,57.96116899469236,57.9599575504589,57.958746101875505,57.95753464550754,57.956323195793146,57.955111746078735,57.953900292400995,57.952688838227715,57.95147738371993,57.95026592912399,57.949054476670796,57.94784302754908,57.94663157842735,57.94542012839535,57.9442086754851,57.942997224802305,57.94178577903107,57.94057433093666,57.93936288620851,57.93815143990823,57.93693999519084,57.935728547624095,57.93451709726472,57.93330565090999,57.93209420193682,57.93088274995485,57.92967129866953,57.92845985032692,57.927248401984315,57.926036953447216,57.924825504487096,57.923614055526976,57.922402606566855,57.92119115760673,57.919979708646615,57.918768259686495,57.917556810726374,57.9163453593901,57.915133902775935,57.91392244616176,57.9127109895476,57.911499545462895,57.910288102102044,57.90907665131225,57.907865200522444,57.90665374934242,57.905442297886644,57.90423084643088,57.903019394975104,57.90180794905295,57.90059651371225,57.899385065960466,57.89817361045868,57.896962154956896,57.89575069945512,57.89453924395333,57.89332779219291,57.89211634447752,57.89090489676212,57.88969344904673,57.88848199637254,57.88727054409087,57.886059098874426,57.88484765350131,57.883636201016024,57.882424743259286,57.881213290856415,57.88000184150094,57.87879039194225,57.87757894363408,57.876367495629204,57.87515604762434,57.87394459961946,57.8727331516146,57.87152170360972,57.870310260681904,57.86909881918821,57.86788737364932,57.866675934402316,57.865464479137685,57.864253022604004,57.863041566428116,57.861830121216656,57.860618680576835,57.859407240023906,57.858195797376126,57.85698434660794,57.85577289751628,57.854561452283285,57.85335000705028,57.85213856003387,57.85092711597997,57.84971566298598,57.84850420863138,57.84729276541259,57.84608132022914,57.84486987117917,57.84365842212921,57.84244697307925,57.84123552402928,57.84002407408054,57.83881262361468,57.83760117314882,57.83638972291963,57.83517827306486,57.83396682235706,57.832755372646105,57.83154392455269,57.83033247681751,57.82912102813704,57.82790957945655,57.82669813077607,57.8254866820956,57.82427523301742,57.82306378349217,57.82185233396692,57.82064089094641,57.81942943866589,57.81821798664923,57.81700653732371,57.81579508799818,57.81458363867266,57.81337218934714,57.812160740021625,57.81094928891862,57.809737837787935,57.80852638665725,57.80731493552657,57.80610348439589,57.80489203325891,57.80368058209094,57.80246913073091,57.80125767965882,57.80004622971852,57.798834779778204,57.79762332983788,57.79641187989758,57.79520042995727,57.793988980016955,57.79277753007665,57.79156608013633,57.79035463019602,57.789143179284,57.787931731249415,57.786720282648744,57.785508833575385,57.784297386177364,57.78308594482519,57.78187450347302,57.7806630594771,57.77945161105089,57.778240162624684,57.77702871419847,57.77581726693337,57.774605822415886,57.77339437789839,57.77218293338091,57.770971488863424,57.76976004434593,57.76854859982844,57.767337155310955,57.76612571079347,57.76491426627598,57.76370282854018,57.76249139151188,57.761279954483584,57.76006851745529,57.75885708042699,57.75764564339514,57.75643420551718,57.75522276763922,57.754011329518626,57.75279989065008,57.75158843813089,57.75037698497236,57.74916553181383,57.7479540786553,57.74674262549677,57.74553117158229,57.74431972075225,57.74310827168486,57.741896811105974,57.74068536248737,57.73947391779361,57.73826247309986,57.73705102792593,57.735839582558775,57.73462813719162,57.73341669182447,57.73220525219242,57.73099381342561,57.729782368153806,57.72857091929823,57.72735946994301,57.72614802286766,57.72493657965206,57.72372513501768,57.72251368621979,57.72130224039039,57.72009079552565,57.7188793506609,57.71766790579615,57.7164564609314,57.71524501606663,57.714033570236886,57.7128221257524,57.711610672679704,57.7103992126918,57.70918775284757,57.70797629711281,57.706764841698536,57.705553392329094,57.70434194295965,57.70313049359021,57.70191904622254,57.70070760295988,57.69949615969723,57.69828471317044,57.69707326124036,57.69586180930788,57.69465035654115,57.6934389071633,57.6922274713778,57.69101603086745,57.68980458196169,57.688593132994484,57.68738168398552,57.68617023616224,57.68495879272497,57.6837473492877,57.68253590585042,57.68132446241315,57.680113018975874,57.6789015755386,57.67769013210133,57.676478688664055,57.675267245226784,57.674055801789514,57.672844358352236,57.67163291491496,57.67042147086923,57.66921002606365,57.66799858125808,57.66678713645252,57.66557569164694,57.66436424684137,57.6631528020358,57.661941350448096,57.660729900731496,57.65951845147393,57.65830700945268,57.65709556743141,57.6558841250298,57.65467268234552,57.65346123701768,57.652249780938966,57.651038324860245,57.649826868781524,57.64861541886874,57.647403976390706,57.646192533912675,57.644981091434644,57.64376964895661,57.642558206478576,57.641346764000545,57.64013532227243,57.6389238815878,57.637712439722726,57.63650099741993,57.63528955511715,57.63407810928779,57.63286666212549,57.63165521496318,57.630443767800884,57.62923232531547,57.62802088752696,57.62680944971399,57.62559800653853,57.62438656002838,57.623175112979986,57.62196366586362,57.62075221874724,57.619540771630874,57.618329324514505,57.61711787739814,57.61590643072309,57.61469498448053,57.613483538361486,57.61227209165017,57.611060644812355,57.60984919797453,57.60863775113671,57.6074263042989,57.606214857461076,57.60500341062326,57.60379196378543,57.60258051694761,57.6013690701098,57.60015762327197,57.598946176434154,57.59773472959634,57.59652328275851,57.5953118359207,57.594100389082875,57.59288894224506,57.59167749540723,57.59046604856941,57.5892546017316,57.58804315489377,57.58683170805595,57.58562026093315,57.58440881320637,57.583197365479606,57.58198591775284,57.580774470026064,57.5795630248566,57.57835157556367,57.57714012907585,57.57592868258803,57.5747172361002,57.57350578961238,57.57229434303759,57.57108289557383,57.56987144811007,57.56866000345907,57.567448559551295,57.56623711564353,57.56502567173388,57.563814227752445,57.56260278377101,57.561391339740055,57.560179903001085,57.558968468826926,57.55775703465277,57.55654560048082,57.55533415877884,57.554122713703734,57.55291127203599,57.55169984329138,57.550488402128074,57.54927695905407,57.548065515582145,57.54685407211022,57.54564262863829,57.54443118516637,57.543219741694436,57.54200829660062,57.54079684987044,57.539585403140244,57.53837395636916,57.53716250839486,57.53595105810088,57.53473960518241,57.53352816663065,57.53231672062054,57.531105274414266,57.52989382678521,57.52868237915617,57.52747093152713,57.52625948641346,57.5250480408822,57.52383659955013,57.52262515821806,57.521413716885995,57.520202274771265,57.5189908257321,57.51777937055693,57.51656791538178,57.515356464217,57.51414501763838,57.512933571051676,57.511722124292554,57.510510677533446,57.50929923077433,57.50808778401522,57.5068763372561,57.50566488935914,57.50445344155564,57.50324199413822,57.50203054672081,57.50081909930339,57.499607651885974,57.49839620446856,57.497184757051144,57.495973307271655,57.49476185243061,57.493550401333025,57.4923389597712,57.49112752373767,57.48991607751272,57.48870463123893,57.487493185136195,57.48628173903344,57.48507029293069,57.48385884682794,57.4826474007252,57.48143595462244,57.480224508519704,57.479013066341835,57.47780163123838,57.47659019692256,57.47537876260673,57.47416732829092,57.472955893563594,57.471744452236045,57.470533006217,57.46932155922362,57.46811011223025,57.46689866523686,57.46568721824348,57.4644757712501,57.463264326243056,57.462052880380476,57.46084143246013,57.45962998525457,57.45841853900627,57.45720709275796,57.45599564650965,57.454784200261344,57.45357275401303,57.45236130759321,57.451149860858514],\"type\":\"scatter\",\"xaxis\":\"x\",\"yaxis\":\"y\"},{\"fill\":\"tonexty\",\"fillcolor\":\"rgba(0, 114, 178, 0.2)\",\"line\":{\"color\":\"rgba(0, 114, 178, 0.2)\",\"width\":0},\"mode\":\"lines\",\"name\":\"trend_lower\",\"x\":[\"2020-01-31T00:00:00\",\"2020-02-29T00:00:00\",\"2020-03-31T00:00:00\",\"2020-04-30T00:00:00\",\"2020-05-31T00:00:00\",\"2020-06-30T00:00:00\",\"2020-07-31T00:00:00\",\"2020-08-31T00:00:00\",\"2020-09-30T00:00:00\",\"2020-10-31T00:00:00\",\"2020-11-30T00:00:00\",\"2020-12-31T00:00:00\",\"2021-01-01T00:00:00\",\"2021-01-02T00:00:00\",\"2021-01-03T00:00:00\",\"2021-01-04T00:00:00\",\"2021-01-05T00:00:00\",\"2021-01-06T00:00:00\",\"2021-01-07T00:00:00\",\"2021-01-08T00:00:00\",\"2021-01-09T00:00:00\",\"2021-01-10T00:00:00\",\"2021-01-11T00:00:00\",\"2021-01-12T00:00:00\",\"2021-01-13T00:00:00\",\"2021-01-14T00:00:00\",\"2021-01-15T00:00:00\",\"2021-01-16T00:00:00\",\"2021-01-17T00:00:00\",\"2021-01-18T00:00:00\",\"2021-01-19T00:00:00\",\"2021-01-20T00:00:00\",\"2021-01-21T00:00:00\",\"2021-01-22T00:00:00\",\"2021-01-23T00:00:00\",\"2021-01-24T00:00:00\",\"2021-01-25T00:00:00\",\"2021-01-26T00:00:00\",\"2021-01-27T00:00:00\",\"2021-01-28T00:00:00\",\"2021-01-29T00:00:00\",\"2021-01-30T00:00:00\",\"2021-01-31T00:00:00\",\"2021-02-01T00:00:00\",\"2021-02-02T00:00:00\",\"2021-02-03T00:00:00\",\"2021-02-04T00:00:00\",\"2021-02-05T00:00:00\",\"2021-02-06T00:00:00\",\"2021-02-07T00:00:00\",\"2021-02-08T00:00:00\",\"2021-02-09T00:00:00\",\"2021-02-10T00:00:00\",\"2021-02-11T00:00:00\",\"2021-02-12T00:00:00\",\"2021-02-13T00:00:00\",\"2021-02-14T00:00:00\",\"2021-02-15T00:00:00\",\"2021-02-16T00:00:00\",\"2021-02-17T00:00:00\",\"2021-02-18T00:00:00\",\"2021-02-19T00:00:00\",\"2021-02-20T00:00:00\",\"2021-02-21T00:00:00\",\"2021-02-22T00:00:00\",\"2021-02-23T00:00:00\",\"2021-02-24T00:00:00\",\"2021-02-25T00:00:00\",\"2021-02-26T00:00:00\",\"2021-02-27T00:00:00\",\"2021-02-28T00:00:00\",\"2021-03-01T00:00:00\",\"2021-03-02T00:00:00\",\"2021-03-03T00:00:00\",\"2021-03-04T00:00:00\",\"2021-03-05T00:00:00\",\"2021-03-06T00:00:00\",\"2021-03-07T00:00:00\",\"2021-03-08T00:00:00\",\"2021-03-09T00:00:00\",\"2021-03-10T00:00:00\",\"2021-03-11T00:00:00\",\"2021-03-12T00:00:00\",\"2021-03-13T00:00:00\",\"2021-03-14T00:00:00\",\"2021-03-15T00:00:00\",\"2021-03-16T00:00:00\",\"2021-03-17T00:00:00\",\"2021-03-18T00:00:00\",\"2021-03-19T00:00:00\",\"2021-03-20T00:00:00\",\"2021-03-21T00:00:00\",\"2021-03-22T00:00:00\",\"2021-03-23T00:00:00\",\"2021-03-24T00:00:00\",\"2021-03-25T00:00:00\",\"2021-03-26T00:00:00\",\"2021-03-27T00:00:00\",\"2021-03-28T00:00:00\",\"2021-03-29T00:00:00\",\"2021-03-30T00:00:00\",\"2021-03-31T00:00:00\",\"2021-04-01T00:00:00\",\"2021-04-02T00:00:00\",\"2021-04-03T00:00:00\",\"2021-04-04T00:00:00\",\"2021-04-05T00:00:00\",\"2021-04-06T00:00:00\",\"2021-04-07T00:00:00\",\"2021-04-08T00:00:00\",\"2021-04-09T00:00:00\",\"2021-04-10T00:00:00\",\"2021-04-11T00:00:00\",\"2021-04-12T00:00:00\",\"2021-04-13T00:00:00\",\"2021-04-14T00:00:00\",\"2021-04-15T00:00:00\",\"2021-04-16T00:00:00\",\"2021-04-17T00:00:00\",\"2021-04-18T00:00:00\",\"2021-04-19T00:00:00\",\"2021-04-20T00:00:00\",\"2021-04-21T00:00:00\",\"2021-04-22T00:00:00\",\"2021-04-23T00:00:00\",\"2021-04-24T00:00:00\",\"2021-04-25T00:00:00\",\"2021-04-26T00:00:00\",\"2021-04-27T00:00:00\",\"2021-04-28T00:00:00\",\"2021-04-29T00:00:00\",\"2021-04-30T00:00:00\",\"2021-05-01T00:00:00\",\"2021-05-02T00:00:00\",\"2021-05-03T00:00:00\",\"2021-05-04T00:00:00\",\"2021-05-05T00:00:00\",\"2021-05-06T00:00:00\",\"2021-05-07T00:00:00\",\"2021-05-08T00:00:00\",\"2021-05-09T00:00:00\",\"2021-05-10T00:00:00\",\"2021-05-11T00:00:00\",\"2021-05-12T00:00:00\",\"2021-05-13T00:00:00\",\"2021-05-14T00:00:00\",\"2021-05-15T00:00:00\",\"2021-05-16T00:00:00\",\"2021-05-17T00:00:00\",\"2021-05-18T00:00:00\",\"2021-05-19T00:00:00\",\"2021-05-20T00:00:00\",\"2021-05-21T00:00:00\",\"2021-05-22T00:00:00\",\"2021-05-23T00:00:00\",\"2021-05-24T00:00:00\",\"2021-05-25T00:00:00\",\"2021-05-26T00:00:00\",\"2021-05-27T00:00:00\",\"2021-05-28T00:00:00\",\"2021-05-29T00:00:00\",\"2021-05-30T00:00:00\",\"2021-05-31T00:00:00\",\"2021-06-01T00:00:00\",\"2021-06-02T00:00:00\",\"2021-06-03T00:00:00\",\"2021-06-04T00:00:00\",\"2021-06-05T00:00:00\",\"2021-06-06T00:00:00\",\"2021-06-07T00:00:00\",\"2021-06-08T00:00:00\",\"2021-06-09T00:00:00\",\"2021-06-10T00:00:00\",\"2021-06-11T00:00:00\",\"2021-06-12T00:00:00\",\"2021-06-13T00:00:00\",\"2021-06-14T00:00:00\",\"2021-06-15T00:00:00\",\"2021-06-16T00:00:00\",\"2021-06-17T00:00:00\",\"2021-06-18T00:00:00\",\"2021-06-19T00:00:00\",\"2021-06-20T00:00:00\",\"2021-06-21T00:00:00\",\"2021-06-22T00:00:00\",\"2021-06-23T00:00:00\",\"2021-06-24T00:00:00\",\"2021-06-25T00:00:00\",\"2021-06-26T00:00:00\",\"2021-06-27T00:00:00\",\"2021-06-28T00:00:00\",\"2021-06-29T00:00:00\",\"2021-06-30T00:00:00\",\"2021-07-01T00:00:00\",\"2021-07-02T00:00:00\",\"2021-07-03T00:00:00\",\"2021-07-04T00:00:00\",\"2021-07-05T00:00:00\",\"2021-07-06T00:00:00\",\"2021-07-07T00:00:00\",\"2021-07-08T00:00:00\",\"2021-07-09T00:00:00\",\"2021-07-10T00:00:00\",\"2021-07-11T00:00:00\",\"2021-07-12T00:00:00\",\"2021-07-13T00:00:00\",\"2021-07-14T00:00:00\",\"2021-07-15T00:00:00\",\"2021-07-16T00:00:00\",\"2021-07-17T00:00:00\",\"2021-07-18T00:00:00\",\"2021-07-19T00:00:00\",\"2021-07-20T00:00:00\",\"2021-07-21T00:00:00\",\"2021-07-22T00:00:00\",\"2021-07-23T00:00:00\",\"2021-07-24T00:00:00\",\"2021-07-25T00:00:00\",\"2021-07-26T00:00:00\",\"2021-07-27T00:00:00\",\"2021-07-28T00:00:00\",\"2021-07-29T00:00:00\",\"2021-07-30T00:00:00\",\"2021-07-31T00:00:00\",\"2021-08-01T00:00:00\",\"2021-08-02T00:00:00\",\"2021-08-03T00:00:00\",\"2021-08-04T00:00:00\",\"2021-08-05T00:00:00\",\"2021-08-06T00:00:00\",\"2021-08-07T00:00:00\",\"2021-08-08T00:00:00\",\"2021-08-09T00:00:00\",\"2021-08-10T00:00:00\",\"2021-08-11T00:00:00\",\"2021-08-12T00:00:00\",\"2021-08-13T00:00:00\",\"2021-08-14T00:00:00\",\"2021-08-15T00:00:00\",\"2021-08-16T00:00:00\",\"2021-08-17T00:00:00\",\"2021-08-18T00:00:00\",\"2021-08-19T00:00:00\",\"2021-08-20T00:00:00\",\"2021-08-21T00:00:00\",\"2021-08-22T00:00:00\",\"2021-08-23T00:00:00\",\"2021-08-24T00:00:00\",\"2021-08-25T00:00:00\",\"2021-08-26T00:00:00\",\"2021-08-27T00:00:00\",\"2021-08-28T00:00:00\",\"2021-08-29T00:00:00\",\"2021-08-30T00:00:00\",\"2021-08-31T00:00:00\",\"2021-09-01T00:00:00\",\"2021-09-02T00:00:00\",\"2021-09-03T00:00:00\",\"2021-09-04T00:00:00\",\"2021-09-05T00:00:00\",\"2021-09-06T00:00:00\",\"2021-09-07T00:00:00\",\"2021-09-08T00:00:00\",\"2021-09-09T00:00:00\",\"2021-09-10T00:00:00\",\"2021-09-11T00:00:00\",\"2021-09-12T00:00:00\",\"2021-09-13T00:00:00\",\"2021-09-14T00:00:00\",\"2021-09-15T00:00:00\",\"2021-09-16T00:00:00\",\"2021-09-17T00:00:00\",\"2021-09-18T00:00:00\",\"2021-09-19T00:00:00\",\"2021-09-20T00:00:00\",\"2021-09-21T00:00:00\",\"2021-09-22T00:00:00\",\"2021-09-23T00:00:00\",\"2021-09-24T00:00:00\",\"2021-09-25T00:00:00\",\"2021-09-26T00:00:00\",\"2021-09-27T00:00:00\",\"2021-09-28T00:00:00\",\"2021-09-29T00:00:00\",\"2021-09-30T00:00:00\",\"2021-10-01T00:00:00\",\"2021-10-02T00:00:00\",\"2021-10-03T00:00:00\",\"2021-10-04T00:00:00\",\"2021-10-05T00:00:00\",\"2021-10-06T00:00:00\",\"2021-10-07T00:00:00\",\"2021-10-08T00:00:00\",\"2021-10-09T00:00:00\",\"2021-10-10T00:00:00\",\"2021-10-11T00:00:00\",\"2021-10-12T00:00:00\",\"2021-10-13T00:00:00\",\"2021-10-14T00:00:00\",\"2021-10-15T00:00:00\",\"2021-10-16T00:00:00\",\"2021-10-17T00:00:00\",\"2021-10-18T00:00:00\",\"2021-10-19T00:00:00\",\"2021-10-20T00:00:00\",\"2021-10-21T00:00:00\",\"2021-10-22T00:00:00\",\"2021-10-23T00:00:00\",\"2021-10-24T00:00:00\",\"2021-10-25T00:00:00\",\"2021-10-26T00:00:00\",\"2021-10-27T00:00:00\",\"2021-10-28T00:00:00\",\"2021-10-29T00:00:00\",\"2021-10-30T00:00:00\",\"2021-10-31T00:00:00\",\"2021-11-01T00:00:00\",\"2021-11-02T00:00:00\",\"2021-11-03T00:00:00\",\"2021-11-04T00:00:00\",\"2021-11-05T00:00:00\",\"2021-11-06T00:00:00\",\"2021-11-07T00:00:00\",\"2021-11-08T00:00:00\",\"2021-11-09T00:00:00\",\"2021-11-10T00:00:00\",\"2021-11-11T00:00:00\",\"2021-11-12T00:00:00\",\"2021-11-13T00:00:00\",\"2021-11-14T00:00:00\",\"2021-11-15T00:00:00\",\"2021-11-16T00:00:00\",\"2021-11-17T00:00:00\",\"2021-11-18T00:00:00\",\"2021-11-19T00:00:00\",\"2021-11-20T00:00:00\",\"2021-11-21T00:00:00\",\"2021-11-22T00:00:00\",\"2021-11-23T00:00:00\",\"2021-11-24T00:00:00\",\"2021-11-25T00:00:00\",\"2021-11-26T00:00:00\",\"2021-11-27T00:00:00\",\"2021-11-28T00:00:00\",\"2021-11-29T00:00:00\",\"2021-11-30T00:00:00\",\"2021-12-01T00:00:00\",\"2021-12-02T00:00:00\",\"2021-12-03T00:00:00\",\"2021-12-04T00:00:00\",\"2021-12-05T00:00:00\",\"2021-12-06T00:00:00\",\"2021-12-07T00:00:00\",\"2021-12-08T00:00:00\",\"2021-12-09T00:00:00\",\"2021-12-10T00:00:00\",\"2021-12-11T00:00:00\",\"2021-12-12T00:00:00\",\"2021-12-13T00:00:00\",\"2021-12-14T00:00:00\",\"2021-12-15T00:00:00\",\"2021-12-16T00:00:00\",\"2021-12-17T00:00:00\",\"2021-12-18T00:00:00\",\"2021-12-19T00:00:00\",\"2021-12-20T00:00:00\",\"2021-12-21T00:00:00\",\"2021-12-22T00:00:00\",\"2021-12-23T00:00:00\",\"2021-12-24T00:00:00\",\"2021-12-25T00:00:00\",\"2021-12-26T00:00:00\",\"2021-12-27T00:00:00\",\"2021-12-28T00:00:00\",\"2021-12-29T00:00:00\",\"2021-12-30T00:00:00\",\"2021-12-31T00:00:00\",\"2022-01-01T00:00:00\",\"2022-01-02T00:00:00\",\"2022-01-03T00:00:00\",\"2022-01-04T00:00:00\",\"2022-01-05T00:00:00\",\"2022-01-06T00:00:00\",\"2022-01-07T00:00:00\",\"2022-01-08T00:00:00\",\"2022-01-09T00:00:00\",\"2022-01-10T00:00:00\",\"2022-01-11T00:00:00\",\"2022-01-12T00:00:00\",\"2022-01-13T00:00:00\",\"2022-01-14T00:00:00\",\"2022-01-15T00:00:00\",\"2022-01-16T00:00:00\",\"2022-01-17T00:00:00\",\"2022-01-18T00:00:00\",\"2022-01-19T00:00:00\",\"2022-01-20T00:00:00\",\"2022-01-21T00:00:00\",\"2022-01-22T00:00:00\",\"2022-01-23T00:00:00\",\"2022-01-24T00:00:00\",\"2022-01-25T00:00:00\",\"2022-01-26T00:00:00\",\"2022-01-27T00:00:00\",\"2022-01-28T00:00:00\",\"2022-01-29T00:00:00\",\"2022-01-30T00:00:00\",\"2022-01-31T00:00:00\",\"2022-02-01T00:00:00\",\"2022-02-02T00:00:00\",\"2022-02-03T00:00:00\",\"2022-02-04T00:00:00\",\"2022-02-05T00:00:00\",\"2022-02-06T00:00:00\",\"2022-02-07T00:00:00\",\"2022-02-08T00:00:00\",\"2022-02-09T00:00:00\",\"2022-02-10T00:00:00\",\"2022-02-11T00:00:00\",\"2022-02-12T00:00:00\",\"2022-02-13T00:00:00\",\"2022-02-14T00:00:00\",\"2022-02-15T00:00:00\",\"2022-02-16T00:00:00\",\"2022-02-17T00:00:00\",\"2022-02-18T00:00:00\",\"2022-02-19T00:00:00\",\"2022-02-20T00:00:00\",\"2022-02-21T00:00:00\",\"2022-02-22T00:00:00\",\"2022-02-23T00:00:00\",\"2022-02-24T00:00:00\",\"2022-02-25T00:00:00\",\"2022-02-26T00:00:00\",\"2022-02-27T00:00:00\",\"2022-02-28T00:00:00\",\"2022-03-01T00:00:00\",\"2022-03-02T00:00:00\",\"2022-03-03T00:00:00\",\"2022-03-04T00:00:00\",\"2022-03-05T00:00:00\",\"2022-03-06T00:00:00\",\"2022-03-07T00:00:00\",\"2022-03-08T00:00:00\",\"2022-03-09T00:00:00\",\"2022-03-10T00:00:00\",\"2022-03-11T00:00:00\",\"2022-03-12T00:00:00\",\"2022-03-13T00:00:00\",\"2022-03-14T00:00:00\",\"2022-03-15T00:00:00\",\"2022-03-16T00:00:00\",\"2022-03-17T00:00:00\",\"2022-03-18T00:00:00\",\"2022-03-19T00:00:00\",\"2022-03-20T00:00:00\",\"2022-03-21T00:00:00\",\"2022-03-22T00:00:00\",\"2022-03-23T00:00:00\",\"2022-03-24T00:00:00\",\"2022-03-25T00:00:00\",\"2022-03-26T00:00:00\",\"2022-03-27T00:00:00\",\"2022-03-28T00:00:00\",\"2022-03-29T00:00:00\",\"2022-03-30T00:00:00\",\"2022-03-31T00:00:00\",\"2022-04-01T00:00:00\",\"2022-04-02T00:00:00\",\"2022-04-03T00:00:00\",\"2022-04-04T00:00:00\",\"2022-04-05T00:00:00\",\"2022-04-06T00:00:00\",\"2022-04-07T00:00:00\",\"2022-04-08T00:00:00\",\"2022-04-09T00:00:00\",\"2022-04-10T00:00:00\",\"2022-04-11T00:00:00\",\"2022-04-12T00:00:00\",\"2022-04-13T00:00:00\",\"2022-04-14T00:00:00\",\"2022-04-15T00:00:00\",\"2022-04-16T00:00:00\",\"2022-04-17T00:00:00\",\"2022-04-18T00:00:00\",\"2022-04-19T00:00:00\",\"2022-04-20T00:00:00\",\"2022-04-21T00:00:00\",\"2022-04-22T00:00:00\",\"2022-04-23T00:00:00\",\"2022-04-24T00:00:00\",\"2022-04-25T00:00:00\",\"2022-04-26T00:00:00\",\"2022-04-27T00:00:00\",\"2022-04-28T00:00:00\",\"2022-04-29T00:00:00\",\"2022-04-30T00:00:00\",\"2022-05-01T00:00:00\",\"2022-05-02T00:00:00\",\"2022-05-03T00:00:00\",\"2022-05-04T00:00:00\",\"2022-05-05T00:00:00\",\"2022-05-06T00:00:00\",\"2022-05-07T00:00:00\",\"2022-05-08T00:00:00\",\"2022-05-09T00:00:00\",\"2022-05-10T00:00:00\",\"2022-05-11T00:00:00\",\"2022-05-12T00:00:00\",\"2022-05-13T00:00:00\",\"2022-05-14T00:00:00\",\"2022-05-15T00:00:00\",\"2022-05-16T00:00:00\",\"2022-05-17T00:00:00\",\"2022-05-18T00:00:00\",\"2022-05-19T00:00:00\",\"2022-05-20T00:00:00\",\"2022-05-21T00:00:00\",\"2022-05-22T00:00:00\",\"2022-05-23T00:00:00\",\"2022-05-24T00:00:00\",\"2022-05-25T00:00:00\",\"2022-05-26T00:00:00\",\"2022-05-27T00:00:00\",\"2022-05-28T00:00:00\",\"2022-05-29T00:00:00\",\"2022-05-30T00:00:00\",\"2022-05-31T00:00:00\",\"2022-06-01T00:00:00\",\"2022-06-02T00:00:00\",\"2022-06-03T00:00:00\",\"2022-06-04T00:00:00\",\"2022-06-05T00:00:00\",\"2022-06-06T00:00:00\",\"2022-06-07T00:00:00\",\"2022-06-08T00:00:00\",\"2022-06-09T00:00:00\",\"2022-06-10T00:00:00\",\"2022-06-11T00:00:00\",\"2022-06-12T00:00:00\",\"2022-06-13T00:00:00\",\"2022-06-14T00:00:00\",\"2022-06-15T00:00:00\",\"2022-06-16T00:00:00\",\"2022-06-17T00:00:00\",\"2022-06-18T00:00:00\",\"2022-06-19T00:00:00\",\"2022-06-20T00:00:00\",\"2022-06-21T00:00:00\",\"2022-06-22T00:00:00\",\"2022-06-23T00:00:00\",\"2022-06-24T00:00:00\",\"2022-06-25T00:00:00\",\"2022-06-26T00:00:00\",\"2022-06-27T00:00:00\",\"2022-06-28T00:00:00\",\"2022-06-29T00:00:00\",\"2022-06-30T00:00:00\",\"2022-07-01T00:00:00\",\"2022-07-02T00:00:00\",\"2022-07-03T00:00:00\",\"2022-07-04T00:00:00\",\"2022-07-05T00:00:00\",\"2022-07-06T00:00:00\",\"2022-07-07T00:00:00\",\"2022-07-08T00:00:00\",\"2022-07-09T00:00:00\",\"2022-07-10T00:00:00\",\"2022-07-11T00:00:00\",\"2022-07-12T00:00:00\",\"2022-07-13T00:00:00\",\"2022-07-14T00:00:00\",\"2022-07-15T00:00:00\",\"2022-07-16T00:00:00\",\"2022-07-17T00:00:00\",\"2022-07-18T00:00:00\",\"2022-07-19T00:00:00\",\"2022-07-20T00:00:00\",\"2022-07-21T00:00:00\",\"2022-07-22T00:00:00\",\"2022-07-23T00:00:00\",\"2022-07-24T00:00:00\",\"2022-07-25T00:00:00\",\"2022-07-26T00:00:00\",\"2022-07-27T00:00:00\",\"2022-07-28T00:00:00\",\"2022-07-29T00:00:00\",\"2022-07-30T00:00:00\",\"2022-07-31T00:00:00\",\"2022-08-01T00:00:00\",\"2022-08-02T00:00:00\",\"2022-08-03T00:00:00\",\"2022-08-04T00:00:00\",\"2022-08-05T00:00:00\",\"2022-08-06T00:00:00\",\"2022-08-07T00:00:00\",\"2022-08-08T00:00:00\",\"2022-08-09T00:00:00\",\"2022-08-10T00:00:00\",\"2022-08-11T00:00:00\",\"2022-08-12T00:00:00\",\"2022-08-13T00:00:00\",\"2022-08-14T00:00:00\",\"2022-08-15T00:00:00\",\"2022-08-16T00:00:00\",\"2022-08-17T00:00:00\",\"2022-08-18T00:00:00\",\"2022-08-19T00:00:00\",\"2022-08-20T00:00:00\",\"2022-08-21T00:00:00\",\"2022-08-22T00:00:00\",\"2022-08-23T00:00:00\",\"2022-08-24T00:00:00\",\"2022-08-25T00:00:00\",\"2022-08-26T00:00:00\",\"2022-08-27T00:00:00\",\"2022-08-28T00:00:00\",\"2022-08-29T00:00:00\",\"2022-08-30T00:00:00\",\"2022-08-31T00:00:00\",\"2022-09-01T00:00:00\",\"2022-09-02T00:00:00\",\"2022-09-03T00:00:00\",\"2022-09-04T00:00:00\",\"2022-09-05T00:00:00\",\"2022-09-06T00:00:00\",\"2022-09-07T00:00:00\",\"2022-09-08T00:00:00\",\"2022-09-09T00:00:00\",\"2022-09-10T00:00:00\",\"2022-09-11T00:00:00\",\"2022-09-12T00:00:00\",\"2022-09-13T00:00:00\",\"2022-09-14T00:00:00\",\"2022-09-15T00:00:00\",\"2022-09-16T00:00:00\",\"2022-09-17T00:00:00\",\"2022-09-18T00:00:00\",\"2022-09-19T00:00:00\",\"2022-09-20T00:00:00\",\"2022-09-21T00:00:00\",\"2022-09-22T00:00:00\",\"2022-09-23T00:00:00\",\"2022-09-24T00:00:00\",\"2022-09-25T00:00:00\",\"2022-09-26T00:00:00\",\"2022-09-27T00:00:00\",\"2022-09-28T00:00:00\",\"2022-09-29T00:00:00\",\"2022-09-30T00:00:00\",\"2022-10-01T00:00:00\",\"2022-10-02T00:00:00\",\"2022-10-03T00:00:00\",\"2022-10-04T00:00:00\",\"2022-10-05T00:00:00\",\"2022-10-06T00:00:00\",\"2022-10-07T00:00:00\",\"2022-10-08T00:00:00\",\"2022-10-09T00:00:00\",\"2022-10-10T00:00:00\",\"2022-10-11T00:00:00\",\"2022-10-12T00:00:00\",\"2022-10-13T00:00:00\",\"2022-10-14T00:00:00\",\"2022-10-15T00:00:00\",\"2022-10-16T00:00:00\",\"2022-10-17T00:00:00\",\"2022-10-18T00:00:00\",\"2022-10-19T00:00:00\",\"2022-10-20T00:00:00\",\"2022-10-21T00:00:00\",\"2022-10-22T00:00:00\",\"2022-10-23T00:00:00\",\"2022-10-24T00:00:00\",\"2022-10-25T00:00:00\",\"2022-10-26T00:00:00\",\"2022-10-27T00:00:00\",\"2022-10-28T00:00:00\",\"2022-10-29T00:00:00\",\"2022-10-30T00:00:00\",\"2022-10-31T00:00:00\",\"2022-11-01T00:00:00\",\"2022-11-02T00:00:00\",\"2022-11-03T00:00:00\",\"2022-11-04T00:00:00\",\"2022-11-05T00:00:00\",\"2022-11-06T00:00:00\",\"2022-11-07T00:00:00\",\"2022-11-08T00:00:00\",\"2022-11-09T00:00:00\",\"2022-11-10T00:00:00\",\"2022-11-11T00:00:00\",\"2022-11-12T00:00:00\",\"2022-11-13T00:00:00\",\"2022-11-14T00:00:00\",\"2022-11-15T00:00:00\",\"2022-11-16T00:00:00\",\"2022-11-17T00:00:00\",\"2022-11-18T00:00:00\",\"2022-11-19T00:00:00\",\"2022-11-20T00:00:00\",\"2022-11-21T00:00:00\",\"2022-11-22T00:00:00\",\"2022-11-23T00:00:00\",\"2022-11-24T00:00:00\",\"2022-11-25T00:00:00\",\"2022-11-26T00:00:00\",\"2022-11-27T00:00:00\",\"2022-11-28T00:00:00\",\"2022-11-29T00:00:00\",\"2022-11-30T00:00:00\",\"2022-12-01T00:00:00\",\"2022-12-02T00:00:00\",\"2022-12-03T00:00:00\",\"2022-12-04T00:00:00\",\"2022-12-05T00:00:00\",\"2022-12-06T00:00:00\",\"2022-12-07T00:00:00\",\"2022-12-08T00:00:00\",\"2022-12-09T00:00:00\",\"2022-12-10T00:00:00\",\"2022-12-11T00:00:00\",\"2022-12-12T00:00:00\",\"2022-12-13T00:00:00\",\"2022-12-14T00:00:00\",\"2022-12-15T00:00:00\",\"2022-12-16T00:00:00\",\"2022-12-17T00:00:00\",\"2022-12-18T00:00:00\",\"2022-12-19T00:00:00\",\"2022-12-20T00:00:00\",\"2022-12-21T00:00:00\",\"2022-12-22T00:00:00\",\"2022-12-23T00:00:00\",\"2022-12-24T00:00:00\",\"2022-12-25T00:00:00\",\"2022-12-26T00:00:00\",\"2022-12-27T00:00:00\",\"2022-12-28T00:00:00\",\"2022-12-29T00:00:00\",\"2022-12-30T00:00:00\",\"2022-12-31T00:00:00\"],\"y\":[58.74134625,58.70621396042537,58.668658753719185,58.632315004436315,58.594759797434996,58.55841604906441,58.52086084347047,58.48330563702979,58.446961888610964,58.409406681277694,58.3730629322455,58.335507724912226,58.334296266611155,58.33308480831008,58.33187335000901,58.33066189170793,58.32945043340686,58.32823897510579,58.32702751680471,58.32581605850365,58.32460459984513,58.32339314114295,58.32218168229382,58.32097022252804,58.319758763018584,58.318547303277114,58.31733584429583,58.316124384318755,58.314912925132255,58.31370146508804,58.312490005293775,58.31127854570819,58.31006708629579,58.3088556268654,58.307644167612644,58.30643270759426,58.30522124768747,58.30400978803093,58.30279832727742,58.301586867150775,58.30037540674823,58.299163944876334,58.297952483713736,58.29674102229802,58.295529562429465,58.294318101063695,58.29310663982423,58.29189517787007,58.290683715962636,58.28947225324495,58.28826079279878,58.2870493323686,58.28583787139439,58.28462641042789,58.28341495003164,58.282203488630564,58.28099202675035,58.27978056425172,58.27856910068286,58.27735763883275,58.276146178009384,58.27493471655345,58.27372325540235,58.272511792999666,58.27130032776234,58.27008886335648,58.26887740212585,58.26766593850124,58.266454472156354,58.265243008402685,58.26403154484471,58.26282008287368,58.261608620956004,58.26039715686803,58.2591856913737,58.25797422759759,58.25676276536003,58.25555130292396,58.25433983993586,58.25312837793319,58.251916915475725,58.25070545332154,58.24949399119511,58.24828252916468,58.24707106599279,58.24585960361841,58.2446481390183,58.24343667732688,58.24222521565609,58.241013754037304,58.23980229138565,58.238590829432546,58.2373793678099,58.23616790428158,58.23495644232498,58.233744977831144,58.232533517297995,58.231322055842035,58.23011059091739,58.228899128667145,58.22768766194392,58.226476201926616,58.22526473892777,58.22405327554904,58.22284181269908,58.22163034724217,58.22041888419126,58.21920742255231,58.217995965394834,58.21678450225577,58.21557303716903,58.21436157589247,58.21315011757833,58.211938645874724,58.21072718113338,58.209515718972895,58.20830425703297,58.20709279431729,58.205881332003756,58.204669866841925,58.203458401893165,58.202246939669685,58.20103547902852,58.19982401664008,58.198612551582514,58.19740108235372,58.19618961501282,58.19497815236583,58.193766689685866,58.192555220825795,58.19134375233292,58.19013229018511,58.18892082794371,58.1877093630015,58.18649789963294,58.18528643348,58.18407496393519,58.1828635020638,58.18165203711817,58.180440572841064,58.17922911000942,58.17801764771686,58.176806184771024,58.17559472193206,58.17438325521358,58.1731717870416,58.171960321814105,58.17074886051482,58.16953739516052,58.1683259298062,58.167114464402104,58.16590299614125,58.16469152823053,58.163480060757934,58.162268596733604,58.161057133668656,58.1598456704208,58.15863420739019,58.15742274046318,58.15621127651867,58.154999809358834,58.15378834499818,58.152576880870235,58.15136541691551,58.15015395272376,58.14894248792125,58.14773102328224,58.14651955862216,58.14530809350586,58.14409662832708,58.14288516355726,58.14167369894457,58.14046223841818,58.139250774094016,58.13803931016472,58.13682784893905,58.13561638852472,58.13440492144512,58.133193462613505,58.13198199979872,58.130770538616844,58.129559074428805,58.12834760887426,58.12713614064417,58.12592467404593,58.12471320861642,58.123501743525196,58.12229027873014,58.12107882044579,58.11986736216143,58.11865589714269,58.11744442811286,58.116232954781495,58.1150214904831,58.1138100261847,58.11259855895652,58.11138709647947,58.11017563215553,58.10896416129475,58.10775269519385,58.106541229733374,58.10532976462005,58.10411829804268,58.10290683146529,58.10169536488792,58.100483898310536,58.09927243127531,58.098060963934174,58.09684949659302,58.0956380250571,58.09442655704707,58.093215095190274,58.09200362335573,58.09079215096773,58.08958068561253,58.088369222164985,58.08715776170567,58.085946295008746,58.08473482831184,58.08352336190751,58.08231189696821,58.08110043207319,58.07988896717817,58.078677498511915,58.07746603322132,58.07625456668421,58.07504310065272,58.07383163478637,58.07262017022977,58.07140870752764,58.07019724238889,58.068985777250155,58.06777431211142,58.06656284697269,58.06535138183395,58.06413991669521,58.062928451556466,58.06171698641773,58.06050552127899,58.05929405361185,58.05808258437038,58.05687111512891,58.055659647290334,58.05444818106747,58.05323671484461,58.052025248621746,58.050813782742615,58.04960231190474,58.04839084125991,58.04717937686919,58.0459679121649,58.04475644716192,58.04354498213655,58.04233351855368,58.041122059330185,58.03991058991912,58.03869912273153,58.03748765728208,58.03627619183262,58.035064722805785,58.03385325387113,58.032641786059465,58.031430322142576,58.03021885822569,58.0290073943088,58.0277959303919,58.026584466475015,58.025373002807655,58.02416153961579,58.022950075273435,58.02173861058344,58.02052714589346,58.01931568120347,58.01810421651348,58.01689275182349,58.015681287133496,58.014469822443516,58.01325835775353,58.01204689306354,58.010835428373554,58.00962396368356,58.00841249899357,58.0072010351414,58.00598957256554,58.004778113632405,58.00356664800474,58.00235518491566,58.001143722757526,57.9999322605994,57.99872079844127,57.99750933445051,57.9962978708842,57.99508640827143,57.99387494298298,57.992663476160274,57.99145200376974,57.99024053137921,57.989029060282036,57.987817593993334,57.98660612702989,57.9853946591263,57.984183191222726,57.98297172331913,57.981760255415544,57.980548787511964,57.97933731960838,57.9781258517048,57.97691438380121,57.97570291680462,57.97449144995295,57.97327998310127,57.97206851624961,57.97085704939793,57.969645582546256,57.96843411569459,57.96722264884291,57.966011179887786,57.96479970848775,57.963588247051604,57.96237678143622,57.96116531577576,57.95995385285242,57.958742379317975,57.95753091085068,57.95631944289126,57.955107976085884,57.95389650928052,57.952685042475146,57.95147357566977,57.95026211297003,57.94905065046343,57.94783918615628,57.94662771258001,57.945416239003755,57.94420477063123,57.942993297362584,57.94178182409393,57.94057035084397,57.939358878535906,57.93814741552075,57.93693595377617,57.935724492031596,57.93451302901215,57.9333015583649,57.93209008497952,57.930878610855615,57.929667142512145,57.928455671907415,57.92724420483619,57.92603273256716,57.92482126029812,57.923609788037886,57.92239832261269,57.92118685860593,57.919975395252,57.91876393287076,57.91755246857408,57.916341005190226,57.9151295418363,57.91391807356741,57.912706610480406,57.91149514354793,57.91028367669633,57.90907221058366,57.90786074447098,57.9066492783583,57.90543781438369,57.90422635182181,57.90301488322672,57.90180341225309,57.90059194084029,57.899380469339086,57.898168997837885,57.89695752633667,57.89574605546277,57.89453458906627,57.89332312681652,57.8921116650401,57.89090020546196,57.889688745296134,57.88847727853532,57.88726581335183,57.88605434733049,57.88484288002947,57.88363140572883,57.88241993628093,57.88120846765508,57.87999698890388,57.87878550788913,57.877574026993834,57.876362549727844,57.87515106767991,57.873939597326576,57.87272813280643,57.87151667486177,57.87030521691711,57.86909375897245,57.8678823010278,57.86667084308314,57.86545938266758,57.86424791508624,57.86303644750489,57.86182497992355,57.8606135123422,57.85940203125495,57.85819055002865,57.856979081966784,57.85576761647412,57.85455615115146,57.85334468582881,57.852133220506154,57.8509217544048,57.849710277946244,57.84849880785072,57.847287342916346,57.84607587917789,57.84486441161033,57.843652944194346,57.84244147925998,57.841230010916426,57.84001854098759,57.83880707023501,57.83759560069127,57.83638413114753,57.835172661603785,57.83396119075345,57.8327497194226,57.83153825106438,57.83032678260875,57.82911531545693,57.82790384447986,57.82669237372645,57.82548090374841,57.824269433770375,57.823057963792344,57.82184649381431,57.820635024219975,57.819423558942155,57.818212096193484,57.81700063344483,57.815789158399696,57.8145776817157,57.81336620541657,57.81215473481146,57.81094326420636,57.80973179403395,57.80852032405592,57.80730884428249,57.80609736304763,57.80488589039046,57.803674418752856,57.80246294803516,57.801251477317464,57.80004000659977,57.79882853589295,57.7976170660864,57.79640559915587,57.79519413222535,57.79398266248413,57.792771190248686,57.79155971810077,57.79034824659747,57.7891367886521,57.78792531879655,57.78671385364965,57.785502388587524,57.78429092352539,57.78307945600582,57.7818679860747,57.78065651696928,57.77944504820929,57.77823357968114,57.77702211125392,57.7758106428267,57.77459917439947,57.77338770597224,57.77217623754501,57.77096476927889,57.76975330567188,57.76854183458789,57.76733036176048,57.76611889208841,57.76490742241633,57.76369595274426,57.76248448023294,57.76127300841404,57.76006152851548,57.758850060395254,57.757638577438435,57.756427094357605,57.75521561127676,57.7540041293969,57.752792650396756,57.75158116632946,57.75036969831815,57.749158226582836,57.747946751158956,57.74673527573506,57.745523800311176,57.7443123248873,57.74310084946341,57.74188937419531,57.74067789912688,57.73946642428781,57.73825495169336,57.73704347972915,57.73583200776495,57.73462053580075,57.733409063836554,57.73219759187235,57.730986119908145,57.72977464794395,57.72856317597975,57.72735170401555,57.72614023205134,57.72492875621118,57.723717276122514,57.72250579603386,57.721294315945194,57.72008283585654,57.718871356027165,57.71765987647941,57.71644840318275,57.71523693037284,57.71402545756294,57.71281398475303,57.71160251194312,57.710391039133214,57.709179566463696,57.7079680941957,57.70675662192772,57.70554515017175,57.704333678443724,57.70312221289938,57.70191074772814,57.70069928255691,57.6994878174056,57.69827635251401,57.69706488762242,57.69585342273081,57.69464195783922,57.69343049067836,57.692219012141074,57.691007530896215,57.68979604783605,57.68858456477588,57.68737309068103,57.6861616210375,57.68495015521879,57.68373868870997,57.68252722220116,57.68131575569234,57.680104289183525,57.67889282267471,57.6776813561659,57.67646988965708,57.675258423148264,57.67404695662935,57.67283549010345,57.671624023577564,57.67041255457153,57.66920107978144,57.667989604991355,57.66677813020128,57.665566655411205,57.664355180621115,57.66314370583103,57.66193223104096,57.660720756250875,57.65950928421383,57.658297813750934,57.65708634328806,57.655874866939286,57.654663388404224,57.65345190986916,57.652240434414146,57.651028979348894,57.649817522651865,57.6486060546582,57.64739457661091,57.64618309465986,57.644971624337934,57.64376015854393,57.64254869274991,57.641337226955905,57.64012576120673,57.638914296276695,57.63770283168987,57.63649136814358,57.63527990322978,57.634068437551306,57.63285697187284,57.63164550619437,57.6304340405159,57.62922257483743,57.62801110915896,57.62679964242717,57.62558817013813,57.624376697849094,57.62316522556006,57.621953753271015,57.62074228098198,57.619530808692936,57.61831934377439,57.61710788108142,57.61589640818713,57.614684931764344,57.61347345534157,57.61226197891878,57.611050502496,57.60983902607321,57.60862755019759,57.607416081380045,57.606204603240045,57.604993126885404,57.60378165288003,57.60257017887466,57.60135870491747,57.6001472311029,57.59893575728832,57.597724283473745,57.596512809659174,57.59530133584461,57.59408986203004,57.59287838821547,57.59166691440089,57.590455440125275,57.58924396565805,57.58803249176141,57.58682101842701,57.585609545092595,57.58439807175818,57.583186598423765,57.58197512501997,57.58076364999791,57.57955217633992,57.57834070363907,57.577129234701424,57.575917765763776,57.574706296826136,57.573494827036996,57.57228334760138,57.57107188243722,57.56986041846926,57.568648953193396,57.567437484636265,57.56622601607913,57.565014540838185,57.56380306226112,57.562591583684075,57.56138010510701,57.560168626576115,57.55895715525993,57.55774568394374,57.5565342124937,57.555322740949656,57.55411126940562,57.55289979792002,57.55168832695876,57.550476855997495,57.54926538503624,57.54805391407498,57.54684244311372,57.54563097215246,57.54441950119119,57.54320803022994,57.54199655926868,57.540785088307416,57.53957361734616,57.5383621463849,57.53715067542364,57.53593920446238,57.53472773350112,57.533516262539855,57.532304792384295,57.53109332261125,57.529881842407946,57.52867035742322,57.527458872438515,57.52624738745381,57.525035902469085,57.52382441748438,57.52261294517137,57.52140147879241,57.52019001241346,57.51897854603451,57.51776707998564,57.516555615755294,57.51534415156603,57.51413268740267,57.51292122323932,57.51170975907597,57.510498286791496,57.5092868051886,57.5080753235857,57.506863841982806,57.505652360379905,57.50444087877701,57.50322940163496,57.50201793580863,57.50080646982542,57.49959500384221,57.49838353785899,57.49717207187578,57.49596060589257,57.494749139511306,57.493537670518094,57.49232620152489,57.49111473536104,57.48990326972984,57.488691804098636,57.48748033846744,57.48626887283624,57.48505740720505,57.483845941573854,57.48263447594265,57.48142301031145,57.48021154468025,57.47900007904905,57.47778861727232,57.47657715616915,57.475365695065975,57.47415422625014,57.4729427562627,57.471731286275265,57.470519816287826,57.469308349422455,57.46809688304776,57.46688541667306,57.46567395029837,57.46446248392367,57.46325101754897,57.46203955117428,57.46082808479958,57.45961660949108,57.4584051357311,57.457193666455005,57.455982197178905,57.45477072790281,57.45355925862671,57.452347789350625,57.45113632007453],\"type\":\"scatter\",\"xaxis\":\"x\",\"yaxis\":\"y\"}],                        {\"template\":{\"data\":{\"histogram2dcontour\":[{\"type\":\"histogram2dcontour\",\"colorbar\":{\"outlinewidth\":0,\"ticks\":\"\"},\"colorscale\":[[0.0,\"#0d0887\"],[0.1111111111111111,\"#46039f\"],[0.2222222222222222,\"#7201a8\"],[0.3333333333333333,\"#9c179e\"],[0.4444444444444444,\"#bd3786\"],[0.5555555555555556,\"#d8576b\"],[0.6666666666666666,\"#ed7953\"],[0.7777777777777778,\"#fb9f3a\"],[0.8888888888888888,\"#fdca26\"],[1.0,\"#f0f921\"]]}],\"choropleth\":[{\"type\":\"choropleth\",\"colorbar\":{\"outlinewidth\":0,\"ticks\":\"\"}}],\"histogram2d\":[{\"type\":\"histogram2d\",\"colorbar\":{\"outlinewidth\":0,\"ticks\":\"\"},\"colorscale\":[[0.0,\"#0d0887\"],[0.1111111111111111,\"#46039f\"],[0.2222222222222222,\"#7201a8\"],[0.3333333333333333,\"#9c179e\"],[0.4444444444444444,\"#bd3786\"],[0.5555555555555556,\"#d8576b\"],[0.6666666666666666,\"#ed7953\"],[0.7777777777777778,\"#fb9f3a\"],[0.8888888888888888,\"#fdca26\"],[1.0,\"#f0f921\"]]}],\"heatmap\":[{\"type\":\"heatmap\",\"colorbar\":{\"outlinewidth\":0,\"ticks\":\"\"},\"colorscale\":[[0.0,\"#0d0887\"],[0.1111111111111111,\"#46039f\"],[0.2222222222222222,\"#7201a8\"],[0.3333333333333333,\"#9c179e\"],[0.4444444444444444,\"#bd3786\"],[0.5555555555555556,\"#d8576b\"],[0.6666666666666666,\"#ed7953\"],[0.7777777777777778,\"#fb9f3a\"],[0.8888888888888888,\"#fdca26\"],[1.0,\"#f0f921\"]]}],\"heatmapgl\":[{\"type\":\"heatmapgl\",\"colorbar\":{\"outlinewidth\":0,\"ticks\":\"\"},\"colorscale\":[[0.0,\"#0d0887\"],[0.1111111111111111,\"#46039f\"],[0.2222222222222222,\"#7201a8\"],[0.3333333333333333,\"#9c179e\"],[0.4444444444444444,\"#bd3786\"],[0.5555555555555556,\"#d8576b\"],[0.6666666666666666,\"#ed7953\"],[0.7777777777777778,\"#fb9f3a\"],[0.8888888888888888,\"#fdca26\"],[1.0,\"#f0f921\"]]}],\"contourcarpet\":[{\"type\":\"contourcarpet\",\"colorbar\":{\"outlinewidth\":0,\"ticks\":\"\"}}],\"contour\":[{\"type\":\"contour\",\"colorbar\":{\"outlinewidth\":0,\"ticks\":\"\"},\"colorscale\":[[0.0,\"#0d0887\"],[0.1111111111111111,\"#46039f\"],[0.2222222222222222,\"#7201a8\"],[0.3333333333333333,\"#9c179e\"],[0.4444444444444444,\"#bd3786\"],[0.5555555555555556,\"#d8576b\"],[0.6666666666666666,\"#ed7953\"],[0.7777777777777778,\"#fb9f3a\"],[0.8888888888888888,\"#fdca26\"],[1.0,\"#f0f921\"]]}],\"surface\":[{\"type\":\"surface\",\"colorbar\":{\"outlinewidth\":0,\"ticks\":\"\"},\"colorscale\":[[0.0,\"#0d0887\"],[0.1111111111111111,\"#46039f\"],[0.2222222222222222,\"#7201a8\"],[0.3333333333333333,\"#9c179e\"],[0.4444444444444444,\"#bd3786\"],[0.5555555555555556,\"#d8576b\"],[0.6666666666666666,\"#ed7953\"],[0.7777777777777778,\"#fb9f3a\"],[0.8888888888888888,\"#fdca26\"],[1.0,\"#f0f921\"]]}],\"mesh3d\":[{\"type\":\"mesh3d\",\"colorbar\":{\"outlinewidth\":0,\"ticks\":\"\"}}],\"scatter\":[{\"fillpattern\":{\"fillmode\":\"overlay\",\"size\":10,\"solidity\":0.2},\"type\":\"scatter\"}],\"parcoords\":[{\"type\":\"parcoords\",\"line\":{\"colorbar\":{\"outlinewidth\":0,\"ticks\":\"\"}}}],\"scatterpolargl\":[{\"type\":\"scatterpolargl\",\"marker\":{\"colorbar\":{\"outlinewidth\":0,\"ticks\":\"\"}}}],\"bar\":[{\"error_x\":{\"color\":\"#2a3f5f\"},\"error_y\":{\"color\":\"#2a3f5f\"},\"marker\":{\"line\":{\"color\":\"#E5ECF6\",\"width\":0.5},\"pattern\":{\"fillmode\":\"overlay\",\"size\":10,\"solidity\":0.2}},\"type\":\"bar\"}],\"scattergeo\":[{\"type\":\"scattergeo\",\"marker\":{\"colorbar\":{\"outlinewidth\":0,\"ticks\":\"\"}}}],\"scatterpolar\":[{\"type\":\"scatterpolar\",\"marker\":{\"colorbar\":{\"outlinewidth\":0,\"ticks\":\"\"}}}],\"histogram\":[{\"marker\":{\"pattern\":{\"fillmode\":\"overlay\",\"size\":10,\"solidity\":0.2}},\"type\":\"histogram\"}],\"scattergl\":[{\"type\":\"scattergl\",\"marker\":{\"colorbar\":{\"outlinewidth\":0,\"ticks\":\"\"}}}],\"scatter3d\":[{\"type\":\"scatter3d\",\"line\":{\"colorbar\":{\"outlinewidth\":0,\"ticks\":\"\"}},\"marker\":{\"colorbar\":{\"outlinewidth\":0,\"ticks\":\"\"}}}],\"scattermapbox\":[{\"type\":\"scattermapbox\",\"marker\":{\"colorbar\":{\"outlinewidth\":0,\"ticks\":\"\"}}}],\"scatterternary\":[{\"type\":\"scatterternary\",\"marker\":{\"colorbar\":{\"outlinewidth\":0,\"ticks\":\"\"}}}],\"scattercarpet\":[{\"type\":\"scattercarpet\",\"marker\":{\"colorbar\":{\"outlinewidth\":0,\"ticks\":\"\"}}}],\"carpet\":[{\"aaxis\":{\"endlinecolor\":\"#2a3f5f\",\"gridcolor\":\"white\",\"linecolor\":\"white\",\"minorgridcolor\":\"white\",\"startlinecolor\":\"#2a3f5f\"},\"baxis\":{\"endlinecolor\":\"#2a3f5f\",\"gridcolor\":\"white\",\"linecolor\":\"white\",\"minorgridcolor\":\"white\",\"startlinecolor\":\"#2a3f5f\"},\"type\":\"carpet\"}],\"table\":[{\"cells\":{\"fill\":{\"color\":\"#EBF0F8\"},\"line\":{\"color\":\"white\"}},\"header\":{\"fill\":{\"color\":\"#C8D4E3\"},\"line\":{\"color\":\"white\"}},\"type\":\"table\"}],\"barpolar\":[{\"marker\":{\"line\":{\"color\":\"#E5ECF6\",\"width\":0.5},\"pattern\":{\"fillmode\":\"overlay\",\"size\":10,\"solidity\":0.2}},\"type\":\"barpolar\"}],\"pie\":[{\"automargin\":true,\"type\":\"pie\"}]},\"layout\":{\"autotypenumbers\":\"strict\",\"colorway\":[\"#636efa\",\"#EF553B\",\"#00cc96\",\"#ab63fa\",\"#FFA15A\",\"#19d3f3\",\"#FF6692\",\"#B6E880\",\"#FF97FF\",\"#FECB52\"],\"font\":{\"color\":\"#2a3f5f\"},\"hovermode\":\"closest\",\"hoverlabel\":{\"align\":\"left\"},\"paper_bgcolor\":\"white\",\"plot_bgcolor\":\"#E5ECF6\",\"polar\":{\"bgcolor\":\"#E5ECF6\",\"angularaxis\":{\"gridcolor\":\"white\",\"linecolor\":\"white\",\"ticks\":\"\"},\"radialaxis\":{\"gridcolor\":\"white\",\"linecolor\":\"white\",\"ticks\":\"\"}},\"ternary\":{\"bgcolor\":\"#E5ECF6\",\"aaxis\":{\"gridcolor\":\"white\",\"linecolor\":\"white\",\"ticks\":\"\"},\"baxis\":{\"gridcolor\":\"white\",\"linecolor\":\"white\",\"ticks\":\"\"},\"caxis\":{\"gridcolor\":\"white\",\"linecolor\":\"white\",\"ticks\":\"\"}},\"coloraxis\":{\"colorbar\":{\"outlinewidth\":0,\"ticks\":\"\"}},\"colorscale\":{\"sequential\":[[0.0,\"#0d0887\"],[0.1111111111111111,\"#46039f\"],[0.2222222222222222,\"#7201a8\"],[0.3333333333333333,\"#9c179e\"],[0.4444444444444444,\"#bd3786\"],[0.5555555555555556,\"#d8576b\"],[0.6666666666666666,\"#ed7953\"],[0.7777777777777778,\"#fb9f3a\"],[0.8888888888888888,\"#fdca26\"],[1.0,\"#f0f921\"]],\"sequentialminus\":[[0.0,\"#0d0887\"],[0.1111111111111111,\"#46039f\"],[0.2222222222222222,\"#7201a8\"],[0.3333333333333333,\"#9c179e\"],[0.4444444444444444,\"#bd3786\"],[0.5555555555555556,\"#d8576b\"],[0.6666666666666666,\"#ed7953\"],[0.7777777777777778,\"#fb9f3a\"],[0.8888888888888888,\"#fdca26\"],[1.0,\"#f0f921\"]],\"diverging\":[[0,\"#8e0152\"],[0.1,\"#c51b7d\"],[0.2,\"#de77ae\"],[0.3,\"#f1b6da\"],[0.4,\"#fde0ef\"],[0.5,\"#f7f7f7\"],[0.6,\"#e6f5d0\"],[0.7,\"#b8e186\"],[0.8,\"#7fbc41\"],[0.9,\"#4d9221\"],[1,\"#276419\"]]},\"xaxis\":{\"gridcolor\":\"white\",\"linecolor\":\"white\",\"ticks\":\"\",\"title\":{\"standoff\":15},\"zerolinecolor\":\"white\",\"automargin\":true,\"zerolinewidth\":2},\"yaxis\":{\"gridcolor\":\"white\",\"linecolor\":\"white\",\"ticks\":\"\",\"title\":{\"standoff\":15},\"zerolinecolor\":\"white\",\"automargin\":true,\"zerolinewidth\":2},\"scene\":{\"xaxis\":{\"backgroundcolor\":\"#E5ECF6\",\"gridcolor\":\"white\",\"linecolor\":\"white\",\"showbackground\":true,\"ticks\":\"\",\"zerolinecolor\":\"white\",\"gridwidth\":2},\"yaxis\":{\"backgroundcolor\":\"#E5ECF6\",\"gridcolor\":\"white\",\"linecolor\":\"white\",\"showbackground\":true,\"ticks\":\"\",\"zerolinecolor\":\"white\",\"gridwidth\":2},\"zaxis\":{\"backgroundcolor\":\"#E5ECF6\",\"gridcolor\":\"white\",\"linecolor\":\"white\",\"showbackground\":true,\"ticks\":\"\",\"zerolinecolor\":\"white\",\"gridwidth\":2}},\"shapedefaults\":{\"line\":{\"color\":\"#2a3f5f\"}},\"annotationdefaults\":{\"arrowcolor\":\"#2a3f5f\",\"arrowhead\":0,\"arrowwidth\":1},\"geo\":{\"bgcolor\":\"white\",\"landcolor\":\"#E5ECF6\",\"subunitcolor\":\"white\",\"showland\":true,\"showlakes\":true,\"lakecolor\":\"white\"},\"title\":{\"x\":0.05},\"mapbox\":{\"style\":\"light\"}}},\"xaxis\":{\"anchor\":\"y\",\"domain\":[0.0,1.0],\"range\":[\"2019-12-08T18:00:00\",\"2023-02-22T06:00:00\"],\"type\":\"date\"},\"yaxis\":{\"anchor\":\"x\",\"domain\":[0.0,1.0],\"title\":{\"text\":\"trend\"},\"rangemode\":\"normal\",\"zerolinecolor\":\"#AAA\"},\"height\":200,\"showlegend\":false,\"width\":900},                        {\"responsive\": true}                    ).then(function(){\n                            \nvar gd = document.getElementById('c7943a13-8627-4e37-a870-d1ffe4b66b34');\nvar x = new MutationObserver(function (mutations, observer) {{\n        var display = window.getComputedStyle(gd).display;\n        if (!display || display === 'none') {{\n            console.log([gd, 'removed!']);\n            Plotly.purge(gd);\n            observer.disconnect();\n        }}\n}});\n\n// Listen for the removal of the full notebook cells\nvar notebookContainer = gd.closest('#notebook-container');\nif (notebookContainer) {{\n    x.observe(notebookContainer, {childList: true});\n}}\n\n// Listen for the clearing of the current output cell\nvar outputEl = gd.closest('.output');\nif (outputEl) {{\n    x.observe(outputEl, {childList: true});\n}}\n\n                        })                };                            </script>        </div>\n</body>\n</html>"
     },
     "metadata": {},
     "output_type": "display_data"
    }
   ]
  },
  {
   "cell_type": "markdown",
   "source": "# PROPHET TEST 2",
   "metadata": {
    "formattedRanges": [],
    "is_collapsed": false,
    "cell_id": "a3b580bf60aa4bf6b9017413a93942a2",
    "tags": [],
    "deepnote_cell_type": "text-cell-h1"
   }
  },
  {
   "cell_type": "code",
   "metadata": {
    "cell_id": "eb32f5155d194ea886c86bce482b19de",
    "tags": [],
    "deepnote_to_be_reexecuted": false,
    "source_hash": "9b82ee11",
    "execution_start": 1661016283774,
    "execution_millis": 10,
    "deepnote_cell_type": "code",
    "deepnote_cell_height": 76
   },
   "source": "import pandas as pd",
   "execution_count": 31,
   "outputs": []
  },
  {
   "cell_type": "code",
   "metadata": {
    "cell_id": "b00cfb799240494ca82999746b023ed7",
    "tags": [],
    "deepnote_to_be_reexecuted": false,
    "source_hash": "4f11c29e",
    "execution_start": 1661016283789,
    "execution_millis": 46,
    "deepnote_cell_type": "code",
    "deepnote_cell_height": 425
   },
   "source": "df2 = pd.read_csv(\"FixBanjir-2017-2020.csv\")\ndf2.head()",
   "execution_count": 32,
   "outputs": [
    {
     "output_type": "execute_result",
     "execution_count": 32,
     "data": {
      "application/vnd.deepnote.dataframe.v3+json": {
       "column_count": 8,
       "row_count": 5,
       "columns": [
        {
         "name": "bulan",
         "dtype": "int64",
         "stats": {
          "unique_count": 5,
          "nan_count": 0,
          "min": "1",
          "max": "5",
          "histogram": [
           {
            "bin_start": 1,
            "bin_end": 1.4,
            "count": 1
           },
           {
            "bin_start": 1.4,
            "bin_end": 1.8,
            "count": 0
           },
           {
            "bin_start": 1.8,
            "bin_end": 2.2,
            "count": 1
           },
           {
            "bin_start": 2.2,
            "bin_end": 2.6,
            "count": 0
           },
           {
            "bin_start": 2.6,
            "bin_end": 3,
            "count": 0
           },
           {
            "bin_start": 3,
            "bin_end": 3.4000000000000004,
            "count": 1
           },
           {
            "bin_start": 3.4000000000000004,
            "bin_end": 3.8000000000000003,
            "count": 0
           },
           {
            "bin_start": 3.8000000000000003,
            "bin_end": 4.2,
            "count": 1
           },
           {
            "bin_start": 4.2,
            "bin_end": 4.6,
            "count": 0
           },
           {
            "bin_start": 4.6,
            "bin_end": 5,
            "count": 1
           }
          ]
         }
        },
        {
         "name": "kecamatan",
         "dtype": "int64",
         "stats": {
          "unique_count": 5,
          "nan_count": 0,
          "min": "4",
          "max": "31",
          "histogram": [
           {
            "bin_start": 4,
            "bin_end": 6.7,
            "count": 1
           },
           {
            "bin_start": 6.7,
            "bin_end": 9.4,
            "count": 0
           },
           {
            "bin_start": 9.4,
            "bin_end": 12.100000000000001,
            "count": 0
           },
           {
            "bin_start": 12.100000000000001,
            "bin_end": 14.8,
            "count": 0
           },
           {
            "bin_start": 14.8,
            "bin_end": 17.5,
            "count": 1
           },
           {
            "bin_start": 17.5,
            "bin_end": 20.200000000000003,
            "count": 2
           },
           {
            "bin_start": 20.200000000000003,
            "bin_end": 22.900000000000002,
            "count": 0
           },
           {
            "bin_start": 22.900000000000002,
            "bin_end": 25.6,
            "count": 0
           },
           {
            "bin_start": 25.6,
            "bin_end": 28.3,
            "count": 0
           },
           {
            "bin_start": 28.3,
            "bin_end": 31,
            "count": 1
           }
          ]
         }
        },
        {
         "name": "kelurahan",
         "dtype": "int64",
         "stats": {
          "unique_count": 5,
          "nan_count": 0,
          "min": "5",
          "max": "67",
          "histogram": [
           {
            "bin_start": 5,
            "bin_end": 11.2,
            "count": 1
           },
           {
            "bin_start": 11.2,
            "bin_end": 17.4,
            "count": 0
           },
           {
            "bin_start": 17.4,
            "bin_end": 23.6,
            "count": 0
           },
           {
            "bin_start": 23.6,
            "bin_end": 29.8,
            "count": 1
           },
           {
            "bin_start": 29.8,
            "bin_end": 36,
            "count": 1
           },
           {
            "bin_start": 36,
            "bin_end": 42.2,
            "count": 1
           },
           {
            "bin_start": 42.2,
            "bin_end": 48.4,
            "count": 0
           },
           {
            "bin_start": 48.4,
            "bin_end": 54.6,
            "count": 0
           },
           {
            "bin_start": 54.6,
            "bin_end": 60.800000000000004,
            "count": 0
           },
           {
            "bin_start": 60.800000000000004,
            "bin_end": 67,
            "count": 1
           }
          ]
         }
        },
        {
         "name": "kk_terdampak",
         "dtype": "int64",
         "stats": {
          "unique_count": 5,
          "nan_count": 0,
          "min": "0",
          "max": "6967",
          "histogram": [
           {
            "bin_start": 0,
            "bin_end": 696.7,
            "count": 2
           },
           {
            "bin_start": 696.7,
            "bin_end": 1393.4,
            "count": 1
           },
           {
            "bin_start": 1393.4,
            "bin_end": 2090.1000000000004,
            "count": 0
           },
           {
            "bin_start": 2090.1000000000004,
            "bin_end": 2786.8,
            "count": 0
           },
           {
            "bin_start": 2786.8,
            "bin_end": 3483.5,
            "count": 1
           },
           {
            "bin_start": 3483.5,
            "bin_end": 4180.200000000001,
            "count": 0
           },
           {
            "bin_start": 4180.200000000001,
            "bin_end": 4876.900000000001,
            "count": 0
           },
           {
            "bin_start": 4876.900000000001,
            "bin_end": 5573.6,
            "count": 0
           },
           {
            "bin_start": 5573.6,
            "bin_end": 6270.3,
            "count": 0
           },
           {
            "bin_start": 6270.3,
            "bin_end": 6967,
            "count": 1
           }
          ]
         }
        },
        {
         "name": "tahun",
         "dtype": "int64",
         "stats": {
          "unique_count": 1,
          "nan_count": 0,
          "min": "2017",
          "max": "2017",
          "histogram": [
           {
            "bin_start": 2016.5,
            "bin_end": 2016.6,
            "count": 0
           },
           {
            "bin_start": 2016.6,
            "bin_end": 2016.7,
            "count": 0
           },
           {
            "bin_start": 2016.7,
            "bin_end": 2016.8,
            "count": 0
           },
           {
            "bin_start": 2016.8,
            "bin_end": 2016.9,
            "count": 0
           },
           {
            "bin_start": 2016.9,
            "bin_end": 2017,
            "count": 0
           },
           {
            "bin_start": 2017,
            "bin_end": 2017.1,
            "count": 5
           },
           {
            "bin_start": 2017.1,
            "bin_end": 2017.2,
            "count": 0
           },
           {
            "bin_start": 2017.2,
            "bin_end": 2017.3,
            "count": 0
           },
           {
            "bin_start": 2017.3,
            "bin_end": 2017.4,
            "count": 0
           },
           {
            "bin_start": 2017.4,
            "bin_end": 2017.5,
            "count": 0
           }
          ]
         }
        },
        {
         "name": "min_ketinggian",
         "dtype": "int64",
         "stats": {
          "unique_count": 3,
          "nan_count": 0,
          "min": "0",
          "max": "10",
          "histogram": [
           {
            "bin_start": 0,
            "bin_end": 1,
            "count": 1
           },
           {
            "bin_start": 1,
            "bin_end": 2,
            "count": 0
           },
           {
            "bin_start": 2,
            "bin_end": 3,
            "count": 0
           },
           {
            "bin_start": 3,
            "bin_end": 4,
            "count": 0
           },
           {
            "bin_start": 4,
            "bin_end": 5,
            "count": 0
           },
           {
            "bin_start": 5,
            "bin_end": 6,
            "count": 1
           },
           {
            "bin_start": 6,
            "bin_end": 7,
            "count": 0
           },
           {
            "bin_start": 7,
            "bin_end": 8,
            "count": 0
           },
           {
            "bin_start": 8,
            "bin_end": 9,
            "count": 0
           },
           {
            "bin_start": 9,
            "bin_end": 10,
            "count": 3
           }
          ]
         }
        },
        {
         "name": "max_ketinggian",
         "dtype": "int64",
         "stats": {
          "unique_count": 5,
          "nan_count": 0,
          "min": "70",
          "max": "250",
          "histogram": [
           {
            "bin_start": 70,
            "bin_end": 88,
            "count": 1
           },
           {
            "bin_start": 88,
            "bin_end": 106,
            "count": 0
           },
           {
            "bin_start": 106,
            "bin_end": 124,
            "count": 1
           },
           {
            "bin_start": 124,
            "bin_end": 142,
            "count": 0
           },
           {
            "bin_start": 142,
            "bin_end": 160,
            "count": 0
           },
           {
            "bin_start": 160,
            "bin_end": 178,
            "count": 1
           },
           {
            "bin_start": 178,
            "bin_end": 196,
            "count": 0
           },
           {
            "bin_start": 196,
            "bin_end": 214,
            "count": 1
           },
           {
            "bin_start": 214,
            "bin_end": 232,
            "count": 0
           },
           {
            "bin_start": 232,
            "bin_end": 250,
            "count": 1
           }
          ]
         }
        },
        {
         "name": "avg_ketinggian",
         "dtype": "float64",
         "stats": {
          "unique_count": 5,
          "nan_count": 0,
          "min": "40.0",
          "max": "130.0",
          "histogram": [
           {
            "bin_start": 40,
            "bin_end": 49,
            "count": 1
           },
           {
            "bin_start": 49,
            "bin_end": 58,
            "count": 0
           },
           {
            "bin_start": 58,
            "bin_end": 67,
            "count": 1
           },
           {
            "bin_start": 67,
            "bin_end": 76,
            "count": 0
           },
           {
            "bin_start": 76,
            "bin_end": 85,
            "count": 1
           },
           {
            "bin_start": 85,
            "bin_end": 94,
            "count": 0
           },
           {
            "bin_start": 94,
            "bin_end": 103,
            "count": 0
           },
           {
            "bin_start": 103,
            "bin_end": 112,
            "count": 1
           },
           {
            "bin_start": 112,
            "bin_end": 121,
            "count": 0
           },
           {
            "bin_start": 121,
            "bin_end": 130,
            "count": 1
           }
          ]
         }
        },
        {
         "name": "_deepnote_index_column",
         "dtype": "int64"
        }
       ],
       "rows": [
        {
         "bulan": 1,
         "kecamatan": 4,
         "kelurahan": 5,
         "kk_terdampak": 0,
         "tahun": 2017,
         "min_ketinggian": 10,
         "max_ketinggian": 70,
         "avg_ketinggian": 40,
         "_deepnote_index_column": 0
        },
        {
         "bulan": 2,
         "kecamatan": 31,
         "kelurahan": 67,
         "kk_terdampak": 6967,
         "tahun": 2017,
         "min_ketinggian": 10,
         "max_ketinggian": 250,
         "avg_ketinggian": 130,
         "_deepnote_index_column": 1
        },
        {
         "bulan": 3,
         "kecamatan": 20,
         "kelurahan": 40,
         "kk_terdampak": 3232,
         "tahun": 2017,
         "min_ketinggian": 0,
         "max_ketinggian": 160,
         "avg_ketinggian": 80,
         "_deepnote_index_column": 2
        },
        {
         "bulan": 4,
         "kecamatan": 19,
         "kelurahan": 33,
         "kk_terdampak": 621,
         "tahun": 2017,
         "min_ketinggian": 10,
         "max_ketinggian": 200,
         "avg_ketinggian": 105,
         "_deepnote_index_column": 3
        },
        {
         "bulan": 5,
         "kecamatan": 15,
         "kelurahan": 25,
         "kk_terdampak": 1056,
         "tahun": 2017,
         "min_ketinggian": 5,
         "max_ketinggian": 120,
         "avg_ketinggian": 62.5,
         "_deepnote_index_column": 4
        }
       ]
      },
      "text/plain": "   bulan  kecamatan  kelurahan  kk_terdampak  tahun  min_ketinggian  \\\n0      1          4          5             0   2017              10   \n1      2         31         67          6967   2017              10   \n2      3         20         40          3232   2017               0   \n3      4         19         33           621   2017              10   \n4      5         15         25          1056   2017               5   \n\n   max_ketinggian  avg_ketinggian  \n0              70            40.0  \n1             250           130.0  \n2             160            80.0  \n3             200           105.0  \n4             120            62.5  ",
      "text/html": "<div>\n<style scoped>\n    .dataframe tbody tr th:only-of-type {\n        vertical-align: middle;\n    }\n\n    .dataframe tbody tr th {\n        vertical-align: top;\n    }\n\n    .dataframe thead th {\n        text-align: right;\n    }\n</style>\n<table border=\"1\" class=\"dataframe\">\n  <thead>\n    <tr style=\"text-align: right;\">\n      <th></th>\n      <th>bulan</th>\n      <th>kecamatan</th>\n      <th>kelurahan</th>\n      <th>kk_terdampak</th>\n      <th>tahun</th>\n      <th>min_ketinggian</th>\n      <th>max_ketinggian</th>\n      <th>avg_ketinggian</th>\n    </tr>\n  </thead>\n  <tbody>\n    <tr>\n      <th>0</th>\n      <td>1</td>\n      <td>4</td>\n      <td>5</td>\n      <td>0</td>\n      <td>2017</td>\n      <td>10</td>\n      <td>70</td>\n      <td>40.0</td>\n    </tr>\n    <tr>\n      <th>1</th>\n      <td>2</td>\n      <td>31</td>\n      <td>67</td>\n      <td>6967</td>\n      <td>2017</td>\n      <td>10</td>\n      <td>250</td>\n      <td>130.0</td>\n    </tr>\n    <tr>\n      <th>2</th>\n      <td>3</td>\n      <td>20</td>\n      <td>40</td>\n      <td>3232</td>\n      <td>2017</td>\n      <td>0</td>\n      <td>160</td>\n      <td>80.0</td>\n    </tr>\n    <tr>\n      <th>3</th>\n      <td>4</td>\n      <td>19</td>\n      <td>33</td>\n      <td>621</td>\n      <td>2017</td>\n      <td>10</td>\n      <td>200</td>\n      <td>105.0</td>\n    </tr>\n    <tr>\n      <th>4</th>\n      <td>5</td>\n      <td>15</td>\n      <td>25</td>\n      <td>1056</td>\n      <td>2017</td>\n      <td>5</td>\n      <td>120</td>\n      <td>62.5</td>\n    </tr>\n  </tbody>\n</table>\n</div>"
     },
     "metadata": {}
    }
   ]
  },
  {
   "cell_type": "code",
   "metadata": {
    "cell_id": "3e2456efb97e42c3a03b23b27b8b1525",
    "tags": [],
    "deepnote_to_be_reexecuted": false,
    "source_hash": "bb20274e",
    "execution_start": 1661016283840,
    "execution_millis": 41,
    "deepnote_cell_type": "code",
    "deepnote_cell_height": 630
   },
   "source": "df2['date'] = \"28/\" + df2.bulan.map(str) + \"/\" + df2.tahun.map(str)\ndf2",
   "execution_count": 33,
   "outputs": [
    {
     "output_type": "execute_result",
     "execution_count": 33,
     "data": {
      "application/vnd.deepnote.dataframe.v3+json": {
       "column_count": 9,
       "row_count": 48,
       "columns": [
        {
         "name": "bulan",
         "dtype": "int64",
         "stats": {
          "unique_count": 12,
          "nan_count": 0,
          "min": "1",
          "max": "12",
          "histogram": [
           {
            "bin_start": 1,
            "bin_end": 2.1,
            "count": 8
           },
           {
            "bin_start": 2.1,
            "bin_end": 3.2,
            "count": 4
           },
           {
            "bin_start": 3.2,
            "bin_end": 4.300000000000001,
            "count": 4
           },
           {
            "bin_start": 4.300000000000001,
            "bin_end": 5.4,
            "count": 4
           },
           {
            "bin_start": 5.4,
            "bin_end": 6.5,
            "count": 4
           },
           {
            "bin_start": 6.5,
            "bin_end": 7.6000000000000005,
            "count": 4
           },
           {
            "bin_start": 7.6000000000000005,
            "bin_end": 8.700000000000001,
            "count": 4
           },
           {
            "bin_start": 8.700000000000001,
            "bin_end": 9.8,
            "count": 4
           },
           {
            "bin_start": 9.8,
            "bin_end": 10.9,
            "count": 4
           },
           {
            "bin_start": 10.9,
            "bin_end": 12,
            "count": 8
           }
          ]
         }
        },
        {
         "name": "kecamatan",
         "dtype": "int64",
         "stats": {
          "unique_count": 25,
          "nan_count": 0,
          "min": "0",
          "max": "42",
          "histogram": [
           {
            "bin_start": 0,
            "bin_end": 4.2,
            "count": 13
           },
           {
            "bin_start": 4.2,
            "bin_end": 8.4,
            "count": 11
           },
           {
            "bin_start": 8.4,
            "bin_end": 12.600000000000001,
            "count": 5
           },
           {
            "bin_start": 12.600000000000001,
            "bin_end": 16.8,
            "count": 6
           },
           {
            "bin_start": 16.8,
            "bin_end": 21,
            "count": 5
           },
           {
            "bin_start": 21,
            "bin_end": 25.200000000000003,
            "count": 4
           },
           {
            "bin_start": 25.200000000000003,
            "bin_end": 29.400000000000002,
            "count": 1
           },
           {
            "bin_start": 29.400000000000002,
            "bin_end": 33.6,
            "count": 1
           },
           {
            "bin_start": 33.6,
            "bin_end": 37.800000000000004,
            "count": 1
           },
           {
            "bin_start": 37.800000000000004,
            "bin_end": 42,
            "count": 1
           }
          ]
         }
        },
        {
         "name": "kelurahan",
         "dtype": "int64",
         "stats": {
          "unique_count": 31,
          "nan_count": 0,
          "min": "0",
          "max": "167",
          "histogram": [
           {
            "bin_start": 0,
            "bin_end": 16.7,
            "count": 26
           },
           {
            "bin_start": 16.7,
            "bin_end": 33.4,
            "count": 11
           },
           {
            "bin_start": 33.4,
            "bin_end": 50.099999999999994,
            "count": 7
           },
           {
            "bin_start": 50.099999999999994,
            "bin_end": 66.8,
            "count": 0
           },
           {
            "bin_start": 66.8,
            "bin_end": 83.5,
            "count": 2
           },
           {
            "bin_start": 83.5,
            "bin_end": 100.19999999999999,
            "count": 0
           },
           {
            "bin_start": 100.19999999999999,
            "bin_end": 116.89999999999999,
            "count": 0
           },
           {
            "bin_start": 116.89999999999999,
            "bin_end": 133.6,
            "count": 0
           },
           {
            "bin_start": 133.6,
            "bin_end": 150.29999999999998,
            "count": 0
           },
           {
            "bin_start": 150.29999999999998,
            "bin_end": 167,
            "count": 2
           }
          ]
         }
        },
        {
         "name": "kk_terdampak",
         "dtype": "int64",
         "stats": {
          "unique_count": 34,
          "nan_count": 0,
          "min": "0",
          "max": "22148",
          "histogram": [
           {
            "bin_start": 0,
            "bin_end": 2214.8,
            "count": 41
           },
           {
            "bin_start": 2214.8,
            "bin_end": 4429.6,
            "count": 3
           },
           {
            "bin_start": 4429.6,
            "bin_end": 6644.400000000001,
            "count": 1
           },
           {
            "bin_start": 6644.400000000001,
            "bin_end": 8859.2,
            "count": 1
           },
           {
            "bin_start": 8859.2,
            "bin_end": 11074,
            "count": 0
           },
           {
            "bin_start": 11074,
            "bin_end": 13288.800000000001,
            "count": 1
           },
           {
            "bin_start": 13288.800000000001,
            "bin_end": 15503.600000000002,
            "count": 0
           },
           {
            "bin_start": 15503.600000000002,
            "bin_end": 17718.4,
            "count": 0
           },
           {
            "bin_start": 17718.4,
            "bin_end": 19933.2,
            "count": 0
           },
           {
            "bin_start": 19933.2,
            "bin_end": 22148,
            "count": 1
           }
          ]
         }
        },
        {
         "name": "tahun",
         "dtype": "int64",
         "stats": {
          "unique_count": 4,
          "nan_count": 0,
          "min": "2017",
          "max": "2020",
          "histogram": [
           {
            "bin_start": 2017,
            "bin_end": 2017.3,
            "count": 12
           },
           {
            "bin_start": 2017.3,
            "bin_end": 2017.6,
            "count": 0
           },
           {
            "bin_start": 2017.6,
            "bin_end": 2017.9,
            "count": 0
           },
           {
            "bin_start": 2017.9,
            "bin_end": 2018.2,
            "count": 12
           },
           {
            "bin_start": 2018.2,
            "bin_end": 2018.5,
            "count": 0
           },
           {
            "bin_start": 2018.5,
            "bin_end": 2018.8,
            "count": 0
           },
           {
            "bin_start": 2018.8,
            "bin_end": 2019.1,
            "count": 12
           },
           {
            "bin_start": 2019.1,
            "bin_end": 2019.4,
            "count": 0
           },
           {
            "bin_start": 2019.4,
            "bin_end": 2019.7,
            "count": 0
           },
           {
            "bin_start": 2019.7,
            "bin_end": 2020,
            "count": 12
           }
          ]
         }
        },
        {
         "name": "min_ketinggian",
         "dtype": "int64",
         "stats": {
          "unique_count": 6,
          "nan_count": 0,
          "min": "0",
          "max": "20",
          "histogram": [
           {
            "bin_start": 0,
            "bin_end": 2,
            "count": 9
           },
           {
            "bin_start": 2,
            "bin_end": 4,
            "count": 1
           },
           {
            "bin_start": 4,
            "bin_end": 6,
            "count": 8
           },
           {
            "bin_start": 6,
            "bin_end": 8,
            "count": 0
           },
           {
            "bin_start": 8,
            "bin_end": 10,
            "count": 0
           },
           {
            "bin_start": 10,
            "bin_end": 12,
            "count": 28
           },
           {
            "bin_start": 12,
            "bin_end": 14,
            "count": 0
           },
           {
            "bin_start": 14,
            "bin_end": 16,
            "count": 1
           },
           {
            "bin_start": 16,
            "bin_end": 18,
            "count": 0
           },
           {
            "bin_start": 18,
            "bin_end": 20,
            "count": 1
           }
          ]
         }
        },
        {
         "name": "max_ketinggian",
         "dtype": "int64",
         "stats": {
          "unique_count": 20,
          "nan_count": 0,
          "min": "0",
          "max": "350",
          "histogram": [
           {
            "bin_start": 0,
            "bin_end": 35,
            "count": 8
           },
           {
            "bin_start": 35,
            "bin_end": 70,
            "count": 3
           },
           {
            "bin_start": 70,
            "bin_end": 105,
            "count": 18
           },
           {
            "bin_start": 105,
            "bin_end": 140,
            "count": 7
           },
           {
            "bin_start": 140,
            "bin_end": 175,
            "count": 4
           },
           {
            "bin_start": 175,
            "bin_end": 210,
            "count": 4
           },
           {
            "bin_start": 210,
            "bin_end": 245,
            "count": 0
           },
           {
            "bin_start": 245,
            "bin_end": 280,
            "count": 2
           },
           {
            "bin_start": 280,
            "bin_end": 315,
            "count": 1
           },
           {
            "bin_start": 315,
            "bin_end": 350,
            "count": 1
           }
          ]
         }
        },
        {
         "name": "avg_ketinggian",
         "dtype": "float64",
         "stats": {
          "unique_count": 22,
          "nan_count": 0,
          "min": "0.0",
          "max": "180.0",
          "histogram": [
           {
            "bin_start": 0,
            "bin_end": 18,
            "count": 8
           },
           {
            "bin_start": 18,
            "bin_end": 36,
            "count": 3
           },
           {
            "bin_start": 36,
            "bin_end": 54,
            "count": 12
           },
           {
            "bin_start": 54,
            "bin_end": 72,
            "count": 12
           },
           {
            "bin_start": 72,
            "bin_end": 90,
            "count": 5
           },
           {
            "bin_start": 90,
            "bin_end": 108,
            "count": 4
           },
           {
            "bin_start": 108,
            "bin_end": 126,
            "count": 0
           },
           {
            "bin_start": 126,
            "bin_end": 144,
            "count": 2
           },
           {
            "bin_start": 144,
            "bin_end": 162,
            "count": 1
           },
           {
            "bin_start": 162,
            "bin_end": 180,
            "count": 1
           }
          ]
         }
        },
        {
         "name": "date",
         "dtype": "object",
         "stats": {
          "unique_count": 48,
          "nan_count": 0,
          "categories": [
           {
            "name": "28/1/2017",
            "count": 1
           },
           {
            "name": "28/2/2017",
            "count": 1
           },
           {
            "name": "46 others",
            "count": 46
           }
          ]
         }
        },
        {
         "name": "_deepnote_index_column",
         "dtype": "int64"
        }
       ],
       "rows": [
        {
         "bulan": 1,
         "kecamatan": 4,
         "kelurahan": 5,
         "kk_terdampak": 0,
         "tahun": 2017,
         "min_ketinggian": 10,
         "max_ketinggian": 70,
         "avg_ketinggian": 40,
         "date": "28/1/2017",
         "_deepnote_index_column": 0
        },
        {
         "bulan": 2,
         "kecamatan": 31,
         "kelurahan": 67,
         "kk_terdampak": 6967,
         "tahun": 2017,
         "min_ketinggian": 10,
         "max_ketinggian": 250,
         "avg_ketinggian": 130,
         "date": "28/2/2017",
         "_deepnote_index_column": 1
        },
        {
         "bulan": 3,
         "kecamatan": 20,
         "kelurahan": 40,
         "kk_terdampak": 3232,
         "tahun": 2017,
         "min_ketinggian": 0,
         "max_ketinggian": 160,
         "avg_ketinggian": 80,
         "date": "28/3/2017",
         "_deepnote_index_column": 2
        },
        {
         "bulan": 4,
         "kecamatan": 19,
         "kelurahan": 33,
         "kk_terdampak": 621,
         "tahun": 2017,
         "min_ketinggian": 10,
         "max_ketinggian": 200,
         "avg_ketinggian": 105,
         "date": "28/4/2017",
         "_deepnote_index_column": 3
        },
        {
         "bulan": 5,
         "kecamatan": 15,
         "kelurahan": 25,
         "kk_terdampak": 1056,
         "tahun": 2017,
         "min_ketinggian": 5,
         "max_ketinggian": 120,
         "avg_ketinggian": 62.5,
         "date": "28/5/2017",
         "_deepnote_index_column": 4
        },
        {
         "bulan": 6,
         "kecamatan": 4,
         "kelurahan": 5,
         "kk_terdampak": 1409,
         "tahun": 2017,
         "min_ketinggian": 10,
         "max_ketinggian": 110,
         "avg_ketinggian": 60,
         "date": "28/6/2017",
         "_deepnote_index_column": 5
        },
        {
         "bulan": 7,
         "kecamatan": 6,
         "kelurahan": 8,
         "kk_terdampak": 251,
         "tahun": 2017,
         "min_ketinggian": 10,
         "max_ketinggian": 80,
         "avg_ketinggian": 45,
         "date": "28/7/2017",
         "_deepnote_index_column": 6
        },
        {
         "bulan": 8,
         "kecamatan": 5,
         "kelurahan": 6,
         "kk_terdampak": 0,
         "tahun": 2017,
         "min_ketinggian": 10,
         "max_ketinggian": 80,
         "avg_ketinggian": 45,
         "date": "28/8/2017",
         "_deepnote_index_column": 7
        },
        {
         "bulan": 9,
         "kecamatan": 1,
         "kelurahan": 1,
         "kk_terdampak": 0,
         "tahun": 2017,
         "min_ketinggian": 10,
         "max_ketinggian": 80,
         "avg_ketinggian": 45,
         "date": "28/9/2017",
         "_deepnote_index_column": 8
        },
        {
         "bulan": 10,
         "kecamatan": 8,
         "kelurahan": 11,
         "kk_terdampak": 15,
         "tahun": 2017,
         "min_ketinggian": 10,
         "max_ketinggian": 105,
         "avg_ketinggian": 57.5,
         "date": "28/10/2017",
         "_deepnote_index_column": 9
        }
       ]
      },
      "text/plain": "    bulan  kecamatan  kelurahan  kk_terdampak  tahun  min_ketinggian  \\\n0       1          4          5             0   2017              10   \n1       2         31         67          6967   2017              10   \n2       3         20         40          3232   2017               0   \n3       4         19         33           621   2017              10   \n4       5         15         25          1056   2017               5   \n5       6          4          5          1409   2017              10   \n6       7          6          8           251   2017              10   \n7       8          5          6             0   2017              10   \n8       9          1          1             0   2017              10   \n9      10          8         11            15   2017              10   \n10     11         17         37          1935   2017              10   \n11     12         19         26           131   2017              10   \n12      1          5          8             0   2018               5   \n13      2         24         43          5467   2018               5   \n14      3          6          8           303   2018              10   \n15      4          6          8           300   2018               5   \n16      5          8         17           214   2018              10   \n17      6          5          8           328   2018              10   \n18      7          0          0             0   2018               0   \n19      8          0          0             0   2018               0   \n20      9          0          0             0   2018               0   \n21     10          4          5           387   2018              10   \n22     11         11         16          1848   2018               5   \n23     12         14         22           244   2018               3   \n24      1         14         31           135   2019              10   \n25      2         15         25           398   2019              10   \n26      3         23         43           315   2019              10   \n27      4         17         34          2915   2019              10   \n28      5          5          7           150   2019              10   \n29      6          0          0             0   2019               0   \n30      7          0          0             0   2019               0   \n31      8          0          0             0   2019               0   \n32      9          0          0             0   2019               0   \n33     10          5          7           391   2019              10   \n34     11          0          0             0   2019               0   \n35     12         11         20           316   2019              15   \n36      1         35        151         22148   2020              10   \n37      2         42        167         12551   2020               5   \n38      3         24         46          3057   2020               5   \n39      4         21         50          1059   2020              10   \n40      5         12         23           891   2020              10   \n41      6          9         16            80   2020               5   \n42      7          2          2             0   2020              20   \n43      8         10         12             0   2020              10   \n44      9         16         28           414   2020              10   \n45     10         29         72          1933   2020              10   \n46     11         16         27             0   2020              10   \n47     12          7          9           250   2020              10   \n\n    max_ketinggian  avg_ketinggian        date  \n0               70            40.0   28/1/2017  \n1              250           130.0   28/2/2017  \n2              160            80.0   28/3/2017  \n3              200           105.0   28/4/2017  \n4              120            62.5   28/5/2017  \n5              110            60.0   28/6/2017  \n6               80            45.0   28/7/2017  \n7               80            45.0   28/8/2017  \n8               80            45.0   28/9/2017  \n9              105            57.5  28/10/2017  \n10             150            80.0  28/11/2017  \n11              70            40.0  28/12/2017  \n12              40            22.5   28/1/2018  \n13             300           152.5   28/2/2018  \n14             100            55.0   28/3/2018  \n15              90            47.5   28/4/2018  \n16             150            80.0   28/5/2018  \n17             100            55.0   28/6/2018  \n18               0             0.0   28/7/2018  \n19               0             0.0   28/8/2018  \n20               0             0.0   28/9/2018  \n21              80            45.0  28/10/2018  \n22             100            52.5  28/11/2018  \n23             100            51.5  28/12/2018  \n24              70            40.0   28/1/2019  \n25             135            72.5   28/2/2019  \n26             100            55.0   28/3/2019  \n27             250           130.0   28/4/2019  \n28             100            55.0   28/5/2019  \n29               0             0.0   28/6/2019  \n30               0             0.0   28/7/2019  \n31               0             0.0   28/8/2019  \n32               0             0.0   28/9/2019  \n33             100            55.0  28/10/2019  \n34               0             0.0  28/11/2019  \n35             100            57.5  28/12/2019  \n36             350           180.0   28/1/2020  \n37             200           102.5   28/2/2020  \n38             160            82.5   28/3/2020  \n39             130            70.0   28/4/2020  \n40             200           105.0   28/5/2020  \n41             120            62.5   28/6/2020  \n42              50            35.0   28/7/2020  \n43              80            45.0   28/8/2020  \n44             130            70.0   28/9/2020  \n45             180            95.0  28/10/2020  \n46              60            35.0  28/11/2020  \n47              80            45.0  28/12/2020  ",
      "text/html": "<div>\n<style scoped>\n    .dataframe tbody tr th:only-of-type {\n        vertical-align: middle;\n    }\n\n    .dataframe tbody tr th {\n        vertical-align: top;\n    }\n\n    .dataframe thead th {\n        text-align: right;\n    }\n</style>\n<table border=\"1\" class=\"dataframe\">\n  <thead>\n    <tr style=\"text-align: right;\">\n      <th></th>\n      <th>bulan</th>\n      <th>kecamatan</th>\n      <th>kelurahan</th>\n      <th>kk_terdampak</th>\n      <th>tahun</th>\n      <th>min_ketinggian</th>\n      <th>max_ketinggian</th>\n      <th>avg_ketinggian</th>\n      <th>date</th>\n    </tr>\n  </thead>\n  <tbody>\n    <tr>\n      <th>0</th>\n      <td>1</td>\n      <td>4</td>\n      <td>5</td>\n      <td>0</td>\n      <td>2017</td>\n      <td>10</td>\n      <td>70</td>\n      <td>40.0</td>\n      <td>28/1/2017</td>\n    </tr>\n    <tr>\n      <th>1</th>\n      <td>2</td>\n      <td>31</td>\n      <td>67</td>\n      <td>6967</td>\n      <td>2017</td>\n      <td>10</td>\n      <td>250</td>\n      <td>130.0</td>\n      <td>28/2/2017</td>\n    </tr>\n    <tr>\n      <th>2</th>\n      <td>3</td>\n      <td>20</td>\n      <td>40</td>\n      <td>3232</td>\n      <td>2017</td>\n      <td>0</td>\n      <td>160</td>\n      <td>80.0</td>\n      <td>28/3/2017</td>\n    </tr>\n    <tr>\n      <th>3</th>\n      <td>4</td>\n      <td>19</td>\n      <td>33</td>\n      <td>621</td>\n      <td>2017</td>\n      <td>10</td>\n      <td>200</td>\n      <td>105.0</td>\n      <td>28/4/2017</td>\n    </tr>\n    <tr>\n      <th>4</th>\n      <td>5</td>\n      <td>15</td>\n      <td>25</td>\n      <td>1056</td>\n      <td>2017</td>\n      <td>5</td>\n      <td>120</td>\n      <td>62.5</td>\n      <td>28/5/2017</td>\n    </tr>\n    <tr>\n      <th>5</th>\n      <td>6</td>\n      <td>4</td>\n      <td>5</td>\n      <td>1409</td>\n      <td>2017</td>\n      <td>10</td>\n      <td>110</td>\n      <td>60.0</td>\n      <td>28/6/2017</td>\n    </tr>\n    <tr>\n      <th>6</th>\n      <td>7</td>\n      <td>6</td>\n      <td>8</td>\n      <td>251</td>\n      <td>2017</td>\n      <td>10</td>\n      <td>80</td>\n      <td>45.0</td>\n      <td>28/7/2017</td>\n    </tr>\n    <tr>\n      <th>7</th>\n      <td>8</td>\n      <td>5</td>\n      <td>6</td>\n      <td>0</td>\n      <td>2017</td>\n      <td>10</td>\n      <td>80</td>\n      <td>45.0</td>\n      <td>28/8/2017</td>\n    </tr>\n    <tr>\n      <th>8</th>\n      <td>9</td>\n      <td>1</td>\n      <td>1</td>\n      <td>0</td>\n      <td>2017</td>\n      <td>10</td>\n      <td>80</td>\n      <td>45.0</td>\n      <td>28/9/2017</td>\n    </tr>\n    <tr>\n      <th>9</th>\n      <td>10</td>\n      <td>8</td>\n      <td>11</td>\n      <td>15</td>\n      <td>2017</td>\n      <td>10</td>\n      <td>105</td>\n      <td>57.5</td>\n      <td>28/10/2017</td>\n    </tr>\n    <tr>\n      <th>10</th>\n      <td>11</td>\n      <td>17</td>\n      <td>37</td>\n      <td>1935</td>\n      <td>2017</td>\n      <td>10</td>\n      <td>150</td>\n      <td>80.0</td>\n      <td>28/11/2017</td>\n    </tr>\n    <tr>\n      <th>11</th>\n      <td>12</td>\n      <td>19</td>\n      <td>26</td>\n      <td>131</td>\n      <td>2017</td>\n      <td>10</td>\n      <td>70</td>\n      <td>40.0</td>\n      <td>28/12/2017</td>\n    </tr>\n    <tr>\n      <th>12</th>\n      <td>1</td>\n      <td>5</td>\n      <td>8</td>\n      <td>0</td>\n      <td>2018</td>\n      <td>5</td>\n      <td>40</td>\n      <td>22.5</td>\n      <td>28/1/2018</td>\n    </tr>\n    <tr>\n      <th>13</th>\n      <td>2</td>\n      <td>24</td>\n      <td>43</td>\n      <td>5467</td>\n      <td>2018</td>\n      <td>5</td>\n      <td>300</td>\n      <td>152.5</td>\n      <td>28/2/2018</td>\n    </tr>\n    <tr>\n      <th>14</th>\n      <td>3</td>\n      <td>6</td>\n      <td>8</td>\n      <td>303</td>\n      <td>2018</td>\n      <td>10</td>\n      <td>100</td>\n      <td>55.0</td>\n      <td>28/3/2018</td>\n    </tr>\n    <tr>\n      <th>15</th>\n      <td>4</td>\n      <td>6</td>\n      <td>8</td>\n      <td>300</td>\n      <td>2018</td>\n      <td>5</td>\n      <td>90</td>\n      <td>47.5</td>\n      <td>28/4/2018</td>\n    </tr>\n    <tr>\n      <th>16</th>\n      <td>5</td>\n      <td>8</td>\n      <td>17</td>\n      <td>214</td>\n      <td>2018</td>\n      <td>10</td>\n      <td>150</td>\n      <td>80.0</td>\n      <td>28/5/2018</td>\n    </tr>\n    <tr>\n      <th>17</th>\n      <td>6</td>\n      <td>5</td>\n      <td>8</td>\n      <td>328</td>\n      <td>2018</td>\n      <td>10</td>\n      <td>100</td>\n      <td>55.0</td>\n      <td>28/6/2018</td>\n    </tr>\n    <tr>\n      <th>18</th>\n      <td>7</td>\n      <td>0</td>\n      <td>0</td>\n      <td>0</td>\n      <td>2018</td>\n      <td>0</td>\n      <td>0</td>\n      <td>0.0</td>\n      <td>28/7/2018</td>\n    </tr>\n    <tr>\n      <th>19</th>\n      <td>8</td>\n      <td>0</td>\n      <td>0</td>\n      <td>0</td>\n      <td>2018</td>\n      <td>0</td>\n      <td>0</td>\n      <td>0.0</td>\n      <td>28/8/2018</td>\n    </tr>\n    <tr>\n      <th>20</th>\n      <td>9</td>\n      <td>0</td>\n      <td>0</td>\n      <td>0</td>\n      <td>2018</td>\n      <td>0</td>\n      <td>0</td>\n      <td>0.0</td>\n      <td>28/9/2018</td>\n    </tr>\n    <tr>\n      <th>21</th>\n      <td>10</td>\n      <td>4</td>\n      <td>5</td>\n      <td>387</td>\n      <td>2018</td>\n      <td>10</td>\n      <td>80</td>\n      <td>45.0</td>\n      <td>28/10/2018</td>\n    </tr>\n    <tr>\n      <th>22</th>\n      <td>11</td>\n      <td>11</td>\n      <td>16</td>\n      <td>1848</td>\n      <td>2018</td>\n      <td>5</td>\n      <td>100</td>\n      <td>52.5</td>\n      <td>28/11/2018</td>\n    </tr>\n    <tr>\n      <th>23</th>\n      <td>12</td>\n      <td>14</td>\n      <td>22</td>\n      <td>244</td>\n      <td>2018</td>\n      <td>3</td>\n      <td>100</td>\n      <td>51.5</td>\n      <td>28/12/2018</td>\n    </tr>\n    <tr>\n      <th>24</th>\n      <td>1</td>\n      <td>14</td>\n      <td>31</td>\n      <td>135</td>\n      <td>2019</td>\n      <td>10</td>\n      <td>70</td>\n      <td>40.0</td>\n      <td>28/1/2019</td>\n    </tr>\n    <tr>\n      <th>25</th>\n      <td>2</td>\n      <td>15</td>\n      <td>25</td>\n      <td>398</td>\n      <td>2019</td>\n      <td>10</td>\n      <td>135</td>\n      <td>72.5</td>\n      <td>28/2/2019</td>\n    </tr>\n    <tr>\n      <th>26</th>\n      <td>3</td>\n      <td>23</td>\n      <td>43</td>\n      <td>315</td>\n      <td>2019</td>\n      <td>10</td>\n      <td>100</td>\n      <td>55.0</td>\n      <td>28/3/2019</td>\n    </tr>\n    <tr>\n      <th>27</th>\n      <td>4</td>\n      <td>17</td>\n      <td>34</td>\n      <td>2915</td>\n      <td>2019</td>\n      <td>10</td>\n      <td>250</td>\n      <td>130.0</td>\n      <td>28/4/2019</td>\n    </tr>\n    <tr>\n      <th>28</th>\n      <td>5</td>\n      <td>5</td>\n      <td>7</td>\n      <td>150</td>\n      <td>2019</td>\n      <td>10</td>\n      <td>100</td>\n      <td>55.0</td>\n      <td>28/5/2019</td>\n    </tr>\n    <tr>\n      <th>29</th>\n      <td>6</td>\n      <td>0</td>\n      <td>0</td>\n      <td>0</td>\n      <td>2019</td>\n      <td>0</td>\n      <td>0</td>\n      <td>0.0</td>\n      <td>28/6/2019</td>\n    </tr>\n    <tr>\n      <th>30</th>\n      <td>7</td>\n      <td>0</td>\n      <td>0</td>\n      <td>0</td>\n      <td>2019</td>\n      <td>0</td>\n      <td>0</td>\n      <td>0.0</td>\n      <td>28/7/2019</td>\n    </tr>\n    <tr>\n      <th>31</th>\n      <td>8</td>\n      <td>0</td>\n      <td>0</td>\n      <td>0</td>\n      <td>2019</td>\n      <td>0</td>\n      <td>0</td>\n      <td>0.0</td>\n      <td>28/8/2019</td>\n    </tr>\n    <tr>\n      <th>32</th>\n      <td>9</td>\n      <td>0</td>\n      <td>0</td>\n      <td>0</td>\n      <td>2019</td>\n      <td>0</td>\n      <td>0</td>\n      <td>0.0</td>\n      <td>28/9/2019</td>\n    </tr>\n    <tr>\n      <th>33</th>\n      <td>10</td>\n      <td>5</td>\n      <td>7</td>\n      <td>391</td>\n      <td>2019</td>\n      <td>10</td>\n      <td>100</td>\n      <td>55.0</td>\n      <td>28/10/2019</td>\n    </tr>\n    <tr>\n      <th>34</th>\n      <td>11</td>\n      <td>0</td>\n      <td>0</td>\n      <td>0</td>\n      <td>2019</td>\n      <td>0</td>\n      <td>0</td>\n      <td>0.0</td>\n      <td>28/11/2019</td>\n    </tr>\n    <tr>\n      <th>35</th>\n      <td>12</td>\n      <td>11</td>\n      <td>20</td>\n      <td>316</td>\n      <td>2019</td>\n      <td>15</td>\n      <td>100</td>\n      <td>57.5</td>\n      <td>28/12/2019</td>\n    </tr>\n    <tr>\n      <th>36</th>\n      <td>1</td>\n      <td>35</td>\n      <td>151</td>\n      <td>22148</td>\n      <td>2020</td>\n      <td>10</td>\n      <td>350</td>\n      <td>180.0</td>\n      <td>28/1/2020</td>\n    </tr>\n    <tr>\n      <th>37</th>\n      <td>2</td>\n      <td>42</td>\n      <td>167</td>\n      <td>12551</td>\n      <td>2020</td>\n      <td>5</td>\n      <td>200</td>\n      <td>102.5</td>\n      <td>28/2/2020</td>\n    </tr>\n    <tr>\n      <th>38</th>\n      <td>3</td>\n      <td>24</td>\n      <td>46</td>\n      <td>3057</td>\n      <td>2020</td>\n      <td>5</td>\n      <td>160</td>\n      <td>82.5</td>\n      <td>28/3/2020</td>\n    </tr>\n    <tr>\n      <th>39</th>\n      <td>4</td>\n      <td>21</td>\n      <td>50</td>\n      <td>1059</td>\n      <td>2020</td>\n      <td>10</td>\n      <td>130</td>\n      <td>70.0</td>\n      <td>28/4/2020</td>\n    </tr>\n    <tr>\n      <th>40</th>\n      <td>5</td>\n      <td>12</td>\n      <td>23</td>\n      <td>891</td>\n      <td>2020</td>\n      <td>10</td>\n      <td>200</td>\n      <td>105.0</td>\n      <td>28/5/2020</td>\n    </tr>\n    <tr>\n      <th>41</th>\n      <td>6</td>\n      <td>9</td>\n      <td>16</td>\n      <td>80</td>\n      <td>2020</td>\n      <td>5</td>\n      <td>120</td>\n      <td>62.5</td>\n      <td>28/6/2020</td>\n    </tr>\n    <tr>\n      <th>42</th>\n      <td>7</td>\n      <td>2</td>\n      <td>2</td>\n      <td>0</td>\n      <td>2020</td>\n      <td>20</td>\n      <td>50</td>\n      <td>35.0</td>\n      <td>28/7/2020</td>\n    </tr>\n    <tr>\n      <th>43</th>\n      <td>8</td>\n      <td>10</td>\n      <td>12</td>\n      <td>0</td>\n      <td>2020</td>\n      <td>10</td>\n      <td>80</td>\n      <td>45.0</td>\n      <td>28/8/2020</td>\n    </tr>\n    <tr>\n      <th>44</th>\n      <td>9</td>\n      <td>16</td>\n      <td>28</td>\n      <td>414</td>\n      <td>2020</td>\n      <td>10</td>\n      <td>130</td>\n      <td>70.0</td>\n      <td>28/9/2020</td>\n    </tr>\n    <tr>\n      <th>45</th>\n      <td>10</td>\n      <td>29</td>\n      <td>72</td>\n      <td>1933</td>\n      <td>2020</td>\n      <td>10</td>\n      <td>180</td>\n      <td>95.0</td>\n      <td>28/10/2020</td>\n    </tr>\n    <tr>\n      <th>46</th>\n      <td>11</td>\n      <td>16</td>\n      <td>27</td>\n      <td>0</td>\n      <td>2020</td>\n      <td>10</td>\n      <td>60</td>\n      <td>35.0</td>\n      <td>28/11/2020</td>\n    </tr>\n    <tr>\n      <th>47</th>\n      <td>12</td>\n      <td>7</td>\n      <td>9</td>\n      <td>250</td>\n      <td>2020</td>\n      <td>10</td>\n      <td>80</td>\n      <td>45.0</td>\n      <td>28/12/2020</td>\n    </tr>\n  </tbody>\n</table>\n</div>"
     },
     "metadata": {}
    }
   ]
  },
  {
   "cell_type": "code",
   "metadata": {
    "cell_id": "4002a2dc68c348c0827a7d41ee590b68",
    "tags": [],
    "deepnote_to_be_reexecuted": false,
    "source_hash": "bccafd56",
    "execution_start": 1661016283885,
    "execution_millis": 42,
    "deepnote_cell_type": "code",
    "deepnote_cell_height": 613
   },
   "source": "df2 = df2[['date', 'avg_ketinggian']]\ndf2",
   "execution_count": 34,
   "outputs": [
    {
     "output_type": "execute_result",
     "execution_count": 34,
     "data": {
      "application/vnd.deepnote.dataframe.v3+json": {
       "column_count": 2,
       "row_count": 48,
       "columns": [
        {
         "name": "date",
         "dtype": "object",
         "stats": {
          "unique_count": 48,
          "nan_count": 0,
          "categories": [
           {
            "name": "28/1/2017",
            "count": 1
           },
           {
            "name": "28/2/2017",
            "count": 1
           },
           {
            "name": "46 others",
            "count": 46
           }
          ]
         }
        },
        {
         "name": "avg_ketinggian",
         "dtype": "float64",
         "stats": {
          "unique_count": 22,
          "nan_count": 0,
          "min": "0.0",
          "max": "180.0",
          "histogram": [
           {
            "bin_start": 0,
            "bin_end": 18,
            "count": 8
           },
           {
            "bin_start": 18,
            "bin_end": 36,
            "count": 3
           },
           {
            "bin_start": 36,
            "bin_end": 54,
            "count": 12
           },
           {
            "bin_start": 54,
            "bin_end": 72,
            "count": 12
           },
           {
            "bin_start": 72,
            "bin_end": 90,
            "count": 5
           },
           {
            "bin_start": 90,
            "bin_end": 108,
            "count": 4
           },
           {
            "bin_start": 108,
            "bin_end": 126,
            "count": 0
           },
           {
            "bin_start": 126,
            "bin_end": 144,
            "count": 2
           },
           {
            "bin_start": 144,
            "bin_end": 162,
            "count": 1
           },
           {
            "bin_start": 162,
            "bin_end": 180,
            "count": 1
           }
          ]
         }
        },
        {
         "name": "_deepnote_index_column",
         "dtype": "int64"
        }
       ],
       "rows": [
        {
         "date": "28/1/2017",
         "avg_ketinggian": 40,
         "_deepnote_index_column": 0
        },
        {
         "date": "28/2/2017",
         "avg_ketinggian": 130,
         "_deepnote_index_column": 1
        },
        {
         "date": "28/3/2017",
         "avg_ketinggian": 80,
         "_deepnote_index_column": 2
        },
        {
         "date": "28/4/2017",
         "avg_ketinggian": 105,
         "_deepnote_index_column": 3
        },
        {
         "date": "28/5/2017",
         "avg_ketinggian": 62.5,
         "_deepnote_index_column": 4
        },
        {
         "date": "28/6/2017",
         "avg_ketinggian": 60,
         "_deepnote_index_column": 5
        },
        {
         "date": "28/7/2017",
         "avg_ketinggian": 45,
         "_deepnote_index_column": 6
        },
        {
         "date": "28/8/2017",
         "avg_ketinggian": 45,
         "_deepnote_index_column": 7
        },
        {
         "date": "28/9/2017",
         "avg_ketinggian": 45,
         "_deepnote_index_column": 8
        },
        {
         "date": "28/10/2017",
         "avg_ketinggian": 57.5,
         "_deepnote_index_column": 9
        }
       ]
      },
      "text/plain": "          date  avg_ketinggian\n0    28/1/2017            40.0\n1    28/2/2017           130.0\n2    28/3/2017            80.0\n3    28/4/2017           105.0\n4    28/5/2017            62.5\n5    28/6/2017            60.0\n6    28/7/2017            45.0\n7    28/8/2017            45.0\n8    28/9/2017            45.0\n9   28/10/2017            57.5\n10  28/11/2017            80.0\n11  28/12/2017            40.0\n12   28/1/2018            22.5\n13   28/2/2018           152.5\n14   28/3/2018            55.0\n15   28/4/2018            47.5\n16   28/5/2018            80.0\n17   28/6/2018            55.0\n18   28/7/2018             0.0\n19   28/8/2018             0.0\n20   28/9/2018             0.0\n21  28/10/2018            45.0\n22  28/11/2018            52.5\n23  28/12/2018            51.5\n24   28/1/2019            40.0\n25   28/2/2019            72.5\n26   28/3/2019            55.0\n27   28/4/2019           130.0\n28   28/5/2019            55.0\n29   28/6/2019             0.0\n30   28/7/2019             0.0\n31   28/8/2019             0.0\n32   28/9/2019             0.0\n33  28/10/2019            55.0\n34  28/11/2019             0.0\n35  28/12/2019            57.5\n36   28/1/2020           180.0\n37   28/2/2020           102.5\n38   28/3/2020            82.5\n39   28/4/2020            70.0\n40   28/5/2020           105.0\n41   28/6/2020            62.5\n42   28/7/2020            35.0\n43   28/8/2020            45.0\n44   28/9/2020            70.0\n45  28/10/2020            95.0\n46  28/11/2020            35.0\n47  28/12/2020            45.0",
      "text/html": "<div>\n<style scoped>\n    .dataframe tbody tr th:only-of-type {\n        vertical-align: middle;\n    }\n\n    .dataframe tbody tr th {\n        vertical-align: top;\n    }\n\n    .dataframe thead th {\n        text-align: right;\n    }\n</style>\n<table border=\"1\" class=\"dataframe\">\n  <thead>\n    <tr style=\"text-align: right;\">\n      <th></th>\n      <th>date</th>\n      <th>avg_ketinggian</th>\n    </tr>\n  </thead>\n  <tbody>\n    <tr>\n      <th>0</th>\n      <td>28/1/2017</td>\n      <td>40.0</td>\n    </tr>\n    <tr>\n      <th>1</th>\n      <td>28/2/2017</td>\n      <td>130.0</td>\n    </tr>\n    <tr>\n      <th>2</th>\n      <td>28/3/2017</td>\n      <td>80.0</td>\n    </tr>\n    <tr>\n      <th>3</th>\n      <td>28/4/2017</td>\n      <td>105.0</td>\n    </tr>\n    <tr>\n      <th>4</th>\n      <td>28/5/2017</td>\n      <td>62.5</td>\n    </tr>\n    <tr>\n      <th>5</th>\n      <td>28/6/2017</td>\n      <td>60.0</td>\n    </tr>\n    <tr>\n      <th>6</th>\n      <td>28/7/2017</td>\n      <td>45.0</td>\n    </tr>\n    <tr>\n      <th>7</th>\n      <td>28/8/2017</td>\n      <td>45.0</td>\n    </tr>\n    <tr>\n      <th>8</th>\n      <td>28/9/2017</td>\n      <td>45.0</td>\n    </tr>\n    <tr>\n      <th>9</th>\n      <td>28/10/2017</td>\n      <td>57.5</td>\n    </tr>\n    <tr>\n      <th>10</th>\n      <td>28/11/2017</td>\n      <td>80.0</td>\n    </tr>\n    <tr>\n      <th>11</th>\n      <td>28/12/2017</td>\n      <td>40.0</td>\n    </tr>\n    <tr>\n      <th>12</th>\n      <td>28/1/2018</td>\n      <td>22.5</td>\n    </tr>\n    <tr>\n      <th>13</th>\n      <td>28/2/2018</td>\n      <td>152.5</td>\n    </tr>\n    <tr>\n      <th>14</th>\n      <td>28/3/2018</td>\n      <td>55.0</td>\n    </tr>\n    <tr>\n      <th>15</th>\n      <td>28/4/2018</td>\n      <td>47.5</td>\n    </tr>\n    <tr>\n      <th>16</th>\n      <td>28/5/2018</td>\n      <td>80.0</td>\n    </tr>\n    <tr>\n      <th>17</th>\n      <td>28/6/2018</td>\n      <td>55.0</td>\n    </tr>\n    <tr>\n      <th>18</th>\n      <td>28/7/2018</td>\n      <td>0.0</td>\n    </tr>\n    <tr>\n      <th>19</th>\n      <td>28/8/2018</td>\n      <td>0.0</td>\n    </tr>\n    <tr>\n      <th>20</th>\n      <td>28/9/2018</td>\n      <td>0.0</td>\n    </tr>\n    <tr>\n      <th>21</th>\n      <td>28/10/2018</td>\n      <td>45.0</td>\n    </tr>\n    <tr>\n      <th>22</th>\n      <td>28/11/2018</td>\n      <td>52.5</td>\n    </tr>\n    <tr>\n      <th>23</th>\n      <td>28/12/2018</td>\n      <td>51.5</td>\n    </tr>\n    <tr>\n      <th>24</th>\n      <td>28/1/2019</td>\n      <td>40.0</td>\n    </tr>\n    <tr>\n      <th>25</th>\n      <td>28/2/2019</td>\n      <td>72.5</td>\n    </tr>\n    <tr>\n      <th>26</th>\n      <td>28/3/2019</td>\n      <td>55.0</td>\n    </tr>\n    <tr>\n      <th>27</th>\n      <td>28/4/2019</td>\n      <td>130.0</td>\n    </tr>\n    <tr>\n      <th>28</th>\n      <td>28/5/2019</td>\n      <td>55.0</td>\n    </tr>\n    <tr>\n      <th>29</th>\n      <td>28/6/2019</td>\n      <td>0.0</td>\n    </tr>\n    <tr>\n      <th>30</th>\n      <td>28/7/2019</td>\n      <td>0.0</td>\n    </tr>\n    <tr>\n      <th>31</th>\n      <td>28/8/2019</td>\n      <td>0.0</td>\n    </tr>\n    <tr>\n      <th>32</th>\n      <td>28/9/2019</td>\n      <td>0.0</td>\n    </tr>\n    <tr>\n      <th>33</th>\n      <td>28/10/2019</td>\n      <td>55.0</td>\n    </tr>\n    <tr>\n      <th>34</th>\n      <td>28/11/2019</td>\n      <td>0.0</td>\n    </tr>\n    <tr>\n      <th>35</th>\n      <td>28/12/2019</td>\n      <td>57.5</td>\n    </tr>\n    <tr>\n      <th>36</th>\n      <td>28/1/2020</td>\n      <td>180.0</td>\n    </tr>\n    <tr>\n      <th>37</th>\n      <td>28/2/2020</td>\n      <td>102.5</td>\n    </tr>\n    <tr>\n      <th>38</th>\n      <td>28/3/2020</td>\n      <td>82.5</td>\n    </tr>\n    <tr>\n      <th>39</th>\n      <td>28/4/2020</td>\n      <td>70.0</td>\n    </tr>\n    <tr>\n      <th>40</th>\n      <td>28/5/2020</td>\n      <td>105.0</td>\n    </tr>\n    <tr>\n      <th>41</th>\n      <td>28/6/2020</td>\n      <td>62.5</td>\n    </tr>\n    <tr>\n      <th>42</th>\n      <td>28/7/2020</td>\n      <td>35.0</td>\n    </tr>\n    <tr>\n      <th>43</th>\n      <td>28/8/2020</td>\n      <td>45.0</td>\n    </tr>\n    <tr>\n      <th>44</th>\n      <td>28/9/2020</td>\n      <td>70.0</td>\n    </tr>\n    <tr>\n      <th>45</th>\n      <td>28/10/2020</td>\n      <td>95.0</td>\n    </tr>\n    <tr>\n      <th>46</th>\n      <td>28/11/2020</td>\n      <td>35.0</td>\n    </tr>\n    <tr>\n      <th>47</th>\n      <td>28/12/2020</td>\n      <td>45.0</td>\n    </tr>\n  </tbody>\n</table>\n</div>"
     },
     "metadata": {}
    }
   ]
  },
  {
   "cell_type": "code",
   "metadata": {
    "cell_id": "672c6dcb635b46f78c3041cf091d381c",
    "tags": [],
    "deepnote_to_be_reexecuted": false,
    "source_hash": "1862fb40",
    "execution_start": 1661016283946,
    "execution_millis": 11,
    "deepnote_cell_type": "code",
    "deepnote_cell_height": 613
   },
   "source": "df2.index = df2['date']\ndf2",
   "execution_count": 35,
   "outputs": [
    {
     "output_type": "execute_result",
     "execution_count": 35,
     "data": {
      "application/vnd.deepnote.dataframe.v3+json": {
       "column_count": 2,
       "row_count": 48,
       "columns": [
        {
         "name": "date",
         "dtype": "object",
         "stats": {
          "unique_count": 48,
          "nan_count": 0,
          "categories": [
           {
            "name": "28/1/2017",
            "count": 1
           },
           {
            "name": "28/2/2017",
            "count": 1
           },
           {
            "name": "46 others",
            "count": 46
           }
          ]
         }
        },
        {
         "name": "avg_ketinggian",
         "dtype": "float64",
         "stats": {
          "unique_count": 22,
          "nan_count": 0,
          "min": "0.0",
          "max": "180.0",
          "histogram": [
           {
            "bin_start": 0,
            "bin_end": 18,
            "count": 8
           },
           {
            "bin_start": 18,
            "bin_end": 36,
            "count": 3
           },
           {
            "bin_start": 36,
            "bin_end": 54,
            "count": 12
           },
           {
            "bin_start": 54,
            "bin_end": 72,
            "count": 12
           },
           {
            "bin_start": 72,
            "bin_end": 90,
            "count": 5
           },
           {
            "bin_start": 90,
            "bin_end": 108,
            "count": 4
           },
           {
            "bin_start": 108,
            "bin_end": 126,
            "count": 0
           },
           {
            "bin_start": 126,
            "bin_end": 144,
            "count": 2
           },
           {
            "bin_start": 144,
            "bin_end": 162,
            "count": 1
           },
           {
            "bin_start": 162,
            "bin_end": 180,
            "count": 1
           }
          ]
         }
        },
        {
         "name": "_deepnote_index_column",
         "dtype": "object"
        }
       ],
       "rows": [
        {
         "date": "28/1/2017",
         "avg_ketinggian": 40,
         "_deepnote_index_column": "28/1/2017"
        },
        {
         "date": "28/2/2017",
         "avg_ketinggian": 130,
         "_deepnote_index_column": "28/2/2017"
        },
        {
         "date": "28/3/2017",
         "avg_ketinggian": 80,
         "_deepnote_index_column": "28/3/2017"
        },
        {
         "date": "28/4/2017",
         "avg_ketinggian": 105,
         "_deepnote_index_column": "28/4/2017"
        },
        {
         "date": "28/5/2017",
         "avg_ketinggian": 62.5,
         "_deepnote_index_column": "28/5/2017"
        },
        {
         "date": "28/6/2017",
         "avg_ketinggian": 60,
         "_deepnote_index_column": "28/6/2017"
        },
        {
         "date": "28/7/2017",
         "avg_ketinggian": 45,
         "_deepnote_index_column": "28/7/2017"
        },
        {
         "date": "28/8/2017",
         "avg_ketinggian": 45,
         "_deepnote_index_column": "28/8/2017"
        },
        {
         "date": "28/9/2017",
         "avg_ketinggian": 45,
         "_deepnote_index_column": "28/9/2017"
        },
        {
         "date": "28/10/2017",
         "avg_ketinggian": 57.5,
         "_deepnote_index_column": "28/10/2017"
        }
       ]
      },
      "text/plain": "                  date  avg_ketinggian\ndate                                  \n28/1/2017    28/1/2017            40.0\n28/2/2017    28/2/2017           130.0\n28/3/2017    28/3/2017            80.0\n28/4/2017    28/4/2017           105.0\n28/5/2017    28/5/2017            62.5\n28/6/2017    28/6/2017            60.0\n28/7/2017    28/7/2017            45.0\n28/8/2017    28/8/2017            45.0\n28/9/2017    28/9/2017            45.0\n28/10/2017  28/10/2017            57.5\n28/11/2017  28/11/2017            80.0\n28/12/2017  28/12/2017            40.0\n28/1/2018    28/1/2018            22.5\n28/2/2018    28/2/2018           152.5\n28/3/2018    28/3/2018            55.0\n28/4/2018    28/4/2018            47.5\n28/5/2018    28/5/2018            80.0\n28/6/2018    28/6/2018            55.0\n28/7/2018    28/7/2018             0.0\n28/8/2018    28/8/2018             0.0\n28/9/2018    28/9/2018             0.0\n28/10/2018  28/10/2018            45.0\n28/11/2018  28/11/2018            52.5\n28/12/2018  28/12/2018            51.5\n28/1/2019    28/1/2019            40.0\n28/2/2019    28/2/2019            72.5\n28/3/2019    28/3/2019            55.0\n28/4/2019    28/4/2019           130.0\n28/5/2019    28/5/2019            55.0\n28/6/2019    28/6/2019             0.0\n28/7/2019    28/7/2019             0.0\n28/8/2019    28/8/2019             0.0\n28/9/2019    28/9/2019             0.0\n28/10/2019  28/10/2019            55.0\n28/11/2019  28/11/2019             0.0\n28/12/2019  28/12/2019            57.5\n28/1/2020    28/1/2020           180.0\n28/2/2020    28/2/2020           102.5\n28/3/2020    28/3/2020            82.5\n28/4/2020    28/4/2020            70.0\n28/5/2020    28/5/2020           105.0\n28/6/2020    28/6/2020            62.5\n28/7/2020    28/7/2020            35.0\n28/8/2020    28/8/2020            45.0\n28/9/2020    28/9/2020            70.0\n28/10/2020  28/10/2020            95.0\n28/11/2020  28/11/2020            35.0\n28/12/2020  28/12/2020            45.0",
      "text/html": "<div>\n<style scoped>\n    .dataframe tbody tr th:only-of-type {\n        vertical-align: middle;\n    }\n\n    .dataframe tbody tr th {\n        vertical-align: top;\n    }\n\n    .dataframe thead th {\n        text-align: right;\n    }\n</style>\n<table border=\"1\" class=\"dataframe\">\n  <thead>\n    <tr style=\"text-align: right;\">\n      <th></th>\n      <th>date</th>\n      <th>avg_ketinggian</th>\n    </tr>\n    <tr>\n      <th>date</th>\n      <th></th>\n      <th></th>\n    </tr>\n  </thead>\n  <tbody>\n    <tr>\n      <th>28/1/2017</th>\n      <td>28/1/2017</td>\n      <td>40.0</td>\n    </tr>\n    <tr>\n      <th>28/2/2017</th>\n      <td>28/2/2017</td>\n      <td>130.0</td>\n    </tr>\n    <tr>\n      <th>28/3/2017</th>\n      <td>28/3/2017</td>\n      <td>80.0</td>\n    </tr>\n    <tr>\n      <th>28/4/2017</th>\n      <td>28/4/2017</td>\n      <td>105.0</td>\n    </tr>\n    <tr>\n      <th>28/5/2017</th>\n      <td>28/5/2017</td>\n      <td>62.5</td>\n    </tr>\n    <tr>\n      <th>28/6/2017</th>\n      <td>28/6/2017</td>\n      <td>60.0</td>\n    </tr>\n    <tr>\n      <th>28/7/2017</th>\n      <td>28/7/2017</td>\n      <td>45.0</td>\n    </tr>\n    <tr>\n      <th>28/8/2017</th>\n      <td>28/8/2017</td>\n      <td>45.0</td>\n    </tr>\n    <tr>\n      <th>28/9/2017</th>\n      <td>28/9/2017</td>\n      <td>45.0</td>\n    </tr>\n    <tr>\n      <th>28/10/2017</th>\n      <td>28/10/2017</td>\n      <td>57.5</td>\n    </tr>\n    <tr>\n      <th>28/11/2017</th>\n      <td>28/11/2017</td>\n      <td>80.0</td>\n    </tr>\n    <tr>\n      <th>28/12/2017</th>\n      <td>28/12/2017</td>\n      <td>40.0</td>\n    </tr>\n    <tr>\n      <th>28/1/2018</th>\n      <td>28/1/2018</td>\n      <td>22.5</td>\n    </tr>\n    <tr>\n      <th>28/2/2018</th>\n      <td>28/2/2018</td>\n      <td>152.5</td>\n    </tr>\n    <tr>\n      <th>28/3/2018</th>\n      <td>28/3/2018</td>\n      <td>55.0</td>\n    </tr>\n    <tr>\n      <th>28/4/2018</th>\n      <td>28/4/2018</td>\n      <td>47.5</td>\n    </tr>\n    <tr>\n      <th>28/5/2018</th>\n      <td>28/5/2018</td>\n      <td>80.0</td>\n    </tr>\n    <tr>\n      <th>28/6/2018</th>\n      <td>28/6/2018</td>\n      <td>55.0</td>\n    </tr>\n    <tr>\n      <th>28/7/2018</th>\n      <td>28/7/2018</td>\n      <td>0.0</td>\n    </tr>\n    <tr>\n      <th>28/8/2018</th>\n      <td>28/8/2018</td>\n      <td>0.0</td>\n    </tr>\n    <tr>\n      <th>28/9/2018</th>\n      <td>28/9/2018</td>\n      <td>0.0</td>\n    </tr>\n    <tr>\n      <th>28/10/2018</th>\n      <td>28/10/2018</td>\n      <td>45.0</td>\n    </tr>\n    <tr>\n      <th>28/11/2018</th>\n      <td>28/11/2018</td>\n      <td>52.5</td>\n    </tr>\n    <tr>\n      <th>28/12/2018</th>\n      <td>28/12/2018</td>\n      <td>51.5</td>\n    </tr>\n    <tr>\n      <th>28/1/2019</th>\n      <td>28/1/2019</td>\n      <td>40.0</td>\n    </tr>\n    <tr>\n      <th>28/2/2019</th>\n      <td>28/2/2019</td>\n      <td>72.5</td>\n    </tr>\n    <tr>\n      <th>28/3/2019</th>\n      <td>28/3/2019</td>\n      <td>55.0</td>\n    </tr>\n    <tr>\n      <th>28/4/2019</th>\n      <td>28/4/2019</td>\n      <td>130.0</td>\n    </tr>\n    <tr>\n      <th>28/5/2019</th>\n      <td>28/5/2019</td>\n      <td>55.0</td>\n    </tr>\n    <tr>\n      <th>28/6/2019</th>\n      <td>28/6/2019</td>\n      <td>0.0</td>\n    </tr>\n    <tr>\n      <th>28/7/2019</th>\n      <td>28/7/2019</td>\n      <td>0.0</td>\n    </tr>\n    <tr>\n      <th>28/8/2019</th>\n      <td>28/8/2019</td>\n      <td>0.0</td>\n    </tr>\n    <tr>\n      <th>28/9/2019</th>\n      <td>28/9/2019</td>\n      <td>0.0</td>\n    </tr>\n    <tr>\n      <th>28/10/2019</th>\n      <td>28/10/2019</td>\n      <td>55.0</td>\n    </tr>\n    <tr>\n      <th>28/11/2019</th>\n      <td>28/11/2019</td>\n      <td>0.0</td>\n    </tr>\n    <tr>\n      <th>28/12/2019</th>\n      <td>28/12/2019</td>\n      <td>57.5</td>\n    </tr>\n    <tr>\n      <th>28/1/2020</th>\n      <td>28/1/2020</td>\n      <td>180.0</td>\n    </tr>\n    <tr>\n      <th>28/2/2020</th>\n      <td>28/2/2020</td>\n      <td>102.5</td>\n    </tr>\n    <tr>\n      <th>28/3/2020</th>\n      <td>28/3/2020</td>\n      <td>82.5</td>\n    </tr>\n    <tr>\n      <th>28/4/2020</th>\n      <td>28/4/2020</td>\n      <td>70.0</td>\n    </tr>\n    <tr>\n      <th>28/5/2020</th>\n      <td>28/5/2020</td>\n      <td>105.0</td>\n    </tr>\n    <tr>\n      <th>28/6/2020</th>\n      <td>28/6/2020</td>\n      <td>62.5</td>\n    </tr>\n    <tr>\n      <th>28/7/2020</th>\n      <td>28/7/2020</td>\n      <td>35.0</td>\n    </tr>\n    <tr>\n      <th>28/8/2020</th>\n      <td>28/8/2020</td>\n      <td>45.0</td>\n    </tr>\n    <tr>\n      <th>28/9/2020</th>\n      <td>28/9/2020</td>\n      <td>70.0</td>\n    </tr>\n    <tr>\n      <th>28/10/2020</th>\n      <td>28/10/2020</td>\n      <td>95.0</td>\n    </tr>\n    <tr>\n      <th>28/11/2020</th>\n      <td>28/11/2020</td>\n      <td>35.0</td>\n    </tr>\n    <tr>\n      <th>28/12/2020</th>\n      <td>28/12/2020</td>\n      <td>45.0</td>\n    </tr>\n  </tbody>\n</table>\n</div>"
     },
     "metadata": {}
    }
   ]
  },
  {
   "cell_type": "code",
   "metadata": {
    "cell_id": "0867277e8d83416494d75568716c94d3",
    "tags": [],
    "deepnote_to_be_reexecuted": false,
    "source_hash": "9ce464cd",
    "execution_start": 1661016283964,
    "execution_millis": 30,
    "deepnote_table_state": {
     "pageSize": 10,
     "pageIndex": 3,
     "filters": [],
     "sortBy": []
    },
    "deepnote_table_loading": false,
    "deepnote_cell_type": "code",
    "deepnote_cell_height": 804.5
   },
   "source": "df2['date'] = pd.to_datetime(df2['date'])\ndf2",
   "execution_count": 36,
   "outputs": [
    {
     "name": "stderr",
     "text": "/tmp/ipykernel_69/619026959.py:2: SettingWithCopyWarning:\n\n\nA value is trying to be set on a copy of a slice from a DataFrame.\nTry using .loc[row_indexer,col_indexer] = value instead\n\nSee the caveats in the documentation: https://pandas.pydata.org/pandas-docs/stable/user_guide/indexing.html#returning-a-view-versus-a-copy\n\n",
     "output_type": "stream"
    },
    {
     "output_type": "execute_result",
     "execution_count": 36,
     "data": {
      "application/vnd.deepnote.dataframe.v3+json": {
       "column_count": 2,
       "row_count": 48,
       "columns": [
        {
         "name": "date",
         "dtype": "datetime64[ns]",
         "stats": {
          "unique_count": 48,
          "nan_count": 0,
          "min": "2017-01-28 00:00:00",
          "max": "2020-12-28 00:00:00",
          "histogram": [
           {
            "bin_start": 1485561600000000000,
            "bin_end": 1497916800000000000,
            "count": 5
           },
           {
            "bin_start": 1497916800000000000,
            "bin_end": 1510272000000000000,
            "count": 5
           },
           {
            "bin_start": 1510272000000000000,
            "bin_end": 1522627200000000000,
            "count": 5
           },
           {
            "bin_start": 1522627200000000000,
            "bin_end": 1534982400000000000,
            "count": 4
           },
           {
            "bin_start": 1534982400000000000,
            "bin_end": 1547337600000000000,
            "count": 5
           },
           {
            "bin_start": 1547337600000000000,
            "bin_end": 1559692800000000000,
            "count": 5
           },
           {
            "bin_start": 1559692800000000000,
            "bin_end": 1572048000000000000,
            "count": 4
           },
           {
            "bin_start": 1572048000000000000,
            "bin_end": 1584403200000000000,
            "count": 5
           },
           {
            "bin_start": 1584403200000000000,
            "bin_end": 1596758400000000000,
            "count": 5
           },
           {
            "bin_start": 1596758400000000000,
            "bin_end": 1609113600000000000,
            "count": 5
           }
          ]
         }
        },
        {
         "name": "avg_ketinggian",
         "dtype": "float64",
         "stats": {
          "unique_count": 22,
          "nan_count": 0,
          "min": "0.0",
          "max": "180.0",
          "histogram": [
           {
            "bin_start": 0,
            "bin_end": 18,
            "count": 8
           },
           {
            "bin_start": 18,
            "bin_end": 36,
            "count": 3
           },
           {
            "bin_start": 36,
            "bin_end": 54,
            "count": 12
           },
           {
            "bin_start": 54,
            "bin_end": 72,
            "count": 12
           },
           {
            "bin_start": 72,
            "bin_end": 90,
            "count": 5
           },
           {
            "bin_start": 90,
            "bin_end": 108,
            "count": 4
           },
           {
            "bin_start": 108,
            "bin_end": 126,
            "count": 0
           },
           {
            "bin_start": 126,
            "bin_end": 144,
            "count": 2
           },
           {
            "bin_start": 144,
            "bin_end": 162,
            "count": 1
           },
           {
            "bin_start": 162,
            "bin_end": 180,
            "count": 1
           }
          ]
         }
        },
        {
         "name": "_deepnote_index_column",
         "dtype": "object"
        }
       ],
       "rows": [
        {
         "date": "2019-07-28T00:00:00Z",
         "avg_ketinggian": 0,
         "_deepnote_index_column": "28/7/2019"
        },
        {
         "date": "2019-08-28T00:00:00Z",
         "avg_ketinggian": 0,
         "_deepnote_index_column": "28/8/2019"
        },
        {
         "date": "2019-09-28T00:00:00Z",
         "avg_ketinggian": 0,
         "_deepnote_index_column": "28/9/2019"
        },
        {
         "date": "2019-10-28T00:00:00Z",
         "avg_ketinggian": 55,
         "_deepnote_index_column": "28/10/2019"
        },
        {
         "date": "2019-11-28T00:00:00Z",
         "avg_ketinggian": 0,
         "_deepnote_index_column": "28/11/2019"
        },
        {
         "date": "2019-12-28T00:00:00Z",
         "avg_ketinggian": 57.5,
         "_deepnote_index_column": "28/12/2019"
        },
        {
         "date": "2020-01-28T00:00:00Z",
         "avg_ketinggian": 180,
         "_deepnote_index_column": "28/1/2020"
        },
        {
         "date": "2020-02-28T00:00:00Z",
         "avg_ketinggian": 102.5,
         "_deepnote_index_column": "28/2/2020"
        },
        {
         "date": "2020-03-28T00:00:00Z",
         "avg_ketinggian": 82.5,
         "_deepnote_index_column": "28/3/2020"
        },
        {
         "date": "2020-04-28T00:00:00Z",
         "avg_ketinggian": 70,
         "_deepnote_index_column": "28/4/2020"
        }
       ]
      },
      "text/plain": "                 date  avg_ketinggian\ndate                                 \n28/1/2017  2017-01-28            40.0\n28/2/2017  2017-02-28           130.0\n28/3/2017  2017-03-28            80.0\n28/4/2017  2017-04-28           105.0\n28/5/2017  2017-05-28            62.5\n28/6/2017  2017-06-28            60.0\n28/7/2017  2017-07-28            45.0\n28/8/2017  2017-08-28            45.0\n28/9/2017  2017-09-28            45.0\n28/10/2017 2017-10-28            57.5\n28/11/2017 2017-11-28            80.0\n28/12/2017 2017-12-28            40.0\n28/1/2018  2018-01-28            22.5\n28/2/2018  2018-02-28           152.5\n28/3/2018  2018-03-28            55.0\n28/4/2018  2018-04-28            47.5\n28/5/2018  2018-05-28            80.0\n28/6/2018  2018-06-28            55.0\n28/7/2018  2018-07-28             0.0\n28/8/2018  2018-08-28             0.0\n28/9/2018  2018-09-28             0.0\n28/10/2018 2018-10-28            45.0\n28/11/2018 2018-11-28            52.5\n28/12/2018 2018-12-28            51.5\n28/1/2019  2019-01-28            40.0\n28/2/2019  2019-02-28            72.5\n28/3/2019  2019-03-28            55.0\n28/4/2019  2019-04-28           130.0\n28/5/2019  2019-05-28            55.0\n28/6/2019  2019-06-28             0.0\n28/7/2019  2019-07-28             0.0\n28/8/2019  2019-08-28             0.0\n28/9/2019  2019-09-28             0.0\n28/10/2019 2019-10-28            55.0\n28/11/2019 2019-11-28             0.0\n28/12/2019 2019-12-28            57.5\n28/1/2020  2020-01-28           180.0\n28/2/2020  2020-02-28           102.5\n28/3/2020  2020-03-28            82.5\n28/4/2020  2020-04-28            70.0\n28/5/2020  2020-05-28           105.0\n28/6/2020  2020-06-28            62.5\n28/7/2020  2020-07-28            35.0\n28/8/2020  2020-08-28            45.0\n28/9/2020  2020-09-28            70.0\n28/10/2020 2020-10-28            95.0\n28/11/2020 2020-11-28            35.0\n28/12/2020 2020-12-28            45.0",
      "text/html": "<div>\n<style scoped>\n    .dataframe tbody tr th:only-of-type {\n        vertical-align: middle;\n    }\n\n    .dataframe tbody tr th {\n        vertical-align: top;\n    }\n\n    .dataframe thead th {\n        text-align: right;\n    }\n</style>\n<table border=\"1\" class=\"dataframe\">\n  <thead>\n    <tr style=\"text-align: right;\">\n      <th></th>\n      <th>date</th>\n      <th>avg_ketinggian</th>\n    </tr>\n    <tr>\n      <th>date</th>\n      <th></th>\n      <th></th>\n    </tr>\n  </thead>\n  <tbody>\n    <tr>\n      <th>28/1/2017</th>\n      <td>2017-01-28</td>\n      <td>40.0</td>\n    </tr>\n    <tr>\n      <th>28/2/2017</th>\n      <td>2017-02-28</td>\n      <td>130.0</td>\n    </tr>\n    <tr>\n      <th>28/3/2017</th>\n      <td>2017-03-28</td>\n      <td>80.0</td>\n    </tr>\n    <tr>\n      <th>28/4/2017</th>\n      <td>2017-04-28</td>\n      <td>105.0</td>\n    </tr>\n    <tr>\n      <th>28/5/2017</th>\n      <td>2017-05-28</td>\n      <td>62.5</td>\n    </tr>\n    <tr>\n      <th>28/6/2017</th>\n      <td>2017-06-28</td>\n      <td>60.0</td>\n    </tr>\n    <tr>\n      <th>28/7/2017</th>\n      <td>2017-07-28</td>\n      <td>45.0</td>\n    </tr>\n    <tr>\n      <th>28/8/2017</th>\n      <td>2017-08-28</td>\n      <td>45.0</td>\n    </tr>\n    <tr>\n      <th>28/9/2017</th>\n      <td>2017-09-28</td>\n      <td>45.0</td>\n    </tr>\n    <tr>\n      <th>28/10/2017</th>\n      <td>2017-10-28</td>\n      <td>57.5</td>\n    </tr>\n    <tr>\n      <th>28/11/2017</th>\n      <td>2017-11-28</td>\n      <td>80.0</td>\n    </tr>\n    <tr>\n      <th>28/12/2017</th>\n      <td>2017-12-28</td>\n      <td>40.0</td>\n    </tr>\n    <tr>\n      <th>28/1/2018</th>\n      <td>2018-01-28</td>\n      <td>22.5</td>\n    </tr>\n    <tr>\n      <th>28/2/2018</th>\n      <td>2018-02-28</td>\n      <td>152.5</td>\n    </tr>\n    <tr>\n      <th>28/3/2018</th>\n      <td>2018-03-28</td>\n      <td>55.0</td>\n    </tr>\n    <tr>\n      <th>28/4/2018</th>\n      <td>2018-04-28</td>\n      <td>47.5</td>\n    </tr>\n    <tr>\n      <th>28/5/2018</th>\n      <td>2018-05-28</td>\n      <td>80.0</td>\n    </tr>\n    <tr>\n      <th>28/6/2018</th>\n      <td>2018-06-28</td>\n      <td>55.0</td>\n    </tr>\n    <tr>\n      <th>28/7/2018</th>\n      <td>2018-07-28</td>\n      <td>0.0</td>\n    </tr>\n    <tr>\n      <th>28/8/2018</th>\n      <td>2018-08-28</td>\n      <td>0.0</td>\n    </tr>\n    <tr>\n      <th>28/9/2018</th>\n      <td>2018-09-28</td>\n      <td>0.0</td>\n    </tr>\n    <tr>\n      <th>28/10/2018</th>\n      <td>2018-10-28</td>\n      <td>45.0</td>\n    </tr>\n    <tr>\n      <th>28/11/2018</th>\n      <td>2018-11-28</td>\n      <td>52.5</td>\n    </tr>\n    <tr>\n      <th>28/12/2018</th>\n      <td>2018-12-28</td>\n      <td>51.5</td>\n    </tr>\n    <tr>\n      <th>28/1/2019</th>\n      <td>2019-01-28</td>\n      <td>40.0</td>\n    </tr>\n    <tr>\n      <th>28/2/2019</th>\n      <td>2019-02-28</td>\n      <td>72.5</td>\n    </tr>\n    <tr>\n      <th>28/3/2019</th>\n      <td>2019-03-28</td>\n      <td>55.0</td>\n    </tr>\n    <tr>\n      <th>28/4/2019</th>\n      <td>2019-04-28</td>\n      <td>130.0</td>\n    </tr>\n    <tr>\n      <th>28/5/2019</th>\n      <td>2019-05-28</td>\n      <td>55.0</td>\n    </tr>\n    <tr>\n      <th>28/6/2019</th>\n      <td>2019-06-28</td>\n      <td>0.0</td>\n    </tr>\n    <tr>\n      <th>28/7/2019</th>\n      <td>2019-07-28</td>\n      <td>0.0</td>\n    </tr>\n    <tr>\n      <th>28/8/2019</th>\n      <td>2019-08-28</td>\n      <td>0.0</td>\n    </tr>\n    <tr>\n      <th>28/9/2019</th>\n      <td>2019-09-28</td>\n      <td>0.0</td>\n    </tr>\n    <tr>\n      <th>28/10/2019</th>\n      <td>2019-10-28</td>\n      <td>55.0</td>\n    </tr>\n    <tr>\n      <th>28/11/2019</th>\n      <td>2019-11-28</td>\n      <td>0.0</td>\n    </tr>\n    <tr>\n      <th>28/12/2019</th>\n      <td>2019-12-28</td>\n      <td>57.5</td>\n    </tr>\n    <tr>\n      <th>28/1/2020</th>\n      <td>2020-01-28</td>\n      <td>180.0</td>\n    </tr>\n    <tr>\n      <th>28/2/2020</th>\n      <td>2020-02-28</td>\n      <td>102.5</td>\n    </tr>\n    <tr>\n      <th>28/3/2020</th>\n      <td>2020-03-28</td>\n      <td>82.5</td>\n    </tr>\n    <tr>\n      <th>28/4/2020</th>\n      <td>2020-04-28</td>\n      <td>70.0</td>\n    </tr>\n    <tr>\n      <th>28/5/2020</th>\n      <td>2020-05-28</td>\n      <td>105.0</td>\n    </tr>\n    <tr>\n      <th>28/6/2020</th>\n      <td>2020-06-28</td>\n      <td>62.5</td>\n    </tr>\n    <tr>\n      <th>28/7/2020</th>\n      <td>2020-07-28</td>\n      <td>35.0</td>\n    </tr>\n    <tr>\n      <th>28/8/2020</th>\n      <td>2020-08-28</td>\n      <td>45.0</td>\n    </tr>\n    <tr>\n      <th>28/9/2020</th>\n      <td>2020-09-28</td>\n      <td>70.0</td>\n    </tr>\n    <tr>\n      <th>28/10/2020</th>\n      <td>2020-10-28</td>\n      <td>95.0</td>\n    </tr>\n    <tr>\n      <th>28/11/2020</th>\n      <td>2020-11-28</td>\n      <td>35.0</td>\n    </tr>\n    <tr>\n      <th>28/12/2020</th>\n      <td>2020-12-28</td>\n      <td>45.0</td>\n    </tr>\n  </tbody>\n</table>\n</div>"
     },
     "metadata": {}
    }
   ]
  },
  {
   "cell_type": "code",
   "metadata": {
    "cell_id": "072a6d0422c44229963447a9792a58ec",
    "tags": [],
    "deepnote_to_be_reexecuted": false,
    "source_hash": "8ab8f422",
    "execution_start": 1661016283995,
    "execution_millis": 6,
    "deepnote_cell_type": "code",
    "deepnote_cell_height": 76
   },
   "source": "df2.columns = ['ds', 'y']",
   "execution_count": 37,
   "outputs": []
  },
  {
   "cell_type": "code",
   "metadata": {
    "cell_id": "c9450b31959f45368b95a0ad551d230b",
    "tags": [],
    "deepnote_to_be_reexecuted": false,
    "source_hash": "b3469b0c",
    "execution_start": 1661016284031,
    "execution_millis": 358,
    "deepnote_cell_type": "code",
    "deepnote_cell_height": 506.265625,
    "deepnote_output_heights": [
     20.1875,
     345.078125
    ]
   },
   "source": "df2.plot(x='ds', y='y', figsize = (20, 10))\n",
   "execution_count": 38,
   "outputs": [
    {
     "output_type": "execute_result",
     "execution_count": 38,
     "data": {
      "text/plain": "<AxesSubplot:xlabel='ds'>"
     },
     "metadata": {}
    },
    {
     "data": {
      "text/plain": "<Figure size 1440x720 with 1 Axes>",
      "image/png": "[encoded data removed]"
     },
     "metadata": {
      "needs_background": "light",
      "image/png": {
       "width": 1156,
       "height": 554
      }
     },
     "output_type": "display_data"
    }
   ]
  },
  {
   "cell_type": "code",
   "metadata": {
    "cell_id": "0924fbf352b043a69c426deb368bad87",
    "tags": [],
    "deepnote_to_be_reexecuted": false,
    "source_hash": "3b3e2df2",
    "execution_start": 1661016284393,
    "execution_millis": 6,
    "deepnote_cell_type": "code",
    "deepnote_cell_height": 112,
    "deepnote_output_heights": [
     20
    ]
   },
   "source": "len(df2)",
   "execution_count": 39,
   "outputs": [
    {
     "output_type": "execute_result",
     "execution_count": 39,
     "data": {
      "text/plain": "48"
     },
     "metadata": {}
    }
   ]
  },
  {
   "cell_type": "code",
   "metadata": {
    "cell_id": "02a7b4619eb1413f9e9135a6fd003dc1",
    "tags": [],
    "deepnote_to_be_reexecuted": false,
    "source_hash": "9a1d2c11",
    "execution_start": 1661016284401,
    "execution_millis": 3,
    "deepnote_cell_type": "code",
    "deepnote_cell_height": 94
   },
   "source": "train = df2.iloc[:-12]\ntest = df2.iloc[-12:]",
   "execution_count": 40,
   "outputs": []
  },
  {
   "cell_type": "code",
   "source": "m = Prophet(changepoint_prior_scale=0.001)\nm.fit(train)\nfuture = m.make_future_dataframe(periods=36, freq='MS')\nfuture['cap'] = 200\nfuture['floor'] = 0\nforecast = m.predict(future)",
   "metadata": {
    "cell_id": "4c4097dbb3bc4aafaecad7687f1faf8e",
    "tags": [],
    "deepnote_to_be_reexecuted": false,
    "source_hash": "73001e00",
    "execution_start": 1661016284427,
    "execution_millis": 2021,
    "deepnote_cell_type": "code",
    "deepnote_cell_height": 268.5625,
    "deepnote_output_heights": [
     null,
     20.1875
    ]
   },
   "execution_count": 41,
   "outputs": [
    {
     "name": "stderr",
     "text": "17:24:44 - cmdstanpy - INFO - Chain [1] start processing\n17:24:44 - cmdstanpy - INFO - Chain [1] done processing\n",
     "output_type": "stream"
    }
   ]
  },
  {
   "cell_type": "code",
   "metadata": {
    "cell_id": "d30ab84f35884b0eb520d964e3d10da8",
    "tags": [],
    "deepnote_to_be_reexecuted": false,
    "source_hash": "68fa3ffe",
    "execution_start": 1661016286458,
    "execution_millis": 54,
    "deepnote_cell_type": "code",
    "deepnote_cell_height": 407
   },
   "source": "forecast.head()",
   "execution_count": 42,
   "outputs": [
    {
     "output_type": "execute_result",
     "execution_count": 42,
     "data": {
      "application/vnd.deepnote.dataframe.v3+json": {
       "column_count": 17,
       "row_count": 5,
       "columns": [
        {
         "name": "ds",
         "dtype": "datetime64[ns]",
         "stats": {
          "unique_count": 5,
          "nan_count": 0,
          "min": "2017-01-28 00:00:00",
          "max": "2017-05-28 00:00:00",
          "histogram": [
           {
            "bin_start": 1485561600000000000,
            "bin_end": 1486598400000000000,
            "count": 1
           },
           {
            "bin_start": 1486598400000000000,
            "bin_end": 1487635200000000000,
            "count": 0
           },
           {
            "bin_start": 1487635200000000000,
            "bin_end": 1488672000000000000,
            "count": 1
           },
           {
            "bin_start": 1488672000000000000,
            "bin_end": 1489708800000000000,
            "count": 0
           },
           {
            "bin_start": 1489708800000000000,
            "bin_end": 1490745600000000000,
            "count": 1
           },
           {
            "bin_start": 1490745600000000000,
            "bin_end": 1491782400000000000,
            "count": 0
           },
           {
            "bin_start": 1491782400000000000,
            "bin_end": 1492819200000000000,
            "count": 0
           },
           {
            "bin_start": 1492819200000000000,
            "bin_end": 1493856000000000000,
            "count": 1
           },
           {
            "bin_start": 1493856000000000000,
            "bin_end": 1494892800000000000,
            "count": 0
           },
           {
            "bin_start": 1494892800000000000,
            "bin_end": 1495929600000000000,
            "count": 1
           }
          ]
         }
        },
        {
         "name": "trend",
         "dtype": "float64",
         "stats": {
          "unique_count": 5,
          "nan_count": 0,
          "min": "51.764187218088225",
          "max": "56.33273749999999",
          "histogram": [
           {
            "bin_start": 51.764187218088225,
            "bin_end": 52.2210422462794,
            "count": 1
           },
           {
            "bin_start": 52.2210422462794,
            "bin_end": 52.67789727447058,
            "count": 0
           },
           {
            "bin_start": 52.67789727447058,
            "bin_end": 53.13475230266175,
            "count": 1
           },
           {
            "bin_start": 53.13475230266175,
            "bin_end": 53.59160733085293,
            "count": 0
           },
           {
            "bin_start": 53.59160733085293,
            "bin_end": 54.04846235904411,
            "count": 0
           },
           {
            "bin_start": 54.04846235904411,
            "bin_end": 54.50531738723529,
            "count": 1
           },
           {
            "bin_start": 54.50531738723529,
            "bin_end": 54.962172415426465,
            "count": 0
           },
           {
            "bin_start": 54.962172415426465,
            "bin_end": 55.41902744361764,
            "count": 1
           },
           {
            "bin_start": 55.41902744361764,
            "bin_end": 55.875882471808815,
            "count": 0
           },
           {
            "bin_start": 55.875882471808815,
            "bin_end": 56.33273749999999,
            "count": 1
           }
          ]
         }
        },
        {
         "name": "cap",
         "dtype": "int64",
         "stats": {
          "unique_count": 1,
          "nan_count": 0,
          "min": "200",
          "max": "200",
          "histogram": [
           {
            "bin_start": 199.5,
            "bin_end": 199.6,
            "count": 0
           },
           {
            "bin_start": 199.6,
            "bin_end": 199.7,
            "count": 0
           },
           {
            "bin_start": 199.7,
            "bin_end": 199.8,
            "count": 0
           },
           {
            "bin_start": 199.8,
            "bin_end": 199.9,
            "count": 0
           },
           {
            "bin_start": 199.9,
            "bin_end": 200,
            "count": 0
           },
           {
            "bin_start": 200,
            "bin_end": 200.1,
            "count": 5
           },
           {
            "bin_start": 200.1,
            "bin_end": 200.2,
            "count": 0
           },
           {
            "bin_start": 200.2,
            "bin_end": 200.3,
            "count": 0
           },
           {
            "bin_start": 200.3,
            "bin_end": 200.4,
            "count": 0
           },
           {
            "bin_start": 200.4,
            "bin_end": 200.5,
            "count": 0
           }
          ]
         }
        },
        {
         "name": "yhat_lower",
         "dtype": "float64",
         "stats": {
          "unique_count": 5,
          "nan_count": 0,
          "min": "19.30196997858158",
          "max": "134.50330132634858",
          "histogram": [
           {
            "bin_start": 19.30196997858158,
            "bin_end": 30.82210311335828,
            "count": 1
           },
           {
            "bin_start": 30.82210311335828,
            "bin_end": 42.34223624813498,
            "count": 0
           },
           {
            "bin_start": 42.34223624813498,
            "bin_end": 53.86236938291168,
            "count": 1
           },
           {
            "bin_start": 53.86236938291168,
            "bin_end": 65.38250251768838,
            "count": 0
           },
           {
            "bin_start": 65.38250251768838,
            "bin_end": 76.90263565246508,
            "count": 2
           },
           {
            "bin_start": 76.90263565246508,
            "bin_end": 88.42276878724178,
            "count": 0
           },
           {
            "bin_start": 88.42276878724178,
            "bin_end": 99.94290192201848,
            "count": 0
           },
           {
            "bin_start": 99.94290192201848,
            "bin_end": 111.46303505679518,
            "count": 0
           },
           {
            "bin_start": 111.46303505679518,
            "bin_end": 122.98316819157188,
            "count": 0
           },
           {
            "bin_start": 122.98316819157188,
            "bin_end": 134.50330132634858,
            "count": 1
           }
          ]
         }
        },
        {
         "name": "yhat_upper",
         "dtype": "float64",
         "stats": {
          "unique_count": 5,
          "nan_count": 0,
          "min": "59.11329363408214",
          "max": "174.084377571096",
          "histogram": [
           {
            "bin_start": 59.11329363408214,
            "bin_end": 70.61040202778352,
            "count": 1
           },
           {
            "bin_start": 70.61040202778352,
            "bin_end": 82.10751042148492,
            "count": 0
           },
           {
            "bin_start": 82.10751042148492,
            "bin_end": 93.6046188151863,
            "count": 1
           },
           {
            "bin_start": 93.6046188151863,
            "bin_end": 105.1017272088877,
            "count": 2
           },
           {
            "bin_start": 105.1017272088877,
            "bin_end": 116.59883560258908,
            "count": 0
           },
           {
            "bin_start": 116.59883560258908,
            "bin_end": 128.09594399629046,
            "count": 0
           },
           {
            "bin_start": 128.09594399629046,
            "bin_end": 139.59305238999184,
            "count": 0
           },
           {
            "bin_start": 139.59305238999184,
            "bin_end": 151.09016078369325,
            "count": 0
           },
           {
            "bin_start": 151.09016078369325,
            "bin_end": 162.5872691773946,
            "count": 0
           },
           {
            "bin_start": 162.5872691773946,
            "bin_end": 174.084377571096,
            "count": 1
           }
          ]
         }
        },
        {
         "name": "trend_lower",
         "dtype": "float64",
         "stats": {
          "unique_count": 5,
          "nan_count": 0,
          "min": "51.764187218088225",
          "max": "56.33273749999999",
          "histogram": [
           {
            "bin_start": 51.764187218088225,
            "bin_end": 52.2210422462794,
            "count": 1
           },
           {
            "bin_start": 52.2210422462794,
            "bin_end": 52.67789727447058,
            "count": 0
           },
           {
            "bin_start": 52.67789727447058,
            "bin_end": 53.13475230266175,
            "count": 1
           },
           {
            "bin_start": 53.13475230266175,
            "bin_end": 53.59160733085293,
            "count": 0
           },
           {
            "bin_start": 53.59160733085293,
            "bin_end": 54.04846235904411,
            "count": 0
           },
           {
            "bin_start": 54.04846235904411,
            "bin_end": 54.50531738723529,
            "count": 1
           },
           {
            "bin_start": 54.50531738723529,
            "bin_end": 54.962172415426465,
            "count": 0
           },
           {
            "bin_start": 54.962172415426465,
            "bin_end": 55.41902744361764,
            "count": 1
           },
           {
            "bin_start": 55.41902744361764,
            "bin_end": 55.875882471808815,
            "count": 0
           },
           {
            "bin_start": 55.875882471808815,
            "bin_end": 56.33273749999999,
            "count": 1
           }
          ]
         }
        },
        {
         "name": "trend_upper",
         "dtype": "float64",
         "stats": {
          "unique_count": 5,
          "nan_count": 0,
          "min": "51.764187218088225",
          "max": "56.33273749999999",
          "histogram": [
           {
            "bin_start": 51.764187218088225,
            "bin_end": 52.2210422462794,
            "count": 1
           },
           {
            "bin_start": 52.2210422462794,
            "bin_end": 52.67789727447058,
            "count": 0
           },
           {
            "bin_start": 52.67789727447058,
            "bin_end": 53.13475230266175,
            "count": 1
           },
           {
            "bin_start": 53.13475230266175,
            "bin_end": 53.59160733085293,
            "count": 0
           },
           {
            "bin_start": 53.59160733085293,
            "bin_end": 54.04846235904411,
            "count": 0
           },
           {
            "bin_start": 54.04846235904411,
            "bin_end": 54.50531738723529,
            "count": 1
           },
           {
            "bin_start": 54.50531738723529,
            "bin_end": 54.962172415426465,
            "count": 0
           },
           {
            "bin_start": 54.962172415426465,
            "bin_end": 55.41902744361764,
            "count": 1
           },
           {
            "bin_start": 55.41902744361764,
            "bin_end": 55.875882471808815,
            "count": 0
           },
           {
            "bin_start": 55.875882471808815,
            "bin_end": 56.33273749999999,
            "count": 1
           }
          ]
         }
        },
        {
         "name": "additive_terms",
         "dtype": "float64",
         "stats": {
          "unique_count": 5,
          "nan_count": 0,
          "min": "-17.509445081050252",
          "max": "100.10636760460186",
          "histogram": [
           {
            "bin_start": -17.509445081050252,
            "bin_end": -5.74786381248504,
            "count": 1
           },
           {
            "bin_start": -5.74786381248504,
            "bin_end": 6.0137174560801725,
            "count": 0
           },
           {
            "bin_start": 6.0137174560801725,
            "bin_end": 17.77529872464539,
            "count": 0
           },
           {
            "bin_start": 17.77529872464539,
            "bin_end": 29.536879993210597,
            "count": 1
           },
           {
            "bin_start": 29.536879993210597,
            "bin_end": 41.298461261775806,
            "count": 2
           },
           {
            "bin_start": 41.298461261775806,
            "bin_end": 53.06004253034103,
            "count": 0
           },
           {
            "bin_start": 53.06004253034103,
            "bin_end": 64.82162379890624,
            "count": 0
           },
           {
            "bin_start": 64.82162379890624,
            "bin_end": 76.58320506747145,
            "count": 0
           },
           {
            "bin_start": 76.58320506747145,
            "bin_end": 88.34478633603666,
            "count": 0
           },
           {
            "bin_start": 88.34478633603666,
            "bin_end": 100.10636760460186,
            "count": 1
           }
          ]
         }
        },
        {
         "name": "additive_terms_lower",
         "dtype": "float64",
         "stats": {
          "unique_count": 5,
          "nan_count": 0,
          "min": "-17.509445081050252",
          "max": "100.10636760460186",
          "histogram": [
           {
            "bin_start": -17.509445081050252,
            "bin_end": -5.74786381248504,
            "count": 1
           },
           {
            "bin_start": -5.74786381248504,
            "bin_end": 6.0137174560801725,
            "count": 0
           },
           {
            "bin_start": 6.0137174560801725,
            "bin_end": 17.77529872464539,
            "count": 0
           },
           {
            "bin_start": 17.77529872464539,
            "bin_end": 29.536879993210597,
            "count": 1
           },
           {
            "bin_start": 29.536879993210597,
            "bin_end": 41.298461261775806,
            "count": 2
           },
           {
            "bin_start": 41.298461261775806,
            "bin_end": 53.06004253034103,
            "count": 0
           },
           {
            "bin_start": 53.06004253034103,
            "bin_end": 64.82162379890624,
            "count": 0
           },
           {
            "bin_start": 64.82162379890624,
            "bin_end": 76.58320506747145,
            "count": 0
           },
           {
            "bin_start": 76.58320506747145,
            "bin_end": 88.34478633603666,
            "count": 0
           },
           {
            "bin_start": 88.34478633603666,
            "bin_end": 100.10636760460186,
            "count": 1
           }
          ]
         }
        },
        {
         "name": "additive_terms_upper",
         "dtype": "float64",
         "stats": {
          "unique_count": 5,
          "nan_count": 0,
          "min": "-17.509445081050252",
          "max": "100.10636760460186",
          "histogram": [
           {
            "bin_start": -17.509445081050252,
            "bin_end": -5.74786381248504,
            "count": 1
           },
           {
            "bin_start": -5.74786381248504,
            "bin_end": 6.0137174560801725,
            "count": 0
           },
           {
            "bin_start": 6.0137174560801725,
            "bin_end": 17.77529872464539,
            "count": 0
           },
           {
            "bin_start": 17.77529872464539,
            "bin_end": 29.536879993210597,
            "count": 1
           },
           {
            "bin_start": 29.536879993210597,
            "bin_end": 41.298461261775806,
            "count": 2
           },
           {
            "bin_start": 41.298461261775806,
            "bin_end": 53.06004253034103,
            "count": 0
           },
           {
            "bin_start": 53.06004253034103,
            "bin_end": 64.82162379890624,
            "count": 0
           },
           {
            "bin_start": 64.82162379890624,
            "bin_end": 76.58320506747145,
            "count": 0
           },
           {
            "bin_start": 76.58320506747145,
            "bin_end": 88.34478633603666,
            "count": 0
           },
           {
            "bin_start": 88.34478633603666,
            "bin_end": 100.10636760460186,
            "count": 1
           }
          ]
         }
        },
        {
         "name": "yearly",
         "dtype": "float64",
         "stats": {
          "unique_count": 5,
          "nan_count": 0,
          "min": "-17.509445081050252",
          "max": "100.10636760460186",
          "histogram": [
           {
            "bin_start": -17.509445081050252,
            "bin_end": -5.74786381248504,
            "count": 1
           },
           {
            "bin_start": -5.74786381248504,
            "bin_end": 6.0137174560801725,
            "count": 0
           },
           {
            "bin_start": 6.0137174560801725,
            "bin_end": 17.77529872464539,
            "count": 0
           },
           {
            "bin_start": 17.77529872464539,
            "bin_end": 29.536879993210597,
            "count": 1
           },
           {
            "bin_start": 29.536879993210597,
            "bin_end": 41.298461261775806,
            "count": 2
           },
           {
            "bin_start": 41.298461261775806,
            "bin_end": 53.06004253034103,
            "count": 0
           },
           {
            "bin_start": 53.06004253034103,
            "bin_end": 64.82162379890624,
            "count": 0
           },
           {
            "bin_start": 64.82162379890624,
            "bin_end": 76.58320506747145,
            "count": 0
           },
           {
            "bin_start": 76.58320506747145,
            "bin_end": 88.34478633603666,
            "count": 0
           },
           {
            "bin_start": 88.34478633603666,
            "bin_end": 100.10636760460186,
            "count": 1
           }
          ]
         }
        },
        {
         "name": "yearly_lower",
         "dtype": "float64",
         "stats": {
          "unique_count": 5,
          "nan_count": 0,
          "min": "-17.509445081050252",
          "max": "100.10636760460186",
          "histogram": [
           {
            "bin_start": -17.509445081050252,
            "bin_end": -5.74786381248504,
            "count": 1
           },
           {
            "bin_start": -5.74786381248504,
            "bin_end": 6.0137174560801725,
            "count": 0
           },
           {
            "bin_start": 6.0137174560801725,
            "bin_end": 17.77529872464539,
            "count": 0
           },
           {
            "bin_start": 17.77529872464539,
            "bin_end": 29.536879993210597,
            "count": 1
           },
           {
            "bin_start": 29.536879993210597,
            "bin_end": 41.298461261775806,
            "count": 2
           },
           {
            "bin_start": 41.298461261775806,
            "bin_end": 53.06004253034103,
            "count": 0
           },
           {
            "bin_start": 53.06004253034103,
            "bin_end": 64.82162379890624,
            "count": 0
           },
           {
            "bin_start": 64.82162379890624,
            "bin_end": 76.58320506747145,
            "count": 0
           },
           {
            "bin_start": 76.58320506747145,
            "bin_end": 88.34478633603666,
            "count": 0
           },
           {
            "bin_start": 88.34478633603666,
            "bin_end": 100.10636760460186,
            "count": 1
           }
          ]
         }
        },
        {
         "name": "yearly_upper",
         "dtype": "float64",
         "stats": {
          "unique_count": 5,
          "nan_count": 0,
          "min": "-17.509445081050252",
          "max": "100.10636760460186",
          "histogram": [
           {
            "bin_start": -17.509445081050252,
            "bin_end": -5.74786381248504,
            "count": 1
           },
           {
            "bin_start": -5.74786381248504,
            "bin_end": 6.0137174560801725,
            "count": 0
           },
           {
            "bin_start": 6.0137174560801725,
            "bin_end": 17.77529872464539,
            "count": 0
           },
           {
            "bin_start": 17.77529872464539,
            "bin_end": 29.536879993210597,
            "count": 1
           },
           {
            "bin_start": 29.536879993210597,
            "bin_end": 41.298461261775806,
            "count": 2
           },
           {
            "bin_start": 41.298461261775806,
            "bin_end": 53.06004253034103,
            "count": 0
           },
           {
            "bin_start": 53.06004253034103,
            "bin_end": 64.82162379890624,
            "count": 0
           },
           {
            "bin_start": 64.82162379890624,
            "bin_end": 76.58320506747145,
            "count": 0
           },
           {
            "bin_start": 76.58320506747145,
            "bin_end": 88.34478633603666,
            "count": 0
           },
           {
            "bin_start": 88.34478633603666,
            "bin_end": 100.10636760460186,
            "count": 1
           }
          ]
         }
        },
        {
         "name": "multiplicative_terms",
         "dtype": "float64",
         "stats": {
          "unique_count": 1,
          "nan_count": 0,
          "min": "0.0",
          "max": "0.0",
          "histogram": [
           {
            "bin_start": -0.5,
            "bin_end": -0.4,
            "count": 0
           },
           {
            "bin_start": -0.4,
            "bin_end": -0.3,
            "count": 0
           },
           {
            "bin_start": -0.3,
            "bin_end": -0.19999999999999996,
            "count": 0
           },
           {
            "bin_start": -0.19999999999999996,
            "bin_end": -0.09999999999999998,
            "count": 0
           },
           {
            "bin_start": -0.09999999999999998,
            "bin_end": 0,
            "count": 0
           },
           {
            "bin_start": 0,
            "bin_end": 0.10000000000000009,
            "count": 5
           },
           {
            "bin_start": 0.10000000000000009,
            "bin_end": 0.20000000000000007,
            "count": 0
           },
           {
            "bin_start": 0.20000000000000007,
            "bin_end": 0.30000000000000004,
            "count": 0
           },
           {
            "bin_start": 0.30000000000000004,
            "bin_end": 0.4,
            "count": 0
           },
           {
            "bin_start": 0.4,
            "bin_end": 0.5,
            "count": 0
           }
          ]
         }
        },
        {
         "name": "multiplicative_terms_lower",
         "dtype": "float64",
         "stats": {
          "unique_count": 1,
          "nan_count": 0,
          "min": "0.0",
          "max": "0.0",
          "histogram": [
           {
            "bin_start": -0.5,
            "bin_end": -0.4,
            "count": 0
           },
           {
            "bin_start": -0.4,
            "bin_end": -0.3,
            "count": 0
           },
           {
            "bin_start": -0.3,
            "bin_end": -0.19999999999999996,
            "count": 0
           },
           {
            "bin_start": -0.19999999999999996,
            "bin_end": -0.09999999999999998,
            "count": 0
           },
           {
            "bin_start": -0.09999999999999998,
            "bin_end": 0,
            "count": 0
           },
           {
            "bin_start": 0,
            "bin_end": 0.10000000000000009,
            "count": 5
           },
           {
            "bin_start": 0.10000000000000009,
            "bin_end": 0.20000000000000007,
            "count": 0
           },
           {
            "bin_start": 0.20000000000000007,
            "bin_end": 0.30000000000000004,
            "count": 0
           },
           {
            "bin_start": 0.30000000000000004,
            "bin_end": 0.4,
            "count": 0
           },
           {
            "bin_start": 0.4,
            "bin_end": 0.5,
            "count": 0
           }
          ]
         }
        },
        {
         "name": "multiplicative_terms_upper",
         "dtype": "float64",
         "stats": {
          "unique_count": 1,
          "nan_count": 0,
          "min": "0.0",
          "max": "0.0",
          "histogram": [
           {
            "bin_start": -0.5,
            "bin_end": -0.4,
            "count": 0
           },
           {
            "bin_start": -0.4,
            "bin_end": -0.3,
            "count": 0
           },
           {
            "bin_start": -0.3,
            "bin_end": -0.19999999999999996,
            "count": 0
           },
           {
            "bin_start": -0.19999999999999996,
            "bin_end": -0.09999999999999998,
            "count": 0
           },
           {
            "bin_start": -0.09999999999999998,
            "bin_end": 0,
            "count": 0
           },
           {
            "bin_start": 0,
            "bin_end": 0.10000000000000009,
            "count": 5
           },
           {
            "bin_start": 0.10000000000000009,
            "bin_end": 0.20000000000000007,
            "count": 0
           },
           {
            "bin_start": 0.20000000000000007,
            "bin_end": 0.30000000000000004,
            "count": 0
           },
           {
            "bin_start": 0.30000000000000004,
            "bin_end": 0.4,
            "count": 0
           },
           {
            "bin_start": 0.4,
            "bin_end": 0.5,
            "count": 0
           }
          ]
         }
        },
        {
         "name": "yhat",
         "dtype": "float64",
         "stats": {
          "unique_count": 5,
          "nan_count": 0,
          "min": "38.82329241894974",
          "max": "155.2588962817635",
          "histogram": [
           {
            "bin_start": 38.82329241894974,
            "bin_end": 50.46685280523111,
            "count": 1
           },
           {
            "bin_start": 50.46685280523111,
            "bin_end": 62.11041319151249,
            "count": 0
           },
           {
            "bin_start": 62.11041319151249,
            "bin_end": 73.75397357779386,
            "count": 1
           },
           {
            "bin_start": 73.75397357779386,
            "bin_end": 85.39753396407525,
            "count": 1
           },
           {
            "bin_start": 85.39753396407525,
            "bin_end": 97.04109435035662,
            "count": 1
           },
           {
            "bin_start": 97.04109435035662,
            "bin_end": 108.68465473663798,
            "count": 0
           },
           {
            "bin_start": 108.68465473663798,
            "bin_end": 120.32821512291937,
            "count": 0
           },
           {
            "bin_start": 120.32821512291937,
            "bin_end": 131.97177550920074,
            "count": 0
           },
           {
            "bin_start": 131.97177550920074,
            "bin_end": 143.61533589548213,
            "count": 0
           },
           {
            "bin_start": 143.61533589548213,
            "bin_end": 155.2588962817635,
            "count": 1
           }
          ]
         }
        },
        {
         "name": "_deepnote_index_column",
         "dtype": "int64"
        }
       ],
       "rows": [
        {
         "ds": "2017-01-28T00:00:00Z",
         "trend": 56.33273749999999,
         "cap": 200,
         "yhat_lower": 19.30196997858158,
         "yhat_upper": 59.11329363408214,
         "trend_lower": 56.33273749999999,
         "trend_upper": 56.33273749999999,
         "additive_terms": -17.509445081050252,
         "additive_terms_lower": -17.509445081050252,
         "additive_terms_upper": -17.509445081050252,
         "yearly": -17.509445081050252,
         "yearly_lower": -17.509445081050252,
         "yearly_upper": -17.509445081050252,
         "multiplicative_terms": 0,
         "multiplicative_terms_lower": 0,
         "multiplicative_terms_upper": 0,
         "yhat": 38.82329241894974,
         "_deepnote_index_column": 0
        },
        {
         "ds": "2017-02-28T00:00:00Z",
         "trend": 55.15252867716165,
         "cap": 200,
         "yhat_lower": 134.50330132634858,
         "yhat_upper": 174.084377571096,
         "trend_lower": 55.15252867716165,
         "trend_upper": 55.15252867716165,
         "additive_terms": 100.10636760460186,
         "additive_terms_lower": 100.10636760460186,
         "additive_terms_upper": 100.10636760460186,
         "yearly": 100.10636760460186,
         "yearly_lower": 100.10636760460186,
         "yearly_upper": 100.10636760460186,
         "multiplicative_terms": 0,
         "multiplicative_terms_lower": 0,
         "multiplicative_terms_upper": 0,
         "yhat": 155.2588962817635,
         "_deepnote_index_column": 1
        },
        {
         "ds": "2017-03-28T00:00:00Z",
         "trend": 54.08653361137853,
         "cap": 200,
         "yhat_lower": 66.1891755424845,
         "yhat_upper": 103.16968687893362,
         "trend_lower": 54.08653361137853,
         "trend_upper": 54.08653361137853,
         "additive_terms": 29.736874372645683,
         "additive_terms_lower": 29.736874372645683,
         "additive_terms_upper": 29.736874372645683,
         "yearly": 29.736874372645683,
         "yearly_lower": 29.736874372645683,
         "yearly_upper": 29.736874372645683,
         "multiplicative_terms": 0,
         "multiplicative_terms_lower": 0,
         "multiplicative_terms_upper": 0,
         "yhat": 83.82340798402421,
         "_deepnote_index_column": 2
        },
        {
         "ds": "2017-04-28T00:00:00Z",
         "trend": 52.90632478854886,
         "cap": 200,
         "yhat_lower": 67.89539531221288,
         "yhat_upper": 104.23945239328114,
         "trend_lower": 52.90632478854886,
         "trend_upper": 52.90632478854886,
         "additive_terms": 33.27365937289292,
         "additive_terms_lower": 33.27365937289292,
         "additive_terms_upper": 33.27365937289292,
         "yearly": 33.27365937289292,
         "yearly_lower": 33.27365937289292,
         "yearly_upper": 33.27365937289292,
         "multiplicative_terms": 0,
         "multiplicative_terms_lower": 0,
         "multiplicative_terms_upper": 0,
         "yhat": 86.17998416144178,
         "_deepnote_index_column": 3
        },
        {
         "ds": "2017-05-28T00:00:00Z",
         "trend": 51.764187218088225,
         "cap": 200,
         "yhat_lower": 51.951728842901225,
         "yhat_upper": 89.64593875660006,
         "trend_lower": 51.764187218088225,
         "trend_upper": 51.764187218088225,
         "additive_terms": 18.5138471288854,
         "additive_terms_lower": 18.5138471288854,
         "additive_terms_upper": 18.5138471288854,
         "yearly": 18.5138471288854,
         "yearly_lower": 18.5138471288854,
         "yearly_upper": 18.5138471288854,
         "multiplicative_terms": 0,
         "multiplicative_terms_lower": 0,
         "multiplicative_terms_upper": 0,
         "yhat": 70.27803434697363,
         "_deepnote_index_column": 4
        }
       ]
      },
      "text/plain": "          ds      trend  cap  yhat_lower  yhat_upper  trend_lower  \\\n0 2017-01-28  56.332737  200   19.301970   59.113294    56.332737   \n1 2017-02-28  55.152529  200  134.503301  174.084378    55.152529   \n2 2017-03-28  54.086534  200   66.189176  103.169687    54.086534   \n3 2017-04-28  52.906325  200   67.895395  104.239452    52.906325   \n4 2017-05-28  51.764187  200   51.951729   89.645939    51.764187   \n\n   trend_upper  additive_terms  additive_terms_lower  additive_terms_upper  \\\n0    56.332737      -17.509445            -17.509445            -17.509445   \n1    55.152529      100.106368            100.106368            100.106368   \n2    54.086534       29.736874             29.736874             29.736874   \n3    52.906325       33.273659             33.273659             33.273659   \n4    51.764187       18.513847             18.513847             18.513847   \n\n       yearly  yearly_lower  yearly_upper  multiplicative_terms  \\\n0  -17.509445    -17.509445    -17.509445                   0.0   \n1  100.106368    100.106368    100.106368                   0.0   \n2   29.736874     29.736874     29.736874                   0.0   \n3   33.273659     33.273659     33.273659                   0.0   \n4   18.513847     18.513847     18.513847                   0.0   \n\n   multiplicative_terms_lower  multiplicative_terms_upper        yhat  \n0                         0.0                         0.0   38.823292  \n1                         0.0                         0.0  155.258896  \n2                         0.0                         0.0   83.823408  \n3                         0.0                         0.0   86.179984  \n4                         0.0                         0.0   70.278034  ",
      "text/html": "<div>\n<style scoped>\n    .dataframe tbody tr th:only-of-type {\n        vertical-align: middle;\n    }\n\n    .dataframe tbody tr th {\n        vertical-align: top;\n    }\n\n    .dataframe thead th {\n        text-align: right;\n    }\n</style>\n<table border=\"1\" class=\"dataframe\">\n  <thead>\n    <tr style=\"text-align: right;\">\n      <th></th>\n      <th>ds</th>\n      <th>trend</th>\n      <th>cap</th>\n      <th>yhat_lower</th>\n      <th>yhat_upper</th>\n      <th>trend_lower</th>\n      <th>trend_upper</th>\n      <th>additive_terms</th>\n      <th>additive_terms_lower</th>\n      <th>additive_terms_upper</th>\n      <th>yearly</th>\n      <th>yearly_lower</th>\n      <th>yearly_upper</th>\n      <th>multiplicative_terms</th>\n      <th>multiplicative_terms_lower</th>\n      <th>multiplicative_terms_upper</th>\n      <th>yhat</th>\n    </tr>\n  </thead>\n  <tbody>\n    <tr>\n      <th>0</th>\n      <td>2017-01-28</td>\n      <td>56.332737</td>\n      <td>200</td>\n      <td>19.301970</td>\n      <td>59.113294</td>\n      <td>56.332737</td>\n      <td>56.332737</td>\n      <td>-17.509445</td>\n      <td>-17.509445</td>\n      <td>-17.509445</td>\n      <td>-17.509445</td>\n      <td>-17.509445</td>\n      <td>-17.509445</td>\n      <td>0.0</td>\n      <td>0.0</td>\n      <td>0.0</td>\n      <td>38.823292</td>\n    </tr>\n    <tr>\n      <th>1</th>\n      <td>2017-02-28</td>\n      <td>55.152529</td>\n      <td>200</td>\n      <td>134.503301</td>\n      <td>174.084378</td>\n      <td>55.152529</td>\n      <td>55.152529</td>\n      <td>100.106368</td>\n      <td>100.106368</td>\n      <td>100.106368</td>\n      <td>100.106368</td>\n      <td>100.106368</td>\n      <td>100.106368</td>\n      <td>0.0</td>\n      <td>0.0</td>\n      <td>0.0</td>\n      <td>155.258896</td>\n    </tr>\n    <tr>\n      <th>2</th>\n      <td>2017-03-28</td>\n      <td>54.086534</td>\n      <td>200</td>\n      <td>66.189176</td>\n      <td>103.169687</td>\n      <td>54.086534</td>\n      <td>54.086534</td>\n      <td>29.736874</td>\n      <td>29.736874</td>\n      <td>29.736874</td>\n      <td>29.736874</td>\n      <td>29.736874</td>\n      <td>29.736874</td>\n      <td>0.0</td>\n      <td>0.0</td>\n      <td>0.0</td>\n      <td>83.823408</td>\n    </tr>\n    <tr>\n      <th>3</th>\n      <td>2017-04-28</td>\n      <td>52.906325</td>\n      <td>200</td>\n      <td>67.895395</td>\n      <td>104.239452</td>\n      <td>52.906325</td>\n      <td>52.906325</td>\n      <td>33.273659</td>\n      <td>33.273659</td>\n      <td>33.273659</td>\n      <td>33.273659</td>\n      <td>33.273659</td>\n      <td>33.273659</td>\n      <td>0.0</td>\n      <td>0.0</td>\n      <td>0.0</td>\n      <td>86.179984</td>\n    </tr>\n    <tr>\n      <th>4</th>\n      <td>2017-05-28</td>\n      <td>51.764187</td>\n      <td>200</td>\n      <td>51.951729</td>\n      <td>89.645939</td>\n      <td>51.764187</td>\n      <td>51.764187</td>\n      <td>18.513847</td>\n      <td>18.513847</td>\n      <td>18.513847</td>\n      <td>18.513847</td>\n      <td>18.513847</td>\n      <td>18.513847</td>\n      <td>0.0</td>\n      <td>0.0</td>\n      <td>0.0</td>\n      <td>70.278034</td>\n    </tr>\n  </tbody>\n</table>\n</div>"
     },
     "metadata": {}
    }
   ]
  },
  {
   "cell_type": "code",
   "metadata": {
    "cell_id": "6ac3271ae6964cb59d305f8f9d094ab7",
    "tags": [],
    "deepnote_to_be_reexecuted": false,
    "source_hash": "1dd857e",
    "execution_start": 1661016286531,
    "execution_millis": 22,
    "deepnote_table_state": {
     "pageSize": 10,
     "pageIndex": 0,
     "filters": [],
     "sortBy": []
    },
    "deepnote_table_loading": false,
    "deepnote_cell_type": "code",
    "deepnote_cell_height": 390
   },
   "source": "forecast[['ds', 'yhat', 'yhat_lower', 'yhat_upper']].head()",
   "execution_count": 43,
   "outputs": [
    {
     "output_type": "execute_result",
     "execution_count": 43,
     "data": {
      "application/vnd.deepnote.dataframe.v3+json": {
       "column_count": 4,
       "row_count": 5,
       "columns": [
        {
         "name": "ds",
         "dtype": "datetime64[ns]",
         "stats": {
          "unique_count": 5,
          "nan_count": 0,
          "min": "2017-01-28 00:00:00",
          "max": "2017-05-28 00:00:00",
          "histogram": [
           {
            "bin_start": 1485561600000000000,
            "bin_end": 1486598400000000000,
            "count": 1
           },
           {
            "bin_start": 1486598400000000000,
            "bin_end": 1487635200000000000,
            "count": 0
           },
           {
            "bin_start": 1487635200000000000,
            "bin_end": 1488672000000000000,
            "count": 1
           },
           {
            "bin_start": 1488672000000000000,
            "bin_end": 1489708800000000000,
            "count": 0
           },
           {
            "bin_start": 1489708800000000000,
            "bin_end": 1490745600000000000,
            "count": 1
           },
           {
            "bin_start": 1490745600000000000,
            "bin_end": 1491782400000000000,
            "count": 0
           },
           {
            "bin_start": 1491782400000000000,
            "bin_end": 1492819200000000000,
            "count": 0
           },
           {
            "bin_start": 1492819200000000000,
            "bin_end": 1493856000000000000,
            "count": 1
           },
           {
            "bin_start": 1493856000000000000,
            "bin_end": 1494892800000000000,
            "count": 0
           },
           {
            "bin_start": 1494892800000000000,
            "bin_end": 1495929600000000000,
            "count": 1
           }
          ]
         }
        },
        {
         "name": "yhat",
         "dtype": "float64",
         "stats": {
          "unique_count": 5,
          "nan_count": 0,
          "min": "38.82329241894974",
          "max": "155.2588962817635",
          "histogram": [
           {
            "bin_start": 38.82329241894974,
            "bin_end": 50.46685280523111,
            "count": 1
           },
           {
            "bin_start": 50.46685280523111,
            "bin_end": 62.11041319151249,
            "count": 0
           },
           {
            "bin_start": 62.11041319151249,
            "bin_end": 73.75397357779386,
            "count": 1
           },
           {
            "bin_start": 73.75397357779386,
            "bin_end": 85.39753396407525,
            "count": 1
           },
           {
            "bin_start": 85.39753396407525,
            "bin_end": 97.04109435035662,
            "count": 1
           },
           {
            "bin_start": 97.04109435035662,
            "bin_end": 108.68465473663798,
            "count": 0
           },
           {
            "bin_start": 108.68465473663798,
            "bin_end": 120.32821512291937,
            "count": 0
           },
           {
            "bin_start": 120.32821512291937,
            "bin_end": 131.97177550920074,
            "count": 0
           },
           {
            "bin_start": 131.97177550920074,
            "bin_end": 143.61533589548213,
            "count": 0
           },
           {
            "bin_start": 143.61533589548213,
            "bin_end": 155.2588962817635,
            "count": 1
           }
          ]
         }
        },
        {
         "name": "yhat_lower",
         "dtype": "float64",
         "stats": {
          "unique_count": 5,
          "nan_count": 0,
          "min": "19.30196997858158",
          "max": "134.50330132634858",
          "histogram": [
           {
            "bin_start": 19.30196997858158,
            "bin_end": 30.82210311335828,
            "count": 1
           },
           {
            "bin_start": 30.82210311335828,
            "bin_end": 42.34223624813498,
            "count": 0
           },
           {
            "bin_start": 42.34223624813498,
            "bin_end": 53.86236938291168,
            "count": 1
           },
           {
            "bin_start": 53.86236938291168,
            "bin_end": 65.38250251768838,
            "count": 0
           },
           {
            "bin_start": 65.38250251768838,
            "bin_end": 76.90263565246508,
            "count": 2
           },
           {
            "bin_start": 76.90263565246508,
            "bin_end": 88.42276878724178,
            "count": 0
           },
           {
            "bin_start": 88.42276878724178,
            "bin_end": 99.94290192201848,
            "count": 0
           },
           {
            "bin_start": 99.94290192201848,
            "bin_end": 111.46303505679518,
            "count": 0
           },
           {
            "bin_start": 111.46303505679518,
            "bin_end": 122.98316819157188,
            "count": 0
           },
           {
            "bin_start": 122.98316819157188,
            "bin_end": 134.50330132634858,
            "count": 1
           }
          ]
         }
        },
        {
         "name": "yhat_upper",
         "dtype": "float64",
         "stats": {
          "unique_count": 5,
          "nan_count": 0,
          "min": "59.11329363408214",
          "max": "174.084377571096",
          "histogram": [
           {
            "bin_start": 59.11329363408214,
            "bin_end": 70.61040202778352,
            "count": 1
           },
           {
            "bin_start": 70.61040202778352,
            "bin_end": 82.10751042148492,
            "count": 0
           },
           {
            "bin_start": 82.10751042148492,
            "bin_end": 93.6046188151863,
            "count": 1
           },
           {
            "bin_start": 93.6046188151863,
            "bin_end": 105.1017272088877,
            "count": 2
           },
           {
            "bin_start": 105.1017272088877,
            "bin_end": 116.59883560258908,
            "count": 0
           },
           {
            "bin_start": 116.59883560258908,
            "bin_end": 128.09594399629046,
            "count": 0
           },
           {
            "bin_start": 128.09594399629046,
            "bin_end": 139.59305238999184,
            "count": 0
           },
           {
            "bin_start": 139.59305238999184,
            "bin_end": 151.09016078369325,
            "count": 0
           },
           {
            "bin_start": 151.09016078369325,
            "bin_end": 162.5872691773946,
            "count": 0
           },
           {
            "bin_start": 162.5872691773946,
            "bin_end": 174.084377571096,
            "count": 1
           }
          ]
         }
        },
        {
         "name": "_deepnote_index_column",
         "dtype": "int64"
        }
       ],
       "rows": [
        {
         "ds": "2017-01-28T00:00:00Z",
         "yhat": 38.82329241894974,
         "yhat_lower": 19.30196997858158,
         "yhat_upper": 59.11329363408214,
         "_deepnote_index_column": 0
        },
        {
         "ds": "2017-02-28T00:00:00Z",
         "yhat": 155.2588962817635,
         "yhat_lower": 134.50330132634858,
         "yhat_upper": 174.084377571096,
         "_deepnote_index_column": 1
        },
        {
         "ds": "2017-03-28T00:00:00Z",
         "yhat": 83.82340798402421,
         "yhat_lower": 66.1891755424845,
         "yhat_upper": 103.16968687893362,
         "_deepnote_index_column": 2
        },
        {
         "ds": "2017-04-28T00:00:00Z",
         "yhat": 86.17998416144178,
         "yhat_lower": 67.89539531221288,
         "yhat_upper": 104.23945239328114,
         "_deepnote_index_column": 3
        },
        {
         "ds": "2017-05-28T00:00:00Z",
         "yhat": 70.27803434697363,
         "yhat_lower": 51.951728842901225,
         "yhat_upper": 89.64593875660006,
         "_deepnote_index_column": 4
        }
       ]
      },
      "text/plain": "          ds        yhat  yhat_lower  yhat_upper\n0 2017-01-28   38.823292   19.301970   59.113294\n1 2017-02-28  155.258896  134.503301  174.084378\n2 2017-03-28   83.823408   66.189176  103.169687\n3 2017-04-28   86.179984   67.895395  104.239452\n4 2017-05-28   70.278034   51.951729   89.645939",
      "text/html": "<div>\n<style scoped>\n    .dataframe tbody tr th:only-of-type {\n        vertical-align: middle;\n    }\n\n    .dataframe tbody tr th {\n        vertical-align: top;\n    }\n\n    .dataframe thead th {\n        text-align: right;\n    }\n</style>\n<table border=\"1\" class=\"dataframe\">\n  <thead>\n    <tr style=\"text-align: right;\">\n      <th></th>\n      <th>ds</th>\n      <th>yhat</th>\n      <th>yhat_lower</th>\n      <th>yhat_upper</th>\n    </tr>\n  </thead>\n  <tbody>\n    <tr>\n      <th>0</th>\n      <td>2017-01-28</td>\n      <td>38.823292</td>\n      <td>19.301970</td>\n      <td>59.113294</td>\n    </tr>\n    <tr>\n      <th>1</th>\n      <td>2017-02-28</td>\n      <td>155.258896</td>\n      <td>134.503301</td>\n      <td>174.084378</td>\n    </tr>\n    <tr>\n      <th>2</th>\n      <td>2017-03-28</td>\n      <td>83.823408</td>\n      <td>66.189176</td>\n      <td>103.169687</td>\n    </tr>\n    <tr>\n      <th>3</th>\n      <td>2017-04-28</td>\n      <td>86.179984</td>\n      <td>67.895395</td>\n      <td>104.239452</td>\n    </tr>\n    <tr>\n      <th>4</th>\n      <td>2017-05-28</td>\n      <td>70.278034</td>\n      <td>51.951729</td>\n      <td>89.645939</td>\n    </tr>\n  </tbody>\n</table>\n</div>"
     },
     "metadata": {}
    }
   ]
  },
  {
   "cell_type": "markdown",
   "source": "## Hasil Forecast Banjir 2017-2020",
   "metadata": {
    "formattedRanges": [],
    "is_collapsed": false,
    "cell_id": "e7b74a8f21e447229cf94d036b42466b",
    "tags": [],
    "deepnote_cell_type": "text-cell-h2"
   }
  },
  {
   "cell_type": "code",
   "metadata": {
    "cell_id": "c5c324bc7fa0441f8e1d173ca363abec",
    "tags": [],
    "deepnote_to_be_reexecuted": false,
    "source_hash": "bbbdd909",
    "execution_start": 1661016286556,
    "execution_millis": 23,
    "deepnote_cell_type": "code",
    "deepnote_cell_height": 693,
    "deepnote_output_heights": [
     601
    ]
   },
   "source": "plot_plotly(m, forecast)",
   "execution_count": 44,
   "outputs": [
    {
     "data": {
      "text/html": "<html>\n<head><meta charset=\"utf-8\" /></head>\n<body>\n    <div>            <script src=\"https://cdnjs.cloudflare.com/ajax/libs/mathjax/2.7.5/MathJax.js?config=TeX-AMS-MML_SVG\"></script><script type=\"text/javascript\">if (window.MathJax && window.MathJax.Hub && window.MathJax.Hub.Config) {window.MathJax.Hub.Config({SVG: {font: \"STIX-Web\"}});}</script>                <script type=\"text/javascript\">window.PlotlyConfig = {MathJaxConfig: 'local'};</script>\n        <script src=\"https://cdn.plot.ly/plotly-2.12.1.min.js\"></script>                <div id=\"5c5057d8-52c5-44e7-a133-19d2f74204bc\" class=\"plotly-graph-div\" style=\"height:600px; width:900px;\"></div>            <script type=\"text/javascript\">                                    window.PLOTLYENV=window.PLOTLYENV || {};                                    if (document.getElementById(\"5c5057d8-52c5-44e7-a133-19d2f74204bc\")) {                    Plotly.newPlot(                        \"5c5057d8-52c5-44e7-a133-19d2f74204bc\",                        [{\"marker\":{\"color\":\"black\",\"size\":4},\"mode\":\"markers\",\"name\":\"Actual\",\"x\":[\"2017-01-28T00:00:00\",\"2017-02-28T00:00:00\",\"2017-03-28T00:00:00\",\"2017-04-28T00:00:00\",\"2017-05-28T00:00:00\",\"2017-06-28T00:00:00\",\"2017-07-28T00:00:00\",\"2017-08-28T00:00:00\",\"2017-09-28T00:00:00\",\"2017-10-28T00:00:00\",\"2017-11-28T00:00:00\",\"2017-12-28T00:00:00\",\"2018-01-28T00:00:00\",\"2018-02-28T00:00:00\",\"2018-03-28T00:00:00\",\"2018-04-28T00:00:00\",\"2018-05-28T00:00:00\",\"2018-06-28T00:00:00\",\"2018-07-28T00:00:00\",\"2018-08-28T00:00:00\",\"2018-09-28T00:00:00\",\"2018-10-28T00:00:00\",\"2018-11-28T00:00:00\",\"2018-12-28T00:00:00\",\"2019-01-28T00:00:00\",\"2019-02-28T00:00:00\",\"2019-03-28T00:00:00\",\"2019-04-28T00:00:00\",\"2019-05-28T00:00:00\",\"2019-06-28T00:00:00\",\"2019-07-28T00:00:00\",\"2019-08-28T00:00:00\",\"2019-09-28T00:00:00\",\"2019-10-28T00:00:00\",\"2019-11-28T00:00:00\",\"2019-12-28T00:00:00\"],\"y\":[40.0,130.0,80.0,105.0,62.5,60.0,45.0,45.0,45.0,57.5,80.0,40.0,22.5,152.5,55.0,47.5,80.0,55.0,0.0,0.0,0.0,45.0,52.5,51.5,40.0,72.5,55.0,130.0,55.0,0.0,0.0,0.0,0.0,55.0,0.0,57.5],\"type\":\"scatter\"},{\"hoverinfo\":\"skip\",\"line\":{\"width\":0},\"mode\":\"lines\",\"x\":[\"2017-01-28T00:00:00\",\"2017-02-28T00:00:00\",\"2017-03-28T00:00:00\",\"2017-04-28T00:00:00\",\"2017-05-28T00:00:00\",\"2017-06-28T00:00:00\",\"2017-07-28T00:00:00\",\"2017-08-28T00:00:00\",\"2017-09-28T00:00:00\",\"2017-10-28T00:00:00\",\"2017-11-28T00:00:00\",\"2017-12-28T00:00:00\",\"2018-01-28T00:00:00\",\"2018-02-28T00:00:00\",\"2018-03-28T00:00:00\",\"2018-04-28T00:00:00\",\"2018-05-28T00:00:00\",\"2018-06-28T00:00:00\",\"2018-07-28T00:00:00\",\"2018-08-28T00:00:00\",\"2018-09-28T00:00:00\",\"2018-10-28T00:00:00\",\"2018-11-28T00:00:00\",\"2018-12-28T00:00:00\",\"2019-01-28T00:00:00\",\"2019-02-28T00:00:00\",\"2019-03-28T00:00:00\",\"2019-04-28T00:00:00\",\"2019-05-28T00:00:00\",\"2019-06-28T00:00:00\",\"2019-07-28T00:00:00\",\"2019-08-28T00:00:00\",\"2019-09-28T00:00:00\",\"2019-10-28T00:00:00\",\"2019-11-28T00:00:00\",\"2019-12-28T00:00:00\",\"2020-01-01T00:00:00\",\"2020-02-01T00:00:00\",\"2020-03-01T00:00:00\",\"2020-04-01T00:00:00\",\"2020-05-01T00:00:00\",\"2020-06-01T00:00:00\",\"2020-07-01T00:00:00\",\"2020-08-01T00:00:00\",\"2020-09-01T00:00:00\",\"2020-10-01T00:00:00\",\"2020-11-01T00:00:00\",\"2020-12-01T00:00:00\",\"2021-01-01T00:00:00\",\"2021-02-01T00:00:00\",\"2021-03-01T00:00:00\",\"2021-04-01T00:00:00\",\"2021-05-01T00:00:00\",\"2021-06-01T00:00:00\",\"2021-07-01T00:00:00\",\"2021-08-01T00:00:00\",\"2021-09-01T00:00:00\",\"2021-10-01T00:00:00\",\"2021-11-01T00:00:00\",\"2021-12-01T00:00:00\",\"2022-01-01T00:00:00\",\"2022-02-01T00:00:00\",\"2022-03-01T00:00:00\",\"2022-04-01T00:00:00\",\"2022-05-01T00:00:00\",\"2022-06-01T00:00:00\",\"2022-07-01T00:00:00\",\"2022-08-01T00:00:00\",\"2022-09-01T00:00:00\",\"2022-10-01T00:00:00\",\"2022-11-01T00:00:00\",\"2022-12-01T00:00:00\"],\"y\":[19.30196997858158,134.50330132634858,66.1891755424845,67.89539531221288,51.951728842901225,47.4797955640454,14.074678436350544,12.181367057738195,13.129309404755185,29.665848195280894,64.78300360620345,23.147759740086663,16.623956096610893,100.53296198144031,43.39765102788164,75.49278666630916,47.66183975492848,19.786740397487204,-4.237690152806289,-4.388039898728476,-4.0860663074530565,33.65343894764593,25.749829149855984,30.839891915982868,10.925450343919888,62.952268715832304,23.833835058322155,83.64659996666049,40.68054375023515,-7.919713632831427,-21.20935170613109,-19.38427195127816,-20.310995149254456,38.39304382434742,-12.91205214466967,37.87805839338379,-259.32385295697895,-188.83869263984536,202.97480472307208,226.26172776627314,-222.59132851911525,-212.760176496965,145.44303995768624,36.82007762482945,21.24614227868108,21.81817337200169,-330.67517069030913,336.42187597005244,-317.4723860211772,-251.42646010905506,169.75874052393786,198.03499259232777,-219.29581827301547,-210.7976961281808,123.66251467266812,19.010980847595135,4.396388246020387,0.6428728184785045,-327.48868131026364,298.57599660285445,-316.5958212286289,-247.55077971763552,131.3509914521572,168.31716439400554,-216.71653762356297,-210.52858711091565,100.68956109882585,1.8239992077985403,-14.174245341278091,-17.545644117227088,-321.3073647146511,262.64426406413844],\"type\":\"scatter\"},{\"fill\":\"tonexty\",\"fillcolor\":\"rgba(0, 114, 178, 0.2)\",\"line\":{\"color\":\"#0072B2\",\"width\":2},\"mode\":\"lines\",\"name\":\"Predicted\",\"x\":[\"2017-01-28T00:00:00\",\"2017-02-28T00:00:00\",\"2017-03-28T00:00:00\",\"2017-04-28T00:00:00\",\"2017-05-28T00:00:00\",\"2017-06-28T00:00:00\",\"2017-07-28T00:00:00\",\"2017-08-28T00:00:00\",\"2017-09-28T00:00:00\",\"2017-10-28T00:00:00\",\"2017-11-28T00:00:00\",\"2017-12-28T00:00:00\",\"2018-01-28T00:00:00\",\"2018-02-28T00:00:00\",\"2018-03-28T00:00:00\",\"2018-04-28T00:00:00\",\"2018-05-28T00:00:00\",\"2018-06-28T00:00:00\",\"2018-07-28T00:00:00\",\"2018-08-28T00:00:00\",\"2018-09-28T00:00:00\",\"2018-10-28T00:00:00\",\"2018-11-28T00:00:00\",\"2018-12-28T00:00:00\",\"2019-01-28T00:00:00\",\"2019-02-28T00:00:00\",\"2019-03-28T00:00:00\",\"2019-04-28T00:00:00\",\"2019-05-28T00:00:00\",\"2019-06-28T00:00:00\",\"2019-07-28T00:00:00\",\"2019-08-28T00:00:00\",\"2019-09-28T00:00:00\",\"2019-10-28T00:00:00\",\"2019-11-28T00:00:00\",\"2019-12-28T00:00:00\",\"2020-01-01T00:00:00\",\"2020-02-01T00:00:00\",\"2020-03-01T00:00:00\",\"2020-04-01T00:00:00\",\"2020-05-01T00:00:00\",\"2020-06-01T00:00:00\",\"2020-07-01T00:00:00\",\"2020-08-01T00:00:00\",\"2020-09-01T00:00:00\",\"2020-10-01T00:00:00\",\"2020-11-01T00:00:00\",\"2020-12-01T00:00:00\",\"2021-01-01T00:00:00\",\"2021-02-01T00:00:00\",\"2021-03-01T00:00:00\",\"2021-04-01T00:00:00\",\"2021-05-01T00:00:00\",\"2021-06-01T00:00:00\",\"2021-07-01T00:00:00\",\"2021-08-01T00:00:00\",\"2021-09-01T00:00:00\",\"2021-10-01T00:00:00\",\"2021-11-01T00:00:00\",\"2021-12-01T00:00:00\",\"2022-01-01T00:00:00\",\"2022-02-01T00:00:00\",\"2022-03-01T00:00:00\",\"2022-04-01T00:00:00\",\"2022-05-01T00:00:00\",\"2022-06-01T00:00:00\",\"2022-07-01T00:00:00\",\"2022-08-01T00:00:00\",\"2022-09-01T00:00:00\",\"2022-10-01T00:00:00\",\"2022-11-01T00:00:00\",\"2022-12-01T00:00:00\"],\"y\":[38.82329241894974,155.2588962817635,83.82340798402421,86.17998416144178,70.27803434697363,65.67159285995426,32.12907218165012,30.8822084036061,30.852268422191713,48.807176574063064,82.64350089257553,42.70815563407889,34.30673329525354,118.64789696714115,63.105225702924244,94.17186003424555,66.01863679010921,38.38761143128711,14.860531239429097,14.862330111675174,14.82690568572134,52.6118612628902,44.15538260406639,49.588129093123,29.230295932697015,81.73102544038964,43.037425149260585,102.44196301409188,61.2700141391471,10.798581954581062,-2.29678895631897,-1.023454261398257,-0.9406562416039002,56.199424119456566,5.702550851668658,56.69777710001984,-241.2877277463427,-170.2411488944876,221.56754980092217,246.43313139041234,-203.71743325537855,-194.23971627044554,164.75838801833038,55.536000488236006,40.33455783996387,40.11109935004459,-312.38985779826044,355.60409780658875,-299.03005147036055,-232.50515977173032,186.87473726669086,216.6034178718661,-201.51071268737022,-192.84271398672848,142.45055940978358,37.81042576759571,22.91355314726779,20.784029454662598,-307.26727797489457,318.27932674836467,-298.83612903130216,-229.98179622360243,151.74842605612386,187.1632972339539,-198.73559613212947,-191.61296613108138,119.71102319438877,20.03755481973123,5.520387732238589,1.6958450328846375,-302.09161445350566,280.7583370462914],\"type\":\"scatter\"},{\"fill\":\"tonexty\",\"fillcolor\":\"rgba(0, 114, 178, 0.2)\",\"hoverinfo\":\"skip\",\"line\":{\"width\":0},\"mode\":\"lines\",\"x\":[\"2017-01-28T00:00:00\",\"2017-02-28T00:00:00\",\"2017-03-28T00:00:00\",\"2017-04-28T00:00:00\",\"2017-05-28T00:00:00\",\"2017-06-28T00:00:00\",\"2017-07-28T00:00:00\",\"2017-08-28T00:00:00\",\"2017-09-28T00:00:00\",\"2017-10-28T00:00:00\",\"2017-11-28T00:00:00\",\"2017-12-28T00:00:00\",\"2018-01-28T00:00:00\",\"2018-02-28T00:00:00\",\"2018-03-28T00:00:00\",\"2018-04-28T00:00:00\",\"2018-05-28T00:00:00\",\"2018-06-28T00:00:00\",\"2018-07-28T00:00:00\",\"2018-08-28T00:00:00\",\"2018-09-28T00:00:00\",\"2018-10-28T00:00:00\",\"2018-11-28T00:00:00\",\"2018-12-28T00:00:00\",\"2019-01-28T00:00:00\",\"2019-02-28T00:00:00\",\"2019-03-28T00:00:00\",\"2019-04-28T00:00:00\",\"2019-05-28T00:00:00\",\"2019-06-28T00:00:00\",\"2019-07-28T00:00:00\",\"2019-08-28T00:00:00\",\"2019-09-28T00:00:00\",\"2019-10-28T00:00:00\",\"2019-11-28T00:00:00\",\"2019-12-28T00:00:00\",\"2020-01-01T00:00:00\",\"2020-02-01T00:00:00\",\"2020-03-01T00:00:00\",\"2020-04-01T00:00:00\",\"2020-05-01T00:00:00\",\"2020-06-01T00:00:00\",\"2020-07-01T00:00:00\",\"2020-08-01T00:00:00\",\"2020-09-01T00:00:00\",\"2020-10-01T00:00:00\",\"2020-11-01T00:00:00\",\"2020-12-01T00:00:00\",\"2021-01-01T00:00:00\",\"2021-02-01T00:00:00\",\"2021-03-01T00:00:00\",\"2021-04-01T00:00:00\",\"2021-05-01T00:00:00\",\"2021-06-01T00:00:00\",\"2021-07-01T00:00:00\",\"2021-08-01T00:00:00\",\"2021-09-01T00:00:00\",\"2021-10-01T00:00:00\",\"2021-11-01T00:00:00\",\"2021-12-01T00:00:00\",\"2022-01-01T00:00:00\",\"2022-02-01T00:00:00\",\"2022-03-01T00:00:00\",\"2022-04-01T00:00:00\",\"2022-05-01T00:00:00\",\"2022-06-01T00:00:00\",\"2022-07-01T00:00:00\",\"2022-08-01T00:00:00\",\"2022-09-01T00:00:00\",\"2022-10-01T00:00:00\",\"2022-11-01T00:00:00\",\"2022-12-01T00:00:00\"],\"y\":[59.11329363408214,174.084377571096,103.16968687893362,104.23945239328114,89.64593875660006,86.13139852204715,51.485196118662536,49.61598006956824,48.880330238597914,68.3073582462303,102.16333410350795,62.620413798916296,53.1043521884606,137.51875600882343,81.94220251927031,112.45617626797525,84.29404317709547,58.345466996574075,32.49300885066316,35.39260749192461,33.667641960605046,71.15286410215982,63.34574912455714,69.20616822612192,48.364268286342934,101.07764661003208,63.10566346761684,122.65394444809192,81.5851709405554,29.19093885717153,15.606185662238714,17.25269499728352,17.502841974635192,75.39656608751648,24.97134519993819,76.44061759149976,-222.87443253896154,-151.98903217001094,240.5083856418589,266.3195909771705,-186.31984846317803,-175.96841310400885,182.03794782522587,75.14397990579882,58.89823814203475,58.36772491516881,-294.3894552100626,374.65116583660426,-280.8563330134219,-214.38669984587094,206.86175914244137,235.74661064863554,-182.06230963793132,-172.362982628858,162.32614753640928,56.75899594418517,41.934379823881585,37.772912782936274,-287.80262081268484,339.0257342070623,-280.32162156577203,-210.86697215205044,169.72527324017844,206.1961931935913,-179.5696891630227,-172.35271297098538,138.30580094275354,40.40579063427604,23.926685984905017,21.267898440816797,-283.6230156208222,300.4261199994329],\"type\":\"scatter\"},{\"line\":{\"color\":\"black\",\"dash\":\"dash\",\"width\":2},\"mode\":\"lines\",\"name\":\"Cap\",\"x\":[\"2017-01-28T00:00:00\",\"2017-02-28T00:00:00\",\"2017-03-28T00:00:00\",\"2017-04-28T00:00:00\",\"2017-05-28T00:00:00\",\"2017-06-28T00:00:00\",\"2017-07-28T00:00:00\",\"2017-08-28T00:00:00\",\"2017-09-28T00:00:00\",\"2017-10-28T00:00:00\",\"2017-11-28T00:00:00\",\"2017-12-28T00:00:00\",\"2018-01-28T00:00:00\",\"2018-02-28T00:00:00\",\"2018-03-28T00:00:00\",\"2018-04-28T00:00:00\",\"2018-05-28T00:00:00\",\"2018-06-28T00:00:00\",\"2018-07-28T00:00:00\",\"2018-08-28T00:00:00\",\"2018-09-28T00:00:00\",\"2018-10-28T00:00:00\",\"2018-11-28T00:00:00\",\"2018-12-28T00:00:00\",\"2019-01-28T00:00:00\",\"2019-02-28T00:00:00\",\"2019-03-28T00:00:00\",\"2019-04-28T00:00:00\",\"2019-05-28T00:00:00\",\"2019-06-28T00:00:00\",\"2019-07-28T00:00:00\",\"2019-08-28T00:00:00\",\"2019-09-28T00:00:00\",\"2019-10-28T00:00:00\",\"2019-11-28T00:00:00\",\"2019-12-28T00:00:00\",\"2020-01-01T00:00:00\",\"2020-02-01T00:00:00\",\"2020-03-01T00:00:00\",\"2020-04-01T00:00:00\",\"2020-05-01T00:00:00\",\"2020-06-01T00:00:00\",\"2020-07-01T00:00:00\",\"2020-08-01T00:00:00\",\"2020-09-01T00:00:00\",\"2020-10-01T00:00:00\",\"2020-11-01T00:00:00\",\"2020-12-01T00:00:00\",\"2021-01-01T00:00:00\",\"2021-02-01T00:00:00\",\"2021-03-01T00:00:00\",\"2021-04-01T00:00:00\",\"2021-05-01T00:00:00\",\"2021-06-01T00:00:00\",\"2021-07-01T00:00:00\",\"2021-08-01T00:00:00\",\"2021-09-01T00:00:00\",\"2021-10-01T00:00:00\",\"2021-11-01T00:00:00\",\"2021-12-01T00:00:00\",\"2022-01-01T00:00:00\",\"2022-02-01T00:00:00\",\"2022-03-01T00:00:00\",\"2022-04-01T00:00:00\",\"2022-05-01T00:00:00\",\"2022-06-01T00:00:00\",\"2022-07-01T00:00:00\",\"2022-08-01T00:00:00\",\"2022-09-01T00:00:00\",\"2022-10-01T00:00:00\",\"2022-11-01T00:00:00\",\"2022-12-01T00:00:00\"],\"y\":[200,200,200,200,200,200,200,200,200,200,200,200,200,200,200,200,200,200,200,200,200,200,200,200,200,200,200,200,200,200,200,200,200,200,200,200,200,200,200,200,200,200,200,200,200,200,200,200,200,200,200,200,200,200,200,200,200,200,200,200,200,200,200,200,200,200,200,200,200,200,200,200],\"type\":\"scatter\"}],                        {\"height\":600,\"showlegend\":false,\"width\":900,\"xaxis\":{\"rangeselector\":{\"buttons\":[{\"count\":7,\"label\":\"1w\",\"step\":\"day\",\"stepmode\":\"backward\"},{\"count\":1,\"label\":\"1m\",\"step\":\"month\",\"stepmode\":\"backward\"},{\"count\":6,\"label\":\"6m\",\"step\":\"month\",\"stepmode\":\"backward\"},{\"count\":1,\"label\":\"1y\",\"step\":\"year\",\"stepmode\":\"backward\"},{\"step\":\"all\"}]},\"rangeslider\":{\"visible\":true},\"title\":{\"text\":\"ds\"},\"type\":\"date\"},\"yaxis\":{\"title\":{\"text\":\"y\"}},\"template\":{\"data\":{\"histogram2dcontour\":[{\"type\":\"histogram2dcontour\",\"colorbar\":{\"outlinewidth\":0,\"ticks\":\"\"},\"colorscale\":[[0.0,\"#0d0887\"],[0.1111111111111111,\"#46039f\"],[0.2222222222222222,\"#7201a8\"],[0.3333333333333333,\"#9c179e\"],[0.4444444444444444,\"#bd3786\"],[0.5555555555555556,\"#d8576b\"],[0.6666666666666666,\"#ed7953\"],[0.7777777777777778,\"#fb9f3a\"],[0.8888888888888888,\"#fdca26\"],[1.0,\"#f0f921\"]]}],\"choropleth\":[{\"type\":\"choropleth\",\"colorbar\":{\"outlinewidth\":0,\"ticks\":\"\"}}],\"histogram2d\":[{\"type\":\"histogram2d\",\"colorbar\":{\"outlinewidth\":0,\"ticks\":\"\"},\"colorscale\":[[0.0,\"#0d0887\"],[0.1111111111111111,\"#46039f\"],[0.2222222222222222,\"#7201a8\"],[0.3333333333333333,\"#9c179e\"],[0.4444444444444444,\"#bd3786\"],[0.5555555555555556,\"#d8576b\"],[0.6666666666666666,\"#ed7953\"],[0.7777777777777778,\"#fb9f3a\"],[0.8888888888888888,\"#fdca26\"],[1.0,\"#f0f921\"]]}],\"heatmap\":[{\"type\":\"heatmap\",\"colorbar\":{\"outlinewidth\":0,\"ticks\":\"\"},\"colorscale\":[[0.0,\"#0d0887\"],[0.1111111111111111,\"#46039f\"],[0.2222222222222222,\"#7201a8\"],[0.3333333333333333,\"#9c179e\"],[0.4444444444444444,\"#bd3786\"],[0.5555555555555556,\"#d8576b\"],[0.6666666666666666,\"#ed7953\"],[0.7777777777777778,\"#fb9f3a\"],[0.8888888888888888,\"#fdca26\"],[1.0,\"#f0f921\"]]}],\"heatmapgl\":[{\"type\":\"heatmapgl\",\"colorbar\":{\"outlinewidth\":0,\"ticks\":\"\"},\"colorscale\":[[0.0,\"#0d0887\"],[0.1111111111111111,\"#46039f\"],[0.2222222222222222,\"#7201a8\"],[0.3333333333333333,\"#9c179e\"],[0.4444444444444444,\"#bd3786\"],[0.5555555555555556,\"#d8576b\"],[0.6666666666666666,\"#ed7953\"],[0.7777777777777778,\"#fb9f3a\"],[0.8888888888888888,\"#fdca26\"],[1.0,\"#f0f921\"]]}],\"contourcarpet\":[{\"type\":\"contourcarpet\",\"colorbar\":{\"outlinewidth\":0,\"ticks\":\"\"}}],\"contour\":[{\"type\":\"contour\",\"colorbar\":{\"outlinewidth\":0,\"ticks\":\"\"},\"colorscale\":[[0.0,\"#0d0887\"],[0.1111111111111111,\"#46039f\"],[0.2222222222222222,\"#7201a8\"],[0.3333333333333333,\"#9c179e\"],[0.4444444444444444,\"#bd3786\"],[0.5555555555555556,\"#d8576b\"],[0.6666666666666666,\"#ed7953\"],[0.7777777777777778,\"#fb9f3a\"],[0.8888888888888888,\"#fdca26\"],[1.0,\"#f0f921\"]]}],\"surface\":[{\"type\":\"surface\",\"colorbar\":{\"outlinewidth\":0,\"ticks\":\"\"},\"colorscale\":[[0.0,\"#0d0887\"],[0.1111111111111111,\"#46039f\"],[0.2222222222222222,\"#7201a8\"],[0.3333333333333333,\"#9c179e\"],[0.4444444444444444,\"#bd3786\"],[0.5555555555555556,\"#d8576b\"],[0.6666666666666666,\"#ed7953\"],[0.7777777777777778,\"#fb9f3a\"],[0.8888888888888888,\"#fdca26\"],[1.0,\"#f0f921\"]]}],\"mesh3d\":[{\"type\":\"mesh3d\",\"colorbar\":{\"outlinewidth\":0,\"ticks\":\"\"}}],\"scatter\":[{\"fillpattern\":{\"fillmode\":\"overlay\",\"size\":10,\"solidity\":0.2},\"type\":\"scatter\"}],\"parcoords\":[{\"type\":\"parcoords\",\"line\":{\"colorbar\":{\"outlinewidth\":0,\"ticks\":\"\"}}}],\"scatterpolargl\":[{\"type\":\"scatterpolargl\",\"marker\":{\"colorbar\":{\"outlinewidth\":0,\"ticks\":\"\"}}}],\"bar\":[{\"error_x\":{\"color\":\"#2a3f5f\"},\"error_y\":{\"color\":\"#2a3f5f\"},\"marker\":{\"line\":{\"color\":\"#E5ECF6\",\"width\":0.5},\"pattern\":{\"fillmode\":\"overlay\",\"size\":10,\"solidity\":0.2}},\"type\":\"bar\"}],\"scattergeo\":[{\"type\":\"scattergeo\",\"marker\":{\"colorbar\":{\"outlinewidth\":0,\"ticks\":\"\"}}}],\"scatterpolar\":[{\"type\":\"scatterpolar\",\"marker\":{\"colorbar\":{\"outlinewidth\":0,\"ticks\":\"\"}}}],\"histogram\":[{\"marker\":{\"pattern\":{\"fillmode\":\"overlay\",\"size\":10,\"solidity\":0.2}},\"type\":\"histogram\"}],\"scattergl\":[{\"type\":\"scattergl\",\"marker\":{\"colorbar\":{\"outlinewidth\":0,\"ticks\":\"\"}}}],\"scatter3d\":[{\"type\":\"scatter3d\",\"line\":{\"colorbar\":{\"outlinewidth\":0,\"ticks\":\"\"}},\"marker\":{\"colorbar\":{\"outlinewidth\":0,\"ticks\":\"\"}}}],\"scattermapbox\":[{\"type\":\"scattermapbox\",\"marker\":{\"colorbar\":{\"outlinewidth\":0,\"ticks\":\"\"}}}],\"scatterternary\":[{\"type\":\"scatterternary\",\"marker\":{\"colorbar\":{\"outlinewidth\":0,\"ticks\":\"\"}}}],\"scattercarpet\":[{\"type\":\"scattercarpet\",\"marker\":{\"colorbar\":{\"outlinewidth\":0,\"ticks\":\"\"}}}],\"carpet\":[{\"aaxis\":{\"endlinecolor\":\"#2a3f5f\",\"gridcolor\":\"white\",\"linecolor\":\"white\",\"minorgridcolor\":\"white\",\"startlinecolor\":\"#2a3f5f\"},\"baxis\":{\"endlinecolor\":\"#2a3f5f\",\"gridcolor\":\"white\",\"linecolor\":\"white\",\"minorgridcolor\":\"white\",\"startlinecolor\":\"#2a3f5f\"},\"type\":\"carpet\"}],\"table\":[{\"cells\":{\"fill\":{\"color\":\"#EBF0F8\"},\"line\":{\"color\":\"white\"}},\"header\":{\"fill\":{\"color\":\"#C8D4E3\"},\"line\":{\"color\":\"white\"}},\"type\":\"table\"}],\"barpolar\":[{\"marker\":{\"line\":{\"color\":\"#E5ECF6\",\"width\":0.5},\"pattern\":{\"fillmode\":\"overlay\",\"size\":10,\"solidity\":0.2}},\"type\":\"barpolar\"}],\"pie\":[{\"automargin\":true,\"type\":\"pie\"}]},\"layout\":{\"autotypenumbers\":\"strict\",\"colorway\":[\"#636efa\",\"#EF553B\",\"#00cc96\",\"#ab63fa\",\"#FFA15A\",\"#19d3f3\",\"#FF6692\",\"#B6E880\",\"#FF97FF\",\"#FECB52\"],\"font\":{\"color\":\"#2a3f5f\"},\"hovermode\":\"closest\",\"hoverlabel\":{\"align\":\"left\"},\"paper_bgcolor\":\"white\",\"plot_bgcolor\":\"#E5ECF6\",\"polar\":{\"bgcolor\":\"#E5ECF6\",\"angularaxis\":{\"gridcolor\":\"white\",\"linecolor\":\"white\",\"ticks\":\"\"},\"radialaxis\":{\"gridcolor\":\"white\",\"linecolor\":\"white\",\"ticks\":\"\"}},\"ternary\":{\"bgcolor\":\"#E5ECF6\",\"aaxis\":{\"gridcolor\":\"white\",\"linecolor\":\"white\",\"ticks\":\"\"},\"baxis\":{\"gridcolor\":\"white\",\"linecolor\":\"white\",\"ticks\":\"\"},\"caxis\":{\"gridcolor\":\"white\",\"linecolor\":\"white\",\"ticks\":\"\"}},\"coloraxis\":{\"colorbar\":{\"outlinewidth\":0,\"ticks\":\"\"}},\"colorscale\":{\"sequential\":[[0.0,\"#0d0887\"],[0.1111111111111111,\"#46039f\"],[0.2222222222222222,\"#7201a8\"],[0.3333333333333333,\"#9c179e\"],[0.4444444444444444,\"#bd3786\"],[0.5555555555555556,\"#d8576b\"],[0.6666666666666666,\"#ed7953\"],[0.7777777777777778,\"#fb9f3a\"],[0.8888888888888888,\"#fdca26\"],[1.0,\"#f0f921\"]],\"sequentialminus\":[[0.0,\"#0d0887\"],[0.1111111111111111,\"#46039f\"],[0.2222222222222222,\"#7201a8\"],[0.3333333333333333,\"#9c179e\"],[0.4444444444444444,\"#bd3786\"],[0.5555555555555556,\"#d8576b\"],[0.6666666666666666,\"#ed7953\"],[0.7777777777777778,\"#fb9f3a\"],[0.8888888888888888,\"#fdca26\"],[1.0,\"#f0f921\"]],\"diverging\":[[0,\"#8e0152\"],[0.1,\"#c51b7d\"],[0.2,\"#de77ae\"],[0.3,\"#f1b6da\"],[0.4,\"#fde0ef\"],[0.5,\"#f7f7f7\"],[0.6,\"#e6f5d0\"],[0.7,\"#b8e186\"],[0.8,\"#7fbc41\"],[0.9,\"#4d9221\"],[1,\"#276419\"]]},\"xaxis\":{\"gridcolor\":\"white\",\"linecolor\":\"white\",\"ticks\":\"\",\"title\":{\"standoff\":15},\"zerolinecolor\":\"white\",\"automargin\":true,\"zerolinewidth\":2},\"yaxis\":{\"gridcolor\":\"white\",\"linecolor\":\"white\",\"ticks\":\"\",\"title\":{\"standoff\":15},\"zerolinecolor\":\"white\",\"automargin\":true,\"zerolinewidth\":2},\"scene\":{\"xaxis\":{\"backgroundcolor\":\"#E5ECF6\",\"gridcolor\":\"white\",\"linecolor\":\"white\",\"showbackground\":true,\"ticks\":\"\",\"zerolinecolor\":\"white\",\"gridwidth\":2},\"yaxis\":{\"backgroundcolor\":\"#E5ECF6\",\"gridcolor\":\"white\",\"linecolor\":\"white\",\"showbackground\":true,\"ticks\":\"\",\"zerolinecolor\":\"white\",\"gridwidth\":2},\"zaxis\":{\"backgroundcolor\":\"#E5ECF6\",\"gridcolor\":\"white\",\"linecolor\":\"white\",\"showbackground\":true,\"ticks\":\"\",\"zerolinecolor\":\"white\",\"gridwidth\":2}},\"shapedefaults\":{\"line\":{\"color\":\"#2a3f5f\"}},\"annotationdefaults\":{\"arrowcolor\":\"#2a3f5f\",\"arrowhead\":0,\"arrowwidth\":1},\"geo\":{\"bgcolor\":\"white\",\"landcolor\":\"#E5ECF6\",\"subunitcolor\":\"white\",\"showland\":true,\"showlakes\":true,\"lakecolor\":\"white\"},\"title\":{\"x\":0.05},\"mapbox\":{\"style\":\"light\"}}}},                        {\"responsive\": true}                    ).then(function(){\n                            \nvar gd = document.getElementById('5c5057d8-52c5-44e7-a133-19d2f74204bc');\nvar x = new MutationObserver(function (mutations, observer) {{\n        var display = window.getComputedStyle(gd).display;\n        if (!display || display === 'none') {{\n            console.log([gd, 'removed!']);\n            Plotly.purge(gd);\n            observer.disconnect();\n        }}\n}});\n\n// Listen for the removal of the full notebook cells\nvar notebookContainer = gd.closest('#notebook-container');\nif (notebookContainer) {{\n    x.observe(notebookContainer, {childList: true});\n}}\n\n// Listen for the clearing of the current output cell\nvar outputEl = gd.closest('.output');\nif (outputEl) {{\n    x.observe(outputEl, {childList: true});\n}}\n\n                        })                };                            </script>        </div>\n</body>\n</html>"
     },
     "metadata": {},
     "output_type": "display_data"
    }
   ]
  },
  {
   "cell_type": "code",
   "metadata": {
    "cell_id": "13a86be9cc764f8390d2ebdad72f7412",
    "tags": [],
    "deepnote_to_be_reexecuted": false,
    "source_hash": "f6446c1",
    "execution_start": 1661016286582,
    "execution_millis": 236,
    "deepnote_cell_type": "code",
    "deepnote_cell_height": 493,
    "deepnote_output_heights": [
     401
    ]
   },
   "source": "plot_components_plotly(m, forecast)",
   "execution_count": 45,
   "outputs": [
    {
     "data": {
      "text/html": "<html>\n<head><meta charset=\"utf-8\" /></head>\n<body>\n    <div>            <script src=\"https://cdnjs.cloudflare.com/ajax/libs/mathjax/2.7.5/MathJax.js?config=TeX-AMS-MML_SVG\"></script><script type=\"text/javascript\">if (window.MathJax && window.MathJax.Hub && window.MathJax.Hub.Config) {window.MathJax.Hub.Config({SVG: {font: \"STIX-Web\"}});}</script>                <script type=\"text/javascript\">window.PlotlyConfig = {MathJaxConfig: 'local'};</script>\n        <script src=\"https://cdn.plot.ly/plotly-2.12.1.min.js\"></script>                <div id=\"362be9ec-fa25-483f-a7ae-e5983f143e09\" class=\"plotly-graph-div\" style=\"height:400px; width:900px;\"></div>            <script type=\"text/javascript\">                                    window.PLOTLYENV=window.PLOTLYENV || {};                                    if (document.getElementById(\"362be9ec-fa25-483f-a7ae-e5983f143e09\")) {                    Plotly.newPlot(                        \"362be9ec-fa25-483f-a7ae-e5983f143e09\",                        [{\"line\":{\"color\":\"#0072B2\",\"width\":2},\"mode\":\"lines\",\"name\":\"trend\",\"x\":[\"2017-01-28T00:00:00\",\"2017-02-28T00:00:00\",\"2017-03-28T00:00:00\",\"2017-04-28T00:00:00\",\"2017-05-28T00:00:00\",\"2017-06-28T00:00:00\",\"2017-07-28T00:00:00\",\"2017-08-28T00:00:00\",\"2017-09-28T00:00:00\",\"2017-10-28T00:00:00\",\"2017-11-28T00:00:00\",\"2017-12-28T00:00:00\",\"2018-01-28T00:00:00\",\"2018-02-28T00:00:00\",\"2018-03-28T00:00:00\",\"2018-04-28T00:00:00\",\"2018-05-28T00:00:00\",\"2018-06-28T00:00:00\",\"2018-07-28T00:00:00\",\"2018-08-28T00:00:00\",\"2018-09-28T00:00:00\",\"2018-10-28T00:00:00\",\"2018-11-28T00:00:00\",\"2018-12-28T00:00:00\",\"2019-01-28T00:00:00\",\"2019-02-28T00:00:00\",\"2019-03-28T00:00:00\",\"2019-04-28T00:00:00\",\"2019-05-28T00:00:00\",\"2019-06-28T00:00:00\",\"2019-07-28T00:00:00\",\"2019-08-28T00:00:00\",\"2019-09-28T00:00:00\",\"2019-10-28T00:00:00\",\"2019-11-28T00:00:00\",\"2019-12-28T00:00:00\",\"2020-01-01T00:00:00\",\"2020-02-01T00:00:00\",\"2020-03-01T00:00:00\",\"2020-04-01T00:00:00\",\"2020-05-01T00:00:00\",\"2020-06-01T00:00:00\",\"2020-07-01T00:00:00\",\"2020-08-01T00:00:00\",\"2020-09-01T00:00:00\",\"2020-10-01T00:00:00\",\"2020-11-01T00:00:00\",\"2020-12-01T00:00:00\",\"2021-01-01T00:00:00\",\"2021-02-01T00:00:00\",\"2021-03-01T00:00:00\",\"2021-04-01T00:00:00\",\"2021-05-01T00:00:00\",\"2021-06-01T00:00:00\",\"2021-07-01T00:00:00\",\"2021-08-01T00:00:00\",\"2021-09-01T00:00:00\",\"2021-10-01T00:00:00\",\"2021-11-01T00:00:00\",\"2021-12-01T00:00:00\",\"2022-01-01T00:00:00\",\"2022-02-01T00:00:00\",\"2022-03-01T00:00:00\",\"2022-04-01T00:00:00\",\"2022-05-01T00:00:00\",\"2022-06-01T00:00:00\",\"2022-07-01T00:00:00\",\"2022-08-01T00:00:00\",\"2022-09-01T00:00:00\",\"2022-10-01T00:00:00\",\"2022-11-01T00:00:00\",\"2022-12-01T00:00:00\"],\"y\":[56.33273749999999,55.15252867716165,54.08653361137853,52.90632478854886,51.764187218088225,50.583978395258185,49.4418408247527,48.2616320019146,47.08142317907649,45.93928560856936,44.759076785711265,43.61693921519129,42.436730392304796,41.25652156941171,40.19052650357594,39.010317680686384,37.868180110139924,36.687971287218794,35.545833716673094,34.36562489376472,33.18541607083169,32.04327850025135,30.863069677323633,29.720932106735855,28.540723283786193,27.360514460831137,26.29451939491974,25.114310571964946,23.972173001385073,22.791964178452545,21.649826607872672,20.469617784940144,19.28940896200761,18.147271391427736,16.967062568495212,15.824924997915337,15.67263998850469,14.492431165572155,13.388364847344949,12.208156024412423,11.066018453832546,9.885809630900013,8.743672060320145,7.563463237387611,6.3832544144550765,5.2411168438752105,4.060908020942667,2.9187704503628087,1.7385616274302658,0.5583528044977397,-0.5076422613768082,-1.6878510843093344,-2.8299886548892097,-4.010197477821736,-5.152335048401611,-6.3325438713341455,-7.512752694266672,-8.654890264846546,-9.835099087779072,-10.977236658358947,-12.157445481291482,-13.337654304224017,-14.403649370098565,-15.58385819303109,-16.725995763610968,-17.906204586543492,-19.04834215712337,-20.228550980055903,-21.408759802988428,-22.550897373568294,-23.73110619650084,-24.873243767080705],\"type\":\"scatter\",\"xaxis\":\"x\",\"yaxis\":\"y\"},{\"line\":{\"color\":\"rgba(0, 114, 178, 0.2)\",\"width\":0},\"mode\":\"lines\",\"name\":\"trend_upper\",\"x\":[\"2017-01-28T00:00:00\",\"2017-02-28T00:00:00\",\"2017-03-28T00:00:00\",\"2017-04-28T00:00:00\",\"2017-05-28T00:00:00\",\"2017-06-28T00:00:00\",\"2017-07-28T00:00:00\",\"2017-08-28T00:00:00\",\"2017-09-28T00:00:00\",\"2017-10-28T00:00:00\",\"2017-11-28T00:00:00\",\"2017-12-28T00:00:00\",\"2018-01-28T00:00:00\",\"2018-02-28T00:00:00\",\"2018-03-28T00:00:00\",\"2018-04-28T00:00:00\",\"2018-05-28T00:00:00\",\"2018-06-28T00:00:00\",\"2018-07-28T00:00:00\",\"2018-08-28T00:00:00\",\"2018-09-28T00:00:00\",\"2018-10-28T00:00:00\",\"2018-11-28T00:00:00\",\"2018-12-28T00:00:00\",\"2019-01-28T00:00:00\",\"2019-02-28T00:00:00\",\"2019-03-28T00:00:00\",\"2019-04-28T00:00:00\",\"2019-05-28T00:00:00\",\"2019-06-28T00:00:00\",\"2019-07-28T00:00:00\",\"2019-08-28T00:00:00\",\"2019-09-28T00:00:00\",\"2019-10-28T00:00:00\",\"2019-11-28T00:00:00\",\"2019-12-28T00:00:00\",\"2020-01-01T00:00:00\",\"2020-02-01T00:00:00\",\"2020-03-01T00:00:00\",\"2020-04-01T00:00:00\",\"2020-05-01T00:00:00\",\"2020-06-01T00:00:00\",\"2020-07-01T00:00:00\",\"2020-08-01T00:00:00\",\"2020-09-01T00:00:00\",\"2020-10-01T00:00:00\",\"2020-11-01T00:00:00\",\"2020-12-01T00:00:00\",\"2021-01-01T00:00:00\",\"2021-02-01T00:00:00\",\"2021-03-01T00:00:00\",\"2021-04-01T00:00:00\",\"2021-05-01T00:00:00\",\"2021-06-01T00:00:00\",\"2021-07-01T00:00:00\",\"2021-08-01T00:00:00\",\"2021-09-01T00:00:00\",\"2021-10-01T00:00:00\",\"2021-11-01T00:00:00\",\"2021-12-01T00:00:00\",\"2022-01-01T00:00:00\",\"2022-02-01T00:00:00\",\"2022-03-01T00:00:00\",\"2022-04-01T00:00:00\",\"2022-05-01T00:00:00\",\"2022-06-01T00:00:00\",\"2022-07-01T00:00:00\",\"2022-08-01T00:00:00\",\"2022-09-01T00:00:00\",\"2022-10-01T00:00:00\",\"2022-11-01T00:00:00\",\"2022-12-01T00:00:00\"],\"y\":[56.33273749999999,55.15252867716165,54.08653361137853,52.90632478854886,51.764187218088225,50.583978395258185,49.4418408247527,48.2616320019146,47.08142317907649,45.93928560856936,44.759076785711265,43.61693921519129,42.436730392304796,41.25652156941171,40.19052650357594,39.010317680686384,37.868180110139924,36.687971287218794,35.545833716673094,34.36562489376472,33.18541607083169,32.04327850025135,30.863069677323633,29.720932106735855,28.540723283786193,27.360514460831137,26.29451939491974,25.114310571964946,23.972173001385073,22.791964178452545,21.649826607872672,20.469617784940144,19.28940896200761,18.147271391427736,16.967062568495212,15.824924997915337,15.67263998850469,14.492431199095085,13.388364943345191,12.208156206047375,11.066018735373573,9.885810042816614,8.743672612954475,7.56346392923514,6.3832552872455715,5.241117871229345,4.060909194180075,2.918771826207465,1.738563156483637,0.5583544872568237,-0.5076403276635191,-1.6878489320580896,-2.8299862769785133,-4.010194879456952,-5.152332257036352,-6.332540840939879,-7.5127494069339775,-8.654886740251543,-9.835095232265074,-10.977232583125716,-12.157441103279695,-13.33764961425704,-14.403644456733737,-15.583853035121429,-16.725990298164433,-17.906198862679883,-19.04833608965466,-20.228544664832615,-21.408753238944993,-22.550890499631834,-23.731099003460137,-24.873236172957235],\"type\":\"scatter\",\"xaxis\":\"x\",\"yaxis\":\"y\"},{\"fill\":\"tonexty\",\"fillcolor\":\"rgba(0, 114, 178, 0.2)\",\"line\":{\"color\":\"rgba(0, 114, 178, 0.2)\",\"width\":0},\"mode\":\"lines\",\"name\":\"trend_lower\",\"x\":[\"2017-01-28T00:00:00\",\"2017-02-28T00:00:00\",\"2017-03-28T00:00:00\",\"2017-04-28T00:00:00\",\"2017-05-28T00:00:00\",\"2017-06-28T00:00:00\",\"2017-07-28T00:00:00\",\"2017-08-28T00:00:00\",\"2017-09-28T00:00:00\",\"2017-10-28T00:00:00\",\"2017-11-28T00:00:00\",\"2017-12-28T00:00:00\",\"2018-01-28T00:00:00\",\"2018-02-28T00:00:00\",\"2018-03-28T00:00:00\",\"2018-04-28T00:00:00\",\"2018-05-28T00:00:00\",\"2018-06-28T00:00:00\",\"2018-07-28T00:00:00\",\"2018-08-28T00:00:00\",\"2018-09-28T00:00:00\",\"2018-10-28T00:00:00\",\"2018-11-28T00:00:00\",\"2018-12-28T00:00:00\",\"2019-01-28T00:00:00\",\"2019-02-28T00:00:00\",\"2019-03-28T00:00:00\",\"2019-04-28T00:00:00\",\"2019-05-28T00:00:00\",\"2019-06-28T00:00:00\",\"2019-07-28T00:00:00\",\"2019-08-28T00:00:00\",\"2019-09-28T00:00:00\",\"2019-10-28T00:00:00\",\"2019-11-28T00:00:00\",\"2019-12-28T00:00:00\",\"2020-01-01T00:00:00\",\"2020-02-01T00:00:00\",\"2020-03-01T00:00:00\",\"2020-04-01T00:00:00\",\"2020-05-01T00:00:00\",\"2020-06-01T00:00:00\",\"2020-07-01T00:00:00\",\"2020-08-01T00:00:00\",\"2020-09-01T00:00:00\",\"2020-10-01T00:00:00\",\"2020-11-01T00:00:00\",\"2020-12-01T00:00:00\",\"2021-01-01T00:00:00\",\"2021-02-01T00:00:00\",\"2021-03-01T00:00:00\",\"2021-04-01T00:00:00\",\"2021-05-01T00:00:00\",\"2021-06-01T00:00:00\",\"2021-07-01T00:00:00\",\"2021-08-01T00:00:00\",\"2021-09-01T00:00:00\",\"2021-10-01T00:00:00\",\"2021-11-01T00:00:00\",\"2021-12-01T00:00:00\",\"2022-01-01T00:00:00\",\"2022-02-01T00:00:00\",\"2022-03-01T00:00:00\",\"2022-04-01T00:00:00\",\"2022-05-01T00:00:00\",\"2022-06-01T00:00:00\",\"2022-07-01T00:00:00\",\"2022-08-01T00:00:00\",\"2022-09-01T00:00:00\",\"2022-10-01T00:00:00\",\"2022-11-01T00:00:00\",\"2022-12-01T00:00:00\"],\"y\":[56.33273749999999,55.15252867716165,54.08653361137853,52.90632478854886,51.764187218088225,50.583978395258185,49.4418408247527,48.2616320019146,47.08142317907649,45.93928560856936,44.759076785711265,43.61693921519129,42.436730392304796,41.25652156941171,40.19052650357594,39.010317680686384,37.868180110139924,36.687971287218794,35.545833716673094,34.36562489376472,33.18541607083169,32.04327850025135,30.863069677323633,29.720932106735855,28.540723283786193,27.360514460831137,26.29451939491974,25.114310571964946,23.972173001385073,22.791964178452545,21.649826607872672,20.469617784940144,19.28940896200761,18.147271391427736,16.967062568495212,15.824924997915337,15.67263998850469,14.492431141716436,13.38836476108003,12.20815585310855,11.066018180601782,9.885809209290146,8.74367152724465,7.563462532757988,6.383253576614159,5.241115841169484,4.060906881364383,2.9187691297026213,1.7385601421995895,0.5583511164538374,-0.5076441326824114,-1.6878531293694836,-2.8299909266257783,-4.0101999287866645,-5.152337766657302,-6.332546835447228,-7.5127558522237,-8.654893664890388,-9.8351027547106,-10.977240590858418,-12.15744971078835,-13.337658833321168,-14.403654171483513,-15.583863226640492,-16.726001127119073,-17.90621025420341,-19.0483482086741,-20.228557231710234,-21.408766329204486,-22.550904224529962,-23.731113342469826,-24.873251237733484],\"type\":\"scatter\",\"xaxis\":\"x\",\"yaxis\":\"y\"},{\"line\":{\"color\":\"black\",\"dash\":\"dash\",\"width\":2},\"mode\":\"lines\",\"name\":\"Cap\",\"x\":[\"2017-01-28T00:00:00\",\"2017-02-28T00:00:00\",\"2017-03-28T00:00:00\",\"2017-04-28T00:00:00\",\"2017-05-28T00:00:00\",\"2017-06-28T00:00:00\",\"2017-07-28T00:00:00\",\"2017-08-28T00:00:00\",\"2017-09-28T00:00:00\",\"2017-10-28T00:00:00\",\"2017-11-28T00:00:00\",\"2017-12-28T00:00:00\",\"2018-01-28T00:00:00\",\"2018-02-28T00:00:00\",\"2018-03-28T00:00:00\",\"2018-04-28T00:00:00\",\"2018-05-28T00:00:00\",\"2018-06-28T00:00:00\",\"2018-07-28T00:00:00\",\"2018-08-28T00:00:00\",\"2018-09-28T00:00:00\",\"2018-10-28T00:00:00\",\"2018-11-28T00:00:00\",\"2018-12-28T00:00:00\",\"2019-01-28T00:00:00\",\"2019-02-28T00:00:00\",\"2019-03-28T00:00:00\",\"2019-04-28T00:00:00\",\"2019-05-28T00:00:00\",\"2019-06-28T00:00:00\",\"2019-07-28T00:00:00\",\"2019-08-28T00:00:00\",\"2019-09-28T00:00:00\",\"2019-10-28T00:00:00\",\"2019-11-28T00:00:00\",\"2019-12-28T00:00:00\",\"2020-01-01T00:00:00\",\"2020-02-01T00:00:00\",\"2020-03-01T00:00:00\",\"2020-04-01T00:00:00\",\"2020-05-01T00:00:00\",\"2020-06-01T00:00:00\",\"2020-07-01T00:00:00\",\"2020-08-01T00:00:00\",\"2020-09-01T00:00:00\",\"2020-10-01T00:00:00\",\"2020-11-01T00:00:00\",\"2020-12-01T00:00:00\",\"2021-01-01T00:00:00\",\"2021-02-01T00:00:00\",\"2021-03-01T00:00:00\",\"2021-04-01T00:00:00\",\"2021-05-01T00:00:00\",\"2021-06-01T00:00:00\",\"2021-07-01T00:00:00\",\"2021-08-01T00:00:00\",\"2021-09-01T00:00:00\",\"2021-10-01T00:00:00\",\"2021-11-01T00:00:00\",\"2021-12-01T00:00:00\",\"2022-01-01T00:00:00\",\"2022-02-01T00:00:00\",\"2022-03-01T00:00:00\",\"2022-04-01T00:00:00\",\"2022-05-01T00:00:00\",\"2022-06-01T00:00:00\",\"2022-07-01T00:00:00\",\"2022-08-01T00:00:00\",\"2022-09-01T00:00:00\",\"2022-10-01T00:00:00\",\"2022-11-01T00:00:00\",\"2022-12-01T00:00:00\"],\"y\":[200,200,200,200,200,200,200,200,200,200,200,200,200,200,200,200,200,200,200,200,200,200,200,200,200,200,200,200,200,200,200,200,200,200,200,200,200,200,200,200,200,200,200,200,200,200,200,200,200,200,200,200,200,200,200,200,200,200,200,200,200,200,200,200,200,200,200,200,200,200,200,200],\"type\":\"scatter\",\"xaxis\":\"x\",\"yaxis\":\"y\"},{\"line\":{\"color\":\"#0072B2\",\"width\":2},\"mode\":\"lines\",\"name\":\"yearly\",\"x\":[\"2017-01-01T00:00:00\",\"2017-01-02T00:00:59.178082\",\"2017-01-03T00:01:58.356164\",\"2017-01-04T00:02:57.534246\",\"2017-01-05T00:03:56.712328\",\"2017-01-06T00:04:55.890411\",\"2017-01-07T00:05:55.068493\",\"2017-01-08T00:06:54.246575\",\"2017-01-09T00:07:53.424657\",\"2017-01-10T00:08:52.602739\",\"2017-01-11T00:09:51.780822\",\"2017-01-12T00:10:50.958904\",\"2017-01-13T00:11:50.136986\",\"2017-01-14T00:12:49.315068\",\"2017-01-15T00:13:48.493150\",\"2017-01-16T00:14:47.671232\",\"2017-01-17T00:15:46.849315\",\"2017-01-18T00:16:46.027397\",\"2017-01-19T00:17:45.205479\",\"2017-01-20T00:18:44.383561\",\"2017-01-21T00:19:43.561643\",\"2017-01-22T00:20:42.739726\",\"2017-01-23T00:21:41.917808\",\"2017-01-24T00:22:41.095890\",\"2017-01-25T00:23:40.273972\",\"2017-01-26T00:24:39.452054\",\"2017-01-27T00:25:38.630137\",\"2017-01-28T00:26:37.808219\",\"2017-01-29T00:27:36.986301\",\"2017-01-30T00:28:36.164383\",\"2017-01-31T00:29:35.342465\",\"2017-02-01T00:30:34.520547\",\"2017-02-02T00:31:33.698630\",\"2017-02-03T00:32:32.876712\",\"2017-02-04T00:33:32.054794\",\"2017-02-05T00:34:31.232876\",\"2017-02-06T00:35:30.410958\",\"2017-02-07T00:36:29.589041\",\"2017-02-08T00:37:28.767123\",\"2017-02-09T00:38:27.945205\",\"2017-02-10T00:39:27.123287\",\"2017-02-11T00:40:26.301369\",\"2017-02-12T00:41:25.479452\",\"2017-02-13T00:42:24.657534\",\"2017-02-14T00:43:23.835616\",\"2017-02-15T00:44:23.013698\",\"2017-02-16T00:45:22.191780\",\"2017-02-17T00:46:21.369862\",\"2017-02-18T00:47:20.547945\",\"2017-02-19T00:48:19.726027\",\"2017-02-20T00:49:18.904109\",\"2017-02-21T00:50:18.082191\",\"2017-02-22T00:51:17.260273\",\"2017-02-23T00:52:16.438356\",\"2017-02-24T00:53:15.616438\",\"2017-02-25T00:54:14.794520\",\"2017-02-26T00:55:13.972602\",\"2017-02-27T00:56:13.150684\",\"2017-02-28T00:57:12.328767\",\"2017-03-01T00:58:11.506849\",\"2017-03-02T00:59:10.684931\",\"2017-03-03T01:00:09.863013\",\"2017-03-04T01:01:09.041095\",\"2017-03-05T01:02:08.219177\",\"2017-03-06T01:03:07.397260\",\"2017-03-07T01:04:06.575342\",\"2017-03-08T01:05:05.753424\",\"2017-03-09T01:06:04.931506\",\"2017-03-10T01:07:04.109588\",\"2017-03-11T01:08:03.287671\",\"2017-03-12T01:09:02.465753\",\"2017-03-13T01:10:01.643835\",\"2017-03-14T01:11:00.821917\",\"2017-03-15T01:12:00\",\"2017-03-16T01:12:59.178082\",\"2017-03-17T01:13:58.356164\",\"2017-03-18T01:14:57.534246\",\"2017-03-19T01:15:56.712328\",\"2017-03-20T01:16:55.890411\",\"2017-03-21T01:17:55.068493\",\"2017-03-22T01:18:54.246575\",\"2017-03-23T01:19:53.424657\",\"2017-03-24T01:20:52.602739\",\"2017-03-25T01:21:51.780822\",\"2017-03-26T01:22:50.958904\",\"2017-03-27T01:23:50.136986\",\"2017-03-28T01:24:49.315068\",\"2017-03-29T01:25:48.493150\",\"2017-03-30T01:26:47.671232\",\"2017-03-31T01:27:46.849315\",\"2017-04-01T01:28:46.027397\",\"2017-04-02T01:29:45.205479\",\"2017-04-03T01:30:44.383561\",\"2017-04-04T01:31:43.561643\",\"2017-04-05T01:32:42.739726\",\"2017-04-06T01:33:41.917808\",\"2017-04-07T01:34:41.095890\",\"2017-04-08T01:35:40.273972\",\"2017-04-09T01:36:39.452054\",\"2017-04-10T01:37:38.630137\",\"2017-04-11T01:38:37.808219\",\"2017-04-12T01:39:36.986301\",\"2017-04-13T01:40:36.164383\",\"2017-04-14T01:41:35.342465\",\"2017-04-15T01:42:34.520547\",\"2017-04-16T01:43:33.698630\",\"2017-04-17T01:44:32.876712\",\"2017-04-18T01:45:32.054794\",\"2017-04-19T01:46:31.232876\",\"2017-04-20T01:47:30.410958\",\"2017-04-21T01:48:29.589041\",\"2017-04-22T01:49:28.767123\",\"2017-04-23T01:50:27.945205\",\"2017-04-24T01:51:27.123287\",\"2017-04-25T01:52:26.301369\",\"2017-04-26T01:53:25.479452\",\"2017-04-27T01:54:24.657534\",\"2017-04-28T01:55:23.835616\",\"2017-04-29T01:56:23.013698\",\"2017-04-30T01:57:22.191780\",\"2017-05-01T01:58:21.369862\",\"2017-05-02T01:59:20.547945\",\"2017-05-03T02:00:19.726027\",\"2017-05-04T02:01:18.904109\",\"2017-05-05T02:02:18.082191\",\"2017-05-06T02:03:17.260273\",\"2017-05-07T02:04:16.438356\",\"2017-05-08T02:05:15.616438\",\"2017-05-09T02:06:14.794520\",\"2017-05-10T02:07:13.972602\",\"2017-05-11T02:08:13.150684\",\"2017-05-12T02:09:12.328767\",\"2017-05-13T02:10:11.506849\",\"2017-05-14T02:11:10.684931\",\"2017-05-15T02:12:09.863013\",\"2017-05-16T02:13:09.041095\",\"2017-05-17T02:14:08.219177\",\"2017-05-18T02:15:07.397260\",\"2017-05-19T02:16:06.575342\",\"2017-05-20T02:17:05.753424\",\"2017-05-21T02:18:04.931506\",\"2017-05-22T02:19:04.109588\",\"2017-05-23T02:20:03.287671\",\"2017-05-24T02:21:02.465753\",\"2017-05-25T02:22:01.643835\",\"2017-05-26T02:23:00.821917\",\"2017-05-27T02:24:00\",\"2017-05-28T02:24:59.178082\",\"2017-05-29T02:25:58.356164\",\"2017-05-30T02:26:57.534246\",\"2017-05-31T02:27:56.712328\",\"2017-06-01T02:28:55.890411\",\"2017-06-02T02:29:55.068493\",\"2017-06-03T02:30:54.246575\",\"2017-06-04T02:31:53.424657\",\"2017-06-05T02:32:52.602739\",\"2017-06-06T02:33:51.780822\",\"2017-06-07T02:34:50.958904\",\"2017-06-08T02:35:50.136986\",\"2017-06-09T02:36:49.315068\",\"2017-06-10T02:37:48.493150\",\"2017-06-11T02:38:47.671232\",\"2017-06-12T02:39:46.849315\",\"2017-06-13T02:40:46.027397\",\"2017-06-14T02:41:45.205479\",\"2017-06-15T02:42:44.383561\",\"2017-06-16T02:43:43.561643\",\"2017-06-17T02:44:42.739726\",\"2017-06-18T02:45:41.917808\",\"2017-06-19T02:46:41.095890\",\"2017-06-20T02:47:40.273972\",\"2017-06-21T02:48:39.452054\",\"2017-06-22T02:49:38.630137\",\"2017-06-23T02:50:37.808219\",\"2017-06-24T02:51:36.986301\",\"2017-06-25T02:52:36.164383\",\"2017-06-26T02:53:35.342465\",\"2017-06-27T02:54:34.520547\",\"2017-06-28T02:55:33.698630\",\"2017-06-29T02:56:32.876712\",\"2017-06-30T02:57:32.054794\",\"2017-07-01T02:58:31.232876\",\"2017-07-02T02:59:30.410958\",\"2017-07-03T03:00:29.589041\",\"2017-07-04T03:01:28.767123\",\"2017-07-05T03:02:27.945205\",\"2017-07-06T03:03:27.123287\",\"2017-07-07T03:04:26.301369\",\"2017-07-08T03:05:25.479452\",\"2017-07-09T03:06:24.657534\",\"2017-07-10T03:07:23.835616\",\"2017-07-11T03:08:23.013698\",\"2017-07-12T03:09:22.191780\",\"2017-07-13T03:10:21.369862\",\"2017-07-14T03:11:20.547945\",\"2017-07-15T03:12:19.726027\",\"2017-07-16T03:13:18.904109\",\"2017-07-17T03:14:18.082191\",\"2017-07-18T03:15:17.260273\",\"2017-07-19T03:16:16.438356\",\"2017-07-20T03:17:15.616438\",\"2017-07-21T03:18:14.794520\",\"2017-07-22T03:19:13.972602\",\"2017-07-23T03:20:13.150684\",\"2017-07-24T03:21:12.328767\",\"2017-07-25T03:22:11.506849\",\"2017-07-26T03:23:10.684931\",\"2017-07-27T03:24:09.863013\",\"2017-07-28T03:25:09.041095\",\"2017-07-29T03:26:08.219177\",\"2017-07-30T03:27:07.397260\",\"2017-07-31T03:28:06.575342\",\"2017-08-01T03:29:05.753424\",\"2017-08-02T03:30:04.931506\",\"2017-08-03T03:31:04.109588\",\"2017-08-04T03:32:03.287671\",\"2017-08-05T03:33:02.465753\",\"2017-08-06T03:34:01.643835\",\"2017-08-07T03:35:00.821917\",\"2017-08-08T03:36:00\",\"2017-08-09T03:36:59.178082\",\"2017-08-10T03:37:58.356164\",\"2017-08-11T03:38:57.534246\",\"2017-08-12T03:39:56.712328\",\"2017-08-13T03:40:55.890411\",\"2017-08-14T03:41:55.068493\",\"2017-08-15T03:42:54.246575\",\"2017-08-16T03:43:53.424657\",\"2017-08-17T03:44:52.602739\",\"2017-08-18T03:45:51.780822\",\"2017-08-19T03:46:50.958904\",\"2017-08-20T03:47:50.136986\",\"2017-08-21T03:48:49.315068\",\"2017-08-22T03:49:48.493150\",\"2017-08-23T03:50:47.671232\",\"2017-08-24T03:51:46.849315\",\"2017-08-25T03:52:46.027397\",\"2017-08-26T03:53:45.205479\",\"2017-08-27T03:54:44.383561\",\"2017-08-28T03:55:43.561643\",\"2017-08-29T03:56:42.739726\",\"2017-08-30T03:57:41.917808\",\"2017-08-31T03:58:41.095890\",\"2017-09-01T03:59:40.273972\",\"2017-09-02T04:00:39.452054\",\"2017-09-03T04:01:38.630137\",\"2017-09-04T04:02:37.808219\",\"2017-09-05T04:03:36.986301\",\"2017-09-06T04:04:36.164383\",\"2017-09-07T04:05:35.342465\",\"2017-09-08T04:06:34.520547\",\"2017-09-09T04:07:33.698630\",\"2017-09-10T04:08:32.876712\",\"2017-09-11T04:09:32.054794\",\"2017-09-12T04:10:31.232876\",\"2017-09-13T04:11:30.410958\",\"2017-09-14T04:12:29.589041\",\"2017-09-15T04:13:28.767123\",\"2017-09-16T04:14:27.945205\",\"2017-09-17T04:15:27.123287\",\"2017-09-18T04:16:26.301369\",\"2017-09-19T04:17:25.479452\",\"2017-09-20T04:18:24.657534\",\"2017-09-21T04:19:23.835616\",\"2017-09-22T04:20:23.013698\",\"2017-09-23T04:21:22.191780\",\"2017-09-24T04:22:21.369862\",\"2017-09-25T04:23:20.547945\",\"2017-09-26T04:24:19.726027\",\"2017-09-27T04:25:18.904109\",\"2017-09-28T04:26:18.082191\",\"2017-09-29T04:27:17.260273\",\"2017-09-30T04:28:16.438356\",\"2017-10-01T04:29:15.616438\",\"2017-10-02T04:30:14.794520\",\"2017-10-03T04:31:13.972602\",\"2017-10-04T04:32:13.150684\",\"2017-10-05T04:33:12.328767\",\"2017-10-06T04:34:11.506849\",\"2017-10-07T04:35:10.684931\",\"2017-10-08T04:36:09.863013\",\"2017-10-09T04:37:09.041095\",\"2017-10-10T04:38:08.219177\",\"2017-10-11T04:39:07.397260\",\"2017-10-12T04:40:06.575342\",\"2017-10-13T04:41:05.753424\",\"2017-10-14T04:42:04.931506\",\"2017-10-15T04:43:04.109588\",\"2017-10-16T04:44:03.287671\",\"2017-10-17T04:45:02.465753\",\"2017-10-18T04:46:01.643835\",\"2017-10-19T04:47:00.821917\",\"2017-10-20T04:48:00\",\"2017-10-21T04:48:59.178082\",\"2017-10-22T04:49:58.356164\",\"2017-10-23T04:50:57.534246\",\"2017-10-24T04:51:56.712328\",\"2017-10-25T04:52:55.890411\",\"2017-10-26T04:53:55.068493\",\"2017-10-27T04:54:54.246575\",\"2017-10-28T04:55:53.424657\",\"2017-10-29T04:56:52.602739\",\"2017-10-30T04:57:51.780822\",\"2017-10-31T04:58:50.958904\",\"2017-11-01T04:59:50.136986\",\"2017-11-02T05:00:49.315068\",\"2017-11-03T05:01:48.493150\",\"2017-11-04T05:02:47.671232\",\"2017-11-05T05:03:46.849315\",\"2017-11-06T05:04:46.027397\",\"2017-11-07T05:05:45.205479\",\"2017-11-08T05:06:44.383561\",\"2017-11-09T05:07:43.561643\",\"2017-11-10T05:08:42.739726\",\"2017-11-11T05:09:41.917808\",\"2017-11-12T05:10:41.095890\",\"2017-11-13T05:11:40.273972\",\"2017-11-14T05:12:39.452054\",\"2017-11-15T05:13:38.630137\",\"2017-11-16T05:14:37.808219\",\"2017-11-17T05:15:36.986301\",\"2017-11-18T05:16:36.164383\",\"2017-11-19T05:17:35.342465\",\"2017-11-20T05:18:34.520547\",\"2017-11-21T05:19:33.698630\",\"2017-11-22T05:20:32.876712\",\"2017-11-23T05:21:32.054794\",\"2017-11-24T05:22:31.232876\",\"2017-11-25T05:23:30.410958\",\"2017-11-26T05:24:29.589041\",\"2017-11-27T05:25:28.767123\",\"2017-11-28T05:26:27.945205\",\"2017-11-29T05:27:27.123287\",\"2017-11-30T05:28:26.301369\",\"2017-12-01T05:29:25.479452\",\"2017-12-02T05:30:24.657534\",\"2017-12-03T05:31:23.835616\",\"2017-12-04T05:32:23.013698\",\"2017-12-05T05:33:22.191780\",\"2017-12-06T05:34:21.369862\",\"2017-12-07T05:35:20.547945\",\"2017-12-08T05:36:19.726027\",\"2017-12-09T05:37:18.904109\",\"2017-12-10T05:38:18.082191\",\"2017-12-11T05:39:17.260273\",\"2017-12-12T05:40:16.438356\",\"2017-12-13T05:41:15.616438\",\"2017-12-14T05:42:14.794520\",\"2017-12-15T05:43:13.972602\",\"2017-12-16T05:44:13.150684\",\"2017-12-17T05:45:12.328767\",\"2017-12-18T05:46:11.506849\",\"2017-12-19T05:47:10.684931\",\"2017-12-20T05:48:09.863013\",\"2017-12-21T05:49:09.041095\",\"2017-12-22T05:50:08.219177\",\"2017-12-23T05:51:07.397260\",\"2017-12-24T05:52:06.575342\",\"2017-12-25T05:53:05.753424\",\"2017-12-26T05:54:04.931506\",\"2017-12-27T05:55:04.109588\",\"2017-12-28T05:56:03.287671\",\"2017-12-29T05:57:02.465753\",\"2017-12-30T05:58:01.643835\",\"2017-12-31T05:59:00.821917\"],\"y\":[-300.7686130979128,-351.7604980571133,-393.6336949890292,-425.9196533476744,-448.34973936220683,-460.86325710038443,-463.61114662457686,-456.95513531094264,-441.4622193408361,-417.8944605141323,-387.19419624755733,-350.46487508242274,-308.94784328262284,-263.99551705812837,-217.04147660423774,-169.56810952759875,-123.07250957965326,-79.0313994671886,-38.86589167040552,-3.906926976587226,24.63776445686517,45.7143509672919,58.45044548231328,62.17877815675695,56.45634303175337,41.078463998689195,16.087339660989258,-18.225245070007787,-61.32121368075511,-112.42552546412776,-170.54141158229038,-234.47124531695042,-302.84262560603963,-374.1391144224665,-446.73494170856634,-518.9328799629259,-589.0043974267794,-655.2311269193654,-715.9466389529817,-769.5774845817394,-814.6824764439873,-849.9892061173603,-874.4268517638313,-887.1544111479385,-887.583599663915,-875.3957786461219,-850.5524229803086,-813.2987953540771,-764.1606634456772,-703.9340716641093,-633.6683562018948,-554.6427665165065,-468.3372233304513,-376.39789833744345,-280.598439838684,-182.79778764455637,-84.8956164929064,11.213482932767441,103.68593451407203,190.77405561924618,270.86873914138124,342.5388411019263,404.5662529620668,455.97574159372465,496.0587684008468,524.3906490557099,540.8405830366177,545.5742632849633,539.0489662191866,522.0012160647718,495.4273099533649,460.5571763909152,418.8222145793067,371.81792099514354,321.2622483227267,268.9507565061593,216.7097031970396,166.3482787804189,119.61121774722862,78.1330126664752,43.39491932305342,16.685872642022773,-0.9316655284062503,-8.65003133451697,-5.938110613846187,7.444059038392447,31.4382271357387,65.6886055615216,109.55027425765726,162.10510967070323,222.18483164815697,288.400578120803,359.17824577834784,432.798683616801,507.44169873767083,581.2327335129339,652.2910029093256,718.7778422571962,778.9440101217614,831.17471832717,874.0312209351185,906.2878844445002,926.9637803163592,935.3479849528667,931.0179376379062,913.8503892928568,884.0246693495915,842.0181994223174,788.5943854146356,724.7832188391551,651.8551081505932,571.2886368007108,484.7331018177887,393.9668209114546,300.8523038200393,207.2894621525828,115.16807918750537,26.32077594386367,-57.52230806173375,-134.77595097681572,-204.03831401318612,-264.1244575558198,-314.09406398572315,-353.2726795286084,-381.26596115759975,-397.96660109160774,-403.5537956371927,-398.48532183779525,-383.4824793404768,-359.50834090131207,-327.7399281099966,-289.53508464948567,-246.3949536639984,-199.92307512628403,-151.78220069958562,-103.64997545187215,-57.17465675730385,-13.932030388827915,24.61535727501604,57.155602571119985,82.56053293208117,99.91365228177041,108.53225886635515,107.98321141043616,98.09199254716727,78.94489932681631,50.88437434022656,14.497672652241906,-29.40076560349499,-79.79270404003489,-135.48458015583722,-195.14024928495357,-257.31709036037427,-320.50448262166356,-383.1636109169063,-443.76753437021625,-500.8404591474344,-552.9951904195475,-598.9678001673182,-637.6486341842526,-668.1088909014808,-689.6221332450973,-701.6802389173694,-704.0034501451595,-696.5443467024438,-679.485731341993,-653.2325801229439,-618.3983670611902,-575.7862188412878,-526.3654871378933,-471.24444000325866,-411.63986685852933,-348.8444616596886,-284.1928941325114,-219.02749872719582,-154.66450493251796,-92.36170133696207,-33.288370597955186,21.501744875163105,71.09378368968022,114.73086349780003,151.82851392579755,181.98415840864703,204.98150080733126,220.78981606093444,229.55828494380197,231.60564735841382,227.40557283291454,217.56825766372452,202.81885256767674,183.97340036356425,161.91301828963427,137.55709283045965,111.83626582964006,85.66597923417889,59.921312791899304,35.4137956773532,12.87080124729482,-7.081953705969035,-23.93438494923506,-37.302183033475416,-46.93293073610468,-52.708125929609594,-54.641160994423,-52.871426956334695,-47.654820443332746,-39.35103120825048,-28.408074653588,-15.344605183287527,-0.7306004665142671,14.832957477401399,30.734761826156877,46.37358131727285,61.177763309573045,74.62326115320198,86.24966378065182,95.67377636159374,102.60038411396089,106.82992426213377,108.26289075728816,106.90089968353344,102.84444709844756,96.2874923150648,87.50909531578239,76.8624243075566,64.76152589530616,51.666313797351776,38.06628073053017,24.46347077267567,11.355265394760833,-0.7824648477856176,-11.511308996731783,-20.44486490647276,-27.261438160462703,-31.714502096825466,-33.64060383045023,-32.964483515278154,-29.701262769555807,-23.955650463240225,-15.918207102290442,-5.858800071277514,5.8825317460345525,18.907006458116292,32.77045388613334,46.99817184480318,61.10081475018805,74.59081522401627,86.99882448132946,97.88965797926711,106.87724890496811,113.63814300132871,117.92311294735353,119.56652758516357,118.49317895511989,114.7223462722793,108.36895836496167,99.64180221141383,88.83881252511401,76.33956326007434,62.59516397172628,48.11583977653315,33.45654108886188,19.200986455338274,5.944587106210747,-5.723265911274783,-15.237052793083578,-22.07261091052669,-25.763762476617085,-25.917614824211306,-22.228101215702313,-14.487378984208021,-2.5947610109749197,13.437075699255457,33.47878630668453,57.28406258512034,84.4923680658178,114.63464581794427,147.14186262594245,181.35617971242158,216.54447304572452,251.91386746524228,286.6288997912271,319.82988795377094,350.65205683879253,378.2449574479215,401.7917142946379,420.5276464240695,433.7578295339079,440.8731994717219,441.3648397345185,434.8361460977077,421.0126185396924,399.749092469652,371.0342860812677,334.99260657835333,291.88322323353606,242.0964779964525,186.14776303118947,124.66904773915508,58.39828423934111,-11.833040995051741,-85.11391134346918,-160.4690206269554,-236.87491813986324,-313.27672255270267,-388.60507393231285,-461.79300575420694,-531.7924383623508,-597.5900208503231,-658.2220786340395,-712.7884578147493,-760.4650935037853,-800.5151663169131,-832.298748021045,-855.2808726573662,-869.0380024082227,-873.2628871119417,-867.7678420373398,-852.4864898093715,-827.4740290097212,-792.9061038887447,-749.0763570279221,-696.3927500187962,-635.3727368350102,-566.6373712416316,-490.90442411216173,-408.98057975826174,-321.75277325648,-230.17872413810434,-135.2767165490675,-38.11467286775741,60.20143261459734,158.5397704822725,255.75540759731976,350.7035472090911,442.2531783132422,529.3010380111565,610.7857711196029,685.7021498258516,753.1151935805506,812.174006738995,862.1251297938207,902.3251805781193,932.2525457465513,951.5178713147096,959.8730951766131,957.2187652328294,943.6093948817565,919.2566237038226,884.5299755538049,839.9550390256297,786.2089361499486,724.112993696543,654.622586785151,578.814185512995,497.8697006788134,413.05829275667276,325.7158772983789,237.22262797221975,148.97884341528496,62.379604008024344,-21.211302579829002,-100.48766444158737,-174.22678155758317,-241.31447885403483],\"type\":\"scatter\",\"xaxis\":\"x2\",\"yaxis\":\"y2\"}],                        {\"template\":{\"data\":{\"histogram2dcontour\":[{\"type\":\"histogram2dcontour\",\"colorbar\":{\"outlinewidth\":0,\"ticks\":\"\"},\"colorscale\":[[0.0,\"#0d0887\"],[0.1111111111111111,\"#46039f\"],[0.2222222222222222,\"#7201a8\"],[0.3333333333333333,\"#9c179e\"],[0.4444444444444444,\"#bd3786\"],[0.5555555555555556,\"#d8576b\"],[0.6666666666666666,\"#ed7953\"],[0.7777777777777778,\"#fb9f3a\"],[0.8888888888888888,\"#fdca26\"],[1.0,\"#f0f921\"]]}],\"choropleth\":[{\"type\":\"choropleth\",\"colorbar\":{\"outlinewidth\":0,\"ticks\":\"\"}}],\"histogram2d\":[{\"type\":\"histogram2d\",\"colorbar\":{\"outlinewidth\":0,\"ticks\":\"\"},\"colorscale\":[[0.0,\"#0d0887\"],[0.1111111111111111,\"#46039f\"],[0.2222222222222222,\"#7201a8\"],[0.3333333333333333,\"#9c179e\"],[0.4444444444444444,\"#bd3786\"],[0.5555555555555556,\"#d8576b\"],[0.6666666666666666,\"#ed7953\"],[0.7777777777777778,\"#fb9f3a\"],[0.8888888888888888,\"#fdca26\"],[1.0,\"#f0f921\"]]}],\"heatmap\":[{\"type\":\"heatmap\",\"colorbar\":{\"outlinewidth\":0,\"ticks\":\"\"},\"colorscale\":[[0.0,\"#0d0887\"],[0.1111111111111111,\"#46039f\"],[0.2222222222222222,\"#7201a8\"],[0.3333333333333333,\"#9c179e\"],[0.4444444444444444,\"#bd3786\"],[0.5555555555555556,\"#d8576b\"],[0.6666666666666666,\"#ed7953\"],[0.7777777777777778,\"#fb9f3a\"],[0.8888888888888888,\"#fdca26\"],[1.0,\"#f0f921\"]]}],\"heatmapgl\":[{\"type\":\"heatmapgl\",\"colorbar\":{\"outlinewidth\":0,\"ticks\":\"\"},\"colorscale\":[[0.0,\"#0d0887\"],[0.1111111111111111,\"#46039f\"],[0.2222222222222222,\"#7201a8\"],[0.3333333333333333,\"#9c179e\"],[0.4444444444444444,\"#bd3786\"],[0.5555555555555556,\"#d8576b\"],[0.6666666666666666,\"#ed7953\"],[0.7777777777777778,\"#fb9f3a\"],[0.8888888888888888,\"#fdca26\"],[1.0,\"#f0f921\"]]}],\"contourcarpet\":[{\"type\":\"contourcarpet\",\"colorbar\":{\"outlinewidth\":0,\"ticks\":\"\"}}],\"contour\":[{\"type\":\"contour\",\"colorbar\":{\"outlinewidth\":0,\"ticks\":\"\"},\"colorscale\":[[0.0,\"#0d0887\"],[0.1111111111111111,\"#46039f\"],[0.2222222222222222,\"#7201a8\"],[0.3333333333333333,\"#9c179e\"],[0.4444444444444444,\"#bd3786\"],[0.5555555555555556,\"#d8576b\"],[0.6666666666666666,\"#ed7953\"],[0.7777777777777778,\"#fb9f3a\"],[0.8888888888888888,\"#fdca26\"],[1.0,\"#f0f921\"]]}],\"surface\":[{\"type\":\"surface\",\"colorbar\":{\"outlinewidth\":0,\"ticks\":\"\"},\"colorscale\":[[0.0,\"#0d0887\"],[0.1111111111111111,\"#46039f\"],[0.2222222222222222,\"#7201a8\"],[0.3333333333333333,\"#9c179e\"],[0.4444444444444444,\"#bd3786\"],[0.5555555555555556,\"#d8576b\"],[0.6666666666666666,\"#ed7953\"],[0.7777777777777778,\"#fb9f3a\"],[0.8888888888888888,\"#fdca26\"],[1.0,\"#f0f921\"]]}],\"mesh3d\":[{\"type\":\"mesh3d\",\"colorbar\":{\"outlinewidth\":0,\"ticks\":\"\"}}],\"scatter\":[{\"fillpattern\":{\"fillmode\":\"overlay\",\"size\":10,\"solidity\":0.2},\"type\":\"scatter\"}],\"parcoords\":[{\"type\":\"parcoords\",\"line\":{\"colorbar\":{\"outlinewidth\":0,\"ticks\":\"\"}}}],\"scatterpolargl\":[{\"type\":\"scatterpolargl\",\"marker\":{\"colorbar\":{\"outlinewidth\":0,\"ticks\":\"\"}}}],\"bar\":[{\"error_x\":{\"color\":\"#2a3f5f\"},\"error_y\":{\"color\":\"#2a3f5f\"},\"marker\":{\"line\":{\"color\":\"#E5ECF6\",\"width\":0.5},\"pattern\":{\"fillmode\":\"overlay\",\"size\":10,\"solidity\":0.2}},\"type\":\"bar\"}],\"scattergeo\":[{\"type\":\"scattergeo\",\"marker\":{\"colorbar\":{\"outlinewidth\":0,\"ticks\":\"\"}}}],\"scatterpolar\":[{\"type\":\"scatterpolar\",\"marker\":{\"colorbar\":{\"outlinewidth\":0,\"ticks\":\"\"}}}],\"histogram\":[{\"marker\":{\"pattern\":{\"fillmode\":\"overlay\",\"size\":10,\"solidity\":0.2}},\"type\":\"histogram\"}],\"scattergl\":[{\"type\":\"scattergl\",\"marker\":{\"colorbar\":{\"outlinewidth\":0,\"ticks\":\"\"}}}],\"scatter3d\":[{\"type\":\"scatter3d\",\"line\":{\"colorbar\":{\"outlinewidth\":0,\"ticks\":\"\"}},\"marker\":{\"colorbar\":{\"outlinewidth\":0,\"ticks\":\"\"}}}],\"scattermapbox\":[{\"type\":\"scattermapbox\",\"marker\":{\"colorbar\":{\"outlinewidth\":0,\"ticks\":\"\"}}}],\"scatterternary\":[{\"type\":\"scatterternary\",\"marker\":{\"colorbar\":{\"outlinewidth\":0,\"ticks\":\"\"}}}],\"scattercarpet\":[{\"type\":\"scattercarpet\",\"marker\":{\"colorbar\":{\"outlinewidth\":0,\"ticks\":\"\"}}}],\"carpet\":[{\"aaxis\":{\"endlinecolor\":\"#2a3f5f\",\"gridcolor\":\"white\",\"linecolor\":\"white\",\"minorgridcolor\":\"white\",\"startlinecolor\":\"#2a3f5f\"},\"baxis\":{\"endlinecolor\":\"#2a3f5f\",\"gridcolor\":\"white\",\"linecolor\":\"white\",\"minorgridcolor\":\"white\",\"startlinecolor\":\"#2a3f5f\"},\"type\":\"carpet\"}],\"table\":[{\"cells\":{\"fill\":{\"color\":\"#EBF0F8\"},\"line\":{\"color\":\"white\"}},\"header\":{\"fill\":{\"color\":\"#C8D4E3\"},\"line\":{\"color\":\"white\"}},\"type\":\"table\"}],\"barpolar\":[{\"marker\":{\"line\":{\"color\":\"#E5ECF6\",\"width\":0.5},\"pattern\":{\"fillmode\":\"overlay\",\"size\":10,\"solidity\":0.2}},\"type\":\"barpolar\"}],\"pie\":[{\"automargin\":true,\"type\":\"pie\"}]},\"layout\":{\"autotypenumbers\":\"strict\",\"colorway\":[\"#636efa\",\"#EF553B\",\"#00cc96\",\"#ab63fa\",\"#FFA15A\",\"#19d3f3\",\"#FF6692\",\"#B6E880\",\"#FF97FF\",\"#FECB52\"],\"font\":{\"color\":\"#2a3f5f\"},\"hovermode\":\"closest\",\"hoverlabel\":{\"align\":\"left\"},\"paper_bgcolor\":\"white\",\"plot_bgcolor\":\"#E5ECF6\",\"polar\":{\"bgcolor\":\"#E5ECF6\",\"angularaxis\":{\"gridcolor\":\"white\",\"linecolor\":\"white\",\"ticks\":\"\"},\"radialaxis\":{\"gridcolor\":\"white\",\"linecolor\":\"white\",\"ticks\":\"\"}},\"ternary\":{\"bgcolor\":\"#E5ECF6\",\"aaxis\":{\"gridcolor\":\"white\",\"linecolor\":\"white\",\"ticks\":\"\"},\"baxis\":{\"gridcolor\":\"white\",\"linecolor\":\"white\",\"ticks\":\"\"},\"caxis\":{\"gridcolor\":\"white\",\"linecolor\":\"white\",\"ticks\":\"\"}},\"coloraxis\":{\"colorbar\":{\"outlinewidth\":0,\"ticks\":\"\"}},\"colorscale\":{\"sequential\":[[0.0,\"#0d0887\"],[0.1111111111111111,\"#46039f\"],[0.2222222222222222,\"#7201a8\"],[0.3333333333333333,\"#9c179e\"],[0.4444444444444444,\"#bd3786\"],[0.5555555555555556,\"#d8576b\"],[0.6666666666666666,\"#ed7953\"],[0.7777777777777778,\"#fb9f3a\"],[0.8888888888888888,\"#fdca26\"],[1.0,\"#f0f921\"]],\"sequentialminus\":[[0.0,\"#0d0887\"],[0.1111111111111111,\"#46039f\"],[0.2222222222222222,\"#7201a8\"],[0.3333333333333333,\"#9c179e\"],[0.4444444444444444,\"#bd3786\"],[0.5555555555555556,\"#d8576b\"],[0.6666666666666666,\"#ed7953\"],[0.7777777777777778,\"#fb9f3a\"],[0.8888888888888888,\"#fdca26\"],[1.0,\"#f0f921\"]],\"diverging\":[[0,\"#8e0152\"],[0.1,\"#c51b7d\"],[0.2,\"#de77ae\"],[0.3,\"#f1b6da\"],[0.4,\"#fde0ef\"],[0.5,\"#f7f7f7\"],[0.6,\"#e6f5d0\"],[0.7,\"#b8e186\"],[0.8,\"#7fbc41\"],[0.9,\"#4d9221\"],[1,\"#276419\"]]},\"xaxis\":{\"gridcolor\":\"white\",\"linecolor\":\"white\",\"ticks\":\"\",\"title\":{\"standoff\":15},\"zerolinecolor\":\"white\",\"automargin\":true,\"zerolinewidth\":2},\"yaxis\":{\"gridcolor\":\"white\",\"linecolor\":\"white\",\"ticks\":\"\",\"title\":{\"standoff\":15},\"zerolinecolor\":\"white\",\"automargin\":true,\"zerolinewidth\":2},\"scene\":{\"xaxis\":{\"backgroundcolor\":\"#E5ECF6\",\"gridcolor\":\"white\",\"linecolor\":\"white\",\"showbackground\":true,\"ticks\":\"\",\"zerolinecolor\":\"white\",\"gridwidth\":2},\"yaxis\":{\"backgroundcolor\":\"#E5ECF6\",\"gridcolor\":\"white\",\"linecolor\":\"white\",\"showbackground\":true,\"ticks\":\"\",\"zerolinecolor\":\"white\",\"gridwidth\":2},\"zaxis\":{\"backgroundcolor\":\"#E5ECF6\",\"gridcolor\":\"white\",\"linecolor\":\"white\",\"showbackground\":true,\"ticks\":\"\",\"zerolinecolor\":\"white\",\"gridwidth\":2}},\"shapedefaults\":{\"line\":{\"color\":\"#2a3f5f\"}},\"annotationdefaults\":{\"arrowcolor\":\"#2a3f5f\",\"arrowhead\":0,\"arrowwidth\":1},\"geo\":{\"bgcolor\":\"white\",\"landcolor\":\"#E5ECF6\",\"subunitcolor\":\"white\",\"showland\":true,\"showlakes\":true,\"lakecolor\":\"white\"},\"title\":{\"x\":0.05},\"mapbox\":{\"style\":\"light\"}}},\"xaxis\":{\"anchor\":\"y\",\"domain\":[0.0,1.0],\"range\":[\"2016-10-13T08:24:00\",\"2023-03-17T15:36:00\"],\"type\":\"date\"},\"yaxis\":{\"anchor\":\"x\",\"domain\":[0.575,1.0],\"title\":{\"text\":\"trend\"},\"rangemode\":\"normal\",\"zerolinecolor\":\"#AAA\"},\"xaxis2\":{\"anchor\":\"y2\",\"domain\":[0.0,1.0],\"range\":[\"2016-12-13T18:54:02.958904115\",\"2018-01-18T11:04:57.863013581\"],\"tickformat\":\"%B %e\",\"type\":\"date\"},\"yaxis2\":{\"anchor\":\"x2\",\"domain\":[0.0,0.425],\"title\":{\"text\":\"yearly\"},\"zerolinecolor\":\"#AAA\"},\"height\":400,\"showlegend\":false,\"width\":900},                        {\"responsive\": true}                    ).then(function(){\n                            \nvar gd = document.getElementById('362be9ec-fa25-483f-a7ae-e5983f143e09');\nvar x = new MutationObserver(function (mutations, observer) {{\n        var display = window.getComputedStyle(gd).display;\n        if (!display || display === 'none') {{\n            console.log([gd, 'removed!']);\n            Plotly.purge(gd);\n            observer.disconnect();\n        }}\n}});\n\n// Listen for the removal of the full notebook cells\nvar notebookContainer = gd.closest('#notebook-container');\nif (notebookContainer) {{\n    x.observe(notebookContainer, {childList: true});\n}}\n\n// Listen for the clearing of the current output cell\nvar outputEl = gd.closest('.output');\nif (outputEl) {{\n    x.observe(outputEl, {childList: true});\n}}\n\n                        })                };                            </script>        </div>\n</body>\n</html>"
     },
     "metadata": {},
     "output_type": "display_data"
    }
   ]
  },
  {
   "cell_type": "markdown",
   "source": "<a style='text-decoration:none;line-height:16px;display:flex;color:#5B5B62;padding:10px;justify-content:end;' href='https://deepnote.com?utm_source=created-in-deepnote-cell&projectId=710a6a84-10eb-4985-ad13-f530a8f09e49' target=\"_blank\">\n<img alt='Created in deepnote.com' style='display:inline;max-height:16px;margin:0px;margin-right:7.5px;' src='data:image/svg+xml;base64,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' > </img>\nCreated in <span style='font-weight:600;margin-left:4px;'>Deepnote</span></a>",
   "metadata": {
    "tags": [],
    "created_in_deepnote_cell": true,
    "deepnote_cell_type": "markdown"
   }
  }
 ],
 "nbformat": 4,
 "nbformat_minor": 2,
 "metadata": {
  "orig_nbformat": 2,
  "deepnote": {},
  "deepnote_notebook_id": "7882e9ce-0790-4c89-a57d-64e01c811205",
  "deepnote_execution_queue": []
 }
}