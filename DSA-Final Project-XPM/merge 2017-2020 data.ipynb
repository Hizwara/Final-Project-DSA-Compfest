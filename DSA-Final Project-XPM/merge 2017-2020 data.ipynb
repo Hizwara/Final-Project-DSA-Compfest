{
 "cells": [
  {
   "cell_type": "code",
   "metadata": {
    "tags": [],
    "cell_id": "b90bb520-ab65-483a-95e6-c75c32ffe750",
    "deepnote_to_be_reexecuted": false,
    "source_hash": "9b82ee11",
    "execution_start": 1660821232673,
    "execution_millis": 1,
    "deepnote_cell_type": "code",
    "deepnote_cell_height": 76
   },
   "source": "import pandas as pd",
   "outputs": [],
   "execution_count": null
  },
  {
   "cell_type": "code",
   "metadata": {
    "cell_id": "2c73a0fe699e45378553a0dd15b35f21",
    "tags": [],
    "deepnote_to_be_reexecuted": false,
    "source_hash": "1aebe4f6",
    "execution_start": 1660821232674,
    "execution_millis": 42,
    "deepnote_cell_type": "code",
    "deepnote_cell_height": 130
   },
   "source": "data1 = pd.read_csv('data-rekapitulasi-kejadian-banjir-tahun-2017.csv')\ndata2 = pd.read_csv('data-rekapitulasi-kejadian-banjir-tahun-2018.csv')\ndata3 = pd.read_csv('data-rekapitulasi-kejadian-banjir-tahun-2019.csv')\ndata4 = pd.read_csv('data-rekapitulasi-kejadian-banjir-tahun-2020.csv')",
   "outputs": [],
   "execution_count": null
  },
  {
   "cell_type": "code",
   "metadata": {
    "cell_id": "7202458b5c2846b8849aa1d0669d7454",
    "tags": [],
    "deepnote_to_be_reexecuted": false,
    "source_hash": "487acc7a",
    "execution_start": 1660821232716,
    "execution_millis": 0,
    "deepnote_cell_type": "code",
    "deepnote_cell_height": 99
   },
   "source": "Tahun1 = ['2017','2017','2017','2017','2017','2017','2017','2017','2017','2017','2017','2017']\ndata1[\"tahun\"] = Tahun1",
   "outputs": [],
   "execution_count": null
  },
  {
   "cell_type": "code",
   "source": "data1",
   "metadata": {
    "cell_id": "a5ced14404904315b97f3752cd1a64ae",
    "tags": [],
    "deepnote_to_be_reexecuted": false,
    "source_hash": "393d1a4e",
    "execution_start": 1660821259212,
    "execution_millis": 133,
    "deepnote_cell_type": "code",
    "deepnote_cell_height": 693.65625
   },
   "outputs": [
    {
     "output_type": "execute_result",
     "execution_count": 11,
     "data": {
      "application/vnd.deepnote.dataframe.v3+json": {
       "column_count": 16,
       "row_count": 12,
       "columns": [
        {
         "name": "bulan",
         "dtype": "int64",
         "stats": {
          "unique_count": 12,
          "nan_count": 0,
          "min": "1",
          "max": "12",
          "histogram": [
           {
            "bin_start": 1,
            "bin_end": 2.1,
            "count": 2
           },
           {
            "bin_start": 2.1,
            "bin_end": 3.2,
            "count": 1
           },
           {
            "bin_start": 3.2,
            "bin_end": 4.300000000000001,
            "count": 1
           },
           {
            "bin_start": 4.300000000000001,
            "bin_end": 5.4,
            "count": 1
           },
           {
            "bin_start": 5.4,
            "bin_end": 6.5,
            "count": 1
           },
           {
            "bin_start": 6.5,
            "bin_end": 7.6000000000000005,
            "count": 1
           },
           {
            "bin_start": 7.6000000000000005,
            "bin_end": 8.700000000000001,
            "count": 1
           },
           {
            "bin_start": 8.700000000000001,
            "bin_end": 9.8,
            "count": 1
           },
           {
            "bin_start": 9.8,
            "bin_end": 10.9,
            "count": 1
           },
           {
            "bin_start": 10.9,
            "bin_end": 12,
            "count": 2
           }
          ]
         }
        },
        {
         "name": "kecamatan",
         "dtype": "int64",
         "stats": {
          "unique_count": 10,
          "nan_count": 0,
          "min": "1",
          "max": "31",
          "histogram": [
           {
            "bin_start": 1,
            "bin_end": 4,
            "count": 1
           },
           {
            "bin_start": 4,
            "bin_end": 7,
            "count": 4
           },
           {
            "bin_start": 7,
            "bin_end": 10,
            "count": 1
           },
           {
            "bin_start": 10,
            "bin_end": 13,
            "count": 0
           },
           {
            "bin_start": 13,
            "bin_end": 16,
            "count": 1
           },
           {
            "bin_start": 16,
            "bin_end": 19,
            "count": 1
           },
           {
            "bin_start": 19,
            "bin_end": 22,
            "count": 3
           },
           {
            "bin_start": 22,
            "bin_end": 25,
            "count": 0
           },
           {
            "bin_start": 25,
            "bin_end": 28,
            "count": 0
           },
           {
            "bin_start": 28,
            "bin_end": 31,
            "count": 1
           }
          ]
         }
        },
        {
         "name": "kelurahan",
         "dtype": "int64",
         "stats": {
          "unique_count": 11,
          "nan_count": 0,
          "min": "1",
          "max": "67",
          "histogram": [
           {
            "bin_start": 1,
            "bin_end": 7.6,
            "count": 4
           },
           {
            "bin_start": 7.6,
            "bin_end": 14.2,
            "count": 2
           },
           {
            "bin_start": 14.2,
            "bin_end": 20.799999999999997,
            "count": 0
           },
           {
            "bin_start": 20.799999999999997,
            "bin_end": 27.4,
            "count": 2
           },
           {
            "bin_start": 27.4,
            "bin_end": 34,
            "count": 1
           },
           {
            "bin_start": 34,
            "bin_end": 40.599999999999994,
            "count": 2
           },
           {
            "bin_start": 40.599999999999994,
            "bin_end": 47.199999999999996,
            "count": 0
           },
           {
            "bin_start": 47.199999999999996,
            "bin_end": 53.8,
            "count": 0
           },
           {
            "bin_start": 53.8,
            "bin_end": 60.4,
            "count": 0
           },
           {
            "bin_start": 60.4,
            "bin_end": 67,
            "count": 1
           }
          ]
         }
        },
        {
         "name": "rata_rata_ketinggian_air",
         "dtype": "object",
         "stats": {
          "unique_count": 9,
          "nan_count": 0,
          "categories": [
           {
            "name": "10-80",
            "count": 3
           },
           {
            "name": "10-70",
            "count": 2
           },
           {
            "name": "7 others",
            "count": 7
           }
          ]
         }
        },
        {
         "name": "lama_genangan",
         "dtype": "int64",
         "stats": {
          "unique_count": 4,
          "nan_count": 0,
          "min": "1",
          "max": "5",
          "histogram": [
           {
            "bin_start": 1,
            "bin_end": 1.4,
            "count": 5
           },
           {
            "bin_start": 1.4,
            "bin_end": 1.8,
            "count": 0
           },
           {
            "bin_start": 1.8,
            "bin_end": 2.2,
            "count": 4
           },
           {
            "bin_start": 2.2,
            "bin_end": 2.6,
            "count": 0
           },
           {
            "bin_start": 2.6,
            "bin_end": 3,
            "count": 0
           },
           {
            "bin_start": 3,
            "bin_end": 3.4000000000000004,
            "count": 2
           },
           {
            "bin_start": 3.4000000000000004,
            "bin_end": 3.8000000000000003,
            "count": 0
           },
           {
            "bin_start": 3.8000000000000003,
            "bin_end": 4.2,
            "count": 0
           },
           {
            "bin_start": 4.2,
            "bin_end": 4.6,
            "count": 0
           },
           {
            "bin_start": 4.6,
            "bin_end": 5,
            "count": 1
           }
          ]
         }
        },
        {
         "name": "rw_terdampak",
         "dtype": "int64",
         "stats": {
          "unique_count": 12,
          "nan_count": 0,
          "min": "2",
          "max": "216",
          "histogram": [
           {
            "bin_start": 2,
            "bin_end": 23.4,
            "count": 5
           },
           {
            "bin_start": 23.4,
            "bin_end": 44.8,
            "count": 1
           },
           {
            "bin_start": 44.8,
            "bin_end": 66.19999999999999,
            "count": 2
           },
           {
            "bin_start": 66.19999999999999,
            "bin_end": 87.6,
            "count": 2
           },
           {
            "bin_start": 87.6,
            "bin_end": 109,
            "count": 1
           },
           {
            "bin_start": 109,
            "bin_end": 130.39999999999998,
            "count": 0
           },
           {
            "bin_start": 130.39999999999998,
            "bin_end": 151.79999999999998,
            "count": 0
           },
           {
            "bin_start": 151.79999999999998,
            "bin_end": 173.2,
            "count": 0
           },
           {
            "bin_start": 173.2,
            "bin_end": 194.6,
            "count": 0
           },
           {
            "bin_start": 194.6,
            "bin_end": 216,
            "count": 1
           }
          ]
         }
        },
        {
         "name": "kk_terdampak",
         "dtype": "object",
         "stats": {
          "unique_count": 10,
          "nan_count": 0,
          "categories": [
           {
            "name": "n.a",
            "count": 3
           },
           {
            "name": "6967",
            "count": 1
           },
           {
            "name": "8 others",
            "count": 8
           }
          ]
         }
        },
        {
         "name": "jiwa_terdampak",
         "dtype": "object",
         "stats": {
          "unique_count": 9,
          "nan_count": 0,
          "categories": [
           {
            "name": "n.a",
            "count": 4
           },
           {
            "name": "19325",
            "count": 1
           },
           {
            "name": "7 others",
            "count": 7
           }
          ]
         }
        },
        {
         "name": "korban_meninggal",
         "dtype": "int64",
         "stats": {
          "unique_count": 2,
          "nan_count": 0,
          "min": "0",
          "max": "6",
          "histogram": [
           {
            "bin_start": 0,
            "bin_end": 0.6,
            "count": 11
           },
           {
            "bin_start": 0.6,
            "bin_end": 1.2,
            "count": 0
           },
           {
            "bin_start": 1.2,
            "bin_end": 1.7999999999999998,
            "count": 0
           },
           {
            "bin_start": 1.7999999999999998,
            "bin_end": 2.4,
            "count": 0
           },
           {
            "bin_start": 2.4,
            "bin_end": 3,
            "count": 0
           },
           {
            "bin_start": 3,
            "bin_end": 3.5999999999999996,
            "count": 0
           },
           {
            "bin_start": 3.5999999999999996,
            "bin_end": 4.2,
            "count": 0
           },
           {
            "bin_start": 4.2,
            "bin_end": 4.8,
            "count": 0
           },
           {
            "bin_start": 4.8,
            "bin_end": 5.3999999999999995,
            "count": 0
           },
           {
            "bin_start": 5.3999999999999995,
            "bin_end": 6,
            "count": 1
           }
          ]
         }
        },
        {
         "name": "korban_hilang",
         "dtype": "int64",
         "stats": {
          "unique_count": 1,
          "nan_count": 0,
          "min": "0",
          "max": "0",
          "histogram": [
           {
            "bin_start": -0.5,
            "bin_end": -0.4,
            "count": 0
           },
           {
            "bin_start": -0.4,
            "bin_end": -0.3,
            "count": 0
           },
           {
            "bin_start": -0.3,
            "bin_end": -0.19999999999999996,
            "count": 0
           },
           {
            "bin_start": -0.19999999999999996,
            "bin_end": -0.09999999999999998,
            "count": 0
           },
           {
            "bin_start": -0.09999999999999998,
            "bin_end": 0,
            "count": 0
           },
           {
            "bin_start": 0,
            "bin_end": 0.10000000000000009,
            "count": 12
           },
           {
            "bin_start": 0.10000000000000009,
            "bin_end": 0.20000000000000007,
            "count": 0
           },
           {
            "bin_start": 0.20000000000000007,
            "bin_end": 0.30000000000000004,
            "count": 0
           },
           {
            "bin_start": 0.30000000000000004,
            "bin_end": 0.4,
            "count": 0
           },
           {
            "bin_start": 0.4,
            "bin_end": 0.5,
            "count": 0
           }
          ]
         }
        },
        {
         "name": "korban_luka_berat",
         "dtype": "int64",
         "stats": {
          "unique_count": 1,
          "nan_count": 0,
          "min": "0",
          "max": "0",
          "histogram": [
           {
            "bin_start": -0.5,
            "bin_end": -0.4,
            "count": 0
           },
           {
            "bin_start": -0.4,
            "bin_end": -0.3,
            "count": 0
           },
           {
            "bin_start": -0.3,
            "bin_end": -0.19999999999999996,
            "count": 0
           },
           {
            "bin_start": -0.19999999999999996,
            "bin_end": -0.09999999999999998,
            "count": 0
           },
           {
            "bin_start": -0.09999999999999998,
            "bin_end": 0,
            "count": 0
           },
           {
            "bin_start": 0,
            "bin_end": 0.10000000000000009,
            "count": 12
           },
           {
            "bin_start": 0.10000000000000009,
            "bin_end": 0.20000000000000007,
            "count": 0
           },
           {
            "bin_start": 0.20000000000000007,
            "bin_end": 0.30000000000000004,
            "count": 0
           },
           {
            "bin_start": 0.30000000000000004,
            "bin_end": 0.4,
            "count": 0
           },
           {
            "bin_start": 0.4,
            "bin_end": 0.5,
            "count": 0
           }
          ]
         }
        },
        {
         "name": "korban_luka_ringan",
         "dtype": "int64",
         "stats": {
          "unique_count": 1,
          "nan_count": 0,
          "min": "0",
          "max": "0",
          "histogram": [
           {
            "bin_start": -0.5,
            "bin_end": -0.4,
            "count": 0
           },
           {
            "bin_start": -0.4,
            "bin_end": -0.3,
            "count": 0
           },
           {
            "bin_start": -0.3,
            "bin_end": -0.19999999999999996,
            "count": 0
           },
           {
            "bin_start": -0.19999999999999996,
            "bin_end": -0.09999999999999998,
            "count": 0
           },
           {
            "bin_start": -0.09999999999999998,
            "bin_end": 0,
            "count": 0
           },
           {
            "bin_start": 0,
            "bin_end": 0.10000000000000009,
            "count": 12
           },
           {
            "bin_start": 0.10000000000000009,
            "bin_end": 0.20000000000000007,
            "count": 0
           },
           {
            "bin_start": 0.20000000000000007,
            "bin_end": 0.30000000000000004,
            "count": 0
           },
           {
            "bin_start": 0.30000000000000004,
            "bin_end": 0.4,
            "count": 0
           },
           {
            "bin_start": 0.4,
            "bin_end": 0.5,
            "count": 0
           }
          ]
         }
        },
        {
         "name": "jumlah_jiwa_pengungsi_tertinggi",
         "dtype": "int64",
         "stats": {
          "unique_count": 7,
          "nan_count": 0,
          "min": "0",
          "max": "5858",
          "histogram": [
           {
            "bin_start": 0,
            "bin_end": 585.8,
            "count": 9
           },
           {
            "bin_start": 585.8,
            "bin_end": 1171.6,
            "count": 1
           },
           {
            "bin_start": 1171.6,
            "bin_end": 1757.3999999999999,
            "count": 0
           },
           {
            "bin_start": 1757.3999999999999,
            "bin_end": 2343.2,
            "count": 1
           },
           {
            "bin_start": 2343.2,
            "bin_end": 2929,
            "count": 0
           },
           {
            "bin_start": 2929,
            "bin_end": 3514.7999999999997,
            "count": 0
           },
           {
            "bin_start": 3514.7999999999997,
            "bin_end": 4100.599999999999,
            "count": 0
           },
           {
            "bin_start": 4100.599999999999,
            "bin_end": 4686.4,
            "count": 0
           },
           {
            "bin_start": 4686.4,
            "bin_end": 5272.2,
            "count": 0
           },
           {
            "bin_start": 5272.2,
            "bin_end": 5858,
            "count": 1
           }
          ]
         }
        },
        {
         "name": "jumlah_tempat_pengungsian",
         "dtype": "int64",
         "stats": {
          "unique_count": 8,
          "nan_count": 0,
          "min": "0",
          "max": "45",
          "histogram": [
           {
            "bin_start": 0,
            "bin_end": 4.5,
            "count": 7
           },
           {
            "bin_start": 4.5,
            "bin_end": 9,
            "count": 1
           },
           {
            "bin_start": 9,
            "bin_end": 13.5,
            "count": 1
           },
           {
            "bin_start": 13.5,
            "bin_end": 18,
            "count": 0
           },
           {
            "bin_start": 18,
            "bin_end": 22.5,
            "count": 0
           },
           {
            "bin_start": 22.5,
            "bin_end": 27,
            "count": 0
           },
           {
            "bin_start": 27,
            "bin_end": 31.5,
            "count": 1
           },
           {
            "bin_start": 31.5,
            "bin_end": 36,
            "count": 0
           },
           {
            "bin_start": 36,
            "bin_end": 40.5,
            "count": 1
           },
           {
            "bin_start": 40.5,
            "bin_end": 45,
            "count": 1
           }
          ]
         }
        },
        {
         "name": "jumlah_nilai_kerugian",
         "dtype": "object",
         "stats": {
          "unique_count": 1,
          "nan_count": 0,
          "categories": [
           {
            "name": "n.a",
            "count": 12
           }
          ]
         }
        },
        {
         "name": "tahun",
         "dtype": "object",
         "stats": {
          "unique_count": 1,
          "nan_count": 0,
          "categories": [
           {
            "name": "2017",
            "count": 12
           }
          ]
         }
        },
        {
         "name": "_deepnote_index_column",
         "dtype": "int64"
        }
       ],
       "rows": [
        {
         "bulan": 1,
         "kecamatan": 4,
         "kelurahan": 5,
         "rata_rata_ketinggian_air": "10-70",
         "lama_genangan": 2,
         "rw_terdampak": 7,
         "kk_terdampak": "n.a",
         "jiwa_terdampak": "n.a",
         "korban_meninggal": 0,
         "korban_hilang": 0,
         "korban_luka_berat": 0,
         "korban_luka_ringan": 0,
         "jumlah_jiwa_pengungsi_tertinggi": 0,
         "jumlah_tempat_pengungsian": 0,
         "jumlah_nilai_kerugian": "n.a",
         "tahun": "2017",
         "_deepnote_index_column": 0
        },
        {
         "bulan": 2,
         "kecamatan": 31,
         "kelurahan": 67,
         "rata_rata_ketinggian_air": "10-250",
         "lama_genangan": 5,
         "rw_terdampak": 216,
         "kk_terdampak": "6967",
         "jiwa_terdampak": "19325",
         "korban_meninggal": 6,
         "korban_hilang": 0,
         "korban_luka_berat": 0,
         "korban_luka_ringan": 0,
         "jumlah_jiwa_pengungsi_tertinggi": 5858,
         "jumlah_tempat_pengungsian": 45,
         "jumlah_nilai_kerugian": "n.a",
         "tahun": "2017",
         "_deepnote_index_column": 1
        },
        {
         "bulan": 3,
         "kecamatan": 20,
         "kelurahan": 40,
         "rata_rata_ketinggian_air": "0-160",
         "lama_genangan": 3,
         "rw_terdampak": 95,
         "kk_terdampak": "3232",
         "jiwa_terdampak": "10166",
         "korban_meninggal": 0,
         "korban_hilang": 0,
         "korban_luka_berat": 0,
         "korban_luka_ringan": 0,
         "jumlah_jiwa_pengungsi_tertinggi": 1870,
         "jumlah_tempat_pengungsian": 27,
         "jumlah_nilai_kerugian": "n.a",
         "tahun": "2017",
         "_deepnote_index_column": 2
        },
        {
         "bulan": 4,
         "kecamatan": 19,
         "kelurahan": 33,
         "rata_rata_ketinggian_air": "10-200",
         "lama_genangan": 1,
         "rw_terdampak": 78,
         "kk_terdampak": "621",
         "jiwa_terdampak": "2131",
         "korban_meninggal": 0,
         "korban_hilang": 0,
         "korban_luka_berat": 0,
         "korban_luka_ringan": 0,
         "jumlah_jiwa_pengungsi_tertinggi": 753,
         "jumlah_tempat_pengungsian": 40,
         "jumlah_nilai_kerugian": "n.a",
         "tahun": "2017",
         "_deepnote_index_column": 3
        },
        {
         "bulan": 5,
         "kecamatan": 15,
         "kelurahan": 25,
         "rata_rata_ketinggian_air": "5-120",
         "lama_genangan": 2,
         "rw_terdampak": 48,
         "kk_terdampak": "1056",
         "jiwa_terdampak": "3420",
         "korban_meninggal": 0,
         "korban_hilang": 0,
         "korban_luka_berat": 0,
         "korban_luka_ringan": 0,
         "jumlah_jiwa_pengungsi_tertinggi": 20,
         "jumlah_tempat_pengungsian": 0,
         "jumlah_nilai_kerugian": "n.a",
         "tahun": "2017",
         "_deepnote_index_column": 4
        },
        {
         "bulan": 6,
         "kecamatan": 4,
         "kelurahan": 5,
         "rata_rata_ketinggian_air": "10-110",
         "lama_genangan": 1,
         "rw_terdampak": 17,
         "kk_terdampak": "1409",
         "jiwa_terdampak": "4547",
         "korban_meninggal": 0,
         "korban_hilang": 0,
         "korban_luka_berat": 0,
         "korban_luka_ringan": 0,
         "jumlah_jiwa_pengungsi_tertinggi": 0,
         "jumlah_tempat_pengungsian": 0,
         "jumlah_nilai_kerugian": "n.a",
         "tahun": "2017",
         "_deepnote_index_column": 5
        },
        {
         "bulan": 7,
         "kecamatan": 6,
         "kelurahan": 8,
         "rata_rata_ketinggian_air": "10-80",
         "lama_genangan": 1,
         "rw_terdampak": 22,
         "kk_terdampak": "251",
         "jiwa_terdampak": "705",
         "korban_meninggal": 0,
         "korban_hilang": 0,
         "korban_luka_berat": 0,
         "korban_luka_ringan": 0,
         "jumlah_jiwa_pengungsi_tertinggi": 0,
         "jumlah_tempat_pengungsian": 6,
         "jumlah_nilai_kerugian": "n.a",
         "tahun": "2017",
         "_deepnote_index_column": 6
        },
        {
         "bulan": 8,
         "kecamatan": 5,
         "kelurahan": 6,
         "rata_rata_ketinggian_air": "10-80",
         "lama_genangan": 1,
         "rw_terdampak": 13,
         "kk_terdampak": "n.a",
         "jiwa_terdampak": "n.a",
         "korban_meninggal": 0,
         "korban_hilang": 0,
         "korban_luka_berat": 0,
         "korban_luka_ringan": 0,
         "jumlah_jiwa_pengungsi_tertinggi": 0,
         "jumlah_tempat_pengungsian": 4,
         "jumlah_nilai_kerugian": "n.a",
         "tahun": "2017",
         "_deepnote_index_column": 7
        },
        {
         "bulan": 9,
         "kecamatan": 1,
         "kelurahan": 1,
         "rata_rata_ketinggian_air": "10-80",
         "lama_genangan": 1,
         "rw_terdampak": 2,
         "kk_terdampak": "n.a",
         "jiwa_terdampak": "n.a",
         "korban_meninggal": 0,
         "korban_hilang": 0,
         "korban_luka_berat": 0,
         "korban_luka_ringan": 0,
         "jumlah_jiwa_pengungsi_tertinggi": 0,
         "jumlah_tempat_pengungsian": 9,
         "jumlah_nilai_kerugian": "n.a",
         "tahun": "2017",
         "_deepnote_index_column": 8
        },
        {
         "bulan": 10,
         "kecamatan": 8,
         "kelurahan": 11,
         "rata_rata_ketinggian_air": "10-105",
         "lama_genangan": 3,
         "rw_terdampak": 25,
         "kk_terdampak": "15",
         "jiwa_terdampak": "n.a",
         "korban_meninggal": 0,
         "korban_hilang": 0,
         "korban_luka_berat": 0,
         "korban_luka_ringan": 0,
         "jumlah_jiwa_pengungsi_tertinggi": 0,
         "jumlah_tempat_pengungsian": 0,
         "jumlah_nilai_kerugian": "n.a",
         "tahun": "2017",
         "_deepnote_index_column": 9
        },
        {
         "bulan": 11,
         "kecamatan": 17,
         "kelurahan": 37,
         "rata_rata_ketinggian_air": "10-150",
         "lama_genangan": 2,
         "rw_terdampak": 86,
         "kk_terdampak": "1935",
         "jiwa_terdampak": "6505",
         "korban_meninggal": 0,
         "korban_hilang": 0,
         "korban_luka_berat": 0,
         "korban_luka_ringan": 0,
         "jumlah_jiwa_pengungsi_tertinggi": 564,
         "jumlah_tempat_pengungsian": 3,
         "jumlah_nilai_kerugian": "n.a",
         "tahun": "2017",
         "_deepnote_index_column": 10
        },
        {
         "bulan": 12,
         "kecamatan": 19,
         "kelurahan": 26,
         "rata_rata_ketinggian_air": "10-70",
         "lama_genangan": 2,
         "rw_terdampak": 51,
         "kk_terdampak": "131",
         "jiwa_terdampak": "404",
         "korban_meninggal": 0,
         "korban_hilang": 0,
         "korban_luka_berat": 0,
         "korban_luka_ringan": 0,
         "jumlah_jiwa_pengungsi_tertinggi": 35,
         "jumlah_tempat_pengungsian": 0,
         "jumlah_nilai_kerugian": "n.a",
         "tahun": "2017",
         "_deepnote_index_column": 11
        }
       ]
      },
      "text/plain": "    bulan  kecamatan  kelurahan rata_rata_ketinggian_air  lama_genangan  \\\n0       1          4          5                    10-70              2   \n1       2         31         67                   10-250              5   \n2       3         20         40                    0-160              3   \n3       4         19         33                   10-200              1   \n4       5         15         25                    5-120              2   \n5       6          4          5                   10-110              1   \n6       7          6          8                    10-80              1   \n7       8          5          6                    10-80              1   \n8       9          1          1                    10-80              1   \n9      10          8         11                   10-105              3   \n10     11         17         37                   10-150              2   \n11     12         19         26                    10-70              2   \n\n    rw_terdampak kk_terdampak jiwa_terdampak  korban_meninggal  korban_hilang  \\\n0              7          n.a            n.a                 0              0   \n1            216         6967          19325                 6              0   \n2             95         3232          10166                 0              0   \n3             78          621           2131                 0              0   \n4             48         1056           3420                 0              0   \n5             17         1409           4547                 0              0   \n6             22          251            705                 0              0   \n7             13          n.a            n.a                 0              0   \n8              2          n.a            n.a                 0              0   \n9             25           15            n.a                 0              0   \n10            86         1935           6505                 0              0   \n11            51          131            404                 0              0   \n\n    korban_luka_berat  korban_luka_ringan  jumlah_jiwa_pengungsi_tertinggi  \\\n0                   0                   0                                0   \n1                   0                   0                             5858   \n2                   0                   0                             1870   \n3                   0                   0                              753   \n4                   0                   0                               20   \n5                   0                   0                                0   \n6                   0                   0                                0   \n7                   0                   0                                0   \n8                   0                   0                                0   \n9                   0                   0                                0   \n10                  0                   0                              564   \n11                  0                   0                               35   \n\n    jumlah_tempat_pengungsian jumlah_nilai_kerugian tahun  \n0                           0                   n.a  2017  \n1                          45                   n.a  2017  \n2                          27                   n.a  2017  \n3                          40                   n.a  2017  \n4                           0                   n.a  2017  \n5                           0                   n.a  2017  \n6                           6                   n.a  2017  \n7                           4                   n.a  2017  \n8                           9                   n.a  2017  \n9                           0                   n.a  2017  \n10                          3                   n.a  2017  \n11                          0                   n.a  2017  ",
      "text/html": "<div>\n<style scoped>\n    .dataframe tbody tr th:only-of-type {\n        vertical-align: middle;\n    }\n\n    .dataframe tbody tr th {\n        vertical-align: top;\n    }\n\n    .dataframe thead th {\n        text-align: right;\n    }\n</style>\n<table border=\"1\" class=\"dataframe\">\n  <thead>\n    <tr style=\"text-align: right;\">\n      <th></th>\n      <th>bulan</th>\n      <th>kecamatan</th>\n      <th>kelurahan</th>\n      <th>rata_rata_ketinggian_air</th>\n      <th>lama_genangan</th>\n      <th>rw_terdampak</th>\n      <th>kk_terdampak</th>\n      <th>jiwa_terdampak</th>\n      <th>korban_meninggal</th>\n      <th>korban_hilang</th>\n      <th>korban_luka_berat</th>\n      <th>korban_luka_ringan</th>\n      <th>jumlah_jiwa_pengungsi_tertinggi</th>\n      <th>jumlah_tempat_pengungsian</th>\n      <th>jumlah_nilai_kerugian</th>\n      <th>tahun</th>\n    </tr>\n  </thead>\n  <tbody>\n    <tr>\n      <th>0</th>\n      <td>1</td>\n      <td>4</td>\n      <td>5</td>\n      <td>10-70</td>\n      <td>2</td>\n      <td>7</td>\n      <td>n.a</td>\n      <td>n.a</td>\n      <td>0</td>\n      <td>0</td>\n      <td>0</td>\n      <td>0</td>\n      <td>0</td>\n      <td>0</td>\n      <td>n.a</td>\n      <td>2017</td>\n    </tr>\n    <tr>\n      <th>1</th>\n      <td>2</td>\n      <td>31</td>\n      <td>67</td>\n      <td>10-250</td>\n      <td>5</td>\n      <td>216</td>\n      <td>6967</td>\n      <td>19325</td>\n      <td>6</td>\n      <td>0</td>\n      <td>0</td>\n      <td>0</td>\n      <td>5858</td>\n      <td>45</td>\n      <td>n.a</td>\n      <td>2017</td>\n    </tr>\n    <tr>\n      <th>2</th>\n      <td>3</td>\n      <td>20</td>\n      <td>40</td>\n      <td>0-160</td>\n      <td>3</td>\n      <td>95</td>\n      <td>3232</td>\n      <td>10166</td>\n      <td>0</td>\n      <td>0</td>\n      <td>0</td>\n      <td>0</td>\n      <td>1870</td>\n      <td>27</td>\n      <td>n.a</td>\n      <td>2017</td>\n    </tr>\n    <tr>\n      <th>3</th>\n      <td>4</td>\n      <td>19</td>\n      <td>33</td>\n      <td>10-200</td>\n      <td>1</td>\n      <td>78</td>\n      <td>621</td>\n      <td>2131</td>\n      <td>0</td>\n      <td>0</td>\n      <td>0</td>\n      <td>0</td>\n      <td>753</td>\n      <td>40</td>\n      <td>n.a</td>\n      <td>2017</td>\n    </tr>\n    <tr>\n      <th>4</th>\n      <td>5</td>\n      <td>15</td>\n      <td>25</td>\n      <td>5-120</td>\n      <td>2</td>\n      <td>48</td>\n      <td>1056</td>\n      <td>3420</td>\n      <td>0</td>\n      <td>0</td>\n      <td>0</td>\n      <td>0</td>\n      <td>20</td>\n      <td>0</td>\n      <td>n.a</td>\n      <td>2017</td>\n    </tr>\n    <tr>\n      <th>5</th>\n      <td>6</td>\n      <td>4</td>\n      <td>5</td>\n      <td>10-110</td>\n      <td>1</td>\n      <td>17</td>\n      <td>1409</td>\n      <td>4547</td>\n      <td>0</td>\n      <td>0</td>\n      <td>0</td>\n      <td>0</td>\n      <td>0</td>\n      <td>0</td>\n      <td>n.a</td>\n      <td>2017</td>\n    </tr>\n    <tr>\n      <th>6</th>\n      <td>7</td>\n      <td>6</td>\n      <td>8</td>\n      <td>10-80</td>\n      <td>1</td>\n      <td>22</td>\n      <td>251</td>\n      <td>705</td>\n      <td>0</td>\n      <td>0</td>\n      <td>0</td>\n      <td>0</td>\n      <td>0</td>\n      <td>6</td>\n      <td>n.a</td>\n      <td>2017</td>\n    </tr>\n    <tr>\n      <th>7</th>\n      <td>8</td>\n      <td>5</td>\n      <td>6</td>\n      <td>10-80</td>\n      <td>1</td>\n      <td>13</td>\n      <td>n.a</td>\n      <td>n.a</td>\n      <td>0</td>\n      <td>0</td>\n      <td>0</td>\n      <td>0</td>\n      <td>0</td>\n      <td>4</td>\n      <td>n.a</td>\n      <td>2017</td>\n    </tr>\n    <tr>\n      <th>8</th>\n      <td>9</td>\n      <td>1</td>\n      <td>1</td>\n      <td>10-80</td>\n      <td>1</td>\n      <td>2</td>\n      <td>n.a</td>\n      <td>n.a</td>\n      <td>0</td>\n      <td>0</td>\n      <td>0</td>\n      <td>0</td>\n      <td>0</td>\n      <td>9</td>\n      <td>n.a</td>\n      <td>2017</td>\n    </tr>\n    <tr>\n      <th>9</th>\n      <td>10</td>\n      <td>8</td>\n      <td>11</td>\n      <td>10-105</td>\n      <td>3</td>\n      <td>25</td>\n      <td>15</td>\n      <td>n.a</td>\n      <td>0</td>\n      <td>0</td>\n      <td>0</td>\n      <td>0</td>\n      <td>0</td>\n      <td>0</td>\n      <td>n.a</td>\n      <td>2017</td>\n    </tr>\n    <tr>\n      <th>10</th>\n      <td>11</td>\n      <td>17</td>\n      <td>37</td>\n      <td>10-150</td>\n      <td>2</td>\n      <td>86</td>\n      <td>1935</td>\n      <td>6505</td>\n      <td>0</td>\n      <td>0</td>\n      <td>0</td>\n      <td>0</td>\n      <td>564</td>\n      <td>3</td>\n      <td>n.a</td>\n      <td>2017</td>\n    </tr>\n    <tr>\n      <th>11</th>\n      <td>12</td>\n      <td>19</td>\n      <td>26</td>\n      <td>10-70</td>\n      <td>2</td>\n      <td>51</td>\n      <td>131</td>\n      <td>404</td>\n      <td>0</td>\n      <td>0</td>\n      <td>0</td>\n      <td>0</td>\n      <td>35</td>\n      <td>0</td>\n      <td>n.a</td>\n      <td>2017</td>\n    </tr>\n  </tbody>\n</table>\n</div>"
     },
     "metadata": {}
    }
   ],
   "execution_count": null
  },
  {
   "cell_type": "code",
   "source": "data1['rata_rata_ketinggian_air'].replace('10-70','')",
   "metadata": {
    "cell_id": "c5e75abfeb6345b7a1840963e6474a9f",
    "tags": [],
    "deepnote_to_be_reexecuted": false,
    "source_hash": "7b6543cd",
    "execution_start": 1660821340491,
    "execution_millis": 6,
    "deepnote_cell_type": "code",
    "deepnote_cell_height": 342.5625,
    "deepnote_output_heights": [
     250.5625
    ]
   },
   "outputs": [
    {
     "output_type": "execute_result",
     "execution_count": 15,
     "data": {
      "text/plain": "0           \n1     10-250\n2      0-160\n3     10-200\n4      5-120\n5     10-110\n6      10-80\n7      10-80\n8      10-80\n9     10-105\n10    10-150\n11          \nName: rata_rata_ketinggian_air, dtype: object"
     },
     "metadata": {}
    }
   ],
   "execution_count": null
  },
  {
   "cell_type": "code",
   "metadata": {
    "cell_id": "dda74e352e0d48aaa17274281705025c",
    "tags": [],
    "deepnote_to_be_reexecuted": false,
    "source_hash": "dd4d6d80",
    "execution_start": 1660821232718,
    "execution_millis": 10448,
    "deepnote_cell_type": "code",
    "deepnote_cell_height": 117
   },
   "source": "Tahun2 = ['2018','2018','2018','2018','2018','2018','2018','2018','2018','2018','2018','2018']\ndata2[\"tahun\"] = Tahun2\n",
   "outputs": [],
   "execution_count": null
  },
  {
   "cell_type": "code",
   "metadata": {
    "cell_id": "db0e524ee2ef40f6b7a8d8008a666d39",
    "tags": [],
    "deepnote_to_be_reexecuted": false,
    "source_hash": "b541220d",
    "execution_start": 1660821232744,
    "execution_millis": 10431,
    "deepnote_cell_type": "code",
    "deepnote_cell_height": 99
   },
   "source": "Tahun3 = ['2019','2019','2019','2019','2019','2019','2019','2019','2019','2019','2019','2019']\ndata3[\"tahun\"] = Tahun3",
   "outputs": [],
   "execution_count": null
  },
  {
   "cell_type": "code",
   "metadata": {
    "cell_id": "526cccadaaff478f8bdd995d67083177",
    "tags": [],
    "deepnote_to_be_reexecuted": false,
    "source_hash": "c4ec57d0",
    "execution_start": 1660821232745,
    "execution_millis": 10433,
    "deepnote_cell_type": "code",
    "deepnote_cell_height": 99
   },
   "source": "Tahun4 = ['2020','2020','2020','2020','2020','2020','2020','2020','2020','2020','2020','2020']\ndata4[\"tahun\"] = Tahun4",
   "outputs": [],
   "execution_count": null
  },
  {
   "cell_type": "code",
   "metadata": {
    "cell_id": "5a4eeb3204114bb3aace938c0eae728f",
    "tags": [],
    "deepnote_to_be_reexecuted": false,
    "source_hash": "b93d355c",
    "execution_start": 1660821232745,
    "execution_millis": 1,
    "deepnote_cell_type": "code",
    "deepnote_cell_height": 94
   },
   "source": "frames = [data1, data2, data3,data4] \nresult = pd.concat(frames).drop_duplicates().reset_index(drop=True)",
   "outputs": [],
   "execution_count": null
  },
  {
   "cell_type": "code",
   "source": "#result.to_csv(r'rekap-banjir 2017-2020.csv', index=False)",
   "metadata": {
    "cell_id": "ffcefddd0f6d438288f1d4d06dfcf1b0",
    "tags": [],
    "deepnote_to_be_reexecuted": false,
    "source_hash": "8505bd9a",
    "execution_start": 1660821232747,
    "execution_millis": 1,
    "deepnote_cell_type": "code",
    "deepnote_cell_height": 76
   },
   "outputs": [],
   "execution_count": null
  },
  {
   "cell_type": "code",
   "source": "#df = pd.read_csv('rekap-banjir 2017-2020.csv')",
   "metadata": {
    "cell_id": "070929beec7c4fa6809a30fa30369a5a",
    "tags": [],
    "deepnote_to_be_reexecuted": false,
    "source_hash": "56de7836",
    "execution_start": 1660821232752,
    "execution_millis": 3,
    "deepnote_cell_type": "code",
    "deepnote_cell_height": 76
   },
   "outputs": [],
   "execution_count": null
  },
  {
   "cell_type": "code",
   "source": "#df",
   "metadata": {
    "cell_id": "68f682ec50e141d0bda3a7aed38a88f2",
    "tags": [],
    "deepnote_to_be_reexecuted": false,
    "source_hash": "71f030c7",
    "execution_start": 1660821232757,
    "execution_millis": 12,
    "deepnote_table_state": {
     "pageSize": 50,
     "pageIndex": 0,
     "filters": [],
     "sortBy": []
    },
    "deepnote_table_loading": false,
    "deepnote_table_invalid": false,
    "deepnote_cell_type": "code",
    "deepnote_cell_height": 76
   },
   "outputs": [],
   "execution_count": null
  },
  {
   "cell_type": "code",
   "metadata": {
    "cell_id": "8fd6e9a769bd4bc1afcb6f990a8c6b2f",
    "tags": [],
    "deepnote_to_be_reexecuted": false,
    "source_hash": "b623e53d",
    "execution_start": 1660821232770,
    "execution_millis": 13,
    "deepnote_cell_type": "code",
    "deepnote_cell_height": 76
   },
   "source": "",
   "outputs": [],
   "execution_count": null
  },
  {
   "cell_type": "markdown",
   "source": "<a style='text-decoration:none;line-height:16px;display:flex;color:#5B5B62;padding:10px;justify-content:end;' href='https://deepnote.com?utm_source=created-in-deepnote-cell&projectId=ca479469-d542-4a8c-8299-d24cc3aa1926' target=\"_blank\">\n<img alt='Created in deepnote.com' style='display:inline;max-height:16px;margin:0px;margin-right:7.5px;' src='data:image/svg+xml;base64,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' > </img>\nCreated in <span style='font-weight:600;margin-left:4px;'>Deepnote</span></a>",
   "metadata": {
    "tags": [],
    "created_in_deepnote_cell": true,
    "deepnote_cell_type": "markdown"
   }
  }
 ],
 "nbformat": 4,
 "nbformat_minor": 2,
 "metadata": {
  "orig_nbformat": 2,
  "deepnote": {},
  "deepnote_notebook_id": "7cec47f1-0ba4-4fa7-ae17-04ebc458e9fc",
  "deepnote_execution_queue": []
 }
}